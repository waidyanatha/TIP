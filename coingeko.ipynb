{
 "cells": [
  {
   "cell_type": "code",
   "execution_count": 73,
   "id": "bf94b9d6",
   "metadata": {},
   "outputs": [
    {
     "name": "stdout",
     "output_type": "stream",
     "text": [
      "Coin meta-data extraction load complete!\n"
     ]
    }
   ],
   "source": [
    "''' Get coin id, name, & symbol'''\n",
    "from requests import Request, Session\n",
    "from requests.exceptions import ConnectionError, Timeout, TooManyRedirects\n",
    "import json\n",
    "import pandas as pd\n",
    "\n",
    "\n",
    "url = 'https://api.coingecko.com/api/v3/coins/list'\n",
    "\n",
    "headers = {\n",
    "  'accepts': 'application/json',\n",
    "}\n",
    "\n",
    "session = Session()\n",
    "session.headers.update(headers)\n",
    "\n",
    "parameters = {\n",
    "    'include_platform':'false'\n",
    "}\n",
    "response = session.get(url, params=parameters)\n",
    "coins = json.loads(response.text)\n",
    "\n",
    "coins_md_df = pd.DataFrame(coins)\n",
    "coins_md_df.to_csv(\"./data/coin_list.csv\")\n",
    "print(\"Coin meta-data extraction load complete!\")\n"
   ]
  },
  {
   "cell_type": "code",
   "execution_count": 6,
   "id": "2c544bfb",
   "metadata": {},
   "outputs": [
    {
     "name": "stdout",
     "output_type": "stream",
     "text": [
      "date_time => 2022-06-01 00:00:00\n",
      "unix_timestamp =>  1654027200.0\n"
     ]
    }
   ],
   "source": [
    "''' convert date to unix timestamp '''\n",
    "import datetime\n",
    "import time\n",
    " \n",
    "# assigned regular string date\n",
    "date_time = datetime.datetime(2022, 6, 1, 0, 0)\n",
    " \n",
    "# print regular python date&time\n",
    "print(\"date_time =>\",date_time)\n",
    " \n",
    "# displaying unix timestamp after conversion\n",
    "print(\"unix_timestamp => \",\n",
    "      (time.mktime(date_time.timetuple())))"
   ]
  },
  {
   "cell_type": "code",
   "execution_count": 69,
   "id": "dc7add47",
   "metadata": {},
   "outputs": [
    {
     "name": "stdout",
     "output_type": "stream",
     "text": [
      "Generated 61 dates ending with 2022-06-01\n"
     ]
    }
   ],
   "source": [
    "''' Generate a list of dates for a range '''\n",
    "from datetime import date, timedelta\n",
    "import pandas as pd\n",
    "\n",
    "start_date = date(2022,4,1)\n",
    "end_date = date(2022,6,1)\n",
    "_l_dates = []\n",
    "while start_date < end_date:\n",
    "    _l_dates.append(start_date)\n",
    "    start_date += timedelta(days=1)\n",
    "print(\"Generated %d dates ending with %s\" % (len(_l_dates),str(end_date)))"
   ]
  },
  {
   "cell_type": "code",
   "execution_count": 72,
   "id": "ea647fae",
   "metadata": {
    "scrolled": true
   },
   "outputs": [
    {
     "name": "stdout",
     "output_type": "stream",
     "text": [
      "Extracting market cap data for bitcoin\n",
      "save data to  ./data/market_cap_bitcoin.csv\n",
      "Data load complete!\n"
     ]
    }
   ],
   "source": [
    "''' Extract selected coin market cap data usng CoinGeko API '''\n",
    "\n",
    "from requests import Request, Session\n",
    "from requests.exceptions import ConnectionError, Timeout, TooManyRedirects\n",
    "import json\n",
    "\n",
    "_l_symbols = [\"btc\", \"eth\", \"xrp\", \"bch\", \"ltc\", \"sol\", \"ada\"]\n",
    "_str_coin_id = \"bitcoin\"\n",
    "url = \"https://api.coingecko.com/api/v3/coins/\"+_str_coin_id+\"/history\"\n",
    "\n",
    "headers = {\n",
    "  'Accepts': 'application/json',\n",
    "}\n",
    "\n",
    "session = Session()\n",
    "session.headers.update(headers)\n",
    "_l_mdate = []\n",
    "_l_symbol = []\n",
    "_l_mcap = []\n",
    "try:\n",
    "    print(\"Extracting market cap data for %s\" % _str_coin_id)\n",
    "    for date in _l_dates:\n",
    "        parameters = {\n",
    "            'date': date.strftime(\"%d-%m-%Y\"),\n",
    "            'localization':'false',\n",
    "        }\n",
    "        data = []\n",
    "        response = session.get(url, params=parameters)\n",
    "        data = json.loads(response.text)\n",
    "        _l_mdate.append(date)\n",
    "        _l_symbol.append(data[\"symbol\"])\n",
    "        if \"market_data\" in data.keys():    \n",
    "            _l_mcap.append(data[\"market_data\"][\"market_cap\"][\"usd\"])\n",
    "        else:\n",
    "            _l_mcap.append(0)\n",
    "    market_df = pd.DataFrame({\"Date\" : _l_mdate,\n",
    "                              \"Symbol\" : _l_symbol,\n",
    "                              \"market_cap\" : _l_mcap\n",
    "                             })\n",
    "    \n",
    "    if market_df.shape[0] > 0:\n",
    "        _file_name = \"./data/market_cap_\"+_str_coin_id+\".csv\"\n",
    "        print(\"save data to \", _file_name)\n",
    "        market_df.to_csv(_file_name, sep=\",\")\n",
    "    print(\"Data load complete!\")\n",
    "\n",
    "except (ConnectionError, Timeout, TooManyRedirects) as e:\n",
    "    print(e)"
   ]
  },
  {
   "cell_type": "code",
   "execution_count": null,
   "id": "d0c32327",
   "metadata": {},
   "outputs": [],
   "source": []
  }
 ],
 "metadata": {
  "kernelspec": {
   "display_name": "Python 3 (ipykernel)",
   "language": "python",
   "name": "python3"
  },
  "language_info": {
   "codemirror_mode": {
    "name": "ipython",
    "version": 3
   },
   "file_extension": ".py",
   "mimetype": "text/x-python",
   "name": "python",
   "nbconvert_exporter": "python",
   "pygments_lexer": "ipython3",
   "version": "3.8.10"
  }
 },
 "nbformat": 4,
 "nbformat_minor": 5
}
