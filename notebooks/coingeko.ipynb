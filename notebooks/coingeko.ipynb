{
 "cells": [
  {
   "cell_type": "markdown",
   "id": "a7c84cf0",
   "metadata": {},
   "source": [
    "# Coingeko Data Extraction\n",
    "\n",
    "## Define the date range\n",
    "\n",
    "* Coingeko seems to only allow approximately 2 months of data for each pull.\n",
    "* Also the URL allows pulling for a single coin for a single day\n",
    "   * ```url=\"https://api.coingecko.com/api/v3/coins/\"+str(<coin_id>)+\"/history\"```\n",
    "\n",
    "The script below will generate a list of consecutive dates for a givent start and end date"
   ]
  },
  {
   "cell_type": "code",
   "execution_count": 1,
   "id": "dc7add47",
   "metadata": {},
   "outputs": [
    {
     "name": "stdout",
     "output_type": "stream",
     "text": [
      "Generated 69 dates from 2022-04-01 upto 2022-06-09\n"
     ]
    }
   ],
   "source": [
    "''' Initialize date range '''\n",
    "from datetime import date, timedelta\n",
    "import pandas as pd\n",
    "\n",
    "start_date = date(2022,4,1)\n",
    "end_date = date(2022,6,9)\n",
    "_date = start_date\n",
    "_l_dates = []\n",
    "while _date < end_date:\n",
    "    _l_dates.append(_date)\n",
    "    _date += timedelta(days=1)\n",
    "print(\"Generated %d dates from %s upto %s\" % (len(_l_dates),str(start_date),str(end_date)))"
   ]
  },
  {
   "cell_type": "markdown",
   "id": "0d984364",
   "metadata": {},
   "source": [
    "## Define the coin range\n",
    "Dictionary of coin symbols and ids (names) to extract market cap data\n",
    "* complete list is available in ```./data/coin_list.csv'```\n",
    "* file was extracted using coingeko API: ```url=\"https://api.coingecko.com/api/v3/coins/list\"```\n",
    "* see coin snippet in section __Get the list of coin meta data__ below"
   ]
  },
  {
   "cell_type": "code",
   "execution_count": 2,
   "id": "a40ab6ef",
   "metadata": {},
   "outputs": [],
   "source": [
    "''' Initialize coin list '''\n",
    "coins_dict = {\n",
    "    \"btc\" : \"bitcoin\",\n",
    "    \"eth\" : \"ethereum\",\n",
    "    \"bch\" : \"bitcoin_cash\",\n",
    "    \"ltc\" : \"litecoin\",\n",
    "    \"xrp\" : \"ripple\",\n",
    "    \"sol\" : \"solana\",\n",
    "    \"ada\" : \"cardano\",\n",
    "    \"bnb\" : \"binancecoin\"\n",
    "}"
   ]
  },
  {
   "cell_type": "markdown",
   "id": "525522a5",
   "metadata": {},
   "source": [
    "## Extract data\n",
    "* Pull data by looping through the coin dictionary and the date list\n",
    "* Data for each coin and date range is saved to a CSV ```./data/market_cap_<coin_id>_<start-date>_<end-date>.csv```"
   ]
  },
  {
   "cell_type": "code",
   "execution_count": 4,
   "id": "ea647fae",
   "metadata": {
    "scrolled": true
   },
   "outputs": [
    {
     "name": "stdout",
     "output_type": "stream",
     "text": [
      "Extracting market cap data for bitcoin\n",
      "Coin bitcoin: saving 69 records to ./data/market_cap_bitcoin_2022-04-01-2022-06-09.csv\n",
      "Extracting market cap data for ethereum\n",
      "Coin ethereum: saving 69 records to ./data/market_cap_ethereum_2022-04-01-2022-06-09.csv\n",
      "Extracting market cap data for bitcoin_cash\n",
      "Coin bitcoin_cash: saving 69 records to ./data/market_cap_bitcoin_cash_2022-04-01-2022-06-09.csv\n",
      "Extracting market cap data for litecoin\n",
      "Coin litecoin: saving 69 records to ./data/market_cap_litecoin_2022-04-01-2022-06-09.csv\n",
      "Extracting market cap data for ripple\n",
      "Coin ripple: saving 69 records to ./data/market_cap_ripple_2022-04-01-2022-06-09.csv\n",
      "Extracting market cap data for solana\n",
      "Coin solana: saving 69 records to ./data/market_cap_solana_2022-04-01-2022-06-09.csv\n",
      "Extracting market cap data for cardano\n",
      "Coin cardano: saving 69 records to ./data/market_cap_cardano_2022-04-01-2022-06-09.csv\n",
      "Data load complete!\n"
     ]
    }
   ],
   "source": [
    "''' Extract selected coin market cap data usng CoinGeko API '''\n",
    "\n",
    "from requests import Request, Session\n",
    "from requests.exceptions import ConnectionError, Timeout, TooManyRedirects\n",
    "import numpy as np\n",
    "import json\n",
    "import time\n",
    "import traceback\n",
    "\n",
    "headers = {\n",
    "  'Accepts': 'application/json',\n",
    "}\n",
    "\n",
    "try:\n",
    "    for coind_symbol, coin_id in coins_dict.items():\n",
    "        _l_marketcap_date = []\n",
    "        _l_marketcap_symbol = []\n",
    "        _l_marketcap_coin_id = []\n",
    "        _l_marketcap_value = []\n",
    "\n",
    "        print(\"Extracting market cap data for %s\" % coin_id)\n",
    "        for date in _l_dates:\n",
    "            session = Session()\n",
    "            session.headers.update(headers)\n",
    "            parameters = {\n",
    "                'date': date.strftime(\"%d-%m-%Y\"),\n",
    "                'localization':'false',\n",
    "            }\n",
    "            data = []\n",
    "            url = \"https://api.coingecko.com/api/v3/coins/\"+str(coin_id)+\"/history\"\n",
    "            response = session.get(url, params=parameters)\n",
    "            try:\n",
    "                data = json.loads(response.text)\n",
    "                _l_marketcap_date.append(date)\n",
    "                _l_marketcap_symbol.append(coind_symbol)\n",
    "                _l_marketcap_coin_id.append(coin_id)\n",
    "                if \"market_data\" in data.keys():\n",
    "                    _l_marketcap_value.append(data[\"market_data\"][\"market_cap\"][\"usd\"])\n",
    "                else:\n",
    "                    _l_marketcap_value.append(np.nan)\n",
    "            except Exception as err:\n",
    "                print(\"No data for %s and date: \" % (coin_id, str(date)))\n",
    "                print(\"[Error] \", err)\n",
    "                print(traceback.format_exc())\n",
    "                pass\n",
    "\n",
    "        market_df = pd.DataFrame({\"Date\" : _l_marketcap_date,\n",
    "                                  \"ID\" : _l_marketcap_coin_id,\n",
    "                                  \"Symbol\" : _l_marketcap_symbol,\n",
    "                                  \"market_cap\" : _l_marketcap_value\n",
    "                                 })\n",
    "        ''' Save the data to a CSV '''\n",
    "        if market_df.shape[0] > 0:\n",
    "            _file_name = \"../data/market_cap_\"+coin_id+\"_\"+str(start_date)+\"-\"+str(end_date)+\".csv\"\n",
    "            print(\"Coin %s: saving %d records to %s\" % (coin_id, market_df.shape[0],_file_name))\n",
    "            market_df.to_csv(_file_name, sep=\",\")\n",
    "\n",
    "        ''' sleep for 5 sec to avoid timing out '''\n",
    "        time.sleep(3) # Sleep for 3 seconds\n",
    "\n",
    "    print(\"Data load complete!\")\n",
    "\n",
    "except (ConnectionError, Timeout, TooManyRedirects) as e:\n",
    "    print(e)"
   ]
  },
  {
   "cell_type": "markdown",
   "id": "5232668d",
   "metadata": {},
   "source": [
    "## Get the list of coin meta data\n",
    "___SKIP THIS CELL IF DATA AREADY SAVED IN CSV___"
   ]
  },
  {
   "cell_type": "code",
   "execution_count": 73,
   "id": "bf94b9d6",
   "metadata": {},
   "outputs": [
    {
     "name": "stdout",
     "output_type": "stream",
     "text": [
      "Coin meta-data extraction load complete!\n"
     ]
    }
   ],
   "source": [
    "''' Get coin id, name, & symbol'''\n",
    "from requests import Request, Session\n",
    "from requests.exceptions import ConnectionError, Timeout, TooManyRedirects\n",
    "import json\n",
    "import pandas as pd\n",
    "import traceback\n",
    "\n",
    "try:\n",
    "    url = \"https://api.coingecko.com/api/v3/coins/list\"\n",
    "\n",
    "    headers = {\n",
    "        'accepts': 'application/json',\n",
    "    }\n",
    "\n",
    "    session = Session()\n",
    "    session.headers.update(headers)\n",
    "\n",
    "    parameters = {\n",
    "        'include_platform':'false'\n",
    "    }\n",
    "    response = session.get(url, params=parameters)\n",
    "    coins = json.loads(response.text)\n",
    "\n",
    "    coins_md_df = pd.DataFrame(coins)\n",
    "    _s_fname=\"../data/coin_list.csv\"\n",
    "    coins_md_df.to_csv(_s_fname)\n",
    "    print(\"Coin meta-data extraction load complete!\")\n",
    "    print(\"see file: \", _s_fname)\n",
    "\n",
    "except Exception as err:\n",
    "    print(\"[Error] \", err)\n",
    "    print(traceback.format_exc())\n"
   ]
  },
  {
   "cell_type": "markdown",
   "id": "59dd994c",
   "metadata": {},
   "source": [
    "## Utility Script\n",
    "Converts a date to unix timestamps that coingeko prefers for few other APIs"
   ]
  },
  {
   "cell_type": "code",
   "execution_count": 6,
   "id": "2c544bfb",
   "metadata": {},
   "outputs": [
    {
     "name": "stdout",
     "output_type": "stream",
     "text": [
      "date_time => 2022-06-01 00:00:00\n",
      "unix_timestamp =>  1654027200.0\n"
     ]
    }
   ],
   "source": [
    "''' convert date to unix timestamp '''\n",
    "import datetime\n",
    "import time\n",
    " \n",
    "# assigned regular string date\n",
    "date_time = datetime.datetime(2022, 6, 1, 0, 0)\n",
    " \n",
    "# print regular python date&time\n",
    "print(\"date_time =>\",date_time)\n",
    " \n",
    "# displaying unix timestamp after conversion\n",
    "print(\"unix_timestamp => \",\n",
    "      (time.mktime(date_time.timetuple())))"
   ]
  },
  {
   "cell_type": "code",
   "execution_count": null,
   "id": "d0c32327",
   "metadata": {},
   "outputs": [],
   "source": []
  }
 ],
 "metadata": {
  "kernelspec": {
   "display_name": "Python 3 (ipykernel)",
   "language": "python",
   "name": "python3"
  },
  "language_info": {
   "codemirror_mode": {
    "name": "ipython",
    "version": 3
   },
   "file_extension": ".py",
   "mimetype": "text/x-python",
   "name": "python",
   "nbconvert_exporter": "python",
   "pygments_lexer": "ipython3",
   "version": "3.8.10"
  }
 },
 "nbformat": 4,
 "nbformat_minor": 5
}
