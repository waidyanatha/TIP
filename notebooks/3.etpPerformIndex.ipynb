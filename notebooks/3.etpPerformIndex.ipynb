{
 "cells": [
  {
   "cell_type": "markdown",
   "id": "0094bf7c",
   "metadata": {},
   "source": [
    "# Index Performance Analysis\n",
    "\n",
    "Refer to the [Introduction](/home/gnewy/workspace/starxetp/notebooks/introduction.ipynb) on how to use the notebook.\n",
    "\n",
    "The intent of this notebook is to discuss the types of indeces and their potential to analyze an ETP's performance. Of particular interest are:\n",
    "\n",
    "1) Average Directional Index (ADX) &nbsp; 2) Sharpe ratio &nbsp; 3) Sortino ratio &nbsp; 4) Calmar ratio <br>\n",
    "5) Treynor ratio &nbsp; 6) Jensen’s alpha &nbsp; 7) Tracking error &nbsp; 8) Information ratio\n",
    "\n",
    "\n",
    "The methodology and their relevance are discussed in the subsequent sections\n",
    "\n",
    "### ETP market quality\n",
    "* Exchange Traded Product (ETP) investors would look at [five key metrics](https://www.ishares.com/us/insights/etf-trends/etp-market-quality-metrics) when assessing market quality. _For our purpose of designing the ETP we are only interested in the first three_.\n",
    "   1. ___Usage___: liquidity of an ETP is a key component of market quality - ETP trading volumes are important because increased liquidity can create a network effect; i.e. the most heavily traded ETPs are typically the cheapest to trade, which spurs even more ___usage___.\n",
    "   1. ___Tracking___: difference and volatility reflect an ETP's ability to deliver returns that are consistent its benchmark, as well as closely replicate benchmark performance consistently over time. An index ETP with high market quality should deliver this consistency in all market conditions.\n",
    "   1. ___Trading costs___: When the cost of rebalancing an ETP higher than a tolerance band to that of the ETP’s underlying holdings, or exhibits less sensitivity to stressed market conditions, it is a potential signal of high market quality.\n",
    "   1. ___Premium/discounts behavior___: ETP premiums and discounts in illiquid or volatile markets can indicate an ETP is providing price discovery—both signals of market quality.\n",
    "   1. ___Primary market efficiency___ - A diverse set of authorized participants and a stable platform are crucial for insight into the ETP’s market qualityfor because the ETP’s primary market operations must be efficient.\n",
    "* Preperations for the [Backtesting](https://teddykoker.com/2019/05/momentum-strategy-from-stocks-on-the-move-in-python/)\n"
   ]
  },
  {
   "cell_type": "code",
   "execution_count": 1,
   "id": "fe6edec7",
   "metadata": {},
   "outputs": [],
   "source": [
    "'''\n",
    "    WARNING CONTROL to display or ignore all warnings\n",
    "'''\n",
    "import warnings; warnings.simplefilter('default')     #switch betweeb 'default' and 'ignore'\n",
    "\n",
    "''' Set debug flag to view extended error messages; else set it to False to turn off debugging mode '''\n",
    "debug = True"
   ]
  },
  {
   "cell_type": "markdown",
   "id": "22b11f8e",
   "metadata": {},
   "source": [
    "## Load data\n",
    "\n",
    "* The current test dataset is from ___2021-01-01___ to ___01-06-2022___. At this stage the full dataset from the past decade and beyond in unavailable but will be made available in the subsequence phase to support the backtesting. It requires writing a script that will systematically retrieve the data because coindesk, for example, only allows small payloads of data at a time.\n",
    "* To filter the data set for a shorter time span, change the year (YYYY), month (m), and day (d) of the parameters\n",
    "   * start_dt (\"start date\") and _end_date (\"end date\")\n",
    "   * Example change the year, month, and day as you desire: \n",
    "      * ```start_dt = datetime.date(2022,1,1)``` &nbsp; &nbsp; &nbsp; &nbsp;# implies 2022 January 01; (must be ${\\ge}$ 2021 January 01)\n",
    "      * ```end_dt = datetime.date(2022,3,1)``` &nbsp; &nbsp; &nbsp; &nbsp; &nbsp; # implies 2022 March 01; (must be ${\\le}$ 2022 June 01)"
   ]
  },
  {
   "cell_type": "code",
   "execution_count": 2,
   "id": "49f89ca6",
   "metadata": {},
   "outputs": [
    {
     "name": "stdout",
     "output_type": "stream",
     "text": [
      "All packages in ExtractLoadTransform loaded successfully!\n",
      "All packages in ExtractLoadTransform loaded successfully!\n",
      "Loading and filtering data ... this may take a while.\n",
      "Loaded 419 rows Index(['Date', 'ID', 'Symbol', 'market_cap'], dtype='object')\n",
      "Data from 2022-01-01 to 2022-03-01 loaded and transformed into a pivot table with 60 rows complete!\n"
     ]
    }
   ],
   "source": [
    "import sys\n",
    "sys.path.insert(1, '../lib')\n",
    "import clsDataETL as etl\n",
    "import datetime\n",
    "\n",
    "'''\n",
    "    To filter data by a date range change the two date parameters below\n",
    "'''\n",
    "start_dt = datetime.date(2022,1,1)\n",
    "end_dt = datetime.date(2022,3,1)\n",
    "\n",
    "if debug:\n",
    "    import importlib\n",
    "    etl = importlib.reload(etl)\n",
    "\n",
    "''' Set the data source and temporal range '''\n",
    "_path = \"../data/market_cap_2021-01-01_2022-06-01/\"\n",
    "\n",
    "''' Initialize the dataETL class '''\n",
    "print(\"Loading and filtering data ... this may take a while.\")\n",
    "clsETL = etl.ExtractLoadTransform()\n",
    "\n",
    "''' Load data into dataframe '''\n",
    "rec_marketcap_df=clsETL.load_data(dataPath=_path, start_date=start_dt, end_date=end_dt)\n",
    "rec_marketcap_df.dropna(axis=0,how='any',subset=['market_cap'],inplace=True)\n",
    "print(\"Loaded %d rows %s\" % (rec_marketcap_df.shape[0],str(rec_marketcap_df.columns)))\n",
    "\n",
    "''' Transform data with coin ids in columns '''\n",
    "piv_marketcap_df = rec_marketcap_df.pivot_table(values=['market_cap'], index=rec_marketcap_df.Date, columns='ID', aggfunc='first')\n",
    "piv_marketcap_df.columns = piv_marketcap_df.columns.droplevel(0)\n",
    "piv_marketcap_df.dropna(axis=1,how='all', inplace=True)\n",
    "piv_marketcap_df.reset_index(inplace=True)\n",
    "\n",
    "print(\"Data from %s to %s loaded and transformed into a pivot table with %d rows complete!\" % (str(rec_marketcap_df.Date.min()),\n",
    "                                                                    str(rec_marketcap_df.Date.max()),\n",
    "                                                                    piv_marketcap_df.shape[0]))"
   ]
  },
  {
   "cell_type": "markdown",
   "id": "40ce1e5d",
   "metadata": {},
   "source": [
    "## Compute and Augment the Dataset\n",
    "\n",
    "The Simple Moving Average (SMAvg), Simple Moving Standard Deviation (SMStd), Simple Moving Sum (SMSum), and Momentum are essential for computing the indeces across the entire time series of ticker-wise market caps.\n",
    "\n",
    "Run this cell to augement the dataset with desired new values."
   ]
  },
  {
   "cell_type": "code",
   "execution_count": 3,
   "id": "522ebd38",
   "metadata": {},
   "outputs": [
    {
     "name": "stdout",
     "output_type": "stream",
     "text": [
      "simp_move_avg_market_cap has 419 non-empty rows\n",
      "simp_move_std_market_cap has 412 non-empty rows\n",
      "simp_move_sum_market_cap has 419 non-empty rows\n",
      "momentum_market_cap has 412 non-empty rows\n",
      "rolling value computations complete!\n"
     ]
    }
   ],
   "source": [
    "from datetime import date\n",
    "\n",
    "start_dt = date(2022,1,1)\n",
    "end_dt = date(2022,3,1)\n",
    "\n",
    "_cal_ops_dict = {\n",
    "    \"simp_move_avg\" : \"market_cap\",\n",
    "    \"simp_move_std\" : \"market_cap\",\n",
    "    \"simp_move_sum\" : \"market_cap\",\n",
    "    \"momentum\" : \"market_cap\",\n",
    "}\n",
    "_results_df = clsETL.get_rolling_measures(ticker_data=rec_marketcap_df,\n",
    "                                                rolling_window_length=7,\n",
    "                                                window_start_date = start_dt,\n",
    "                                                window_end_date = end_dt,\n",
    "                                                rolling_measure_dict = _cal_ops_dict,)\n",
    "_results_df.reset_index(inplace=True)\n",
    "''' Print the outputs '''\n",
    "for op_key in _cal_ops_dict.keys():\n",
    "    col_name = op_key+'_'+_cal_ops_dict[op_key]\n",
    "    col_count = _results_df.filter([col_name]).count(axis=0, numeric_only=True)\n",
    "    if _results_df[col_name].shape[0]>0:\n",
    "        print(\"%s has %d non-empty rows\"\n",
    "              % (col_name,col_count))\n",
    "# _results_df.to_csv('../data/rolling_values.csv')\n",
    "print(\"rolling value computations complete!\")\n"
   ]
  },
  {
   "cell_type": "markdown",
   "id": "4d983893",
   "metadata": {},
   "source": [
    "# COMPUTE Log ROR\n",
    "\n",
    "Next we must compute the Log ROR for the assets.  \n",
    "\n",
    "## Instantiate ETPreturns class"
   ]
  },
  {
   "cell_type": "code",
   "execution_count": 59,
   "id": "ecb42fdb",
   "metadata": {},
   "outputs": [
    {
     "name": "stdout",
     "output_type": "stream",
     "text": [
      "All packages in clsETPReturns loaded successfully!\n",
      "['__class__', '__delattr__', '__dict__', '__dir__', '__doc__', '__eq__', '__format__', '__ge__', '__getattribute__', '__gt__', '__hash__', '__init__', '__init_subclass__', '__le__', '__lt__', '__module__', '__ne__', '__new__', '__reduce__', '__reduce_ex__', '__repr__', '__setattr__', '__sizeof__', '__str__', '__subclasshook__', '__weakref__', 'days_offset', 'get_coin_cov_cor_coef_matrix', 'get_holding_period_returns', 'get_logarithmic_returns', 'get_simple_returns', 'maximize_weights', 'name', 'p_val', 'sum_weighted_returns', 'window_length']\n"
     ]
    }
   ],
   "source": [
    "import sys\n",
    "sys.path.insert(1, '../lib')\n",
    "import clsETPreturns as returns\n",
    "\n",
    "if debug:\n",
    "    import importlib\n",
    "    returns = importlib.reload(returns)\n",
    "\n",
    "data_name = \"coindesk\"\n",
    "clsROR = returns.RateOfReturns(name=data_name)\n",
    "print(dir(clsROR))"
   ]
  },
  {
   "cell_type": "markdown",
   "id": "e1f82735",
   "metadata": {},
   "source": [
    "## Top-N Assets\n",
    "\n",
    "The top-N Assets are selected on their statistical significance of being one standard deviation from the mean. After some testing this policy might be changed to taking the number of assets that are one or two standard deviations from the asset with the highest market-cap. Since the mean is inclined towards the assets with the highest market-cap it may not be significanlly different from the current approach.\n",
    "\n",
    "___This logic needs to be further investigated and improved because:___\n",
    "* a contineously downward or declining trend may require rebalancing based on not the top-N significant assets?\n",
    "* seected assets within one standard deviation might contain assets with a downward or declining trend\n",
    "\n",
    "In this cell we demonstrate the process of selecting the top-N market-cap assets based on their Log ROR and the statistical significance. \n",
    "1. Calculate the Log ROR of all the assets for each day: ${R(t,x_i)}$ = ${log \\left({R(t,x_i) \\over R(t+1,x_i)} \\right)}$\n",
    "1. Select the assets with market-cap ${R(t,x_i) \\le 0}$ because there is an increase in the market-cap value from the previous day ${t}$ to the next day ${t+1}$.\n",
    "1. From that list select the _top-N_ assets with the highest statistically significant negative log ROR.\n",
    "\n",
    "Run this cell to compute the top-N assets"
   ]
  },
  {
   "cell_type": "code",
   "execution_count": 60,
   "id": "04cca3ca",
   "metadata": {},
   "outputs": [
    {
     "name": "stdout",
     "output_type": "stream",
     "text": [
      "Completed getting 188 list with top assets\n"
     ]
    }
   ],
   "source": [
    "import numpy as np\n",
    "\n",
    "_kwargs = {'greater than': 0,\n",
    "            'max num coins': 5}\n",
    "#topN = 5\n",
    "''' get the log rate of returns '''\n",
    "actual_log_ror = clsROR.get_logarithmic_returns(_results_df, value_col_name='simp_move_avg_market_cap')\n",
    "\n",
    "_neg_log_df = actual_log_ror.copy()\n",
    "_neg_log_df.dropna(axis=0, how='any', inplace=True)\n",
    "_neg_log_df = _neg_log_df.sort_values(by=['Date','simp_move_avg_market_cap_ror'])\n",
    "_neg_log_df['simp_move_avg_market_cap_ror'] = _neg_log_df['simp_move_avg_market_cap_ror']*(-1)\n",
    "#_topNassets_df = clsETL.get_fixed_topN_assets(_neg_log_df, N=topN, val_col_name='ror')\n",
    "_topNassets_df = clsETL.get_significant_topN_assets(_neg_log_df,\n",
    "                                                    val_col_name='simp_move_avg_market_cap_ror',\n",
    "                                                    **_kwargs)\n",
    "_topNassets_df['simp_move_avg_market_cap_ror'] = _topNassets_df['simp_move_avg_market_cap_ror']*(-1)\n",
    "_topNassets_df.reset_index(inplace=True)\n",
    "print(\"Completed getting %d list with top assets\" % (_topNassets_df.shape[0]))"
   ]
  },
  {
   "cell_type": "markdown",
   "id": "55506283",
   "metadata": {},
   "source": [
    "### Plot the Top-N assets\n",
    "Run this cell to view the top-N assets that are selceted based on the criteria explained in the previous cell."
   ]
  },
  {
   "cell_type": "code",
   "execution_count": 62,
   "id": "ba07cea6",
   "metadata": {},
   "outputs": [
    {
     "data": {
      "application/vnd.plotly.v1+json": {
       "config": {
        "plotlyServerURL": "https://plot.ly"
       },
       "data": [
        {
         "customdata": [
          [
           "solana"
          ],
          [
           "cardano"
          ],
          [
           "ripple"
          ],
          [
           "bitcoin"
          ],
          [
           "litecoin"
          ],
          [
           "solana"
          ],
          [
           "cardano"
          ],
          [
           "ripple"
          ],
          [
           "bitcoin"
          ],
          [
           "solana"
          ],
          [
           "litecoin"
          ],
          [
           "ripple"
          ],
          [
           "cardano"
          ],
          [
           "bitcoin"
          ],
          [
           "solana"
          ],
          [
           "ethereum"
          ],
          [
           "litecoin"
          ],
          [
           "bitcoin"
          ],
          [
           "ripple"
          ],
          [
           "solana"
          ],
          [
           "ethereum"
          ],
          [
           "litecoin"
          ],
          [
           "bitcoin"
          ],
          [
           "ripple"
          ],
          [
           "cardano"
          ],
          [
           "solana"
          ],
          [
           "ethereum"
          ],
          [
           "litecoin"
          ],
          [
           "cardano"
          ],
          [
           "bitcoin"
          ],
          [
           "ripple"
          ],
          [
           "solana"
          ],
          [
           "ethereum"
          ],
          [
           "cardano"
          ],
          [
           "litecoin"
          ],
          [
           "ripple"
          ],
          [
           "solana"
          ],
          [
           "ethereum"
          ],
          [
           "litecoin"
          ],
          [
           "cardano"
          ],
          [
           "ripple"
          ],
          [
           "solana"
          ],
          [
           "ethereum"
          ],
          [
           "litecoin"
          ],
          [
           "cardano"
          ],
          [
           "bitcoin"
          ],
          [
           "ethereum"
          ],
          [
           "solana"
          ],
          [
           "ethereum"
          ],
          [
           "cardano"
          ],
          [
           "solana"
          ],
          [
           "ripple"
          ],
          [
           "bitcoin"
          ],
          [
           "ethereum"
          ],
          [
           "ripple"
          ],
          [
           "solana"
          ],
          [
           "ethereum"
          ],
          [
           "ripple"
          ],
          [
           "bitcoin"
          ],
          [
           "solana"
          ],
          [
           "ethereum"
          ],
          [
           "ripple"
          ],
          [
           "bitcoin"
          ],
          [
           "litecoin"
          ],
          [
           "solana"
          ],
          [
           "ethereum"
          ],
          [
           "litecoin"
          ],
          [
           "ripple"
          ],
          [
           "bitcoin"
          ],
          [
           "solana"
          ],
          [
           "ethereum"
          ],
          [
           "litecoin"
          ],
          [
           "ripple"
          ],
          [
           "bitcoin"
          ],
          [
           "solana"
          ],
          [
           "ethereum"
          ],
          [
           "litecoin"
          ],
          [
           "cardano"
          ],
          [
           "ripple"
          ],
          [
           "solana"
          ],
          [
           "cardano"
          ],
          [
           "litecoin"
          ],
          [
           "ethereum"
          ],
          [
           "ripple"
          ],
          [
           "solana"
          ],
          [
           "cardano"
          ],
          [
           "litecoin"
          ],
          [
           "ethereum"
          ],
          [
           "ripple"
          ],
          [
           "solana"
          ],
          [
           "litecoin"
          ],
          [
           "ethereum"
          ],
          [
           "cardano"
          ],
          [
           "ripple"
          ],
          [
           "solana"
          ],
          [
           "ethereum"
          ],
          [
           "litecoin"
          ],
          [
           "cardano"
          ],
          [
           "ripple"
          ],
          [
           "solana"
          ],
          [
           "cardano"
          ],
          [
           "litecoin"
          ],
          [
           "ripple"
          ],
          [
           "ethereum"
          ],
          [
           "cardano"
          ],
          [
           "solana"
          ],
          [
           "ripple"
          ],
          [
           "cardano"
          ],
          [
           "litecoin"
          ],
          [
           "cardano"
          ],
          [
           "ripple"
          ],
          [
           "solana"
          ],
          [
           "cardano"
          ],
          [
           "ethereum"
          ],
          [
           "solana"
          ],
          [
           "cardano"
          ],
          [
           "ethereum"
          ],
          [
           "solana"
          ],
          [
           "cardano"
          ],
          [
           "ethereum"
          ],
          [
           "litecoin"
          ],
          [
           "bitcoin"
          ],
          [
           "solana"
          ],
          [
           "cardano"
          ],
          [
           "litecoin"
          ],
          [
           "ethereum"
          ],
          [
           "bitcoin"
          ],
          [
           "ripple"
          ],
          [
           "solana"
          ],
          [
           "cardano"
          ],
          [
           "ripple"
          ],
          [
           "solana"
          ],
          [
           "cardano"
          ],
          [
           "litecoin"
          ],
          [
           "ripple"
          ],
          [
           "ethereum"
          ],
          [
           "litecoin"
          ],
          [
           "solana"
          ],
          [
           "cardano"
          ],
          [
           "ripple"
          ],
          [
           "bitcoin"
          ],
          [
           "litecoin"
          ],
          [
           "cardano"
          ],
          [
           "solana"
          ],
          [
           "bitcoin"
          ],
          [
           "litecoin"
          ],
          [
           "cardano"
          ],
          [
           "bitcoin"
          ],
          [
           "ethereum"
          ],
          [
           "solana"
          ],
          [
           "litecoin"
          ],
          [
           "cardano"
          ],
          [
           "bitcoin"
          ],
          [
           "ethereum"
          ],
          [
           "ripple"
          ],
          [
           "cardano"
          ],
          [
           "litecoin"
          ],
          [
           "bitcoin"
          ],
          [
           "solana"
          ],
          [
           "ethereum"
          ],
          [
           "ripple"
          ],
          [
           "cardano"
          ],
          [
           "litecoin"
          ],
          [
           "solana"
          ],
          [
           "ethereum"
          ],
          [
           "cardano"
          ],
          [
           "litecoin"
          ],
          [
           "ethereum"
          ],
          [
           "solana"
          ],
          [
           "ripple"
          ],
          [
           "cardano"
          ],
          [
           "litecoin"
          ],
          [
           "ethereum"
          ],
          [
           "ripple"
          ],
          [
           "bitcoin"
          ],
          [
           "cardano"
          ],
          [
           "litecoin"
          ],
          [
           "ripple"
          ],
          [
           "bitcoin"
          ],
          [
           "ethereum"
          ],
          [
           "cardano"
          ],
          [
           "ripple"
          ],
          [
           "litecoin"
          ],
          [
           "bitcoin"
          ],
          [
           "cardano"
          ],
          [
           "ripple"
          ],
          [
           "litecoin"
          ],
          [
           "solana"
          ]
         ],
         "hovertemplate": "variable=market_cap<br>Date=%{x|%B %d, %Y}<br>value=%{y}<br>ID=%{customdata[0]}<extra></extra>",
         "legendgroup": "market_cap",
         "marker": {
          "color": "#636efa",
          "symbol": "circle"
         },
         "mode": "markers",
         "name": "market_cap",
         "orientation": "v",
         "showlegend": true,
         "type": "scatter",
         "x": [
          "2022-01-04",
          "2022-01-04",
          "2022-01-04",
          "2022-01-04",
          "2022-01-04",
          "2022-01-05",
          "2022-01-05",
          "2022-01-05",
          "2022-01-05",
          "2022-01-06",
          "2022-01-06",
          "2022-01-06",
          "2022-01-06",
          "2022-01-06",
          "2022-01-07",
          "2022-01-07",
          "2022-01-07",
          "2022-01-07",
          "2022-01-07",
          "2022-01-08",
          "2022-01-08",
          "2022-01-08",
          "2022-01-08",
          "2022-01-08",
          "2022-01-08",
          "2022-01-09",
          "2022-01-09",
          "2022-01-09",
          "2022-01-09",
          "2022-01-09",
          "2022-01-09",
          "2022-01-10",
          "2022-01-10",
          "2022-01-10",
          "2022-01-10",
          "2022-01-10",
          "2022-01-11",
          "2022-01-11",
          "2022-01-11",
          "2022-01-11",
          "2022-01-11",
          "2022-01-12",
          "2022-01-12",
          "2022-01-12",
          "2022-01-12",
          "2022-01-12",
          "2022-01-13",
          "2022-01-13",
          "2022-01-14",
          "2022-01-14",
          "2022-01-14",
          "2022-01-14",
          "2022-01-14",
          "2022-01-19",
          "2022-01-19",
          "2022-01-20",
          "2022-01-20",
          "2022-01-20",
          "2022-01-20",
          "2022-01-21",
          "2022-01-21",
          "2022-01-21",
          "2022-01-21",
          "2022-01-21",
          "2022-01-22",
          "2022-01-22",
          "2022-01-22",
          "2022-01-22",
          "2022-01-22",
          "2022-01-23",
          "2022-01-23",
          "2022-01-23",
          "2022-01-23",
          "2022-01-23",
          "2022-01-24",
          "2022-01-24",
          "2022-01-24",
          "2022-01-24",
          "2022-01-24",
          "2022-01-25",
          "2022-01-25",
          "2022-01-25",
          "2022-01-25",
          "2022-01-25",
          "2022-01-26",
          "2022-01-26",
          "2022-01-26",
          "2022-01-26",
          "2022-01-26",
          "2022-01-27",
          "2022-01-27",
          "2022-01-27",
          "2022-01-27",
          "2022-01-27",
          "2022-01-28",
          "2022-01-28",
          "2022-01-28",
          "2022-01-28",
          "2022-01-28",
          "2022-01-29",
          "2022-01-29",
          "2022-01-29",
          "2022-01-29",
          "2022-01-29",
          "2022-01-31",
          "2022-01-31",
          "2022-01-31",
          "2022-02-01",
          "2022-02-01",
          "2022-02-03",
          "2022-02-03",
          "2022-02-12",
          "2022-02-12",
          "2022-02-12",
          "2022-02-13",
          "2022-02-13",
          "2022-02-13",
          "2022-02-14",
          "2022-02-14",
          "2022-02-14",
          "2022-02-14",
          "2022-02-14",
          "2022-02-15",
          "2022-02-15",
          "2022-02-15",
          "2022-02-15",
          "2022-02-15",
          "2022-02-15",
          "2022-02-16",
          "2022-02-16",
          "2022-02-16",
          "2022-02-17",
          "2022-02-17",
          "2022-02-17",
          "2022-02-17",
          "2022-02-17",
          "2022-02-18",
          "2022-02-18",
          "2022-02-18",
          "2022-02-18",
          "2022-02-18",
          "2022-02-19",
          "2022-02-19",
          "2022-02-19",
          "2022-02-19",
          "2022-02-20",
          "2022-02-20",
          "2022-02-20",
          "2022-02-20",
          "2022-02-20",
          "2022-02-21",
          "2022-02-21",
          "2022-02-21",
          "2022-02-21",
          "2022-02-21",
          "2022-02-22",
          "2022-02-22",
          "2022-02-22",
          "2022-02-22",
          "2022-02-22",
          "2022-02-22",
          "2022-02-23",
          "2022-02-23",
          "2022-02-23",
          "2022-02-23",
          "2022-02-24",
          "2022-02-24",
          "2022-02-24",
          "2022-02-24",
          "2022-02-24",
          "2022-02-25",
          "2022-02-25",
          "2022-02-25",
          "2022-02-25",
          "2022-02-25",
          "2022-02-26",
          "2022-02-26",
          "2022-02-26",
          "2022-02-26",
          "2022-02-26",
          "2022-02-27",
          "2022-02-27",
          "2022-02-27",
          "2022-02-27",
          "2022-02-28",
          "2022-02-28",
          "2022-02-28",
          "2022-02-28"
         ],
         "xaxis": "x",
         "y": [
          52886550470.82176,
          42579298186.5298,
          39667497742.72751,
          880330191985.1965,
          10309037335.052908,
          52272480718.14088,
          42361773516.50891,
          39372072384.767006,
          876242689666.1957,
          48184360964.1156,
          9451354999.259806,
          37016373098.11021,
          39972161973.40968,
          827723202715.1049,
          46854691785.8186,
          407652437129.1328,
          9497488956.849884,
          819522879407.0583,
          37364002396.49064,
          42610750948.59599,
          381283293110.7904,
          9118650890.96946,
          787735561341.1113,
          36426581574.17674,
          38940980400.86951,
          44680435604.26222,
          369734313550.987,
          9026522520.00248,
          38305510646.897575,
          792892599975.9554,
          35742954145.162506,
          43844556062.79441,
          375219467789.3698,
          37584527637.96972,
          9090631980.216145,
          35888908513.520424,
          42320546842.20343,
          367654760059.0176,
          8799832771.775192,
          36302150872.95676,
          35256497135.60703,
          43823867475.83328,
          387505881839.83,
          9128769311.538816,
          38098252395.75478,
          809621515508.4065,
          402763358249.81146,
          47534063482.95965,
          388039946028.0792,
          39819346582.17602,
          45924153329.20764,
          36738241655.41219,
          806510860231.8285,
          377918294939.4783,
          35928632965.60265,
          42848572759.496826,
          371296193085.122,
          35361191998.402435,
          790507925308.7825,
          40727678847.05303,
          360580494818.73,
          34534739952.51737,
          774235809673.4731,
          9148639908.843843,
          35070043876.86985,
          306644499897.7337,
          7981436304.824966,
          30525594005.19316,
          692855029162.9379,
          29665575896.047955,
          286799916366.57184,
          7545683309.881283,
          28567576973.56528,
          666220701468.4846,
          31290905178.53205,
          302626363351.5348,
          7767749118.80306,
          35957697983.57456,
          30045394326.185917,
          28909954628.237045,
          34308092836.127853,
          7642430989.02289,
          292022326101.0083,
          29396856512.62248,
          30084800205.77909,
          33519647999.373238,
          7528711286.299523,
          293702336549.67474,
          29620625747.012318,
          29243771848.310368,
          7471572251.990698,
          295723346868.75024,
          34783150528.86953,
          29801890236.89736,
          28179557560.867977,
          287829476402.6202,
          7432905213.60697,
          33601561740.91527,
          29129366194.81477,
          28786945733.92828,
          33733183103.563057,
          7616510082.740902,
          29287821638.57769,
          304305302571.33734,
          33352205324.627453,
          29427732656.729218,
          28850613224.01237,
          33717971205.78224,
          7609502523.441636,
          33051606754.56344,
          28766534259.757156,
          30597070580.09104,
          34703538693.84502,
          350133590835.08734,
          30347618773.26294,
          33875479735.022057,
          347517755313.83966,
          29672733160.79642,
          33537767336.502293,
          345252969326.4971,
          8787938472.04504,
          802059713029.3901,
          30784741416.87896,
          33725640380.821823,
          8693486478.793137,
          351368910987.00305,
          808280617642.0496,
          38448661595.62696,
          33579862333.60316,
          35679172598.208206,
          40834438279.59535,
          32707737720.154152,
          34925054508.5803,
          8942062959.015314,
          40187017225.8397,
          376071884044.5087,
          8096862166.69461,
          29918359231.26159,
          32776487178.54903,
          36963479625.06525,
          770096677778.6456,
          8017968577.635381,
          32059403498.594284,
          28828455911.8284,
          759881874201.3011,
          8066376368.090658,
          32017660308.182068,
          761447243939.9269,
          330814655802.00714,
          29209068299.47004,
          7723001947.133409,
          30150673034.05805,
          730381814665.4404,
          315015971538.73315,
          37317825787.82265,
          27688893323.616894,
          7244478418.750748,
          703004241590.1829,
          26727888651.40893,
          308836894427.69006,
          33972778766.692947,
          28644348109.42572,
          7497251391.913771,
          27744256745.68661,
          317004525462.3889,
          27987012931.084877,
          7386564709.743127,
          310997586955.65283,
          27294663661.65063,
          33701843282.350643,
          27380809087.285168,
          7266951117.198242,
          311533514951.14,
          33453595245.003597,
          727657714638.0917,
          28804358271.907227,
          7635550854.808023,
          36980776521.84238,
          745763194704.1796,
          333625150661.6757,
          28448195569.61312,
          35942263895.59888,
          7533185233.843067,
          741083625917.93,
          27574399427.75873,
          34581739036.304855,
          7184428503.067197,
          27360038516.30834
         ],
         "yaxis": "y"
        }
       ],
       "layout": {
        "legend": {
         "title": {
          "text": "variable"
         },
         "tracegroupgap": 0
        },
        "template": {
         "data": {
          "bar": [
           {
            "error_x": {
             "color": "#2a3f5f"
            },
            "error_y": {
             "color": "#2a3f5f"
            },
            "marker": {
             "line": {
              "color": "#E5ECF6",
              "width": 0.5
             },
             "pattern": {
              "fillmode": "overlay",
              "size": 10,
              "solidity": 0.2
             }
            },
            "type": "bar"
           }
          ],
          "barpolar": [
           {
            "marker": {
             "line": {
              "color": "#E5ECF6",
              "width": 0.5
             },
             "pattern": {
              "fillmode": "overlay",
              "size": 10,
              "solidity": 0.2
             }
            },
            "type": "barpolar"
           }
          ],
          "carpet": [
           {
            "aaxis": {
             "endlinecolor": "#2a3f5f",
             "gridcolor": "white",
             "linecolor": "white",
             "minorgridcolor": "white",
             "startlinecolor": "#2a3f5f"
            },
            "baxis": {
             "endlinecolor": "#2a3f5f",
             "gridcolor": "white",
             "linecolor": "white",
             "minorgridcolor": "white",
             "startlinecolor": "#2a3f5f"
            },
            "type": "carpet"
           }
          ],
          "choropleth": [
           {
            "colorbar": {
             "outlinewidth": 0,
             "ticks": ""
            },
            "type": "choropleth"
           }
          ],
          "contour": [
           {
            "colorbar": {
             "outlinewidth": 0,
             "ticks": ""
            },
            "colorscale": [
             [
              0,
              "#0d0887"
             ],
             [
              0.1111111111111111,
              "#46039f"
             ],
             [
              0.2222222222222222,
              "#7201a8"
             ],
             [
              0.3333333333333333,
              "#9c179e"
             ],
             [
              0.4444444444444444,
              "#bd3786"
             ],
             [
              0.5555555555555556,
              "#d8576b"
             ],
             [
              0.6666666666666666,
              "#ed7953"
             ],
             [
              0.7777777777777778,
              "#fb9f3a"
             ],
             [
              0.8888888888888888,
              "#fdca26"
             ],
             [
              1,
              "#f0f921"
             ]
            ],
            "type": "contour"
           }
          ],
          "contourcarpet": [
           {
            "colorbar": {
             "outlinewidth": 0,
             "ticks": ""
            },
            "type": "contourcarpet"
           }
          ],
          "heatmap": [
           {
            "colorbar": {
             "outlinewidth": 0,
             "ticks": ""
            },
            "colorscale": [
             [
              0,
              "#0d0887"
             ],
             [
              0.1111111111111111,
              "#46039f"
             ],
             [
              0.2222222222222222,
              "#7201a8"
             ],
             [
              0.3333333333333333,
              "#9c179e"
             ],
             [
              0.4444444444444444,
              "#bd3786"
             ],
             [
              0.5555555555555556,
              "#d8576b"
             ],
             [
              0.6666666666666666,
              "#ed7953"
             ],
             [
              0.7777777777777778,
              "#fb9f3a"
             ],
             [
              0.8888888888888888,
              "#fdca26"
             ],
             [
              1,
              "#f0f921"
             ]
            ],
            "type": "heatmap"
           }
          ],
          "heatmapgl": [
           {
            "colorbar": {
             "outlinewidth": 0,
             "ticks": ""
            },
            "colorscale": [
             [
              0,
              "#0d0887"
             ],
             [
              0.1111111111111111,
              "#46039f"
             ],
             [
              0.2222222222222222,
              "#7201a8"
             ],
             [
              0.3333333333333333,
              "#9c179e"
             ],
             [
              0.4444444444444444,
              "#bd3786"
             ],
             [
              0.5555555555555556,
              "#d8576b"
             ],
             [
              0.6666666666666666,
              "#ed7953"
             ],
             [
              0.7777777777777778,
              "#fb9f3a"
             ],
             [
              0.8888888888888888,
              "#fdca26"
             ],
             [
              1,
              "#f0f921"
             ]
            ],
            "type": "heatmapgl"
           }
          ],
          "histogram": [
           {
            "marker": {
             "pattern": {
              "fillmode": "overlay",
              "size": 10,
              "solidity": 0.2
             }
            },
            "type": "histogram"
           }
          ],
          "histogram2d": [
           {
            "colorbar": {
             "outlinewidth": 0,
             "ticks": ""
            },
            "colorscale": [
             [
              0,
              "#0d0887"
             ],
             [
              0.1111111111111111,
              "#46039f"
             ],
             [
              0.2222222222222222,
              "#7201a8"
             ],
             [
              0.3333333333333333,
              "#9c179e"
             ],
             [
              0.4444444444444444,
              "#bd3786"
             ],
             [
              0.5555555555555556,
              "#d8576b"
             ],
             [
              0.6666666666666666,
              "#ed7953"
             ],
             [
              0.7777777777777778,
              "#fb9f3a"
             ],
             [
              0.8888888888888888,
              "#fdca26"
             ],
             [
              1,
              "#f0f921"
             ]
            ],
            "type": "histogram2d"
           }
          ],
          "histogram2dcontour": [
           {
            "colorbar": {
             "outlinewidth": 0,
             "ticks": ""
            },
            "colorscale": [
             [
              0,
              "#0d0887"
             ],
             [
              0.1111111111111111,
              "#46039f"
             ],
             [
              0.2222222222222222,
              "#7201a8"
             ],
             [
              0.3333333333333333,
              "#9c179e"
             ],
             [
              0.4444444444444444,
              "#bd3786"
             ],
             [
              0.5555555555555556,
              "#d8576b"
             ],
             [
              0.6666666666666666,
              "#ed7953"
             ],
             [
              0.7777777777777778,
              "#fb9f3a"
             ],
             [
              0.8888888888888888,
              "#fdca26"
             ],
             [
              1,
              "#f0f921"
             ]
            ],
            "type": "histogram2dcontour"
           }
          ],
          "mesh3d": [
           {
            "colorbar": {
             "outlinewidth": 0,
             "ticks": ""
            },
            "type": "mesh3d"
           }
          ],
          "parcoords": [
           {
            "line": {
             "colorbar": {
              "outlinewidth": 0,
              "ticks": ""
             }
            },
            "type": "parcoords"
           }
          ],
          "pie": [
           {
            "automargin": true,
            "type": "pie"
           }
          ],
          "scatter": [
           {
            "fillpattern": {
             "fillmode": "overlay",
             "size": 10,
             "solidity": 0.2
            },
            "type": "scatter"
           }
          ],
          "scatter3d": [
           {
            "line": {
             "colorbar": {
              "outlinewidth": 0,
              "ticks": ""
             }
            },
            "marker": {
             "colorbar": {
              "outlinewidth": 0,
              "ticks": ""
             }
            },
            "type": "scatter3d"
           }
          ],
          "scattercarpet": [
           {
            "marker": {
             "colorbar": {
              "outlinewidth": 0,
              "ticks": ""
             }
            },
            "type": "scattercarpet"
           }
          ],
          "scattergeo": [
           {
            "marker": {
             "colorbar": {
              "outlinewidth": 0,
              "ticks": ""
             }
            },
            "type": "scattergeo"
           }
          ],
          "scattergl": [
           {
            "marker": {
             "colorbar": {
              "outlinewidth": 0,
              "ticks": ""
             }
            },
            "type": "scattergl"
           }
          ],
          "scattermapbox": [
           {
            "marker": {
             "colorbar": {
              "outlinewidth": 0,
              "ticks": ""
             }
            },
            "type": "scattermapbox"
           }
          ],
          "scatterpolar": [
           {
            "marker": {
             "colorbar": {
              "outlinewidth": 0,
              "ticks": ""
             }
            },
            "type": "scatterpolar"
           }
          ],
          "scatterpolargl": [
           {
            "marker": {
             "colorbar": {
              "outlinewidth": 0,
              "ticks": ""
             }
            },
            "type": "scatterpolargl"
           }
          ],
          "scatterternary": [
           {
            "marker": {
             "colorbar": {
              "outlinewidth": 0,
              "ticks": ""
             }
            },
            "type": "scatterternary"
           }
          ],
          "surface": [
           {
            "colorbar": {
             "outlinewidth": 0,
             "ticks": ""
            },
            "colorscale": [
             [
              0,
              "#0d0887"
             ],
             [
              0.1111111111111111,
              "#46039f"
             ],
             [
              0.2222222222222222,
              "#7201a8"
             ],
             [
              0.3333333333333333,
              "#9c179e"
             ],
             [
              0.4444444444444444,
              "#bd3786"
             ],
             [
              0.5555555555555556,
              "#d8576b"
             ],
             [
              0.6666666666666666,
              "#ed7953"
             ],
             [
              0.7777777777777778,
              "#fb9f3a"
             ],
             [
              0.8888888888888888,
              "#fdca26"
             ],
             [
              1,
              "#f0f921"
             ]
            ],
            "type": "surface"
           }
          ],
          "table": [
           {
            "cells": {
             "fill": {
              "color": "#EBF0F8"
             },
             "line": {
              "color": "white"
             }
            },
            "header": {
             "fill": {
              "color": "#C8D4E3"
             },
             "line": {
              "color": "white"
             }
            },
            "type": "table"
           }
          ]
         },
         "layout": {
          "annotationdefaults": {
           "arrowcolor": "#2a3f5f",
           "arrowhead": 0,
           "arrowwidth": 1
          },
          "autotypenumbers": "strict",
          "coloraxis": {
           "colorbar": {
            "outlinewidth": 0,
            "ticks": ""
           }
          },
          "colorscale": {
           "diverging": [
            [
             0,
             "#8e0152"
            ],
            [
             0.1,
             "#c51b7d"
            ],
            [
             0.2,
             "#de77ae"
            ],
            [
             0.3,
             "#f1b6da"
            ],
            [
             0.4,
             "#fde0ef"
            ],
            [
             0.5,
             "#f7f7f7"
            ],
            [
             0.6,
             "#e6f5d0"
            ],
            [
             0.7,
             "#b8e186"
            ],
            [
             0.8,
             "#7fbc41"
            ],
            [
             0.9,
             "#4d9221"
            ],
            [
             1,
             "#276419"
            ]
           ],
           "sequential": [
            [
             0,
             "#0d0887"
            ],
            [
             0.1111111111111111,
             "#46039f"
            ],
            [
             0.2222222222222222,
             "#7201a8"
            ],
            [
             0.3333333333333333,
             "#9c179e"
            ],
            [
             0.4444444444444444,
             "#bd3786"
            ],
            [
             0.5555555555555556,
             "#d8576b"
            ],
            [
             0.6666666666666666,
             "#ed7953"
            ],
            [
             0.7777777777777778,
             "#fb9f3a"
            ],
            [
             0.8888888888888888,
             "#fdca26"
            ],
            [
             1,
             "#f0f921"
            ]
           ],
           "sequentialminus": [
            [
             0,
             "#0d0887"
            ],
            [
             0.1111111111111111,
             "#46039f"
            ],
            [
             0.2222222222222222,
             "#7201a8"
            ],
            [
             0.3333333333333333,
             "#9c179e"
            ],
            [
             0.4444444444444444,
             "#bd3786"
            ],
            [
             0.5555555555555556,
             "#d8576b"
            ],
            [
             0.6666666666666666,
             "#ed7953"
            ],
            [
             0.7777777777777778,
             "#fb9f3a"
            ],
            [
             0.8888888888888888,
             "#fdca26"
            ],
            [
             1,
             "#f0f921"
            ]
           ]
          },
          "colorway": [
           "#636efa",
           "#EF553B",
           "#00cc96",
           "#ab63fa",
           "#FFA15A",
           "#19d3f3",
           "#FF6692",
           "#B6E880",
           "#FF97FF",
           "#FECB52"
          ],
          "font": {
           "color": "#2a3f5f"
          },
          "geo": {
           "bgcolor": "white",
           "lakecolor": "white",
           "landcolor": "#E5ECF6",
           "showlakes": true,
           "showland": true,
           "subunitcolor": "white"
          },
          "hoverlabel": {
           "align": "left"
          },
          "hovermode": "closest",
          "mapbox": {
           "style": "light"
          },
          "paper_bgcolor": "white",
          "plot_bgcolor": "#E5ECF6",
          "polar": {
           "angularaxis": {
            "gridcolor": "white",
            "linecolor": "white",
            "ticks": ""
           },
           "bgcolor": "#E5ECF6",
           "radialaxis": {
            "gridcolor": "white",
            "linecolor": "white",
            "ticks": ""
           }
          },
          "scene": {
           "xaxis": {
            "backgroundcolor": "#E5ECF6",
            "gridcolor": "white",
            "gridwidth": 2,
            "linecolor": "white",
            "showbackground": true,
            "ticks": "",
            "zerolinecolor": "white"
           },
           "yaxis": {
            "backgroundcolor": "#E5ECF6",
            "gridcolor": "white",
            "gridwidth": 2,
            "linecolor": "white",
            "showbackground": true,
            "ticks": "",
            "zerolinecolor": "white"
           },
           "zaxis": {
            "backgroundcolor": "#E5ECF6",
            "gridcolor": "white",
            "gridwidth": 2,
            "linecolor": "white",
            "showbackground": true,
            "ticks": "",
            "zerolinecolor": "white"
           }
          },
          "shapedefaults": {
           "line": {
            "color": "#2a3f5f"
           }
          },
          "ternary": {
           "aaxis": {
            "gridcolor": "white",
            "linecolor": "white",
            "ticks": ""
           },
           "baxis": {
            "gridcolor": "white",
            "linecolor": "white",
            "ticks": ""
           },
           "bgcolor": "#E5ECF6",
           "caxis": {
            "gridcolor": "white",
            "linecolor": "white",
            "ticks": ""
           }
          },
          "title": {
           "x": 0.05
          },
          "xaxis": {
           "automargin": true,
           "gridcolor": "white",
           "linecolor": "white",
           "ticks": "",
           "title": {
            "standoff": 15
           },
           "zerolinecolor": "white",
           "zerolinewidth": 2
          },
          "yaxis": {
           "automargin": true,
           "gridcolor": "white",
           "linecolor": "white",
           "ticks": "",
           "title": {
            "standoff": 15
           },
           "zerolinecolor": "white",
           "zerolinewidth": 2
          }
         }
        },
        "title": {
         "text": "Top-N statistically significant Assets 2022-01-04 to 2022-02-28"
        },
        "xaxis": {
         "anchor": "y",
         "domain": [
          0,
          1
         ],
         "dtick": "M1",
         "tickformat": "%b\n%Y",
         "title": {
          "text": "Date"
         }
        },
        "yaxis": {
         "anchor": "x",
         "domain": [
          0,
          1
         ],
         "title": {
          "text": "value"
         }
        }
       }
      },
      "text/html": [
       "<div>                            <div id=\"cd5652fc-3fc1-4707-bb44-473d7ab676b3\" class=\"plotly-graph-div\" style=\"height:525px; width:100%;\"></div>            <script type=\"text/javascript\">                require([\"plotly\"], function(Plotly) {                    window.PLOTLYENV=window.PLOTLYENV || {};                                    if (document.getElementById(\"cd5652fc-3fc1-4707-bb44-473d7ab676b3\")) {                    Plotly.newPlot(                        \"cd5652fc-3fc1-4707-bb44-473d7ab676b3\",                        [{\"customdata\":[[\"solana\"],[\"cardano\"],[\"ripple\"],[\"bitcoin\"],[\"litecoin\"],[\"solana\"],[\"cardano\"],[\"ripple\"],[\"bitcoin\"],[\"solana\"],[\"litecoin\"],[\"ripple\"],[\"cardano\"],[\"bitcoin\"],[\"solana\"],[\"ethereum\"],[\"litecoin\"],[\"bitcoin\"],[\"ripple\"],[\"solana\"],[\"ethereum\"],[\"litecoin\"],[\"bitcoin\"],[\"ripple\"],[\"cardano\"],[\"solana\"],[\"ethereum\"],[\"litecoin\"],[\"cardano\"],[\"bitcoin\"],[\"ripple\"],[\"solana\"],[\"ethereum\"],[\"cardano\"],[\"litecoin\"],[\"ripple\"],[\"solana\"],[\"ethereum\"],[\"litecoin\"],[\"cardano\"],[\"ripple\"],[\"solana\"],[\"ethereum\"],[\"litecoin\"],[\"cardano\"],[\"bitcoin\"],[\"ethereum\"],[\"solana\"],[\"ethereum\"],[\"cardano\"],[\"solana\"],[\"ripple\"],[\"bitcoin\"],[\"ethereum\"],[\"ripple\"],[\"solana\"],[\"ethereum\"],[\"ripple\"],[\"bitcoin\"],[\"solana\"],[\"ethereum\"],[\"ripple\"],[\"bitcoin\"],[\"litecoin\"],[\"solana\"],[\"ethereum\"],[\"litecoin\"],[\"ripple\"],[\"bitcoin\"],[\"solana\"],[\"ethereum\"],[\"litecoin\"],[\"ripple\"],[\"bitcoin\"],[\"solana\"],[\"ethereum\"],[\"litecoin\"],[\"cardano\"],[\"ripple\"],[\"solana\"],[\"cardano\"],[\"litecoin\"],[\"ethereum\"],[\"ripple\"],[\"solana\"],[\"cardano\"],[\"litecoin\"],[\"ethereum\"],[\"ripple\"],[\"solana\"],[\"litecoin\"],[\"ethereum\"],[\"cardano\"],[\"ripple\"],[\"solana\"],[\"ethereum\"],[\"litecoin\"],[\"cardano\"],[\"ripple\"],[\"solana\"],[\"cardano\"],[\"litecoin\"],[\"ripple\"],[\"ethereum\"],[\"cardano\"],[\"solana\"],[\"ripple\"],[\"cardano\"],[\"litecoin\"],[\"cardano\"],[\"ripple\"],[\"solana\"],[\"cardano\"],[\"ethereum\"],[\"solana\"],[\"cardano\"],[\"ethereum\"],[\"solana\"],[\"cardano\"],[\"ethereum\"],[\"litecoin\"],[\"bitcoin\"],[\"solana\"],[\"cardano\"],[\"litecoin\"],[\"ethereum\"],[\"bitcoin\"],[\"ripple\"],[\"solana\"],[\"cardano\"],[\"ripple\"],[\"solana\"],[\"cardano\"],[\"litecoin\"],[\"ripple\"],[\"ethereum\"],[\"litecoin\"],[\"solana\"],[\"cardano\"],[\"ripple\"],[\"bitcoin\"],[\"litecoin\"],[\"cardano\"],[\"solana\"],[\"bitcoin\"],[\"litecoin\"],[\"cardano\"],[\"bitcoin\"],[\"ethereum\"],[\"solana\"],[\"litecoin\"],[\"cardano\"],[\"bitcoin\"],[\"ethereum\"],[\"ripple\"],[\"cardano\"],[\"litecoin\"],[\"bitcoin\"],[\"solana\"],[\"ethereum\"],[\"ripple\"],[\"cardano\"],[\"litecoin\"],[\"solana\"],[\"ethereum\"],[\"cardano\"],[\"litecoin\"],[\"ethereum\"],[\"solana\"],[\"ripple\"],[\"cardano\"],[\"litecoin\"],[\"ethereum\"],[\"ripple\"],[\"bitcoin\"],[\"cardano\"],[\"litecoin\"],[\"ripple\"],[\"bitcoin\"],[\"ethereum\"],[\"cardano\"],[\"ripple\"],[\"litecoin\"],[\"bitcoin\"],[\"cardano\"],[\"ripple\"],[\"litecoin\"],[\"solana\"]],\"hovertemplate\":\"variable=market_cap<br>Date=%{x|%B %d, %Y}<br>value=%{y}<br>ID=%{customdata[0]}<extra></extra>\",\"legendgroup\":\"market_cap\",\"marker\":{\"color\":\"#636efa\",\"symbol\":\"circle\"},\"mode\":\"markers\",\"name\":\"market_cap\",\"orientation\":\"v\",\"showlegend\":true,\"x\":[\"2022-01-04\",\"2022-01-04\",\"2022-01-04\",\"2022-01-04\",\"2022-01-04\",\"2022-01-05\",\"2022-01-05\",\"2022-01-05\",\"2022-01-05\",\"2022-01-06\",\"2022-01-06\",\"2022-01-06\",\"2022-01-06\",\"2022-01-06\",\"2022-01-07\",\"2022-01-07\",\"2022-01-07\",\"2022-01-07\",\"2022-01-07\",\"2022-01-08\",\"2022-01-08\",\"2022-01-08\",\"2022-01-08\",\"2022-01-08\",\"2022-01-08\",\"2022-01-09\",\"2022-01-09\",\"2022-01-09\",\"2022-01-09\",\"2022-01-09\",\"2022-01-09\",\"2022-01-10\",\"2022-01-10\",\"2022-01-10\",\"2022-01-10\",\"2022-01-10\",\"2022-01-11\",\"2022-01-11\",\"2022-01-11\",\"2022-01-11\",\"2022-01-11\",\"2022-01-12\",\"2022-01-12\",\"2022-01-12\",\"2022-01-12\",\"2022-01-12\",\"2022-01-13\",\"2022-01-13\",\"2022-01-14\",\"2022-01-14\",\"2022-01-14\",\"2022-01-14\",\"2022-01-14\",\"2022-01-19\",\"2022-01-19\",\"2022-01-20\",\"2022-01-20\",\"2022-01-20\",\"2022-01-20\",\"2022-01-21\",\"2022-01-21\",\"2022-01-21\",\"2022-01-21\",\"2022-01-21\",\"2022-01-22\",\"2022-01-22\",\"2022-01-22\",\"2022-01-22\",\"2022-01-22\",\"2022-01-23\",\"2022-01-23\",\"2022-01-23\",\"2022-01-23\",\"2022-01-23\",\"2022-01-24\",\"2022-01-24\",\"2022-01-24\",\"2022-01-24\",\"2022-01-24\",\"2022-01-25\",\"2022-01-25\",\"2022-01-25\",\"2022-01-25\",\"2022-01-25\",\"2022-01-26\",\"2022-01-26\",\"2022-01-26\",\"2022-01-26\",\"2022-01-26\",\"2022-01-27\",\"2022-01-27\",\"2022-01-27\",\"2022-01-27\",\"2022-01-27\",\"2022-01-28\",\"2022-01-28\",\"2022-01-28\",\"2022-01-28\",\"2022-01-28\",\"2022-01-29\",\"2022-01-29\",\"2022-01-29\",\"2022-01-29\",\"2022-01-29\",\"2022-01-31\",\"2022-01-31\",\"2022-01-31\",\"2022-02-01\",\"2022-02-01\",\"2022-02-03\",\"2022-02-03\",\"2022-02-12\",\"2022-02-12\",\"2022-02-12\",\"2022-02-13\",\"2022-02-13\",\"2022-02-13\",\"2022-02-14\",\"2022-02-14\",\"2022-02-14\",\"2022-02-14\",\"2022-02-14\",\"2022-02-15\",\"2022-02-15\",\"2022-02-15\",\"2022-02-15\",\"2022-02-15\",\"2022-02-15\",\"2022-02-16\",\"2022-02-16\",\"2022-02-16\",\"2022-02-17\",\"2022-02-17\",\"2022-02-17\",\"2022-02-17\",\"2022-02-17\",\"2022-02-18\",\"2022-02-18\",\"2022-02-18\",\"2022-02-18\",\"2022-02-18\",\"2022-02-19\",\"2022-02-19\",\"2022-02-19\",\"2022-02-19\",\"2022-02-20\",\"2022-02-20\",\"2022-02-20\",\"2022-02-20\",\"2022-02-20\",\"2022-02-21\",\"2022-02-21\",\"2022-02-21\",\"2022-02-21\",\"2022-02-21\",\"2022-02-22\",\"2022-02-22\",\"2022-02-22\",\"2022-02-22\",\"2022-02-22\",\"2022-02-22\",\"2022-02-23\",\"2022-02-23\",\"2022-02-23\",\"2022-02-23\",\"2022-02-24\",\"2022-02-24\",\"2022-02-24\",\"2022-02-24\",\"2022-02-24\",\"2022-02-25\",\"2022-02-25\",\"2022-02-25\",\"2022-02-25\",\"2022-02-25\",\"2022-02-26\",\"2022-02-26\",\"2022-02-26\",\"2022-02-26\",\"2022-02-26\",\"2022-02-27\",\"2022-02-27\",\"2022-02-27\",\"2022-02-27\",\"2022-02-28\",\"2022-02-28\",\"2022-02-28\",\"2022-02-28\"],\"xaxis\":\"x\",\"y\":[52886550470.82176,42579298186.5298,39667497742.72751,880330191985.1965,10309037335.052908,52272480718.14088,42361773516.50891,39372072384.767006,876242689666.1957,48184360964.1156,9451354999.259806,37016373098.11021,39972161973.40968,827723202715.1049,46854691785.8186,407652437129.1328,9497488956.849884,819522879407.0583,37364002396.49064,42610750948.59599,381283293110.7904,9118650890.96946,787735561341.1113,36426581574.17674,38940980400.86951,44680435604.26222,369734313550.987,9026522520.00248,38305510646.897575,792892599975.9554,35742954145.162506,43844556062.79441,375219467789.3698,37584527637.96972,9090631980.216145,35888908513.520424,42320546842.20343,367654760059.0176,8799832771.775192,36302150872.95676,35256497135.60703,43823867475.83328,387505881839.83,9128769311.538816,38098252395.75478,809621515508.4065,402763358249.81146,47534063482.95965,388039946028.0792,39819346582.17602,45924153329.20764,36738241655.41219,806510860231.8285,377918294939.4783,35928632965.60265,42848572759.496826,371296193085.122,35361191998.402435,790507925308.7825,40727678847.05303,360580494818.73,34534739952.51737,774235809673.4731,9148639908.843843,35070043876.86985,306644499897.7337,7981436304.824966,30525594005.19316,692855029162.9379,29665575896.047955,286799916366.57184,7545683309.881283,28567576973.56528,666220701468.4846,31290905178.53205,302626363351.5348,7767749118.80306,35957697983.57456,30045394326.185917,28909954628.237045,34308092836.127853,7642430989.02289,292022326101.0083,29396856512.62248,30084800205.77909,33519647999.373238,7528711286.299523,293702336549.67474,29620625747.012318,29243771848.310368,7471572251.990698,295723346868.75024,34783150528.86953,29801890236.89736,28179557560.867977,287829476402.6202,7432905213.60697,33601561740.91527,29129366194.81477,28786945733.92828,33733183103.563057,7616510082.740902,29287821638.57769,304305302571.33734,33352205324.627453,29427732656.729218,28850613224.01237,33717971205.78224,7609502523.441636,33051606754.56344,28766534259.757156,30597070580.09104,34703538693.84502,350133590835.08734,30347618773.26294,33875479735.022057,347517755313.83966,29672733160.79642,33537767336.502293,345252969326.4971,8787938472.04504,802059713029.3901,30784741416.87896,33725640380.821823,8693486478.793137,351368910987.00305,808280617642.0496,38448661595.62696,33579862333.60316,35679172598.208206,40834438279.59535,32707737720.154152,34925054508.5803,8942062959.015314,40187017225.8397,376071884044.5087,8096862166.69461,29918359231.26159,32776487178.54903,36963479625.06525,770096677778.6456,8017968577.635381,32059403498.594284,28828455911.8284,759881874201.3011,8066376368.090658,32017660308.182068,761447243939.9269,330814655802.00714,29209068299.47004,7723001947.133409,30150673034.05805,730381814665.4404,315015971538.73315,37317825787.82265,27688893323.616894,7244478418.750748,703004241590.1829,26727888651.40893,308836894427.69006,33972778766.692947,28644348109.42572,7497251391.913771,27744256745.68661,317004525462.3889,27987012931.084877,7386564709.743127,310997586955.65283,27294663661.65063,33701843282.350643,27380809087.285168,7266951117.198242,311533514951.14,33453595245.003597,727657714638.0917,28804358271.907227,7635550854.808023,36980776521.84238,745763194704.1796,333625150661.6757,28448195569.61312,35942263895.59888,7533185233.843067,741083625917.93,27574399427.75873,34581739036.304855,7184428503.067197,27360038516.30834],\"yaxis\":\"y\",\"type\":\"scatter\"}],                        {\"template\":{\"data\":{\"histogram2dcontour\":[{\"type\":\"histogram2dcontour\",\"colorbar\":{\"outlinewidth\":0,\"ticks\":\"\"},\"colorscale\":[[0.0,\"#0d0887\"],[0.1111111111111111,\"#46039f\"],[0.2222222222222222,\"#7201a8\"],[0.3333333333333333,\"#9c179e\"],[0.4444444444444444,\"#bd3786\"],[0.5555555555555556,\"#d8576b\"],[0.6666666666666666,\"#ed7953\"],[0.7777777777777778,\"#fb9f3a\"],[0.8888888888888888,\"#fdca26\"],[1.0,\"#f0f921\"]]}],\"choropleth\":[{\"type\":\"choropleth\",\"colorbar\":{\"outlinewidth\":0,\"ticks\":\"\"}}],\"histogram2d\":[{\"type\":\"histogram2d\",\"colorbar\":{\"outlinewidth\":0,\"ticks\":\"\"},\"colorscale\":[[0.0,\"#0d0887\"],[0.1111111111111111,\"#46039f\"],[0.2222222222222222,\"#7201a8\"],[0.3333333333333333,\"#9c179e\"],[0.4444444444444444,\"#bd3786\"],[0.5555555555555556,\"#d8576b\"],[0.6666666666666666,\"#ed7953\"],[0.7777777777777778,\"#fb9f3a\"],[0.8888888888888888,\"#fdca26\"],[1.0,\"#f0f921\"]]}],\"heatmap\":[{\"type\":\"heatmap\",\"colorbar\":{\"outlinewidth\":0,\"ticks\":\"\"},\"colorscale\":[[0.0,\"#0d0887\"],[0.1111111111111111,\"#46039f\"],[0.2222222222222222,\"#7201a8\"],[0.3333333333333333,\"#9c179e\"],[0.4444444444444444,\"#bd3786\"],[0.5555555555555556,\"#d8576b\"],[0.6666666666666666,\"#ed7953\"],[0.7777777777777778,\"#fb9f3a\"],[0.8888888888888888,\"#fdca26\"],[1.0,\"#f0f921\"]]}],\"heatmapgl\":[{\"type\":\"heatmapgl\",\"colorbar\":{\"outlinewidth\":0,\"ticks\":\"\"},\"colorscale\":[[0.0,\"#0d0887\"],[0.1111111111111111,\"#46039f\"],[0.2222222222222222,\"#7201a8\"],[0.3333333333333333,\"#9c179e\"],[0.4444444444444444,\"#bd3786\"],[0.5555555555555556,\"#d8576b\"],[0.6666666666666666,\"#ed7953\"],[0.7777777777777778,\"#fb9f3a\"],[0.8888888888888888,\"#fdca26\"],[1.0,\"#f0f921\"]]}],\"contourcarpet\":[{\"type\":\"contourcarpet\",\"colorbar\":{\"outlinewidth\":0,\"ticks\":\"\"}}],\"contour\":[{\"type\":\"contour\",\"colorbar\":{\"outlinewidth\":0,\"ticks\":\"\"},\"colorscale\":[[0.0,\"#0d0887\"],[0.1111111111111111,\"#46039f\"],[0.2222222222222222,\"#7201a8\"],[0.3333333333333333,\"#9c179e\"],[0.4444444444444444,\"#bd3786\"],[0.5555555555555556,\"#d8576b\"],[0.6666666666666666,\"#ed7953\"],[0.7777777777777778,\"#fb9f3a\"],[0.8888888888888888,\"#fdca26\"],[1.0,\"#f0f921\"]]}],\"surface\":[{\"type\":\"surface\",\"colorbar\":{\"outlinewidth\":0,\"ticks\":\"\"},\"colorscale\":[[0.0,\"#0d0887\"],[0.1111111111111111,\"#46039f\"],[0.2222222222222222,\"#7201a8\"],[0.3333333333333333,\"#9c179e\"],[0.4444444444444444,\"#bd3786\"],[0.5555555555555556,\"#d8576b\"],[0.6666666666666666,\"#ed7953\"],[0.7777777777777778,\"#fb9f3a\"],[0.8888888888888888,\"#fdca26\"],[1.0,\"#f0f921\"]]}],\"mesh3d\":[{\"type\":\"mesh3d\",\"colorbar\":{\"outlinewidth\":0,\"ticks\":\"\"}}],\"scatter\":[{\"fillpattern\":{\"fillmode\":\"overlay\",\"size\":10,\"solidity\":0.2},\"type\":\"scatter\"}],\"parcoords\":[{\"type\":\"parcoords\",\"line\":{\"colorbar\":{\"outlinewidth\":0,\"ticks\":\"\"}}}],\"scatterpolargl\":[{\"type\":\"scatterpolargl\",\"marker\":{\"colorbar\":{\"outlinewidth\":0,\"ticks\":\"\"}}}],\"bar\":[{\"error_x\":{\"color\":\"#2a3f5f\"},\"error_y\":{\"color\":\"#2a3f5f\"},\"marker\":{\"line\":{\"color\":\"#E5ECF6\",\"width\":0.5},\"pattern\":{\"fillmode\":\"overlay\",\"size\":10,\"solidity\":0.2}},\"type\":\"bar\"}],\"scattergeo\":[{\"type\":\"scattergeo\",\"marker\":{\"colorbar\":{\"outlinewidth\":0,\"ticks\":\"\"}}}],\"scatterpolar\":[{\"type\":\"scatterpolar\",\"marker\":{\"colorbar\":{\"outlinewidth\":0,\"ticks\":\"\"}}}],\"histogram\":[{\"marker\":{\"pattern\":{\"fillmode\":\"overlay\",\"size\":10,\"solidity\":0.2}},\"type\":\"histogram\"}],\"scattergl\":[{\"type\":\"scattergl\",\"marker\":{\"colorbar\":{\"outlinewidth\":0,\"ticks\":\"\"}}}],\"scatter3d\":[{\"type\":\"scatter3d\",\"line\":{\"colorbar\":{\"outlinewidth\":0,\"ticks\":\"\"}},\"marker\":{\"colorbar\":{\"outlinewidth\":0,\"ticks\":\"\"}}}],\"scattermapbox\":[{\"type\":\"scattermapbox\",\"marker\":{\"colorbar\":{\"outlinewidth\":0,\"ticks\":\"\"}}}],\"scatterternary\":[{\"type\":\"scatterternary\",\"marker\":{\"colorbar\":{\"outlinewidth\":0,\"ticks\":\"\"}}}],\"scattercarpet\":[{\"type\":\"scattercarpet\",\"marker\":{\"colorbar\":{\"outlinewidth\":0,\"ticks\":\"\"}}}],\"carpet\":[{\"aaxis\":{\"endlinecolor\":\"#2a3f5f\",\"gridcolor\":\"white\",\"linecolor\":\"white\",\"minorgridcolor\":\"white\",\"startlinecolor\":\"#2a3f5f\"},\"baxis\":{\"endlinecolor\":\"#2a3f5f\",\"gridcolor\":\"white\",\"linecolor\":\"white\",\"minorgridcolor\":\"white\",\"startlinecolor\":\"#2a3f5f\"},\"type\":\"carpet\"}],\"table\":[{\"cells\":{\"fill\":{\"color\":\"#EBF0F8\"},\"line\":{\"color\":\"white\"}},\"header\":{\"fill\":{\"color\":\"#C8D4E3\"},\"line\":{\"color\":\"white\"}},\"type\":\"table\"}],\"barpolar\":[{\"marker\":{\"line\":{\"color\":\"#E5ECF6\",\"width\":0.5},\"pattern\":{\"fillmode\":\"overlay\",\"size\":10,\"solidity\":0.2}},\"type\":\"barpolar\"}],\"pie\":[{\"automargin\":true,\"type\":\"pie\"}]},\"layout\":{\"autotypenumbers\":\"strict\",\"colorway\":[\"#636efa\",\"#EF553B\",\"#00cc96\",\"#ab63fa\",\"#FFA15A\",\"#19d3f3\",\"#FF6692\",\"#B6E880\",\"#FF97FF\",\"#FECB52\"],\"font\":{\"color\":\"#2a3f5f\"},\"hovermode\":\"closest\",\"hoverlabel\":{\"align\":\"left\"},\"paper_bgcolor\":\"white\",\"plot_bgcolor\":\"#E5ECF6\",\"polar\":{\"bgcolor\":\"#E5ECF6\",\"angularaxis\":{\"gridcolor\":\"white\",\"linecolor\":\"white\",\"ticks\":\"\"},\"radialaxis\":{\"gridcolor\":\"white\",\"linecolor\":\"white\",\"ticks\":\"\"}},\"ternary\":{\"bgcolor\":\"#E5ECF6\",\"aaxis\":{\"gridcolor\":\"white\",\"linecolor\":\"white\",\"ticks\":\"\"},\"baxis\":{\"gridcolor\":\"white\",\"linecolor\":\"white\",\"ticks\":\"\"},\"caxis\":{\"gridcolor\":\"white\",\"linecolor\":\"white\",\"ticks\":\"\"}},\"coloraxis\":{\"colorbar\":{\"outlinewidth\":0,\"ticks\":\"\"}},\"colorscale\":{\"sequential\":[[0.0,\"#0d0887\"],[0.1111111111111111,\"#46039f\"],[0.2222222222222222,\"#7201a8\"],[0.3333333333333333,\"#9c179e\"],[0.4444444444444444,\"#bd3786\"],[0.5555555555555556,\"#d8576b\"],[0.6666666666666666,\"#ed7953\"],[0.7777777777777778,\"#fb9f3a\"],[0.8888888888888888,\"#fdca26\"],[1.0,\"#f0f921\"]],\"sequentialminus\":[[0.0,\"#0d0887\"],[0.1111111111111111,\"#46039f\"],[0.2222222222222222,\"#7201a8\"],[0.3333333333333333,\"#9c179e\"],[0.4444444444444444,\"#bd3786\"],[0.5555555555555556,\"#d8576b\"],[0.6666666666666666,\"#ed7953\"],[0.7777777777777778,\"#fb9f3a\"],[0.8888888888888888,\"#fdca26\"],[1.0,\"#f0f921\"]],\"diverging\":[[0,\"#8e0152\"],[0.1,\"#c51b7d\"],[0.2,\"#de77ae\"],[0.3,\"#f1b6da\"],[0.4,\"#fde0ef\"],[0.5,\"#f7f7f7\"],[0.6,\"#e6f5d0\"],[0.7,\"#b8e186\"],[0.8,\"#7fbc41\"],[0.9,\"#4d9221\"],[1,\"#276419\"]]},\"xaxis\":{\"gridcolor\":\"white\",\"linecolor\":\"white\",\"ticks\":\"\",\"title\":{\"standoff\":15},\"zerolinecolor\":\"white\",\"automargin\":true,\"zerolinewidth\":2},\"yaxis\":{\"gridcolor\":\"white\",\"linecolor\":\"white\",\"ticks\":\"\",\"title\":{\"standoff\":15},\"zerolinecolor\":\"white\",\"automargin\":true,\"zerolinewidth\":2},\"scene\":{\"xaxis\":{\"backgroundcolor\":\"#E5ECF6\",\"gridcolor\":\"white\",\"linecolor\":\"white\",\"showbackground\":true,\"ticks\":\"\",\"zerolinecolor\":\"white\",\"gridwidth\":2},\"yaxis\":{\"backgroundcolor\":\"#E5ECF6\",\"gridcolor\":\"white\",\"linecolor\":\"white\",\"showbackground\":true,\"ticks\":\"\",\"zerolinecolor\":\"white\",\"gridwidth\":2},\"zaxis\":{\"backgroundcolor\":\"#E5ECF6\",\"gridcolor\":\"white\",\"linecolor\":\"white\",\"showbackground\":true,\"ticks\":\"\",\"zerolinecolor\":\"white\",\"gridwidth\":2}},\"shapedefaults\":{\"line\":{\"color\":\"#2a3f5f\"}},\"annotationdefaults\":{\"arrowcolor\":\"#2a3f5f\",\"arrowhead\":0,\"arrowwidth\":1},\"geo\":{\"bgcolor\":\"white\",\"landcolor\":\"#E5ECF6\",\"subunitcolor\":\"white\",\"showland\":true,\"showlakes\":true,\"lakecolor\":\"white\"},\"title\":{\"x\":0.05},\"mapbox\":{\"style\":\"light\"}}},\"xaxis\":{\"anchor\":\"y\",\"domain\":[0.0,1.0],\"title\":{\"text\":\"Date\"},\"dtick\":\"M1\",\"tickformat\":\"%b\\n%Y\"},\"yaxis\":{\"anchor\":\"x\",\"domain\":[0.0,1.0],\"title\":{\"text\":\"value\"}},\"legend\":{\"title\":{\"text\":\"variable\"},\"tracegroupgap\":0},\"title\":{\"text\":\"Top-N statistically significant Assets 2022-01-04 to 2022-02-28\"}},                        {\"responsive\": true}                    ).then(function(){\n",
       "                            \n",
       "var gd = document.getElementById('cd5652fc-3fc1-4707-bb44-473d7ab676b3');\n",
       "var x = new MutationObserver(function (mutations, observer) {{\n",
       "        var display = window.getComputedStyle(gd).display;\n",
       "        if (!display || display === 'none') {{\n",
       "            console.log([gd, 'removed!']);\n",
       "            Plotly.purge(gd);\n",
       "            observer.disconnect();\n",
       "        }}\n",
       "}});\n",
       "\n",
       "// Listen for the removal of the full notebook cells\n",
       "var notebookContainer = gd.closest('#notebook-container');\n",
       "if (notebookContainer) {{\n",
       "    x.observe(notebookContainer, {childList: true});\n",
       "}}\n",
       "\n",
       "// Listen for the clearing of the current output cell\n",
       "var outputEl = gd.closest('.output');\n",
       "if (outputEl) {{\n",
       "    x.observe(outputEl, {childList: true});\n",
       "}}\n",
       "\n",
       "                        })                };                });            </script>        </div>"
      ]
     },
     "metadata": {},
     "output_type": "display_data"
    }
   ],
   "source": [
    "''' Plot the top-N assets'''\n",
    "import plotly.express as px\n",
    "import pandas as pd\n",
    "\n",
    "_plot_topN_df = _topNassets_df.copy()\n",
    "# _plot_topN_df['market_cap'] = 0\n",
    "\n",
    "# for idx in _plot_topN_df.index:\n",
    "#     mask = (rec_marketcap_df.Date == _plot_topN_df.Date[idx]) & \\\n",
    "#             (rec_marketcap_df.ID == _plot_topN_df.ID[idx])\n",
    "#     _plot_topN_df['market_cap'][idx] = rec_marketcap_df.loc[mask,'market_cap']\n",
    "\n",
    "_plot_topN_df = pd.merge(_topNassets_df,\n",
    "                         rec_marketcap_df,how='inner',\n",
    "                         on=['Date','ID'])\n",
    "\n",
    "_min_date = _plot_topN_df[\"Date\"].min()\n",
    "_max_date = _plot_topN_df[\"Date\"].max()\n",
    "\n",
    "_title = \"Top-N statistically significant Assets \"+str(_min_date)+\" to \"+str(_max_date)\n",
    "fig = px.scatter(_plot_topN_df, x=\"Date\", y=['market_cap'],\n",
    "#               color='red',\n",
    "              hover_data={\"Date\": \"|%B %d, %Y\", \"ID\": True},\n",
    "              title=_title,)\n",
    "\n",
    "fig.update_xaxes(\n",
    "    dtick=\"M1\",\n",
    "    tickformat=\"%b\\n%Y\")\n",
    "fig.show()"
   ]
  },
  {
   "cell_type": "markdown",
   "id": "2cb20ad9",
   "metadata": {},
   "source": [
    "## Weighted Sum of the Log ROR\n",
    "\n",
    "Now we calculate the weighted sum of the selected significant top-N assets. This follows the Modern Portfolio Theory (MPT) approach. \n",
    "\n",
    "Sum of the weighted actual portfolio allocation at time ${t}$: ${F_{t}({Y})}$  = $\\sum_{k_i = 1}^{N<n} {w(t,x_{k_{i}})} \\times {R(t,x_{k_i})}$\n",
    "\n",
    "In this procedure, instead of executing a Monte Carlo simulation to select the weights and assets, we employ a randomized method that selects the best weights that maximizes the Log ROR.\n",
    "1. A set of ```_size = 100``` weights is generated for each iteration\n",
    "1. The significant top-N assets for each day is multiplied by the weights\n",
    "1. Select the set of weights that produce the highest Log ROR"
   ]
  },
  {
   "cell_type": "code",
   "execution_count": 82,
   "id": "b41c841b",
   "metadata": {},
   "outputs": [
    {
     "name": "stdout",
     "output_type": "stream",
     "text": [
      "Data merge complete!\n"
     ]
    }
   ],
   "source": [
    "import pandas as pd\n",
    "\n",
    "''' initialize the parameters '''\n",
    "_size=100\n",
    "\n",
    "''' merge the data with the top-N assets'''\n",
    "_merged_actual_ror = pd.merge(_topNassets_df,\n",
    "                              rec_marketcap_df,how='inner',\n",
    "                              on=['Date','ID'])\n",
    "_merged_actual_ror.dropna(axis=0, how='any', inplace=True)\n",
    "_merged_actual_ror = _merged_actual_ror.sort_values(by=['Date','simp_move_avg_market_cap_ror'], ascending=True)\n",
    "\n",
    "_actual_weighted_sum_df = clsROR.sum_weighted_returns(\n",
    "    _merged_actual_ror,\n",
    "    size=_size,\n",
    "    value_col_name='simp_move_avg_market_cap_ror'\n",
    ")\n",
    "# _actual_weighted_sum_df.rename(columns={'date':'Date'}, inplace=True)\n",
    "print('Data merge complete!')"
   ]
  },
  {
   "cell_type": "markdown",
   "id": "b0ef3e81",
   "metadata": {},
   "source": [
    "## Plot Weighted Sum and Bitcoin market cap\n",
    "The next two cells plot the weighted sum of the ETP and the Bitcoin market-caps to compare the differences\n",
    "\n",
    "### Weighted sum plot"
   ]
  },
  {
   "cell_type": "code",
   "execution_count": 83,
   "id": "93a70ce1",
   "metadata": {
    "scrolled": false
   },
   "outputs": [
    {
     "data": {
      "application/vnd.plotly.v1+json": {
       "config": {
        "plotlyServerURL": "https://plot.ly"
       },
       "data": [
        {
         "customdata": [
          [
           [
            "solana",
            "cardano",
            "ripple",
            "bitcoin",
            "litecoin"
           ],
           [
            0.03812957486359489,
            0.04597753872039372,
            0.0888512919532224,
            0.1648864083285305,
            0.6621551861342585
           ]
          ],
          [
           [
            "solana",
            "cardano",
            "ripple",
            "bitcoin"
           ],
           [
            0.01611422842504493,
            0.08653173483497846,
            0.20918468318611694,
            0.6881693535538596
           ]
          ],
          [
           [
            "solana",
            "litecoin",
            "ripple",
            "cardano",
            "bitcoin"
           ],
           [
            0.0330422675990741,
            0.010827577824689546,
            0.04818686977720013,
            0.03152608385405656,
            0.8764172009449797
           ]
          ],
          [
           [
            "solana",
            "ethereum",
            "litecoin",
            "bitcoin",
            "ripple"
           ],
           [
            0.017258683571152834,
            0.03604254144037207,
            0.07426903569672902,
            0.10572691240332761,
            0.7667028268884184
           ]
          ],
          [
           [
            "solana",
            "ethereum",
            "litecoin",
            "bitcoin",
            "ripple",
            "cardano"
           ],
           [
            0.0007422844161519035,
            0.10446354493129244,
            0.04987476410226452,
            0.1437017854601968,
            0.6018705593470908,
            0.09934706174300356
           ]
          ],
          [
           [
            "solana",
            "ethereum",
            "litecoin",
            "cardano",
            "bitcoin",
            "ripple"
           ],
           [
            0.0052841088107399336,
            0.06592839445166285,
            0.017189757506264825,
            0.03080217964022296,
            0.20138136065087517,
            0.6794141989402341
           ]
          ],
          [
           [
            "solana",
            "ethereum",
            "cardano",
            "litecoin",
            "ripple"
           ],
           [
            0.025813460885527592,
            0.08993144059745743,
            0.04425702695715789,
            0.09250270025825821,
            0.7474953713015987
           ]
          ],
          [
           [
            "solana",
            "ethereum",
            "litecoin",
            "cardano",
            "ripple"
           ],
           [
            0.022358135967478005,
            0.09717543031309721,
            0.01495555755082021,
            0.1802529798811436,
            0.6852578962874611
           ]
          ],
          [
           [
            "solana",
            "ethereum",
            "litecoin",
            "cardano",
            "bitcoin"
           ],
           [
            0.004369412735693988,
            0.04690472799334894,
            0.4566507954059104,
            0.03046888577395973,
            0.461606178091087
           ]
          ],
          [
           [
            "ethereum",
            "solana"
           ],
           [
            0.0028061327766866566,
            0.9971938672233134
           ]
          ],
          [
           [
            "ethereum",
            "cardano",
            "solana",
            "ripple",
            "bitcoin"
           ],
           [
            0.01905642704976438,
            0.06506570243834735,
            0.0074960909568095755,
            0.3875837233496454,
            0.5207980562054333
           ]
          ],
          [
           [
            "ethereum",
            "ripple"
           ],
           [
            0.03626484039402582,
            0.9637351596059742
           ]
          ],
          [
           [
            "solana",
            "ethereum",
            "ripple",
            "bitcoin"
           ],
           [
            0.03875029431590774,
            0.10170818763790719,
            0.039189357379948435,
            0.8203521606662365
           ]
          ],
          [
           [
            "solana",
            "ethereum",
            "ripple",
            "bitcoin",
            "litecoin"
           ],
           [
            0.006939629020620422,
            0.10429811786722776,
            0.05452926700919661,
            0.19275769590733408,
            0.6414752901956211
           ]
          ],
          [
           [
            "solana",
            "ethereum",
            "litecoin",
            "ripple",
            "bitcoin"
           ],
           [
            0.026719213390994163,
            0.05624627137816502,
            0.00032286233117326106,
            0.624902503320707,
            0.29180914957896065
           ]
          ],
          [
           [
            "solana",
            "ethereum",
            "litecoin",
            "ripple",
            "bitcoin"
           ],
           [
            0.012487188394108525,
            0.05068036710079185,
            0.10669757784594053,
            0.2533718239353422,
            0.5767630427238168
           ]
          ],
          [
           [
            "solana",
            "ethereum",
            "litecoin",
            "cardano",
            "ripple"
           ],
           [
            0.01928989766473756,
            0.030429618444762378,
            0.06708013932079863,
            0.6095687940678827,
            0.27363155050181875
           ]
          ],
          [
           [
            "solana",
            "cardano",
            "litecoin",
            "ethereum",
            "ripple"
           ],
           [
            0.021179634467207328,
            0.1264486489587209,
            0.07922711261624123,
            0.08294605275344633,
            0.6901985512043843
           ]
          ],
          [
           [
            "solana",
            "cardano",
            "litecoin",
            "ethereum",
            "ripple"
           ],
           [
            0.06231473198251517,
            0.030575685968072364,
            0.035328271923853884,
            0.01293325225288997,
            0.8588480578726686
           ]
          ],
          [
           [
            "solana",
            "litecoin",
            "ethereum",
            "cardano",
            "ripple"
           ],
           [
            0.029202804552657807,
            0.046812221985202324,
            0.006984076009986892,
            0.009357680091007965,
            0.907643217361145
           ]
          ],
          [
           [
            "solana",
            "ethereum",
            "litecoin",
            "cardano",
            "ripple"
           ],
           [
            0.007387685495037856,
            0.01369349021391679,
            0.016852928129917073,
            0.16052101262050864,
            0.8015448835406196
           ]
          ],
          [
           [
            "solana",
            "cardano",
            "litecoin",
            "ripple",
            "ethereum"
           ],
           [
            0.002656897907858728,
            0.08692767431997758,
            0.2790150138282949,
            0.013538225317518564,
            0.6178621886263501
           ]
          ],
          [
           [
            "cardano",
            "solana",
            "ripple"
           ],
           [
            0.029192426510744454,
            0.0064767759469416914,
            0.9643307975423138
           ]
          ],
          [
           [
            "cardano",
            "litecoin"
           ],
           [
            0.014305905325364928,
            0.9856940946746351
           ]
          ],
          [
           [
            "cardano",
            "ripple"
           ],
           [
            0.0026393427980337413,
            0.9973606572019662
           ]
          ],
          [
           [
            "solana",
            "cardano",
            "ethereum"
           ],
           [
            0.007157380159625566,
            0.03901067142121518,
            0.9538319484191593
           ]
          ],
          [
           [
            "solana",
            "cardano",
            "ethereum"
           ],
           [
            0.03461856399270351,
            0.12555475689045376,
            0.8398266791168428
           ]
          ],
          [
           [
            "solana",
            "cardano",
            "ethereum",
            "litecoin",
            "bitcoin"
           ],
           [
            0.03305969530763519,
            0.0011326853860305704,
            0.07430505605053425,
            0.14244409974073474,
            0.7490584635150654
           ]
          ],
          [
           [
            "solana",
            "cardano",
            "litecoin",
            "ethereum",
            "bitcoin",
            "ripple"
           ],
           [
            0.030824097605498025,
            0.07129253142277733,
            0.043186502725705386,
            0.02879967735917258,
            0.199742390163113,
            0.6261548007237338
           ]
          ],
          [
           [
            "solana",
            "cardano",
            "ripple"
           ],
           [
            0.006943199928744149,
            0.046761922983456584,
            0.9462948770877992
           ]
          ],
          [
           [
            "solana",
            "cardano",
            "litecoin",
            "ripple",
            "ethereum"
           ],
           [
            0.03352843395170755,
            0.015081303712268245,
            0.02878012872151253,
            0.36912308638269814,
            0.5534870472318134
           ]
          ],
          [
           [
            "litecoin",
            "solana",
            "cardano",
            "ripple",
            "bitcoin"
           ],
           [
            0.07446355585181129,
            0.13948137909259503,
            0.01847376616169596,
            0.040086741020806484,
            0.7274945578730913
           ]
          ],
          [
           [
            "litecoin",
            "cardano",
            "solana",
            "bitcoin"
           ],
           [
            0.030480433874178807,
            0.021752167703987583,
            0.48726870026210617,
            0.4604986981597274
           ]
          ],
          [
           [
            "litecoin",
            "cardano",
            "bitcoin",
            "ethereum",
            "solana"
           ],
           [
            0.019301092680024973,
            0.0007920647724228851,
            0.11364641320053878,
            0.10320380824488537,
            0.763056621102128
           ]
          ],
          [
           [
            "litecoin",
            "cardano",
            "bitcoin",
            "ethereum",
            "ripple"
           ],
           [
            0.022260455552315882,
            0.05362398596000396,
            0.0800834030794941,
            0.10351704924392335,
            0.7405151061642625
           ]
          ],
          [
           [
            "cardano",
            "litecoin",
            "bitcoin",
            "solana",
            "ethereum",
            "ripple"
           ],
           [
            0.01300492160993883,
            0.012879802499560606,
            0.06956294973682373,
            0.026685588977176145,
            0.46312420822219397,
            0.4147425289543067
           ]
          ],
          [
           [
            "cardano",
            "litecoin",
            "solana",
            "ethereum"
           ],
           [
            0.06932882336690714,
            0.011759524791250581,
            0.17584136467646982,
            0.7430702871653725
           ]
          ],
          [
           [
            "cardano",
            "litecoin",
            "ethereum",
            "solana",
            "ripple"
           ],
           [
            0.038064684440204784,
            0.014365064154494983,
            0.006550889032772687,
            0.21912152175394337,
            0.7218978406185841
           ]
          ],
          [
           [
            "cardano",
            "litecoin",
            "ethereum",
            "ripple",
            "bitcoin"
           ],
           [
            0.031303761874627474,
            0.14683860082400957,
            0.021058549122006158,
            0.1591337736674429,
            0.641665314511914
           ]
          ],
          [
           [
            "cardano",
            "litecoin",
            "ripple",
            "bitcoin",
            "ethereum"
           ],
           [
            0.010282703450161867,
            0.0029150545421766172,
            0.11725548339748289,
            0.09253065048382195,
            0.7770161081263567
           ]
          ],
          [
           [
            "cardano",
            "ripple",
            "litecoin",
            "bitcoin"
           ],
           [
            0.06098189663631258,
            0.05874390475014545,
            0.10117506861973809,
            0.7790991299938039
           ]
          ],
          [
           [
            "cardano",
            "ripple",
            "litecoin",
            "solana"
           ],
           [
            0.013862129491040988,
            0.0018847500563646219,
            0.003603710091292875,
            0.9806494103613016
           ]
          ]
         ],
         "hovertemplate": "variable=weighted_market_cap_returns<br>date=%{x|%B %d, %Y}<br>value=%{y}<br>coins=%{customdata[0]}<br>best_weights=%{customdata[1]}<extra></extra>",
         "legendgroup": "weighted_market_cap_returns",
         "line": {
          "color": "#636efa",
          "dash": "solid"
         },
         "marker": {
          "symbol": "circle"
         },
         "mode": "lines",
         "name": "weighted_market_cap_returns",
         "orientation": "v",
         "showlegend": true,
         "type": "scatter",
         "x": [
          "2022-01-04",
          "2022-01-05",
          "2022-01-06",
          "2022-01-07",
          "2022-01-08",
          "2022-01-09",
          "2022-01-10",
          "2022-01-11",
          "2022-01-12",
          "2022-01-13",
          "2022-01-14",
          "2022-01-19",
          "2022-01-20",
          "2022-01-21",
          "2022-01-22",
          "2022-01-23",
          "2022-01-24",
          "2022-01-25",
          "2022-01-26",
          "2022-01-27",
          "2022-01-28",
          "2022-01-29",
          "2022-01-31",
          "2022-02-01",
          "2022-02-03",
          "2022-02-12",
          "2022-02-13",
          "2022-02-14",
          "2022-02-15",
          "2022-02-16",
          "2022-02-17",
          "2022-02-18",
          "2022-02-19",
          "2022-02-20",
          "2022-02-21",
          "2022-02-22",
          "2022-02-23",
          "2022-02-24",
          "2022-02-25",
          "2022-02-26",
          "2022-02-27",
          "2022-02-28"
         ],
         "xaxis": "x",
         "y": [
          159479407474.56747,
          615747368239.7753,
          730169177191.9606,
          131499559449.06424,
          179308389926.5164,
          209905204094.40942,
          64206887464.47237,
          67508188389.92171,
          397423107089.9706,
          48530884050.244194,
          444598213117.78595,
          48330833473.492096,
          689304924622.4393,
          194882193189.28946,
          239444187599.71838,
          407200368801.0892,
          40473523252.15992,
          50067769040.53106,
          32403732153.7732,
          30644088518.23421,
          33017089194.923615,
          193549197182.28864,
          28985763493.851257,
          7983007804.601457,
          28777844034.98537,
          335541408364.27966,
          297158500984.56805,
          628714406766.9583,
          199370767228.623,
          40542998171.65179,
          224865580778.6844,
          567104367868.7465,
          364913570750.0201,
          143146303318.02936,
          120524115638.30878,
          207189495894.6051,
          242509274800.3039,
          33518872100.88683,
          480720948264.011,
          332892713201.942,
          581985992586.7756,
          27303914066.08009
         ],
         "yaxis": "y"
        }
       ],
       "layout": {
        "legend": {
         "title": {
          "text": "variable"
         },
         "tracegroupgap": 0
        },
        "template": {
         "data": {
          "bar": [
           {
            "error_x": {
             "color": "#2a3f5f"
            },
            "error_y": {
             "color": "#2a3f5f"
            },
            "marker": {
             "line": {
              "color": "#E5ECF6",
              "width": 0.5
             },
             "pattern": {
              "fillmode": "overlay",
              "size": 10,
              "solidity": 0.2
             }
            },
            "type": "bar"
           }
          ],
          "barpolar": [
           {
            "marker": {
             "line": {
              "color": "#E5ECF6",
              "width": 0.5
             },
             "pattern": {
              "fillmode": "overlay",
              "size": 10,
              "solidity": 0.2
             }
            },
            "type": "barpolar"
           }
          ],
          "carpet": [
           {
            "aaxis": {
             "endlinecolor": "#2a3f5f",
             "gridcolor": "white",
             "linecolor": "white",
             "minorgridcolor": "white",
             "startlinecolor": "#2a3f5f"
            },
            "baxis": {
             "endlinecolor": "#2a3f5f",
             "gridcolor": "white",
             "linecolor": "white",
             "minorgridcolor": "white",
             "startlinecolor": "#2a3f5f"
            },
            "type": "carpet"
           }
          ],
          "choropleth": [
           {
            "colorbar": {
             "outlinewidth": 0,
             "ticks": ""
            },
            "type": "choropleth"
           }
          ],
          "contour": [
           {
            "colorbar": {
             "outlinewidth": 0,
             "ticks": ""
            },
            "colorscale": [
             [
              0,
              "#0d0887"
             ],
             [
              0.1111111111111111,
              "#46039f"
             ],
             [
              0.2222222222222222,
              "#7201a8"
             ],
             [
              0.3333333333333333,
              "#9c179e"
             ],
             [
              0.4444444444444444,
              "#bd3786"
             ],
             [
              0.5555555555555556,
              "#d8576b"
             ],
             [
              0.6666666666666666,
              "#ed7953"
             ],
             [
              0.7777777777777778,
              "#fb9f3a"
             ],
             [
              0.8888888888888888,
              "#fdca26"
             ],
             [
              1,
              "#f0f921"
             ]
            ],
            "type": "contour"
           }
          ],
          "contourcarpet": [
           {
            "colorbar": {
             "outlinewidth": 0,
             "ticks": ""
            },
            "type": "contourcarpet"
           }
          ],
          "heatmap": [
           {
            "colorbar": {
             "outlinewidth": 0,
             "ticks": ""
            },
            "colorscale": [
             [
              0,
              "#0d0887"
             ],
             [
              0.1111111111111111,
              "#46039f"
             ],
             [
              0.2222222222222222,
              "#7201a8"
             ],
             [
              0.3333333333333333,
              "#9c179e"
             ],
             [
              0.4444444444444444,
              "#bd3786"
             ],
             [
              0.5555555555555556,
              "#d8576b"
             ],
             [
              0.6666666666666666,
              "#ed7953"
             ],
             [
              0.7777777777777778,
              "#fb9f3a"
             ],
             [
              0.8888888888888888,
              "#fdca26"
             ],
             [
              1,
              "#f0f921"
             ]
            ],
            "type": "heatmap"
           }
          ],
          "heatmapgl": [
           {
            "colorbar": {
             "outlinewidth": 0,
             "ticks": ""
            },
            "colorscale": [
             [
              0,
              "#0d0887"
             ],
             [
              0.1111111111111111,
              "#46039f"
             ],
             [
              0.2222222222222222,
              "#7201a8"
             ],
             [
              0.3333333333333333,
              "#9c179e"
             ],
             [
              0.4444444444444444,
              "#bd3786"
             ],
             [
              0.5555555555555556,
              "#d8576b"
             ],
             [
              0.6666666666666666,
              "#ed7953"
             ],
             [
              0.7777777777777778,
              "#fb9f3a"
             ],
             [
              0.8888888888888888,
              "#fdca26"
             ],
             [
              1,
              "#f0f921"
             ]
            ],
            "type": "heatmapgl"
           }
          ],
          "histogram": [
           {
            "marker": {
             "pattern": {
              "fillmode": "overlay",
              "size": 10,
              "solidity": 0.2
             }
            },
            "type": "histogram"
           }
          ],
          "histogram2d": [
           {
            "colorbar": {
             "outlinewidth": 0,
             "ticks": ""
            },
            "colorscale": [
             [
              0,
              "#0d0887"
             ],
             [
              0.1111111111111111,
              "#46039f"
             ],
             [
              0.2222222222222222,
              "#7201a8"
             ],
             [
              0.3333333333333333,
              "#9c179e"
             ],
             [
              0.4444444444444444,
              "#bd3786"
             ],
             [
              0.5555555555555556,
              "#d8576b"
             ],
             [
              0.6666666666666666,
              "#ed7953"
             ],
             [
              0.7777777777777778,
              "#fb9f3a"
             ],
             [
              0.8888888888888888,
              "#fdca26"
             ],
             [
              1,
              "#f0f921"
             ]
            ],
            "type": "histogram2d"
           }
          ],
          "histogram2dcontour": [
           {
            "colorbar": {
             "outlinewidth": 0,
             "ticks": ""
            },
            "colorscale": [
             [
              0,
              "#0d0887"
             ],
             [
              0.1111111111111111,
              "#46039f"
             ],
             [
              0.2222222222222222,
              "#7201a8"
             ],
             [
              0.3333333333333333,
              "#9c179e"
             ],
             [
              0.4444444444444444,
              "#bd3786"
             ],
             [
              0.5555555555555556,
              "#d8576b"
             ],
             [
              0.6666666666666666,
              "#ed7953"
             ],
             [
              0.7777777777777778,
              "#fb9f3a"
             ],
             [
              0.8888888888888888,
              "#fdca26"
             ],
             [
              1,
              "#f0f921"
             ]
            ],
            "type": "histogram2dcontour"
           }
          ],
          "mesh3d": [
           {
            "colorbar": {
             "outlinewidth": 0,
             "ticks": ""
            },
            "type": "mesh3d"
           }
          ],
          "parcoords": [
           {
            "line": {
             "colorbar": {
              "outlinewidth": 0,
              "ticks": ""
             }
            },
            "type": "parcoords"
           }
          ],
          "pie": [
           {
            "automargin": true,
            "type": "pie"
           }
          ],
          "scatter": [
           {
            "fillpattern": {
             "fillmode": "overlay",
             "size": 10,
             "solidity": 0.2
            },
            "type": "scatter"
           }
          ],
          "scatter3d": [
           {
            "line": {
             "colorbar": {
              "outlinewidth": 0,
              "ticks": ""
             }
            },
            "marker": {
             "colorbar": {
              "outlinewidth": 0,
              "ticks": ""
             }
            },
            "type": "scatter3d"
           }
          ],
          "scattercarpet": [
           {
            "marker": {
             "colorbar": {
              "outlinewidth": 0,
              "ticks": ""
             }
            },
            "type": "scattercarpet"
           }
          ],
          "scattergeo": [
           {
            "marker": {
             "colorbar": {
              "outlinewidth": 0,
              "ticks": ""
             }
            },
            "type": "scattergeo"
           }
          ],
          "scattergl": [
           {
            "marker": {
             "colorbar": {
              "outlinewidth": 0,
              "ticks": ""
             }
            },
            "type": "scattergl"
           }
          ],
          "scattermapbox": [
           {
            "marker": {
             "colorbar": {
              "outlinewidth": 0,
              "ticks": ""
             }
            },
            "type": "scattermapbox"
           }
          ],
          "scatterpolar": [
           {
            "marker": {
             "colorbar": {
              "outlinewidth": 0,
              "ticks": ""
             }
            },
            "type": "scatterpolar"
           }
          ],
          "scatterpolargl": [
           {
            "marker": {
             "colorbar": {
              "outlinewidth": 0,
              "ticks": ""
             }
            },
            "type": "scatterpolargl"
           }
          ],
          "scatterternary": [
           {
            "marker": {
             "colorbar": {
              "outlinewidth": 0,
              "ticks": ""
             }
            },
            "type": "scatterternary"
           }
          ],
          "surface": [
           {
            "colorbar": {
             "outlinewidth": 0,
             "ticks": ""
            },
            "colorscale": [
             [
              0,
              "#0d0887"
             ],
             [
              0.1111111111111111,
              "#46039f"
             ],
             [
              0.2222222222222222,
              "#7201a8"
             ],
             [
              0.3333333333333333,
              "#9c179e"
             ],
             [
              0.4444444444444444,
              "#bd3786"
             ],
             [
              0.5555555555555556,
              "#d8576b"
             ],
             [
              0.6666666666666666,
              "#ed7953"
             ],
             [
              0.7777777777777778,
              "#fb9f3a"
             ],
             [
              0.8888888888888888,
              "#fdca26"
             ],
             [
              1,
              "#f0f921"
             ]
            ],
            "type": "surface"
           }
          ],
          "table": [
           {
            "cells": {
             "fill": {
              "color": "#EBF0F8"
             },
             "line": {
              "color": "white"
             }
            },
            "header": {
             "fill": {
              "color": "#C8D4E3"
             },
             "line": {
              "color": "white"
             }
            },
            "type": "table"
           }
          ]
         },
         "layout": {
          "annotationdefaults": {
           "arrowcolor": "#2a3f5f",
           "arrowhead": 0,
           "arrowwidth": 1
          },
          "autotypenumbers": "strict",
          "coloraxis": {
           "colorbar": {
            "outlinewidth": 0,
            "ticks": ""
           }
          },
          "colorscale": {
           "diverging": [
            [
             0,
             "#8e0152"
            ],
            [
             0.1,
             "#c51b7d"
            ],
            [
             0.2,
             "#de77ae"
            ],
            [
             0.3,
             "#f1b6da"
            ],
            [
             0.4,
             "#fde0ef"
            ],
            [
             0.5,
             "#f7f7f7"
            ],
            [
             0.6,
             "#e6f5d0"
            ],
            [
             0.7,
             "#b8e186"
            ],
            [
             0.8,
             "#7fbc41"
            ],
            [
             0.9,
             "#4d9221"
            ],
            [
             1,
             "#276419"
            ]
           ],
           "sequential": [
            [
             0,
             "#0d0887"
            ],
            [
             0.1111111111111111,
             "#46039f"
            ],
            [
             0.2222222222222222,
             "#7201a8"
            ],
            [
             0.3333333333333333,
             "#9c179e"
            ],
            [
             0.4444444444444444,
             "#bd3786"
            ],
            [
             0.5555555555555556,
             "#d8576b"
            ],
            [
             0.6666666666666666,
             "#ed7953"
            ],
            [
             0.7777777777777778,
             "#fb9f3a"
            ],
            [
             0.8888888888888888,
             "#fdca26"
            ],
            [
             1,
             "#f0f921"
            ]
           ],
           "sequentialminus": [
            [
             0,
             "#0d0887"
            ],
            [
             0.1111111111111111,
             "#46039f"
            ],
            [
             0.2222222222222222,
             "#7201a8"
            ],
            [
             0.3333333333333333,
             "#9c179e"
            ],
            [
             0.4444444444444444,
             "#bd3786"
            ],
            [
             0.5555555555555556,
             "#d8576b"
            ],
            [
             0.6666666666666666,
             "#ed7953"
            ],
            [
             0.7777777777777778,
             "#fb9f3a"
            ],
            [
             0.8888888888888888,
             "#fdca26"
            ],
            [
             1,
             "#f0f921"
            ]
           ]
          },
          "colorway": [
           "#636efa",
           "#EF553B",
           "#00cc96",
           "#ab63fa",
           "#FFA15A",
           "#19d3f3",
           "#FF6692",
           "#B6E880",
           "#FF97FF",
           "#FECB52"
          ],
          "font": {
           "color": "#2a3f5f"
          },
          "geo": {
           "bgcolor": "white",
           "lakecolor": "white",
           "landcolor": "#E5ECF6",
           "showlakes": true,
           "showland": true,
           "subunitcolor": "white"
          },
          "hoverlabel": {
           "align": "left"
          },
          "hovermode": "closest",
          "mapbox": {
           "style": "light"
          },
          "paper_bgcolor": "white",
          "plot_bgcolor": "#E5ECF6",
          "polar": {
           "angularaxis": {
            "gridcolor": "white",
            "linecolor": "white",
            "ticks": ""
           },
           "bgcolor": "#E5ECF6",
           "radialaxis": {
            "gridcolor": "white",
            "linecolor": "white",
            "ticks": ""
           }
          },
          "scene": {
           "xaxis": {
            "backgroundcolor": "#E5ECF6",
            "gridcolor": "white",
            "gridwidth": 2,
            "linecolor": "white",
            "showbackground": true,
            "ticks": "",
            "zerolinecolor": "white"
           },
           "yaxis": {
            "backgroundcolor": "#E5ECF6",
            "gridcolor": "white",
            "gridwidth": 2,
            "linecolor": "white",
            "showbackground": true,
            "ticks": "",
            "zerolinecolor": "white"
           },
           "zaxis": {
            "backgroundcolor": "#E5ECF6",
            "gridcolor": "white",
            "gridwidth": 2,
            "linecolor": "white",
            "showbackground": true,
            "ticks": "",
            "zerolinecolor": "white"
           }
          },
          "shapedefaults": {
           "line": {
            "color": "#2a3f5f"
           }
          },
          "ternary": {
           "aaxis": {
            "gridcolor": "white",
            "linecolor": "white",
            "ticks": ""
           },
           "baxis": {
            "gridcolor": "white",
            "linecolor": "white",
            "ticks": ""
           },
           "bgcolor": "#E5ECF6",
           "caxis": {
            "gridcolor": "white",
            "linecolor": "white",
            "ticks": ""
           }
          },
          "title": {
           "x": 0.05
          },
          "xaxis": {
           "automargin": true,
           "gridcolor": "white",
           "linecolor": "white",
           "ticks": "",
           "title": {
            "standoff": 15
           },
           "zerolinecolor": "white",
           "zerolinewidth": 2
          },
          "yaxis": {
           "automargin": true,
           "gridcolor": "white",
           "linecolor": "white",
           "ticks": "",
           "title": {
            "standoff": 15
           },
           "zerolinecolor": "white",
           "zerolinewidth": 2
          }
         }
        },
        "title": {
         "text": "Weighted ETP Logarithmic Returns from 2022-01-04 to 2022-02-28"
        },
        "xaxis": {
         "anchor": "y",
         "domain": [
          0,
          1
         ],
         "dtick": "M1",
         "tickformat": "%b\n%Y",
         "title": {
          "text": "date"
         }
        },
        "yaxis": {
         "anchor": "x",
         "domain": [
          0,
          1
         ],
         "title": {
          "text": "value"
         }
        }
       }
      },
      "text/html": [
       "<div>                            <div id=\"7b18f396-d756-4617-b2cc-0d95d1c2e3eb\" class=\"plotly-graph-div\" style=\"height:525px; width:100%;\"></div>            <script type=\"text/javascript\">                require([\"plotly\"], function(Plotly) {                    window.PLOTLYENV=window.PLOTLYENV || {};                                    if (document.getElementById(\"7b18f396-d756-4617-b2cc-0d95d1c2e3eb\")) {                    Plotly.newPlot(                        \"7b18f396-d756-4617-b2cc-0d95d1c2e3eb\",                        [{\"customdata\":[[[\"solana\",\"cardano\",\"ripple\",\"bitcoin\",\"litecoin\"],[0.03812957486359489,0.04597753872039372,0.0888512919532224,0.1648864083285305,0.6621551861342585]],[[\"solana\",\"cardano\",\"ripple\",\"bitcoin\"],[0.01611422842504493,0.08653173483497846,0.20918468318611694,0.6881693535538596]],[[\"solana\",\"litecoin\",\"ripple\",\"cardano\",\"bitcoin\"],[0.0330422675990741,0.010827577824689546,0.04818686977720013,0.03152608385405656,0.8764172009449797]],[[\"solana\",\"ethereum\",\"litecoin\",\"bitcoin\",\"ripple\"],[0.017258683571152834,0.03604254144037207,0.07426903569672902,0.10572691240332761,0.7667028268884184]],[[\"solana\",\"ethereum\",\"litecoin\",\"bitcoin\",\"ripple\",\"cardano\"],[0.0007422844161519035,0.10446354493129244,0.04987476410226452,0.1437017854601968,0.6018705593470908,0.09934706174300356]],[[\"solana\",\"ethereum\",\"litecoin\",\"cardano\",\"bitcoin\",\"ripple\"],[0.0052841088107399336,0.06592839445166285,0.017189757506264825,0.03080217964022296,0.20138136065087517,0.6794141989402341]],[[\"solana\",\"ethereum\",\"cardano\",\"litecoin\",\"ripple\"],[0.025813460885527592,0.08993144059745743,0.04425702695715789,0.09250270025825821,0.7474953713015987]],[[\"solana\",\"ethereum\",\"litecoin\",\"cardano\",\"ripple\"],[0.022358135967478005,0.09717543031309721,0.01495555755082021,0.1802529798811436,0.6852578962874611]],[[\"solana\",\"ethereum\",\"litecoin\",\"cardano\",\"bitcoin\"],[0.004369412735693988,0.04690472799334894,0.4566507954059104,0.03046888577395973,0.461606178091087]],[[\"ethereum\",\"solana\"],[0.0028061327766866566,0.9971938672233134]],[[\"ethereum\",\"cardano\",\"solana\",\"ripple\",\"bitcoin\"],[0.01905642704976438,0.06506570243834735,0.0074960909568095755,0.3875837233496454,0.5207980562054333]],[[\"ethereum\",\"ripple\"],[0.03626484039402582,0.9637351596059742]],[[\"solana\",\"ethereum\",\"ripple\",\"bitcoin\"],[0.03875029431590774,0.10170818763790719,0.039189357379948435,0.8203521606662365]],[[\"solana\",\"ethereum\",\"ripple\",\"bitcoin\",\"litecoin\"],[0.006939629020620422,0.10429811786722776,0.05452926700919661,0.19275769590733408,0.6414752901956211]],[[\"solana\",\"ethereum\",\"litecoin\",\"ripple\",\"bitcoin\"],[0.026719213390994163,0.05624627137816502,0.00032286233117326106,0.624902503320707,0.29180914957896065]],[[\"solana\",\"ethereum\",\"litecoin\",\"ripple\",\"bitcoin\"],[0.012487188394108525,0.05068036710079185,0.10669757784594053,0.2533718239353422,0.5767630427238168]],[[\"solana\",\"ethereum\",\"litecoin\",\"cardano\",\"ripple\"],[0.01928989766473756,0.030429618444762378,0.06708013932079863,0.6095687940678827,0.27363155050181875]],[[\"solana\",\"cardano\",\"litecoin\",\"ethereum\",\"ripple\"],[0.021179634467207328,0.1264486489587209,0.07922711261624123,0.08294605275344633,0.6901985512043843]],[[\"solana\",\"cardano\",\"litecoin\",\"ethereum\",\"ripple\"],[0.06231473198251517,0.030575685968072364,0.035328271923853884,0.01293325225288997,0.8588480578726686]],[[\"solana\",\"litecoin\",\"ethereum\",\"cardano\",\"ripple\"],[0.029202804552657807,0.046812221985202324,0.006984076009986892,0.009357680091007965,0.907643217361145]],[[\"solana\",\"ethereum\",\"litecoin\",\"cardano\",\"ripple\"],[0.007387685495037856,0.01369349021391679,0.016852928129917073,0.16052101262050864,0.8015448835406196]],[[\"solana\",\"cardano\",\"litecoin\",\"ripple\",\"ethereum\"],[0.002656897907858728,0.08692767431997758,0.2790150138282949,0.013538225317518564,0.6178621886263501]],[[\"cardano\",\"solana\",\"ripple\"],[0.029192426510744454,0.0064767759469416914,0.9643307975423138]],[[\"cardano\",\"litecoin\"],[0.014305905325364928,0.9856940946746351]],[[\"cardano\",\"ripple\"],[0.0026393427980337413,0.9973606572019662]],[[\"solana\",\"cardano\",\"ethereum\"],[0.007157380159625566,0.03901067142121518,0.9538319484191593]],[[\"solana\",\"cardano\",\"ethereum\"],[0.03461856399270351,0.12555475689045376,0.8398266791168428]],[[\"solana\",\"cardano\",\"ethereum\",\"litecoin\",\"bitcoin\"],[0.03305969530763519,0.0011326853860305704,0.07430505605053425,0.14244409974073474,0.7490584635150654]],[[\"solana\",\"cardano\",\"litecoin\",\"ethereum\",\"bitcoin\",\"ripple\"],[0.030824097605498025,0.07129253142277733,0.043186502725705386,0.02879967735917258,0.199742390163113,0.6261548007237338]],[[\"solana\",\"cardano\",\"ripple\"],[0.006943199928744149,0.046761922983456584,0.9462948770877992]],[[\"solana\",\"cardano\",\"litecoin\",\"ripple\",\"ethereum\"],[0.03352843395170755,0.015081303712268245,0.02878012872151253,0.36912308638269814,0.5534870472318134]],[[\"litecoin\",\"solana\",\"cardano\",\"ripple\",\"bitcoin\"],[0.07446355585181129,0.13948137909259503,0.01847376616169596,0.040086741020806484,0.7274945578730913]],[[\"litecoin\",\"cardano\",\"solana\",\"bitcoin\"],[0.030480433874178807,0.021752167703987583,0.48726870026210617,0.4604986981597274]],[[\"litecoin\",\"cardano\",\"bitcoin\",\"ethereum\",\"solana\"],[0.019301092680024973,0.0007920647724228851,0.11364641320053878,0.10320380824488537,0.763056621102128]],[[\"litecoin\",\"cardano\",\"bitcoin\",\"ethereum\",\"ripple\"],[0.022260455552315882,0.05362398596000396,0.0800834030794941,0.10351704924392335,0.7405151061642625]],[[\"cardano\",\"litecoin\",\"bitcoin\",\"solana\",\"ethereum\",\"ripple\"],[0.01300492160993883,0.012879802499560606,0.06956294973682373,0.026685588977176145,0.46312420822219397,0.4147425289543067]],[[\"cardano\",\"litecoin\",\"solana\",\"ethereum\"],[0.06932882336690714,0.011759524791250581,0.17584136467646982,0.7430702871653725]],[[\"cardano\",\"litecoin\",\"ethereum\",\"solana\",\"ripple\"],[0.038064684440204784,0.014365064154494983,0.006550889032772687,0.21912152175394337,0.7218978406185841]],[[\"cardano\",\"litecoin\",\"ethereum\",\"ripple\",\"bitcoin\"],[0.031303761874627474,0.14683860082400957,0.021058549122006158,0.1591337736674429,0.641665314511914]],[[\"cardano\",\"litecoin\",\"ripple\",\"bitcoin\",\"ethereum\"],[0.010282703450161867,0.0029150545421766172,0.11725548339748289,0.09253065048382195,0.7770161081263567]],[[\"cardano\",\"ripple\",\"litecoin\",\"bitcoin\"],[0.06098189663631258,0.05874390475014545,0.10117506861973809,0.7790991299938039]],[[\"cardano\",\"ripple\",\"litecoin\",\"solana\"],[0.013862129491040988,0.0018847500563646219,0.003603710091292875,0.9806494103613016]]],\"hovertemplate\":\"variable=weighted_market_cap_returns<br>date=%{x|%B %d, %Y}<br>value=%{y}<br>coins=%{customdata[0]}<br>best_weights=%{customdata[1]}<extra></extra>\",\"legendgroup\":\"weighted_market_cap_returns\",\"line\":{\"color\":\"#636efa\",\"dash\":\"solid\"},\"marker\":{\"symbol\":\"circle\"},\"mode\":\"lines\",\"name\":\"weighted_market_cap_returns\",\"orientation\":\"v\",\"showlegend\":true,\"x\":[\"2022-01-04\",\"2022-01-05\",\"2022-01-06\",\"2022-01-07\",\"2022-01-08\",\"2022-01-09\",\"2022-01-10\",\"2022-01-11\",\"2022-01-12\",\"2022-01-13\",\"2022-01-14\",\"2022-01-19\",\"2022-01-20\",\"2022-01-21\",\"2022-01-22\",\"2022-01-23\",\"2022-01-24\",\"2022-01-25\",\"2022-01-26\",\"2022-01-27\",\"2022-01-28\",\"2022-01-29\",\"2022-01-31\",\"2022-02-01\",\"2022-02-03\",\"2022-02-12\",\"2022-02-13\",\"2022-02-14\",\"2022-02-15\",\"2022-02-16\",\"2022-02-17\",\"2022-02-18\",\"2022-02-19\",\"2022-02-20\",\"2022-02-21\",\"2022-02-22\",\"2022-02-23\",\"2022-02-24\",\"2022-02-25\",\"2022-02-26\",\"2022-02-27\",\"2022-02-28\"],\"xaxis\":\"x\",\"y\":[159479407474.56747,615747368239.7753,730169177191.9606,131499559449.06424,179308389926.5164,209905204094.40942,64206887464.47237,67508188389.92171,397423107089.9706,48530884050.244194,444598213117.78595,48330833473.492096,689304924622.4393,194882193189.28946,239444187599.71838,407200368801.0892,40473523252.15992,50067769040.53106,32403732153.7732,30644088518.23421,33017089194.923615,193549197182.28864,28985763493.851257,7983007804.601457,28777844034.98537,335541408364.27966,297158500984.56805,628714406766.9583,199370767228.623,40542998171.65179,224865580778.6844,567104367868.7465,364913570750.0201,143146303318.02936,120524115638.30878,207189495894.6051,242509274800.3039,33518872100.88683,480720948264.011,332892713201.942,581985992586.7756,27303914066.08009],\"yaxis\":\"y\",\"type\":\"scatter\"}],                        {\"template\":{\"data\":{\"histogram2dcontour\":[{\"type\":\"histogram2dcontour\",\"colorbar\":{\"outlinewidth\":0,\"ticks\":\"\"},\"colorscale\":[[0.0,\"#0d0887\"],[0.1111111111111111,\"#46039f\"],[0.2222222222222222,\"#7201a8\"],[0.3333333333333333,\"#9c179e\"],[0.4444444444444444,\"#bd3786\"],[0.5555555555555556,\"#d8576b\"],[0.6666666666666666,\"#ed7953\"],[0.7777777777777778,\"#fb9f3a\"],[0.8888888888888888,\"#fdca26\"],[1.0,\"#f0f921\"]]}],\"choropleth\":[{\"type\":\"choropleth\",\"colorbar\":{\"outlinewidth\":0,\"ticks\":\"\"}}],\"histogram2d\":[{\"type\":\"histogram2d\",\"colorbar\":{\"outlinewidth\":0,\"ticks\":\"\"},\"colorscale\":[[0.0,\"#0d0887\"],[0.1111111111111111,\"#46039f\"],[0.2222222222222222,\"#7201a8\"],[0.3333333333333333,\"#9c179e\"],[0.4444444444444444,\"#bd3786\"],[0.5555555555555556,\"#d8576b\"],[0.6666666666666666,\"#ed7953\"],[0.7777777777777778,\"#fb9f3a\"],[0.8888888888888888,\"#fdca26\"],[1.0,\"#f0f921\"]]}],\"heatmap\":[{\"type\":\"heatmap\",\"colorbar\":{\"outlinewidth\":0,\"ticks\":\"\"},\"colorscale\":[[0.0,\"#0d0887\"],[0.1111111111111111,\"#46039f\"],[0.2222222222222222,\"#7201a8\"],[0.3333333333333333,\"#9c179e\"],[0.4444444444444444,\"#bd3786\"],[0.5555555555555556,\"#d8576b\"],[0.6666666666666666,\"#ed7953\"],[0.7777777777777778,\"#fb9f3a\"],[0.8888888888888888,\"#fdca26\"],[1.0,\"#f0f921\"]]}],\"heatmapgl\":[{\"type\":\"heatmapgl\",\"colorbar\":{\"outlinewidth\":0,\"ticks\":\"\"},\"colorscale\":[[0.0,\"#0d0887\"],[0.1111111111111111,\"#46039f\"],[0.2222222222222222,\"#7201a8\"],[0.3333333333333333,\"#9c179e\"],[0.4444444444444444,\"#bd3786\"],[0.5555555555555556,\"#d8576b\"],[0.6666666666666666,\"#ed7953\"],[0.7777777777777778,\"#fb9f3a\"],[0.8888888888888888,\"#fdca26\"],[1.0,\"#f0f921\"]]}],\"contourcarpet\":[{\"type\":\"contourcarpet\",\"colorbar\":{\"outlinewidth\":0,\"ticks\":\"\"}}],\"contour\":[{\"type\":\"contour\",\"colorbar\":{\"outlinewidth\":0,\"ticks\":\"\"},\"colorscale\":[[0.0,\"#0d0887\"],[0.1111111111111111,\"#46039f\"],[0.2222222222222222,\"#7201a8\"],[0.3333333333333333,\"#9c179e\"],[0.4444444444444444,\"#bd3786\"],[0.5555555555555556,\"#d8576b\"],[0.6666666666666666,\"#ed7953\"],[0.7777777777777778,\"#fb9f3a\"],[0.8888888888888888,\"#fdca26\"],[1.0,\"#f0f921\"]]}],\"surface\":[{\"type\":\"surface\",\"colorbar\":{\"outlinewidth\":0,\"ticks\":\"\"},\"colorscale\":[[0.0,\"#0d0887\"],[0.1111111111111111,\"#46039f\"],[0.2222222222222222,\"#7201a8\"],[0.3333333333333333,\"#9c179e\"],[0.4444444444444444,\"#bd3786\"],[0.5555555555555556,\"#d8576b\"],[0.6666666666666666,\"#ed7953\"],[0.7777777777777778,\"#fb9f3a\"],[0.8888888888888888,\"#fdca26\"],[1.0,\"#f0f921\"]]}],\"mesh3d\":[{\"type\":\"mesh3d\",\"colorbar\":{\"outlinewidth\":0,\"ticks\":\"\"}}],\"scatter\":[{\"fillpattern\":{\"fillmode\":\"overlay\",\"size\":10,\"solidity\":0.2},\"type\":\"scatter\"}],\"parcoords\":[{\"type\":\"parcoords\",\"line\":{\"colorbar\":{\"outlinewidth\":0,\"ticks\":\"\"}}}],\"scatterpolargl\":[{\"type\":\"scatterpolargl\",\"marker\":{\"colorbar\":{\"outlinewidth\":0,\"ticks\":\"\"}}}],\"bar\":[{\"error_x\":{\"color\":\"#2a3f5f\"},\"error_y\":{\"color\":\"#2a3f5f\"},\"marker\":{\"line\":{\"color\":\"#E5ECF6\",\"width\":0.5},\"pattern\":{\"fillmode\":\"overlay\",\"size\":10,\"solidity\":0.2}},\"type\":\"bar\"}],\"scattergeo\":[{\"type\":\"scattergeo\",\"marker\":{\"colorbar\":{\"outlinewidth\":0,\"ticks\":\"\"}}}],\"scatterpolar\":[{\"type\":\"scatterpolar\",\"marker\":{\"colorbar\":{\"outlinewidth\":0,\"ticks\":\"\"}}}],\"histogram\":[{\"marker\":{\"pattern\":{\"fillmode\":\"overlay\",\"size\":10,\"solidity\":0.2}},\"type\":\"histogram\"}],\"scattergl\":[{\"type\":\"scattergl\",\"marker\":{\"colorbar\":{\"outlinewidth\":0,\"ticks\":\"\"}}}],\"scatter3d\":[{\"type\":\"scatter3d\",\"line\":{\"colorbar\":{\"outlinewidth\":0,\"ticks\":\"\"}},\"marker\":{\"colorbar\":{\"outlinewidth\":0,\"ticks\":\"\"}}}],\"scattermapbox\":[{\"type\":\"scattermapbox\",\"marker\":{\"colorbar\":{\"outlinewidth\":0,\"ticks\":\"\"}}}],\"scatterternary\":[{\"type\":\"scatterternary\",\"marker\":{\"colorbar\":{\"outlinewidth\":0,\"ticks\":\"\"}}}],\"scattercarpet\":[{\"type\":\"scattercarpet\",\"marker\":{\"colorbar\":{\"outlinewidth\":0,\"ticks\":\"\"}}}],\"carpet\":[{\"aaxis\":{\"endlinecolor\":\"#2a3f5f\",\"gridcolor\":\"white\",\"linecolor\":\"white\",\"minorgridcolor\":\"white\",\"startlinecolor\":\"#2a3f5f\"},\"baxis\":{\"endlinecolor\":\"#2a3f5f\",\"gridcolor\":\"white\",\"linecolor\":\"white\",\"minorgridcolor\":\"white\",\"startlinecolor\":\"#2a3f5f\"},\"type\":\"carpet\"}],\"table\":[{\"cells\":{\"fill\":{\"color\":\"#EBF0F8\"},\"line\":{\"color\":\"white\"}},\"header\":{\"fill\":{\"color\":\"#C8D4E3\"},\"line\":{\"color\":\"white\"}},\"type\":\"table\"}],\"barpolar\":[{\"marker\":{\"line\":{\"color\":\"#E5ECF6\",\"width\":0.5},\"pattern\":{\"fillmode\":\"overlay\",\"size\":10,\"solidity\":0.2}},\"type\":\"barpolar\"}],\"pie\":[{\"automargin\":true,\"type\":\"pie\"}]},\"layout\":{\"autotypenumbers\":\"strict\",\"colorway\":[\"#636efa\",\"#EF553B\",\"#00cc96\",\"#ab63fa\",\"#FFA15A\",\"#19d3f3\",\"#FF6692\",\"#B6E880\",\"#FF97FF\",\"#FECB52\"],\"font\":{\"color\":\"#2a3f5f\"},\"hovermode\":\"closest\",\"hoverlabel\":{\"align\":\"left\"},\"paper_bgcolor\":\"white\",\"plot_bgcolor\":\"#E5ECF6\",\"polar\":{\"bgcolor\":\"#E5ECF6\",\"angularaxis\":{\"gridcolor\":\"white\",\"linecolor\":\"white\",\"ticks\":\"\"},\"radialaxis\":{\"gridcolor\":\"white\",\"linecolor\":\"white\",\"ticks\":\"\"}},\"ternary\":{\"bgcolor\":\"#E5ECF6\",\"aaxis\":{\"gridcolor\":\"white\",\"linecolor\":\"white\",\"ticks\":\"\"},\"baxis\":{\"gridcolor\":\"white\",\"linecolor\":\"white\",\"ticks\":\"\"},\"caxis\":{\"gridcolor\":\"white\",\"linecolor\":\"white\",\"ticks\":\"\"}},\"coloraxis\":{\"colorbar\":{\"outlinewidth\":0,\"ticks\":\"\"}},\"colorscale\":{\"sequential\":[[0.0,\"#0d0887\"],[0.1111111111111111,\"#46039f\"],[0.2222222222222222,\"#7201a8\"],[0.3333333333333333,\"#9c179e\"],[0.4444444444444444,\"#bd3786\"],[0.5555555555555556,\"#d8576b\"],[0.6666666666666666,\"#ed7953\"],[0.7777777777777778,\"#fb9f3a\"],[0.8888888888888888,\"#fdca26\"],[1.0,\"#f0f921\"]],\"sequentialminus\":[[0.0,\"#0d0887\"],[0.1111111111111111,\"#46039f\"],[0.2222222222222222,\"#7201a8\"],[0.3333333333333333,\"#9c179e\"],[0.4444444444444444,\"#bd3786\"],[0.5555555555555556,\"#d8576b\"],[0.6666666666666666,\"#ed7953\"],[0.7777777777777778,\"#fb9f3a\"],[0.8888888888888888,\"#fdca26\"],[1.0,\"#f0f921\"]],\"diverging\":[[0,\"#8e0152\"],[0.1,\"#c51b7d\"],[0.2,\"#de77ae\"],[0.3,\"#f1b6da\"],[0.4,\"#fde0ef\"],[0.5,\"#f7f7f7\"],[0.6,\"#e6f5d0\"],[0.7,\"#b8e186\"],[0.8,\"#7fbc41\"],[0.9,\"#4d9221\"],[1,\"#276419\"]]},\"xaxis\":{\"gridcolor\":\"white\",\"linecolor\":\"white\",\"ticks\":\"\",\"title\":{\"standoff\":15},\"zerolinecolor\":\"white\",\"automargin\":true,\"zerolinewidth\":2},\"yaxis\":{\"gridcolor\":\"white\",\"linecolor\":\"white\",\"ticks\":\"\",\"title\":{\"standoff\":15},\"zerolinecolor\":\"white\",\"automargin\":true,\"zerolinewidth\":2},\"scene\":{\"xaxis\":{\"backgroundcolor\":\"#E5ECF6\",\"gridcolor\":\"white\",\"linecolor\":\"white\",\"showbackground\":true,\"ticks\":\"\",\"zerolinecolor\":\"white\",\"gridwidth\":2},\"yaxis\":{\"backgroundcolor\":\"#E5ECF6\",\"gridcolor\":\"white\",\"linecolor\":\"white\",\"showbackground\":true,\"ticks\":\"\",\"zerolinecolor\":\"white\",\"gridwidth\":2},\"zaxis\":{\"backgroundcolor\":\"#E5ECF6\",\"gridcolor\":\"white\",\"linecolor\":\"white\",\"showbackground\":true,\"ticks\":\"\",\"zerolinecolor\":\"white\",\"gridwidth\":2}},\"shapedefaults\":{\"line\":{\"color\":\"#2a3f5f\"}},\"annotationdefaults\":{\"arrowcolor\":\"#2a3f5f\",\"arrowhead\":0,\"arrowwidth\":1},\"geo\":{\"bgcolor\":\"white\",\"landcolor\":\"#E5ECF6\",\"subunitcolor\":\"white\",\"showland\":true,\"showlakes\":true,\"lakecolor\":\"white\"},\"title\":{\"x\":0.05},\"mapbox\":{\"style\":\"light\"}}},\"xaxis\":{\"anchor\":\"y\",\"domain\":[0.0,1.0],\"title\":{\"text\":\"date\"},\"dtick\":\"M1\",\"tickformat\":\"%b\\n%Y\"},\"yaxis\":{\"anchor\":\"x\",\"domain\":[0.0,1.0],\"title\":{\"text\":\"value\"}},\"legend\":{\"title\":{\"text\":\"variable\"},\"tracegroupgap\":0},\"title\":{\"text\":\"Weighted ETP Logarithmic Returns from 2022-01-04 to 2022-02-28\"}},                        {\"responsive\": true}                    ).then(function(){\n",
       "                            \n",
       "var gd = document.getElementById('7b18f396-d756-4617-b2cc-0d95d1c2e3eb');\n",
       "var x = new MutationObserver(function (mutations, observer) {{\n",
       "        var display = window.getComputedStyle(gd).display;\n",
       "        if (!display || display === 'none') {{\n",
       "            console.log([gd, 'removed!']);\n",
       "            Plotly.purge(gd);\n",
       "            observer.disconnect();\n",
       "        }}\n",
       "}});\n",
       "\n",
       "// Listen for the removal of the full notebook cells\n",
       "var notebookContainer = gd.closest('#notebook-container');\n",
       "if (notebookContainer) {{\n",
       "    x.observe(notebookContainer, {childList: true});\n",
       "}}\n",
       "\n",
       "// Listen for the clearing of the current output cell\n",
       "var outputEl = gd.closest('.output');\n",
       "if (outputEl) {{\n",
       "    x.observe(outputEl, {childList: true});\n",
       "}}\n",
       "\n",
       "                        })                };                });            </script>        </div>"
      ]
     },
     "metadata": {},
     "output_type": "display_data"
    }
   ],
   "source": [
    "import plotly.express as px\n",
    "\n",
    "''' To plot the data transform back to coind ids to be individual columns '''\n",
    "weigted_sum_df = pd.DataFrame(_actual_weighted_sum_df)\n",
    "_min_date = weigted_sum_df[\"date\"].min()\n",
    "_max_date = weigted_sum_df[\"date\"].max()\n",
    "weigted_sum_df.reset_index(inplace=True)\n",
    "\n",
    "_title = \"Weighted ETP Logarithmic Returns from \"+str(_min_date)+\" to \"+str(_max_date)\n",
    "fig = px.line(weigted_sum_df, x=\"date\", y=['weighted_market_cap_returns'],\n",
    "#               color='red',\n",
    "              hover_data={\"date\": \"|%B %d, %Y\", \"coins\": True, \"best_weights\": True},\n",
    "              title=_title,)\n",
    "\n",
    "fig.update_xaxes(\n",
    "    dtick=\"M1\",\n",
    "    tickformat=\"%b\\n%Y\")\n",
    "fig.show()"
   ]
  },
  {
   "cell_type": "markdown",
   "id": "1e429b08",
   "metadata": {},
   "source": [
    "### Bitcoin plot"
   ]
  },
  {
   "cell_type": "code",
   "execution_count": 65,
   "id": "0c592c2f",
   "metadata": {},
   "outputs": [
    {
     "name": "stderr",
     "output_type": "stream",
     "text": [
      "/tmp/ipykernel_34046/1528585544.py:3: SettingWithCopyWarning:\n",
      "\n",
      "\n",
      "A value is trying to be set on a copy of a slice from a DataFrame\n",
      "\n",
      "See the caveats in the documentation: https://pandas.pydata.org/pandas-docs/stable/user_guide/indexing.html#returning-a-view-versus-a-copy\n",
      "\n"
     ]
    },
    {
     "data": {
      "application/vnd.plotly.v1+json": {
       "config": {
        "plotlyServerURL": "https://plot.ly"
       },
       "data": [
        {
         "hovertemplate": "variable=simp_move_avg_market_cap<br>Date=%{x|%B %d, %Y}<br>value=%{y}<extra></extra>",
         "legendgroup": "simp_move_avg_market_cap",
         "line": {
          "color": "#636efa",
          "dash": "solid"
         },
         "marker": {
          "symbol": "circle"
         },
         "mode": "lines",
         "name": "simp_move_avg_market_cap",
         "orientation": "v",
         "showlegend": true,
         "type": "scatter",
         "x": [
          "2022-01-04",
          "2022-01-05",
          "2022-01-06",
          "2022-01-07",
          "2022-01-08",
          "2022-01-09",
          "2022-01-10",
          "2022-01-11",
          "2022-01-12",
          "2022-01-13",
          "2022-01-14",
          "2022-01-15",
          "2022-01-16",
          "2022-01-17",
          "2022-01-18",
          "2022-01-19",
          "2022-01-20",
          "2022-01-21",
          "2022-01-22",
          "2022-01-23",
          "2022-01-24",
          "2022-01-25",
          "2022-01-26",
          "2022-01-27",
          "2022-01-28",
          "2022-01-29",
          "2022-01-30",
          "2022-01-31",
          "2022-02-01",
          "2022-02-02",
          "2022-02-03",
          "2022-02-04",
          "2022-02-05",
          "2022-02-06",
          "2022-02-07",
          "2022-02-08",
          "2022-02-09",
          "2022-02-10",
          "2022-02-11",
          "2022-02-12",
          "2022-02-13",
          "2022-02-14",
          "2022-02-15",
          "2022-02-16",
          "2022-02-17",
          "2022-02-18",
          "2022-02-19",
          "2022-02-20",
          "2022-02-21",
          "2022-02-22",
          "2022-02-23",
          "2022-02-24",
          "2022-02-25",
          "2022-02-26",
          "2022-02-27",
          "2022-02-28"
         ],
         "xaxis": "x",
         "y": [
          889652792781.6372,
          886970772158.5488,
          877096177251.3082,
          868871420416.4153,
          856234651764.7032,
          840283316487.3654,
          825156526186.4542,
          812596173683.9401,
          803078863089.9701,
          803755559552.8619,
          801896699670.6864,
          805952950095.8761,
          809368338460.2649,
          812893627135.4904,
          814095759409.2568,
          813287271539.1953,
          807294106875.4003,
          802683385367.0637,
          785072773202.1349,
          763561399336.6788,
          745168598602.241,
          730260423104.442,
          715490330565.9918,
          702584315472.778,
          692309407809.8323,
          695762538621.246,
          703849439789.4883,
          708420035292.5983,
          712911460463.5417,
          717987292118.9392,
          718055834514.303,
          718154676216.9967,
          726772982030.2506,
          735839559658.2592,
          748035545251.8619,
          763105133840.2704,
          777577215531.6454,
          797676409376.6505,
          815381959327.8907,
          819146487078.789,
          821039688378.8414,
          820627927172.0316,
          817040512804.4911,
          818599718099.8856,
          817873448163.4459,
          809752659616.0537,
          803491958817.3972,
          798049070502.7283,
          787809370736.4496,
          772769888443.3258,
          755451745718.1354,
          737247917722.4661,
          731185208702.387,
          729168254488.5125,
          726259166199.6556,
          724436016202.8909
         ],
         "yaxis": "y"
        }
       ],
       "layout": {
        "legend": {
         "title": {
          "text": "variable"
         },
         "tracegroupgap": 0
        },
        "template": {
         "data": {
          "bar": [
           {
            "error_x": {
             "color": "#2a3f5f"
            },
            "error_y": {
             "color": "#2a3f5f"
            },
            "marker": {
             "line": {
              "color": "#E5ECF6",
              "width": 0.5
             },
             "pattern": {
              "fillmode": "overlay",
              "size": 10,
              "solidity": 0.2
             }
            },
            "type": "bar"
           }
          ],
          "barpolar": [
           {
            "marker": {
             "line": {
              "color": "#E5ECF6",
              "width": 0.5
             },
             "pattern": {
              "fillmode": "overlay",
              "size": 10,
              "solidity": 0.2
             }
            },
            "type": "barpolar"
           }
          ],
          "carpet": [
           {
            "aaxis": {
             "endlinecolor": "#2a3f5f",
             "gridcolor": "white",
             "linecolor": "white",
             "minorgridcolor": "white",
             "startlinecolor": "#2a3f5f"
            },
            "baxis": {
             "endlinecolor": "#2a3f5f",
             "gridcolor": "white",
             "linecolor": "white",
             "minorgridcolor": "white",
             "startlinecolor": "#2a3f5f"
            },
            "type": "carpet"
           }
          ],
          "choropleth": [
           {
            "colorbar": {
             "outlinewidth": 0,
             "ticks": ""
            },
            "type": "choropleth"
           }
          ],
          "contour": [
           {
            "colorbar": {
             "outlinewidth": 0,
             "ticks": ""
            },
            "colorscale": [
             [
              0,
              "#0d0887"
             ],
             [
              0.1111111111111111,
              "#46039f"
             ],
             [
              0.2222222222222222,
              "#7201a8"
             ],
             [
              0.3333333333333333,
              "#9c179e"
             ],
             [
              0.4444444444444444,
              "#bd3786"
             ],
             [
              0.5555555555555556,
              "#d8576b"
             ],
             [
              0.6666666666666666,
              "#ed7953"
             ],
             [
              0.7777777777777778,
              "#fb9f3a"
             ],
             [
              0.8888888888888888,
              "#fdca26"
             ],
             [
              1,
              "#f0f921"
             ]
            ],
            "type": "contour"
           }
          ],
          "contourcarpet": [
           {
            "colorbar": {
             "outlinewidth": 0,
             "ticks": ""
            },
            "type": "contourcarpet"
           }
          ],
          "heatmap": [
           {
            "colorbar": {
             "outlinewidth": 0,
             "ticks": ""
            },
            "colorscale": [
             [
              0,
              "#0d0887"
             ],
             [
              0.1111111111111111,
              "#46039f"
             ],
             [
              0.2222222222222222,
              "#7201a8"
             ],
             [
              0.3333333333333333,
              "#9c179e"
             ],
             [
              0.4444444444444444,
              "#bd3786"
             ],
             [
              0.5555555555555556,
              "#d8576b"
             ],
             [
              0.6666666666666666,
              "#ed7953"
             ],
             [
              0.7777777777777778,
              "#fb9f3a"
             ],
             [
              0.8888888888888888,
              "#fdca26"
             ],
             [
              1,
              "#f0f921"
             ]
            ],
            "type": "heatmap"
           }
          ],
          "heatmapgl": [
           {
            "colorbar": {
             "outlinewidth": 0,
             "ticks": ""
            },
            "colorscale": [
             [
              0,
              "#0d0887"
             ],
             [
              0.1111111111111111,
              "#46039f"
             ],
             [
              0.2222222222222222,
              "#7201a8"
             ],
             [
              0.3333333333333333,
              "#9c179e"
             ],
             [
              0.4444444444444444,
              "#bd3786"
             ],
             [
              0.5555555555555556,
              "#d8576b"
             ],
             [
              0.6666666666666666,
              "#ed7953"
             ],
             [
              0.7777777777777778,
              "#fb9f3a"
             ],
             [
              0.8888888888888888,
              "#fdca26"
             ],
             [
              1,
              "#f0f921"
             ]
            ],
            "type": "heatmapgl"
           }
          ],
          "histogram": [
           {
            "marker": {
             "pattern": {
              "fillmode": "overlay",
              "size": 10,
              "solidity": 0.2
             }
            },
            "type": "histogram"
           }
          ],
          "histogram2d": [
           {
            "colorbar": {
             "outlinewidth": 0,
             "ticks": ""
            },
            "colorscale": [
             [
              0,
              "#0d0887"
             ],
             [
              0.1111111111111111,
              "#46039f"
             ],
             [
              0.2222222222222222,
              "#7201a8"
             ],
             [
              0.3333333333333333,
              "#9c179e"
             ],
             [
              0.4444444444444444,
              "#bd3786"
             ],
             [
              0.5555555555555556,
              "#d8576b"
             ],
             [
              0.6666666666666666,
              "#ed7953"
             ],
             [
              0.7777777777777778,
              "#fb9f3a"
             ],
             [
              0.8888888888888888,
              "#fdca26"
             ],
             [
              1,
              "#f0f921"
             ]
            ],
            "type": "histogram2d"
           }
          ],
          "histogram2dcontour": [
           {
            "colorbar": {
             "outlinewidth": 0,
             "ticks": ""
            },
            "colorscale": [
             [
              0,
              "#0d0887"
             ],
             [
              0.1111111111111111,
              "#46039f"
             ],
             [
              0.2222222222222222,
              "#7201a8"
             ],
             [
              0.3333333333333333,
              "#9c179e"
             ],
             [
              0.4444444444444444,
              "#bd3786"
             ],
             [
              0.5555555555555556,
              "#d8576b"
             ],
             [
              0.6666666666666666,
              "#ed7953"
             ],
             [
              0.7777777777777778,
              "#fb9f3a"
             ],
             [
              0.8888888888888888,
              "#fdca26"
             ],
             [
              1,
              "#f0f921"
             ]
            ],
            "type": "histogram2dcontour"
           }
          ],
          "mesh3d": [
           {
            "colorbar": {
             "outlinewidth": 0,
             "ticks": ""
            },
            "type": "mesh3d"
           }
          ],
          "parcoords": [
           {
            "line": {
             "colorbar": {
              "outlinewidth": 0,
              "ticks": ""
             }
            },
            "type": "parcoords"
           }
          ],
          "pie": [
           {
            "automargin": true,
            "type": "pie"
           }
          ],
          "scatter": [
           {
            "fillpattern": {
             "fillmode": "overlay",
             "size": 10,
             "solidity": 0.2
            },
            "type": "scatter"
           }
          ],
          "scatter3d": [
           {
            "line": {
             "colorbar": {
              "outlinewidth": 0,
              "ticks": ""
             }
            },
            "marker": {
             "colorbar": {
              "outlinewidth": 0,
              "ticks": ""
             }
            },
            "type": "scatter3d"
           }
          ],
          "scattercarpet": [
           {
            "marker": {
             "colorbar": {
              "outlinewidth": 0,
              "ticks": ""
             }
            },
            "type": "scattercarpet"
           }
          ],
          "scattergeo": [
           {
            "marker": {
             "colorbar": {
              "outlinewidth": 0,
              "ticks": ""
             }
            },
            "type": "scattergeo"
           }
          ],
          "scattergl": [
           {
            "marker": {
             "colorbar": {
              "outlinewidth": 0,
              "ticks": ""
             }
            },
            "type": "scattergl"
           }
          ],
          "scattermapbox": [
           {
            "marker": {
             "colorbar": {
              "outlinewidth": 0,
              "ticks": ""
             }
            },
            "type": "scattermapbox"
           }
          ],
          "scatterpolar": [
           {
            "marker": {
             "colorbar": {
              "outlinewidth": 0,
              "ticks": ""
             }
            },
            "type": "scatterpolar"
           }
          ],
          "scatterpolargl": [
           {
            "marker": {
             "colorbar": {
              "outlinewidth": 0,
              "ticks": ""
             }
            },
            "type": "scatterpolargl"
           }
          ],
          "scatterternary": [
           {
            "marker": {
             "colorbar": {
              "outlinewidth": 0,
              "ticks": ""
             }
            },
            "type": "scatterternary"
           }
          ],
          "surface": [
           {
            "colorbar": {
             "outlinewidth": 0,
             "ticks": ""
            },
            "colorscale": [
             [
              0,
              "#0d0887"
             ],
             [
              0.1111111111111111,
              "#46039f"
             ],
             [
              0.2222222222222222,
              "#7201a8"
             ],
             [
              0.3333333333333333,
              "#9c179e"
             ],
             [
              0.4444444444444444,
              "#bd3786"
             ],
             [
              0.5555555555555556,
              "#d8576b"
             ],
             [
              0.6666666666666666,
              "#ed7953"
             ],
             [
              0.7777777777777778,
              "#fb9f3a"
             ],
             [
              0.8888888888888888,
              "#fdca26"
             ],
             [
              1,
              "#f0f921"
             ]
            ],
            "type": "surface"
           }
          ],
          "table": [
           {
            "cells": {
             "fill": {
              "color": "#EBF0F8"
             },
             "line": {
              "color": "white"
             }
            },
            "header": {
             "fill": {
              "color": "#C8D4E3"
             },
             "line": {
              "color": "white"
             }
            },
            "type": "table"
           }
          ]
         },
         "layout": {
          "annotationdefaults": {
           "arrowcolor": "#2a3f5f",
           "arrowhead": 0,
           "arrowwidth": 1
          },
          "autotypenumbers": "strict",
          "coloraxis": {
           "colorbar": {
            "outlinewidth": 0,
            "ticks": ""
           }
          },
          "colorscale": {
           "diverging": [
            [
             0,
             "#8e0152"
            ],
            [
             0.1,
             "#c51b7d"
            ],
            [
             0.2,
             "#de77ae"
            ],
            [
             0.3,
             "#f1b6da"
            ],
            [
             0.4,
             "#fde0ef"
            ],
            [
             0.5,
             "#f7f7f7"
            ],
            [
             0.6,
             "#e6f5d0"
            ],
            [
             0.7,
             "#b8e186"
            ],
            [
             0.8,
             "#7fbc41"
            ],
            [
             0.9,
             "#4d9221"
            ],
            [
             1,
             "#276419"
            ]
           ],
           "sequential": [
            [
             0,
             "#0d0887"
            ],
            [
             0.1111111111111111,
             "#46039f"
            ],
            [
             0.2222222222222222,
             "#7201a8"
            ],
            [
             0.3333333333333333,
             "#9c179e"
            ],
            [
             0.4444444444444444,
             "#bd3786"
            ],
            [
             0.5555555555555556,
             "#d8576b"
            ],
            [
             0.6666666666666666,
             "#ed7953"
            ],
            [
             0.7777777777777778,
             "#fb9f3a"
            ],
            [
             0.8888888888888888,
             "#fdca26"
            ],
            [
             1,
             "#f0f921"
            ]
           ],
           "sequentialminus": [
            [
             0,
             "#0d0887"
            ],
            [
             0.1111111111111111,
             "#46039f"
            ],
            [
             0.2222222222222222,
             "#7201a8"
            ],
            [
             0.3333333333333333,
             "#9c179e"
            ],
            [
             0.4444444444444444,
             "#bd3786"
            ],
            [
             0.5555555555555556,
             "#d8576b"
            ],
            [
             0.6666666666666666,
             "#ed7953"
            ],
            [
             0.7777777777777778,
             "#fb9f3a"
            ],
            [
             0.8888888888888888,
             "#fdca26"
            ],
            [
             1,
             "#f0f921"
            ]
           ]
          },
          "colorway": [
           "#636efa",
           "#EF553B",
           "#00cc96",
           "#ab63fa",
           "#FFA15A",
           "#19d3f3",
           "#FF6692",
           "#B6E880",
           "#FF97FF",
           "#FECB52"
          ],
          "font": {
           "color": "#2a3f5f"
          },
          "geo": {
           "bgcolor": "white",
           "lakecolor": "white",
           "landcolor": "#E5ECF6",
           "showlakes": true,
           "showland": true,
           "subunitcolor": "white"
          },
          "hoverlabel": {
           "align": "left"
          },
          "hovermode": "closest",
          "mapbox": {
           "style": "light"
          },
          "paper_bgcolor": "white",
          "plot_bgcolor": "#E5ECF6",
          "polar": {
           "angularaxis": {
            "gridcolor": "white",
            "linecolor": "white",
            "ticks": ""
           },
           "bgcolor": "#E5ECF6",
           "radialaxis": {
            "gridcolor": "white",
            "linecolor": "white",
            "ticks": ""
           }
          },
          "scene": {
           "xaxis": {
            "backgroundcolor": "#E5ECF6",
            "gridcolor": "white",
            "gridwidth": 2,
            "linecolor": "white",
            "showbackground": true,
            "ticks": "",
            "zerolinecolor": "white"
           },
           "yaxis": {
            "backgroundcolor": "#E5ECF6",
            "gridcolor": "white",
            "gridwidth": 2,
            "linecolor": "white",
            "showbackground": true,
            "ticks": "",
            "zerolinecolor": "white"
           },
           "zaxis": {
            "backgroundcolor": "#E5ECF6",
            "gridcolor": "white",
            "gridwidth": 2,
            "linecolor": "white",
            "showbackground": true,
            "ticks": "",
            "zerolinecolor": "white"
           }
          },
          "shapedefaults": {
           "line": {
            "color": "#2a3f5f"
           }
          },
          "ternary": {
           "aaxis": {
            "gridcolor": "white",
            "linecolor": "white",
            "ticks": ""
           },
           "baxis": {
            "gridcolor": "white",
            "linecolor": "white",
            "ticks": ""
           },
           "bgcolor": "#E5ECF6",
           "caxis": {
            "gridcolor": "white",
            "linecolor": "white",
            "ticks": ""
           }
          },
          "title": {
           "x": 0.05
          },
          "xaxis": {
           "automargin": true,
           "gridcolor": "white",
           "linecolor": "white",
           "ticks": "",
           "title": {
            "standoff": 15
           },
           "zerolinecolor": "white",
           "zerolinewidth": 2
          },
          "yaxis": {
           "automargin": true,
           "gridcolor": "white",
           "linecolor": "white",
           "ticks": "",
           "title": {
            "standoff": 15
           },
           "zerolinecolor": "white",
           "zerolinewidth": 2
          }
         }
        },
        "title": {
         "text": "Bitcoin ETP Logarithmic Returns from 2022-01-04 to 2022-02-28"
        },
        "xaxis": {
         "anchor": "y",
         "domain": [
          0,
          1
         ],
         "dtick": "M1",
         "tickformat": "%b\n%Y",
         "title": {
          "text": "Date"
         }
        },
        "yaxis": {
         "anchor": "x",
         "domain": [
          0,
          1
         ],
         "title": {
          "text": "value"
         }
        }
       }
      },
      "text/html": [
       "<div>                            <div id=\"374a1343-b745-437b-bff8-24ba071980ec\" class=\"plotly-graph-div\" style=\"height:525px; width:100%;\"></div>            <script type=\"text/javascript\">                require([\"plotly\"], function(Plotly) {                    window.PLOTLYENV=window.PLOTLYENV || {};                                    if (document.getElementById(\"374a1343-b745-437b-bff8-24ba071980ec\")) {                    Plotly.newPlot(                        \"374a1343-b745-437b-bff8-24ba071980ec\",                        [{\"hovertemplate\":\"variable=simp_move_avg_market_cap<br>Date=%{x|%B %d, %Y}<br>value=%{y}<extra></extra>\",\"legendgroup\":\"simp_move_avg_market_cap\",\"line\":{\"color\":\"#636efa\",\"dash\":\"solid\"},\"marker\":{\"symbol\":\"circle\"},\"mode\":\"lines\",\"name\":\"simp_move_avg_market_cap\",\"orientation\":\"v\",\"showlegend\":true,\"x\":[\"2022-01-04\",\"2022-01-05\",\"2022-01-06\",\"2022-01-07\",\"2022-01-08\",\"2022-01-09\",\"2022-01-10\",\"2022-01-11\",\"2022-01-12\",\"2022-01-13\",\"2022-01-14\",\"2022-01-15\",\"2022-01-16\",\"2022-01-17\",\"2022-01-18\",\"2022-01-19\",\"2022-01-20\",\"2022-01-21\",\"2022-01-22\",\"2022-01-23\",\"2022-01-24\",\"2022-01-25\",\"2022-01-26\",\"2022-01-27\",\"2022-01-28\",\"2022-01-29\",\"2022-01-30\",\"2022-01-31\",\"2022-02-01\",\"2022-02-02\",\"2022-02-03\",\"2022-02-04\",\"2022-02-05\",\"2022-02-06\",\"2022-02-07\",\"2022-02-08\",\"2022-02-09\",\"2022-02-10\",\"2022-02-11\",\"2022-02-12\",\"2022-02-13\",\"2022-02-14\",\"2022-02-15\",\"2022-02-16\",\"2022-02-17\",\"2022-02-18\",\"2022-02-19\",\"2022-02-20\",\"2022-02-21\",\"2022-02-22\",\"2022-02-23\",\"2022-02-24\",\"2022-02-25\",\"2022-02-26\",\"2022-02-27\",\"2022-02-28\"],\"xaxis\":\"x\",\"y\":[889652792781.6372,886970772158.5488,877096177251.3082,868871420416.4153,856234651764.7032,840283316487.3654,825156526186.4542,812596173683.9401,803078863089.9701,803755559552.8619,801896699670.6864,805952950095.8761,809368338460.2649,812893627135.4904,814095759409.2568,813287271539.1953,807294106875.4003,802683385367.0637,785072773202.1349,763561399336.6788,745168598602.241,730260423104.442,715490330565.9918,702584315472.778,692309407809.8323,695762538621.246,703849439789.4883,708420035292.5983,712911460463.5417,717987292118.9392,718055834514.303,718154676216.9967,726772982030.2506,735839559658.2592,748035545251.8619,763105133840.2704,777577215531.6454,797676409376.6505,815381959327.8907,819146487078.789,821039688378.8414,820627927172.0316,817040512804.4911,818599718099.8856,817873448163.4459,809752659616.0537,803491958817.3972,798049070502.7283,787809370736.4496,772769888443.3258,755451745718.1354,737247917722.4661,731185208702.387,729168254488.5125,726259166199.6556,724436016202.8909],\"yaxis\":\"y\",\"type\":\"scatter\"}],                        {\"template\":{\"data\":{\"histogram2dcontour\":[{\"type\":\"histogram2dcontour\",\"colorbar\":{\"outlinewidth\":0,\"ticks\":\"\"},\"colorscale\":[[0.0,\"#0d0887\"],[0.1111111111111111,\"#46039f\"],[0.2222222222222222,\"#7201a8\"],[0.3333333333333333,\"#9c179e\"],[0.4444444444444444,\"#bd3786\"],[0.5555555555555556,\"#d8576b\"],[0.6666666666666666,\"#ed7953\"],[0.7777777777777778,\"#fb9f3a\"],[0.8888888888888888,\"#fdca26\"],[1.0,\"#f0f921\"]]}],\"choropleth\":[{\"type\":\"choropleth\",\"colorbar\":{\"outlinewidth\":0,\"ticks\":\"\"}}],\"histogram2d\":[{\"type\":\"histogram2d\",\"colorbar\":{\"outlinewidth\":0,\"ticks\":\"\"},\"colorscale\":[[0.0,\"#0d0887\"],[0.1111111111111111,\"#46039f\"],[0.2222222222222222,\"#7201a8\"],[0.3333333333333333,\"#9c179e\"],[0.4444444444444444,\"#bd3786\"],[0.5555555555555556,\"#d8576b\"],[0.6666666666666666,\"#ed7953\"],[0.7777777777777778,\"#fb9f3a\"],[0.8888888888888888,\"#fdca26\"],[1.0,\"#f0f921\"]]}],\"heatmap\":[{\"type\":\"heatmap\",\"colorbar\":{\"outlinewidth\":0,\"ticks\":\"\"},\"colorscale\":[[0.0,\"#0d0887\"],[0.1111111111111111,\"#46039f\"],[0.2222222222222222,\"#7201a8\"],[0.3333333333333333,\"#9c179e\"],[0.4444444444444444,\"#bd3786\"],[0.5555555555555556,\"#d8576b\"],[0.6666666666666666,\"#ed7953\"],[0.7777777777777778,\"#fb9f3a\"],[0.8888888888888888,\"#fdca26\"],[1.0,\"#f0f921\"]]}],\"heatmapgl\":[{\"type\":\"heatmapgl\",\"colorbar\":{\"outlinewidth\":0,\"ticks\":\"\"},\"colorscale\":[[0.0,\"#0d0887\"],[0.1111111111111111,\"#46039f\"],[0.2222222222222222,\"#7201a8\"],[0.3333333333333333,\"#9c179e\"],[0.4444444444444444,\"#bd3786\"],[0.5555555555555556,\"#d8576b\"],[0.6666666666666666,\"#ed7953\"],[0.7777777777777778,\"#fb9f3a\"],[0.8888888888888888,\"#fdca26\"],[1.0,\"#f0f921\"]]}],\"contourcarpet\":[{\"type\":\"contourcarpet\",\"colorbar\":{\"outlinewidth\":0,\"ticks\":\"\"}}],\"contour\":[{\"type\":\"contour\",\"colorbar\":{\"outlinewidth\":0,\"ticks\":\"\"},\"colorscale\":[[0.0,\"#0d0887\"],[0.1111111111111111,\"#46039f\"],[0.2222222222222222,\"#7201a8\"],[0.3333333333333333,\"#9c179e\"],[0.4444444444444444,\"#bd3786\"],[0.5555555555555556,\"#d8576b\"],[0.6666666666666666,\"#ed7953\"],[0.7777777777777778,\"#fb9f3a\"],[0.8888888888888888,\"#fdca26\"],[1.0,\"#f0f921\"]]}],\"surface\":[{\"type\":\"surface\",\"colorbar\":{\"outlinewidth\":0,\"ticks\":\"\"},\"colorscale\":[[0.0,\"#0d0887\"],[0.1111111111111111,\"#46039f\"],[0.2222222222222222,\"#7201a8\"],[0.3333333333333333,\"#9c179e\"],[0.4444444444444444,\"#bd3786\"],[0.5555555555555556,\"#d8576b\"],[0.6666666666666666,\"#ed7953\"],[0.7777777777777778,\"#fb9f3a\"],[0.8888888888888888,\"#fdca26\"],[1.0,\"#f0f921\"]]}],\"mesh3d\":[{\"type\":\"mesh3d\",\"colorbar\":{\"outlinewidth\":0,\"ticks\":\"\"}}],\"scatter\":[{\"fillpattern\":{\"fillmode\":\"overlay\",\"size\":10,\"solidity\":0.2},\"type\":\"scatter\"}],\"parcoords\":[{\"type\":\"parcoords\",\"line\":{\"colorbar\":{\"outlinewidth\":0,\"ticks\":\"\"}}}],\"scatterpolargl\":[{\"type\":\"scatterpolargl\",\"marker\":{\"colorbar\":{\"outlinewidth\":0,\"ticks\":\"\"}}}],\"bar\":[{\"error_x\":{\"color\":\"#2a3f5f\"},\"error_y\":{\"color\":\"#2a3f5f\"},\"marker\":{\"line\":{\"color\":\"#E5ECF6\",\"width\":0.5},\"pattern\":{\"fillmode\":\"overlay\",\"size\":10,\"solidity\":0.2}},\"type\":\"bar\"}],\"scattergeo\":[{\"type\":\"scattergeo\",\"marker\":{\"colorbar\":{\"outlinewidth\":0,\"ticks\":\"\"}}}],\"scatterpolar\":[{\"type\":\"scatterpolar\",\"marker\":{\"colorbar\":{\"outlinewidth\":0,\"ticks\":\"\"}}}],\"histogram\":[{\"marker\":{\"pattern\":{\"fillmode\":\"overlay\",\"size\":10,\"solidity\":0.2}},\"type\":\"histogram\"}],\"scattergl\":[{\"type\":\"scattergl\",\"marker\":{\"colorbar\":{\"outlinewidth\":0,\"ticks\":\"\"}}}],\"scatter3d\":[{\"type\":\"scatter3d\",\"line\":{\"colorbar\":{\"outlinewidth\":0,\"ticks\":\"\"}},\"marker\":{\"colorbar\":{\"outlinewidth\":0,\"ticks\":\"\"}}}],\"scattermapbox\":[{\"type\":\"scattermapbox\",\"marker\":{\"colorbar\":{\"outlinewidth\":0,\"ticks\":\"\"}}}],\"scatterternary\":[{\"type\":\"scatterternary\",\"marker\":{\"colorbar\":{\"outlinewidth\":0,\"ticks\":\"\"}}}],\"scattercarpet\":[{\"type\":\"scattercarpet\",\"marker\":{\"colorbar\":{\"outlinewidth\":0,\"ticks\":\"\"}}}],\"carpet\":[{\"aaxis\":{\"endlinecolor\":\"#2a3f5f\",\"gridcolor\":\"white\",\"linecolor\":\"white\",\"minorgridcolor\":\"white\",\"startlinecolor\":\"#2a3f5f\"},\"baxis\":{\"endlinecolor\":\"#2a3f5f\",\"gridcolor\":\"white\",\"linecolor\":\"white\",\"minorgridcolor\":\"white\",\"startlinecolor\":\"#2a3f5f\"},\"type\":\"carpet\"}],\"table\":[{\"cells\":{\"fill\":{\"color\":\"#EBF0F8\"},\"line\":{\"color\":\"white\"}},\"header\":{\"fill\":{\"color\":\"#C8D4E3\"},\"line\":{\"color\":\"white\"}},\"type\":\"table\"}],\"barpolar\":[{\"marker\":{\"line\":{\"color\":\"#E5ECF6\",\"width\":0.5},\"pattern\":{\"fillmode\":\"overlay\",\"size\":10,\"solidity\":0.2}},\"type\":\"barpolar\"}],\"pie\":[{\"automargin\":true,\"type\":\"pie\"}]},\"layout\":{\"autotypenumbers\":\"strict\",\"colorway\":[\"#636efa\",\"#EF553B\",\"#00cc96\",\"#ab63fa\",\"#FFA15A\",\"#19d3f3\",\"#FF6692\",\"#B6E880\",\"#FF97FF\",\"#FECB52\"],\"font\":{\"color\":\"#2a3f5f\"},\"hovermode\":\"closest\",\"hoverlabel\":{\"align\":\"left\"},\"paper_bgcolor\":\"white\",\"plot_bgcolor\":\"#E5ECF6\",\"polar\":{\"bgcolor\":\"#E5ECF6\",\"angularaxis\":{\"gridcolor\":\"white\",\"linecolor\":\"white\",\"ticks\":\"\"},\"radialaxis\":{\"gridcolor\":\"white\",\"linecolor\":\"white\",\"ticks\":\"\"}},\"ternary\":{\"bgcolor\":\"#E5ECF6\",\"aaxis\":{\"gridcolor\":\"white\",\"linecolor\":\"white\",\"ticks\":\"\"},\"baxis\":{\"gridcolor\":\"white\",\"linecolor\":\"white\",\"ticks\":\"\"},\"caxis\":{\"gridcolor\":\"white\",\"linecolor\":\"white\",\"ticks\":\"\"}},\"coloraxis\":{\"colorbar\":{\"outlinewidth\":0,\"ticks\":\"\"}},\"colorscale\":{\"sequential\":[[0.0,\"#0d0887\"],[0.1111111111111111,\"#46039f\"],[0.2222222222222222,\"#7201a8\"],[0.3333333333333333,\"#9c179e\"],[0.4444444444444444,\"#bd3786\"],[0.5555555555555556,\"#d8576b\"],[0.6666666666666666,\"#ed7953\"],[0.7777777777777778,\"#fb9f3a\"],[0.8888888888888888,\"#fdca26\"],[1.0,\"#f0f921\"]],\"sequentialminus\":[[0.0,\"#0d0887\"],[0.1111111111111111,\"#46039f\"],[0.2222222222222222,\"#7201a8\"],[0.3333333333333333,\"#9c179e\"],[0.4444444444444444,\"#bd3786\"],[0.5555555555555556,\"#d8576b\"],[0.6666666666666666,\"#ed7953\"],[0.7777777777777778,\"#fb9f3a\"],[0.8888888888888888,\"#fdca26\"],[1.0,\"#f0f921\"]],\"diverging\":[[0,\"#8e0152\"],[0.1,\"#c51b7d\"],[0.2,\"#de77ae\"],[0.3,\"#f1b6da\"],[0.4,\"#fde0ef\"],[0.5,\"#f7f7f7\"],[0.6,\"#e6f5d0\"],[0.7,\"#b8e186\"],[0.8,\"#7fbc41\"],[0.9,\"#4d9221\"],[1,\"#276419\"]]},\"xaxis\":{\"gridcolor\":\"white\",\"linecolor\":\"white\",\"ticks\":\"\",\"title\":{\"standoff\":15},\"zerolinecolor\":\"white\",\"automargin\":true,\"zerolinewidth\":2},\"yaxis\":{\"gridcolor\":\"white\",\"linecolor\":\"white\",\"ticks\":\"\",\"title\":{\"standoff\":15},\"zerolinecolor\":\"white\",\"automargin\":true,\"zerolinewidth\":2},\"scene\":{\"xaxis\":{\"backgroundcolor\":\"#E5ECF6\",\"gridcolor\":\"white\",\"linecolor\":\"white\",\"showbackground\":true,\"ticks\":\"\",\"zerolinecolor\":\"white\",\"gridwidth\":2},\"yaxis\":{\"backgroundcolor\":\"#E5ECF6\",\"gridcolor\":\"white\",\"linecolor\":\"white\",\"showbackground\":true,\"ticks\":\"\",\"zerolinecolor\":\"white\",\"gridwidth\":2},\"zaxis\":{\"backgroundcolor\":\"#E5ECF6\",\"gridcolor\":\"white\",\"linecolor\":\"white\",\"showbackground\":true,\"ticks\":\"\",\"zerolinecolor\":\"white\",\"gridwidth\":2}},\"shapedefaults\":{\"line\":{\"color\":\"#2a3f5f\"}},\"annotationdefaults\":{\"arrowcolor\":\"#2a3f5f\",\"arrowhead\":0,\"arrowwidth\":1},\"geo\":{\"bgcolor\":\"white\",\"landcolor\":\"#E5ECF6\",\"subunitcolor\":\"white\",\"showland\":true,\"showlakes\":true,\"lakecolor\":\"white\"},\"title\":{\"x\":0.05},\"mapbox\":{\"style\":\"light\"}}},\"xaxis\":{\"anchor\":\"y\",\"domain\":[0.0,1.0],\"title\":{\"text\":\"Date\"},\"dtick\":\"M1\",\"tickformat\":\"%b\\n%Y\"},\"yaxis\":{\"anchor\":\"x\",\"domain\":[0.0,1.0],\"title\":{\"text\":\"value\"}},\"legend\":{\"title\":{\"text\":\"variable\"},\"tracegroupgap\":0},\"title\":{\"text\":\"Bitcoin ETP Logarithmic Returns from 2022-01-04 to 2022-02-28\"}},                        {\"responsive\": true}                    ).then(function(){\n",
       "                            \n",
       "var gd = document.getElementById('374a1343-b745-437b-bff8-24ba071980ec');\n",
       "var x = new MutationObserver(function (mutations, observer) {{\n",
       "        var display = window.getComputedStyle(gd).display;\n",
       "        if (!display || display === 'none') {{\n",
       "            console.log([gd, 'removed!']);\n",
       "            Plotly.purge(gd);\n",
       "            observer.disconnect();\n",
       "        }}\n",
       "}});\n",
       "\n",
       "// Listen for the removal of the full notebook cells\n",
       "var notebookContainer = gd.closest('#notebook-container');\n",
       "if (notebookContainer) {{\n",
       "    x.observe(notebookContainer, {childList: true});\n",
       "}}\n",
       "\n",
       "// Listen for the clearing of the current output cell\n",
       "var outputEl = gd.closest('.output');\n",
       "if (outputEl) {{\n",
       "    x.observe(outputEl, {childList: true});\n",
       "}}\n",
       "\n",
       "                        })                };                });            </script>        </div>"
      ]
     },
     "metadata": {},
     "output_type": "display_data"
    }
   ],
   "source": [
    "mask = (_results_df.Date >= _min_date) & (_results_df.Date <= _max_date) & (_results_df.ID == 'bitcoin')\n",
    "bench_mark_df = _results_df.loc[mask]\n",
    "bench_mark_df.sort_values(by=['Date'],inplace=True)\n",
    "\n",
    "# bench_mark_df.reset_index(inplace=True)\n",
    "\n",
    "_title = \"Bitcoin ETP Logarithmic Returns from \"+str(_min_date)+\" to \"+str(_max_date)\n",
    "fig = px.line(bench_mark_df, x=\"Date\", y=['simp_move_avg_market_cap'],\n",
    "#               color='red',\n",
    "              hover_data={\"Date\": \"|%B %d, %Y\"},\n",
    "              title=_title,)\n",
    "\n",
    "fig.update_xaxes(\n",
    "    dtick=\"M1\",\n",
    "    tickformat=\"%b\\n%Y\")\n",
    "fig.show()"
   ]
  },
  {
   "cell_type": "markdown",
   "id": "5831749a",
   "metadata": {},
   "source": [
    "## Indicator based Trading strategies\n",
    "\n",
    "### Momentum trading \n",
    "It assumes big moves will continue in the same direction. If the ETP weighted sum of returns is above a moving average, an uptrend is indicated. Directional Movement Index (DMI) is a technical indicator used by traders to help identify the strength of an uptrend or a downtrend in the market. The Average Direction Index (ADX) provides an indicator of the relative strength of the directional trend indicated by the Positive Direction Indicator (DI+) and the Negative Direction Indicator (DI-). Momentum trade can potentially reap big gains because getting in relatively early to a strong price trend is highly profitable.\n",
    "\n",
    "### Mean reversion strategy\n",
    "It allows traders to determine whether big moves will partly reverse or not. It assumes that the price of a stock always tends to move closer to the average price over time because most extreme events are often trailed by a period of normalization. Example - If the index droped 20% this month, the mean reversion theory would predict it will fall less than that percentage the following month. Use the [Relative Strength Index](https://phemex.com/academy/rsi-indicator-crypto-trading) (RSI) to complement their mean reversion strategy.\n",
    "      * RSI is useful because it helps them determine which asset exhibits overbought or oversold price levels.\n",
    "      * RSI Value >70% = Overbought, RSI Value <30% = Oversold\n",
    "      * core of this indicator is based on the average upward market cap change vs. the average downward market cap change for a given period of time.\n",
    "      * RSI = 100 – (100/1 + RS)\n",
    "  We look at correlated assets to confirm the prediction. The quintessential mean reversion trading strategy has low-profit expectations and high frequency.\n"
   ]
  },
  {
   "cell_type": "markdown",
   "id": "0bf15e8c",
   "metadata": {},
   "source": [
    "## Instantiate ETP Index class"
   ]
  },
  {
   "cell_type": "code",
   "execution_count": 70,
   "id": "679fc01a",
   "metadata": {},
   "outputs": [
    {
     "name": "stdout",
     "output_type": "stream",
     "text": [
      "All packages loaded successfully!\n",
      "All packages loaded successfully!\n",
      "['__class__', '__delattr__', '__dict__', '__dir__', '__doc__', '__eq__', '__format__', '__ge__', '__getattribute__', '__gt__', '__hash__', '__init__', '__init_subclass__', '__le__', '__lt__', '__module__', '__ne__', '__new__', '__reduce__', '__reduce_ex__', '__repr__', '__setattr__', '__sizeof__', '__str__', '__subclasshook__', '__weakref__', 'get_adx', 'get_value_index', 'name', 'p_val', 'rebalance_etp', 'sharp_ratio', 'sortino_ratio']\n"
     ]
    }
   ],
   "source": [
    "import sys\n",
    "sys.path.insert(1, '../lib')\n",
    "import clsIndex as perform\n",
    "\n",
    "if debug:\n",
    "    import importlib\n",
    "    perform = importlib.reload(perform)\n",
    "\n",
    "data_name = \"coindesk\"\n",
    "clsPerfIndex = perform.PortfolioPerformance(name=data_name)\n",
    "print(dir(clsPerfIndex))"
   ]
  },
  {
   "cell_type": "markdown",
   "id": "f6001eff",
   "metadata": {},
   "source": [
    "## Indicator based portfolio selection\n",
    "___Intent is to use the indicators to make decisions on portfolio asset selection and rebalancing using indicators___\n",
    "\n",
    "## ADX Indicator\n",
    "Average Directional Index (ADX) indicator determines the intensity or strength of a trend. It will ensure that we don't rebalance with a weaker trend because there is a high probability of reversal compared to a stronger trend. Hence, combining the rebalancing during a directional trades with a stronger trend will achieve higher [hit ratio](https://www.investopedia.com/terms/w/win-loss-ratio.asp) and higher ROR on the weighted ETP.\n",
    "\n",
    "* ADX consists of three indicators that measure a trend’s strength and direction - Direction Movement Index (DMI): ADX line, DI+ line, and DI- line. \n",
    "* The [calculated ADX](https://www.investopedia.com/terms/w/wilders-dmi-adx.asp#:~:text=The%20DMI%20is%20a%20collection,25%20indicates%20a%20strong%20trend.) value above 25 indicates that the trend is relatively strong and a value below 20 indicates that the trend is weak or that the markets are trading sideways\n",
    "   * When the DI+ line is on top of DI-, the markets are in a bullish trend. Conversely, when the DI- line is above the DI+ line, the markets are in a bearish trend.\n",
    "   * The ADX indicator helps traders calculate the expansion or contraction of an asset’s price range for a specific time.\n",
    "* The DMI and ADX values are determined based on the range of price movements during the last 14 trading periods.\n",
    "* Follow a similar process discussed in [Mathematical Intuition of the ADX Indicator: A Python Approach](https://blog.quantinsti.com/adx-indicator-python/)."
   ]
  },
  {
   "cell_type": "code",
   "execution_count": 84,
   "id": "b332ca08",
   "metadata": {},
   "outputs": [
    {
     "name": "stdout",
     "output_type": "stream",
     "text": [
      "All packages in ExtractLoadTransform loaded successfully!\n",
      "Index(['index', 'Date', 'ID', 'Symbol', 'market_cap',\n",
      "       'simp_move_avg_market_cap', 'simp_move_std_market_cap',\n",
      "       'simp_move_sum_market_cap', 'momentum_market_cap',\n",
      "       'simp_move_avg_market_cap_ror'],\n",
      "      dtype='object')\n",
      "All packages in ExtractLoadTransform loaded successfully!\n"
     ]
    }
   ],
   "source": [
    "''' Create ADX relevant columns '''\n",
    "\n",
    "_value_col_name = 'simp_move_avg_market_cap_ror'\n",
    "\n",
    "if debug:\n",
    "    import importlib\n",
    "    etl = importlib.reload(etl)\n",
    "\n",
    "''' ADX function is defined in clsIndex.get_adx() It will return \n",
    "    a time series dataframe with daily ADX, +DI, and -DI values '''\n",
    "''' Set the data source and temporal range '''\n",
    "_start_dt = actual_log_ror.Date.min()\n",
    "_end_dt = actual_log_ror.Date.max()\n",
    "adx_df = clsPerfIndex.get_adx(ticker_data=actual_log_ror,\n",
    "                            rolling_window_length=7,\n",
    "                            value_col_name=_value_col_name,\n",
    "                            window_start_date = _start_dt,\n",
    "                            window_end_date = _end_dt,\n",
    "                            )\n",
    "\n",
    "# adx_df.to_csv(\"../data/adx.csv\")"
   ]
  },
  {
   "cell_type": "code",
   "execution_count": 85,
   "id": "5da5381f",
   "metadata": {},
   "outputs": [
    {
     "name": "stderr",
     "output_type": "stream",
     "text": [
      "/tmp/ipykernel_34046/897874747.py:3: SettingWithCopyWarning:\n",
      "\n",
      "\n",
      "A value is trying to be set on a copy of a slice from a DataFrame\n",
      "\n",
      "See the caveats in the documentation: https://pandas.pydata.org/pandas-docs/stable/user_guide/indexing.html#returning-a-view-versus-a-copy\n",
      "\n"
     ]
    },
    {
     "data": {
      "application/vnd.plotly.v1+json": {
       "config": {
        "plotlyServerURL": "https://plot.ly"
       },
       "data": [
        {
         "customdata": [
          [
           "solana"
          ],
          [
           "solana"
          ],
          [
           "solana"
          ],
          [
           "solana"
          ],
          [
           "solana"
          ],
          [
           "solana"
          ],
          [
           "solana"
          ],
          [
           "solana"
          ],
          [
           "solana"
          ],
          [
           "solana"
          ],
          [
           "solana"
          ],
          [
           "solana"
          ],
          [
           "solana"
          ],
          [
           "solana"
          ],
          [
           "solana"
          ],
          [
           "solana"
          ],
          [
           "solana"
          ],
          [
           "solana"
          ],
          [
           "solana"
          ],
          [
           "solana"
          ],
          [
           "solana"
          ],
          [
           "solana"
          ],
          [
           "solana"
          ],
          [
           "solana"
          ],
          [
           "solana"
          ],
          [
           "solana"
          ],
          [
           "solana"
          ],
          [
           "solana"
          ],
          [
           "solana"
          ],
          [
           "solana"
          ],
          [
           "solana"
          ],
          [
           "solana"
          ],
          [
           "solana"
          ],
          [
           "solana"
          ],
          [
           "solana"
          ],
          [
           "solana"
          ],
          [
           "solana"
          ],
          [
           "solana"
          ],
          [
           "solana"
          ],
          [
           "solana"
          ],
          [
           "solana"
          ],
          [
           "solana"
          ],
          [
           "solana"
          ],
          [
           "solana"
          ],
          [
           "solana"
          ],
          [
           "solana"
          ],
          [
           "solana"
          ],
          [
           "solana"
          ],
          [
           "solana"
          ],
          [
           "solana"
          ],
          [
           "solana"
          ],
          [
           "solana"
          ],
          [
           "solana"
          ],
          [
           "solana"
          ],
          [
           "solana"
          ],
          [
           "solana"
          ],
          [
           "solana"
          ],
          [
           "solana"
          ],
          [
           "solana"
          ],
          [
           "solana"
          ]
         ],
         "hovertemplate": "variable=smooth+DM<br>Date=%{x|%B %d, %Y}<br>value=%{y}<br>ID=%{customdata[0]}<extra></extra>",
         "legendgroup": "smooth+DM",
         "line": {
          "color": "#636efa",
          "dash": "solid"
         },
         "marker": {
          "symbol": "circle"
         },
         "mode": "lines",
         "name": "smooth+DM",
         "orientation": "v",
         "showlegend": true,
         "type": "scatter",
         "x": [
          "2022-01-01",
          "2022-01-02",
          "2022-01-03",
          "2022-01-04",
          "2022-01-05",
          "2022-01-06",
          "2022-01-07",
          "2022-01-08",
          "2022-01-09",
          "2022-01-10",
          "2022-01-11",
          "2022-01-12",
          "2022-01-13",
          "2022-01-14",
          "2022-01-15",
          "2022-01-16",
          "2022-01-17",
          "2022-01-18",
          "2022-01-19",
          "2022-01-20",
          "2022-01-21",
          "2022-01-22",
          "2022-01-23",
          "2022-01-24",
          "2022-01-25",
          "2022-01-26",
          "2022-01-27",
          "2022-01-28",
          "2022-01-29",
          "2022-01-30",
          "2022-01-31",
          "2022-02-01",
          "2022-02-02",
          "2022-02-03",
          "2022-02-04",
          "2022-02-05",
          "2022-02-06",
          "2022-02-07",
          "2022-02-08",
          "2022-02-09",
          "2022-02-10",
          "2022-02-11",
          "2022-02-12",
          "2022-02-13",
          "2022-02-14",
          "2022-02-15",
          "2022-02-16",
          "2022-02-17",
          "2022-02-18",
          "2022-02-19",
          "2022-02-20",
          "2022-02-21",
          "2022-02-22",
          "2022-02-23",
          "2022-02-24",
          "2022-02-25",
          "2022-02-26",
          "2022-02-27",
          "2022-02-28",
          "2022-03-01"
         ],
         "xaxis": "x",
         "y": [
          0.0025134859186266003,
          0,
          0,
          0.004558992115917579,
          0.015706172948996597,
          0.030023275999734908,
          0.055202808951135954,
          0.07890199318332428,
          0.11751736447489255,
          0.1460933220012717,
          0.1706461229504113,
          0.18887046331401583,
          0.17050000341377688,
          0.13485452155693395,
          0.11108230380447769,
          0.08240001460107303,
          0.055007220360583184,
          0.027228216171305365,
          0.004349534219721399,
          0.015178278698205748,
          0.041544902630298516,
          0.07366064339017032,
          0.14137642356007155,
          0.2103757951047035,
          0.2579340365566189,
          0.31152218314067814,
          0.3501537721106719,
          0.38488245122513287,
          0.37903855444558,
          0.30267247901851424,
          0.23328447035272196,
          0.19259496009496743,
          0.1330050001393453,
          0.08268208241160564,
          0.033493395895245796,
          0.007760770798877659,
          0.007760770798877659,
          0,
          0,
          0,
          0,
          0,
          0.015595717065542941,
          0.053962878901657234,
          0.08401059006924744,
          0.1135085299521031,
          0.12255986348640611,
          0.11933056117744292,
          0.13940511356658533,
          0.13254613856155978,
          0.10726604856830396,
          0.08132909852665156,
          0.07013457458981166,
          0.10182112037901118,
          0.12009824551608025,
          0.10967177801739889,
          0.08300322295786938,
          0.0732100648754462,
          0.08205339561093764,
          0.07308552383500297
         ],
         "yaxis": "y"
        },
        {
         "customdata": [
          [
           "solana"
          ],
          [
           "solana"
          ],
          [
           "solana"
          ],
          [
           "solana"
          ],
          [
           "solana"
          ],
          [
           "solana"
          ],
          [
           "solana"
          ],
          [
           "solana"
          ],
          [
           "solana"
          ],
          [
           "solana"
          ],
          [
           "solana"
          ],
          [
           "solana"
          ],
          [
           "solana"
          ],
          [
           "solana"
          ],
          [
           "solana"
          ],
          [
           "solana"
          ],
          [
           "solana"
          ],
          [
           "solana"
          ],
          [
           "solana"
          ],
          [
           "solana"
          ],
          [
           "solana"
          ],
          [
           "solana"
          ],
          [
           "solana"
          ],
          [
           "solana"
          ],
          [
           "solana"
          ],
          [
           "solana"
          ],
          [
           "solana"
          ],
          [
           "solana"
          ],
          [
           "solana"
          ],
          [
           "solana"
          ],
          [
           "solana"
          ],
          [
           "solana"
          ],
          [
           "solana"
          ],
          [
           "solana"
          ],
          [
           "solana"
          ],
          [
           "solana"
          ],
          [
           "solana"
          ],
          [
           "solana"
          ],
          [
           "solana"
          ],
          [
           "solana"
          ],
          [
           "solana"
          ],
          [
           "solana"
          ],
          [
           "solana"
          ],
          [
           "solana"
          ],
          [
           "solana"
          ],
          [
           "solana"
          ],
          [
           "solana"
          ],
          [
           "solana"
          ],
          [
           "solana"
          ],
          [
           "solana"
          ],
          [
           "solana"
          ],
          [
           "solana"
          ],
          [
           "solana"
          ],
          [
           "solana"
          ],
          [
           "solana"
          ],
          [
           "solana"
          ],
          [
           "solana"
          ],
          [
           "solana"
          ],
          [
           "solana"
          ],
          [
           "solana"
          ]
         ],
         "hovertemplate": "variable=smooth-DM<br>Date=%{x|%B %d, %Y}<br>value=%{y}<br>ID=%{customdata[0]}<extra></extra>",
         "legendgroup": "smooth-DM",
         "line": {
          "color": "#EF553B",
          "dash": "solid"
         },
         "marker": {
          "symbol": "circle"
         },
         "mode": "lines",
         "name": "smooth-DM",
         "orientation": "v",
         "showlegend": true,
         "type": "scatter",
         "x": [
          "2022-01-01",
          "2022-01-02",
          "2022-01-03",
          "2022-01-04",
          "2022-01-05",
          "2022-01-06",
          "2022-01-07",
          "2022-01-08",
          "2022-01-09",
          "2022-01-10",
          "2022-01-11",
          "2022-01-12",
          "2022-01-13",
          "2022-01-14",
          "2022-01-15",
          "2022-01-16",
          "2022-01-17",
          "2022-01-18",
          "2022-01-19",
          "2022-01-20",
          "2022-01-21",
          "2022-01-22",
          "2022-01-23",
          "2022-01-24",
          "2022-01-25",
          "2022-01-26",
          "2022-01-27",
          "2022-01-28",
          "2022-01-29",
          "2022-01-30",
          "2022-01-31",
          "2022-02-01",
          "2022-02-02",
          "2022-02-03",
          "2022-02-04",
          "2022-02-05",
          "2022-02-06",
          "2022-02-07",
          "2022-02-08",
          "2022-02-09",
          "2022-02-10",
          "2022-02-11",
          "2022-02-12",
          "2022-02-13",
          "2022-02-14",
          "2022-02-15",
          "2022-02-16",
          "2022-02-17",
          "2022-02-18",
          "2022-02-19",
          "2022-02-20",
          "2022-02-21",
          "2022-02-22",
          "2022-02-23",
          "2022-02-24",
          "2022-02-25",
          "2022-02-26",
          "2022-02-27",
          "2022-02-28",
          "2022-03-01"
         ],
         "xaxis": "x",
         "y": [
          0,
          0.010207766981734003,
          0.03651520075031279,
          0.021846091351999553,
          0.01931960014421374,
          0.02012458348355598,
          0.020699571583086152,
          0.020699571583086152,
          0.0032005424715421454,
          0,
          0,
          0,
          0,
          0,
          0.008886871102850831,
          0.023765616582373215,
          0.025707988954767703,
          0.033266075710174585,
          0.032418121141340635,
          0.02939883287411317,
          0.027053685528125346,
          0.018166814425274517,
          0.013656085232411436,
          0.006608213965031239,
          0.0020101262965609907,
          0,
          0,
          0,
          0,
          0.0022863740963726107,
          0.0049538105421406565,
          0.012455253461673567,
          0.043533855543296085,
          0.06506157394130392,
          0.06990985235815654,
          0.09851390220139303,
          0.13008277175089533,
          0.15321980246977215,
          0.16875450062594716,
          0.1486727019591773,
          0.1334402374144989,
          0.13779085467507463,
          0.10374635619932694,
          0.07367602118437624,
          0.04770562008352938,
          0.02651124516631918,
          0.021806103796741496,
          0.006827112615222994,
          0,
          0,
          0,
          0,
          0,
          0,
          0,
          0,
          0.004722545624306115,
          0.010232182185996582,
          0.004722545624306115,
          0.026783428236558243
         ],
         "yaxis": "y"
        }
       ],
       "layout": {
        "legend": {
         "title": {
          "text": "variable"
         },
         "tracegroupgap": 0
        },
        "template": {
         "data": {
          "bar": [
           {
            "error_x": {
             "color": "#2a3f5f"
            },
            "error_y": {
             "color": "#2a3f5f"
            },
            "marker": {
             "line": {
              "color": "#E5ECF6",
              "width": 0.5
             },
             "pattern": {
              "fillmode": "overlay",
              "size": 10,
              "solidity": 0.2
             }
            },
            "type": "bar"
           }
          ],
          "barpolar": [
           {
            "marker": {
             "line": {
              "color": "#E5ECF6",
              "width": 0.5
             },
             "pattern": {
              "fillmode": "overlay",
              "size": 10,
              "solidity": 0.2
             }
            },
            "type": "barpolar"
           }
          ],
          "carpet": [
           {
            "aaxis": {
             "endlinecolor": "#2a3f5f",
             "gridcolor": "white",
             "linecolor": "white",
             "minorgridcolor": "white",
             "startlinecolor": "#2a3f5f"
            },
            "baxis": {
             "endlinecolor": "#2a3f5f",
             "gridcolor": "white",
             "linecolor": "white",
             "minorgridcolor": "white",
             "startlinecolor": "#2a3f5f"
            },
            "type": "carpet"
           }
          ],
          "choropleth": [
           {
            "colorbar": {
             "outlinewidth": 0,
             "ticks": ""
            },
            "type": "choropleth"
           }
          ],
          "contour": [
           {
            "colorbar": {
             "outlinewidth": 0,
             "ticks": ""
            },
            "colorscale": [
             [
              0,
              "#0d0887"
             ],
             [
              0.1111111111111111,
              "#46039f"
             ],
             [
              0.2222222222222222,
              "#7201a8"
             ],
             [
              0.3333333333333333,
              "#9c179e"
             ],
             [
              0.4444444444444444,
              "#bd3786"
             ],
             [
              0.5555555555555556,
              "#d8576b"
             ],
             [
              0.6666666666666666,
              "#ed7953"
             ],
             [
              0.7777777777777778,
              "#fb9f3a"
             ],
             [
              0.8888888888888888,
              "#fdca26"
             ],
             [
              1,
              "#f0f921"
             ]
            ],
            "type": "contour"
           }
          ],
          "contourcarpet": [
           {
            "colorbar": {
             "outlinewidth": 0,
             "ticks": ""
            },
            "type": "contourcarpet"
           }
          ],
          "heatmap": [
           {
            "colorbar": {
             "outlinewidth": 0,
             "ticks": ""
            },
            "colorscale": [
             [
              0,
              "#0d0887"
             ],
             [
              0.1111111111111111,
              "#46039f"
             ],
             [
              0.2222222222222222,
              "#7201a8"
             ],
             [
              0.3333333333333333,
              "#9c179e"
             ],
             [
              0.4444444444444444,
              "#bd3786"
             ],
             [
              0.5555555555555556,
              "#d8576b"
             ],
             [
              0.6666666666666666,
              "#ed7953"
             ],
             [
              0.7777777777777778,
              "#fb9f3a"
             ],
             [
              0.8888888888888888,
              "#fdca26"
             ],
             [
              1,
              "#f0f921"
             ]
            ],
            "type": "heatmap"
           }
          ],
          "heatmapgl": [
           {
            "colorbar": {
             "outlinewidth": 0,
             "ticks": ""
            },
            "colorscale": [
             [
              0,
              "#0d0887"
             ],
             [
              0.1111111111111111,
              "#46039f"
             ],
             [
              0.2222222222222222,
              "#7201a8"
             ],
             [
              0.3333333333333333,
              "#9c179e"
             ],
             [
              0.4444444444444444,
              "#bd3786"
             ],
             [
              0.5555555555555556,
              "#d8576b"
             ],
             [
              0.6666666666666666,
              "#ed7953"
             ],
             [
              0.7777777777777778,
              "#fb9f3a"
             ],
             [
              0.8888888888888888,
              "#fdca26"
             ],
             [
              1,
              "#f0f921"
             ]
            ],
            "type": "heatmapgl"
           }
          ],
          "histogram": [
           {
            "marker": {
             "pattern": {
              "fillmode": "overlay",
              "size": 10,
              "solidity": 0.2
             }
            },
            "type": "histogram"
           }
          ],
          "histogram2d": [
           {
            "colorbar": {
             "outlinewidth": 0,
             "ticks": ""
            },
            "colorscale": [
             [
              0,
              "#0d0887"
             ],
             [
              0.1111111111111111,
              "#46039f"
             ],
             [
              0.2222222222222222,
              "#7201a8"
             ],
             [
              0.3333333333333333,
              "#9c179e"
             ],
             [
              0.4444444444444444,
              "#bd3786"
             ],
             [
              0.5555555555555556,
              "#d8576b"
             ],
             [
              0.6666666666666666,
              "#ed7953"
             ],
             [
              0.7777777777777778,
              "#fb9f3a"
             ],
             [
              0.8888888888888888,
              "#fdca26"
             ],
             [
              1,
              "#f0f921"
             ]
            ],
            "type": "histogram2d"
           }
          ],
          "histogram2dcontour": [
           {
            "colorbar": {
             "outlinewidth": 0,
             "ticks": ""
            },
            "colorscale": [
             [
              0,
              "#0d0887"
             ],
             [
              0.1111111111111111,
              "#46039f"
             ],
             [
              0.2222222222222222,
              "#7201a8"
             ],
             [
              0.3333333333333333,
              "#9c179e"
             ],
             [
              0.4444444444444444,
              "#bd3786"
             ],
             [
              0.5555555555555556,
              "#d8576b"
             ],
             [
              0.6666666666666666,
              "#ed7953"
             ],
             [
              0.7777777777777778,
              "#fb9f3a"
             ],
             [
              0.8888888888888888,
              "#fdca26"
             ],
             [
              1,
              "#f0f921"
             ]
            ],
            "type": "histogram2dcontour"
           }
          ],
          "mesh3d": [
           {
            "colorbar": {
             "outlinewidth": 0,
             "ticks": ""
            },
            "type": "mesh3d"
           }
          ],
          "parcoords": [
           {
            "line": {
             "colorbar": {
              "outlinewidth": 0,
              "ticks": ""
             }
            },
            "type": "parcoords"
           }
          ],
          "pie": [
           {
            "automargin": true,
            "type": "pie"
           }
          ],
          "scatter": [
           {
            "fillpattern": {
             "fillmode": "overlay",
             "size": 10,
             "solidity": 0.2
            },
            "type": "scatter"
           }
          ],
          "scatter3d": [
           {
            "line": {
             "colorbar": {
              "outlinewidth": 0,
              "ticks": ""
             }
            },
            "marker": {
             "colorbar": {
              "outlinewidth": 0,
              "ticks": ""
             }
            },
            "type": "scatter3d"
           }
          ],
          "scattercarpet": [
           {
            "marker": {
             "colorbar": {
              "outlinewidth": 0,
              "ticks": ""
             }
            },
            "type": "scattercarpet"
           }
          ],
          "scattergeo": [
           {
            "marker": {
             "colorbar": {
              "outlinewidth": 0,
              "ticks": ""
             }
            },
            "type": "scattergeo"
           }
          ],
          "scattergl": [
           {
            "marker": {
             "colorbar": {
              "outlinewidth": 0,
              "ticks": ""
             }
            },
            "type": "scattergl"
           }
          ],
          "scattermapbox": [
           {
            "marker": {
             "colorbar": {
              "outlinewidth": 0,
              "ticks": ""
             }
            },
            "type": "scattermapbox"
           }
          ],
          "scatterpolar": [
           {
            "marker": {
             "colorbar": {
              "outlinewidth": 0,
              "ticks": ""
             }
            },
            "type": "scatterpolar"
           }
          ],
          "scatterpolargl": [
           {
            "marker": {
             "colorbar": {
              "outlinewidth": 0,
              "ticks": ""
             }
            },
            "type": "scatterpolargl"
           }
          ],
          "scatterternary": [
           {
            "marker": {
             "colorbar": {
              "outlinewidth": 0,
              "ticks": ""
             }
            },
            "type": "scatterternary"
           }
          ],
          "surface": [
           {
            "colorbar": {
             "outlinewidth": 0,
             "ticks": ""
            },
            "colorscale": [
             [
              0,
              "#0d0887"
             ],
             [
              0.1111111111111111,
              "#46039f"
             ],
             [
              0.2222222222222222,
              "#7201a8"
             ],
             [
              0.3333333333333333,
              "#9c179e"
             ],
             [
              0.4444444444444444,
              "#bd3786"
             ],
             [
              0.5555555555555556,
              "#d8576b"
             ],
             [
              0.6666666666666666,
              "#ed7953"
             ],
             [
              0.7777777777777778,
              "#fb9f3a"
             ],
             [
              0.8888888888888888,
              "#fdca26"
             ],
             [
              1,
              "#f0f921"
             ]
            ],
            "type": "surface"
           }
          ],
          "table": [
           {
            "cells": {
             "fill": {
              "color": "#EBF0F8"
             },
             "line": {
              "color": "white"
             }
            },
            "header": {
             "fill": {
              "color": "#C8D4E3"
             },
             "line": {
              "color": "white"
             }
            },
            "type": "table"
           }
          ]
         },
         "layout": {
          "annotationdefaults": {
           "arrowcolor": "#2a3f5f",
           "arrowhead": 0,
           "arrowwidth": 1
          },
          "autotypenumbers": "strict",
          "coloraxis": {
           "colorbar": {
            "outlinewidth": 0,
            "ticks": ""
           }
          },
          "colorscale": {
           "diverging": [
            [
             0,
             "#8e0152"
            ],
            [
             0.1,
             "#c51b7d"
            ],
            [
             0.2,
             "#de77ae"
            ],
            [
             0.3,
             "#f1b6da"
            ],
            [
             0.4,
             "#fde0ef"
            ],
            [
             0.5,
             "#f7f7f7"
            ],
            [
             0.6,
             "#e6f5d0"
            ],
            [
             0.7,
             "#b8e186"
            ],
            [
             0.8,
             "#7fbc41"
            ],
            [
             0.9,
             "#4d9221"
            ],
            [
             1,
             "#276419"
            ]
           ],
           "sequential": [
            [
             0,
             "#0d0887"
            ],
            [
             0.1111111111111111,
             "#46039f"
            ],
            [
             0.2222222222222222,
             "#7201a8"
            ],
            [
             0.3333333333333333,
             "#9c179e"
            ],
            [
             0.4444444444444444,
             "#bd3786"
            ],
            [
             0.5555555555555556,
             "#d8576b"
            ],
            [
             0.6666666666666666,
             "#ed7953"
            ],
            [
             0.7777777777777778,
             "#fb9f3a"
            ],
            [
             0.8888888888888888,
             "#fdca26"
            ],
            [
             1,
             "#f0f921"
            ]
           ],
           "sequentialminus": [
            [
             0,
             "#0d0887"
            ],
            [
             0.1111111111111111,
             "#46039f"
            ],
            [
             0.2222222222222222,
             "#7201a8"
            ],
            [
             0.3333333333333333,
             "#9c179e"
            ],
            [
             0.4444444444444444,
             "#bd3786"
            ],
            [
             0.5555555555555556,
             "#d8576b"
            ],
            [
             0.6666666666666666,
             "#ed7953"
            ],
            [
             0.7777777777777778,
             "#fb9f3a"
            ],
            [
             0.8888888888888888,
             "#fdca26"
            ],
            [
             1,
             "#f0f921"
            ]
           ]
          },
          "colorway": [
           "#636efa",
           "#EF553B",
           "#00cc96",
           "#ab63fa",
           "#FFA15A",
           "#19d3f3",
           "#FF6692",
           "#B6E880",
           "#FF97FF",
           "#FECB52"
          ],
          "font": {
           "color": "#2a3f5f"
          },
          "geo": {
           "bgcolor": "white",
           "lakecolor": "white",
           "landcolor": "#E5ECF6",
           "showlakes": true,
           "showland": true,
           "subunitcolor": "white"
          },
          "hoverlabel": {
           "align": "left"
          },
          "hovermode": "closest",
          "mapbox": {
           "style": "light"
          },
          "paper_bgcolor": "white",
          "plot_bgcolor": "#E5ECF6",
          "polar": {
           "angularaxis": {
            "gridcolor": "white",
            "linecolor": "white",
            "ticks": ""
           },
           "bgcolor": "#E5ECF6",
           "radialaxis": {
            "gridcolor": "white",
            "linecolor": "white",
            "ticks": ""
           }
          },
          "scene": {
           "xaxis": {
            "backgroundcolor": "#E5ECF6",
            "gridcolor": "white",
            "gridwidth": 2,
            "linecolor": "white",
            "showbackground": true,
            "ticks": "",
            "zerolinecolor": "white"
           },
           "yaxis": {
            "backgroundcolor": "#E5ECF6",
            "gridcolor": "white",
            "gridwidth": 2,
            "linecolor": "white",
            "showbackground": true,
            "ticks": "",
            "zerolinecolor": "white"
           },
           "zaxis": {
            "backgroundcolor": "#E5ECF6",
            "gridcolor": "white",
            "gridwidth": 2,
            "linecolor": "white",
            "showbackground": true,
            "ticks": "",
            "zerolinecolor": "white"
           }
          },
          "shapedefaults": {
           "line": {
            "color": "#2a3f5f"
           }
          },
          "ternary": {
           "aaxis": {
            "gridcolor": "white",
            "linecolor": "white",
            "ticks": ""
           },
           "baxis": {
            "gridcolor": "white",
            "linecolor": "white",
            "ticks": ""
           },
           "bgcolor": "#E5ECF6",
           "caxis": {
            "gridcolor": "white",
            "linecolor": "white",
            "ticks": ""
           }
          },
          "title": {
           "x": 0.05
          },
          "xaxis": {
           "automargin": true,
           "gridcolor": "white",
           "linecolor": "white",
           "ticks": "",
           "title": {
            "standoff": 15
           },
           "zerolinecolor": "white",
           "zerolinewidth": 2
          },
          "yaxis": {
           "automargin": true,
           "gridcolor": "white",
           "linecolor": "white",
           "ticks": "",
           "title": {
            "standoff": 15
           },
           "zerolinecolor": "white",
           "zerolinewidth": 2
          }
         }
        },
        "title": {
         "text": "Weighted ETP Logarithmic Returns from 2022-01-01 to 2022-03-01"
        },
        "xaxis": {
         "anchor": "y",
         "domain": [
          0,
          1
         ],
         "dtick": "M1",
         "tickformat": "%b\n%Y",
         "title": {
          "text": "Date"
         }
        },
        "yaxis": {
         "anchor": "x",
         "domain": [
          0,
          1
         ],
         "title": {
          "text": "value"
         }
        }
       }
      },
      "text/html": [
       "<div>                            <div id=\"858101d7-b4c0-4cce-a315-e34b63e798e9\" class=\"plotly-graph-div\" style=\"height:525px; width:100%;\"></div>            <script type=\"text/javascript\">                require([\"plotly\"], function(Plotly) {                    window.PLOTLYENV=window.PLOTLYENV || {};                                    if (document.getElementById(\"858101d7-b4c0-4cce-a315-e34b63e798e9\")) {                    Plotly.newPlot(                        \"858101d7-b4c0-4cce-a315-e34b63e798e9\",                        [{\"customdata\":[[\"solana\"],[\"solana\"],[\"solana\"],[\"solana\"],[\"solana\"],[\"solana\"],[\"solana\"],[\"solana\"],[\"solana\"],[\"solana\"],[\"solana\"],[\"solana\"],[\"solana\"],[\"solana\"],[\"solana\"],[\"solana\"],[\"solana\"],[\"solana\"],[\"solana\"],[\"solana\"],[\"solana\"],[\"solana\"],[\"solana\"],[\"solana\"],[\"solana\"],[\"solana\"],[\"solana\"],[\"solana\"],[\"solana\"],[\"solana\"],[\"solana\"],[\"solana\"],[\"solana\"],[\"solana\"],[\"solana\"],[\"solana\"],[\"solana\"],[\"solana\"],[\"solana\"],[\"solana\"],[\"solana\"],[\"solana\"],[\"solana\"],[\"solana\"],[\"solana\"],[\"solana\"],[\"solana\"],[\"solana\"],[\"solana\"],[\"solana\"],[\"solana\"],[\"solana\"],[\"solana\"],[\"solana\"],[\"solana\"],[\"solana\"],[\"solana\"],[\"solana\"],[\"solana\"],[\"solana\"]],\"hovertemplate\":\"variable=smooth+DM<br>Date=%{x|%B %d, %Y}<br>value=%{y}<br>ID=%{customdata[0]}<extra></extra>\",\"legendgroup\":\"smooth+DM\",\"line\":{\"color\":\"#636efa\",\"dash\":\"solid\"},\"marker\":{\"symbol\":\"circle\"},\"mode\":\"lines\",\"name\":\"smooth+DM\",\"orientation\":\"v\",\"showlegend\":true,\"x\":[\"2022-01-01\",\"2022-01-02\",\"2022-01-03\",\"2022-01-04\",\"2022-01-05\",\"2022-01-06\",\"2022-01-07\",\"2022-01-08\",\"2022-01-09\",\"2022-01-10\",\"2022-01-11\",\"2022-01-12\",\"2022-01-13\",\"2022-01-14\",\"2022-01-15\",\"2022-01-16\",\"2022-01-17\",\"2022-01-18\",\"2022-01-19\",\"2022-01-20\",\"2022-01-21\",\"2022-01-22\",\"2022-01-23\",\"2022-01-24\",\"2022-01-25\",\"2022-01-26\",\"2022-01-27\",\"2022-01-28\",\"2022-01-29\",\"2022-01-30\",\"2022-01-31\",\"2022-02-01\",\"2022-02-02\",\"2022-02-03\",\"2022-02-04\",\"2022-02-05\",\"2022-02-06\",\"2022-02-07\",\"2022-02-08\",\"2022-02-09\",\"2022-02-10\",\"2022-02-11\",\"2022-02-12\",\"2022-02-13\",\"2022-02-14\",\"2022-02-15\",\"2022-02-16\",\"2022-02-17\",\"2022-02-18\",\"2022-02-19\",\"2022-02-20\",\"2022-02-21\",\"2022-02-22\",\"2022-02-23\",\"2022-02-24\",\"2022-02-25\",\"2022-02-26\",\"2022-02-27\",\"2022-02-28\",\"2022-03-01\"],\"xaxis\":\"x\",\"y\":[0.0025134859186266003,0.0,0.0,0.004558992115917579,0.015706172948996597,0.030023275999734908,0.055202808951135954,0.07890199318332428,0.11751736447489255,0.1460933220012717,0.1706461229504113,0.18887046331401583,0.17050000341377688,0.13485452155693395,0.11108230380447769,0.08240001460107303,0.055007220360583184,0.027228216171305365,0.004349534219721399,0.015178278698205748,0.041544902630298516,0.07366064339017032,0.14137642356007155,0.2103757951047035,0.2579340365566189,0.31152218314067814,0.3501537721106719,0.38488245122513287,0.37903855444558,0.30267247901851424,0.23328447035272196,0.19259496009496743,0.1330050001393453,0.08268208241160564,0.033493395895245796,0.007760770798877659,0.007760770798877659,0.0,0.0,0.0,0.0,0.0,0.015595717065542941,0.053962878901657234,0.08401059006924744,0.1135085299521031,0.12255986348640611,0.11933056117744292,0.13940511356658533,0.13254613856155978,0.10726604856830396,0.08132909852665156,0.07013457458981166,0.10182112037901118,0.12009824551608025,0.10967177801739889,0.08300322295786938,0.0732100648754462,0.08205339561093764,0.07308552383500297],\"yaxis\":\"y\",\"type\":\"scatter\"},{\"customdata\":[[\"solana\"],[\"solana\"],[\"solana\"],[\"solana\"],[\"solana\"],[\"solana\"],[\"solana\"],[\"solana\"],[\"solana\"],[\"solana\"],[\"solana\"],[\"solana\"],[\"solana\"],[\"solana\"],[\"solana\"],[\"solana\"],[\"solana\"],[\"solana\"],[\"solana\"],[\"solana\"],[\"solana\"],[\"solana\"],[\"solana\"],[\"solana\"],[\"solana\"],[\"solana\"],[\"solana\"],[\"solana\"],[\"solana\"],[\"solana\"],[\"solana\"],[\"solana\"],[\"solana\"],[\"solana\"],[\"solana\"],[\"solana\"],[\"solana\"],[\"solana\"],[\"solana\"],[\"solana\"],[\"solana\"],[\"solana\"],[\"solana\"],[\"solana\"],[\"solana\"],[\"solana\"],[\"solana\"],[\"solana\"],[\"solana\"],[\"solana\"],[\"solana\"],[\"solana\"],[\"solana\"],[\"solana\"],[\"solana\"],[\"solana\"],[\"solana\"],[\"solana\"],[\"solana\"],[\"solana\"]],\"hovertemplate\":\"variable=smooth-DM<br>Date=%{x|%B %d, %Y}<br>value=%{y}<br>ID=%{customdata[0]}<extra></extra>\",\"legendgroup\":\"smooth-DM\",\"line\":{\"color\":\"#EF553B\",\"dash\":\"solid\"},\"marker\":{\"symbol\":\"circle\"},\"mode\":\"lines\",\"name\":\"smooth-DM\",\"orientation\":\"v\",\"showlegend\":true,\"x\":[\"2022-01-01\",\"2022-01-02\",\"2022-01-03\",\"2022-01-04\",\"2022-01-05\",\"2022-01-06\",\"2022-01-07\",\"2022-01-08\",\"2022-01-09\",\"2022-01-10\",\"2022-01-11\",\"2022-01-12\",\"2022-01-13\",\"2022-01-14\",\"2022-01-15\",\"2022-01-16\",\"2022-01-17\",\"2022-01-18\",\"2022-01-19\",\"2022-01-20\",\"2022-01-21\",\"2022-01-22\",\"2022-01-23\",\"2022-01-24\",\"2022-01-25\",\"2022-01-26\",\"2022-01-27\",\"2022-01-28\",\"2022-01-29\",\"2022-01-30\",\"2022-01-31\",\"2022-02-01\",\"2022-02-02\",\"2022-02-03\",\"2022-02-04\",\"2022-02-05\",\"2022-02-06\",\"2022-02-07\",\"2022-02-08\",\"2022-02-09\",\"2022-02-10\",\"2022-02-11\",\"2022-02-12\",\"2022-02-13\",\"2022-02-14\",\"2022-02-15\",\"2022-02-16\",\"2022-02-17\",\"2022-02-18\",\"2022-02-19\",\"2022-02-20\",\"2022-02-21\",\"2022-02-22\",\"2022-02-23\",\"2022-02-24\",\"2022-02-25\",\"2022-02-26\",\"2022-02-27\",\"2022-02-28\",\"2022-03-01\"],\"xaxis\":\"x\",\"y\":[0.0,0.010207766981734003,0.03651520075031279,0.021846091351999553,0.01931960014421374,0.02012458348355598,0.020699571583086152,0.020699571583086152,0.0032005424715421454,0.0,0.0,0.0,0.0,0.0,0.008886871102850831,0.023765616582373215,0.025707988954767703,0.033266075710174585,0.032418121141340635,0.02939883287411317,0.027053685528125346,0.018166814425274517,0.013656085232411436,0.006608213965031239,0.0020101262965609907,0.0,0.0,0.0,0.0,0.0022863740963726107,0.0049538105421406565,0.012455253461673567,0.043533855543296085,0.06506157394130392,0.06990985235815654,0.09851390220139303,0.13008277175089533,0.15321980246977215,0.16875450062594716,0.1486727019591773,0.1334402374144989,0.13779085467507463,0.10374635619932694,0.07367602118437624,0.04770562008352938,0.02651124516631918,0.021806103796741496,0.006827112615222994,0.0,0.0,0.0,0.0,0.0,0.0,0.0,0.0,0.004722545624306115,0.010232182185996582,0.004722545624306115,0.026783428236558243],\"yaxis\":\"y\",\"type\":\"scatter\"}],                        {\"template\":{\"data\":{\"histogram2dcontour\":[{\"type\":\"histogram2dcontour\",\"colorbar\":{\"outlinewidth\":0,\"ticks\":\"\"},\"colorscale\":[[0.0,\"#0d0887\"],[0.1111111111111111,\"#46039f\"],[0.2222222222222222,\"#7201a8\"],[0.3333333333333333,\"#9c179e\"],[0.4444444444444444,\"#bd3786\"],[0.5555555555555556,\"#d8576b\"],[0.6666666666666666,\"#ed7953\"],[0.7777777777777778,\"#fb9f3a\"],[0.8888888888888888,\"#fdca26\"],[1.0,\"#f0f921\"]]}],\"choropleth\":[{\"type\":\"choropleth\",\"colorbar\":{\"outlinewidth\":0,\"ticks\":\"\"}}],\"histogram2d\":[{\"type\":\"histogram2d\",\"colorbar\":{\"outlinewidth\":0,\"ticks\":\"\"},\"colorscale\":[[0.0,\"#0d0887\"],[0.1111111111111111,\"#46039f\"],[0.2222222222222222,\"#7201a8\"],[0.3333333333333333,\"#9c179e\"],[0.4444444444444444,\"#bd3786\"],[0.5555555555555556,\"#d8576b\"],[0.6666666666666666,\"#ed7953\"],[0.7777777777777778,\"#fb9f3a\"],[0.8888888888888888,\"#fdca26\"],[1.0,\"#f0f921\"]]}],\"heatmap\":[{\"type\":\"heatmap\",\"colorbar\":{\"outlinewidth\":0,\"ticks\":\"\"},\"colorscale\":[[0.0,\"#0d0887\"],[0.1111111111111111,\"#46039f\"],[0.2222222222222222,\"#7201a8\"],[0.3333333333333333,\"#9c179e\"],[0.4444444444444444,\"#bd3786\"],[0.5555555555555556,\"#d8576b\"],[0.6666666666666666,\"#ed7953\"],[0.7777777777777778,\"#fb9f3a\"],[0.8888888888888888,\"#fdca26\"],[1.0,\"#f0f921\"]]}],\"heatmapgl\":[{\"type\":\"heatmapgl\",\"colorbar\":{\"outlinewidth\":0,\"ticks\":\"\"},\"colorscale\":[[0.0,\"#0d0887\"],[0.1111111111111111,\"#46039f\"],[0.2222222222222222,\"#7201a8\"],[0.3333333333333333,\"#9c179e\"],[0.4444444444444444,\"#bd3786\"],[0.5555555555555556,\"#d8576b\"],[0.6666666666666666,\"#ed7953\"],[0.7777777777777778,\"#fb9f3a\"],[0.8888888888888888,\"#fdca26\"],[1.0,\"#f0f921\"]]}],\"contourcarpet\":[{\"type\":\"contourcarpet\",\"colorbar\":{\"outlinewidth\":0,\"ticks\":\"\"}}],\"contour\":[{\"type\":\"contour\",\"colorbar\":{\"outlinewidth\":0,\"ticks\":\"\"},\"colorscale\":[[0.0,\"#0d0887\"],[0.1111111111111111,\"#46039f\"],[0.2222222222222222,\"#7201a8\"],[0.3333333333333333,\"#9c179e\"],[0.4444444444444444,\"#bd3786\"],[0.5555555555555556,\"#d8576b\"],[0.6666666666666666,\"#ed7953\"],[0.7777777777777778,\"#fb9f3a\"],[0.8888888888888888,\"#fdca26\"],[1.0,\"#f0f921\"]]}],\"surface\":[{\"type\":\"surface\",\"colorbar\":{\"outlinewidth\":0,\"ticks\":\"\"},\"colorscale\":[[0.0,\"#0d0887\"],[0.1111111111111111,\"#46039f\"],[0.2222222222222222,\"#7201a8\"],[0.3333333333333333,\"#9c179e\"],[0.4444444444444444,\"#bd3786\"],[0.5555555555555556,\"#d8576b\"],[0.6666666666666666,\"#ed7953\"],[0.7777777777777778,\"#fb9f3a\"],[0.8888888888888888,\"#fdca26\"],[1.0,\"#f0f921\"]]}],\"mesh3d\":[{\"type\":\"mesh3d\",\"colorbar\":{\"outlinewidth\":0,\"ticks\":\"\"}}],\"scatter\":[{\"fillpattern\":{\"fillmode\":\"overlay\",\"size\":10,\"solidity\":0.2},\"type\":\"scatter\"}],\"parcoords\":[{\"type\":\"parcoords\",\"line\":{\"colorbar\":{\"outlinewidth\":0,\"ticks\":\"\"}}}],\"scatterpolargl\":[{\"type\":\"scatterpolargl\",\"marker\":{\"colorbar\":{\"outlinewidth\":0,\"ticks\":\"\"}}}],\"bar\":[{\"error_x\":{\"color\":\"#2a3f5f\"},\"error_y\":{\"color\":\"#2a3f5f\"},\"marker\":{\"line\":{\"color\":\"#E5ECF6\",\"width\":0.5},\"pattern\":{\"fillmode\":\"overlay\",\"size\":10,\"solidity\":0.2}},\"type\":\"bar\"}],\"scattergeo\":[{\"type\":\"scattergeo\",\"marker\":{\"colorbar\":{\"outlinewidth\":0,\"ticks\":\"\"}}}],\"scatterpolar\":[{\"type\":\"scatterpolar\",\"marker\":{\"colorbar\":{\"outlinewidth\":0,\"ticks\":\"\"}}}],\"histogram\":[{\"marker\":{\"pattern\":{\"fillmode\":\"overlay\",\"size\":10,\"solidity\":0.2}},\"type\":\"histogram\"}],\"scattergl\":[{\"type\":\"scattergl\",\"marker\":{\"colorbar\":{\"outlinewidth\":0,\"ticks\":\"\"}}}],\"scatter3d\":[{\"type\":\"scatter3d\",\"line\":{\"colorbar\":{\"outlinewidth\":0,\"ticks\":\"\"}},\"marker\":{\"colorbar\":{\"outlinewidth\":0,\"ticks\":\"\"}}}],\"scattermapbox\":[{\"type\":\"scattermapbox\",\"marker\":{\"colorbar\":{\"outlinewidth\":0,\"ticks\":\"\"}}}],\"scatterternary\":[{\"type\":\"scatterternary\",\"marker\":{\"colorbar\":{\"outlinewidth\":0,\"ticks\":\"\"}}}],\"scattercarpet\":[{\"type\":\"scattercarpet\",\"marker\":{\"colorbar\":{\"outlinewidth\":0,\"ticks\":\"\"}}}],\"carpet\":[{\"aaxis\":{\"endlinecolor\":\"#2a3f5f\",\"gridcolor\":\"white\",\"linecolor\":\"white\",\"minorgridcolor\":\"white\",\"startlinecolor\":\"#2a3f5f\"},\"baxis\":{\"endlinecolor\":\"#2a3f5f\",\"gridcolor\":\"white\",\"linecolor\":\"white\",\"minorgridcolor\":\"white\",\"startlinecolor\":\"#2a3f5f\"},\"type\":\"carpet\"}],\"table\":[{\"cells\":{\"fill\":{\"color\":\"#EBF0F8\"},\"line\":{\"color\":\"white\"}},\"header\":{\"fill\":{\"color\":\"#C8D4E3\"},\"line\":{\"color\":\"white\"}},\"type\":\"table\"}],\"barpolar\":[{\"marker\":{\"line\":{\"color\":\"#E5ECF6\",\"width\":0.5},\"pattern\":{\"fillmode\":\"overlay\",\"size\":10,\"solidity\":0.2}},\"type\":\"barpolar\"}],\"pie\":[{\"automargin\":true,\"type\":\"pie\"}]},\"layout\":{\"autotypenumbers\":\"strict\",\"colorway\":[\"#636efa\",\"#EF553B\",\"#00cc96\",\"#ab63fa\",\"#FFA15A\",\"#19d3f3\",\"#FF6692\",\"#B6E880\",\"#FF97FF\",\"#FECB52\"],\"font\":{\"color\":\"#2a3f5f\"},\"hovermode\":\"closest\",\"hoverlabel\":{\"align\":\"left\"},\"paper_bgcolor\":\"white\",\"plot_bgcolor\":\"#E5ECF6\",\"polar\":{\"bgcolor\":\"#E5ECF6\",\"angularaxis\":{\"gridcolor\":\"white\",\"linecolor\":\"white\",\"ticks\":\"\"},\"radialaxis\":{\"gridcolor\":\"white\",\"linecolor\":\"white\",\"ticks\":\"\"}},\"ternary\":{\"bgcolor\":\"#E5ECF6\",\"aaxis\":{\"gridcolor\":\"white\",\"linecolor\":\"white\",\"ticks\":\"\"},\"baxis\":{\"gridcolor\":\"white\",\"linecolor\":\"white\",\"ticks\":\"\"},\"caxis\":{\"gridcolor\":\"white\",\"linecolor\":\"white\",\"ticks\":\"\"}},\"coloraxis\":{\"colorbar\":{\"outlinewidth\":0,\"ticks\":\"\"}},\"colorscale\":{\"sequential\":[[0.0,\"#0d0887\"],[0.1111111111111111,\"#46039f\"],[0.2222222222222222,\"#7201a8\"],[0.3333333333333333,\"#9c179e\"],[0.4444444444444444,\"#bd3786\"],[0.5555555555555556,\"#d8576b\"],[0.6666666666666666,\"#ed7953\"],[0.7777777777777778,\"#fb9f3a\"],[0.8888888888888888,\"#fdca26\"],[1.0,\"#f0f921\"]],\"sequentialminus\":[[0.0,\"#0d0887\"],[0.1111111111111111,\"#46039f\"],[0.2222222222222222,\"#7201a8\"],[0.3333333333333333,\"#9c179e\"],[0.4444444444444444,\"#bd3786\"],[0.5555555555555556,\"#d8576b\"],[0.6666666666666666,\"#ed7953\"],[0.7777777777777778,\"#fb9f3a\"],[0.8888888888888888,\"#fdca26\"],[1.0,\"#f0f921\"]],\"diverging\":[[0,\"#8e0152\"],[0.1,\"#c51b7d\"],[0.2,\"#de77ae\"],[0.3,\"#f1b6da\"],[0.4,\"#fde0ef\"],[0.5,\"#f7f7f7\"],[0.6,\"#e6f5d0\"],[0.7,\"#b8e186\"],[0.8,\"#7fbc41\"],[0.9,\"#4d9221\"],[1,\"#276419\"]]},\"xaxis\":{\"gridcolor\":\"white\",\"linecolor\":\"white\",\"ticks\":\"\",\"title\":{\"standoff\":15},\"zerolinecolor\":\"white\",\"automargin\":true,\"zerolinewidth\":2},\"yaxis\":{\"gridcolor\":\"white\",\"linecolor\":\"white\",\"ticks\":\"\",\"title\":{\"standoff\":15},\"zerolinecolor\":\"white\",\"automargin\":true,\"zerolinewidth\":2},\"scene\":{\"xaxis\":{\"backgroundcolor\":\"#E5ECF6\",\"gridcolor\":\"white\",\"linecolor\":\"white\",\"showbackground\":true,\"ticks\":\"\",\"zerolinecolor\":\"white\",\"gridwidth\":2},\"yaxis\":{\"backgroundcolor\":\"#E5ECF6\",\"gridcolor\":\"white\",\"linecolor\":\"white\",\"showbackground\":true,\"ticks\":\"\",\"zerolinecolor\":\"white\",\"gridwidth\":2},\"zaxis\":{\"backgroundcolor\":\"#E5ECF6\",\"gridcolor\":\"white\",\"linecolor\":\"white\",\"showbackground\":true,\"ticks\":\"\",\"zerolinecolor\":\"white\",\"gridwidth\":2}},\"shapedefaults\":{\"line\":{\"color\":\"#2a3f5f\"}},\"annotationdefaults\":{\"arrowcolor\":\"#2a3f5f\",\"arrowhead\":0,\"arrowwidth\":1},\"geo\":{\"bgcolor\":\"white\",\"landcolor\":\"#E5ECF6\",\"subunitcolor\":\"white\",\"showland\":true,\"showlakes\":true,\"lakecolor\":\"white\"},\"title\":{\"x\":0.05},\"mapbox\":{\"style\":\"light\"}}},\"xaxis\":{\"anchor\":\"y\",\"domain\":[0.0,1.0],\"title\":{\"text\":\"Date\"},\"dtick\":\"M1\",\"tickformat\":\"%b\\n%Y\"},\"yaxis\":{\"anchor\":\"x\",\"domain\":[0.0,1.0],\"title\":{\"text\":\"value\"}},\"legend\":{\"title\":{\"text\":\"variable\"},\"tracegroupgap\":0},\"title\":{\"text\":\"Weighted ETP Logarithmic Returns from 2022-01-01 to 2022-03-01\"}},                        {\"responsive\": true}                    ).then(function(){\n",
       "                            \n",
       "var gd = document.getElementById('858101d7-b4c0-4cce-a315-e34b63e798e9');\n",
       "var x = new MutationObserver(function (mutations, observer) {{\n",
       "        var display = window.getComputedStyle(gd).display;\n",
       "        if (!display || display === 'none') {{\n",
       "            console.log([gd, 'removed!']);\n",
       "            Plotly.purge(gd);\n",
       "            observer.disconnect();\n",
       "        }}\n",
       "}});\n",
       "\n",
       "// Listen for the removal of the full notebook cells\n",
       "var notebookContainer = gd.closest('#notebook-container');\n",
       "if (notebookContainer) {{\n",
       "    x.observe(notebookContainer, {childList: true});\n",
       "}}\n",
       "\n",
       "// Listen for the clearing of the current output cell\n",
       "var outputEl = gd.closest('.output');\n",
       "if (outputEl) {{\n",
       "    x.observe(outputEl, {childList: true});\n",
       "}}\n",
       "\n",
       "                        })                };                });            </script>        </div>"
      ]
     },
     "metadata": {},
     "output_type": "display_data"
    }
   ],
   "source": [
    "''' To plot the data transform back to coind ids to be individual columns '''\n",
    "plot_adx_df = adx_df.loc[adx_df['ID']=='solana']\n",
    "plot_adx_df.sort_values(by=['Date'], inplace = True)\n",
    "\n",
    "_min_date = plot_adx_df[\"Date\"].min()\n",
    "_max_date = plot_adx_df[\"Date\"].max()\n",
    "_title = \"Weighted ETP Logarithmic Returns from \"+str(_min_date)+\" to \"+str(_max_date)\n",
    "fig = px.line(plot_adx_df, x=\"Date\", y=['smooth+DM','smooth-DM'],\n",
    "#               color='red',\n",
    "              hover_data={\"Date\": \"|%B %d, %Y\", \"ID\": True,},\n",
    "              title=_title,)\n",
    "\n",
    "fig.update_xaxes(\n",
    "    dtick=\"M1\",\n",
    "    tickformat=\"%b\\n%Y\")\n",
    "fig.show()"
   ]
  },
  {
   "cell_type": "markdown",
   "id": "1e6bc942",
   "metadata": {},
   "source": [
    "## Index based optimization\n",
    "___The objective is to optimize the performance ratios for an ETP portfolio asset picks and rebalancing___\n",
    "\n",
    "### Performance Ratios\n",
    "The calculation is adjusted for an ETP for a given time period ${\\left[{T_{min},T_{max}}\\right]}$.\n",
    "* For an ETP portfolio consisting top ${N < n}$ set of assets ${Y}$\n",
    "    * the weighted ROR at time ${t}$ is ${F({t,Y})}$  = $\\sum_{k_i = 1}^{N<n} {w(t,x_{k_{i}})} \\times {log \\left({R(t,x_{k_i}) \\over R(t+1,x_{k_i})}\\right)}$\n",
    "* Let ${z}$ be the asset (e.g. Bitcoin) that sets the benchmark to offer a risk free ROR.\n",
    "    * Similarly to the Y set of assets, the weighted ROR for ${z}$ at time ${t}$ is ${F({t,z})}$  = ${w(t,z)} \\times {log \\left({R(t,z)} \\over R(t+1,z)\\right)}$\n",
    "\n",
    "### Sharpe Ratio\n",
    "It measures the performance of an investment (e.g., security or portfolio) compared to a risk-free asset, after adjusting for its risk. It is poor at estimating tail risks and as a results gave rise to the [PMPT](https://www.investopedia.com/terms/p/pmpt.asp).\n",
    "* ${\\forall_{t \\in {\\left[{T_{min},T_{max}}\\right]}}}$\n",
    "    * ___Sharpe ration___ = ${{\\mu \\left({F(t,x_{k_i})}\\right) - \\mu \\left({F(t,z)}\\right)} \\over {\\sigma(F(t,x_{k_i}))} }$; where ${\\mu}$ is the expected vallue and ${\\sigma}$ is the standard deviation"
   ]
  },
  {
   "cell_type": "code",
   "execution_count": 86,
   "id": "4ec96ead",
   "metadata": {},
   "outputs": [
    {
     "name": "stdout",
     "output_type": "stream",
     "text": [
      "-0.0004980844352952042\n",
      "\n",
      " Sharp Ratio\n",
      "ID\n",
      "ripple          0.016981\n",
      "bitcoin         0.000000\n",
      "ethereum       -0.051617\n",
      "litecoin       -0.060197\n",
      "cardano        -0.075909\n",
      "solana         -0.104899\n",
      "bitcoin_cash         NaN\n",
      "dtype: float64\n"
     ]
    }
   ],
   "source": [
    "sharp = clsPerfIndex.sharp_ratio(piv_marketcap_df, investment=100, risk_free_rate=0.01/365)\n",
    "print(\"\\n Sharp Ratio\")\n",
    "print(sharp.sort_values(ascending=False))"
   ]
  },
  {
   "cell_type": "markdown",
   "id": "b700cbbc",
   "metadata": {},
   "source": [
    "### Sortino Ratio\n",
    "It is a portfolio optimization methodology that uses the downside risk of returns instead of the mean variance of investment returns used by the [MPT](https://blog.quantinsti.com/modern-portfolio-capital-asset-pricing-fama-french-three-factor-model/)\n",
    "* ${\\forall_{t \\in {\\left[{T_{min},T_{max}}\\right]}}}$\n",
    "    * ___Sortino ratio___ is almost the same as the Sharpe ratio except that the ${\\sigma^-(F(t,x_{k_i}))}$ is the downside standard deviation of returns "
   ]
  },
  {
   "cell_type": "code",
   "execution_count": 40,
   "id": "ea5cd383",
   "metadata": {},
   "outputs": [
    {
     "name": "stdout",
     "output_type": "stream",
     "text": [
      "\n",
      " Sortino Ratio\n",
      "ID\n",
      "ripple          0.030394\n",
      "bitcoin         0.000000\n",
      "ethereum       -0.080442\n",
      "litecoin       -0.094637\n",
      "cardano        -0.149946\n",
      "solana         -0.169963\n",
      "bitcoin_cash         NaN\n",
      "dtype: float64\n"
     ]
    }
   ],
   "source": [
    "sortino = clsPerfIndex.sortino_ratio(piv_marketcap_df, investment=100, risk_free_rate=0.01/365)\n",
    "print(\"\\n Sortino Ratio\")\n",
    "print(sortino.sort_values(ascending=False))"
   ]
  },
  {
   "cell_type": "markdown",
   "id": "9d183a46",
   "metadata": {},
   "source": [
    "### Calmar ratio\n",
    "The Calmar ratio is the average annual rate of return for the last 36 months divided by the maximum drawdown for the last 36 months. It is calculated on a monthly basis. The Calmar ratio changes gradually and serves to smooth out the overachievement and underachievement periods of a performance more readily than the Sharpe ratio."
   ]
  },
  {
   "cell_type": "markdown",
   "id": "0ba02446",
   "metadata": {},
   "source": [
    "## Value Index"
   ]
  },
  {
   "cell_type": "code",
   "execution_count": 41,
   "id": "4ef2b9e0",
   "metadata": {},
   "outputs": [
    {
     "data": {
      "application/vnd.plotly.v1+json": {
       "config": {
        "plotlyServerURL": "https://plot.ly"
       },
       "data": [
        {
         "hovertemplate": "ID=bitcoin<br>Date=%{x|%B %d, %Y}<br>value=%{y}<extra></extra>",
         "legendgroup": "bitcoin",
         "line": {
          "color": "#636efa",
          "dash": "solid"
         },
         "marker": {
          "symbol": "circle"
         },
         "mode": "lines",
         "name": "bitcoin",
         "orientation": "v",
         "showlegend": true,
         "type": "scatter",
         "x": [
          "2022-01-01T00:00:00",
          "2022-01-02T00:00:00",
          "2022-01-03T00:00:00",
          "2022-01-04T00:00:00",
          "2022-01-05T00:00:00",
          "2022-01-06T00:00:00",
          "2022-01-07T00:00:00",
          "2022-01-08T00:00:00",
          "2022-01-09T00:00:00",
          "2022-01-10T00:00:00",
          "2022-01-11T00:00:00",
          "2022-01-12T00:00:00",
          "2022-01-13T00:00:00",
          "2022-01-14T00:00:00",
          "2022-01-15T00:00:00",
          "2022-01-16T00:00:00",
          "2022-01-17T00:00:00",
          "2022-01-18T00:00:00",
          "2022-01-19T00:00:00",
          "2022-01-20T00:00:00",
          "2022-01-21T00:00:00",
          "2022-01-22T00:00:00",
          "2022-01-23T00:00:00",
          "2022-01-24T00:00:00",
          "2022-01-25T00:00:00",
          "2022-01-26T00:00:00",
          "2022-01-27T00:00:00",
          "2022-01-28T00:00:00",
          "2022-01-29T00:00:00",
          "2022-01-30T00:00:00",
          "2022-01-31T00:00:00",
          "2022-02-01T00:00:00",
          "2022-02-02T00:00:00",
          "2022-02-03T00:00:00",
          "2022-02-04T00:00:00",
          "2022-02-05T00:00:00",
          "2022-02-06T00:00:00",
          "2022-02-07T00:00:00",
          "2022-02-08T00:00:00",
          "2022-02-09T00:00:00",
          "2022-02-10T00:00:00",
          "2022-02-11T00:00:00",
          "2022-02-12T00:00:00",
          "2022-02-13T00:00:00",
          "2022-02-14T00:00:00",
          "2022-02-15T00:00:00",
          "2022-02-16T00:00:00",
          "2022-02-17T00:00:00",
          "2022-02-18T00:00:00",
          "2022-02-19T00:00:00",
          "2022-02-20T00:00:00",
          "2022-02-21T00:00:00",
          "2022-02-22T00:00:00",
          "2022-02-23T00:00:00",
          "2022-02-24T00:00:00",
          "2022-02-25T00:00:00",
          "2022-02-26T00:00:00",
          "2022-02-27T00:00:00",
          "2022-02-28T00:00:00",
          "2022-03-01T00:00:00"
         ],
         "xaxis": "x",
         "y": [
          0.5998141059237189,
          0.6012015785513763,
          0.5964736647515158,
          0.59708413103845,
          0.594034198260723,
          0.5970149752531124,
          0.6016733195812421,
          0.6077663355691979,
          0.614463308728665,
          0.612126228439286,
          0.6177454436162786,
          0.611061586179786,
          0.6064648887393519,
          0.6079897579278107,
          0.6069082548736788,
          0.6054156133025663,
          0.6021669592276528,
          0.6040244045054252,
          0.6093016037212593,
          0.6115398620533848,
          0.6145266267272038,
          0.6245060985068124,
          0.6326546282497736,
          0.6277718625086872,
          0.6396955842057944,
          0.6397751700536317,
          0.638144811685966,
          0.6452196334837419,
          0.6397703799066795,
          0.6372736991089737,
          0.6365761967595055,
          0.6326886537868919,
          0.6249564205978887,
          0.6237522747901819,
          0.6259803355053645,
          0.6255309642200639,
          0.623538491823597,
          0.6259007467480491,
          0.6244397901935689,
          0.6263802466808648,
          0.6207613498308373,
          0.6285445680352019,
          0.6356645540549601,
          0.6349496000268957,
          0.6375075510135702,
          0.6357895924395716,
          0.6286558416101398,
          0.6291945498820424,
          0.6296246284207542,
          0.6329399099129793,
          0.6339496483348497,
          0.6351970434219102,
          0.6347810382990973,
          0.6362432894718806,
          0.6350396154312842,
          0.6406621779625878,
          0.6305444435649893,
          0.6310208014472436,
          0.6356881169605093,
          0.6418874355341777
         ],
         "yaxis": "y"
        },
        {
         "hovertemplate": "ID=bitcoin_cash<br>Date=%{x|%B %d, %Y}<br>value=%{y}<extra></extra>",
         "legendgroup": "bitcoin_cash",
         "line": {
          "color": "#EF553B",
          "dash": "solid"
         },
         "marker": {
          "symbol": "circle"
         },
         "mode": "lines",
         "name": "bitcoin_cash",
         "orientation": "v",
         "showlegend": true,
         "type": "scatter",
         "x": [
          "2022-01-01T00:00:00",
          "2022-01-02T00:00:00",
          "2022-01-03T00:00:00",
          "2022-01-04T00:00:00",
          "2022-01-05T00:00:00",
          "2022-01-06T00:00:00",
          "2022-01-07T00:00:00",
          "2022-01-08T00:00:00",
          "2022-01-09T00:00:00",
          "2022-01-10T00:00:00",
          "2022-01-11T00:00:00",
          "2022-01-12T00:00:00",
          "2022-01-13T00:00:00",
          "2022-01-14T00:00:00",
          "2022-01-15T00:00:00",
          "2022-01-16T00:00:00",
          "2022-01-17T00:00:00",
          "2022-01-18T00:00:00",
          "2022-01-19T00:00:00",
          "2022-01-20T00:00:00",
          "2022-01-21T00:00:00",
          "2022-01-22T00:00:00",
          "2022-01-23T00:00:00",
          "2022-01-24T00:00:00",
          "2022-01-25T00:00:00",
          "2022-01-26T00:00:00",
          "2022-01-27T00:00:00",
          "2022-01-28T00:00:00",
          "2022-01-29T00:00:00",
          "2022-01-30T00:00:00",
          "2022-01-31T00:00:00",
          "2022-02-01T00:00:00",
          "2022-02-02T00:00:00",
          "2022-02-03T00:00:00",
          "2022-02-04T00:00:00",
          "2022-02-05T00:00:00",
          "2022-02-06T00:00:00",
          "2022-02-07T00:00:00",
          "2022-02-08T00:00:00",
          "2022-02-09T00:00:00",
          "2022-02-10T00:00:00",
          "2022-02-11T00:00:00",
          "2022-02-12T00:00:00",
          "2022-02-13T00:00:00",
          "2022-02-14T00:00:00",
          "2022-02-15T00:00:00",
          "2022-02-16T00:00:00",
          "2022-02-17T00:00:00",
          "2022-02-18T00:00:00",
          "2022-02-19T00:00:00",
          "2022-02-20T00:00:00",
          "2022-02-21T00:00:00",
          "2022-02-22T00:00:00",
          "2022-02-23T00:00:00",
          "2022-02-24T00:00:00",
          "2022-02-25T00:00:00",
          "2022-02-26T00:00:00",
          "2022-02-27T00:00:00",
          "2022-02-28T00:00:00",
          "2022-03-01T00:00:00"
         ],
         "xaxis": "x",
         "y": [
          0,
          0,
          0,
          0,
          0,
          0,
          0,
          0,
          0,
          0,
          0,
          0,
          0,
          0,
          0,
          0,
          0,
          0,
          0,
          0,
          0,
          0,
          0,
          0,
          0,
          0,
          0,
          0,
          0,
          0,
          0,
          0,
          0,
          0,
          0,
          0,
          0,
          0,
          0,
          0,
          0,
          0,
          0,
          0,
          0,
          0,
          0,
          0,
          0,
          0,
          0,
          0,
          0,
          0,
          0,
          0,
          0,
          0,
          0,
          null
         ],
         "yaxis": "y"
        },
        {
         "hovertemplate": "ID=cardano<br>Date=%{x|%B %d, %Y}<br>value=%{y}<extra></extra>",
         "legendgroup": "cardano",
         "line": {
          "color": "#00cc96",
          "dash": "solid"
         },
         "marker": {
          "symbol": "circle"
         },
         "mode": "lines",
         "name": "cardano",
         "orientation": "v",
         "showlegend": true,
         "type": "scatter",
         "x": [
          "2022-01-01T00:00:00",
          "2022-01-02T00:00:00",
          "2022-01-03T00:00:00",
          "2022-01-04T00:00:00",
          "2022-01-05T00:00:00",
          "2022-01-06T00:00:00",
          "2022-01-07T00:00:00",
          "2022-01-08T00:00:00",
          "2022-01-09T00:00:00",
          "2022-01-10T00:00:00",
          "2022-01-11T00:00:00",
          "2022-01-12T00:00:00",
          "2022-01-13T00:00:00",
          "2022-01-14T00:00:00",
          "2022-01-15T00:00:00",
          "2022-01-16T00:00:00",
          "2022-01-17T00:00:00",
          "2022-01-18T00:00:00",
          "2022-01-19T00:00:00",
          "2022-01-20T00:00:00",
          "2022-01-21T00:00:00",
          "2022-01-22T00:00:00",
          "2022-01-23T00:00:00",
          "2022-01-24T00:00:00",
          "2022-01-25T00:00:00",
          "2022-01-26T00:00:00",
          "2022-01-27T00:00:00",
          "2022-01-28T00:00:00",
          "2022-01-29T00:00:00",
          "2022-01-30T00:00:00",
          "2022-01-31T00:00:00",
          "2022-02-01T00:00:00",
          "2022-02-02T00:00:00",
          "2022-02-03T00:00:00",
          "2022-02-04T00:00:00",
          "2022-02-05T00:00:00",
          "2022-02-06T00:00:00",
          "2022-02-07T00:00:00",
          "2022-02-08T00:00:00",
          "2022-02-09T00:00:00",
          "2022-02-10T00:00:00",
          "2022-02-11T00:00:00",
          "2022-02-12T00:00:00",
          "2022-02-13T00:00:00",
          "2022-02-14T00:00:00",
          "2022-02-15T00:00:00",
          "2022-02-16T00:00:00",
          "2022-02-17T00:00:00",
          "2022-02-18T00:00:00",
          "2022-02-19T00:00:00",
          "2022-02-20T00:00:00",
          "2022-02-21T00:00:00",
          "2022-02-22T00:00:00",
          "2022-02-23T00:00:00",
          "2022-02-24T00:00:00",
          "2022-02-25T00:00:00",
          "2022-02-26T00:00:00",
          "2022-02-27T00:00:00",
          "2022-02-28T00:00:00",
          "2022-03-01T00:00:00"
         ],
         "xaxis": "x",
         "y": [
          0.028886227409113036,
          0.02937741519656867,
          0.029435088089713523,
          0.02887941762010897,
          0.028718461751011067,
          0.028830869079288526,
          0.030234306586622847,
          0.03004436783508361,
          0.029685395998584878,
          0.029061475464049483,
          0.028300441304136705,
          0.028754644106769693,
          0.030518824913999383,
          0.030017890747784593,
          0.03060071520198818,
          0.030855831543291752,
          0.033420898521938684,
          0.03810712414606517,
          0.035807345438616967,
          0.03336195015340047,
          0.0322745740252352,
          0.032780517299991555,
          0.03253052866725086,
          0.032830162621763144,
          0.031511593827502966,
          0.030610779839592855,
          0.031702043174553295,
          0.03087004656512463,
          0.03009857791935366,
          0.02997773973261115,
          0.029505421042883482,
          0.02930734937041748,
          0.02954889390225418,
          0.029424311542625144,
          0.030163807707871877,
          0.029133487721882966,
          0.02884809115859324,
          0.02866301831752028,
          0.028865043523346453,
          0.028316521618098476,
          0.028320144994415982,
          0.028117153843088022,
          0.027447584122239136,
          0.026901745458401603,
          0.026657092450637805,
          0.026528424268095128,
          0.02644036018352824,
          0.02627742192523575,
          0.026797782870923322,
          0.026703724159221925,
          0.026656586722740887,
          0.026221378988176204,
          0.025001818500498672,
          0.025065214601828423,
          0.025073543424869765,
          0.024107280705410454,
          0.024354149129082178,
          0.02422318148755481,
          0.02442619185129013,
          0.024006331219410388
         ],
         "yaxis": "y"
        },
        {
         "hovertemplate": "ID=ethereum<br>Date=%{x|%B %d, %Y}<br>value=%{y}<extra></extra>",
         "legendgroup": "ethereum",
         "line": {
          "color": "#ab63fa",
          "dash": "solid"
         },
         "marker": {
          "symbol": "circle"
         },
         "mode": "lines",
         "name": "ethereum",
         "orientation": "v",
         "showlegend": true,
         "type": "scatter",
         "x": [
          "2022-01-01T00:00:00",
          "2022-01-02T00:00:00",
          "2022-01-03T00:00:00",
          "2022-01-04T00:00:00",
          "2022-01-05T00:00:00",
          "2022-01-06T00:00:00",
          "2022-01-07T00:00:00",
          "2022-01-08T00:00:00",
          "2022-01-09T00:00:00",
          "2022-01-10T00:00:00",
          "2022-01-11T00:00:00",
          "2022-01-12T00:00:00",
          "2022-01-13T00:00:00",
          "2022-01-14T00:00:00",
          "2022-01-15T00:00:00",
          "2022-01-16T00:00:00",
          "2022-01-17T00:00:00",
          "2022-01-18T00:00:00",
          "2022-01-19T00:00:00",
          "2022-01-20T00:00:00",
          "2022-01-21T00:00:00",
          "2022-01-22T00:00:00",
          "2022-01-23T00:00:00",
          "2022-01-24T00:00:00",
          "2022-01-25T00:00:00",
          "2022-01-26T00:00:00",
          "2022-01-27T00:00:00",
          "2022-01-28T00:00:00",
          "2022-01-29T00:00:00",
          "2022-01-30T00:00:00",
          "2022-01-31T00:00:00",
          "2022-02-01T00:00:00",
          "2022-02-02T00:00:00",
          "2022-02-03T00:00:00",
          "2022-02-04T00:00:00",
          "2022-02-05T00:00:00",
          "2022-02-06T00:00:00",
          "2022-02-07T00:00:00",
          "2022-02-08T00:00:00",
          "2022-02-09T00:00:00",
          "2022-02-10T00:00:00",
          "2022-02-11T00:00:00",
          "2022-02-12T00:00:00",
          "2022-02-13T00:00:00",
          "2022-02-14T00:00:00",
          "2022-02-15T00:00:00",
          "2022-02-16T00:00:00",
          "2022-02-17T00:00:00",
          "2022-02-18T00:00:00",
          "2022-02-19T00:00:00",
          "2022-02-20T00:00:00",
          "2022-02-21T00:00:00",
          "2022-02-22T00:00:00",
          "2022-02-23T00:00:00",
          "2022-02-24T00:00:00",
          "2022-02-25T00:00:00",
          "2022-02-26T00:00:00",
          "2022-02-27T00:00:00",
          "2022-02-28T00:00:00",
          "2022-03-01T00:00:00"
         ],
         "xaxis": "x",
         "y": [
          0.3010669835363202,
          0.2989582719160893,
          0.3036094352071911,
          0.30426954273159323,
          0.3081711199199029,
          0.3058840933770436,
          0.29928828254353246,
          0.29417378272625105,
          0.2865308235465316,
          0.2901308608114124,
          0.28661640445629155,
          0.2924699433936728,
          0.29342168077201347,
          0.29252465711883546,
          0.2934892864463251,
          0.2941832762405275,
          0.2952334171350362,
          0.28920276305392395,
          0.2864142763228687,
          0.2872361116576143,
          0.2862000341188457,
          0.2763945590336058,
          0.27235012972580663,
          0.27630447107604306,
          0.2682191916820106,
          0.2682145577025214,
          0.2695280377887383,
          0.26443143946327474,
          0.2715177169197666,
          0.27336049888367003,
          0.2756631859274381,
          0.2784492301766418,
          0.283596506114298,
          0.2860353810274604,
          0.2827171032113081,
          0.28530987412926107,
          0.2867521470573497,
          0.2846213045367572,
          0.28199025258003,
          0.2797848185913604,
          0.2857751139337913,
          0.27999757342494996,
          0.2769262602655618,
          0.2759764369052682,
          0.2744201851557568,
          0.2763850720113332,
          0.2829296209753537,
          0.2829544494720275,
          0.2822756273659311,
          0.27820165062396696,
          0.2754226722583584,
          0.2739624806290401,
          0.2788657491830067,
          0.27739456419505376,
          0.27862249968453495,
          0.2742879463542895,
          0.28208080859594753,
          0.28324217077645325,
          0.27865172032724,
          0.27356478337892165
         ],
         "yaxis": "y"
        },
        {
         "hovertemplate": "ID=litecoin<br>Date=%{x|%B %d, %Y}<br>value=%{y}<extra></extra>",
         "legendgroup": "litecoin",
         "line": {
          "color": "#FFA15A",
          "dash": "solid"
         },
         "marker": {
          "symbol": "circle"
         },
         "mode": "lines",
         "name": "litecoin",
         "orientation": "v",
         "showlegend": true,
         "type": "scatter",
         "x": [
          "2022-01-01T00:00:00",
          "2022-01-02T00:00:00",
          "2022-01-03T00:00:00",
          "2022-01-04T00:00:00",
          "2022-01-05T00:00:00",
          "2022-01-06T00:00:00",
          "2022-01-07T00:00:00",
          "2022-01-08T00:00:00",
          "2022-01-09T00:00:00",
          "2022-01-10T00:00:00",
          "2022-01-11T00:00:00",
          "2022-01-12T00:00:00",
          "2022-01-13T00:00:00",
          "2022-01-14T00:00:00",
          "2022-01-15T00:00:00",
          "2022-01-16T00:00:00",
          "2022-01-17T00:00:00",
          "2022-01-18T00:00:00",
          "2022-01-19T00:00:00",
          "2022-01-20T00:00:00",
          "2022-01-21T00:00:00",
          "2022-01-22T00:00:00",
          "2022-01-23T00:00:00",
          "2022-01-24T00:00:00",
          "2022-01-25T00:00:00",
          "2022-01-26T00:00:00",
          "2022-01-27T00:00:00",
          "2022-01-28T00:00:00",
          "2022-01-29T00:00:00",
          "2022-01-30T00:00:00",
          "2022-01-31T00:00:00",
          "2022-02-01T00:00:00",
          "2022-02-02T00:00:00",
          "2022-02-03T00:00:00",
          "2022-02-04T00:00:00",
          "2022-02-05T00:00:00",
          "2022-02-06T00:00:00",
          "2022-02-07T00:00:00",
          "2022-02-08T00:00:00",
          "2022-02-09T00:00:00",
          "2022-02-10T00:00:00",
          "2022-02-11T00:00:00",
          "2022-02-12T00:00:00",
          "2022-02-13T00:00:00",
          "2022-02-14T00:00:00",
          "2022-02-15T00:00:00",
          "2022-02-16T00:00:00",
          "2022-02-17T00:00:00",
          "2022-02-18T00:00:00",
          "2022-02-19T00:00:00",
          "2022-02-20T00:00:00",
          "2022-02-21T00:00:00",
          "2022-02-22T00:00:00",
          "2022-02-23T00:00:00",
          "2022-02-24T00:00:00",
          "2022-02-25T00:00:00",
          "2022-02-26T00:00:00",
          "2022-02-27T00:00:00",
          "2022-02-28T00:00:00",
          "2022-03-01T00:00:00"
         ],
         "xaxis": "x",
         "y": [
          0.006959059639315114,
          0.006961201206267065,
          0.0069934068800105165,
          0.006992106660754527,
          0.006947315291779847,
          0.00681701377040364,
          0.006972820224968624,
          0.007035367335586702,
          0.006995230998653195,
          0.007029147227564469,
          0.006860176183923136,
          0.006889935789163624,
          0.007167070275981579,
          0.0071524892968769065,
          0.007470832444246046,
          0.007599002736602697,
          0.007508792005940847,
          0.007948294435483385,
          0.007465139818323827,
          0.007358712133789771,
          0.007261460593891598,
          0.007194081643931722,
          0.007165510556458276,
          0.007092124387157739,
          0.007019486111662031,
          0.006875362284982285,
          0.006809736970715449,
          0.006828674566599318,
          0.006795863927074993,
          0.0067881258001337,
          0.006698571568526408,
          0.006614109361103349,
          0.006823760534974252,
          0.006712330865154155,
          0.006826853152099282,
          0.006721668751858322,
          0.006752606753779747,
          0.0069040756397918575,
          0.007151931194608025,
          0.006982798706845749,
          0.0072310060282835655,
          0.007165590163878523,
          0.006954013656249317,
          0.007005130402689015,
          0.006984987579803898,
          0.006838254072397627,
          0.006828814607935615,
          0.006727959757323774,
          0.006619927056151392,
          0.00667852791533917,
          0.0067157331024380856,
          0.006716525390775063,
          0.006541436396155906,
          0.006560464016995325,
          0.00661761765953404,
          0.006398146595899735,
          0.006455875268780035,
          0.006414386200777592,
          0.006364172297480218,
          0.006192584317033971
         ],
         "yaxis": "y"
        },
        {
         "hovertemplate": "ID=ripple<br>Date=%{x|%B %d, %Y}<br>value=%{y}<extra></extra>",
         "legendgroup": "ripple",
         "line": {
          "color": "#19d3f3",
          "dash": "solid"
         },
         "marker": {
          "symbol": "circle"
         },
         "mode": "lines",
         "name": "ripple",
         "orientation": "v",
         "showlegend": true,
         "type": "scatter",
         "x": [
          "2022-01-01T00:00:00",
          "2022-01-02T00:00:00",
          "2022-01-03T00:00:00",
          "2022-01-04T00:00:00",
          "2022-01-05T00:00:00",
          "2022-01-06T00:00:00",
          "2022-01-07T00:00:00",
          "2022-01-08T00:00:00",
          "2022-01-09T00:00:00",
          "2022-01-10T00:00:00",
          "2022-01-11T00:00:00",
          "2022-01-12T00:00:00",
          "2022-01-13T00:00:00",
          "2022-01-14T00:00:00",
          "2022-01-15T00:00:00",
          "2022-01-16T00:00:00",
          "2022-01-17T00:00:00",
          "2022-01-18T00:00:00",
          "2022-01-19T00:00:00",
          "2022-01-20T00:00:00",
          "2022-01-21T00:00:00",
          "2022-01-22T00:00:00",
          "2022-01-23T00:00:00",
          "2022-01-24T00:00:00",
          "2022-01-25T00:00:00",
          "2022-01-26T00:00:00",
          "2022-01-27T00:00:00",
          "2022-01-28T00:00:00",
          "2022-01-29T00:00:00",
          "2022-01-30T00:00:00",
          "2022-01-31T00:00:00",
          "2022-02-01T00:00:00",
          "2022-02-02T00:00:00",
          "2022-02-03T00:00:00",
          "2022-02-04T00:00:00",
          "2022-02-05T00:00:00",
          "2022-02-06T00:00:00",
          "2022-02-07T00:00:00",
          "2022-02-08T00:00:00",
          "2022-02-09T00:00:00",
          "2022-02-10T00:00:00",
          "2022-02-11T00:00:00",
          "2022-02-12T00:00:00",
          "2022-02-13T00:00:00",
          "2022-02-14T00:00:00",
          "2022-02-15T00:00:00",
          "2022-02-16T00:00:00",
          "2022-02-17T00:00:00",
          "2022-02-18T00:00:00",
          "2022-02-19T00:00:00",
          "2022-02-20T00:00:00",
          "2022-02-21T00:00:00",
          "2022-02-22T00:00:00",
          "2022-02-23T00:00:00",
          "2022-02-24T00:00:00",
          "2022-02-25T00:00:00",
          "2022-02-26T00:00:00",
          "2022-02-27T00:00:00",
          "2022-02-28T00:00:00",
          "2022-03-01T00:00:00"
         ],
         "xaxis": "x",
         "y": [
          0.02705503266063768,
          0.026886744125644166,
          0.027200056815166847,
          0.026904488379269866,
          0.026691643455374225,
          0.026698936307014025,
          0.027431721456029904,
          0.028104418649018092,
          0.027699506677751222,
          0.027750372287332317,
          0.027485270260363594,
          0.027747840228882232,
          0.027797958115411647,
          0.0276951938927976,
          0.02743547009879291,
          0.027601035403358513,
          0.02740542938827021,
          0.027505828801365585,
          0.02722936028212399,
          0.02735554924170984,
          0.027410921818343818,
          0.027514297817564086,
          0.027128262076471506,
          0.02743210041461129,
          0.027000679013427068,
          0.027050118589244245,
          0.027162025193470142,
          0.026761401680670968,
          0.026132185005207895,
          0.02596015010615568,
          0.02552303460099233,
          0.02568744729837215,
          0.025542314862858635,
          0.025609510374070596,
          0.025966284766963506,
          0.02503688110401039,
          0.025491343300802598,
          0.02551292586111822,
          0.029601211435758595,
          0.031513870254272824,
          0.031133730623236537,
          0.030463856522347666,
          0.028807875126739293,
          0.031066943920423543,
          0.030845167445563395,
          0.030243529724915858,
          0.03026071451160208,
          0.030236494185017483,
          0.030221033015233163,
          0.031463665301501485,
          0.03293709101605187,
          0.032454494527929645,
          0.03067588288037439,
          0.030458877362306912,
          0.030193455554508798,
          0.029454031420532024,
          0.03126732898613458,
          0.030604260269732123,
          0.03063349373991023,
          0.029390234943870663
         ],
         "yaxis": "y"
        },
        {
         "hovertemplate": "ID=solana<br>Date=%{x|%B %d, %Y}<br>value=%{y}<extra></extra>",
         "legendgroup": "solana",
         "line": {
          "color": "#FF6692",
          "dash": "solid"
         },
         "marker": {
          "symbol": "circle"
         },
         "mode": "lines",
         "name": "solana",
         "orientation": "v",
         "showlegend": true,
         "type": "scatter",
         "x": [
          "2022-01-01T00:00:00",
          "2022-01-02T00:00:00",
          "2022-01-03T00:00:00",
          "2022-01-04T00:00:00",
          "2022-01-05T00:00:00",
          "2022-01-06T00:00:00",
          "2022-01-07T00:00:00",
          "2022-01-08T00:00:00",
          "2022-01-09T00:00:00",
          "2022-01-10T00:00:00",
          "2022-01-11T00:00:00",
          "2022-01-12T00:00:00",
          "2022-01-13T00:00:00",
          "2022-01-14T00:00:00",
          "2022-01-15T00:00:00",
          "2022-01-16T00:00:00",
          "2022-01-17T00:00:00",
          "2022-01-18T00:00:00",
          "2022-01-19T00:00:00",
          "2022-01-20T00:00:00",
          "2022-01-21T00:00:00",
          "2022-01-22T00:00:00",
          "2022-01-23T00:00:00",
          "2022-01-24T00:00:00",
          "2022-01-25T00:00:00",
          "2022-01-26T00:00:00",
          "2022-01-27T00:00:00",
          "2022-01-28T00:00:00",
          "2022-01-29T00:00:00",
          "2022-01-30T00:00:00",
          "2022-01-31T00:00:00",
          "2022-02-01T00:00:00",
          "2022-02-02T00:00:00",
          "2022-02-03T00:00:00",
          "2022-02-04T00:00:00",
          "2022-02-05T00:00:00",
          "2022-02-06T00:00:00",
          "2022-02-07T00:00:00",
          "2022-02-08T00:00:00",
          "2022-02-09T00:00:00",
          "2022-02-10T00:00:00",
          "2022-02-11T00:00:00",
          "2022-02-12T00:00:00",
          "2022-02-13T00:00:00",
          "2022-02-14T00:00:00",
          "2022-02-15T00:00:00",
          "2022-02-16T00:00:00",
          "2022-02-17T00:00:00",
          "2022-02-18T00:00:00",
          "2022-02-19T00:00:00",
          "2022-02-20T00:00:00",
          "2022-02-21T00:00:00",
          "2022-02-22T00:00:00",
          "2022-02-23T00:00:00",
          "2022-02-24T00:00:00",
          "2022-02-25T00:00:00",
          "2022-02-26T00:00:00",
          "2022-02-27T00:00:00",
          "2022-02-28T00:00:00",
          "2022-03-01T00:00:00"
         ],
         "xaxis": "x",
         "y": [
          0.03621859083089511,
          0.036614789004054446,
          0.03628834825640231,
          0.035870313569823294,
          0.035437261321208884,
          0.03475411221313774,
          0.03439954960760384,
          0.032875727884862656,
          0.034625734049814026,
          0.03390191577035534,
          0.03299226417900665,
          0.03307605030172567,
          0.034629577183242034,
          0.03462001101589471,
          0.03409544093496891,
          0.034345240773653134,
          0.03426450372116118,
          0.03321158505773657,
          0.03378227441680727,
          0.03314781476010079,
          0.03232638271647992,
          0.03161044569809448,
          0.028170940724239087,
          0.028569278991737477,
          0.02655346515960297,
          0.02747401153002744,
          0.02665334518655669,
          0.025888804240588523,
          0.025685276321917208,
          0.02663978636845574,
          0.026033590100654203,
          0.027253210006573266,
          0.029532103987726217,
          0.028466191400507622,
          0.028345615656392712,
          0.02826712407292351,
          0.028617319905877785,
          0.028397928896763357,
          0.027951771072688016,
          0.02702174414855767,
          0.02677865458943524,
          0.02571125801053405,
          0.02419971277425048,
          0.024100143286322023,
          0.023585016354667986,
          0.024215127483686476,
          0.024884648111440477,
          0.024609124778353187,
          0.024461001271007,
          0.024012522086991138,
          0.024318268565561334,
          0.025448077042168657,
          0.024134074740867036,
          0.024277590351934976,
          0.024453268245268327,
          0.02509041696128029,
          0.02529739445506642,
          0.024495199818238552,
          0.02423630482357,
          0.02495863060658566
         ],
         "yaxis": "y"
        }
       ],
       "layout": {
        "legend": {
         "title": {
          "text": "ID"
         },
         "tracegroupgap": 0
        },
        "template": {
         "data": {
          "bar": [
           {
            "error_x": {
             "color": "#2a3f5f"
            },
            "error_y": {
             "color": "#2a3f5f"
            },
            "marker": {
             "line": {
              "color": "#E5ECF6",
              "width": 0.5
             },
             "pattern": {
              "fillmode": "overlay",
              "size": 10,
              "solidity": 0.2
             }
            },
            "type": "bar"
           }
          ],
          "barpolar": [
           {
            "marker": {
             "line": {
              "color": "#E5ECF6",
              "width": 0.5
             },
             "pattern": {
              "fillmode": "overlay",
              "size": 10,
              "solidity": 0.2
             }
            },
            "type": "barpolar"
           }
          ],
          "carpet": [
           {
            "aaxis": {
             "endlinecolor": "#2a3f5f",
             "gridcolor": "white",
             "linecolor": "white",
             "minorgridcolor": "white",
             "startlinecolor": "#2a3f5f"
            },
            "baxis": {
             "endlinecolor": "#2a3f5f",
             "gridcolor": "white",
             "linecolor": "white",
             "minorgridcolor": "white",
             "startlinecolor": "#2a3f5f"
            },
            "type": "carpet"
           }
          ],
          "choropleth": [
           {
            "colorbar": {
             "outlinewidth": 0,
             "ticks": ""
            },
            "type": "choropleth"
           }
          ],
          "contour": [
           {
            "colorbar": {
             "outlinewidth": 0,
             "ticks": ""
            },
            "colorscale": [
             [
              0,
              "#0d0887"
             ],
             [
              0.1111111111111111,
              "#46039f"
             ],
             [
              0.2222222222222222,
              "#7201a8"
             ],
             [
              0.3333333333333333,
              "#9c179e"
             ],
             [
              0.4444444444444444,
              "#bd3786"
             ],
             [
              0.5555555555555556,
              "#d8576b"
             ],
             [
              0.6666666666666666,
              "#ed7953"
             ],
             [
              0.7777777777777778,
              "#fb9f3a"
             ],
             [
              0.8888888888888888,
              "#fdca26"
             ],
             [
              1,
              "#f0f921"
             ]
            ],
            "type": "contour"
           }
          ],
          "contourcarpet": [
           {
            "colorbar": {
             "outlinewidth": 0,
             "ticks": ""
            },
            "type": "contourcarpet"
           }
          ],
          "heatmap": [
           {
            "colorbar": {
             "outlinewidth": 0,
             "ticks": ""
            },
            "colorscale": [
             [
              0,
              "#0d0887"
             ],
             [
              0.1111111111111111,
              "#46039f"
             ],
             [
              0.2222222222222222,
              "#7201a8"
             ],
             [
              0.3333333333333333,
              "#9c179e"
             ],
             [
              0.4444444444444444,
              "#bd3786"
             ],
             [
              0.5555555555555556,
              "#d8576b"
             ],
             [
              0.6666666666666666,
              "#ed7953"
             ],
             [
              0.7777777777777778,
              "#fb9f3a"
             ],
             [
              0.8888888888888888,
              "#fdca26"
             ],
             [
              1,
              "#f0f921"
             ]
            ],
            "type": "heatmap"
           }
          ],
          "heatmapgl": [
           {
            "colorbar": {
             "outlinewidth": 0,
             "ticks": ""
            },
            "colorscale": [
             [
              0,
              "#0d0887"
             ],
             [
              0.1111111111111111,
              "#46039f"
             ],
             [
              0.2222222222222222,
              "#7201a8"
             ],
             [
              0.3333333333333333,
              "#9c179e"
             ],
             [
              0.4444444444444444,
              "#bd3786"
             ],
             [
              0.5555555555555556,
              "#d8576b"
             ],
             [
              0.6666666666666666,
              "#ed7953"
             ],
             [
              0.7777777777777778,
              "#fb9f3a"
             ],
             [
              0.8888888888888888,
              "#fdca26"
             ],
             [
              1,
              "#f0f921"
             ]
            ],
            "type": "heatmapgl"
           }
          ],
          "histogram": [
           {
            "marker": {
             "pattern": {
              "fillmode": "overlay",
              "size": 10,
              "solidity": 0.2
             }
            },
            "type": "histogram"
           }
          ],
          "histogram2d": [
           {
            "colorbar": {
             "outlinewidth": 0,
             "ticks": ""
            },
            "colorscale": [
             [
              0,
              "#0d0887"
             ],
             [
              0.1111111111111111,
              "#46039f"
             ],
             [
              0.2222222222222222,
              "#7201a8"
             ],
             [
              0.3333333333333333,
              "#9c179e"
             ],
             [
              0.4444444444444444,
              "#bd3786"
             ],
             [
              0.5555555555555556,
              "#d8576b"
             ],
             [
              0.6666666666666666,
              "#ed7953"
             ],
             [
              0.7777777777777778,
              "#fb9f3a"
             ],
             [
              0.8888888888888888,
              "#fdca26"
             ],
             [
              1,
              "#f0f921"
             ]
            ],
            "type": "histogram2d"
           }
          ],
          "histogram2dcontour": [
           {
            "colorbar": {
             "outlinewidth": 0,
             "ticks": ""
            },
            "colorscale": [
             [
              0,
              "#0d0887"
             ],
             [
              0.1111111111111111,
              "#46039f"
             ],
             [
              0.2222222222222222,
              "#7201a8"
             ],
             [
              0.3333333333333333,
              "#9c179e"
             ],
             [
              0.4444444444444444,
              "#bd3786"
             ],
             [
              0.5555555555555556,
              "#d8576b"
             ],
             [
              0.6666666666666666,
              "#ed7953"
             ],
             [
              0.7777777777777778,
              "#fb9f3a"
             ],
             [
              0.8888888888888888,
              "#fdca26"
             ],
             [
              1,
              "#f0f921"
             ]
            ],
            "type": "histogram2dcontour"
           }
          ],
          "mesh3d": [
           {
            "colorbar": {
             "outlinewidth": 0,
             "ticks": ""
            },
            "type": "mesh3d"
           }
          ],
          "parcoords": [
           {
            "line": {
             "colorbar": {
              "outlinewidth": 0,
              "ticks": ""
             }
            },
            "type": "parcoords"
           }
          ],
          "pie": [
           {
            "automargin": true,
            "type": "pie"
           }
          ],
          "scatter": [
           {
            "fillpattern": {
             "fillmode": "overlay",
             "size": 10,
             "solidity": 0.2
            },
            "type": "scatter"
           }
          ],
          "scatter3d": [
           {
            "line": {
             "colorbar": {
              "outlinewidth": 0,
              "ticks": ""
             }
            },
            "marker": {
             "colorbar": {
              "outlinewidth": 0,
              "ticks": ""
             }
            },
            "type": "scatter3d"
           }
          ],
          "scattercarpet": [
           {
            "marker": {
             "colorbar": {
              "outlinewidth": 0,
              "ticks": ""
             }
            },
            "type": "scattercarpet"
           }
          ],
          "scattergeo": [
           {
            "marker": {
             "colorbar": {
              "outlinewidth": 0,
              "ticks": ""
             }
            },
            "type": "scattergeo"
           }
          ],
          "scattergl": [
           {
            "marker": {
             "colorbar": {
              "outlinewidth": 0,
              "ticks": ""
             }
            },
            "type": "scattergl"
           }
          ],
          "scattermapbox": [
           {
            "marker": {
             "colorbar": {
              "outlinewidth": 0,
              "ticks": ""
             }
            },
            "type": "scattermapbox"
           }
          ],
          "scatterpolar": [
           {
            "marker": {
             "colorbar": {
              "outlinewidth": 0,
              "ticks": ""
             }
            },
            "type": "scatterpolar"
           }
          ],
          "scatterpolargl": [
           {
            "marker": {
             "colorbar": {
              "outlinewidth": 0,
              "ticks": ""
             }
            },
            "type": "scatterpolargl"
           }
          ],
          "scatterternary": [
           {
            "marker": {
             "colorbar": {
              "outlinewidth": 0,
              "ticks": ""
             }
            },
            "type": "scatterternary"
           }
          ],
          "surface": [
           {
            "colorbar": {
             "outlinewidth": 0,
             "ticks": ""
            },
            "colorscale": [
             [
              0,
              "#0d0887"
             ],
             [
              0.1111111111111111,
              "#46039f"
             ],
             [
              0.2222222222222222,
              "#7201a8"
             ],
             [
              0.3333333333333333,
              "#9c179e"
             ],
             [
              0.4444444444444444,
              "#bd3786"
             ],
             [
              0.5555555555555556,
              "#d8576b"
             ],
             [
              0.6666666666666666,
              "#ed7953"
             ],
             [
              0.7777777777777778,
              "#fb9f3a"
             ],
             [
              0.8888888888888888,
              "#fdca26"
             ],
             [
              1,
              "#f0f921"
             ]
            ],
            "type": "surface"
           }
          ],
          "table": [
           {
            "cells": {
             "fill": {
              "color": "#EBF0F8"
             },
             "line": {
              "color": "white"
             }
            },
            "header": {
             "fill": {
              "color": "#C8D4E3"
             },
             "line": {
              "color": "white"
             }
            },
            "type": "table"
           }
          ]
         },
         "layout": {
          "annotationdefaults": {
           "arrowcolor": "#2a3f5f",
           "arrowhead": 0,
           "arrowwidth": 1
          },
          "autotypenumbers": "strict",
          "coloraxis": {
           "colorbar": {
            "outlinewidth": 0,
            "ticks": ""
           }
          },
          "colorscale": {
           "diverging": [
            [
             0,
             "#8e0152"
            ],
            [
             0.1,
             "#c51b7d"
            ],
            [
             0.2,
             "#de77ae"
            ],
            [
             0.3,
             "#f1b6da"
            ],
            [
             0.4,
             "#fde0ef"
            ],
            [
             0.5,
             "#f7f7f7"
            ],
            [
             0.6,
             "#e6f5d0"
            ],
            [
             0.7,
             "#b8e186"
            ],
            [
             0.8,
             "#7fbc41"
            ],
            [
             0.9,
             "#4d9221"
            ],
            [
             1,
             "#276419"
            ]
           ],
           "sequential": [
            [
             0,
             "#0d0887"
            ],
            [
             0.1111111111111111,
             "#46039f"
            ],
            [
             0.2222222222222222,
             "#7201a8"
            ],
            [
             0.3333333333333333,
             "#9c179e"
            ],
            [
             0.4444444444444444,
             "#bd3786"
            ],
            [
             0.5555555555555556,
             "#d8576b"
            ],
            [
             0.6666666666666666,
             "#ed7953"
            ],
            [
             0.7777777777777778,
             "#fb9f3a"
            ],
            [
             0.8888888888888888,
             "#fdca26"
            ],
            [
             1,
             "#f0f921"
            ]
           ],
           "sequentialminus": [
            [
             0,
             "#0d0887"
            ],
            [
             0.1111111111111111,
             "#46039f"
            ],
            [
             0.2222222222222222,
             "#7201a8"
            ],
            [
             0.3333333333333333,
             "#9c179e"
            ],
            [
             0.4444444444444444,
             "#bd3786"
            ],
            [
             0.5555555555555556,
             "#d8576b"
            ],
            [
             0.6666666666666666,
             "#ed7953"
            ],
            [
             0.7777777777777778,
             "#fb9f3a"
            ],
            [
             0.8888888888888888,
             "#fdca26"
            ],
            [
             1,
             "#f0f921"
            ]
           ]
          },
          "colorway": [
           "#636efa",
           "#EF553B",
           "#00cc96",
           "#ab63fa",
           "#FFA15A",
           "#19d3f3",
           "#FF6692",
           "#B6E880",
           "#FF97FF",
           "#FECB52"
          ],
          "font": {
           "color": "#2a3f5f"
          },
          "geo": {
           "bgcolor": "white",
           "lakecolor": "white",
           "landcolor": "#E5ECF6",
           "showlakes": true,
           "showland": true,
           "subunitcolor": "white"
          },
          "hoverlabel": {
           "align": "left"
          },
          "hovermode": "closest",
          "mapbox": {
           "style": "light"
          },
          "paper_bgcolor": "white",
          "plot_bgcolor": "#E5ECF6",
          "polar": {
           "angularaxis": {
            "gridcolor": "white",
            "linecolor": "white",
            "ticks": ""
           },
           "bgcolor": "#E5ECF6",
           "radialaxis": {
            "gridcolor": "white",
            "linecolor": "white",
            "ticks": ""
           }
          },
          "scene": {
           "xaxis": {
            "backgroundcolor": "#E5ECF6",
            "gridcolor": "white",
            "gridwidth": 2,
            "linecolor": "white",
            "showbackground": true,
            "ticks": "",
            "zerolinecolor": "white"
           },
           "yaxis": {
            "backgroundcolor": "#E5ECF6",
            "gridcolor": "white",
            "gridwidth": 2,
            "linecolor": "white",
            "showbackground": true,
            "ticks": "",
            "zerolinecolor": "white"
           },
           "zaxis": {
            "backgroundcolor": "#E5ECF6",
            "gridcolor": "white",
            "gridwidth": 2,
            "linecolor": "white",
            "showbackground": true,
            "ticks": "",
            "zerolinecolor": "white"
           }
          },
          "shapedefaults": {
           "line": {
            "color": "#2a3f5f"
           }
          },
          "ternary": {
           "aaxis": {
            "gridcolor": "white",
            "linecolor": "white",
            "ticks": ""
           },
           "baxis": {
            "gridcolor": "white",
            "linecolor": "white",
            "ticks": ""
           },
           "bgcolor": "#E5ECF6",
           "caxis": {
            "gridcolor": "white",
            "linecolor": "white",
            "ticks": ""
           }
          },
          "title": {
           "x": 0.05
          },
          "xaxis": {
           "automargin": true,
           "gridcolor": "white",
           "linecolor": "white",
           "ticks": "",
           "title": {
            "standoff": 15
           },
           "zerolinecolor": "white",
           "zerolinewidth": 2
          },
          "yaxis": {
           "automargin": true,
           "gridcolor": "white",
           "linecolor": "white",
           "ticks": "",
           "title": {
            "standoff": 15
           },
           "zerolinecolor": "white",
           "zerolinewidth": 2
          }
         }
        },
        "title": {
         "text": "Asset class value index 2022-01-01 to 2022-03-01"
        },
        "xaxis": {
         "anchor": "y",
         "domain": [
          0,
          1
         ],
         "dtick": "M1",
         "tickformat": "%b\n%Y",
         "title": {
          "text": "Date"
         }
        },
        "yaxis": {
         "anchor": "x",
         "domain": [
          0,
          1
         ],
         "title": {
          "text": "value"
         }
        }
       }
      },
      "text/html": [
       "<div>                            <div id=\"60442cb5-f07f-473b-a29c-dfc2fdf36d84\" class=\"plotly-graph-div\" style=\"height:525px; width:100%;\"></div>            <script type=\"text/javascript\">                require([\"plotly\"], function(Plotly) {                    window.PLOTLYENV=window.PLOTLYENV || {};                                    if (document.getElementById(\"60442cb5-f07f-473b-a29c-dfc2fdf36d84\")) {                    Plotly.newPlot(                        \"60442cb5-f07f-473b-a29c-dfc2fdf36d84\",                        [{\"hovertemplate\":\"ID=bitcoin<br>Date=%{x|%B %d, %Y}<br>value=%{y}<extra></extra>\",\"legendgroup\":\"bitcoin\",\"line\":{\"color\":\"#636efa\",\"dash\":\"solid\"},\"marker\":{\"symbol\":\"circle\"},\"mode\":\"lines\",\"name\":\"bitcoin\",\"orientation\":\"v\",\"showlegend\":true,\"x\":[\"2022-01-01T00:00:00\",\"2022-01-02T00:00:00\",\"2022-01-03T00:00:00\",\"2022-01-04T00:00:00\",\"2022-01-05T00:00:00\",\"2022-01-06T00:00:00\",\"2022-01-07T00:00:00\",\"2022-01-08T00:00:00\",\"2022-01-09T00:00:00\",\"2022-01-10T00:00:00\",\"2022-01-11T00:00:00\",\"2022-01-12T00:00:00\",\"2022-01-13T00:00:00\",\"2022-01-14T00:00:00\",\"2022-01-15T00:00:00\",\"2022-01-16T00:00:00\",\"2022-01-17T00:00:00\",\"2022-01-18T00:00:00\",\"2022-01-19T00:00:00\",\"2022-01-20T00:00:00\",\"2022-01-21T00:00:00\",\"2022-01-22T00:00:00\",\"2022-01-23T00:00:00\",\"2022-01-24T00:00:00\",\"2022-01-25T00:00:00\",\"2022-01-26T00:00:00\",\"2022-01-27T00:00:00\",\"2022-01-28T00:00:00\",\"2022-01-29T00:00:00\",\"2022-01-30T00:00:00\",\"2022-01-31T00:00:00\",\"2022-02-01T00:00:00\",\"2022-02-02T00:00:00\",\"2022-02-03T00:00:00\",\"2022-02-04T00:00:00\",\"2022-02-05T00:00:00\",\"2022-02-06T00:00:00\",\"2022-02-07T00:00:00\",\"2022-02-08T00:00:00\",\"2022-02-09T00:00:00\",\"2022-02-10T00:00:00\",\"2022-02-11T00:00:00\",\"2022-02-12T00:00:00\",\"2022-02-13T00:00:00\",\"2022-02-14T00:00:00\",\"2022-02-15T00:00:00\",\"2022-02-16T00:00:00\",\"2022-02-17T00:00:00\",\"2022-02-18T00:00:00\",\"2022-02-19T00:00:00\",\"2022-02-20T00:00:00\",\"2022-02-21T00:00:00\",\"2022-02-22T00:00:00\",\"2022-02-23T00:00:00\",\"2022-02-24T00:00:00\",\"2022-02-25T00:00:00\",\"2022-02-26T00:00:00\",\"2022-02-27T00:00:00\",\"2022-02-28T00:00:00\",\"2022-03-01T00:00:00\"],\"xaxis\":\"x\",\"y\":[0.5998141059237189,0.6012015785513763,0.5964736647515158,0.59708413103845,0.594034198260723,0.5970149752531124,0.6016733195812421,0.6077663355691979,0.614463308728665,0.612126228439286,0.6177454436162786,0.611061586179786,0.6064648887393519,0.6079897579278107,0.6069082548736788,0.6054156133025663,0.6021669592276528,0.6040244045054252,0.6093016037212593,0.6115398620533848,0.6145266267272038,0.6245060985068124,0.6326546282497736,0.6277718625086872,0.6396955842057944,0.6397751700536317,0.638144811685966,0.6452196334837419,0.6397703799066795,0.6372736991089737,0.6365761967595055,0.6326886537868919,0.6249564205978887,0.6237522747901819,0.6259803355053645,0.6255309642200639,0.623538491823597,0.6259007467480491,0.6244397901935689,0.6263802466808648,0.6207613498308373,0.6285445680352019,0.6356645540549601,0.6349496000268957,0.6375075510135702,0.6357895924395716,0.6286558416101398,0.6291945498820424,0.6296246284207542,0.6329399099129793,0.6339496483348497,0.6351970434219102,0.6347810382990973,0.6362432894718806,0.6350396154312842,0.6406621779625878,0.6305444435649893,0.6310208014472436,0.6356881169605093,0.6418874355341777],\"yaxis\":\"y\",\"type\":\"scatter\"},{\"hovertemplate\":\"ID=bitcoin_cash<br>Date=%{x|%B %d, %Y}<br>value=%{y}<extra></extra>\",\"legendgroup\":\"bitcoin_cash\",\"line\":{\"color\":\"#EF553B\",\"dash\":\"solid\"},\"marker\":{\"symbol\":\"circle\"},\"mode\":\"lines\",\"name\":\"bitcoin_cash\",\"orientation\":\"v\",\"showlegend\":true,\"x\":[\"2022-01-01T00:00:00\",\"2022-01-02T00:00:00\",\"2022-01-03T00:00:00\",\"2022-01-04T00:00:00\",\"2022-01-05T00:00:00\",\"2022-01-06T00:00:00\",\"2022-01-07T00:00:00\",\"2022-01-08T00:00:00\",\"2022-01-09T00:00:00\",\"2022-01-10T00:00:00\",\"2022-01-11T00:00:00\",\"2022-01-12T00:00:00\",\"2022-01-13T00:00:00\",\"2022-01-14T00:00:00\",\"2022-01-15T00:00:00\",\"2022-01-16T00:00:00\",\"2022-01-17T00:00:00\",\"2022-01-18T00:00:00\",\"2022-01-19T00:00:00\",\"2022-01-20T00:00:00\",\"2022-01-21T00:00:00\",\"2022-01-22T00:00:00\",\"2022-01-23T00:00:00\",\"2022-01-24T00:00:00\",\"2022-01-25T00:00:00\",\"2022-01-26T00:00:00\",\"2022-01-27T00:00:00\",\"2022-01-28T00:00:00\",\"2022-01-29T00:00:00\",\"2022-01-30T00:00:00\",\"2022-01-31T00:00:00\",\"2022-02-01T00:00:00\",\"2022-02-02T00:00:00\",\"2022-02-03T00:00:00\",\"2022-02-04T00:00:00\",\"2022-02-05T00:00:00\",\"2022-02-06T00:00:00\",\"2022-02-07T00:00:00\",\"2022-02-08T00:00:00\",\"2022-02-09T00:00:00\",\"2022-02-10T00:00:00\",\"2022-02-11T00:00:00\",\"2022-02-12T00:00:00\",\"2022-02-13T00:00:00\",\"2022-02-14T00:00:00\",\"2022-02-15T00:00:00\",\"2022-02-16T00:00:00\",\"2022-02-17T00:00:00\",\"2022-02-18T00:00:00\",\"2022-02-19T00:00:00\",\"2022-02-20T00:00:00\",\"2022-02-21T00:00:00\",\"2022-02-22T00:00:00\",\"2022-02-23T00:00:00\",\"2022-02-24T00:00:00\",\"2022-02-25T00:00:00\",\"2022-02-26T00:00:00\",\"2022-02-27T00:00:00\",\"2022-02-28T00:00:00\",\"2022-03-01T00:00:00\"],\"xaxis\":\"x\",\"y\":[0.0,0.0,0.0,0.0,0.0,0.0,0.0,0.0,0.0,0.0,0.0,0.0,0.0,0.0,0.0,0.0,0.0,0.0,0.0,0.0,0.0,0.0,0.0,0.0,0.0,0.0,0.0,0.0,0.0,0.0,0.0,0.0,0.0,0.0,0.0,0.0,0.0,0.0,0.0,0.0,0.0,0.0,0.0,0.0,0.0,0.0,0.0,0.0,0.0,0.0,0.0,0.0,0.0,0.0,0.0,0.0,0.0,0.0,0.0,null],\"yaxis\":\"y\",\"type\":\"scatter\"},{\"hovertemplate\":\"ID=cardano<br>Date=%{x|%B %d, %Y}<br>value=%{y}<extra></extra>\",\"legendgroup\":\"cardano\",\"line\":{\"color\":\"#00cc96\",\"dash\":\"solid\"},\"marker\":{\"symbol\":\"circle\"},\"mode\":\"lines\",\"name\":\"cardano\",\"orientation\":\"v\",\"showlegend\":true,\"x\":[\"2022-01-01T00:00:00\",\"2022-01-02T00:00:00\",\"2022-01-03T00:00:00\",\"2022-01-04T00:00:00\",\"2022-01-05T00:00:00\",\"2022-01-06T00:00:00\",\"2022-01-07T00:00:00\",\"2022-01-08T00:00:00\",\"2022-01-09T00:00:00\",\"2022-01-10T00:00:00\",\"2022-01-11T00:00:00\",\"2022-01-12T00:00:00\",\"2022-01-13T00:00:00\",\"2022-01-14T00:00:00\",\"2022-01-15T00:00:00\",\"2022-01-16T00:00:00\",\"2022-01-17T00:00:00\",\"2022-01-18T00:00:00\",\"2022-01-19T00:00:00\",\"2022-01-20T00:00:00\",\"2022-01-21T00:00:00\",\"2022-01-22T00:00:00\",\"2022-01-23T00:00:00\",\"2022-01-24T00:00:00\",\"2022-01-25T00:00:00\",\"2022-01-26T00:00:00\",\"2022-01-27T00:00:00\",\"2022-01-28T00:00:00\",\"2022-01-29T00:00:00\",\"2022-01-30T00:00:00\",\"2022-01-31T00:00:00\",\"2022-02-01T00:00:00\",\"2022-02-02T00:00:00\",\"2022-02-03T00:00:00\",\"2022-02-04T00:00:00\",\"2022-02-05T00:00:00\",\"2022-02-06T00:00:00\",\"2022-02-07T00:00:00\",\"2022-02-08T00:00:00\",\"2022-02-09T00:00:00\",\"2022-02-10T00:00:00\",\"2022-02-11T00:00:00\",\"2022-02-12T00:00:00\",\"2022-02-13T00:00:00\",\"2022-02-14T00:00:00\",\"2022-02-15T00:00:00\",\"2022-02-16T00:00:00\",\"2022-02-17T00:00:00\",\"2022-02-18T00:00:00\",\"2022-02-19T00:00:00\",\"2022-02-20T00:00:00\",\"2022-02-21T00:00:00\",\"2022-02-22T00:00:00\",\"2022-02-23T00:00:00\",\"2022-02-24T00:00:00\",\"2022-02-25T00:00:00\",\"2022-02-26T00:00:00\",\"2022-02-27T00:00:00\",\"2022-02-28T00:00:00\",\"2022-03-01T00:00:00\"],\"xaxis\":\"x\",\"y\":[0.028886227409113036,0.02937741519656867,0.029435088089713523,0.02887941762010897,0.028718461751011067,0.028830869079288526,0.030234306586622847,0.03004436783508361,0.029685395998584878,0.029061475464049483,0.028300441304136705,0.028754644106769693,0.030518824913999383,0.030017890747784593,0.03060071520198818,0.030855831543291752,0.033420898521938684,0.03810712414606517,0.035807345438616967,0.03336195015340047,0.0322745740252352,0.032780517299991555,0.03253052866725086,0.032830162621763144,0.031511593827502966,0.030610779839592855,0.031702043174553295,0.03087004656512463,0.03009857791935366,0.02997773973261115,0.029505421042883482,0.02930734937041748,0.02954889390225418,0.029424311542625144,0.030163807707871877,0.029133487721882966,0.02884809115859324,0.02866301831752028,0.028865043523346453,0.028316521618098476,0.028320144994415982,0.028117153843088022,0.027447584122239136,0.026901745458401603,0.026657092450637805,0.026528424268095128,0.02644036018352824,0.02627742192523575,0.026797782870923322,0.026703724159221925,0.026656586722740887,0.026221378988176204,0.025001818500498672,0.025065214601828423,0.025073543424869765,0.024107280705410454,0.024354149129082178,0.02422318148755481,0.02442619185129013,0.024006331219410388],\"yaxis\":\"y\",\"type\":\"scatter\"},{\"hovertemplate\":\"ID=ethereum<br>Date=%{x|%B %d, %Y}<br>value=%{y}<extra></extra>\",\"legendgroup\":\"ethereum\",\"line\":{\"color\":\"#ab63fa\",\"dash\":\"solid\"},\"marker\":{\"symbol\":\"circle\"},\"mode\":\"lines\",\"name\":\"ethereum\",\"orientation\":\"v\",\"showlegend\":true,\"x\":[\"2022-01-01T00:00:00\",\"2022-01-02T00:00:00\",\"2022-01-03T00:00:00\",\"2022-01-04T00:00:00\",\"2022-01-05T00:00:00\",\"2022-01-06T00:00:00\",\"2022-01-07T00:00:00\",\"2022-01-08T00:00:00\",\"2022-01-09T00:00:00\",\"2022-01-10T00:00:00\",\"2022-01-11T00:00:00\",\"2022-01-12T00:00:00\",\"2022-01-13T00:00:00\",\"2022-01-14T00:00:00\",\"2022-01-15T00:00:00\",\"2022-01-16T00:00:00\",\"2022-01-17T00:00:00\",\"2022-01-18T00:00:00\",\"2022-01-19T00:00:00\",\"2022-01-20T00:00:00\",\"2022-01-21T00:00:00\",\"2022-01-22T00:00:00\",\"2022-01-23T00:00:00\",\"2022-01-24T00:00:00\",\"2022-01-25T00:00:00\",\"2022-01-26T00:00:00\",\"2022-01-27T00:00:00\",\"2022-01-28T00:00:00\",\"2022-01-29T00:00:00\",\"2022-01-30T00:00:00\",\"2022-01-31T00:00:00\",\"2022-02-01T00:00:00\",\"2022-02-02T00:00:00\",\"2022-02-03T00:00:00\",\"2022-02-04T00:00:00\",\"2022-02-05T00:00:00\",\"2022-02-06T00:00:00\",\"2022-02-07T00:00:00\",\"2022-02-08T00:00:00\",\"2022-02-09T00:00:00\",\"2022-02-10T00:00:00\",\"2022-02-11T00:00:00\",\"2022-02-12T00:00:00\",\"2022-02-13T00:00:00\",\"2022-02-14T00:00:00\",\"2022-02-15T00:00:00\",\"2022-02-16T00:00:00\",\"2022-02-17T00:00:00\",\"2022-02-18T00:00:00\",\"2022-02-19T00:00:00\",\"2022-02-20T00:00:00\",\"2022-02-21T00:00:00\",\"2022-02-22T00:00:00\",\"2022-02-23T00:00:00\",\"2022-02-24T00:00:00\",\"2022-02-25T00:00:00\",\"2022-02-26T00:00:00\",\"2022-02-27T00:00:00\",\"2022-02-28T00:00:00\",\"2022-03-01T00:00:00\"],\"xaxis\":\"x\",\"y\":[0.3010669835363202,0.2989582719160893,0.3036094352071911,0.30426954273159323,0.3081711199199029,0.3058840933770436,0.29928828254353246,0.29417378272625105,0.2865308235465316,0.2901308608114124,0.28661640445629155,0.2924699433936728,0.29342168077201347,0.29252465711883546,0.2934892864463251,0.2941832762405275,0.2952334171350362,0.28920276305392395,0.2864142763228687,0.2872361116576143,0.2862000341188457,0.2763945590336058,0.27235012972580663,0.27630447107604306,0.2682191916820106,0.2682145577025214,0.2695280377887383,0.26443143946327474,0.2715177169197666,0.27336049888367003,0.2756631859274381,0.2784492301766418,0.283596506114298,0.2860353810274604,0.2827171032113081,0.28530987412926107,0.2867521470573497,0.2846213045367572,0.28199025258003,0.2797848185913604,0.2857751139337913,0.27999757342494996,0.2769262602655618,0.2759764369052682,0.2744201851557568,0.2763850720113332,0.2829296209753537,0.2829544494720275,0.2822756273659311,0.27820165062396696,0.2754226722583584,0.2739624806290401,0.2788657491830067,0.27739456419505376,0.27862249968453495,0.2742879463542895,0.28208080859594753,0.28324217077645325,0.27865172032724,0.27356478337892165],\"yaxis\":\"y\",\"type\":\"scatter\"},{\"hovertemplate\":\"ID=litecoin<br>Date=%{x|%B %d, %Y}<br>value=%{y}<extra></extra>\",\"legendgroup\":\"litecoin\",\"line\":{\"color\":\"#FFA15A\",\"dash\":\"solid\"},\"marker\":{\"symbol\":\"circle\"},\"mode\":\"lines\",\"name\":\"litecoin\",\"orientation\":\"v\",\"showlegend\":true,\"x\":[\"2022-01-01T00:00:00\",\"2022-01-02T00:00:00\",\"2022-01-03T00:00:00\",\"2022-01-04T00:00:00\",\"2022-01-05T00:00:00\",\"2022-01-06T00:00:00\",\"2022-01-07T00:00:00\",\"2022-01-08T00:00:00\",\"2022-01-09T00:00:00\",\"2022-01-10T00:00:00\",\"2022-01-11T00:00:00\",\"2022-01-12T00:00:00\",\"2022-01-13T00:00:00\",\"2022-01-14T00:00:00\",\"2022-01-15T00:00:00\",\"2022-01-16T00:00:00\",\"2022-01-17T00:00:00\",\"2022-01-18T00:00:00\",\"2022-01-19T00:00:00\",\"2022-01-20T00:00:00\",\"2022-01-21T00:00:00\",\"2022-01-22T00:00:00\",\"2022-01-23T00:00:00\",\"2022-01-24T00:00:00\",\"2022-01-25T00:00:00\",\"2022-01-26T00:00:00\",\"2022-01-27T00:00:00\",\"2022-01-28T00:00:00\",\"2022-01-29T00:00:00\",\"2022-01-30T00:00:00\",\"2022-01-31T00:00:00\",\"2022-02-01T00:00:00\",\"2022-02-02T00:00:00\",\"2022-02-03T00:00:00\",\"2022-02-04T00:00:00\",\"2022-02-05T00:00:00\",\"2022-02-06T00:00:00\",\"2022-02-07T00:00:00\",\"2022-02-08T00:00:00\",\"2022-02-09T00:00:00\",\"2022-02-10T00:00:00\",\"2022-02-11T00:00:00\",\"2022-02-12T00:00:00\",\"2022-02-13T00:00:00\",\"2022-02-14T00:00:00\",\"2022-02-15T00:00:00\",\"2022-02-16T00:00:00\",\"2022-02-17T00:00:00\",\"2022-02-18T00:00:00\",\"2022-02-19T00:00:00\",\"2022-02-20T00:00:00\",\"2022-02-21T00:00:00\",\"2022-02-22T00:00:00\",\"2022-02-23T00:00:00\",\"2022-02-24T00:00:00\",\"2022-02-25T00:00:00\",\"2022-02-26T00:00:00\",\"2022-02-27T00:00:00\",\"2022-02-28T00:00:00\",\"2022-03-01T00:00:00\"],\"xaxis\":\"x\",\"y\":[0.006959059639315114,0.006961201206267065,0.0069934068800105165,0.006992106660754527,0.006947315291779847,0.00681701377040364,0.006972820224968624,0.007035367335586702,0.006995230998653195,0.007029147227564469,0.006860176183923136,0.006889935789163624,0.007167070275981579,0.0071524892968769065,0.007470832444246046,0.007599002736602697,0.007508792005940847,0.007948294435483385,0.007465139818323827,0.007358712133789771,0.007261460593891598,0.007194081643931722,0.007165510556458276,0.007092124387157739,0.007019486111662031,0.006875362284982285,0.006809736970715449,0.006828674566599318,0.006795863927074993,0.0067881258001337,0.006698571568526408,0.006614109361103349,0.006823760534974252,0.006712330865154155,0.006826853152099282,0.006721668751858322,0.006752606753779747,0.0069040756397918575,0.007151931194608025,0.006982798706845749,0.0072310060282835655,0.007165590163878523,0.006954013656249317,0.007005130402689015,0.006984987579803898,0.006838254072397627,0.006828814607935615,0.006727959757323774,0.006619927056151392,0.00667852791533917,0.0067157331024380856,0.006716525390775063,0.006541436396155906,0.006560464016995325,0.00661761765953404,0.006398146595899735,0.006455875268780035,0.006414386200777592,0.006364172297480218,0.006192584317033971],\"yaxis\":\"y\",\"type\":\"scatter\"},{\"hovertemplate\":\"ID=ripple<br>Date=%{x|%B %d, %Y}<br>value=%{y}<extra></extra>\",\"legendgroup\":\"ripple\",\"line\":{\"color\":\"#19d3f3\",\"dash\":\"solid\"},\"marker\":{\"symbol\":\"circle\"},\"mode\":\"lines\",\"name\":\"ripple\",\"orientation\":\"v\",\"showlegend\":true,\"x\":[\"2022-01-01T00:00:00\",\"2022-01-02T00:00:00\",\"2022-01-03T00:00:00\",\"2022-01-04T00:00:00\",\"2022-01-05T00:00:00\",\"2022-01-06T00:00:00\",\"2022-01-07T00:00:00\",\"2022-01-08T00:00:00\",\"2022-01-09T00:00:00\",\"2022-01-10T00:00:00\",\"2022-01-11T00:00:00\",\"2022-01-12T00:00:00\",\"2022-01-13T00:00:00\",\"2022-01-14T00:00:00\",\"2022-01-15T00:00:00\",\"2022-01-16T00:00:00\",\"2022-01-17T00:00:00\",\"2022-01-18T00:00:00\",\"2022-01-19T00:00:00\",\"2022-01-20T00:00:00\",\"2022-01-21T00:00:00\",\"2022-01-22T00:00:00\",\"2022-01-23T00:00:00\",\"2022-01-24T00:00:00\",\"2022-01-25T00:00:00\",\"2022-01-26T00:00:00\",\"2022-01-27T00:00:00\",\"2022-01-28T00:00:00\",\"2022-01-29T00:00:00\",\"2022-01-30T00:00:00\",\"2022-01-31T00:00:00\",\"2022-02-01T00:00:00\",\"2022-02-02T00:00:00\",\"2022-02-03T00:00:00\",\"2022-02-04T00:00:00\",\"2022-02-05T00:00:00\",\"2022-02-06T00:00:00\",\"2022-02-07T00:00:00\",\"2022-02-08T00:00:00\",\"2022-02-09T00:00:00\",\"2022-02-10T00:00:00\",\"2022-02-11T00:00:00\",\"2022-02-12T00:00:00\",\"2022-02-13T00:00:00\",\"2022-02-14T00:00:00\",\"2022-02-15T00:00:00\",\"2022-02-16T00:00:00\",\"2022-02-17T00:00:00\",\"2022-02-18T00:00:00\",\"2022-02-19T00:00:00\",\"2022-02-20T00:00:00\",\"2022-02-21T00:00:00\",\"2022-02-22T00:00:00\",\"2022-02-23T00:00:00\",\"2022-02-24T00:00:00\",\"2022-02-25T00:00:00\",\"2022-02-26T00:00:00\",\"2022-02-27T00:00:00\",\"2022-02-28T00:00:00\",\"2022-03-01T00:00:00\"],\"xaxis\":\"x\",\"y\":[0.02705503266063768,0.026886744125644166,0.027200056815166847,0.026904488379269866,0.026691643455374225,0.026698936307014025,0.027431721456029904,0.028104418649018092,0.027699506677751222,0.027750372287332317,0.027485270260363594,0.027747840228882232,0.027797958115411647,0.0276951938927976,0.02743547009879291,0.027601035403358513,0.02740542938827021,0.027505828801365585,0.02722936028212399,0.02735554924170984,0.027410921818343818,0.027514297817564086,0.027128262076471506,0.02743210041461129,0.027000679013427068,0.027050118589244245,0.027162025193470142,0.026761401680670968,0.026132185005207895,0.02596015010615568,0.02552303460099233,0.02568744729837215,0.025542314862858635,0.025609510374070596,0.025966284766963506,0.02503688110401039,0.025491343300802598,0.02551292586111822,0.029601211435758595,0.031513870254272824,0.031133730623236537,0.030463856522347666,0.028807875126739293,0.031066943920423543,0.030845167445563395,0.030243529724915858,0.03026071451160208,0.030236494185017483,0.030221033015233163,0.031463665301501485,0.03293709101605187,0.032454494527929645,0.03067588288037439,0.030458877362306912,0.030193455554508798,0.029454031420532024,0.03126732898613458,0.030604260269732123,0.03063349373991023,0.029390234943870663],\"yaxis\":\"y\",\"type\":\"scatter\"},{\"hovertemplate\":\"ID=solana<br>Date=%{x|%B %d, %Y}<br>value=%{y}<extra></extra>\",\"legendgroup\":\"solana\",\"line\":{\"color\":\"#FF6692\",\"dash\":\"solid\"},\"marker\":{\"symbol\":\"circle\"},\"mode\":\"lines\",\"name\":\"solana\",\"orientation\":\"v\",\"showlegend\":true,\"x\":[\"2022-01-01T00:00:00\",\"2022-01-02T00:00:00\",\"2022-01-03T00:00:00\",\"2022-01-04T00:00:00\",\"2022-01-05T00:00:00\",\"2022-01-06T00:00:00\",\"2022-01-07T00:00:00\",\"2022-01-08T00:00:00\",\"2022-01-09T00:00:00\",\"2022-01-10T00:00:00\",\"2022-01-11T00:00:00\",\"2022-01-12T00:00:00\",\"2022-01-13T00:00:00\",\"2022-01-14T00:00:00\",\"2022-01-15T00:00:00\",\"2022-01-16T00:00:00\",\"2022-01-17T00:00:00\",\"2022-01-18T00:00:00\",\"2022-01-19T00:00:00\",\"2022-01-20T00:00:00\",\"2022-01-21T00:00:00\",\"2022-01-22T00:00:00\",\"2022-01-23T00:00:00\",\"2022-01-24T00:00:00\",\"2022-01-25T00:00:00\",\"2022-01-26T00:00:00\",\"2022-01-27T00:00:00\",\"2022-01-28T00:00:00\",\"2022-01-29T00:00:00\",\"2022-01-30T00:00:00\",\"2022-01-31T00:00:00\",\"2022-02-01T00:00:00\",\"2022-02-02T00:00:00\",\"2022-02-03T00:00:00\",\"2022-02-04T00:00:00\",\"2022-02-05T00:00:00\",\"2022-02-06T00:00:00\",\"2022-02-07T00:00:00\",\"2022-02-08T00:00:00\",\"2022-02-09T00:00:00\",\"2022-02-10T00:00:00\",\"2022-02-11T00:00:00\",\"2022-02-12T00:00:00\",\"2022-02-13T00:00:00\",\"2022-02-14T00:00:00\",\"2022-02-15T00:00:00\",\"2022-02-16T00:00:00\",\"2022-02-17T00:00:00\",\"2022-02-18T00:00:00\",\"2022-02-19T00:00:00\",\"2022-02-20T00:00:00\",\"2022-02-21T00:00:00\",\"2022-02-22T00:00:00\",\"2022-02-23T00:00:00\",\"2022-02-24T00:00:00\",\"2022-02-25T00:00:00\",\"2022-02-26T00:00:00\",\"2022-02-27T00:00:00\",\"2022-02-28T00:00:00\",\"2022-03-01T00:00:00\"],\"xaxis\":\"x\",\"y\":[0.03621859083089511,0.036614789004054446,0.03628834825640231,0.035870313569823294,0.035437261321208884,0.03475411221313774,0.03439954960760384,0.032875727884862656,0.034625734049814026,0.03390191577035534,0.03299226417900665,0.03307605030172567,0.034629577183242034,0.03462001101589471,0.03409544093496891,0.034345240773653134,0.03426450372116118,0.03321158505773657,0.03378227441680727,0.03314781476010079,0.03232638271647992,0.03161044569809448,0.028170940724239087,0.028569278991737477,0.02655346515960297,0.02747401153002744,0.02665334518655669,0.025888804240588523,0.025685276321917208,0.02663978636845574,0.026033590100654203,0.027253210006573266,0.029532103987726217,0.028466191400507622,0.028345615656392712,0.02826712407292351,0.028617319905877785,0.028397928896763357,0.027951771072688016,0.02702174414855767,0.02677865458943524,0.02571125801053405,0.02419971277425048,0.024100143286322023,0.023585016354667986,0.024215127483686476,0.024884648111440477,0.024609124778353187,0.024461001271007,0.024012522086991138,0.024318268565561334,0.025448077042168657,0.024134074740867036,0.024277590351934976,0.024453268245268327,0.02509041696128029,0.02529739445506642,0.024495199818238552,0.02423630482357,0.02495863060658566],\"yaxis\":\"y\",\"type\":\"scatter\"}],                        {\"template\":{\"data\":{\"histogram2dcontour\":[{\"type\":\"histogram2dcontour\",\"colorbar\":{\"outlinewidth\":0,\"ticks\":\"\"},\"colorscale\":[[0.0,\"#0d0887\"],[0.1111111111111111,\"#46039f\"],[0.2222222222222222,\"#7201a8\"],[0.3333333333333333,\"#9c179e\"],[0.4444444444444444,\"#bd3786\"],[0.5555555555555556,\"#d8576b\"],[0.6666666666666666,\"#ed7953\"],[0.7777777777777778,\"#fb9f3a\"],[0.8888888888888888,\"#fdca26\"],[1.0,\"#f0f921\"]]}],\"choropleth\":[{\"type\":\"choropleth\",\"colorbar\":{\"outlinewidth\":0,\"ticks\":\"\"}}],\"histogram2d\":[{\"type\":\"histogram2d\",\"colorbar\":{\"outlinewidth\":0,\"ticks\":\"\"},\"colorscale\":[[0.0,\"#0d0887\"],[0.1111111111111111,\"#46039f\"],[0.2222222222222222,\"#7201a8\"],[0.3333333333333333,\"#9c179e\"],[0.4444444444444444,\"#bd3786\"],[0.5555555555555556,\"#d8576b\"],[0.6666666666666666,\"#ed7953\"],[0.7777777777777778,\"#fb9f3a\"],[0.8888888888888888,\"#fdca26\"],[1.0,\"#f0f921\"]]}],\"heatmap\":[{\"type\":\"heatmap\",\"colorbar\":{\"outlinewidth\":0,\"ticks\":\"\"},\"colorscale\":[[0.0,\"#0d0887\"],[0.1111111111111111,\"#46039f\"],[0.2222222222222222,\"#7201a8\"],[0.3333333333333333,\"#9c179e\"],[0.4444444444444444,\"#bd3786\"],[0.5555555555555556,\"#d8576b\"],[0.6666666666666666,\"#ed7953\"],[0.7777777777777778,\"#fb9f3a\"],[0.8888888888888888,\"#fdca26\"],[1.0,\"#f0f921\"]]}],\"heatmapgl\":[{\"type\":\"heatmapgl\",\"colorbar\":{\"outlinewidth\":0,\"ticks\":\"\"},\"colorscale\":[[0.0,\"#0d0887\"],[0.1111111111111111,\"#46039f\"],[0.2222222222222222,\"#7201a8\"],[0.3333333333333333,\"#9c179e\"],[0.4444444444444444,\"#bd3786\"],[0.5555555555555556,\"#d8576b\"],[0.6666666666666666,\"#ed7953\"],[0.7777777777777778,\"#fb9f3a\"],[0.8888888888888888,\"#fdca26\"],[1.0,\"#f0f921\"]]}],\"contourcarpet\":[{\"type\":\"contourcarpet\",\"colorbar\":{\"outlinewidth\":0,\"ticks\":\"\"}}],\"contour\":[{\"type\":\"contour\",\"colorbar\":{\"outlinewidth\":0,\"ticks\":\"\"},\"colorscale\":[[0.0,\"#0d0887\"],[0.1111111111111111,\"#46039f\"],[0.2222222222222222,\"#7201a8\"],[0.3333333333333333,\"#9c179e\"],[0.4444444444444444,\"#bd3786\"],[0.5555555555555556,\"#d8576b\"],[0.6666666666666666,\"#ed7953\"],[0.7777777777777778,\"#fb9f3a\"],[0.8888888888888888,\"#fdca26\"],[1.0,\"#f0f921\"]]}],\"surface\":[{\"type\":\"surface\",\"colorbar\":{\"outlinewidth\":0,\"ticks\":\"\"},\"colorscale\":[[0.0,\"#0d0887\"],[0.1111111111111111,\"#46039f\"],[0.2222222222222222,\"#7201a8\"],[0.3333333333333333,\"#9c179e\"],[0.4444444444444444,\"#bd3786\"],[0.5555555555555556,\"#d8576b\"],[0.6666666666666666,\"#ed7953\"],[0.7777777777777778,\"#fb9f3a\"],[0.8888888888888888,\"#fdca26\"],[1.0,\"#f0f921\"]]}],\"mesh3d\":[{\"type\":\"mesh3d\",\"colorbar\":{\"outlinewidth\":0,\"ticks\":\"\"}}],\"scatter\":[{\"fillpattern\":{\"fillmode\":\"overlay\",\"size\":10,\"solidity\":0.2},\"type\":\"scatter\"}],\"parcoords\":[{\"type\":\"parcoords\",\"line\":{\"colorbar\":{\"outlinewidth\":0,\"ticks\":\"\"}}}],\"scatterpolargl\":[{\"type\":\"scatterpolargl\",\"marker\":{\"colorbar\":{\"outlinewidth\":0,\"ticks\":\"\"}}}],\"bar\":[{\"error_x\":{\"color\":\"#2a3f5f\"},\"error_y\":{\"color\":\"#2a3f5f\"},\"marker\":{\"line\":{\"color\":\"#E5ECF6\",\"width\":0.5},\"pattern\":{\"fillmode\":\"overlay\",\"size\":10,\"solidity\":0.2}},\"type\":\"bar\"}],\"scattergeo\":[{\"type\":\"scattergeo\",\"marker\":{\"colorbar\":{\"outlinewidth\":0,\"ticks\":\"\"}}}],\"scatterpolar\":[{\"type\":\"scatterpolar\",\"marker\":{\"colorbar\":{\"outlinewidth\":0,\"ticks\":\"\"}}}],\"histogram\":[{\"marker\":{\"pattern\":{\"fillmode\":\"overlay\",\"size\":10,\"solidity\":0.2}},\"type\":\"histogram\"}],\"scattergl\":[{\"type\":\"scattergl\",\"marker\":{\"colorbar\":{\"outlinewidth\":0,\"ticks\":\"\"}}}],\"scatter3d\":[{\"type\":\"scatter3d\",\"line\":{\"colorbar\":{\"outlinewidth\":0,\"ticks\":\"\"}},\"marker\":{\"colorbar\":{\"outlinewidth\":0,\"ticks\":\"\"}}}],\"scattermapbox\":[{\"type\":\"scattermapbox\",\"marker\":{\"colorbar\":{\"outlinewidth\":0,\"ticks\":\"\"}}}],\"scatterternary\":[{\"type\":\"scatterternary\",\"marker\":{\"colorbar\":{\"outlinewidth\":0,\"ticks\":\"\"}}}],\"scattercarpet\":[{\"type\":\"scattercarpet\",\"marker\":{\"colorbar\":{\"outlinewidth\":0,\"ticks\":\"\"}}}],\"carpet\":[{\"aaxis\":{\"endlinecolor\":\"#2a3f5f\",\"gridcolor\":\"white\",\"linecolor\":\"white\",\"minorgridcolor\":\"white\",\"startlinecolor\":\"#2a3f5f\"},\"baxis\":{\"endlinecolor\":\"#2a3f5f\",\"gridcolor\":\"white\",\"linecolor\":\"white\",\"minorgridcolor\":\"white\",\"startlinecolor\":\"#2a3f5f\"},\"type\":\"carpet\"}],\"table\":[{\"cells\":{\"fill\":{\"color\":\"#EBF0F8\"},\"line\":{\"color\":\"white\"}},\"header\":{\"fill\":{\"color\":\"#C8D4E3\"},\"line\":{\"color\":\"white\"}},\"type\":\"table\"}],\"barpolar\":[{\"marker\":{\"line\":{\"color\":\"#E5ECF6\",\"width\":0.5},\"pattern\":{\"fillmode\":\"overlay\",\"size\":10,\"solidity\":0.2}},\"type\":\"barpolar\"}],\"pie\":[{\"automargin\":true,\"type\":\"pie\"}]},\"layout\":{\"autotypenumbers\":\"strict\",\"colorway\":[\"#636efa\",\"#EF553B\",\"#00cc96\",\"#ab63fa\",\"#FFA15A\",\"#19d3f3\",\"#FF6692\",\"#B6E880\",\"#FF97FF\",\"#FECB52\"],\"font\":{\"color\":\"#2a3f5f\"},\"hovermode\":\"closest\",\"hoverlabel\":{\"align\":\"left\"},\"paper_bgcolor\":\"white\",\"plot_bgcolor\":\"#E5ECF6\",\"polar\":{\"bgcolor\":\"#E5ECF6\",\"angularaxis\":{\"gridcolor\":\"white\",\"linecolor\":\"white\",\"ticks\":\"\"},\"radialaxis\":{\"gridcolor\":\"white\",\"linecolor\":\"white\",\"ticks\":\"\"}},\"ternary\":{\"bgcolor\":\"#E5ECF6\",\"aaxis\":{\"gridcolor\":\"white\",\"linecolor\":\"white\",\"ticks\":\"\"},\"baxis\":{\"gridcolor\":\"white\",\"linecolor\":\"white\",\"ticks\":\"\"},\"caxis\":{\"gridcolor\":\"white\",\"linecolor\":\"white\",\"ticks\":\"\"}},\"coloraxis\":{\"colorbar\":{\"outlinewidth\":0,\"ticks\":\"\"}},\"colorscale\":{\"sequential\":[[0.0,\"#0d0887\"],[0.1111111111111111,\"#46039f\"],[0.2222222222222222,\"#7201a8\"],[0.3333333333333333,\"#9c179e\"],[0.4444444444444444,\"#bd3786\"],[0.5555555555555556,\"#d8576b\"],[0.6666666666666666,\"#ed7953\"],[0.7777777777777778,\"#fb9f3a\"],[0.8888888888888888,\"#fdca26\"],[1.0,\"#f0f921\"]],\"sequentialminus\":[[0.0,\"#0d0887\"],[0.1111111111111111,\"#46039f\"],[0.2222222222222222,\"#7201a8\"],[0.3333333333333333,\"#9c179e\"],[0.4444444444444444,\"#bd3786\"],[0.5555555555555556,\"#d8576b\"],[0.6666666666666666,\"#ed7953\"],[0.7777777777777778,\"#fb9f3a\"],[0.8888888888888888,\"#fdca26\"],[1.0,\"#f0f921\"]],\"diverging\":[[0,\"#8e0152\"],[0.1,\"#c51b7d\"],[0.2,\"#de77ae\"],[0.3,\"#f1b6da\"],[0.4,\"#fde0ef\"],[0.5,\"#f7f7f7\"],[0.6,\"#e6f5d0\"],[0.7,\"#b8e186\"],[0.8,\"#7fbc41\"],[0.9,\"#4d9221\"],[1,\"#276419\"]]},\"xaxis\":{\"gridcolor\":\"white\",\"linecolor\":\"white\",\"ticks\":\"\",\"title\":{\"standoff\":15},\"zerolinecolor\":\"white\",\"automargin\":true,\"zerolinewidth\":2},\"yaxis\":{\"gridcolor\":\"white\",\"linecolor\":\"white\",\"ticks\":\"\",\"title\":{\"standoff\":15},\"zerolinecolor\":\"white\",\"automargin\":true,\"zerolinewidth\":2},\"scene\":{\"xaxis\":{\"backgroundcolor\":\"#E5ECF6\",\"gridcolor\":\"white\",\"linecolor\":\"white\",\"showbackground\":true,\"ticks\":\"\",\"zerolinecolor\":\"white\",\"gridwidth\":2},\"yaxis\":{\"backgroundcolor\":\"#E5ECF6\",\"gridcolor\":\"white\",\"linecolor\":\"white\",\"showbackground\":true,\"ticks\":\"\",\"zerolinecolor\":\"white\",\"gridwidth\":2},\"zaxis\":{\"backgroundcolor\":\"#E5ECF6\",\"gridcolor\":\"white\",\"linecolor\":\"white\",\"showbackground\":true,\"ticks\":\"\",\"zerolinecolor\":\"white\",\"gridwidth\":2}},\"shapedefaults\":{\"line\":{\"color\":\"#2a3f5f\"}},\"annotationdefaults\":{\"arrowcolor\":\"#2a3f5f\",\"arrowhead\":0,\"arrowwidth\":1},\"geo\":{\"bgcolor\":\"white\",\"landcolor\":\"#E5ECF6\",\"subunitcolor\":\"white\",\"showland\":true,\"showlakes\":true,\"lakecolor\":\"white\"},\"title\":{\"x\":0.05},\"mapbox\":{\"style\":\"light\"}}},\"xaxis\":{\"anchor\":\"y\",\"domain\":[0.0,1.0],\"title\":{\"text\":\"Date\"},\"dtick\":\"M1\",\"tickformat\":\"%b\\n%Y\"},\"yaxis\":{\"anchor\":\"x\",\"domain\":[0.0,1.0],\"title\":{\"text\":\"value\"}},\"legend\":{\"title\":{\"text\":\"ID\"},\"tracegroupgap\":0},\"title\":{\"text\":\"Asset class value index 2022-01-01 to 2022-03-01\"}},                        {\"responsive\": true}                    ).then(function(){\n",
       "                            \n",
       "var gd = document.getElementById('60442cb5-f07f-473b-a29c-dfc2fdf36d84');\n",
       "var x = new MutationObserver(function (mutations, observer) {{\n",
       "        var display = window.getComputedStyle(gd).display;\n",
       "        if (!display || display === 'none') {{\n",
       "            console.log([gd, 'removed!']);\n",
       "            Plotly.purge(gd);\n",
       "            observer.disconnect();\n",
       "        }}\n",
       "}});\n",
       "\n",
       "// Listen for the removal of the full notebook cells\n",
       "var notebookContainer = gd.closest('#notebook-container');\n",
       "if (notebookContainer) {{\n",
       "    x.observe(notebookContainer, {childList: true});\n",
       "}}\n",
       "\n",
       "// Listen for the clearing of the current output cell\n",
       "var outputEl = gd.closest('.output');\n",
       "if (outputEl) {{\n",
       "    x.observe(outputEl, {childList: true});\n",
       "}}\n",
       "\n",
       "                        })                };                });            </script>        </div>"
      ]
     },
     "metadata": {},
     "output_type": "display_data"
    }
   ],
   "source": [
    "import plotly.express as px\n",
    "\n",
    "index_df = clsPerfIndex.get_value_index(piv_marketcap_df)\n",
    "\n",
    "_min_date = (index_df[\"Date\"].min()).date()\n",
    "_max_date = (index_df[\"Date\"].max()).date()\n",
    "_title = \"Asset class value index \"+str(_min_date)+\" to \"+str(_max_date)\n",
    "fig = px.line(index_df, x=\"Date\", y=index_df.columns,\n",
    "              hover_data={\"Date\": \"|%B %d, %Y\"},\n",
    "              title=_title)\n",
    "fig.update_xaxes(\n",
    "    dtick=\"M1\",\n",
    "    tickformat=\"%b\\n%Y\")\n",
    "fig.show()"
   ]
  },
  {
   "cell_type": "code",
   "execution_count": null,
   "id": "13883175",
   "metadata": {},
   "outputs": [],
   "source": []
  }
 ],
 "metadata": {
  "kernelspec": {
   "display_name": "Python 3 (ipykernel)",
   "language": "python",
   "name": "python3"
  },
  "language_info": {
   "codemirror_mode": {
    "name": "ipython",
    "version": 3
   },
   "file_extension": ".py",
   "mimetype": "text/x-python",
   "name": "python",
   "nbconvert_exporter": "python",
   "pygments_lexer": "ipython3",
   "version": "3.8.10"
  },
  "vscode": {
   "interpreter": {
    "hash": "e7370f93d1d0cde622a1f8e1c04877d8463912d04d973331ad4851f04de6915a"
   }
  }
 },
 "nbformat": 4,
 "nbformat_minor": 5
}
