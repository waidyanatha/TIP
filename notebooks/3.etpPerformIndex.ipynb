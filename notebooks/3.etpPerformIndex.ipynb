{
 "cells": [
  {
   "cell_type": "markdown",
   "id": "0094bf7c",
   "metadata": {},
   "source": [
    "# Index Performance Analysis\n",
    "\n",
    "Refer to the [Introduction](/home/gnewy/workspace/starxetp/notebooks/introduction.ipynb) on how to use the notebook.\n",
    "\n",
    "The intent of this notebook is to discuss the types of indeces and their potential to analyze an ETP's performance. Of particular interest are:\n",
    "1. Average Directional Index (ADX)\n",
    "1. Sharpe ratio\n",
    "1. Sortino ratio\n",
    "1. Calmar ratio\n",
    "1. Treynor ratio\n",
    "1. Jensen’s alpha\n",
    "1. Tracking error\n",
    "1. Information ratio\n",
    "\n",
    "\n",
    "The methodology and their relevance are discussed in the subsequent sections\n",
    "\n",
    "### ETP market quality\n",
    "* Exchange Traded Product (ETP) investors would look at [five key metrics](https://www.ishares.com/us/insights/etf-trends/etp-market-quality-metrics) when assessing market quality. _For our purpose of designing the ETP we are only interested in the first three_.\n",
    "   1. ___Usage___: liquidity of an ETP is a key component of market quality - ETP trading volumes are important because increased liquidity can create a network effect; i.e. the most heavily traded ETPs are typically the cheapest to trade, which spurs even more ___usage___.\n",
    "   1. ___Tracking___: difference and volatility reflect an ETP's ability to deliver returns that are consistent its benchmark, as well as closely replicate benchmark performance consistently over time. An index ETP with high market quality should deliver this consistency in all market conditions.\n",
    "   1. ___Trading costs___: When the cost of rebalancing an ETP higher than a tolerance band to that of the ETP’s underlying holdings, or exhibits less sensitivity to stressed market conditions, it is a potential signal of high market quality.\n",
    "   1. ___Premium/discounts behavior___: ETP premiums and discounts in illiquid or volatile markets can indicate an ETP is providing price discovery—both signals of market quality.\n",
    "   1. ___Primary market efficiency___ - A diverse set of authorized participants and a stable platform are crucial for insight into the ETP’s market qualityfor because the ETP’s primary market operations must be efficient.\n",
    "* Preperations for the [Backtesting](https://teddykoker.com/2019/05/momentum-strategy-from-stocks-on-the-move-in-python/)\n"
   ]
  },
  {
   "cell_type": "code",
   "execution_count": 1,
   "id": "fe6edec7",
   "metadata": {},
   "outputs": [],
   "source": [
    "'''\n",
    "    WARNING CONTROL to display or ignore all warnings\n",
    "'''\n",
    "import warnings; warnings.simplefilter('default')     #switch betweeb 'default' and 'ignore'\n",
    "\n",
    "''' Set debug flag to view extended error messages; else set it to False to turn off debugging mode '''\n",
    "debug = True"
   ]
  },
  {
   "cell_type": "markdown",
   "id": "22b11f8e",
   "metadata": {},
   "source": [
    "## Load data\n",
    "\n",
    "* The current test dataset is from ___2021-01-01___ to ___01-06-2022___. At this stage the full dataset from the past decade and beyond in unavailable but will be made available in the subsequence phase to support the backtesting. It requires writing a script that will systematically retrieve the data because coindesk, for example, only allows small payloads of data at a time.\n",
    "* To filter the data set for a shorter time span, change the year (YYYY), month (m), and day (d) of the parameters\n",
    "   * start_dt (\"start date\") and _end_date (\"end date\")\n",
    "   * Example change the year, month, and day as you desire: \n",
    "      * ```start_dt = datetime.date(2022,1,1)``` &nbsp; &nbsp; &nbsp; &nbsp;# implies 2022 January 01; (must be ${\\ge}$ 2021 January 01)\n",
    "      * ```end_dt = datetime.date(2022,3,1)``` &nbsp; &nbsp; &nbsp; &nbsp; &nbsp; # implies 2022 March 01; (must be ${\\le}$ 2022 June 01)"
   ]
  },
  {
   "cell_type": "code",
   "execution_count": 2,
   "id": "49f89ca6",
   "metadata": {},
   "outputs": [
    {
     "name": "stdout",
     "output_type": "stream",
     "text": [
      "All packages in ExtractLoadTransform loaded successfully!\n",
      "All packages in ExtractLoadTransform loaded successfully!\n",
      "Loading and filtering data ... this may take a while.\n",
      "Loaded 419 rows Index(['Date', 'ID', 'Symbol', 'market_cap'], dtype='object')\n",
      "Data from 2022-01-01 to 2022-03-01 loaded and transformed into a pivot table with 60 rows complete!\n"
     ]
    }
   ],
   "source": [
    "import sys\n",
    "sys.path.insert(1, '../lib')\n",
    "import clsDataETL as etl\n",
    "import datetime\n",
    "\n",
    "'''\n",
    "    To filter data by a date range change the two date parameters below\n",
    "'''\n",
    "start_dt = datetime.date(2022,1,1)\n",
    "end_dt = datetime.date(2022,3,1)\n",
    "\n",
    "if debug:\n",
    "    import importlib\n",
    "    etl = importlib.reload(etl)\n",
    "\n",
    "''' Set the data source and temporal range '''\n",
    "_path = \"../data/market_cap_2021-01-01_2022-06-01/\"\n",
    "# start_dt = datetime.date(2022,1,1)\n",
    "# end_dt = datetime.date(2022,3,1)\n",
    "''' Initialize the dataETL class '''\n",
    "print(\"Loading and filtering data ... this may take a while.\")\n",
    "# clsETL = etl.ExtractLoadTransform(dataPath=_path, start_date=_start_dt, end_date=_end_dt)\n",
    "clsETL = etl.ExtractLoadTransform()\n",
    "''' Load data into dataframe '''\n",
    "rec_marketcap_df=clsETL.load_data(dataPath=_path, start_date=start_dt, end_date=end_dt)\n",
    "rec_marketcap_df.dropna(axis=0,how='any',subset=['market_cap'],inplace=True)\n",
    "print(\"Loaded %d rows %s\" % (rec_marketcap_df.shape[0],str(rec_marketcap_df.columns)))\n",
    "''' Transform data with coin ids in columns '''\n",
    "piv_marketcap_df = rec_marketcap_df.pivot_table(values=['market_cap'], index=rec_marketcap_df.Date, columns='ID', aggfunc='first')\n",
    "piv_marketcap_df.columns = piv_marketcap_df.columns.droplevel(0)\n",
    "piv_marketcap_df.dropna(axis=1,how='all', inplace=True)\n",
    "piv_marketcap_df.reset_index(inplace=True)\n",
    "# print(piv_marketcap_df.info())\n",
    "print(\"Data from %s to %s loaded and transformed into a pivot table with %d rows complete!\" % (str(rec_marketcap_df.Date.min()),\n",
    "                                                                    str(rec_marketcap_df.Date.max()),\n",
    "                                                                    piv_marketcap_df.shape[0]))"
   ]
  },
  {
   "cell_type": "markdown",
   "id": "40ce1e5d",
   "metadata": {},
   "source": [
    "## Compute and Augment the Dataset\n",
    "\n",
    "The Simple Moving Average (SMAvg), Simple Moving Standard Deviation (SMStd), Simple Moving Sum (SMSum), and Momentum are essential for computing the indeces across the entire time series of ticker-wise market caps.\n",
    "\n",
    "Run this cell to augement the dataset with desired new values."
   ]
  },
  {
   "cell_type": "code",
   "execution_count": 3,
   "id": "522ebd38",
   "metadata": {},
   "outputs": [
    {
     "name": "stdout",
     "output_type": "stream",
     "text": [
      "simp_move_avg_market_cap has 419 non-empty rows\n",
      "simp_move_std_market_cap has 412 non-empty rows\n",
      "simp_move_sum_market_cap has 419 non-empty rows\n",
      "momentum_market_cap has 412 non-empty rows\n",
      "rolling value computations complete!\n"
     ]
    }
   ],
   "source": [
    "from datetime import date\n",
    "\n",
    "start_dt = date(2022,1,1)\n",
    "end_dt = date(2022,3,1)\n",
    "\n",
    "_cal_ops_dict = {\n",
    "    \"simp_move_avg\" : \"market_cap\",\n",
    "    \"simp_move_std\" : \"market_cap\",\n",
    "    \"simp_move_sum\" : \"market_cap\",\n",
    "    \"momentum\" : \"market_cap\",\n",
    "}\n",
    "_results_df = clsETL.get_rolling_measures(ticker_data=rec_marketcap_df,\n",
    "                                                rolling_window_length=7,\n",
    "                                                window_start_date = start_dt,\n",
    "                                                window_end_date = end_dt,\n",
    "                                                rolling_measure_dict = _cal_ops_dict,)\n",
    "_results_df.reset_index(inplace=True)\n",
    "''' Print the outputs '''\n",
    "for op_key in _cal_ops_dict.keys():\n",
    "    col_name = op_key+'_'+_cal_ops_dict[op_key]\n",
    "    col_count = _results_df.filter([col_name]).count(axis=0, numeric_only=True)\n",
    "    if _results_df[col_name].shape[0]>0:\n",
    "        print(\"%s has %d non-empty rows\"\n",
    "              % (col_name,col_count))\n",
    "# _results_df.to_csv('../data/rolling_values.csv')\n",
    "print(\"rolling value computations complete!\")\n"
   ]
  },
  {
   "cell_type": "markdown",
   "id": "4d983893",
   "metadata": {},
   "source": [
    "# COMPUTE Log ROR\n",
    "\n",
    "Next we must compute the Log ROR for the assets.  \n",
    "\n",
    "## Instantiate ETPreturns class"
   ]
  },
  {
   "cell_type": "code",
   "execution_count": 4,
   "id": "ecb42fdb",
   "metadata": {},
   "outputs": [
    {
     "name": "stdout",
     "output_type": "stream",
     "text": [
      "All packages in clsETPReturns loaded successfully!\n",
      "All packages in clsETPReturns loaded successfully!\n",
      "['__class__', '__delattr__', '__dict__', '__dir__', '__doc__', '__eq__', '__format__', '__ge__', '__getattribute__', '__gt__', '__hash__', '__init__', '__init_subclass__', '__le__', '__lt__', '__module__', '__ne__', '__new__', '__reduce__', '__reduce_ex__', '__repr__', '__setattr__', '__sizeof__', '__str__', '__subclasshook__', '__weakref__', 'days_offset', 'get_coin_cov_cor_coef_matrix', 'get_holding_period_returns', 'get_logarithmic_returns', 'get_simple_returns', 'maximize_weights', 'name', 'p_val', 'sum_weighted_returns', 'window_length']\n"
     ]
    }
   ],
   "source": [
    "import sys\n",
    "sys.path.insert(1, '../lib')\n",
    "import clsETPreturns as returns\n",
    "\n",
    "if debug:\n",
    "    import importlib\n",
    "    returns = importlib.reload(returns)\n",
    "\n",
    "data_name = \"coindesk\"\n",
    "clsROR = returns.RateOfReturns(name=data_name)\n",
    "print(dir(clsROR))"
   ]
  },
  {
   "cell_type": "markdown",
   "id": "e1f82735",
   "metadata": {},
   "source": [
    "## Top-N Assets\n",
    "\n",
    "In this cell we demonstrate we get the top-N market cap assets based on their Log ROR. ${R(t,x_{i}) = log \\left({R(t,x_{i}) \\over R(t+1,x_{i})}\\right) \\le 0}$ implies that the ratio ${{R(t,x_{i}) \\over R(t+1,x_{i})} \\le 1.0}$. Thus there is an increase in the market cap value from ${t}$ to ${t+1}$. Therefore, the _top-N_ assets are the ones with the largest negative log ROR.  "
   ]
  },
  {
   "cell_type": "code",
   "execution_count": 5,
   "id": "04cca3ca",
   "metadata": {},
   "outputs": [
    {
     "name": "stdout",
     "output_type": "stream",
     "text": [
      "Completed getting 113 list with top assets\n"
     ]
    }
   ],
   "source": [
    "import numpy as np\n",
    "\n",
    "_kwargs = {'greater than': 0,\n",
    "            'max num coins': 5}\n",
    "#topN = 5\n",
    "''' get the log rate of returns '''\n",
    "actual_log_ror = clsROR.get_logarithmic_returns(_results_df, value_col_name='simp_move_avg_market_cap')\n",
    "\n",
    "_neg_log_df = actual_log_ror.copy()\n",
    "_neg_log_df.dropna(axis=0, how='any', inplace=True)\n",
    "_neg_log_df = _neg_log_df.sort_values(by=['Date','simp_move_avg_market_cap_ror'])\n",
    "_neg_log_df['market_cap_ror'] = _neg_log_df['simp_move_avg_market_cap_ror']*(-1)\n",
    "#_topNassets_df = clsETL.get_fixed_topN_assets(_neg_log_df, N=topN, val_col_name='ror')\n",
    "_topNassets_df = clsETL.get_significant_topN_assets(_neg_log_df,\n",
    "                                                    val_col_name='simp_move_avg_market_cap_ror',\n",
    "                                                    **_kwargs)\n",
    "_topNassets_df['simp_move_avg_market_cap_ror'] = _topNassets_df['simp_move_avg_market_cap_ror']*(-1)\n",
    "_topNassets_df=_topNassets_df.reindex()\n",
    "print(\"Completed getting %d list with top assets\" % (_topNassets_df.shape[0]))"
   ]
  },
  {
   "cell_type": "markdown",
   "id": "262731cc",
   "metadata": {},
   "source": [
    "## Risk measure\n",
    "* expected return on an investment is the expected value of the probability distribution of possible returns it can provide. The purpose of calculating the expected return on an investment is to provide an investor with an idea of probable profit vs risk. This gives the investor a basis for comparison with the risk-free rate of return. The interest rate on 3-month U.S. Treasury bills is often used to represent the risk-free rate of return.\n",
    "* Risk of a single asset is the standard devsion ${\\sigma}$ for a given time. We calculated the T-day (e.g. 7-day) [moving standard deviation](https://www.danielstrading.com/education/technical-analysis-learning-center/moving-standard-deviation) ${\\sigma}^{(T)}$\n",
    "* MPT uses variance as its measure of risk"
   ]
  },
  {
   "cell_type": "markdown",
   "id": "2cb20ad9",
   "metadata": {},
   "source": [
    "## Actual weighted returns SUM\n",
    "Sum of the weighted actual portfolio allocation at time ${t}$: ${F_{t}({Y})}$  = $\\sum_{k_i = 1}^{N<n} {w(t,x_{k_{i}})} \\times {R(t,x_{k_i})}$"
   ]
  },
  {
   "cell_type": "code",
   "execution_count": 6,
   "id": "b41c841b",
   "metadata": {},
   "outputs": [
    {
     "name": "stdout",
     "output_type": "stream",
     "text": [
      "          Date        ID  simp_move_avg_market_cap_ror Symbol    market_cap\n",
      "4   2022-01-02   cardano                     -0.023471    ada  4.420048e+10\n",
      "3   2022-01-02    solana                     -0.020416    sol  5.508964e+10\n",
      "2   2022-01-02   bitcoin                     -0.016054    btc  9.045519e+11\n",
      "1   2022-01-02  litecoin                     -0.015037    ltc  1.047364e+10\n",
      "0   2022-01-02    ripple                     -0.011720    xrp  4.045308e+10\n",
      "8   2022-01-03  ethereum                     -0.008993    eth  4.568524e+11\n",
      "7   2022-01-03   cardano                     -0.008404    ada  4.429207e+10\n",
      "6   2022-01-03    ripple                     -0.007820    xrp  4.092894e+10\n",
      "5   2022-01-03  litecoin                     -0.006555    ltc  1.052324e+10\n",
      "11  2022-01-13   cardano                     -0.007073    ada  4.189147e+10\n"
     ]
    }
   ],
   "source": [
    "import pandas as pd\n",
    "\n",
    "_size=100\n",
    "_merged_actual_ror = pd.merge(_topNassets_df,\n",
    "                              rec_marketcap_df,how='outer',\n",
    "                              on=['Date','ID'])\n",
    "_merged_actual_ror.dropna(axis=0, how='any', inplace=True)\n",
    "_merged_actual_ror = _merged_actual_ror.sort_values(by=['Date','simp_move_avg_market_cap_ror'], ascending=True)\n",
    "print(_merged_actual_ror.head(10))"
   ]
  },
  {
   "cell_type": "markdown",
   "id": "7599de53",
   "metadata": {},
   "source": [
    "### get weighted sum of returns metrics"
   ]
  },
  {
   "cell_type": "code",
   "execution_count": 7,
   "id": "b41301a8",
   "metadata": {},
   "outputs": [
    {
     "name": "stdout",
     "output_type": "stream",
     "text": [
      "[{'date': datetime.date(2022, 1, 2), 'coins': ['cardano', 'solana', 'bitcoin', 'litecoin', 'ripple'], 'max_sum_row': 81, 'simp_move_avg_market_cap_ror': [-0.023471235513259824, -0.020415533963468006, -0.016053532056337375, -0.015036681033316648, -0.011719507927524641], 'best_weights': [0.0012610939040868024, 0.07894429639973974, 0.09142211359144256, 0.20818344466822644, 0.6201890514365044], 'weighted_simp_move_avg_market_cap_ror_sum': -0.013507635786363815, 'weighted_market_cap_returns': 20403029773912.555}, {'date': datetime.date(2022, 1, 3), 'coins': ['ethereum', 'cardano', 'ripple', 'litecoin'], 'max_sum_row': 76, 'simp_move_avg_market_cap_ror': [-0.008993225482661014, -0.008403980363550086, -0.007819769972839792, -0.006555341420207505], 'best_weights': [0.04286494218453921, 0.12740228188465474, 0.048595181530259955, 0.7811375944005461], 'weighted_simp_move_avg_market_cap_ror_sum': -0.006956807134407076, 'weighted_market_cap_returns': 13588119354936.562}, {'date': datetime.date(2022, 1, 13), 'coins': ['cardano', 'litecoin', 'ripple'], 'max_sum_row': 10, 'simp_move_avg_market_cap_ror': [-0.007073339408294542, -0.0060099451701260765, -0.004471301100932815], 'best_weights': [0.004120608967753078, 0.058057115733105305, 0.9378222752991415], 'weighted_simp_move_avg_market_cap_ror_sum': -0.004571352320113775, 'weighted_market_cap_returns': 3074651067845.331}, {'date': datetime.date(2022, 1, 15), 'coins': ['litecoin', 'solana', 'cardano', 'bitcoin', 'ethereum'], 'max_sum_row': 4, 'simp_move_avg_market_cap_ror': [-0.014281447975460135, -0.010368016286659303, -0.008119236593872288, -0.005045570064383688, -0.00499510505045974], 'best_weights': [0.0156840958979031, 0.01822307828010082, 0.0525620167065412, 0.35416892079761236, 0.5593618883178425], 'weighted_simp_move_avg_market_cap_ror_sum': -0.005420747719383322, 'weighted_market_cap_returns': 26758996238820.47}, {'date': datetime.date(2022, 1, 16), 'coins': ['litecoin', 'cardano', 'ethereum', 'ripple', 'solana', 'bitcoin'], 'max_sum_row': 8, 'simp_move_avg_market_cap_ror': [-0.018563433356900413, -0.012095030170489001, -0.01006428013982804, -0.0058361794713199305, -0.005262517391673593, -0.00422874814833464], 'best_weights': [0.01963186467613286, 0.020400920029800148, 0.1017050935515085, 0.20593941571633895, 0.05171603992557435, 0.6006066661006453], 'weighted_simp_move_avg_market_cap_ror_sum': -0.00564864338502973, 'weighted_market_cap_returns': 23524641778136.305}]\n"
     ]
    }
   ],
   "source": [
    "\n",
    "_l_actual_weighted_sum = clsROR.sum_weighted_returns(\n",
    "    _merged_actual_ror,\n",
    "    size=_size,\n",
    "    value_col_name='simp_move_avg_market_cap_ror'\n",
    ")\n",
    "print(_l_actual_weighted_sum[:5])"
   ]
  },
  {
   "cell_type": "markdown",
   "id": "b0ef3e81",
   "metadata": {},
   "source": [
    "## Plot Bitcoin and Weighted Sum market cap"
   ]
  },
  {
   "cell_type": "code",
   "execution_count": 18,
   "id": "93a70ce1",
   "metadata": {
    "scrolled": false
   },
   "outputs": [
    {
     "data": {
      "application/vnd.plotly.v1+json": {
       "config": {
        "plotlyServerURL": "https://plot.ly"
       },
       "data": [
        {
         "customdata": [
          [
           [
            "cardano",
            "solana",
            "bitcoin",
            "litecoin",
            "ripple"
           ],
           [
            0.0012610939040868024,
            0.07894429639973974,
            0.09142211359144256,
            0.20818344466822644,
            0.6201890514365044
           ]
          ],
          [
           [
            "ethereum",
            "cardano",
            "ripple",
            "litecoin"
           ],
           [
            0.04286494218453921,
            0.12740228188465474,
            0.048595181530259955,
            0.7811375944005461
           ]
          ],
          [
           [
            "cardano",
            "litecoin",
            "ripple"
           ],
           [
            0.004120608967753078,
            0.058057115733105305,
            0.9378222752991415
           ]
          ],
          [
           [
            "litecoin",
            "solana",
            "cardano",
            "bitcoin",
            "ethereum"
           ],
           [
            0.0156840958979031,
            0.01822307828010082,
            0.0525620167065412,
            0.35416892079761236,
            0.5593618883178425
           ]
          ],
          [
           [
            "litecoin",
            "cardano",
            "ethereum",
            "ripple",
            "solana",
            "bitcoin"
           ],
           [
            0.01963186467613286,
            0.020400920029800148,
            0.1017050935515085,
            0.20593941571633895,
            0.05171603992557435,
            0.6006066661006453
           ]
          ],
          [
           [
            "cardano",
            "litecoin",
            "ethereum",
            "solana",
            "ripple",
            "bitcoin"
           ],
           [
            0.008880156887557255,
            0.03666744155468676,
            0.04364295300919988,
            0.016951785902115088,
            0.3106755306334287,
            0.5831821320130123
           ]
          ],
          [
           [
            "cardano",
            "litecoin",
            "ethereum",
            "solana",
            "ripple",
            "bitcoin"
           ],
           [
            0.02493275820132921,
            0.04980341664018176,
            0.1231670515050784,
            0.09659976882617739,
            0.3790711350931015,
            0.3264258697341318
           ]
          ],
          [
           [
            "cardano",
            "litecoin",
            "solana"
           ],
           [
            0.00844039549414784,
            0.052624071483533964,
            0.9389355330223181
           ]
          ],
          [
           [
            "bitcoin",
            "ethereum",
            "ripple",
            "litecoin",
            "solana"
           ],
           [
            0.012245025430380948,
            0.03777474771380657,
            0.2286283669345915,
            0.13790923803305902,
            0.5834426218881621
           ]
          ],
          [
           [
            "bitcoin",
            "ethereum"
           ],
           [
            0.004534523680126394,
            0.9954654763198736
           ]
          ],
          [
           [
            "ethereum",
            "solana",
            "bitcoin"
           ],
           [
            0.002237022566317131,
            0.00022773389001027862,
            0.9975352435436725
           ]
          ],
          [
           [
            "solana",
            "ethereum",
            "litecoin",
            "bitcoin",
            "cardano"
           ],
           [
            0.002339102535806833,
            0.0060004565205525355,
            0.06798411920138521,
            0.5215817511914435,
            0.4020945705508119
           ]
          ],
          [
           [
            "solana",
            "ethereum",
            "litecoin",
            "bitcoin"
           ],
           [
            0.007746205524295591,
            0.019978226662155815,
            0.12492677538011196,
            0.8473487924334366
           ]
          ],
          [
           [
            "solana",
            "ethereum",
            "litecoin",
            "cardano",
            "ripple",
            "bitcoin"
           ],
           [
            0.0086930511550312,
            0.06750656954619302,
            0.18099653376173802,
            0.034190842218315115,
            0.40491956026785886,
            0.30369344305086377
           ]
          ],
          [
           [
            "solana",
            "ethereum",
            "litecoin",
            "bitcoin",
            "cardano",
            "ripple"
           ],
           [
            0.037963352610859216,
            0.056771567985267286,
            0.05739601063151077,
            0.06361583334785316,
            0.48532164438528197,
            0.2989315910392277
           ]
          ],
          [
           [
            "solana",
            "ethereum",
            "litecoin",
            "ripple",
            "bitcoin"
           ],
           [
            0.05096217065564844,
            0.03867584192918268,
            0.11406446035139568,
            0.4981048923599835,
            0.2981926347037896
           ]
          ],
          [
           [
            "solana",
            "litecoin",
            "ethereum",
            "ripple",
            "bitcoin"
           ],
           [
            0.0792016883599676,
            0.0032312466436323468,
            0.09864098595129014,
            0.10735315730911421,
            0.7115729217359955
           ]
          ],
          [
           [
            "ripple",
            "litecoin",
            "solana",
            "ethereum",
            "bitcoin",
            "cardano"
           ],
           [
            0.00019628498827764212,
            0.011203801073218621,
            0.010520236682031772,
            0.2288783005179106,
            0.45798983783947994,
            0.29121153889908136
           ]
          ],
          [
           [
            "ripple",
            "litecoin",
            "bitcoin",
            "ethereum",
            "cardano",
            "solana"
           ],
           [
            0.029853256193774012,
            0.09352059181412793,
            0.12459293660025483,
            0.0677221284796941,
            0.1740517330499493,
            0.5102593538621999
           ]
          ],
          [
           [
            "ripple",
            "litecoin",
            "ethereum",
            "bitcoin",
            "cardano",
            "solana"
           ],
           [
            0.03668123485866001,
            0.08447777025516322,
            0.20136373606371571,
            0.15092728634997798,
            0.09026963742869686,
            0.43628033504378627
           ]
          ],
          [
           [
            "ripple",
            "litecoin",
            "bitcoin",
            "ethereum",
            "cardano"
           ],
           [
            0.043909903208767115,
            0.017207831076429234,
            0.04707263645117313,
            0.08776742347003372,
            0.8040422057935969
           ]
          ],
          [
           [
            "ripple",
            "litecoin",
            "bitcoin"
           ],
           [
            0.008761042396385968,
            0.09198647191963004,
            0.8992524856839839
           ]
          ],
          [
           [
            "ripple",
            "litecoin",
            "bitcoin"
           ],
           [
            0.01894187452153461,
            0.3040785526252196,
            0.6769795728532457
           ]
          ],
          [
           [
            "ethereum",
            "bitcoin"
           ],
           [
            0.02135467196579521,
            0.9786453280342049
           ]
          ],
          [
           [
            "solana",
            "ethereum",
            "ripple"
           ],
           [
            0.003019755536365119,
            0.043181065674871184,
            0.9537991787887637
           ]
          ]
         ],
         "hovertemplate": "variable=weighted_market_cap_returns<br>date=%{x|%B %d, %Y}<br>value=%{y}<br>coins=%{customdata[0]}<br>best_weights=%{customdata[1]}<extra></extra>",
         "legendgroup": "weighted_market_cap_returns",
         "line": {
          "color": "#636efa",
          "dash": "solid"
         },
         "marker": {
          "symbol": "circle"
         },
         "mode": "lines",
         "name": "weighted_market_cap_returns",
         "orientation": "v",
         "showlegend": true,
         "type": "scatter",
         "x": [
          "2022-01-02",
          "2022-01-03",
          "2022-01-13",
          "2022-01-15",
          "2022-01-16",
          "2022-01-17",
          "2022-01-18",
          "2022-01-19",
          "2022-01-30",
          "2022-01-31",
          "2022-02-01",
          "2022-02-02",
          "2022-02-03",
          "2022-02-04",
          "2022-02-05",
          "2022-02-06",
          "2022-02-07",
          "2022-02-08",
          "2022-02-09",
          "2022-02-10",
          "2022-02-11",
          "2022-02-12",
          "2022-02-13",
          "2022-02-16",
          "2022-03-01"
         ],
         "xaxis": "x",
         "y": [
          20403029773912.555,
          13588119354936.562,
          3074651067845.331,
          26758996238820.47,
          23524641778136.305,
          20659497432406.1,
          21934971166204.44,
          3551423909460.572,
          20676054988680.285,
          52076964623854.45,
          37193162174902.4,
          23111237613574.516,
          27791905281401.195,
          18649623989344.984,
          22906532554245.656,
          23719033390032.035,
          25493905146373.664,
          22319325754682.57,
          21386524109196.27,
          23069898679066.695,
          25462432200016.383,
          27076468580696.15,
          28843046296380.08,
          60758217112229.75,
          14089141474768.375
         ],
         "yaxis": "y"
        }
       ],
       "layout": {
        "legend": {
         "title": {
          "text": "variable"
         },
         "tracegroupgap": 0
        },
        "template": {
         "data": {
          "bar": [
           {
            "error_x": {
             "color": "#2a3f5f"
            },
            "error_y": {
             "color": "#2a3f5f"
            },
            "marker": {
             "line": {
              "color": "#E5ECF6",
              "width": 0.5
             },
             "pattern": {
              "fillmode": "overlay",
              "size": 10,
              "solidity": 0.2
             }
            },
            "type": "bar"
           }
          ],
          "barpolar": [
           {
            "marker": {
             "line": {
              "color": "#E5ECF6",
              "width": 0.5
             },
             "pattern": {
              "fillmode": "overlay",
              "size": 10,
              "solidity": 0.2
             }
            },
            "type": "barpolar"
           }
          ],
          "carpet": [
           {
            "aaxis": {
             "endlinecolor": "#2a3f5f",
             "gridcolor": "white",
             "linecolor": "white",
             "minorgridcolor": "white",
             "startlinecolor": "#2a3f5f"
            },
            "baxis": {
             "endlinecolor": "#2a3f5f",
             "gridcolor": "white",
             "linecolor": "white",
             "minorgridcolor": "white",
             "startlinecolor": "#2a3f5f"
            },
            "type": "carpet"
           }
          ],
          "choropleth": [
           {
            "colorbar": {
             "outlinewidth": 0,
             "ticks": ""
            },
            "type": "choropleth"
           }
          ],
          "contour": [
           {
            "colorbar": {
             "outlinewidth": 0,
             "ticks": ""
            },
            "colorscale": [
             [
              0,
              "#0d0887"
             ],
             [
              0.1111111111111111,
              "#46039f"
             ],
             [
              0.2222222222222222,
              "#7201a8"
             ],
             [
              0.3333333333333333,
              "#9c179e"
             ],
             [
              0.4444444444444444,
              "#bd3786"
             ],
             [
              0.5555555555555556,
              "#d8576b"
             ],
             [
              0.6666666666666666,
              "#ed7953"
             ],
             [
              0.7777777777777778,
              "#fb9f3a"
             ],
             [
              0.8888888888888888,
              "#fdca26"
             ],
             [
              1,
              "#f0f921"
             ]
            ],
            "type": "contour"
           }
          ],
          "contourcarpet": [
           {
            "colorbar": {
             "outlinewidth": 0,
             "ticks": ""
            },
            "type": "contourcarpet"
           }
          ],
          "heatmap": [
           {
            "colorbar": {
             "outlinewidth": 0,
             "ticks": ""
            },
            "colorscale": [
             [
              0,
              "#0d0887"
             ],
             [
              0.1111111111111111,
              "#46039f"
             ],
             [
              0.2222222222222222,
              "#7201a8"
             ],
             [
              0.3333333333333333,
              "#9c179e"
             ],
             [
              0.4444444444444444,
              "#bd3786"
             ],
             [
              0.5555555555555556,
              "#d8576b"
             ],
             [
              0.6666666666666666,
              "#ed7953"
             ],
             [
              0.7777777777777778,
              "#fb9f3a"
             ],
             [
              0.8888888888888888,
              "#fdca26"
             ],
             [
              1,
              "#f0f921"
             ]
            ],
            "type": "heatmap"
           }
          ],
          "heatmapgl": [
           {
            "colorbar": {
             "outlinewidth": 0,
             "ticks": ""
            },
            "colorscale": [
             [
              0,
              "#0d0887"
             ],
             [
              0.1111111111111111,
              "#46039f"
             ],
             [
              0.2222222222222222,
              "#7201a8"
             ],
             [
              0.3333333333333333,
              "#9c179e"
             ],
             [
              0.4444444444444444,
              "#bd3786"
             ],
             [
              0.5555555555555556,
              "#d8576b"
             ],
             [
              0.6666666666666666,
              "#ed7953"
             ],
             [
              0.7777777777777778,
              "#fb9f3a"
             ],
             [
              0.8888888888888888,
              "#fdca26"
             ],
             [
              1,
              "#f0f921"
             ]
            ],
            "type": "heatmapgl"
           }
          ],
          "histogram": [
           {
            "marker": {
             "pattern": {
              "fillmode": "overlay",
              "size": 10,
              "solidity": 0.2
             }
            },
            "type": "histogram"
           }
          ],
          "histogram2d": [
           {
            "colorbar": {
             "outlinewidth": 0,
             "ticks": ""
            },
            "colorscale": [
             [
              0,
              "#0d0887"
             ],
             [
              0.1111111111111111,
              "#46039f"
             ],
             [
              0.2222222222222222,
              "#7201a8"
             ],
             [
              0.3333333333333333,
              "#9c179e"
             ],
             [
              0.4444444444444444,
              "#bd3786"
             ],
             [
              0.5555555555555556,
              "#d8576b"
             ],
             [
              0.6666666666666666,
              "#ed7953"
             ],
             [
              0.7777777777777778,
              "#fb9f3a"
             ],
             [
              0.8888888888888888,
              "#fdca26"
             ],
             [
              1,
              "#f0f921"
             ]
            ],
            "type": "histogram2d"
           }
          ],
          "histogram2dcontour": [
           {
            "colorbar": {
             "outlinewidth": 0,
             "ticks": ""
            },
            "colorscale": [
             [
              0,
              "#0d0887"
             ],
             [
              0.1111111111111111,
              "#46039f"
             ],
             [
              0.2222222222222222,
              "#7201a8"
             ],
             [
              0.3333333333333333,
              "#9c179e"
             ],
             [
              0.4444444444444444,
              "#bd3786"
             ],
             [
              0.5555555555555556,
              "#d8576b"
             ],
             [
              0.6666666666666666,
              "#ed7953"
             ],
             [
              0.7777777777777778,
              "#fb9f3a"
             ],
             [
              0.8888888888888888,
              "#fdca26"
             ],
             [
              1,
              "#f0f921"
             ]
            ],
            "type": "histogram2dcontour"
           }
          ],
          "mesh3d": [
           {
            "colorbar": {
             "outlinewidth": 0,
             "ticks": ""
            },
            "type": "mesh3d"
           }
          ],
          "parcoords": [
           {
            "line": {
             "colorbar": {
              "outlinewidth": 0,
              "ticks": ""
             }
            },
            "type": "parcoords"
           }
          ],
          "pie": [
           {
            "automargin": true,
            "type": "pie"
           }
          ],
          "scatter": [
           {
            "fillpattern": {
             "fillmode": "overlay",
             "size": 10,
             "solidity": 0.2
            },
            "type": "scatter"
           }
          ],
          "scatter3d": [
           {
            "line": {
             "colorbar": {
              "outlinewidth": 0,
              "ticks": ""
             }
            },
            "marker": {
             "colorbar": {
              "outlinewidth": 0,
              "ticks": ""
             }
            },
            "type": "scatter3d"
           }
          ],
          "scattercarpet": [
           {
            "marker": {
             "colorbar": {
              "outlinewidth": 0,
              "ticks": ""
             }
            },
            "type": "scattercarpet"
           }
          ],
          "scattergeo": [
           {
            "marker": {
             "colorbar": {
              "outlinewidth": 0,
              "ticks": ""
             }
            },
            "type": "scattergeo"
           }
          ],
          "scattergl": [
           {
            "marker": {
             "colorbar": {
              "outlinewidth": 0,
              "ticks": ""
             }
            },
            "type": "scattergl"
           }
          ],
          "scattermapbox": [
           {
            "marker": {
             "colorbar": {
              "outlinewidth": 0,
              "ticks": ""
             }
            },
            "type": "scattermapbox"
           }
          ],
          "scatterpolar": [
           {
            "marker": {
             "colorbar": {
              "outlinewidth": 0,
              "ticks": ""
             }
            },
            "type": "scatterpolar"
           }
          ],
          "scatterpolargl": [
           {
            "marker": {
             "colorbar": {
              "outlinewidth": 0,
              "ticks": ""
             }
            },
            "type": "scatterpolargl"
           }
          ],
          "scatterternary": [
           {
            "marker": {
             "colorbar": {
              "outlinewidth": 0,
              "ticks": ""
             }
            },
            "type": "scatterternary"
           }
          ],
          "surface": [
           {
            "colorbar": {
             "outlinewidth": 0,
             "ticks": ""
            },
            "colorscale": [
             [
              0,
              "#0d0887"
             ],
             [
              0.1111111111111111,
              "#46039f"
             ],
             [
              0.2222222222222222,
              "#7201a8"
             ],
             [
              0.3333333333333333,
              "#9c179e"
             ],
             [
              0.4444444444444444,
              "#bd3786"
             ],
             [
              0.5555555555555556,
              "#d8576b"
             ],
             [
              0.6666666666666666,
              "#ed7953"
             ],
             [
              0.7777777777777778,
              "#fb9f3a"
             ],
             [
              0.8888888888888888,
              "#fdca26"
             ],
             [
              1,
              "#f0f921"
             ]
            ],
            "type": "surface"
           }
          ],
          "table": [
           {
            "cells": {
             "fill": {
              "color": "#EBF0F8"
             },
             "line": {
              "color": "white"
             }
            },
            "header": {
             "fill": {
              "color": "#C8D4E3"
             },
             "line": {
              "color": "white"
             }
            },
            "type": "table"
           }
          ]
         },
         "layout": {
          "annotationdefaults": {
           "arrowcolor": "#2a3f5f",
           "arrowhead": 0,
           "arrowwidth": 1
          },
          "autotypenumbers": "strict",
          "coloraxis": {
           "colorbar": {
            "outlinewidth": 0,
            "ticks": ""
           }
          },
          "colorscale": {
           "diverging": [
            [
             0,
             "#8e0152"
            ],
            [
             0.1,
             "#c51b7d"
            ],
            [
             0.2,
             "#de77ae"
            ],
            [
             0.3,
             "#f1b6da"
            ],
            [
             0.4,
             "#fde0ef"
            ],
            [
             0.5,
             "#f7f7f7"
            ],
            [
             0.6,
             "#e6f5d0"
            ],
            [
             0.7,
             "#b8e186"
            ],
            [
             0.8,
             "#7fbc41"
            ],
            [
             0.9,
             "#4d9221"
            ],
            [
             1,
             "#276419"
            ]
           ],
           "sequential": [
            [
             0,
             "#0d0887"
            ],
            [
             0.1111111111111111,
             "#46039f"
            ],
            [
             0.2222222222222222,
             "#7201a8"
            ],
            [
             0.3333333333333333,
             "#9c179e"
            ],
            [
             0.4444444444444444,
             "#bd3786"
            ],
            [
             0.5555555555555556,
             "#d8576b"
            ],
            [
             0.6666666666666666,
             "#ed7953"
            ],
            [
             0.7777777777777778,
             "#fb9f3a"
            ],
            [
             0.8888888888888888,
             "#fdca26"
            ],
            [
             1,
             "#f0f921"
            ]
           ],
           "sequentialminus": [
            [
             0,
             "#0d0887"
            ],
            [
             0.1111111111111111,
             "#46039f"
            ],
            [
             0.2222222222222222,
             "#7201a8"
            ],
            [
             0.3333333333333333,
             "#9c179e"
            ],
            [
             0.4444444444444444,
             "#bd3786"
            ],
            [
             0.5555555555555556,
             "#d8576b"
            ],
            [
             0.6666666666666666,
             "#ed7953"
            ],
            [
             0.7777777777777778,
             "#fb9f3a"
            ],
            [
             0.8888888888888888,
             "#fdca26"
            ],
            [
             1,
             "#f0f921"
            ]
           ]
          },
          "colorway": [
           "#636efa",
           "#EF553B",
           "#00cc96",
           "#ab63fa",
           "#FFA15A",
           "#19d3f3",
           "#FF6692",
           "#B6E880",
           "#FF97FF",
           "#FECB52"
          ],
          "font": {
           "color": "#2a3f5f"
          },
          "geo": {
           "bgcolor": "white",
           "lakecolor": "white",
           "landcolor": "#E5ECF6",
           "showlakes": true,
           "showland": true,
           "subunitcolor": "white"
          },
          "hoverlabel": {
           "align": "left"
          },
          "hovermode": "closest",
          "mapbox": {
           "style": "light"
          },
          "paper_bgcolor": "white",
          "plot_bgcolor": "#E5ECF6",
          "polar": {
           "angularaxis": {
            "gridcolor": "white",
            "linecolor": "white",
            "ticks": ""
           },
           "bgcolor": "#E5ECF6",
           "radialaxis": {
            "gridcolor": "white",
            "linecolor": "white",
            "ticks": ""
           }
          },
          "scene": {
           "xaxis": {
            "backgroundcolor": "#E5ECF6",
            "gridcolor": "white",
            "gridwidth": 2,
            "linecolor": "white",
            "showbackground": true,
            "ticks": "",
            "zerolinecolor": "white"
           },
           "yaxis": {
            "backgroundcolor": "#E5ECF6",
            "gridcolor": "white",
            "gridwidth": 2,
            "linecolor": "white",
            "showbackground": true,
            "ticks": "",
            "zerolinecolor": "white"
           },
           "zaxis": {
            "backgroundcolor": "#E5ECF6",
            "gridcolor": "white",
            "gridwidth": 2,
            "linecolor": "white",
            "showbackground": true,
            "ticks": "",
            "zerolinecolor": "white"
           }
          },
          "shapedefaults": {
           "line": {
            "color": "#2a3f5f"
           }
          },
          "ternary": {
           "aaxis": {
            "gridcolor": "white",
            "linecolor": "white",
            "ticks": ""
           },
           "baxis": {
            "gridcolor": "white",
            "linecolor": "white",
            "ticks": ""
           },
           "bgcolor": "#E5ECF6",
           "caxis": {
            "gridcolor": "white",
            "linecolor": "white",
            "ticks": ""
           }
          },
          "title": {
           "x": 0.05
          },
          "xaxis": {
           "automargin": true,
           "gridcolor": "white",
           "linecolor": "white",
           "ticks": "",
           "title": {
            "standoff": 15
           },
           "zerolinecolor": "white",
           "zerolinewidth": 2
          },
          "yaxis": {
           "automargin": true,
           "gridcolor": "white",
           "linecolor": "white",
           "ticks": "",
           "title": {
            "standoff": 15
           },
           "zerolinecolor": "white",
           "zerolinewidth": 2
          }
         }
        },
        "title": {
         "text": "Weighted ETP Logarithmic Returns from 2022-01-02 to 2022-03-01"
        },
        "xaxis": {
         "anchor": "y",
         "domain": [
          0,
          1
         ],
         "dtick": "M1",
         "tickformat": "%b\n%Y",
         "title": {
          "text": "date"
         }
        },
        "yaxis": {
         "anchor": "x",
         "domain": [
          0,
          1
         ],
         "title": {
          "text": "value"
         }
        }
       }
      },
      "text/html": [
       "<div>                            <div id=\"a7b22617-8aee-44e3-a5ce-a82e5349bcf5\" class=\"plotly-graph-div\" style=\"height:525px; width:100%;\"></div>            <script type=\"text/javascript\">                require([\"plotly\"], function(Plotly) {                    window.PLOTLYENV=window.PLOTLYENV || {};                                    if (document.getElementById(\"a7b22617-8aee-44e3-a5ce-a82e5349bcf5\")) {                    Plotly.newPlot(                        \"a7b22617-8aee-44e3-a5ce-a82e5349bcf5\",                        [{\"customdata\":[[[\"cardano\",\"solana\",\"bitcoin\",\"litecoin\",\"ripple\"],[0.0012610939040868024,0.07894429639973974,0.09142211359144256,0.20818344466822644,0.6201890514365044]],[[\"ethereum\",\"cardano\",\"ripple\",\"litecoin\"],[0.04286494218453921,0.12740228188465474,0.048595181530259955,0.7811375944005461]],[[\"cardano\",\"litecoin\",\"ripple\"],[0.004120608967753078,0.058057115733105305,0.9378222752991415]],[[\"litecoin\",\"solana\",\"cardano\",\"bitcoin\",\"ethereum\"],[0.0156840958979031,0.01822307828010082,0.0525620167065412,0.35416892079761236,0.5593618883178425]],[[\"litecoin\",\"cardano\",\"ethereum\",\"ripple\",\"solana\",\"bitcoin\"],[0.01963186467613286,0.020400920029800148,0.1017050935515085,0.20593941571633895,0.05171603992557435,0.6006066661006453]],[[\"cardano\",\"litecoin\",\"ethereum\",\"solana\",\"ripple\",\"bitcoin\"],[0.008880156887557255,0.03666744155468676,0.04364295300919988,0.016951785902115088,0.3106755306334287,0.5831821320130123]],[[\"cardano\",\"litecoin\",\"ethereum\",\"solana\",\"ripple\",\"bitcoin\"],[0.02493275820132921,0.04980341664018176,0.1231670515050784,0.09659976882617739,0.3790711350931015,0.3264258697341318]],[[\"cardano\",\"litecoin\",\"solana\"],[0.00844039549414784,0.052624071483533964,0.9389355330223181]],[[\"bitcoin\",\"ethereum\",\"ripple\",\"litecoin\",\"solana\"],[0.012245025430380948,0.03777474771380657,0.2286283669345915,0.13790923803305902,0.5834426218881621]],[[\"bitcoin\",\"ethereum\"],[0.004534523680126394,0.9954654763198736]],[[\"ethereum\",\"solana\",\"bitcoin\"],[0.002237022566317131,0.00022773389001027862,0.9975352435436725]],[[\"solana\",\"ethereum\",\"litecoin\",\"bitcoin\",\"cardano\"],[0.002339102535806833,0.0060004565205525355,0.06798411920138521,0.5215817511914435,0.4020945705508119]],[[\"solana\",\"ethereum\",\"litecoin\",\"bitcoin\"],[0.007746205524295591,0.019978226662155815,0.12492677538011196,0.8473487924334366]],[[\"solana\",\"ethereum\",\"litecoin\",\"cardano\",\"ripple\",\"bitcoin\"],[0.0086930511550312,0.06750656954619302,0.18099653376173802,0.034190842218315115,0.40491956026785886,0.30369344305086377]],[[\"solana\",\"ethereum\",\"litecoin\",\"bitcoin\",\"cardano\",\"ripple\"],[0.037963352610859216,0.056771567985267286,0.05739601063151077,0.06361583334785316,0.48532164438528197,0.2989315910392277]],[[\"solana\",\"ethereum\",\"litecoin\",\"ripple\",\"bitcoin\"],[0.05096217065564844,0.03867584192918268,0.11406446035139568,0.4981048923599835,0.2981926347037896]],[[\"solana\",\"litecoin\",\"ethereum\",\"ripple\",\"bitcoin\"],[0.0792016883599676,0.0032312466436323468,0.09864098595129014,0.10735315730911421,0.7115729217359955]],[[\"ripple\",\"litecoin\",\"solana\",\"ethereum\",\"bitcoin\",\"cardano\"],[0.00019628498827764212,0.011203801073218621,0.010520236682031772,0.2288783005179106,0.45798983783947994,0.29121153889908136]],[[\"ripple\",\"litecoin\",\"bitcoin\",\"ethereum\",\"cardano\",\"solana\"],[0.029853256193774012,0.09352059181412793,0.12459293660025483,0.0677221284796941,0.1740517330499493,0.5102593538621999]],[[\"ripple\",\"litecoin\",\"ethereum\",\"bitcoin\",\"cardano\",\"solana\"],[0.03668123485866001,0.08447777025516322,0.20136373606371571,0.15092728634997798,0.09026963742869686,0.43628033504378627]],[[\"ripple\",\"litecoin\",\"bitcoin\",\"ethereum\",\"cardano\"],[0.043909903208767115,0.017207831076429234,0.04707263645117313,0.08776742347003372,0.8040422057935969]],[[\"ripple\",\"litecoin\",\"bitcoin\"],[0.008761042396385968,0.09198647191963004,0.8992524856839839]],[[\"ripple\",\"litecoin\",\"bitcoin\"],[0.01894187452153461,0.3040785526252196,0.6769795728532457]],[[\"ethereum\",\"bitcoin\"],[0.02135467196579521,0.9786453280342049]],[[\"solana\",\"ethereum\",\"ripple\"],[0.003019755536365119,0.043181065674871184,0.9537991787887637]]],\"hovertemplate\":\"variable=weighted_market_cap_returns<br>date=%{x|%B %d, %Y}<br>value=%{y}<br>coins=%{customdata[0]}<br>best_weights=%{customdata[1]}<extra></extra>\",\"legendgroup\":\"weighted_market_cap_returns\",\"line\":{\"color\":\"#636efa\",\"dash\":\"solid\"},\"marker\":{\"symbol\":\"circle\"},\"mode\":\"lines\",\"name\":\"weighted_market_cap_returns\",\"orientation\":\"v\",\"showlegend\":true,\"x\":[\"2022-01-02\",\"2022-01-03\",\"2022-01-13\",\"2022-01-15\",\"2022-01-16\",\"2022-01-17\",\"2022-01-18\",\"2022-01-19\",\"2022-01-30\",\"2022-01-31\",\"2022-02-01\",\"2022-02-02\",\"2022-02-03\",\"2022-02-04\",\"2022-02-05\",\"2022-02-06\",\"2022-02-07\",\"2022-02-08\",\"2022-02-09\",\"2022-02-10\",\"2022-02-11\",\"2022-02-12\",\"2022-02-13\",\"2022-02-16\",\"2022-03-01\"],\"xaxis\":\"x\",\"y\":[20403029773912.555,13588119354936.562,3074651067845.331,26758996238820.47,23524641778136.305,20659497432406.1,21934971166204.44,3551423909460.572,20676054988680.285,52076964623854.45,37193162174902.4,23111237613574.516,27791905281401.195,18649623989344.984,22906532554245.656,23719033390032.035,25493905146373.664,22319325754682.57,21386524109196.27,23069898679066.695,25462432200016.383,27076468580696.15,28843046296380.08,60758217112229.75,14089141474768.375],\"yaxis\":\"y\",\"type\":\"scatter\"}],                        {\"template\":{\"data\":{\"histogram2dcontour\":[{\"type\":\"histogram2dcontour\",\"colorbar\":{\"outlinewidth\":0,\"ticks\":\"\"},\"colorscale\":[[0.0,\"#0d0887\"],[0.1111111111111111,\"#46039f\"],[0.2222222222222222,\"#7201a8\"],[0.3333333333333333,\"#9c179e\"],[0.4444444444444444,\"#bd3786\"],[0.5555555555555556,\"#d8576b\"],[0.6666666666666666,\"#ed7953\"],[0.7777777777777778,\"#fb9f3a\"],[0.8888888888888888,\"#fdca26\"],[1.0,\"#f0f921\"]]}],\"choropleth\":[{\"type\":\"choropleth\",\"colorbar\":{\"outlinewidth\":0,\"ticks\":\"\"}}],\"histogram2d\":[{\"type\":\"histogram2d\",\"colorbar\":{\"outlinewidth\":0,\"ticks\":\"\"},\"colorscale\":[[0.0,\"#0d0887\"],[0.1111111111111111,\"#46039f\"],[0.2222222222222222,\"#7201a8\"],[0.3333333333333333,\"#9c179e\"],[0.4444444444444444,\"#bd3786\"],[0.5555555555555556,\"#d8576b\"],[0.6666666666666666,\"#ed7953\"],[0.7777777777777778,\"#fb9f3a\"],[0.8888888888888888,\"#fdca26\"],[1.0,\"#f0f921\"]]}],\"heatmap\":[{\"type\":\"heatmap\",\"colorbar\":{\"outlinewidth\":0,\"ticks\":\"\"},\"colorscale\":[[0.0,\"#0d0887\"],[0.1111111111111111,\"#46039f\"],[0.2222222222222222,\"#7201a8\"],[0.3333333333333333,\"#9c179e\"],[0.4444444444444444,\"#bd3786\"],[0.5555555555555556,\"#d8576b\"],[0.6666666666666666,\"#ed7953\"],[0.7777777777777778,\"#fb9f3a\"],[0.8888888888888888,\"#fdca26\"],[1.0,\"#f0f921\"]]}],\"heatmapgl\":[{\"type\":\"heatmapgl\",\"colorbar\":{\"outlinewidth\":0,\"ticks\":\"\"},\"colorscale\":[[0.0,\"#0d0887\"],[0.1111111111111111,\"#46039f\"],[0.2222222222222222,\"#7201a8\"],[0.3333333333333333,\"#9c179e\"],[0.4444444444444444,\"#bd3786\"],[0.5555555555555556,\"#d8576b\"],[0.6666666666666666,\"#ed7953\"],[0.7777777777777778,\"#fb9f3a\"],[0.8888888888888888,\"#fdca26\"],[1.0,\"#f0f921\"]]}],\"contourcarpet\":[{\"type\":\"contourcarpet\",\"colorbar\":{\"outlinewidth\":0,\"ticks\":\"\"}}],\"contour\":[{\"type\":\"contour\",\"colorbar\":{\"outlinewidth\":0,\"ticks\":\"\"},\"colorscale\":[[0.0,\"#0d0887\"],[0.1111111111111111,\"#46039f\"],[0.2222222222222222,\"#7201a8\"],[0.3333333333333333,\"#9c179e\"],[0.4444444444444444,\"#bd3786\"],[0.5555555555555556,\"#d8576b\"],[0.6666666666666666,\"#ed7953\"],[0.7777777777777778,\"#fb9f3a\"],[0.8888888888888888,\"#fdca26\"],[1.0,\"#f0f921\"]]}],\"surface\":[{\"type\":\"surface\",\"colorbar\":{\"outlinewidth\":0,\"ticks\":\"\"},\"colorscale\":[[0.0,\"#0d0887\"],[0.1111111111111111,\"#46039f\"],[0.2222222222222222,\"#7201a8\"],[0.3333333333333333,\"#9c179e\"],[0.4444444444444444,\"#bd3786\"],[0.5555555555555556,\"#d8576b\"],[0.6666666666666666,\"#ed7953\"],[0.7777777777777778,\"#fb9f3a\"],[0.8888888888888888,\"#fdca26\"],[1.0,\"#f0f921\"]]}],\"mesh3d\":[{\"type\":\"mesh3d\",\"colorbar\":{\"outlinewidth\":0,\"ticks\":\"\"}}],\"scatter\":[{\"fillpattern\":{\"fillmode\":\"overlay\",\"size\":10,\"solidity\":0.2},\"type\":\"scatter\"}],\"parcoords\":[{\"type\":\"parcoords\",\"line\":{\"colorbar\":{\"outlinewidth\":0,\"ticks\":\"\"}}}],\"scatterpolargl\":[{\"type\":\"scatterpolargl\",\"marker\":{\"colorbar\":{\"outlinewidth\":0,\"ticks\":\"\"}}}],\"bar\":[{\"error_x\":{\"color\":\"#2a3f5f\"},\"error_y\":{\"color\":\"#2a3f5f\"},\"marker\":{\"line\":{\"color\":\"#E5ECF6\",\"width\":0.5},\"pattern\":{\"fillmode\":\"overlay\",\"size\":10,\"solidity\":0.2}},\"type\":\"bar\"}],\"scattergeo\":[{\"type\":\"scattergeo\",\"marker\":{\"colorbar\":{\"outlinewidth\":0,\"ticks\":\"\"}}}],\"scatterpolar\":[{\"type\":\"scatterpolar\",\"marker\":{\"colorbar\":{\"outlinewidth\":0,\"ticks\":\"\"}}}],\"histogram\":[{\"marker\":{\"pattern\":{\"fillmode\":\"overlay\",\"size\":10,\"solidity\":0.2}},\"type\":\"histogram\"}],\"scattergl\":[{\"type\":\"scattergl\",\"marker\":{\"colorbar\":{\"outlinewidth\":0,\"ticks\":\"\"}}}],\"scatter3d\":[{\"type\":\"scatter3d\",\"line\":{\"colorbar\":{\"outlinewidth\":0,\"ticks\":\"\"}},\"marker\":{\"colorbar\":{\"outlinewidth\":0,\"ticks\":\"\"}}}],\"scattermapbox\":[{\"type\":\"scattermapbox\",\"marker\":{\"colorbar\":{\"outlinewidth\":0,\"ticks\":\"\"}}}],\"scatterternary\":[{\"type\":\"scatterternary\",\"marker\":{\"colorbar\":{\"outlinewidth\":0,\"ticks\":\"\"}}}],\"scattercarpet\":[{\"type\":\"scattercarpet\",\"marker\":{\"colorbar\":{\"outlinewidth\":0,\"ticks\":\"\"}}}],\"carpet\":[{\"aaxis\":{\"endlinecolor\":\"#2a3f5f\",\"gridcolor\":\"white\",\"linecolor\":\"white\",\"minorgridcolor\":\"white\",\"startlinecolor\":\"#2a3f5f\"},\"baxis\":{\"endlinecolor\":\"#2a3f5f\",\"gridcolor\":\"white\",\"linecolor\":\"white\",\"minorgridcolor\":\"white\",\"startlinecolor\":\"#2a3f5f\"},\"type\":\"carpet\"}],\"table\":[{\"cells\":{\"fill\":{\"color\":\"#EBF0F8\"},\"line\":{\"color\":\"white\"}},\"header\":{\"fill\":{\"color\":\"#C8D4E3\"},\"line\":{\"color\":\"white\"}},\"type\":\"table\"}],\"barpolar\":[{\"marker\":{\"line\":{\"color\":\"#E5ECF6\",\"width\":0.5},\"pattern\":{\"fillmode\":\"overlay\",\"size\":10,\"solidity\":0.2}},\"type\":\"barpolar\"}],\"pie\":[{\"automargin\":true,\"type\":\"pie\"}]},\"layout\":{\"autotypenumbers\":\"strict\",\"colorway\":[\"#636efa\",\"#EF553B\",\"#00cc96\",\"#ab63fa\",\"#FFA15A\",\"#19d3f3\",\"#FF6692\",\"#B6E880\",\"#FF97FF\",\"#FECB52\"],\"font\":{\"color\":\"#2a3f5f\"},\"hovermode\":\"closest\",\"hoverlabel\":{\"align\":\"left\"},\"paper_bgcolor\":\"white\",\"plot_bgcolor\":\"#E5ECF6\",\"polar\":{\"bgcolor\":\"#E5ECF6\",\"angularaxis\":{\"gridcolor\":\"white\",\"linecolor\":\"white\",\"ticks\":\"\"},\"radialaxis\":{\"gridcolor\":\"white\",\"linecolor\":\"white\",\"ticks\":\"\"}},\"ternary\":{\"bgcolor\":\"#E5ECF6\",\"aaxis\":{\"gridcolor\":\"white\",\"linecolor\":\"white\",\"ticks\":\"\"},\"baxis\":{\"gridcolor\":\"white\",\"linecolor\":\"white\",\"ticks\":\"\"},\"caxis\":{\"gridcolor\":\"white\",\"linecolor\":\"white\",\"ticks\":\"\"}},\"coloraxis\":{\"colorbar\":{\"outlinewidth\":0,\"ticks\":\"\"}},\"colorscale\":{\"sequential\":[[0.0,\"#0d0887\"],[0.1111111111111111,\"#46039f\"],[0.2222222222222222,\"#7201a8\"],[0.3333333333333333,\"#9c179e\"],[0.4444444444444444,\"#bd3786\"],[0.5555555555555556,\"#d8576b\"],[0.6666666666666666,\"#ed7953\"],[0.7777777777777778,\"#fb9f3a\"],[0.8888888888888888,\"#fdca26\"],[1.0,\"#f0f921\"]],\"sequentialminus\":[[0.0,\"#0d0887\"],[0.1111111111111111,\"#46039f\"],[0.2222222222222222,\"#7201a8\"],[0.3333333333333333,\"#9c179e\"],[0.4444444444444444,\"#bd3786\"],[0.5555555555555556,\"#d8576b\"],[0.6666666666666666,\"#ed7953\"],[0.7777777777777778,\"#fb9f3a\"],[0.8888888888888888,\"#fdca26\"],[1.0,\"#f0f921\"]],\"diverging\":[[0,\"#8e0152\"],[0.1,\"#c51b7d\"],[0.2,\"#de77ae\"],[0.3,\"#f1b6da\"],[0.4,\"#fde0ef\"],[0.5,\"#f7f7f7\"],[0.6,\"#e6f5d0\"],[0.7,\"#b8e186\"],[0.8,\"#7fbc41\"],[0.9,\"#4d9221\"],[1,\"#276419\"]]},\"xaxis\":{\"gridcolor\":\"white\",\"linecolor\":\"white\",\"ticks\":\"\",\"title\":{\"standoff\":15},\"zerolinecolor\":\"white\",\"automargin\":true,\"zerolinewidth\":2},\"yaxis\":{\"gridcolor\":\"white\",\"linecolor\":\"white\",\"ticks\":\"\",\"title\":{\"standoff\":15},\"zerolinecolor\":\"white\",\"automargin\":true,\"zerolinewidth\":2},\"scene\":{\"xaxis\":{\"backgroundcolor\":\"#E5ECF6\",\"gridcolor\":\"white\",\"linecolor\":\"white\",\"showbackground\":true,\"ticks\":\"\",\"zerolinecolor\":\"white\",\"gridwidth\":2},\"yaxis\":{\"backgroundcolor\":\"#E5ECF6\",\"gridcolor\":\"white\",\"linecolor\":\"white\",\"showbackground\":true,\"ticks\":\"\",\"zerolinecolor\":\"white\",\"gridwidth\":2},\"zaxis\":{\"backgroundcolor\":\"#E5ECF6\",\"gridcolor\":\"white\",\"linecolor\":\"white\",\"showbackground\":true,\"ticks\":\"\",\"zerolinecolor\":\"white\",\"gridwidth\":2}},\"shapedefaults\":{\"line\":{\"color\":\"#2a3f5f\"}},\"annotationdefaults\":{\"arrowcolor\":\"#2a3f5f\",\"arrowhead\":0,\"arrowwidth\":1},\"geo\":{\"bgcolor\":\"white\",\"landcolor\":\"#E5ECF6\",\"subunitcolor\":\"white\",\"showland\":true,\"showlakes\":true,\"lakecolor\":\"white\"},\"title\":{\"x\":0.05},\"mapbox\":{\"style\":\"light\"}}},\"xaxis\":{\"anchor\":\"y\",\"domain\":[0.0,1.0],\"title\":{\"text\":\"date\"},\"dtick\":\"M1\",\"tickformat\":\"%b\\n%Y\"},\"yaxis\":{\"anchor\":\"x\",\"domain\":[0.0,1.0],\"title\":{\"text\":\"value\"}},\"legend\":{\"title\":{\"text\":\"variable\"},\"tracegroupgap\":0},\"title\":{\"text\":\"Weighted ETP Logarithmic Returns from 2022-01-02 to 2022-03-01\"}},                        {\"responsive\": true}                    ).then(function(){\n",
       "                            \n",
       "var gd = document.getElementById('a7b22617-8aee-44e3-a5ce-a82e5349bcf5');\n",
       "var x = new MutationObserver(function (mutations, observer) {{\n",
       "        var display = window.getComputedStyle(gd).display;\n",
       "        if (!display || display === 'none') {{\n",
       "            console.log([gd, 'removed!']);\n",
       "            Plotly.purge(gd);\n",
       "            observer.disconnect();\n",
       "        }}\n",
       "}});\n",
       "\n",
       "// Listen for the removal of the full notebook cells\n",
       "var notebookContainer = gd.closest('#notebook-container');\n",
       "if (notebookContainer) {{\n",
       "    x.observe(notebookContainer, {childList: true});\n",
       "}}\n",
       "\n",
       "// Listen for the clearing of the current output cell\n",
       "var outputEl = gd.closest('.output');\n",
       "if (outputEl) {{\n",
       "    x.observe(outputEl, {childList: true});\n",
       "}}\n",
       "\n",
       "                        })                };                });            </script>        </div>"
      ]
     },
     "metadata": {},
     "output_type": "display_data"
    }
   ],
   "source": [
    "import plotly.express as px\n",
    "\n",
    "''' To plot the data transform back to coind ids to be individual columns '''\n",
    "weigted_sum_df = pd.DataFrame(_l_actual_weighted_sum)\n",
    "_min_date = weigted_sum_df[\"date\"].min()\n",
    "_max_date = weigted_sum_df[\"date\"].max()\n",
    "weigted_sum_df.reset_index(inplace=True)\n",
    "\n",
    "_title = \"Weighted ETP Logarithmic Returns from \"+str(_min_date)+\" to \"+str(_max_date)\n",
    "fig = px.line(weigted_sum_df, x=\"date\", y=['weighted_market_cap_returns'],\n",
    "#               color='red',\n",
    "              hover_data={\"date\": \"|%B %d, %Y\", \"coins\": True, \"best_weights\": True},\n",
    "              title=_title,)\n",
    "\n",
    "fig.update_xaxes(\n",
    "    dtick=\"M1\",\n",
    "    tickformat=\"%b\\n%Y\")\n",
    "fig.show()"
   ]
  },
  {
   "cell_type": "code",
   "execution_count": 33,
   "id": "0c592c2f",
   "metadata": {},
   "outputs": [
    {
     "name": "stderr",
     "output_type": "stream",
     "text": [
      "/tmp/ipykernel_58923/1528585544.py:3: SettingWithCopyWarning:\n",
      "\n",
      "\n",
      "A value is trying to be set on a copy of a slice from a DataFrame\n",
      "\n",
      "See the caveats in the documentation: https://pandas.pydata.org/pandas-docs/stable/user_guide/indexing.html#returning-a-view-versus-a-copy\n",
      "\n"
     ]
    },
    {
     "data": {
      "application/vnd.plotly.v1+json": {
       "config": {
        "plotlyServerURL": "https://plot.ly"
       },
       "data": [
        {
         "hovertemplate": "variable=simp_move_avg_market_cap<br>Date=%{x|%B %d, %Y}<br>value=%{y}<extra></extra>",
         "legendgroup": "simp_move_avg_market_cap",
         "line": {
          "color": "#636efa",
          "dash": "solid"
         },
         "marker": {
          "symbol": "circle"
         },
         "mode": "lines",
         "name": "simp_move_avg_market_cap",
         "orientation": "v",
         "showlegend": true,
         "type": "scatter",
         "x": [
          "2022-01-02",
          "2022-01-03",
          "2022-01-04",
          "2022-01-05",
          "2022-01-06",
          "2022-01-07",
          "2022-01-08",
          "2022-01-09",
          "2022-01-10",
          "2022-01-11",
          "2022-01-12",
          "2022-01-13",
          "2022-01-14",
          "2022-01-15",
          "2022-01-16",
          "2022-01-17",
          "2022-01-18",
          "2022-01-19",
          "2022-01-20",
          "2022-01-21",
          "2022-01-22",
          "2022-01-23",
          "2022-01-24",
          "2022-01-25",
          "2022-01-26",
          "2022-01-27",
          "2022-01-28",
          "2022-01-29",
          "2022-01-30",
          "2022-01-31",
          "2022-02-01",
          "2022-02-02",
          "2022-02-03",
          "2022-02-04",
          "2022-02-05",
          "2022-02-06",
          "2022-02-07",
          "2022-02-08",
          "2022-02-09",
          "2022-02-10",
          "2022-02-11",
          "2022-02-12",
          "2022-02-13",
          "2022-02-14",
          "2022-02-15",
          "2022-02-16",
          "2022-02-17",
          "2022-02-18",
          "2022-02-19",
          "2022-02-20",
          "2022-02-21",
          "2022-02-22",
          "2022-02-23",
          "2022-02-24",
          "2022-02-25",
          "2022-02-26",
          "2022-02-27",
          "2022-02-28",
          "2022-03-01"
         ],
         "xaxis": "x",
         "y": [
          890372444410.2083,
          892760326380.4507,
          889652792781.6372,
          886970772158.5488,
          877096177251.3082,
          868871420416.4153,
          856234651764.7032,
          840283316487.3654,
          825156526186.4542,
          812596173683.9401,
          803078863089.9701,
          803755559552.8619,
          801896699670.6864,
          805952950095.8761,
          809368338460.2649,
          812893627135.4904,
          814095759409.2568,
          813287271539.1953,
          807294106875.4003,
          802683385367.0637,
          785072773202.1349,
          763561399336.6788,
          745168598602.241,
          730260423104.442,
          715490330565.9918,
          702584315472.778,
          692309407809.8323,
          695762538621.246,
          703849439789.4883,
          708420035292.5983,
          712911460463.5417,
          717987292118.9392,
          718055834514.303,
          718154676216.9967,
          726772982030.2506,
          735839559658.2592,
          748035545251.8619,
          763105133840.2704,
          777577215531.6454,
          797676409376.6505,
          815381959327.8907,
          819146487078.789,
          821039688378.8414,
          820627927172.0316,
          817040512804.4911,
          818599718099.8856,
          817873448163.4459,
          809752659616.0537,
          803491958817.3972,
          798049070502.7283,
          787809370736.4496,
          772769888443.3258,
          755451745718.1354,
          737247917722.4661,
          731185208702.387,
          729168254488.5125,
          726259166199.6556,
          724436016202.8909,
          741009616128.829
         ],
         "yaxis": "y"
        }
       ],
       "layout": {
        "legend": {
         "title": {
          "text": "variable"
         },
         "tracegroupgap": 0
        },
        "template": {
         "data": {
          "bar": [
           {
            "error_x": {
             "color": "#2a3f5f"
            },
            "error_y": {
             "color": "#2a3f5f"
            },
            "marker": {
             "line": {
              "color": "#E5ECF6",
              "width": 0.5
             },
             "pattern": {
              "fillmode": "overlay",
              "size": 10,
              "solidity": 0.2
             }
            },
            "type": "bar"
           }
          ],
          "barpolar": [
           {
            "marker": {
             "line": {
              "color": "#E5ECF6",
              "width": 0.5
             },
             "pattern": {
              "fillmode": "overlay",
              "size": 10,
              "solidity": 0.2
             }
            },
            "type": "barpolar"
           }
          ],
          "carpet": [
           {
            "aaxis": {
             "endlinecolor": "#2a3f5f",
             "gridcolor": "white",
             "linecolor": "white",
             "minorgridcolor": "white",
             "startlinecolor": "#2a3f5f"
            },
            "baxis": {
             "endlinecolor": "#2a3f5f",
             "gridcolor": "white",
             "linecolor": "white",
             "minorgridcolor": "white",
             "startlinecolor": "#2a3f5f"
            },
            "type": "carpet"
           }
          ],
          "choropleth": [
           {
            "colorbar": {
             "outlinewidth": 0,
             "ticks": ""
            },
            "type": "choropleth"
           }
          ],
          "contour": [
           {
            "colorbar": {
             "outlinewidth": 0,
             "ticks": ""
            },
            "colorscale": [
             [
              0,
              "#0d0887"
             ],
             [
              0.1111111111111111,
              "#46039f"
             ],
             [
              0.2222222222222222,
              "#7201a8"
             ],
             [
              0.3333333333333333,
              "#9c179e"
             ],
             [
              0.4444444444444444,
              "#bd3786"
             ],
             [
              0.5555555555555556,
              "#d8576b"
             ],
             [
              0.6666666666666666,
              "#ed7953"
             ],
             [
              0.7777777777777778,
              "#fb9f3a"
             ],
             [
              0.8888888888888888,
              "#fdca26"
             ],
             [
              1,
              "#f0f921"
             ]
            ],
            "type": "contour"
           }
          ],
          "contourcarpet": [
           {
            "colorbar": {
             "outlinewidth": 0,
             "ticks": ""
            },
            "type": "contourcarpet"
           }
          ],
          "heatmap": [
           {
            "colorbar": {
             "outlinewidth": 0,
             "ticks": ""
            },
            "colorscale": [
             [
              0,
              "#0d0887"
             ],
             [
              0.1111111111111111,
              "#46039f"
             ],
             [
              0.2222222222222222,
              "#7201a8"
             ],
             [
              0.3333333333333333,
              "#9c179e"
             ],
             [
              0.4444444444444444,
              "#bd3786"
             ],
             [
              0.5555555555555556,
              "#d8576b"
             ],
             [
              0.6666666666666666,
              "#ed7953"
             ],
             [
              0.7777777777777778,
              "#fb9f3a"
             ],
             [
              0.8888888888888888,
              "#fdca26"
             ],
             [
              1,
              "#f0f921"
             ]
            ],
            "type": "heatmap"
           }
          ],
          "heatmapgl": [
           {
            "colorbar": {
             "outlinewidth": 0,
             "ticks": ""
            },
            "colorscale": [
             [
              0,
              "#0d0887"
             ],
             [
              0.1111111111111111,
              "#46039f"
             ],
             [
              0.2222222222222222,
              "#7201a8"
             ],
             [
              0.3333333333333333,
              "#9c179e"
             ],
             [
              0.4444444444444444,
              "#bd3786"
             ],
             [
              0.5555555555555556,
              "#d8576b"
             ],
             [
              0.6666666666666666,
              "#ed7953"
             ],
             [
              0.7777777777777778,
              "#fb9f3a"
             ],
             [
              0.8888888888888888,
              "#fdca26"
             ],
             [
              1,
              "#f0f921"
             ]
            ],
            "type": "heatmapgl"
           }
          ],
          "histogram": [
           {
            "marker": {
             "pattern": {
              "fillmode": "overlay",
              "size": 10,
              "solidity": 0.2
             }
            },
            "type": "histogram"
           }
          ],
          "histogram2d": [
           {
            "colorbar": {
             "outlinewidth": 0,
             "ticks": ""
            },
            "colorscale": [
             [
              0,
              "#0d0887"
             ],
             [
              0.1111111111111111,
              "#46039f"
             ],
             [
              0.2222222222222222,
              "#7201a8"
             ],
             [
              0.3333333333333333,
              "#9c179e"
             ],
             [
              0.4444444444444444,
              "#bd3786"
             ],
             [
              0.5555555555555556,
              "#d8576b"
             ],
             [
              0.6666666666666666,
              "#ed7953"
             ],
             [
              0.7777777777777778,
              "#fb9f3a"
             ],
             [
              0.8888888888888888,
              "#fdca26"
             ],
             [
              1,
              "#f0f921"
             ]
            ],
            "type": "histogram2d"
           }
          ],
          "histogram2dcontour": [
           {
            "colorbar": {
             "outlinewidth": 0,
             "ticks": ""
            },
            "colorscale": [
             [
              0,
              "#0d0887"
             ],
             [
              0.1111111111111111,
              "#46039f"
             ],
             [
              0.2222222222222222,
              "#7201a8"
             ],
             [
              0.3333333333333333,
              "#9c179e"
             ],
             [
              0.4444444444444444,
              "#bd3786"
             ],
             [
              0.5555555555555556,
              "#d8576b"
             ],
             [
              0.6666666666666666,
              "#ed7953"
             ],
             [
              0.7777777777777778,
              "#fb9f3a"
             ],
             [
              0.8888888888888888,
              "#fdca26"
             ],
             [
              1,
              "#f0f921"
             ]
            ],
            "type": "histogram2dcontour"
           }
          ],
          "mesh3d": [
           {
            "colorbar": {
             "outlinewidth": 0,
             "ticks": ""
            },
            "type": "mesh3d"
           }
          ],
          "parcoords": [
           {
            "line": {
             "colorbar": {
              "outlinewidth": 0,
              "ticks": ""
             }
            },
            "type": "parcoords"
           }
          ],
          "pie": [
           {
            "automargin": true,
            "type": "pie"
           }
          ],
          "scatter": [
           {
            "fillpattern": {
             "fillmode": "overlay",
             "size": 10,
             "solidity": 0.2
            },
            "type": "scatter"
           }
          ],
          "scatter3d": [
           {
            "line": {
             "colorbar": {
              "outlinewidth": 0,
              "ticks": ""
             }
            },
            "marker": {
             "colorbar": {
              "outlinewidth": 0,
              "ticks": ""
             }
            },
            "type": "scatter3d"
           }
          ],
          "scattercarpet": [
           {
            "marker": {
             "colorbar": {
              "outlinewidth": 0,
              "ticks": ""
             }
            },
            "type": "scattercarpet"
           }
          ],
          "scattergeo": [
           {
            "marker": {
             "colorbar": {
              "outlinewidth": 0,
              "ticks": ""
             }
            },
            "type": "scattergeo"
           }
          ],
          "scattergl": [
           {
            "marker": {
             "colorbar": {
              "outlinewidth": 0,
              "ticks": ""
             }
            },
            "type": "scattergl"
           }
          ],
          "scattermapbox": [
           {
            "marker": {
             "colorbar": {
              "outlinewidth": 0,
              "ticks": ""
             }
            },
            "type": "scattermapbox"
           }
          ],
          "scatterpolar": [
           {
            "marker": {
             "colorbar": {
              "outlinewidth": 0,
              "ticks": ""
             }
            },
            "type": "scatterpolar"
           }
          ],
          "scatterpolargl": [
           {
            "marker": {
             "colorbar": {
              "outlinewidth": 0,
              "ticks": ""
             }
            },
            "type": "scatterpolargl"
           }
          ],
          "scatterternary": [
           {
            "marker": {
             "colorbar": {
              "outlinewidth": 0,
              "ticks": ""
             }
            },
            "type": "scatterternary"
           }
          ],
          "surface": [
           {
            "colorbar": {
             "outlinewidth": 0,
             "ticks": ""
            },
            "colorscale": [
             [
              0,
              "#0d0887"
             ],
             [
              0.1111111111111111,
              "#46039f"
             ],
             [
              0.2222222222222222,
              "#7201a8"
             ],
             [
              0.3333333333333333,
              "#9c179e"
             ],
             [
              0.4444444444444444,
              "#bd3786"
             ],
             [
              0.5555555555555556,
              "#d8576b"
             ],
             [
              0.6666666666666666,
              "#ed7953"
             ],
             [
              0.7777777777777778,
              "#fb9f3a"
             ],
             [
              0.8888888888888888,
              "#fdca26"
             ],
             [
              1,
              "#f0f921"
             ]
            ],
            "type": "surface"
           }
          ],
          "table": [
           {
            "cells": {
             "fill": {
              "color": "#EBF0F8"
             },
             "line": {
              "color": "white"
             }
            },
            "header": {
             "fill": {
              "color": "#C8D4E3"
             },
             "line": {
              "color": "white"
             }
            },
            "type": "table"
           }
          ]
         },
         "layout": {
          "annotationdefaults": {
           "arrowcolor": "#2a3f5f",
           "arrowhead": 0,
           "arrowwidth": 1
          },
          "autotypenumbers": "strict",
          "coloraxis": {
           "colorbar": {
            "outlinewidth": 0,
            "ticks": ""
           }
          },
          "colorscale": {
           "diverging": [
            [
             0,
             "#8e0152"
            ],
            [
             0.1,
             "#c51b7d"
            ],
            [
             0.2,
             "#de77ae"
            ],
            [
             0.3,
             "#f1b6da"
            ],
            [
             0.4,
             "#fde0ef"
            ],
            [
             0.5,
             "#f7f7f7"
            ],
            [
             0.6,
             "#e6f5d0"
            ],
            [
             0.7,
             "#b8e186"
            ],
            [
             0.8,
             "#7fbc41"
            ],
            [
             0.9,
             "#4d9221"
            ],
            [
             1,
             "#276419"
            ]
           ],
           "sequential": [
            [
             0,
             "#0d0887"
            ],
            [
             0.1111111111111111,
             "#46039f"
            ],
            [
             0.2222222222222222,
             "#7201a8"
            ],
            [
             0.3333333333333333,
             "#9c179e"
            ],
            [
             0.4444444444444444,
             "#bd3786"
            ],
            [
             0.5555555555555556,
             "#d8576b"
            ],
            [
             0.6666666666666666,
             "#ed7953"
            ],
            [
             0.7777777777777778,
             "#fb9f3a"
            ],
            [
             0.8888888888888888,
             "#fdca26"
            ],
            [
             1,
             "#f0f921"
            ]
           ],
           "sequentialminus": [
            [
             0,
             "#0d0887"
            ],
            [
             0.1111111111111111,
             "#46039f"
            ],
            [
             0.2222222222222222,
             "#7201a8"
            ],
            [
             0.3333333333333333,
             "#9c179e"
            ],
            [
             0.4444444444444444,
             "#bd3786"
            ],
            [
             0.5555555555555556,
             "#d8576b"
            ],
            [
             0.6666666666666666,
             "#ed7953"
            ],
            [
             0.7777777777777778,
             "#fb9f3a"
            ],
            [
             0.8888888888888888,
             "#fdca26"
            ],
            [
             1,
             "#f0f921"
            ]
           ]
          },
          "colorway": [
           "#636efa",
           "#EF553B",
           "#00cc96",
           "#ab63fa",
           "#FFA15A",
           "#19d3f3",
           "#FF6692",
           "#B6E880",
           "#FF97FF",
           "#FECB52"
          ],
          "font": {
           "color": "#2a3f5f"
          },
          "geo": {
           "bgcolor": "white",
           "lakecolor": "white",
           "landcolor": "#E5ECF6",
           "showlakes": true,
           "showland": true,
           "subunitcolor": "white"
          },
          "hoverlabel": {
           "align": "left"
          },
          "hovermode": "closest",
          "mapbox": {
           "style": "light"
          },
          "paper_bgcolor": "white",
          "plot_bgcolor": "#E5ECF6",
          "polar": {
           "angularaxis": {
            "gridcolor": "white",
            "linecolor": "white",
            "ticks": ""
           },
           "bgcolor": "#E5ECF6",
           "radialaxis": {
            "gridcolor": "white",
            "linecolor": "white",
            "ticks": ""
           }
          },
          "scene": {
           "xaxis": {
            "backgroundcolor": "#E5ECF6",
            "gridcolor": "white",
            "gridwidth": 2,
            "linecolor": "white",
            "showbackground": true,
            "ticks": "",
            "zerolinecolor": "white"
           },
           "yaxis": {
            "backgroundcolor": "#E5ECF6",
            "gridcolor": "white",
            "gridwidth": 2,
            "linecolor": "white",
            "showbackground": true,
            "ticks": "",
            "zerolinecolor": "white"
           },
           "zaxis": {
            "backgroundcolor": "#E5ECF6",
            "gridcolor": "white",
            "gridwidth": 2,
            "linecolor": "white",
            "showbackground": true,
            "ticks": "",
            "zerolinecolor": "white"
           }
          },
          "shapedefaults": {
           "line": {
            "color": "#2a3f5f"
           }
          },
          "ternary": {
           "aaxis": {
            "gridcolor": "white",
            "linecolor": "white",
            "ticks": ""
           },
           "baxis": {
            "gridcolor": "white",
            "linecolor": "white",
            "ticks": ""
           },
           "bgcolor": "#E5ECF6",
           "caxis": {
            "gridcolor": "white",
            "linecolor": "white",
            "ticks": ""
           }
          },
          "title": {
           "x": 0.05
          },
          "xaxis": {
           "automargin": true,
           "gridcolor": "white",
           "linecolor": "white",
           "ticks": "",
           "title": {
            "standoff": 15
           },
           "zerolinecolor": "white",
           "zerolinewidth": 2
          },
          "yaxis": {
           "automargin": true,
           "gridcolor": "white",
           "linecolor": "white",
           "ticks": "",
           "title": {
            "standoff": 15
           },
           "zerolinecolor": "white",
           "zerolinewidth": 2
          }
         }
        },
        "title": {
         "text": "Bitcoin ETP Logarithmic Returns from 2022-01-02 to 2022-03-01"
        },
        "xaxis": {
         "anchor": "y",
         "domain": [
          0,
          1
         ],
         "dtick": "M1",
         "tickformat": "%b\n%Y",
         "title": {
          "text": "Date"
         }
        },
        "yaxis": {
         "anchor": "x",
         "domain": [
          0,
          1
         ],
         "title": {
          "text": "value"
         }
        }
       }
      },
      "text/html": [
       "<div>                            <div id=\"b0c0bcea-ddac-446c-b681-8df31b0a6ffa\" class=\"plotly-graph-div\" style=\"height:525px; width:100%;\"></div>            <script type=\"text/javascript\">                require([\"plotly\"], function(Plotly) {                    window.PLOTLYENV=window.PLOTLYENV || {};                                    if (document.getElementById(\"b0c0bcea-ddac-446c-b681-8df31b0a6ffa\")) {                    Plotly.newPlot(                        \"b0c0bcea-ddac-446c-b681-8df31b0a6ffa\",                        [{\"hovertemplate\":\"variable=simp_move_avg_market_cap<br>Date=%{x|%B %d, %Y}<br>value=%{y}<extra></extra>\",\"legendgroup\":\"simp_move_avg_market_cap\",\"line\":{\"color\":\"#636efa\",\"dash\":\"solid\"},\"marker\":{\"symbol\":\"circle\"},\"mode\":\"lines\",\"name\":\"simp_move_avg_market_cap\",\"orientation\":\"v\",\"showlegend\":true,\"x\":[\"2022-01-02\",\"2022-01-03\",\"2022-01-04\",\"2022-01-05\",\"2022-01-06\",\"2022-01-07\",\"2022-01-08\",\"2022-01-09\",\"2022-01-10\",\"2022-01-11\",\"2022-01-12\",\"2022-01-13\",\"2022-01-14\",\"2022-01-15\",\"2022-01-16\",\"2022-01-17\",\"2022-01-18\",\"2022-01-19\",\"2022-01-20\",\"2022-01-21\",\"2022-01-22\",\"2022-01-23\",\"2022-01-24\",\"2022-01-25\",\"2022-01-26\",\"2022-01-27\",\"2022-01-28\",\"2022-01-29\",\"2022-01-30\",\"2022-01-31\",\"2022-02-01\",\"2022-02-02\",\"2022-02-03\",\"2022-02-04\",\"2022-02-05\",\"2022-02-06\",\"2022-02-07\",\"2022-02-08\",\"2022-02-09\",\"2022-02-10\",\"2022-02-11\",\"2022-02-12\",\"2022-02-13\",\"2022-02-14\",\"2022-02-15\",\"2022-02-16\",\"2022-02-17\",\"2022-02-18\",\"2022-02-19\",\"2022-02-20\",\"2022-02-21\",\"2022-02-22\",\"2022-02-23\",\"2022-02-24\",\"2022-02-25\",\"2022-02-26\",\"2022-02-27\",\"2022-02-28\",\"2022-03-01\"],\"xaxis\":\"x\",\"y\":[890372444410.2083,892760326380.4507,889652792781.6372,886970772158.5488,877096177251.3082,868871420416.4153,856234651764.7032,840283316487.3654,825156526186.4542,812596173683.9401,803078863089.9701,803755559552.8619,801896699670.6864,805952950095.8761,809368338460.2649,812893627135.4904,814095759409.2568,813287271539.1953,807294106875.4003,802683385367.0637,785072773202.1349,763561399336.6788,745168598602.241,730260423104.442,715490330565.9918,702584315472.778,692309407809.8323,695762538621.246,703849439789.4883,708420035292.5983,712911460463.5417,717987292118.9392,718055834514.303,718154676216.9967,726772982030.2506,735839559658.2592,748035545251.8619,763105133840.2704,777577215531.6454,797676409376.6505,815381959327.8907,819146487078.789,821039688378.8414,820627927172.0316,817040512804.4911,818599718099.8856,817873448163.4459,809752659616.0537,803491958817.3972,798049070502.7283,787809370736.4496,772769888443.3258,755451745718.1354,737247917722.4661,731185208702.387,729168254488.5125,726259166199.6556,724436016202.8909,741009616128.829],\"yaxis\":\"y\",\"type\":\"scatter\"}],                        {\"template\":{\"data\":{\"histogram2dcontour\":[{\"type\":\"histogram2dcontour\",\"colorbar\":{\"outlinewidth\":0,\"ticks\":\"\"},\"colorscale\":[[0.0,\"#0d0887\"],[0.1111111111111111,\"#46039f\"],[0.2222222222222222,\"#7201a8\"],[0.3333333333333333,\"#9c179e\"],[0.4444444444444444,\"#bd3786\"],[0.5555555555555556,\"#d8576b\"],[0.6666666666666666,\"#ed7953\"],[0.7777777777777778,\"#fb9f3a\"],[0.8888888888888888,\"#fdca26\"],[1.0,\"#f0f921\"]]}],\"choropleth\":[{\"type\":\"choropleth\",\"colorbar\":{\"outlinewidth\":0,\"ticks\":\"\"}}],\"histogram2d\":[{\"type\":\"histogram2d\",\"colorbar\":{\"outlinewidth\":0,\"ticks\":\"\"},\"colorscale\":[[0.0,\"#0d0887\"],[0.1111111111111111,\"#46039f\"],[0.2222222222222222,\"#7201a8\"],[0.3333333333333333,\"#9c179e\"],[0.4444444444444444,\"#bd3786\"],[0.5555555555555556,\"#d8576b\"],[0.6666666666666666,\"#ed7953\"],[0.7777777777777778,\"#fb9f3a\"],[0.8888888888888888,\"#fdca26\"],[1.0,\"#f0f921\"]]}],\"heatmap\":[{\"type\":\"heatmap\",\"colorbar\":{\"outlinewidth\":0,\"ticks\":\"\"},\"colorscale\":[[0.0,\"#0d0887\"],[0.1111111111111111,\"#46039f\"],[0.2222222222222222,\"#7201a8\"],[0.3333333333333333,\"#9c179e\"],[0.4444444444444444,\"#bd3786\"],[0.5555555555555556,\"#d8576b\"],[0.6666666666666666,\"#ed7953\"],[0.7777777777777778,\"#fb9f3a\"],[0.8888888888888888,\"#fdca26\"],[1.0,\"#f0f921\"]]}],\"heatmapgl\":[{\"type\":\"heatmapgl\",\"colorbar\":{\"outlinewidth\":0,\"ticks\":\"\"},\"colorscale\":[[0.0,\"#0d0887\"],[0.1111111111111111,\"#46039f\"],[0.2222222222222222,\"#7201a8\"],[0.3333333333333333,\"#9c179e\"],[0.4444444444444444,\"#bd3786\"],[0.5555555555555556,\"#d8576b\"],[0.6666666666666666,\"#ed7953\"],[0.7777777777777778,\"#fb9f3a\"],[0.8888888888888888,\"#fdca26\"],[1.0,\"#f0f921\"]]}],\"contourcarpet\":[{\"type\":\"contourcarpet\",\"colorbar\":{\"outlinewidth\":0,\"ticks\":\"\"}}],\"contour\":[{\"type\":\"contour\",\"colorbar\":{\"outlinewidth\":0,\"ticks\":\"\"},\"colorscale\":[[0.0,\"#0d0887\"],[0.1111111111111111,\"#46039f\"],[0.2222222222222222,\"#7201a8\"],[0.3333333333333333,\"#9c179e\"],[0.4444444444444444,\"#bd3786\"],[0.5555555555555556,\"#d8576b\"],[0.6666666666666666,\"#ed7953\"],[0.7777777777777778,\"#fb9f3a\"],[0.8888888888888888,\"#fdca26\"],[1.0,\"#f0f921\"]]}],\"surface\":[{\"type\":\"surface\",\"colorbar\":{\"outlinewidth\":0,\"ticks\":\"\"},\"colorscale\":[[0.0,\"#0d0887\"],[0.1111111111111111,\"#46039f\"],[0.2222222222222222,\"#7201a8\"],[0.3333333333333333,\"#9c179e\"],[0.4444444444444444,\"#bd3786\"],[0.5555555555555556,\"#d8576b\"],[0.6666666666666666,\"#ed7953\"],[0.7777777777777778,\"#fb9f3a\"],[0.8888888888888888,\"#fdca26\"],[1.0,\"#f0f921\"]]}],\"mesh3d\":[{\"type\":\"mesh3d\",\"colorbar\":{\"outlinewidth\":0,\"ticks\":\"\"}}],\"scatter\":[{\"fillpattern\":{\"fillmode\":\"overlay\",\"size\":10,\"solidity\":0.2},\"type\":\"scatter\"}],\"parcoords\":[{\"type\":\"parcoords\",\"line\":{\"colorbar\":{\"outlinewidth\":0,\"ticks\":\"\"}}}],\"scatterpolargl\":[{\"type\":\"scatterpolargl\",\"marker\":{\"colorbar\":{\"outlinewidth\":0,\"ticks\":\"\"}}}],\"bar\":[{\"error_x\":{\"color\":\"#2a3f5f\"},\"error_y\":{\"color\":\"#2a3f5f\"},\"marker\":{\"line\":{\"color\":\"#E5ECF6\",\"width\":0.5},\"pattern\":{\"fillmode\":\"overlay\",\"size\":10,\"solidity\":0.2}},\"type\":\"bar\"}],\"scattergeo\":[{\"type\":\"scattergeo\",\"marker\":{\"colorbar\":{\"outlinewidth\":0,\"ticks\":\"\"}}}],\"scatterpolar\":[{\"type\":\"scatterpolar\",\"marker\":{\"colorbar\":{\"outlinewidth\":0,\"ticks\":\"\"}}}],\"histogram\":[{\"marker\":{\"pattern\":{\"fillmode\":\"overlay\",\"size\":10,\"solidity\":0.2}},\"type\":\"histogram\"}],\"scattergl\":[{\"type\":\"scattergl\",\"marker\":{\"colorbar\":{\"outlinewidth\":0,\"ticks\":\"\"}}}],\"scatter3d\":[{\"type\":\"scatter3d\",\"line\":{\"colorbar\":{\"outlinewidth\":0,\"ticks\":\"\"}},\"marker\":{\"colorbar\":{\"outlinewidth\":0,\"ticks\":\"\"}}}],\"scattermapbox\":[{\"type\":\"scattermapbox\",\"marker\":{\"colorbar\":{\"outlinewidth\":0,\"ticks\":\"\"}}}],\"scatterternary\":[{\"type\":\"scatterternary\",\"marker\":{\"colorbar\":{\"outlinewidth\":0,\"ticks\":\"\"}}}],\"scattercarpet\":[{\"type\":\"scattercarpet\",\"marker\":{\"colorbar\":{\"outlinewidth\":0,\"ticks\":\"\"}}}],\"carpet\":[{\"aaxis\":{\"endlinecolor\":\"#2a3f5f\",\"gridcolor\":\"white\",\"linecolor\":\"white\",\"minorgridcolor\":\"white\",\"startlinecolor\":\"#2a3f5f\"},\"baxis\":{\"endlinecolor\":\"#2a3f5f\",\"gridcolor\":\"white\",\"linecolor\":\"white\",\"minorgridcolor\":\"white\",\"startlinecolor\":\"#2a3f5f\"},\"type\":\"carpet\"}],\"table\":[{\"cells\":{\"fill\":{\"color\":\"#EBF0F8\"},\"line\":{\"color\":\"white\"}},\"header\":{\"fill\":{\"color\":\"#C8D4E3\"},\"line\":{\"color\":\"white\"}},\"type\":\"table\"}],\"barpolar\":[{\"marker\":{\"line\":{\"color\":\"#E5ECF6\",\"width\":0.5},\"pattern\":{\"fillmode\":\"overlay\",\"size\":10,\"solidity\":0.2}},\"type\":\"barpolar\"}],\"pie\":[{\"automargin\":true,\"type\":\"pie\"}]},\"layout\":{\"autotypenumbers\":\"strict\",\"colorway\":[\"#636efa\",\"#EF553B\",\"#00cc96\",\"#ab63fa\",\"#FFA15A\",\"#19d3f3\",\"#FF6692\",\"#B6E880\",\"#FF97FF\",\"#FECB52\"],\"font\":{\"color\":\"#2a3f5f\"},\"hovermode\":\"closest\",\"hoverlabel\":{\"align\":\"left\"},\"paper_bgcolor\":\"white\",\"plot_bgcolor\":\"#E5ECF6\",\"polar\":{\"bgcolor\":\"#E5ECF6\",\"angularaxis\":{\"gridcolor\":\"white\",\"linecolor\":\"white\",\"ticks\":\"\"},\"radialaxis\":{\"gridcolor\":\"white\",\"linecolor\":\"white\",\"ticks\":\"\"}},\"ternary\":{\"bgcolor\":\"#E5ECF6\",\"aaxis\":{\"gridcolor\":\"white\",\"linecolor\":\"white\",\"ticks\":\"\"},\"baxis\":{\"gridcolor\":\"white\",\"linecolor\":\"white\",\"ticks\":\"\"},\"caxis\":{\"gridcolor\":\"white\",\"linecolor\":\"white\",\"ticks\":\"\"}},\"coloraxis\":{\"colorbar\":{\"outlinewidth\":0,\"ticks\":\"\"}},\"colorscale\":{\"sequential\":[[0.0,\"#0d0887\"],[0.1111111111111111,\"#46039f\"],[0.2222222222222222,\"#7201a8\"],[0.3333333333333333,\"#9c179e\"],[0.4444444444444444,\"#bd3786\"],[0.5555555555555556,\"#d8576b\"],[0.6666666666666666,\"#ed7953\"],[0.7777777777777778,\"#fb9f3a\"],[0.8888888888888888,\"#fdca26\"],[1.0,\"#f0f921\"]],\"sequentialminus\":[[0.0,\"#0d0887\"],[0.1111111111111111,\"#46039f\"],[0.2222222222222222,\"#7201a8\"],[0.3333333333333333,\"#9c179e\"],[0.4444444444444444,\"#bd3786\"],[0.5555555555555556,\"#d8576b\"],[0.6666666666666666,\"#ed7953\"],[0.7777777777777778,\"#fb9f3a\"],[0.8888888888888888,\"#fdca26\"],[1.0,\"#f0f921\"]],\"diverging\":[[0,\"#8e0152\"],[0.1,\"#c51b7d\"],[0.2,\"#de77ae\"],[0.3,\"#f1b6da\"],[0.4,\"#fde0ef\"],[0.5,\"#f7f7f7\"],[0.6,\"#e6f5d0\"],[0.7,\"#b8e186\"],[0.8,\"#7fbc41\"],[0.9,\"#4d9221\"],[1,\"#276419\"]]},\"xaxis\":{\"gridcolor\":\"white\",\"linecolor\":\"white\",\"ticks\":\"\",\"title\":{\"standoff\":15},\"zerolinecolor\":\"white\",\"automargin\":true,\"zerolinewidth\":2},\"yaxis\":{\"gridcolor\":\"white\",\"linecolor\":\"white\",\"ticks\":\"\",\"title\":{\"standoff\":15},\"zerolinecolor\":\"white\",\"automargin\":true,\"zerolinewidth\":2},\"scene\":{\"xaxis\":{\"backgroundcolor\":\"#E5ECF6\",\"gridcolor\":\"white\",\"linecolor\":\"white\",\"showbackground\":true,\"ticks\":\"\",\"zerolinecolor\":\"white\",\"gridwidth\":2},\"yaxis\":{\"backgroundcolor\":\"#E5ECF6\",\"gridcolor\":\"white\",\"linecolor\":\"white\",\"showbackground\":true,\"ticks\":\"\",\"zerolinecolor\":\"white\",\"gridwidth\":2},\"zaxis\":{\"backgroundcolor\":\"#E5ECF6\",\"gridcolor\":\"white\",\"linecolor\":\"white\",\"showbackground\":true,\"ticks\":\"\",\"zerolinecolor\":\"white\",\"gridwidth\":2}},\"shapedefaults\":{\"line\":{\"color\":\"#2a3f5f\"}},\"annotationdefaults\":{\"arrowcolor\":\"#2a3f5f\",\"arrowhead\":0,\"arrowwidth\":1},\"geo\":{\"bgcolor\":\"white\",\"landcolor\":\"#E5ECF6\",\"subunitcolor\":\"white\",\"showland\":true,\"showlakes\":true,\"lakecolor\":\"white\"},\"title\":{\"x\":0.05},\"mapbox\":{\"style\":\"light\"}}},\"xaxis\":{\"anchor\":\"y\",\"domain\":[0.0,1.0],\"title\":{\"text\":\"Date\"},\"dtick\":\"M1\",\"tickformat\":\"%b\\n%Y\"},\"yaxis\":{\"anchor\":\"x\",\"domain\":[0.0,1.0],\"title\":{\"text\":\"value\"}},\"legend\":{\"title\":{\"text\":\"variable\"},\"tracegroupgap\":0},\"title\":{\"text\":\"Bitcoin ETP Logarithmic Returns from 2022-01-02 to 2022-03-01\"}},                        {\"responsive\": true}                    ).then(function(){\n",
       "                            \n",
       "var gd = document.getElementById('b0c0bcea-ddac-446c-b681-8df31b0a6ffa');\n",
       "var x = new MutationObserver(function (mutations, observer) {{\n",
       "        var display = window.getComputedStyle(gd).display;\n",
       "        if (!display || display === 'none') {{\n",
       "            console.log([gd, 'removed!']);\n",
       "            Plotly.purge(gd);\n",
       "            observer.disconnect();\n",
       "        }}\n",
       "}});\n",
       "\n",
       "// Listen for the removal of the full notebook cells\n",
       "var notebookContainer = gd.closest('#notebook-container');\n",
       "if (notebookContainer) {{\n",
       "    x.observe(notebookContainer, {childList: true});\n",
       "}}\n",
       "\n",
       "// Listen for the clearing of the current output cell\n",
       "var outputEl = gd.closest('.output');\n",
       "if (outputEl) {{\n",
       "    x.observe(outputEl, {childList: true});\n",
       "}}\n",
       "\n",
       "                        })                };                });            </script>        </div>"
      ]
     },
     "metadata": {},
     "output_type": "display_data"
    }
   ],
   "source": [
    "mask = (_results_df.Date >= _min_date) & (_results_df.Date <= _max_date) & (_results_df.ID == 'bitcoin')\n",
    "bench_mark_df = _results_df.loc[mask]\n",
    "bench_mark_df.sort_values(by=['Date'],inplace=True)\n",
    "\n",
    "# bench_mark_df.reset_index(inplace=True)\n",
    "\n",
    "_title = \"Bitcoin ETP Logarithmic Returns from \"+str(_min_date)+\" to \"+str(_max_date)\n",
    "fig = px.line(bench_mark_df, x=\"Date\", y=['simp_move_avg_market_cap'],\n",
    "#               color='red',\n",
    "              hover_data={\"Date\": \"|%B %d, %Y\"},\n",
    "              title=_title,)\n",
    "\n",
    "fig.update_xaxes(\n",
    "    dtick=\"M1\",\n",
    "    tickformat=\"%b\\n%Y\")\n",
    "fig.show()"
   ]
  },
  {
   "cell_type": "markdown",
   "id": "5831749a",
   "metadata": {},
   "source": [
    "## Indicator based Trading strategies\n",
    "\n",
    "### Momentum trading \n",
    "It assumes big moves will continue in the same direction. If the ETP weighted sum of returns is above a moving average, an uptrend is indicated. Directional Movement Index (DMI) is a technical indicator used by traders to help identify the strength of an uptrend or a downtrend in the market. The Average Direction Index (ADX) provides an indicator of the relative strength of the directional trend indicated by the Positive Direction Indicator (DI+) and the Negative Direction Indicator (DI-). Momentum trade can potentially reap big gains because getting in relatively early to a strong price trend is highly profitable.\n",
    "\n",
    "### Mean reversion strategy\n",
    "It allows traders to determine whether big moves will partly reverse or not. It assumes that the price of a stock always tends to move closer to the average price over time because most extreme events are often trailed by a period of normalization. Example - If the index droped 20% this month, the mean reversion theory would predict it will fall less than that percentage the following month. Use the [Relative Strength Index](https://phemex.com/academy/rsi-indicator-crypto-trading) (RSI) to complement their mean reversion strategy.\n",
    "      * RSI is useful because it helps them determine which asset exhibits overbought or oversold price levels.\n",
    "      * RSI Value >70% = Overbought, RSI Value <30% = Oversold\n",
    "      * core of this indicator is based on the average upward market cap change vs. the average downward market cap change for a given period of time.\n",
    "      * RSI = 100 – (100/1 + RS)\n",
    "  We look at correlated assets to confirm the prediction. The quintessential mean reversion trading strategy has low-profit expectations and high frequency.\n"
   ]
  },
  {
   "cell_type": "markdown",
   "id": "0bf15e8c",
   "metadata": {},
   "source": [
    "## Instantiate ETP Index class"
   ]
  },
  {
   "cell_type": "code",
   "execution_count": 34,
   "id": "679fc01a",
   "metadata": {},
   "outputs": [
    {
     "name": "stdout",
     "output_type": "stream",
     "text": [
      "All packages loaded successfully!\n",
      "All packages loaded successfully!\n",
      "['__class__', '__delattr__', '__dict__', '__dir__', '__doc__', '__eq__', '__format__', '__ge__', '__getattribute__', '__gt__', '__hash__', '__init__', '__init_subclass__', '__le__', '__lt__', '__module__', '__ne__', '__new__', '__reduce__', '__reduce_ex__', '__repr__', '__setattr__', '__sizeof__', '__str__', '__subclasshook__', '__weakref__', 'get_adx', 'get_value_index', 'name', 'p_val', 'rebalance_etp', 'sharp_ratio', 'sortino_ratio']\n"
     ]
    }
   ],
   "source": [
    "import sys\n",
    "sys.path.insert(1, '../lib')\n",
    "import clsIndex as perform\n",
    "\n",
    "if debug:\n",
    "    import importlib\n",
    "    perform = importlib.reload(perform)\n",
    "\n",
    "data_name = \"coindesk\"\n",
    "clsPerfIndex = perform.PortfolioPerformance(name=data_name)\n",
    "print(dir(clsPerfIndex))"
   ]
  },
  {
   "cell_type": "markdown",
   "id": "f6001eff",
   "metadata": {},
   "source": [
    "## Indicator based portfolio selection\n",
    "___Intent is to use the indicators to make decisions on portfolio asset selection and rebalancing using indicators___\n",
    "\n",
    "## ADX Indicator\n",
    "Average Directional Index (ADX) indicator determines the intensity or strength of a trend. It will ensure that we don't rebalance with a weaker trend because there is a high probability of reversal compared to a stronger trend. Hence, combining the rebalancing during a directional trades with a stronger trend will achieve higher [hit ratio](https://www.investopedia.com/terms/w/win-loss-ratio.asp) and higher ROR on the weighted ETP.\n",
    "\n",
    "* ADX consists of three indicators that measure a trend’s strength and direction - Direction Movement Index (DMI): ADX line, DI+ line, and DI- line. \n",
    "* The [calculated ADX](https://www.investopedia.com/terms/w/wilders-dmi-adx.asp#:~:text=The%20DMI%20is%20a%20collection,25%20indicates%20a%20strong%20trend.) value above 25 indicates that the trend is relatively strong and a value below 20 indicates that the trend is weak or that the markets are trading sideways\n",
    "   * When the DI+ line is on top of DI-, the markets are in a bullish trend. Conversely, when the DI- line is above the DI+ line, the markets are in a bearish trend.\n",
    "   * The ADX indicator helps traders calculate the expansion or contraction of an asset’s price range for a specific time.\n",
    "* The DMI and ADX values are determined based on the range of price movements during the last 14 trading periods.\n",
    "* Follow a similar process discussed in [Mathematical Intuition of the ADX Indicator: A Python Approach](https://blog.quantinsti.com/adx-indicator-python/)."
   ]
  },
  {
   "cell_type": "code",
   "execution_count": 72,
   "id": "f969deb3",
   "metadata": {},
   "outputs": [
    {
     "data": {
      "text/html": [
       "<div>\n",
       "<style scoped>\n",
       "    .dataframe tbody tr th:only-of-type {\n",
       "        vertical-align: middle;\n",
       "    }\n",
       "\n",
       "    .dataframe tbody tr th {\n",
       "        vertical-align: top;\n",
       "    }\n",
       "\n",
       "    .dataframe thead th {\n",
       "        text-align: right;\n",
       "    }\n",
       "</style>\n",
       "<table border=\"1\" class=\"dataframe\">\n",
       "  <thead>\n",
       "    <tr style=\"text-align: right;\">\n",
       "      <th></th>\n",
       "      <th>Date</th>\n",
       "      <th>ID</th>\n",
       "      <th>simp_move_avg_market_cap_ror</th>\n",
       "      <th>Symbol</th>\n",
       "      <th>market_cap</th>\n",
       "    </tr>\n",
       "  </thead>\n",
       "  <tbody>\n",
       "    <tr>\n",
       "      <th>4</th>\n",
       "      <td>2022-01-02</td>\n",
       "      <td>cardano</td>\n",
       "      <td>-0.023471</td>\n",
       "      <td>ada</td>\n",
       "      <td>4.420048e+10</td>\n",
       "    </tr>\n",
       "    <tr>\n",
       "      <th>3</th>\n",
       "      <td>2022-01-02</td>\n",
       "      <td>solana</td>\n",
       "      <td>-0.020416</td>\n",
       "      <td>sol</td>\n",
       "      <td>5.508964e+10</td>\n",
       "    </tr>\n",
       "    <tr>\n",
       "      <th>2</th>\n",
       "      <td>2022-01-02</td>\n",
       "      <td>bitcoin</td>\n",
       "      <td>-0.016054</td>\n",
       "      <td>btc</td>\n",
       "      <td>9.045519e+11</td>\n",
       "    </tr>\n",
       "    <tr>\n",
       "      <th>1</th>\n",
       "      <td>2022-01-02</td>\n",
       "      <td>litecoin</td>\n",
       "      <td>-0.015037</td>\n",
       "      <td>ltc</td>\n",
       "      <td>1.047364e+10</td>\n",
       "    </tr>\n",
       "    <tr>\n",
       "      <th>0</th>\n",
       "      <td>2022-01-02</td>\n",
       "      <td>ripple</td>\n",
       "      <td>-0.011720</td>\n",
       "      <td>xrp</td>\n",
       "      <td>4.045308e+10</td>\n",
       "    </tr>\n",
       "    <tr>\n",
       "      <th>...</th>\n",
       "      <td>...</td>\n",
       "      <td>...</td>\n",
       "      <td>...</td>\n",
       "      <td>...</td>\n",
       "      <td>...</td>\n",
       "    </tr>\n",
       "    <tr>\n",
       "      <th>109</th>\n",
       "      <td>2022-02-16</td>\n",
       "      <td>ethereum</td>\n",
       "      <td>-0.003065</td>\n",
       "      <td>eth</td>\n",
       "      <td>3.817911e+11</td>\n",
       "    </tr>\n",
       "    <tr>\n",
       "      <th>108</th>\n",
       "      <td>2022-02-16</td>\n",
       "      <td>bitcoin</td>\n",
       "      <td>-0.001907</td>\n",
       "      <td>btc</td>\n",
       "      <td>8.483213e+11</td>\n",
       "    </tr>\n",
       "    <tr>\n",
       "      <th>112</th>\n",
       "      <td>2022-03-01</td>\n",
       "      <td>solana</td>\n",
       "      <td>-0.025738</td>\n",
       "      <td>sol</td>\n",
       "      <td>3.184609e+10</td>\n",
       "    </tr>\n",
       "    <tr>\n",
       "      <th>111</th>\n",
       "      <td>2022-03-01</td>\n",
       "      <td>ethereum</td>\n",
       "      <td>-0.017881</td>\n",
       "      <td>eth</td>\n",
       "      <td>3.490563e+11</td>\n",
       "    </tr>\n",
       "    <tr>\n",
       "      <th>110</th>\n",
       "      <td>2022-03-01</td>\n",
       "      <td>ripple</td>\n",
       "      <td>-0.014388</td>\n",
       "      <td>xrp</td>\n",
       "      <td>3.750062e+10</td>\n",
       "    </tr>\n",
       "  </tbody>\n",
       "</table>\n",
       "<p>113 rows × 5 columns</p>\n",
       "</div>"
      ],
      "text/plain": [
       "           Date        ID  simp_move_avg_market_cap_ror Symbol    market_cap\n",
       "4    2022-01-02   cardano                     -0.023471    ada  4.420048e+10\n",
       "3    2022-01-02    solana                     -0.020416    sol  5.508964e+10\n",
       "2    2022-01-02   bitcoin                     -0.016054    btc  9.045519e+11\n",
       "1    2022-01-02  litecoin                     -0.015037    ltc  1.047364e+10\n",
       "0    2022-01-02    ripple                     -0.011720    xrp  4.045308e+10\n",
       "..          ...       ...                           ...    ...           ...\n",
       "109  2022-02-16  ethereum                     -0.003065    eth  3.817911e+11\n",
       "108  2022-02-16   bitcoin                     -0.001907    btc  8.483213e+11\n",
       "112  2022-03-01    solana                     -0.025738    sol  3.184609e+10\n",
       "111  2022-03-01  ethereum                     -0.017881    eth  3.490563e+11\n",
       "110  2022-03-01    ripple                     -0.014388    xrp  3.750062e+10\n",
       "\n",
       "[113 rows x 5 columns]"
      ]
     },
     "execution_count": 72,
     "metadata": {},
     "output_type": "execute_result"
    }
   ],
   "source": [
    "_merged_actual_ror"
   ]
  },
  {
   "cell_type": "code",
   "execution_count": 35,
   "id": "b332ca08",
   "metadata": {},
   "outputs": [
    {
     "name": "stdout",
     "output_type": "stream",
     "text": [
      "All packages in ExtractLoadTransform loaded successfully!\n",
      "Index(['index', 'Date', 'ID', 'Symbol', 'market_cap',\n",
      "       'simp_move_avg_market_cap', 'simp_move_std_market_cap',\n",
      "       'simp_move_sum_market_cap', 'momentum_market_cap',\n",
      "       'simp_move_avg_market_cap_ror'],\n",
      "      dtype='object')\n",
      "All packages in ExtractLoadTransform loaded successfully!\n",
      "    index        Date       ID Symbol    market_cap  simp_move_avg_market_cap  \\\n",
      "0       0  2022-03-01  bitcoin    btc  8.190194e+11              7.410096e+11   \n",
      "61      0  2022-01-01  bitcoin    btc  8.761929e+11              8.761929e+11   \n",
      "62      1  2022-01-02  bitcoin    btc  9.045519e+11              8.903724e+11   \n",
      "63      2  2022-01-03  bitcoin    btc  8.975361e+11              8.927603e+11   \n",
      "64      3  2022-01-04  bitcoin    btc  8.803302e+11              8.896528e+11   \n",
      "\n",
      "    simp_move_std_market_cap  simp_move_sum_market_cap  momentum_market_cap  \\\n",
      "0               3.665766e+10              5.187067e+12         4.567666e+09   \n",
      "61                       NaN              8.761929e+11                  NaN   \n",
      "62              2.005284e+10              1.780745e+12         2.835901e+10   \n",
      "63              1.477038e+10              2.678281e+12         5.570599e+09   \n",
      "64              1.356724e+10              3.558611e+12         1.422513e+06   \n",
      "\n",
      "    simp_move_avg_market_cap_ror  ...  simp_move_sum_+DM  simp_move_avg_+DM  \\\n",
      "0                            NaN  ...           0.064588           0.009227   \n",
      "61                      0.167573  ...           0.000000           0.000000   \n",
      "62                      0.016054  ...           0.000000           0.000000   \n",
      "63                      0.002678  ...           0.000000           0.000000   \n",
      "64                     -0.003487  ...           0.003487           0.000872   \n",
      "\n",
      "    simp_move_sum_-DM  simp_move_avg_-DM  shift_+DM  shift_-DM  smooth+DM  \\\n",
      "0       -3.469447e-18           0.000000        0.0   0.000000   0.055361   \n",
      "61       1.675727e-01           0.167573        0.0   0.000000   0.000000   \n",
      "62       1.836262e-01           0.091813        0.0   0.167573   0.000000   \n",
      "63       1.863046e-01           0.062102        0.0   0.016054   0.000000   \n",
      "64       1.863046e-01           0.046576        0.0   0.002678   0.002615   \n",
      "\n",
      "       smooth-DM       +DI       -DI  \n",
      "0  -3.469447e-18  0.166667 -0.000000  \n",
      "61  0.000000e+00       NaN       inf  \n",
      "62  2.593858e-01       NaN  0.353964  \n",
      "63  1.402566e-01       NaN  0.442771  \n",
      "64  1.424067e-01  0.333333  0.327064  \n",
      "\n",
      "[5 rows x 22 columns]\n"
     ]
    }
   ],
   "source": [
    "''' Create ADX relevant columns '''\n",
    "\n",
    "_value_col_name = 'simp_move_avg_market_cap_ror'\n",
    "\n",
    "if debug:\n",
    "    import importlib\n",
    "    etl = importlib.reload(etl)\n",
    "\n",
    "''' ADX function is defined in clsIndex.get_adx() It will return \n",
    "    a time series dataframe with daily ADX, +DI, and -DI values '''\n",
    "''' Set the data source and temporal range '''\n",
    "_start_dt = actual_log_ror.Date.min()\n",
    "_end_dt = actual_log_ror.Date.max()\n",
    "adx_df = clsPerfIndex.get_adx(ticker_data=actual_log_ror,\n",
    "                            rolling_window_length=7,\n",
    "                            value_col_name=_value_col_name,\n",
    "                            window_start_date = _start_dt,\n",
    "                            window_end_date = _end_dt,\n",
    "                            )\n",
    "print(adx_df.head(5))\n",
    "# print(adx_df.info())\n",
    "# adx_df.to_csv(\"../data/adx.csv\")"
   ]
  },
  {
   "cell_type": "code",
   "execution_count": 38,
   "id": "5da5381f",
   "metadata": {},
   "outputs": [
    {
     "name": "stderr",
     "output_type": "stream",
     "text": [
      "/tmp/ipykernel_58923/81068791.py:3: SettingWithCopyWarning:\n",
      "\n",
      "\n",
      "A value is trying to be set on a copy of a slice from a DataFrame\n",
      "\n",
      "See the caveats in the documentation: https://pandas.pydata.org/pandas-docs/stable/user_guide/indexing.html#returning-a-view-versus-a-copy\n",
      "\n"
     ]
    },
    {
     "data": {
      "application/vnd.plotly.v1+json": {
       "config": {
        "plotlyServerURL": "https://plot.ly"
       },
       "data": [
        {
         "customdata": [
          [
           "bitcoin"
          ],
          [
           "bitcoin"
          ],
          [
           "bitcoin"
          ],
          [
           "bitcoin"
          ],
          [
           "bitcoin"
          ],
          [
           "bitcoin"
          ],
          [
           "bitcoin"
          ],
          [
           "bitcoin"
          ],
          [
           "bitcoin"
          ],
          [
           "bitcoin"
          ],
          [
           "bitcoin"
          ],
          [
           "bitcoin"
          ],
          [
           "bitcoin"
          ],
          [
           "bitcoin"
          ],
          [
           "bitcoin"
          ],
          [
           "bitcoin"
          ],
          [
           "bitcoin"
          ],
          [
           "bitcoin"
          ],
          [
           "bitcoin"
          ],
          [
           "bitcoin"
          ],
          [
           "bitcoin"
          ],
          [
           "bitcoin"
          ],
          [
           "bitcoin"
          ],
          [
           "bitcoin"
          ],
          [
           "bitcoin"
          ],
          [
           "bitcoin"
          ],
          [
           "bitcoin"
          ],
          [
           "bitcoin"
          ],
          [
           "bitcoin"
          ],
          [
           "bitcoin"
          ],
          [
           "bitcoin"
          ],
          [
           "bitcoin"
          ],
          [
           "bitcoin"
          ],
          [
           "bitcoin"
          ],
          [
           "bitcoin"
          ],
          [
           "bitcoin"
          ],
          [
           "bitcoin"
          ],
          [
           "bitcoin"
          ],
          [
           "bitcoin"
          ],
          [
           "bitcoin"
          ],
          [
           "bitcoin"
          ],
          [
           "bitcoin"
          ],
          [
           "bitcoin"
          ],
          [
           "bitcoin"
          ],
          [
           "bitcoin"
          ],
          [
           "bitcoin"
          ],
          [
           "bitcoin"
          ],
          [
           "bitcoin"
          ],
          [
           "bitcoin"
          ],
          [
           "bitcoin"
          ],
          [
           "bitcoin"
          ],
          [
           "bitcoin"
          ],
          [
           "bitcoin"
          ],
          [
           "bitcoin"
          ],
          [
           "bitcoin"
          ],
          [
           "bitcoin"
          ],
          [
           "bitcoin"
          ],
          [
           "bitcoin"
          ],
          [
           "bitcoin"
          ],
          [
           "bitcoin"
          ]
         ],
         "hovertemplate": "variable=smooth+DM<br>Date=%{x|%B %d, %Y}<br>value=%{y}<br>ID=%{customdata[0]}<extra></extra>",
         "legendgroup": "smooth+DM",
         "line": {
          "color": "#636efa",
          "dash": "solid"
         },
         "marker": {
          "symbol": "circle"
         },
         "mode": "lines",
         "name": "smooth+DM",
         "orientation": "v",
         "showlegend": true,
         "type": "scatter",
         "x": [
          "2022-01-01",
          "2022-01-02",
          "2022-01-03",
          "2022-01-04",
          "2022-01-05",
          "2022-01-06",
          "2022-01-07",
          "2022-01-08",
          "2022-01-09",
          "2022-01-10",
          "2022-01-11",
          "2022-01-12",
          "2022-01-13",
          "2022-01-14",
          "2022-01-15",
          "2022-01-16",
          "2022-01-17",
          "2022-01-18",
          "2022-01-19",
          "2022-01-20",
          "2022-01-21",
          "2022-01-22",
          "2022-01-23",
          "2022-01-24",
          "2022-01-25",
          "2022-01-26",
          "2022-01-27",
          "2022-01-28",
          "2022-01-29",
          "2022-01-30",
          "2022-01-31",
          "2022-02-01",
          "2022-02-02",
          "2022-02-03",
          "2022-02-04",
          "2022-02-05",
          "2022-02-06",
          "2022-02-07",
          "2022-02-08",
          "2022-02-09",
          "2022-02-10",
          "2022-02-11",
          "2022-02-12",
          "2022-02-13",
          "2022-02-14",
          "2022-02-15",
          "2022-02-16",
          "2022-02-17",
          "2022-02-18",
          "2022-02-19",
          "2022-02-20",
          "2022-02-21",
          "2022-02-22",
          "2022-02-23",
          "2022-02-24",
          "2022-02-25",
          "2022-02-26",
          "2022-02-27",
          "2022-02-28",
          "2022-03-01"
         ],
         "xaxis": "x",
         "y": [
          0,
          0,
          0,
          0.002615165401853229,
          0.008691785537161432,
          0.017770486373774323,
          0.03444366506038815,
          0.04522751996482465,
          0.06657557587021415,
          0.08630111050255272,
          0.0958205834505522,
          0.10050377429034607,
          0.08735026898857418,
          0.06947796711572392,
          0.05923563164952914,
          0.04080136558630999,
          0.02523049176860568,
          0.012082929849191796,
          0.002836286872577004,
          0.010169618774036649,
          0.019497193636455693,
          0.036843341318697265,
          0.07711346539312461,
          0.10361216424613579,
          0.11753457016764729,
          0.1300232651131412,
          0.13950967030111938,
          0.14499755694469624,
          0.12251253185877133,
          0.08396619675231413,
          0.06306644813433242,
          0.04574420374443081,
          0.028230092460418042,
          0.01262780505416175,
          0,
          0,
          0,
          0,
          0,
          0,
          0,
          0,
          0,
          0,
          0.0004299752048751512,
          0.004686868213047145,
          0.00856636162136895,
          0.0049460338187808425,
          0.014386871936197506,
          0.030130897088041245,
          0.03373986609667068,
          0.043414409062242226,
          0.062297286517715995,
          0.08808566509392107,
          0.11162260244905431,
          0.11187344405114735,
          0.09145400670221132,
          0.08355927661194053,
          0.0758798936500444,
          0.05536103525870852
         ],
         "yaxis": "y"
        },
        {
         "customdata": [
          [
           "bitcoin"
          ],
          [
           "bitcoin"
          ],
          [
           "bitcoin"
          ],
          [
           "bitcoin"
          ],
          [
           "bitcoin"
          ],
          [
           "bitcoin"
          ],
          [
           "bitcoin"
          ],
          [
           "bitcoin"
          ],
          [
           "bitcoin"
          ],
          [
           "bitcoin"
          ],
          [
           "bitcoin"
          ],
          [
           "bitcoin"
          ],
          [
           "bitcoin"
          ],
          [
           "bitcoin"
          ],
          [
           "bitcoin"
          ],
          [
           "bitcoin"
          ],
          [
           "bitcoin"
          ],
          [
           "bitcoin"
          ],
          [
           "bitcoin"
          ],
          [
           "bitcoin"
          ],
          [
           "bitcoin"
          ],
          [
           "bitcoin"
          ],
          [
           "bitcoin"
          ],
          [
           "bitcoin"
          ],
          [
           "bitcoin"
          ],
          [
           "bitcoin"
          ],
          [
           "bitcoin"
          ],
          [
           "bitcoin"
          ],
          [
           "bitcoin"
          ],
          [
           "bitcoin"
          ],
          [
           "bitcoin"
          ],
          [
           "bitcoin"
          ],
          [
           "bitcoin"
          ],
          [
           "bitcoin"
          ],
          [
           "bitcoin"
          ],
          [
           "bitcoin"
          ],
          [
           "bitcoin"
          ],
          [
           "bitcoin"
          ],
          [
           "bitcoin"
          ],
          [
           "bitcoin"
          ],
          [
           "bitcoin"
          ],
          [
           "bitcoin"
          ],
          [
           "bitcoin"
          ],
          [
           "bitcoin"
          ],
          [
           "bitcoin"
          ],
          [
           "bitcoin"
          ],
          [
           "bitcoin"
          ],
          [
           "bitcoin"
          ],
          [
           "bitcoin"
          ],
          [
           "bitcoin"
          ],
          [
           "bitcoin"
          ],
          [
           "bitcoin"
          ],
          [
           "bitcoin"
          ],
          [
           "bitcoin"
          ],
          [
           "bitcoin"
          ],
          [
           "bitcoin"
          ],
          [
           "bitcoin"
          ],
          [
           "bitcoin"
          ],
          [
           "bitcoin"
          ],
          [
           "bitcoin"
          ]
         ],
         "hovertemplate": "variable=smooth-DM<br>Date=%{x|%B %d, %Y}<br>value=%{y}<br>ID=%{customdata[0]}<extra></extra>",
         "legendgroup": "smooth-DM",
         "line": {
          "color": "#EF553B",
          "dash": "solid"
         },
         "marker": {
          "symbol": "circle"
         },
         "mode": "lines",
         "name": "smooth-DM",
         "orientation": "v",
         "showlegend": true,
         "type": "scatter",
         "x": [
          "2022-01-01",
          "2022-01-02",
          "2022-01-03",
          "2022-01-04",
          "2022-01-05",
          "2022-01-06",
          "2022-01-07",
          "2022-01-08",
          "2022-01-09",
          "2022-01-10",
          "2022-01-11",
          "2022-01-12",
          "2022-01-13",
          "2022-01-14",
          "2022-01-15",
          "2022-01-16",
          "2022-01-17",
          "2022-01-18",
          "2022-01-19",
          "2022-01-20",
          "2022-01-21",
          "2022-01-22",
          "2022-01-23",
          "2022-01-24",
          "2022-01-25",
          "2022-01-26",
          "2022-01-27",
          "2022-01-28",
          "2022-01-29",
          "2022-01-30",
          "2022-01-31",
          "2022-02-01",
          "2022-02-02",
          "2022-02-03",
          "2022-02-04",
          "2022-02-05",
          "2022-02-06",
          "2022-02-07",
          "2022-02-08",
          "2022-02-09",
          "2022-02-10",
          "2022-02-11",
          "2022-02-12",
          "2022-02-13",
          "2022-02-14",
          "2022-02-15",
          "2022-02-16",
          "2022-02-17",
          "2022-02-18",
          "2022-02-19",
          "2022-02-20",
          "2022-02-21",
          "2022-02-22",
          "2022-02-23",
          "2022-02-24",
          "2022-02-25",
          "2022-02-26",
          "2022-02-27",
          "2022-02-28",
          "2022-03-01"
         ],
         "xaxis": "x",
         "y": [
          0,
          0.2593858423598537,
          0.14025656598835534,
          0.14240671446075315,
          0.14904364071842158,
          0.15525379241502246,
          0.15968961505545168,
          0.016055857151631697,
          0.0022956868176282337,
          0,
          0,
          0,
          0.0007219481556263495,
          0.0015642210038570906,
          0.005046722496526654,
          0.013716933830911462,
          0.016625380493901675,
          0.018009412089317348,
          0.015141003993343458,
          0.01294131725814519,
          0.01294131725814519,
          0.008616542917244884,
          0.0049919016472437655,
          0.0012666330682045014,
          -8.673617379884035e-19,
          -8.673617379884035e-19,
          -8.673617379884035e-19,
          -8.673617379884035e-19,
          0.004264667293766079,
          0.019145295932533817,
          0.03127394265704682,
          0.03160779606888606,
          0.03753623994315709,
          0.03839265306614981,
          0.03151145624969095,
          0.03751399091731925,
          0.0500271633580879,
          0.05903792278540951,
          0.07475717305375174,
          0.08828624191465906,
          0.10892058256596512,
          0.13435294107874018,
          0.12450973785801726,
          0.09851427306076078,
          0.08212648036639963,
          0.06272197535021623,
          0.04825288874821526,
          0.028285089124801682,
          0.007561134317807736,
          0.003612908412519343,
          0.0016341760997795809,
          0.0016341760997795809,
          0.0016341760997795809,
          -3.469446951953614e-18,
          -3.469446951953614e-18,
          -3.469446951953614e-18,
          -3.469446951953614e-18,
          -3.469446951953614e-18,
          -3.469446951953614e-18,
          -3.469446951953614e-18
         ],
         "yaxis": "y"
        }
       ],
       "layout": {
        "legend": {
         "title": {
          "text": "variable"
         },
         "tracegroupgap": 0
        },
        "template": {
         "data": {
          "bar": [
           {
            "error_x": {
             "color": "#2a3f5f"
            },
            "error_y": {
             "color": "#2a3f5f"
            },
            "marker": {
             "line": {
              "color": "#E5ECF6",
              "width": 0.5
             },
             "pattern": {
              "fillmode": "overlay",
              "size": 10,
              "solidity": 0.2
             }
            },
            "type": "bar"
           }
          ],
          "barpolar": [
           {
            "marker": {
             "line": {
              "color": "#E5ECF6",
              "width": 0.5
             },
             "pattern": {
              "fillmode": "overlay",
              "size": 10,
              "solidity": 0.2
             }
            },
            "type": "barpolar"
           }
          ],
          "carpet": [
           {
            "aaxis": {
             "endlinecolor": "#2a3f5f",
             "gridcolor": "white",
             "linecolor": "white",
             "minorgridcolor": "white",
             "startlinecolor": "#2a3f5f"
            },
            "baxis": {
             "endlinecolor": "#2a3f5f",
             "gridcolor": "white",
             "linecolor": "white",
             "minorgridcolor": "white",
             "startlinecolor": "#2a3f5f"
            },
            "type": "carpet"
           }
          ],
          "choropleth": [
           {
            "colorbar": {
             "outlinewidth": 0,
             "ticks": ""
            },
            "type": "choropleth"
           }
          ],
          "contour": [
           {
            "colorbar": {
             "outlinewidth": 0,
             "ticks": ""
            },
            "colorscale": [
             [
              0,
              "#0d0887"
             ],
             [
              0.1111111111111111,
              "#46039f"
             ],
             [
              0.2222222222222222,
              "#7201a8"
             ],
             [
              0.3333333333333333,
              "#9c179e"
             ],
             [
              0.4444444444444444,
              "#bd3786"
             ],
             [
              0.5555555555555556,
              "#d8576b"
             ],
             [
              0.6666666666666666,
              "#ed7953"
             ],
             [
              0.7777777777777778,
              "#fb9f3a"
             ],
             [
              0.8888888888888888,
              "#fdca26"
             ],
             [
              1,
              "#f0f921"
             ]
            ],
            "type": "contour"
           }
          ],
          "contourcarpet": [
           {
            "colorbar": {
             "outlinewidth": 0,
             "ticks": ""
            },
            "type": "contourcarpet"
           }
          ],
          "heatmap": [
           {
            "colorbar": {
             "outlinewidth": 0,
             "ticks": ""
            },
            "colorscale": [
             [
              0,
              "#0d0887"
             ],
             [
              0.1111111111111111,
              "#46039f"
             ],
             [
              0.2222222222222222,
              "#7201a8"
             ],
             [
              0.3333333333333333,
              "#9c179e"
             ],
             [
              0.4444444444444444,
              "#bd3786"
             ],
             [
              0.5555555555555556,
              "#d8576b"
             ],
             [
              0.6666666666666666,
              "#ed7953"
             ],
             [
              0.7777777777777778,
              "#fb9f3a"
             ],
             [
              0.8888888888888888,
              "#fdca26"
             ],
             [
              1,
              "#f0f921"
             ]
            ],
            "type": "heatmap"
           }
          ],
          "heatmapgl": [
           {
            "colorbar": {
             "outlinewidth": 0,
             "ticks": ""
            },
            "colorscale": [
             [
              0,
              "#0d0887"
             ],
             [
              0.1111111111111111,
              "#46039f"
             ],
             [
              0.2222222222222222,
              "#7201a8"
             ],
             [
              0.3333333333333333,
              "#9c179e"
             ],
             [
              0.4444444444444444,
              "#bd3786"
             ],
             [
              0.5555555555555556,
              "#d8576b"
             ],
             [
              0.6666666666666666,
              "#ed7953"
             ],
             [
              0.7777777777777778,
              "#fb9f3a"
             ],
             [
              0.8888888888888888,
              "#fdca26"
             ],
             [
              1,
              "#f0f921"
             ]
            ],
            "type": "heatmapgl"
           }
          ],
          "histogram": [
           {
            "marker": {
             "pattern": {
              "fillmode": "overlay",
              "size": 10,
              "solidity": 0.2
             }
            },
            "type": "histogram"
           }
          ],
          "histogram2d": [
           {
            "colorbar": {
             "outlinewidth": 0,
             "ticks": ""
            },
            "colorscale": [
             [
              0,
              "#0d0887"
             ],
             [
              0.1111111111111111,
              "#46039f"
             ],
             [
              0.2222222222222222,
              "#7201a8"
             ],
             [
              0.3333333333333333,
              "#9c179e"
             ],
             [
              0.4444444444444444,
              "#bd3786"
             ],
             [
              0.5555555555555556,
              "#d8576b"
             ],
             [
              0.6666666666666666,
              "#ed7953"
             ],
             [
              0.7777777777777778,
              "#fb9f3a"
             ],
             [
              0.8888888888888888,
              "#fdca26"
             ],
             [
              1,
              "#f0f921"
             ]
            ],
            "type": "histogram2d"
           }
          ],
          "histogram2dcontour": [
           {
            "colorbar": {
             "outlinewidth": 0,
             "ticks": ""
            },
            "colorscale": [
             [
              0,
              "#0d0887"
             ],
             [
              0.1111111111111111,
              "#46039f"
             ],
             [
              0.2222222222222222,
              "#7201a8"
             ],
             [
              0.3333333333333333,
              "#9c179e"
             ],
             [
              0.4444444444444444,
              "#bd3786"
             ],
             [
              0.5555555555555556,
              "#d8576b"
             ],
             [
              0.6666666666666666,
              "#ed7953"
             ],
             [
              0.7777777777777778,
              "#fb9f3a"
             ],
             [
              0.8888888888888888,
              "#fdca26"
             ],
             [
              1,
              "#f0f921"
             ]
            ],
            "type": "histogram2dcontour"
           }
          ],
          "mesh3d": [
           {
            "colorbar": {
             "outlinewidth": 0,
             "ticks": ""
            },
            "type": "mesh3d"
           }
          ],
          "parcoords": [
           {
            "line": {
             "colorbar": {
              "outlinewidth": 0,
              "ticks": ""
             }
            },
            "type": "parcoords"
           }
          ],
          "pie": [
           {
            "automargin": true,
            "type": "pie"
           }
          ],
          "scatter": [
           {
            "fillpattern": {
             "fillmode": "overlay",
             "size": 10,
             "solidity": 0.2
            },
            "type": "scatter"
           }
          ],
          "scatter3d": [
           {
            "line": {
             "colorbar": {
              "outlinewidth": 0,
              "ticks": ""
             }
            },
            "marker": {
             "colorbar": {
              "outlinewidth": 0,
              "ticks": ""
             }
            },
            "type": "scatter3d"
           }
          ],
          "scattercarpet": [
           {
            "marker": {
             "colorbar": {
              "outlinewidth": 0,
              "ticks": ""
             }
            },
            "type": "scattercarpet"
           }
          ],
          "scattergeo": [
           {
            "marker": {
             "colorbar": {
              "outlinewidth": 0,
              "ticks": ""
             }
            },
            "type": "scattergeo"
           }
          ],
          "scattergl": [
           {
            "marker": {
             "colorbar": {
              "outlinewidth": 0,
              "ticks": ""
             }
            },
            "type": "scattergl"
           }
          ],
          "scattermapbox": [
           {
            "marker": {
             "colorbar": {
              "outlinewidth": 0,
              "ticks": ""
             }
            },
            "type": "scattermapbox"
           }
          ],
          "scatterpolar": [
           {
            "marker": {
             "colorbar": {
              "outlinewidth": 0,
              "ticks": ""
             }
            },
            "type": "scatterpolar"
           }
          ],
          "scatterpolargl": [
           {
            "marker": {
             "colorbar": {
              "outlinewidth": 0,
              "ticks": ""
             }
            },
            "type": "scatterpolargl"
           }
          ],
          "scatterternary": [
           {
            "marker": {
             "colorbar": {
              "outlinewidth": 0,
              "ticks": ""
             }
            },
            "type": "scatterternary"
           }
          ],
          "surface": [
           {
            "colorbar": {
             "outlinewidth": 0,
             "ticks": ""
            },
            "colorscale": [
             [
              0,
              "#0d0887"
             ],
             [
              0.1111111111111111,
              "#46039f"
             ],
             [
              0.2222222222222222,
              "#7201a8"
             ],
             [
              0.3333333333333333,
              "#9c179e"
             ],
             [
              0.4444444444444444,
              "#bd3786"
             ],
             [
              0.5555555555555556,
              "#d8576b"
             ],
             [
              0.6666666666666666,
              "#ed7953"
             ],
             [
              0.7777777777777778,
              "#fb9f3a"
             ],
             [
              0.8888888888888888,
              "#fdca26"
             ],
             [
              1,
              "#f0f921"
             ]
            ],
            "type": "surface"
           }
          ],
          "table": [
           {
            "cells": {
             "fill": {
              "color": "#EBF0F8"
             },
             "line": {
              "color": "white"
             }
            },
            "header": {
             "fill": {
              "color": "#C8D4E3"
             },
             "line": {
              "color": "white"
             }
            },
            "type": "table"
           }
          ]
         },
         "layout": {
          "annotationdefaults": {
           "arrowcolor": "#2a3f5f",
           "arrowhead": 0,
           "arrowwidth": 1
          },
          "autotypenumbers": "strict",
          "coloraxis": {
           "colorbar": {
            "outlinewidth": 0,
            "ticks": ""
           }
          },
          "colorscale": {
           "diverging": [
            [
             0,
             "#8e0152"
            ],
            [
             0.1,
             "#c51b7d"
            ],
            [
             0.2,
             "#de77ae"
            ],
            [
             0.3,
             "#f1b6da"
            ],
            [
             0.4,
             "#fde0ef"
            ],
            [
             0.5,
             "#f7f7f7"
            ],
            [
             0.6,
             "#e6f5d0"
            ],
            [
             0.7,
             "#b8e186"
            ],
            [
             0.8,
             "#7fbc41"
            ],
            [
             0.9,
             "#4d9221"
            ],
            [
             1,
             "#276419"
            ]
           ],
           "sequential": [
            [
             0,
             "#0d0887"
            ],
            [
             0.1111111111111111,
             "#46039f"
            ],
            [
             0.2222222222222222,
             "#7201a8"
            ],
            [
             0.3333333333333333,
             "#9c179e"
            ],
            [
             0.4444444444444444,
             "#bd3786"
            ],
            [
             0.5555555555555556,
             "#d8576b"
            ],
            [
             0.6666666666666666,
             "#ed7953"
            ],
            [
             0.7777777777777778,
             "#fb9f3a"
            ],
            [
             0.8888888888888888,
             "#fdca26"
            ],
            [
             1,
             "#f0f921"
            ]
           ],
           "sequentialminus": [
            [
             0,
             "#0d0887"
            ],
            [
             0.1111111111111111,
             "#46039f"
            ],
            [
             0.2222222222222222,
             "#7201a8"
            ],
            [
             0.3333333333333333,
             "#9c179e"
            ],
            [
             0.4444444444444444,
             "#bd3786"
            ],
            [
             0.5555555555555556,
             "#d8576b"
            ],
            [
             0.6666666666666666,
             "#ed7953"
            ],
            [
             0.7777777777777778,
             "#fb9f3a"
            ],
            [
             0.8888888888888888,
             "#fdca26"
            ],
            [
             1,
             "#f0f921"
            ]
           ]
          },
          "colorway": [
           "#636efa",
           "#EF553B",
           "#00cc96",
           "#ab63fa",
           "#FFA15A",
           "#19d3f3",
           "#FF6692",
           "#B6E880",
           "#FF97FF",
           "#FECB52"
          ],
          "font": {
           "color": "#2a3f5f"
          },
          "geo": {
           "bgcolor": "white",
           "lakecolor": "white",
           "landcolor": "#E5ECF6",
           "showlakes": true,
           "showland": true,
           "subunitcolor": "white"
          },
          "hoverlabel": {
           "align": "left"
          },
          "hovermode": "closest",
          "mapbox": {
           "style": "light"
          },
          "paper_bgcolor": "white",
          "plot_bgcolor": "#E5ECF6",
          "polar": {
           "angularaxis": {
            "gridcolor": "white",
            "linecolor": "white",
            "ticks": ""
           },
           "bgcolor": "#E5ECF6",
           "radialaxis": {
            "gridcolor": "white",
            "linecolor": "white",
            "ticks": ""
           }
          },
          "scene": {
           "xaxis": {
            "backgroundcolor": "#E5ECF6",
            "gridcolor": "white",
            "gridwidth": 2,
            "linecolor": "white",
            "showbackground": true,
            "ticks": "",
            "zerolinecolor": "white"
           },
           "yaxis": {
            "backgroundcolor": "#E5ECF6",
            "gridcolor": "white",
            "gridwidth": 2,
            "linecolor": "white",
            "showbackground": true,
            "ticks": "",
            "zerolinecolor": "white"
           },
           "zaxis": {
            "backgroundcolor": "#E5ECF6",
            "gridcolor": "white",
            "gridwidth": 2,
            "linecolor": "white",
            "showbackground": true,
            "ticks": "",
            "zerolinecolor": "white"
           }
          },
          "shapedefaults": {
           "line": {
            "color": "#2a3f5f"
           }
          },
          "ternary": {
           "aaxis": {
            "gridcolor": "white",
            "linecolor": "white",
            "ticks": ""
           },
           "baxis": {
            "gridcolor": "white",
            "linecolor": "white",
            "ticks": ""
           },
           "bgcolor": "#E5ECF6",
           "caxis": {
            "gridcolor": "white",
            "linecolor": "white",
            "ticks": ""
           }
          },
          "title": {
           "x": 0.05
          },
          "xaxis": {
           "automargin": true,
           "gridcolor": "white",
           "linecolor": "white",
           "ticks": "",
           "title": {
            "standoff": 15
           },
           "zerolinecolor": "white",
           "zerolinewidth": 2
          },
          "yaxis": {
           "automargin": true,
           "gridcolor": "white",
           "linecolor": "white",
           "ticks": "",
           "title": {
            "standoff": 15
           },
           "zerolinecolor": "white",
           "zerolinewidth": 2
          }
         }
        },
        "title": {
         "text": "Weighted ETP Logarithmic Returns from 2022-01-01 to 2022-03-01"
        },
        "xaxis": {
         "anchor": "y",
         "domain": [
          0,
          1
         ],
         "dtick": "M1",
         "tickformat": "%b\n%Y",
         "title": {
          "text": "Date"
         }
        },
        "yaxis": {
         "anchor": "x",
         "domain": [
          0,
          1
         ],
         "title": {
          "text": "value"
         }
        }
       }
      },
      "text/html": [
       "<div>                            <div id=\"0630ca9c-d970-48ef-8f89-a87e0759cb15\" class=\"plotly-graph-div\" style=\"height:525px; width:100%;\"></div>            <script type=\"text/javascript\">                require([\"plotly\"], function(Plotly) {                    window.PLOTLYENV=window.PLOTLYENV || {};                                    if (document.getElementById(\"0630ca9c-d970-48ef-8f89-a87e0759cb15\")) {                    Plotly.newPlot(                        \"0630ca9c-d970-48ef-8f89-a87e0759cb15\",                        [{\"customdata\":[[\"bitcoin\"],[\"bitcoin\"],[\"bitcoin\"],[\"bitcoin\"],[\"bitcoin\"],[\"bitcoin\"],[\"bitcoin\"],[\"bitcoin\"],[\"bitcoin\"],[\"bitcoin\"],[\"bitcoin\"],[\"bitcoin\"],[\"bitcoin\"],[\"bitcoin\"],[\"bitcoin\"],[\"bitcoin\"],[\"bitcoin\"],[\"bitcoin\"],[\"bitcoin\"],[\"bitcoin\"],[\"bitcoin\"],[\"bitcoin\"],[\"bitcoin\"],[\"bitcoin\"],[\"bitcoin\"],[\"bitcoin\"],[\"bitcoin\"],[\"bitcoin\"],[\"bitcoin\"],[\"bitcoin\"],[\"bitcoin\"],[\"bitcoin\"],[\"bitcoin\"],[\"bitcoin\"],[\"bitcoin\"],[\"bitcoin\"],[\"bitcoin\"],[\"bitcoin\"],[\"bitcoin\"],[\"bitcoin\"],[\"bitcoin\"],[\"bitcoin\"],[\"bitcoin\"],[\"bitcoin\"],[\"bitcoin\"],[\"bitcoin\"],[\"bitcoin\"],[\"bitcoin\"],[\"bitcoin\"],[\"bitcoin\"],[\"bitcoin\"],[\"bitcoin\"],[\"bitcoin\"],[\"bitcoin\"],[\"bitcoin\"],[\"bitcoin\"],[\"bitcoin\"],[\"bitcoin\"],[\"bitcoin\"],[\"bitcoin\"]],\"hovertemplate\":\"variable=smooth+DM<br>Date=%{x|%B %d, %Y}<br>value=%{y}<br>ID=%{customdata[0]}<extra></extra>\",\"legendgroup\":\"smooth+DM\",\"line\":{\"color\":\"#636efa\",\"dash\":\"solid\"},\"marker\":{\"symbol\":\"circle\"},\"mode\":\"lines\",\"name\":\"smooth+DM\",\"orientation\":\"v\",\"showlegend\":true,\"x\":[\"2022-01-01\",\"2022-01-02\",\"2022-01-03\",\"2022-01-04\",\"2022-01-05\",\"2022-01-06\",\"2022-01-07\",\"2022-01-08\",\"2022-01-09\",\"2022-01-10\",\"2022-01-11\",\"2022-01-12\",\"2022-01-13\",\"2022-01-14\",\"2022-01-15\",\"2022-01-16\",\"2022-01-17\",\"2022-01-18\",\"2022-01-19\",\"2022-01-20\",\"2022-01-21\",\"2022-01-22\",\"2022-01-23\",\"2022-01-24\",\"2022-01-25\",\"2022-01-26\",\"2022-01-27\",\"2022-01-28\",\"2022-01-29\",\"2022-01-30\",\"2022-01-31\",\"2022-02-01\",\"2022-02-02\",\"2022-02-03\",\"2022-02-04\",\"2022-02-05\",\"2022-02-06\",\"2022-02-07\",\"2022-02-08\",\"2022-02-09\",\"2022-02-10\",\"2022-02-11\",\"2022-02-12\",\"2022-02-13\",\"2022-02-14\",\"2022-02-15\",\"2022-02-16\",\"2022-02-17\",\"2022-02-18\",\"2022-02-19\",\"2022-02-20\",\"2022-02-21\",\"2022-02-22\",\"2022-02-23\",\"2022-02-24\",\"2022-02-25\",\"2022-02-26\",\"2022-02-27\",\"2022-02-28\",\"2022-03-01\"],\"xaxis\":\"x\",\"y\":[0.0,0.0,0.0,0.002615165401853229,0.008691785537161432,0.017770486373774323,0.03444366506038815,0.04522751996482465,0.06657557587021415,0.08630111050255272,0.0958205834505522,0.10050377429034607,0.08735026898857418,0.06947796711572392,0.05923563164952914,0.04080136558630999,0.02523049176860568,0.012082929849191796,0.002836286872577004,0.010169618774036649,0.019497193636455693,0.036843341318697265,0.07711346539312461,0.10361216424613579,0.11753457016764729,0.1300232651131412,0.13950967030111938,0.14499755694469624,0.12251253185877133,0.08396619675231413,0.06306644813433242,0.04574420374443081,0.028230092460418042,0.01262780505416175,0.0,0.0,0.0,0.0,0.0,0.0,0.0,0.0,0.0,0.0,0.0004299752048751512,0.004686868213047145,0.00856636162136895,0.0049460338187808425,0.014386871936197506,0.030130897088041245,0.03373986609667068,0.043414409062242226,0.062297286517715995,0.08808566509392107,0.11162260244905431,0.11187344405114735,0.09145400670221132,0.08355927661194053,0.0758798936500444,0.05536103525870852],\"yaxis\":\"y\",\"type\":\"scatter\"},{\"customdata\":[[\"bitcoin\"],[\"bitcoin\"],[\"bitcoin\"],[\"bitcoin\"],[\"bitcoin\"],[\"bitcoin\"],[\"bitcoin\"],[\"bitcoin\"],[\"bitcoin\"],[\"bitcoin\"],[\"bitcoin\"],[\"bitcoin\"],[\"bitcoin\"],[\"bitcoin\"],[\"bitcoin\"],[\"bitcoin\"],[\"bitcoin\"],[\"bitcoin\"],[\"bitcoin\"],[\"bitcoin\"],[\"bitcoin\"],[\"bitcoin\"],[\"bitcoin\"],[\"bitcoin\"],[\"bitcoin\"],[\"bitcoin\"],[\"bitcoin\"],[\"bitcoin\"],[\"bitcoin\"],[\"bitcoin\"],[\"bitcoin\"],[\"bitcoin\"],[\"bitcoin\"],[\"bitcoin\"],[\"bitcoin\"],[\"bitcoin\"],[\"bitcoin\"],[\"bitcoin\"],[\"bitcoin\"],[\"bitcoin\"],[\"bitcoin\"],[\"bitcoin\"],[\"bitcoin\"],[\"bitcoin\"],[\"bitcoin\"],[\"bitcoin\"],[\"bitcoin\"],[\"bitcoin\"],[\"bitcoin\"],[\"bitcoin\"],[\"bitcoin\"],[\"bitcoin\"],[\"bitcoin\"],[\"bitcoin\"],[\"bitcoin\"],[\"bitcoin\"],[\"bitcoin\"],[\"bitcoin\"],[\"bitcoin\"],[\"bitcoin\"]],\"hovertemplate\":\"variable=smooth-DM<br>Date=%{x|%B %d, %Y}<br>value=%{y}<br>ID=%{customdata[0]}<extra></extra>\",\"legendgroup\":\"smooth-DM\",\"line\":{\"color\":\"#EF553B\",\"dash\":\"solid\"},\"marker\":{\"symbol\":\"circle\"},\"mode\":\"lines\",\"name\":\"smooth-DM\",\"orientation\":\"v\",\"showlegend\":true,\"x\":[\"2022-01-01\",\"2022-01-02\",\"2022-01-03\",\"2022-01-04\",\"2022-01-05\",\"2022-01-06\",\"2022-01-07\",\"2022-01-08\",\"2022-01-09\",\"2022-01-10\",\"2022-01-11\",\"2022-01-12\",\"2022-01-13\",\"2022-01-14\",\"2022-01-15\",\"2022-01-16\",\"2022-01-17\",\"2022-01-18\",\"2022-01-19\",\"2022-01-20\",\"2022-01-21\",\"2022-01-22\",\"2022-01-23\",\"2022-01-24\",\"2022-01-25\",\"2022-01-26\",\"2022-01-27\",\"2022-01-28\",\"2022-01-29\",\"2022-01-30\",\"2022-01-31\",\"2022-02-01\",\"2022-02-02\",\"2022-02-03\",\"2022-02-04\",\"2022-02-05\",\"2022-02-06\",\"2022-02-07\",\"2022-02-08\",\"2022-02-09\",\"2022-02-10\",\"2022-02-11\",\"2022-02-12\",\"2022-02-13\",\"2022-02-14\",\"2022-02-15\",\"2022-02-16\",\"2022-02-17\",\"2022-02-18\",\"2022-02-19\",\"2022-02-20\",\"2022-02-21\",\"2022-02-22\",\"2022-02-23\",\"2022-02-24\",\"2022-02-25\",\"2022-02-26\",\"2022-02-27\",\"2022-02-28\",\"2022-03-01\"],\"xaxis\":\"x\",\"y\":[0.0,0.2593858423598537,0.14025656598835534,0.14240671446075315,0.14904364071842158,0.15525379241502246,0.15968961505545168,0.016055857151631697,0.0022956868176282337,0.0,0.0,0.0,0.0007219481556263495,0.0015642210038570906,0.005046722496526654,0.013716933830911462,0.016625380493901675,0.018009412089317348,0.015141003993343458,0.01294131725814519,0.01294131725814519,0.008616542917244884,0.0049919016472437655,0.0012666330682045014,-8.673617379884035e-19,-8.673617379884035e-19,-8.673617379884035e-19,-8.673617379884035e-19,0.004264667293766079,0.019145295932533817,0.03127394265704682,0.03160779606888606,0.03753623994315709,0.03839265306614981,0.03151145624969095,0.03751399091731925,0.0500271633580879,0.05903792278540951,0.07475717305375174,0.08828624191465906,0.10892058256596512,0.13435294107874018,0.12450973785801726,0.09851427306076078,0.08212648036639963,0.06272197535021623,0.04825288874821526,0.028285089124801682,0.007561134317807736,0.003612908412519343,0.0016341760997795809,0.0016341760997795809,0.0016341760997795809,-3.469446951953614e-18,-3.469446951953614e-18,-3.469446951953614e-18,-3.469446951953614e-18,-3.469446951953614e-18,-3.469446951953614e-18,-3.469446951953614e-18],\"yaxis\":\"y\",\"type\":\"scatter\"}],                        {\"template\":{\"data\":{\"histogram2dcontour\":[{\"type\":\"histogram2dcontour\",\"colorbar\":{\"outlinewidth\":0,\"ticks\":\"\"},\"colorscale\":[[0.0,\"#0d0887\"],[0.1111111111111111,\"#46039f\"],[0.2222222222222222,\"#7201a8\"],[0.3333333333333333,\"#9c179e\"],[0.4444444444444444,\"#bd3786\"],[0.5555555555555556,\"#d8576b\"],[0.6666666666666666,\"#ed7953\"],[0.7777777777777778,\"#fb9f3a\"],[0.8888888888888888,\"#fdca26\"],[1.0,\"#f0f921\"]]}],\"choropleth\":[{\"type\":\"choropleth\",\"colorbar\":{\"outlinewidth\":0,\"ticks\":\"\"}}],\"histogram2d\":[{\"type\":\"histogram2d\",\"colorbar\":{\"outlinewidth\":0,\"ticks\":\"\"},\"colorscale\":[[0.0,\"#0d0887\"],[0.1111111111111111,\"#46039f\"],[0.2222222222222222,\"#7201a8\"],[0.3333333333333333,\"#9c179e\"],[0.4444444444444444,\"#bd3786\"],[0.5555555555555556,\"#d8576b\"],[0.6666666666666666,\"#ed7953\"],[0.7777777777777778,\"#fb9f3a\"],[0.8888888888888888,\"#fdca26\"],[1.0,\"#f0f921\"]]}],\"heatmap\":[{\"type\":\"heatmap\",\"colorbar\":{\"outlinewidth\":0,\"ticks\":\"\"},\"colorscale\":[[0.0,\"#0d0887\"],[0.1111111111111111,\"#46039f\"],[0.2222222222222222,\"#7201a8\"],[0.3333333333333333,\"#9c179e\"],[0.4444444444444444,\"#bd3786\"],[0.5555555555555556,\"#d8576b\"],[0.6666666666666666,\"#ed7953\"],[0.7777777777777778,\"#fb9f3a\"],[0.8888888888888888,\"#fdca26\"],[1.0,\"#f0f921\"]]}],\"heatmapgl\":[{\"type\":\"heatmapgl\",\"colorbar\":{\"outlinewidth\":0,\"ticks\":\"\"},\"colorscale\":[[0.0,\"#0d0887\"],[0.1111111111111111,\"#46039f\"],[0.2222222222222222,\"#7201a8\"],[0.3333333333333333,\"#9c179e\"],[0.4444444444444444,\"#bd3786\"],[0.5555555555555556,\"#d8576b\"],[0.6666666666666666,\"#ed7953\"],[0.7777777777777778,\"#fb9f3a\"],[0.8888888888888888,\"#fdca26\"],[1.0,\"#f0f921\"]]}],\"contourcarpet\":[{\"type\":\"contourcarpet\",\"colorbar\":{\"outlinewidth\":0,\"ticks\":\"\"}}],\"contour\":[{\"type\":\"contour\",\"colorbar\":{\"outlinewidth\":0,\"ticks\":\"\"},\"colorscale\":[[0.0,\"#0d0887\"],[0.1111111111111111,\"#46039f\"],[0.2222222222222222,\"#7201a8\"],[0.3333333333333333,\"#9c179e\"],[0.4444444444444444,\"#bd3786\"],[0.5555555555555556,\"#d8576b\"],[0.6666666666666666,\"#ed7953\"],[0.7777777777777778,\"#fb9f3a\"],[0.8888888888888888,\"#fdca26\"],[1.0,\"#f0f921\"]]}],\"surface\":[{\"type\":\"surface\",\"colorbar\":{\"outlinewidth\":0,\"ticks\":\"\"},\"colorscale\":[[0.0,\"#0d0887\"],[0.1111111111111111,\"#46039f\"],[0.2222222222222222,\"#7201a8\"],[0.3333333333333333,\"#9c179e\"],[0.4444444444444444,\"#bd3786\"],[0.5555555555555556,\"#d8576b\"],[0.6666666666666666,\"#ed7953\"],[0.7777777777777778,\"#fb9f3a\"],[0.8888888888888888,\"#fdca26\"],[1.0,\"#f0f921\"]]}],\"mesh3d\":[{\"type\":\"mesh3d\",\"colorbar\":{\"outlinewidth\":0,\"ticks\":\"\"}}],\"scatter\":[{\"fillpattern\":{\"fillmode\":\"overlay\",\"size\":10,\"solidity\":0.2},\"type\":\"scatter\"}],\"parcoords\":[{\"type\":\"parcoords\",\"line\":{\"colorbar\":{\"outlinewidth\":0,\"ticks\":\"\"}}}],\"scatterpolargl\":[{\"type\":\"scatterpolargl\",\"marker\":{\"colorbar\":{\"outlinewidth\":0,\"ticks\":\"\"}}}],\"bar\":[{\"error_x\":{\"color\":\"#2a3f5f\"},\"error_y\":{\"color\":\"#2a3f5f\"},\"marker\":{\"line\":{\"color\":\"#E5ECF6\",\"width\":0.5},\"pattern\":{\"fillmode\":\"overlay\",\"size\":10,\"solidity\":0.2}},\"type\":\"bar\"}],\"scattergeo\":[{\"type\":\"scattergeo\",\"marker\":{\"colorbar\":{\"outlinewidth\":0,\"ticks\":\"\"}}}],\"scatterpolar\":[{\"type\":\"scatterpolar\",\"marker\":{\"colorbar\":{\"outlinewidth\":0,\"ticks\":\"\"}}}],\"histogram\":[{\"marker\":{\"pattern\":{\"fillmode\":\"overlay\",\"size\":10,\"solidity\":0.2}},\"type\":\"histogram\"}],\"scattergl\":[{\"type\":\"scattergl\",\"marker\":{\"colorbar\":{\"outlinewidth\":0,\"ticks\":\"\"}}}],\"scatter3d\":[{\"type\":\"scatter3d\",\"line\":{\"colorbar\":{\"outlinewidth\":0,\"ticks\":\"\"}},\"marker\":{\"colorbar\":{\"outlinewidth\":0,\"ticks\":\"\"}}}],\"scattermapbox\":[{\"type\":\"scattermapbox\",\"marker\":{\"colorbar\":{\"outlinewidth\":0,\"ticks\":\"\"}}}],\"scatterternary\":[{\"type\":\"scatterternary\",\"marker\":{\"colorbar\":{\"outlinewidth\":0,\"ticks\":\"\"}}}],\"scattercarpet\":[{\"type\":\"scattercarpet\",\"marker\":{\"colorbar\":{\"outlinewidth\":0,\"ticks\":\"\"}}}],\"carpet\":[{\"aaxis\":{\"endlinecolor\":\"#2a3f5f\",\"gridcolor\":\"white\",\"linecolor\":\"white\",\"minorgridcolor\":\"white\",\"startlinecolor\":\"#2a3f5f\"},\"baxis\":{\"endlinecolor\":\"#2a3f5f\",\"gridcolor\":\"white\",\"linecolor\":\"white\",\"minorgridcolor\":\"white\",\"startlinecolor\":\"#2a3f5f\"},\"type\":\"carpet\"}],\"table\":[{\"cells\":{\"fill\":{\"color\":\"#EBF0F8\"},\"line\":{\"color\":\"white\"}},\"header\":{\"fill\":{\"color\":\"#C8D4E3\"},\"line\":{\"color\":\"white\"}},\"type\":\"table\"}],\"barpolar\":[{\"marker\":{\"line\":{\"color\":\"#E5ECF6\",\"width\":0.5},\"pattern\":{\"fillmode\":\"overlay\",\"size\":10,\"solidity\":0.2}},\"type\":\"barpolar\"}],\"pie\":[{\"automargin\":true,\"type\":\"pie\"}]},\"layout\":{\"autotypenumbers\":\"strict\",\"colorway\":[\"#636efa\",\"#EF553B\",\"#00cc96\",\"#ab63fa\",\"#FFA15A\",\"#19d3f3\",\"#FF6692\",\"#B6E880\",\"#FF97FF\",\"#FECB52\"],\"font\":{\"color\":\"#2a3f5f\"},\"hovermode\":\"closest\",\"hoverlabel\":{\"align\":\"left\"},\"paper_bgcolor\":\"white\",\"plot_bgcolor\":\"#E5ECF6\",\"polar\":{\"bgcolor\":\"#E5ECF6\",\"angularaxis\":{\"gridcolor\":\"white\",\"linecolor\":\"white\",\"ticks\":\"\"},\"radialaxis\":{\"gridcolor\":\"white\",\"linecolor\":\"white\",\"ticks\":\"\"}},\"ternary\":{\"bgcolor\":\"#E5ECF6\",\"aaxis\":{\"gridcolor\":\"white\",\"linecolor\":\"white\",\"ticks\":\"\"},\"baxis\":{\"gridcolor\":\"white\",\"linecolor\":\"white\",\"ticks\":\"\"},\"caxis\":{\"gridcolor\":\"white\",\"linecolor\":\"white\",\"ticks\":\"\"}},\"coloraxis\":{\"colorbar\":{\"outlinewidth\":0,\"ticks\":\"\"}},\"colorscale\":{\"sequential\":[[0.0,\"#0d0887\"],[0.1111111111111111,\"#46039f\"],[0.2222222222222222,\"#7201a8\"],[0.3333333333333333,\"#9c179e\"],[0.4444444444444444,\"#bd3786\"],[0.5555555555555556,\"#d8576b\"],[0.6666666666666666,\"#ed7953\"],[0.7777777777777778,\"#fb9f3a\"],[0.8888888888888888,\"#fdca26\"],[1.0,\"#f0f921\"]],\"sequentialminus\":[[0.0,\"#0d0887\"],[0.1111111111111111,\"#46039f\"],[0.2222222222222222,\"#7201a8\"],[0.3333333333333333,\"#9c179e\"],[0.4444444444444444,\"#bd3786\"],[0.5555555555555556,\"#d8576b\"],[0.6666666666666666,\"#ed7953\"],[0.7777777777777778,\"#fb9f3a\"],[0.8888888888888888,\"#fdca26\"],[1.0,\"#f0f921\"]],\"diverging\":[[0,\"#8e0152\"],[0.1,\"#c51b7d\"],[0.2,\"#de77ae\"],[0.3,\"#f1b6da\"],[0.4,\"#fde0ef\"],[0.5,\"#f7f7f7\"],[0.6,\"#e6f5d0\"],[0.7,\"#b8e186\"],[0.8,\"#7fbc41\"],[0.9,\"#4d9221\"],[1,\"#276419\"]]},\"xaxis\":{\"gridcolor\":\"white\",\"linecolor\":\"white\",\"ticks\":\"\",\"title\":{\"standoff\":15},\"zerolinecolor\":\"white\",\"automargin\":true,\"zerolinewidth\":2},\"yaxis\":{\"gridcolor\":\"white\",\"linecolor\":\"white\",\"ticks\":\"\",\"title\":{\"standoff\":15},\"zerolinecolor\":\"white\",\"automargin\":true,\"zerolinewidth\":2},\"scene\":{\"xaxis\":{\"backgroundcolor\":\"#E5ECF6\",\"gridcolor\":\"white\",\"linecolor\":\"white\",\"showbackground\":true,\"ticks\":\"\",\"zerolinecolor\":\"white\",\"gridwidth\":2},\"yaxis\":{\"backgroundcolor\":\"#E5ECF6\",\"gridcolor\":\"white\",\"linecolor\":\"white\",\"showbackground\":true,\"ticks\":\"\",\"zerolinecolor\":\"white\",\"gridwidth\":2},\"zaxis\":{\"backgroundcolor\":\"#E5ECF6\",\"gridcolor\":\"white\",\"linecolor\":\"white\",\"showbackground\":true,\"ticks\":\"\",\"zerolinecolor\":\"white\",\"gridwidth\":2}},\"shapedefaults\":{\"line\":{\"color\":\"#2a3f5f\"}},\"annotationdefaults\":{\"arrowcolor\":\"#2a3f5f\",\"arrowhead\":0,\"arrowwidth\":1},\"geo\":{\"bgcolor\":\"white\",\"landcolor\":\"#E5ECF6\",\"subunitcolor\":\"white\",\"showland\":true,\"showlakes\":true,\"lakecolor\":\"white\"},\"title\":{\"x\":0.05},\"mapbox\":{\"style\":\"light\"}}},\"xaxis\":{\"anchor\":\"y\",\"domain\":[0.0,1.0],\"title\":{\"text\":\"Date\"},\"dtick\":\"M1\",\"tickformat\":\"%b\\n%Y\"},\"yaxis\":{\"anchor\":\"x\",\"domain\":[0.0,1.0],\"title\":{\"text\":\"value\"}},\"legend\":{\"title\":{\"text\":\"variable\"},\"tracegroupgap\":0},\"title\":{\"text\":\"Weighted ETP Logarithmic Returns from 2022-01-01 to 2022-03-01\"}},                        {\"responsive\": true}                    ).then(function(){\n",
       "                            \n",
       "var gd = document.getElementById('0630ca9c-d970-48ef-8f89-a87e0759cb15');\n",
       "var x = new MutationObserver(function (mutations, observer) {{\n",
       "        var display = window.getComputedStyle(gd).display;\n",
       "        if (!display || display === 'none') {{\n",
       "            console.log([gd, 'removed!']);\n",
       "            Plotly.purge(gd);\n",
       "            observer.disconnect();\n",
       "        }}\n",
       "}});\n",
       "\n",
       "// Listen for the removal of the full notebook cells\n",
       "var notebookContainer = gd.closest('#notebook-container');\n",
       "if (notebookContainer) {{\n",
       "    x.observe(notebookContainer, {childList: true});\n",
       "}}\n",
       "\n",
       "// Listen for the clearing of the current output cell\n",
       "var outputEl = gd.closest('.output');\n",
       "if (outputEl) {{\n",
       "    x.observe(outputEl, {childList: true});\n",
       "}}\n",
       "\n",
       "                        })                };                });            </script>        </div>"
      ]
     },
     "metadata": {},
     "output_type": "display_data"
    }
   ],
   "source": [
    "''' To plot the data transform back to coind ids to be individual columns '''\n",
    "plot_adx_df = adx_df.loc[adx_df['ID']=='bitcoin']\n",
    "plot_adx_df.sort_values(by=['Date'], inplace = True)\n",
    "\n",
    "_min_date = plot_adx_df[\"Date\"].min()\n",
    "_max_date = plot_adx_df[\"Date\"].max()\n",
    "_title = \"Weighted ETP Logarithmic Returns from \"+str(_min_date)+\" to \"+str(_max_date)\n",
    "fig = px.line(plot_adx_df, x=\"Date\", y=['smooth+DM','smooth-DM'],\n",
    "#               color='red',\n",
    "              hover_data={\"Date\": \"|%B %d, %Y\", \"ID\": True,},\n",
    "              title=_title,)\n",
    "\n",
    "fig.update_xaxes(\n",
    "    dtick=\"M1\",\n",
    "    tickformat=\"%b\\n%Y\")\n",
    "fig.show()"
   ]
  },
  {
   "cell_type": "markdown",
   "id": "1e6bc942",
   "metadata": {},
   "source": [
    "## Index based optimization\n",
    "___The objective is to optimize the performance ratios for an ETP portfolio asset picks and rebalancing___\n",
    "\n",
    "### Performance Ratios\n",
    "The calculation is adjusted for an ETP for a given time period ${\\left[{T_{min},T_{max}}\\right]}$.\n",
    "* For an ETP portfolio consisting top ${N < n}$ set of assets ${Y}$\n",
    "    * the weighted ROR at time ${t}$ is ${F({t,Y})}$  = $\\sum_{k_i = 1}^{N<n} {w(t,x_{k_{i}})} \\times {log \\left({R(t,x_{k_i}) \\over R(t+1,x_{k_i})}\\right)}$\n",
    "* Let ${z}$ be the asset (e.g. Bitcoin) that sets the benchmark to offer a risk free ROR.\n",
    "    * Similarly to the Y set of assets, the weighted ROR for ${z}$ at time ${t}$ is ${F({t,z})}$  = ${w(t,z)} \\times {log \\left({R(t,z)} \\over R(t+1,z)\\right)}$\n",
    "\n",
    "### Sharpe Ratio\n",
    "It measures the performance of an investment (e.g., security or portfolio) compared to a risk-free asset, after adjusting for its risk. It is poor at estimating tail risks and as a results gave rise to the [PMPT](https://www.investopedia.com/terms/p/pmpt.asp).\n",
    "* ${\\forall_{t \\in {\\left[{T_{min},T_{max}}\\right]}}}$\n",
    "    * ___Sharpe ration___ = ${{\\mu \\left({F(t,x_{k_i})}\\right) - \\mu \\left({F(t,z)}\\right)} \\over {\\sigma(F(t,x_{k_i}))} }$; where ${\\mu}$ is the expected vallue and ${\\sigma}$ is the standard deviation"
   ]
  },
  {
   "cell_type": "code",
   "execution_count": 39,
   "id": "4ec96ead",
   "metadata": {},
   "outputs": [
    {
     "name": "stdout",
     "output_type": "stream",
     "text": [
      "-0.0004980844352952042\n",
      "\n",
      " Sharp Ratio\n",
      "ID\n",
      "ripple          0.016981\n",
      "bitcoin         0.000000\n",
      "ethereum       -0.051617\n",
      "litecoin       -0.060197\n",
      "cardano        -0.075909\n",
      "solana         -0.104899\n",
      "bitcoin_cash         NaN\n",
      "dtype: float64\n"
     ]
    }
   ],
   "source": [
    "sharp = clsPerfIndex.sharp_ratio(piv_marketcap_df, investment=100, risk_free_rate=0.01/365)\n",
    "print(\"\\n Sharp Ratio\")\n",
    "print(sharp.sort_values(ascending=False))"
   ]
  },
  {
   "cell_type": "markdown",
   "id": "b700cbbc",
   "metadata": {},
   "source": [
    "### Sortino Ratio\n",
    "It is a portfolio optimization methodology that uses the downside risk of returns instead of the mean variance of investment returns used by the [MPT](https://blog.quantinsti.com/modern-portfolio-capital-asset-pricing-fama-french-three-factor-model/)\n",
    "* ${\\forall_{t \\in {\\left[{T_{min},T_{max}}\\right]}}}$\n",
    "    * ___Sortino ratio___ is almost the same as the Sharpe ratio except that the ${\\sigma^-(F(t,x_{k_i}))}$ is the downside standard deviation of returns "
   ]
  },
  {
   "cell_type": "code",
   "execution_count": 40,
   "id": "ea5cd383",
   "metadata": {},
   "outputs": [
    {
     "name": "stdout",
     "output_type": "stream",
     "text": [
      "\n",
      " Sortino Ratio\n",
      "ID\n",
      "ripple          0.030394\n",
      "bitcoin         0.000000\n",
      "ethereum       -0.080442\n",
      "litecoin       -0.094637\n",
      "cardano        -0.149946\n",
      "solana         -0.169963\n",
      "bitcoin_cash         NaN\n",
      "dtype: float64\n"
     ]
    }
   ],
   "source": [
    "sortino = clsPerfIndex.sortino_ratio(piv_marketcap_df, investment=100, risk_free_rate=0.01/365)\n",
    "print(\"\\n Sortino Ratio\")\n",
    "print(sortino.sort_values(ascending=False))"
   ]
  },
  {
   "cell_type": "markdown",
   "id": "9d183a46",
   "metadata": {},
   "source": [
    "### Calmar ratio\n",
    "The Calmar ratio is the average annual rate of return for the last 36 months divided by the maximum drawdown for the last 36 months. It is calculated on a monthly basis. The Calmar ratio changes gradually and serves to smooth out the overachievement and underachievement periods of a performance more readily than the Sharpe ratio."
   ]
  },
  {
   "cell_type": "markdown",
   "id": "0ba02446",
   "metadata": {},
   "source": [
    "## Value Index"
   ]
  },
  {
   "cell_type": "code",
   "execution_count": 41,
   "id": "4ef2b9e0",
   "metadata": {},
   "outputs": [
    {
     "data": {
      "application/vnd.plotly.v1+json": {
       "config": {
        "plotlyServerURL": "https://plot.ly"
       },
       "data": [
        {
         "hovertemplate": "ID=bitcoin<br>Date=%{x|%B %d, %Y}<br>value=%{y}<extra></extra>",
         "legendgroup": "bitcoin",
         "line": {
          "color": "#636efa",
          "dash": "solid"
         },
         "marker": {
          "symbol": "circle"
         },
         "mode": "lines",
         "name": "bitcoin",
         "orientation": "v",
         "showlegend": true,
         "type": "scatter",
         "x": [
          "2022-01-01T00:00:00",
          "2022-01-02T00:00:00",
          "2022-01-03T00:00:00",
          "2022-01-04T00:00:00",
          "2022-01-05T00:00:00",
          "2022-01-06T00:00:00",
          "2022-01-07T00:00:00",
          "2022-01-08T00:00:00",
          "2022-01-09T00:00:00",
          "2022-01-10T00:00:00",
          "2022-01-11T00:00:00",
          "2022-01-12T00:00:00",
          "2022-01-13T00:00:00",
          "2022-01-14T00:00:00",
          "2022-01-15T00:00:00",
          "2022-01-16T00:00:00",
          "2022-01-17T00:00:00",
          "2022-01-18T00:00:00",
          "2022-01-19T00:00:00",
          "2022-01-20T00:00:00",
          "2022-01-21T00:00:00",
          "2022-01-22T00:00:00",
          "2022-01-23T00:00:00",
          "2022-01-24T00:00:00",
          "2022-01-25T00:00:00",
          "2022-01-26T00:00:00",
          "2022-01-27T00:00:00",
          "2022-01-28T00:00:00",
          "2022-01-29T00:00:00",
          "2022-01-30T00:00:00",
          "2022-01-31T00:00:00",
          "2022-02-01T00:00:00",
          "2022-02-02T00:00:00",
          "2022-02-03T00:00:00",
          "2022-02-04T00:00:00",
          "2022-02-05T00:00:00",
          "2022-02-06T00:00:00",
          "2022-02-07T00:00:00",
          "2022-02-08T00:00:00",
          "2022-02-09T00:00:00",
          "2022-02-10T00:00:00",
          "2022-02-11T00:00:00",
          "2022-02-12T00:00:00",
          "2022-02-13T00:00:00",
          "2022-02-14T00:00:00",
          "2022-02-15T00:00:00",
          "2022-02-16T00:00:00",
          "2022-02-17T00:00:00",
          "2022-02-18T00:00:00",
          "2022-02-19T00:00:00",
          "2022-02-20T00:00:00",
          "2022-02-21T00:00:00",
          "2022-02-22T00:00:00",
          "2022-02-23T00:00:00",
          "2022-02-24T00:00:00",
          "2022-02-25T00:00:00",
          "2022-02-26T00:00:00",
          "2022-02-27T00:00:00",
          "2022-02-28T00:00:00",
          "2022-03-01T00:00:00"
         ],
         "xaxis": "x",
         "y": [
          0.5998141059237189,
          0.6012015785513763,
          0.5964736647515158,
          0.59708413103845,
          0.594034198260723,
          0.5970149752531124,
          0.6016733195812421,
          0.6077663355691979,
          0.614463308728665,
          0.612126228439286,
          0.6177454436162786,
          0.611061586179786,
          0.6064648887393519,
          0.6079897579278107,
          0.6069082548736788,
          0.6054156133025663,
          0.6021669592276528,
          0.6040244045054252,
          0.6093016037212593,
          0.6115398620533848,
          0.6145266267272038,
          0.6245060985068124,
          0.6326546282497736,
          0.6277718625086872,
          0.6396955842057944,
          0.6397751700536317,
          0.638144811685966,
          0.6452196334837419,
          0.6397703799066795,
          0.6372736991089737,
          0.6365761967595055,
          0.6326886537868919,
          0.6249564205978887,
          0.6237522747901819,
          0.6259803355053645,
          0.6255309642200639,
          0.623538491823597,
          0.6259007467480491,
          0.6244397901935689,
          0.6263802466808648,
          0.6207613498308373,
          0.6285445680352019,
          0.6356645540549601,
          0.6349496000268957,
          0.6375075510135702,
          0.6357895924395716,
          0.6286558416101398,
          0.6291945498820424,
          0.6296246284207542,
          0.6329399099129793,
          0.6339496483348497,
          0.6351970434219102,
          0.6347810382990973,
          0.6362432894718806,
          0.6350396154312842,
          0.6406621779625878,
          0.6305444435649893,
          0.6310208014472436,
          0.6356881169605093,
          0.6418874355341777
         ],
         "yaxis": "y"
        },
        {
         "hovertemplate": "ID=bitcoin_cash<br>Date=%{x|%B %d, %Y}<br>value=%{y}<extra></extra>",
         "legendgroup": "bitcoin_cash",
         "line": {
          "color": "#EF553B",
          "dash": "solid"
         },
         "marker": {
          "symbol": "circle"
         },
         "mode": "lines",
         "name": "bitcoin_cash",
         "orientation": "v",
         "showlegend": true,
         "type": "scatter",
         "x": [
          "2022-01-01T00:00:00",
          "2022-01-02T00:00:00",
          "2022-01-03T00:00:00",
          "2022-01-04T00:00:00",
          "2022-01-05T00:00:00",
          "2022-01-06T00:00:00",
          "2022-01-07T00:00:00",
          "2022-01-08T00:00:00",
          "2022-01-09T00:00:00",
          "2022-01-10T00:00:00",
          "2022-01-11T00:00:00",
          "2022-01-12T00:00:00",
          "2022-01-13T00:00:00",
          "2022-01-14T00:00:00",
          "2022-01-15T00:00:00",
          "2022-01-16T00:00:00",
          "2022-01-17T00:00:00",
          "2022-01-18T00:00:00",
          "2022-01-19T00:00:00",
          "2022-01-20T00:00:00",
          "2022-01-21T00:00:00",
          "2022-01-22T00:00:00",
          "2022-01-23T00:00:00",
          "2022-01-24T00:00:00",
          "2022-01-25T00:00:00",
          "2022-01-26T00:00:00",
          "2022-01-27T00:00:00",
          "2022-01-28T00:00:00",
          "2022-01-29T00:00:00",
          "2022-01-30T00:00:00",
          "2022-01-31T00:00:00",
          "2022-02-01T00:00:00",
          "2022-02-02T00:00:00",
          "2022-02-03T00:00:00",
          "2022-02-04T00:00:00",
          "2022-02-05T00:00:00",
          "2022-02-06T00:00:00",
          "2022-02-07T00:00:00",
          "2022-02-08T00:00:00",
          "2022-02-09T00:00:00",
          "2022-02-10T00:00:00",
          "2022-02-11T00:00:00",
          "2022-02-12T00:00:00",
          "2022-02-13T00:00:00",
          "2022-02-14T00:00:00",
          "2022-02-15T00:00:00",
          "2022-02-16T00:00:00",
          "2022-02-17T00:00:00",
          "2022-02-18T00:00:00",
          "2022-02-19T00:00:00",
          "2022-02-20T00:00:00",
          "2022-02-21T00:00:00",
          "2022-02-22T00:00:00",
          "2022-02-23T00:00:00",
          "2022-02-24T00:00:00",
          "2022-02-25T00:00:00",
          "2022-02-26T00:00:00",
          "2022-02-27T00:00:00",
          "2022-02-28T00:00:00",
          "2022-03-01T00:00:00"
         ],
         "xaxis": "x",
         "y": [
          0,
          0,
          0,
          0,
          0,
          0,
          0,
          0,
          0,
          0,
          0,
          0,
          0,
          0,
          0,
          0,
          0,
          0,
          0,
          0,
          0,
          0,
          0,
          0,
          0,
          0,
          0,
          0,
          0,
          0,
          0,
          0,
          0,
          0,
          0,
          0,
          0,
          0,
          0,
          0,
          0,
          0,
          0,
          0,
          0,
          0,
          0,
          0,
          0,
          0,
          0,
          0,
          0,
          0,
          0,
          0,
          0,
          0,
          0,
          null
         ],
         "yaxis": "y"
        },
        {
         "hovertemplate": "ID=cardano<br>Date=%{x|%B %d, %Y}<br>value=%{y}<extra></extra>",
         "legendgroup": "cardano",
         "line": {
          "color": "#00cc96",
          "dash": "solid"
         },
         "marker": {
          "symbol": "circle"
         },
         "mode": "lines",
         "name": "cardano",
         "orientation": "v",
         "showlegend": true,
         "type": "scatter",
         "x": [
          "2022-01-01T00:00:00",
          "2022-01-02T00:00:00",
          "2022-01-03T00:00:00",
          "2022-01-04T00:00:00",
          "2022-01-05T00:00:00",
          "2022-01-06T00:00:00",
          "2022-01-07T00:00:00",
          "2022-01-08T00:00:00",
          "2022-01-09T00:00:00",
          "2022-01-10T00:00:00",
          "2022-01-11T00:00:00",
          "2022-01-12T00:00:00",
          "2022-01-13T00:00:00",
          "2022-01-14T00:00:00",
          "2022-01-15T00:00:00",
          "2022-01-16T00:00:00",
          "2022-01-17T00:00:00",
          "2022-01-18T00:00:00",
          "2022-01-19T00:00:00",
          "2022-01-20T00:00:00",
          "2022-01-21T00:00:00",
          "2022-01-22T00:00:00",
          "2022-01-23T00:00:00",
          "2022-01-24T00:00:00",
          "2022-01-25T00:00:00",
          "2022-01-26T00:00:00",
          "2022-01-27T00:00:00",
          "2022-01-28T00:00:00",
          "2022-01-29T00:00:00",
          "2022-01-30T00:00:00",
          "2022-01-31T00:00:00",
          "2022-02-01T00:00:00",
          "2022-02-02T00:00:00",
          "2022-02-03T00:00:00",
          "2022-02-04T00:00:00",
          "2022-02-05T00:00:00",
          "2022-02-06T00:00:00",
          "2022-02-07T00:00:00",
          "2022-02-08T00:00:00",
          "2022-02-09T00:00:00",
          "2022-02-10T00:00:00",
          "2022-02-11T00:00:00",
          "2022-02-12T00:00:00",
          "2022-02-13T00:00:00",
          "2022-02-14T00:00:00",
          "2022-02-15T00:00:00",
          "2022-02-16T00:00:00",
          "2022-02-17T00:00:00",
          "2022-02-18T00:00:00",
          "2022-02-19T00:00:00",
          "2022-02-20T00:00:00",
          "2022-02-21T00:00:00",
          "2022-02-22T00:00:00",
          "2022-02-23T00:00:00",
          "2022-02-24T00:00:00",
          "2022-02-25T00:00:00",
          "2022-02-26T00:00:00",
          "2022-02-27T00:00:00",
          "2022-02-28T00:00:00",
          "2022-03-01T00:00:00"
         ],
         "xaxis": "x",
         "y": [
          0.028886227409113036,
          0.02937741519656867,
          0.029435088089713523,
          0.02887941762010897,
          0.028718461751011067,
          0.028830869079288526,
          0.030234306586622847,
          0.03004436783508361,
          0.029685395998584878,
          0.029061475464049483,
          0.028300441304136705,
          0.028754644106769693,
          0.030518824913999383,
          0.030017890747784593,
          0.03060071520198818,
          0.030855831543291752,
          0.033420898521938684,
          0.03810712414606517,
          0.035807345438616967,
          0.03336195015340047,
          0.0322745740252352,
          0.032780517299991555,
          0.03253052866725086,
          0.032830162621763144,
          0.031511593827502966,
          0.030610779839592855,
          0.031702043174553295,
          0.03087004656512463,
          0.03009857791935366,
          0.02997773973261115,
          0.029505421042883482,
          0.02930734937041748,
          0.02954889390225418,
          0.029424311542625144,
          0.030163807707871877,
          0.029133487721882966,
          0.02884809115859324,
          0.02866301831752028,
          0.028865043523346453,
          0.028316521618098476,
          0.028320144994415982,
          0.028117153843088022,
          0.027447584122239136,
          0.026901745458401603,
          0.026657092450637805,
          0.026528424268095128,
          0.02644036018352824,
          0.02627742192523575,
          0.026797782870923322,
          0.026703724159221925,
          0.026656586722740887,
          0.026221378988176204,
          0.025001818500498672,
          0.025065214601828423,
          0.025073543424869765,
          0.024107280705410454,
          0.024354149129082178,
          0.02422318148755481,
          0.02442619185129013,
          0.024006331219410388
         ],
         "yaxis": "y"
        },
        {
         "hovertemplate": "ID=ethereum<br>Date=%{x|%B %d, %Y}<br>value=%{y}<extra></extra>",
         "legendgroup": "ethereum",
         "line": {
          "color": "#ab63fa",
          "dash": "solid"
         },
         "marker": {
          "symbol": "circle"
         },
         "mode": "lines",
         "name": "ethereum",
         "orientation": "v",
         "showlegend": true,
         "type": "scatter",
         "x": [
          "2022-01-01T00:00:00",
          "2022-01-02T00:00:00",
          "2022-01-03T00:00:00",
          "2022-01-04T00:00:00",
          "2022-01-05T00:00:00",
          "2022-01-06T00:00:00",
          "2022-01-07T00:00:00",
          "2022-01-08T00:00:00",
          "2022-01-09T00:00:00",
          "2022-01-10T00:00:00",
          "2022-01-11T00:00:00",
          "2022-01-12T00:00:00",
          "2022-01-13T00:00:00",
          "2022-01-14T00:00:00",
          "2022-01-15T00:00:00",
          "2022-01-16T00:00:00",
          "2022-01-17T00:00:00",
          "2022-01-18T00:00:00",
          "2022-01-19T00:00:00",
          "2022-01-20T00:00:00",
          "2022-01-21T00:00:00",
          "2022-01-22T00:00:00",
          "2022-01-23T00:00:00",
          "2022-01-24T00:00:00",
          "2022-01-25T00:00:00",
          "2022-01-26T00:00:00",
          "2022-01-27T00:00:00",
          "2022-01-28T00:00:00",
          "2022-01-29T00:00:00",
          "2022-01-30T00:00:00",
          "2022-01-31T00:00:00",
          "2022-02-01T00:00:00",
          "2022-02-02T00:00:00",
          "2022-02-03T00:00:00",
          "2022-02-04T00:00:00",
          "2022-02-05T00:00:00",
          "2022-02-06T00:00:00",
          "2022-02-07T00:00:00",
          "2022-02-08T00:00:00",
          "2022-02-09T00:00:00",
          "2022-02-10T00:00:00",
          "2022-02-11T00:00:00",
          "2022-02-12T00:00:00",
          "2022-02-13T00:00:00",
          "2022-02-14T00:00:00",
          "2022-02-15T00:00:00",
          "2022-02-16T00:00:00",
          "2022-02-17T00:00:00",
          "2022-02-18T00:00:00",
          "2022-02-19T00:00:00",
          "2022-02-20T00:00:00",
          "2022-02-21T00:00:00",
          "2022-02-22T00:00:00",
          "2022-02-23T00:00:00",
          "2022-02-24T00:00:00",
          "2022-02-25T00:00:00",
          "2022-02-26T00:00:00",
          "2022-02-27T00:00:00",
          "2022-02-28T00:00:00",
          "2022-03-01T00:00:00"
         ],
         "xaxis": "x",
         "y": [
          0.3010669835363202,
          0.2989582719160893,
          0.3036094352071911,
          0.30426954273159323,
          0.3081711199199029,
          0.3058840933770436,
          0.29928828254353246,
          0.29417378272625105,
          0.2865308235465316,
          0.2901308608114124,
          0.28661640445629155,
          0.2924699433936728,
          0.29342168077201347,
          0.29252465711883546,
          0.2934892864463251,
          0.2941832762405275,
          0.2952334171350362,
          0.28920276305392395,
          0.2864142763228687,
          0.2872361116576143,
          0.2862000341188457,
          0.2763945590336058,
          0.27235012972580663,
          0.27630447107604306,
          0.2682191916820106,
          0.2682145577025214,
          0.2695280377887383,
          0.26443143946327474,
          0.2715177169197666,
          0.27336049888367003,
          0.2756631859274381,
          0.2784492301766418,
          0.283596506114298,
          0.2860353810274604,
          0.2827171032113081,
          0.28530987412926107,
          0.2867521470573497,
          0.2846213045367572,
          0.28199025258003,
          0.2797848185913604,
          0.2857751139337913,
          0.27999757342494996,
          0.2769262602655618,
          0.2759764369052682,
          0.2744201851557568,
          0.2763850720113332,
          0.2829296209753537,
          0.2829544494720275,
          0.2822756273659311,
          0.27820165062396696,
          0.2754226722583584,
          0.2739624806290401,
          0.2788657491830067,
          0.27739456419505376,
          0.27862249968453495,
          0.2742879463542895,
          0.28208080859594753,
          0.28324217077645325,
          0.27865172032724,
          0.27356478337892165
         ],
         "yaxis": "y"
        },
        {
         "hovertemplate": "ID=litecoin<br>Date=%{x|%B %d, %Y}<br>value=%{y}<extra></extra>",
         "legendgroup": "litecoin",
         "line": {
          "color": "#FFA15A",
          "dash": "solid"
         },
         "marker": {
          "symbol": "circle"
         },
         "mode": "lines",
         "name": "litecoin",
         "orientation": "v",
         "showlegend": true,
         "type": "scatter",
         "x": [
          "2022-01-01T00:00:00",
          "2022-01-02T00:00:00",
          "2022-01-03T00:00:00",
          "2022-01-04T00:00:00",
          "2022-01-05T00:00:00",
          "2022-01-06T00:00:00",
          "2022-01-07T00:00:00",
          "2022-01-08T00:00:00",
          "2022-01-09T00:00:00",
          "2022-01-10T00:00:00",
          "2022-01-11T00:00:00",
          "2022-01-12T00:00:00",
          "2022-01-13T00:00:00",
          "2022-01-14T00:00:00",
          "2022-01-15T00:00:00",
          "2022-01-16T00:00:00",
          "2022-01-17T00:00:00",
          "2022-01-18T00:00:00",
          "2022-01-19T00:00:00",
          "2022-01-20T00:00:00",
          "2022-01-21T00:00:00",
          "2022-01-22T00:00:00",
          "2022-01-23T00:00:00",
          "2022-01-24T00:00:00",
          "2022-01-25T00:00:00",
          "2022-01-26T00:00:00",
          "2022-01-27T00:00:00",
          "2022-01-28T00:00:00",
          "2022-01-29T00:00:00",
          "2022-01-30T00:00:00",
          "2022-01-31T00:00:00",
          "2022-02-01T00:00:00",
          "2022-02-02T00:00:00",
          "2022-02-03T00:00:00",
          "2022-02-04T00:00:00",
          "2022-02-05T00:00:00",
          "2022-02-06T00:00:00",
          "2022-02-07T00:00:00",
          "2022-02-08T00:00:00",
          "2022-02-09T00:00:00",
          "2022-02-10T00:00:00",
          "2022-02-11T00:00:00",
          "2022-02-12T00:00:00",
          "2022-02-13T00:00:00",
          "2022-02-14T00:00:00",
          "2022-02-15T00:00:00",
          "2022-02-16T00:00:00",
          "2022-02-17T00:00:00",
          "2022-02-18T00:00:00",
          "2022-02-19T00:00:00",
          "2022-02-20T00:00:00",
          "2022-02-21T00:00:00",
          "2022-02-22T00:00:00",
          "2022-02-23T00:00:00",
          "2022-02-24T00:00:00",
          "2022-02-25T00:00:00",
          "2022-02-26T00:00:00",
          "2022-02-27T00:00:00",
          "2022-02-28T00:00:00",
          "2022-03-01T00:00:00"
         ],
         "xaxis": "x",
         "y": [
          0.006959059639315114,
          0.006961201206267065,
          0.0069934068800105165,
          0.006992106660754527,
          0.006947315291779847,
          0.00681701377040364,
          0.006972820224968624,
          0.007035367335586702,
          0.006995230998653195,
          0.007029147227564469,
          0.006860176183923136,
          0.006889935789163624,
          0.007167070275981579,
          0.0071524892968769065,
          0.007470832444246046,
          0.007599002736602697,
          0.007508792005940847,
          0.007948294435483385,
          0.007465139818323827,
          0.007358712133789771,
          0.007261460593891598,
          0.007194081643931722,
          0.007165510556458276,
          0.007092124387157739,
          0.007019486111662031,
          0.006875362284982285,
          0.006809736970715449,
          0.006828674566599318,
          0.006795863927074993,
          0.0067881258001337,
          0.006698571568526408,
          0.006614109361103349,
          0.006823760534974252,
          0.006712330865154155,
          0.006826853152099282,
          0.006721668751858322,
          0.006752606753779747,
          0.0069040756397918575,
          0.007151931194608025,
          0.006982798706845749,
          0.0072310060282835655,
          0.007165590163878523,
          0.006954013656249317,
          0.007005130402689015,
          0.006984987579803898,
          0.006838254072397627,
          0.006828814607935615,
          0.006727959757323774,
          0.006619927056151392,
          0.00667852791533917,
          0.0067157331024380856,
          0.006716525390775063,
          0.006541436396155906,
          0.006560464016995325,
          0.00661761765953404,
          0.006398146595899735,
          0.006455875268780035,
          0.006414386200777592,
          0.006364172297480218,
          0.006192584317033971
         ],
         "yaxis": "y"
        },
        {
         "hovertemplate": "ID=ripple<br>Date=%{x|%B %d, %Y}<br>value=%{y}<extra></extra>",
         "legendgroup": "ripple",
         "line": {
          "color": "#19d3f3",
          "dash": "solid"
         },
         "marker": {
          "symbol": "circle"
         },
         "mode": "lines",
         "name": "ripple",
         "orientation": "v",
         "showlegend": true,
         "type": "scatter",
         "x": [
          "2022-01-01T00:00:00",
          "2022-01-02T00:00:00",
          "2022-01-03T00:00:00",
          "2022-01-04T00:00:00",
          "2022-01-05T00:00:00",
          "2022-01-06T00:00:00",
          "2022-01-07T00:00:00",
          "2022-01-08T00:00:00",
          "2022-01-09T00:00:00",
          "2022-01-10T00:00:00",
          "2022-01-11T00:00:00",
          "2022-01-12T00:00:00",
          "2022-01-13T00:00:00",
          "2022-01-14T00:00:00",
          "2022-01-15T00:00:00",
          "2022-01-16T00:00:00",
          "2022-01-17T00:00:00",
          "2022-01-18T00:00:00",
          "2022-01-19T00:00:00",
          "2022-01-20T00:00:00",
          "2022-01-21T00:00:00",
          "2022-01-22T00:00:00",
          "2022-01-23T00:00:00",
          "2022-01-24T00:00:00",
          "2022-01-25T00:00:00",
          "2022-01-26T00:00:00",
          "2022-01-27T00:00:00",
          "2022-01-28T00:00:00",
          "2022-01-29T00:00:00",
          "2022-01-30T00:00:00",
          "2022-01-31T00:00:00",
          "2022-02-01T00:00:00",
          "2022-02-02T00:00:00",
          "2022-02-03T00:00:00",
          "2022-02-04T00:00:00",
          "2022-02-05T00:00:00",
          "2022-02-06T00:00:00",
          "2022-02-07T00:00:00",
          "2022-02-08T00:00:00",
          "2022-02-09T00:00:00",
          "2022-02-10T00:00:00",
          "2022-02-11T00:00:00",
          "2022-02-12T00:00:00",
          "2022-02-13T00:00:00",
          "2022-02-14T00:00:00",
          "2022-02-15T00:00:00",
          "2022-02-16T00:00:00",
          "2022-02-17T00:00:00",
          "2022-02-18T00:00:00",
          "2022-02-19T00:00:00",
          "2022-02-20T00:00:00",
          "2022-02-21T00:00:00",
          "2022-02-22T00:00:00",
          "2022-02-23T00:00:00",
          "2022-02-24T00:00:00",
          "2022-02-25T00:00:00",
          "2022-02-26T00:00:00",
          "2022-02-27T00:00:00",
          "2022-02-28T00:00:00",
          "2022-03-01T00:00:00"
         ],
         "xaxis": "x",
         "y": [
          0.02705503266063768,
          0.026886744125644166,
          0.027200056815166847,
          0.026904488379269866,
          0.026691643455374225,
          0.026698936307014025,
          0.027431721456029904,
          0.028104418649018092,
          0.027699506677751222,
          0.027750372287332317,
          0.027485270260363594,
          0.027747840228882232,
          0.027797958115411647,
          0.0276951938927976,
          0.02743547009879291,
          0.027601035403358513,
          0.02740542938827021,
          0.027505828801365585,
          0.02722936028212399,
          0.02735554924170984,
          0.027410921818343818,
          0.027514297817564086,
          0.027128262076471506,
          0.02743210041461129,
          0.027000679013427068,
          0.027050118589244245,
          0.027162025193470142,
          0.026761401680670968,
          0.026132185005207895,
          0.02596015010615568,
          0.02552303460099233,
          0.02568744729837215,
          0.025542314862858635,
          0.025609510374070596,
          0.025966284766963506,
          0.02503688110401039,
          0.025491343300802598,
          0.02551292586111822,
          0.029601211435758595,
          0.031513870254272824,
          0.031133730623236537,
          0.030463856522347666,
          0.028807875126739293,
          0.031066943920423543,
          0.030845167445563395,
          0.030243529724915858,
          0.03026071451160208,
          0.030236494185017483,
          0.030221033015233163,
          0.031463665301501485,
          0.03293709101605187,
          0.032454494527929645,
          0.03067588288037439,
          0.030458877362306912,
          0.030193455554508798,
          0.029454031420532024,
          0.03126732898613458,
          0.030604260269732123,
          0.03063349373991023,
          0.029390234943870663
         ],
         "yaxis": "y"
        },
        {
         "hovertemplate": "ID=solana<br>Date=%{x|%B %d, %Y}<br>value=%{y}<extra></extra>",
         "legendgroup": "solana",
         "line": {
          "color": "#FF6692",
          "dash": "solid"
         },
         "marker": {
          "symbol": "circle"
         },
         "mode": "lines",
         "name": "solana",
         "orientation": "v",
         "showlegend": true,
         "type": "scatter",
         "x": [
          "2022-01-01T00:00:00",
          "2022-01-02T00:00:00",
          "2022-01-03T00:00:00",
          "2022-01-04T00:00:00",
          "2022-01-05T00:00:00",
          "2022-01-06T00:00:00",
          "2022-01-07T00:00:00",
          "2022-01-08T00:00:00",
          "2022-01-09T00:00:00",
          "2022-01-10T00:00:00",
          "2022-01-11T00:00:00",
          "2022-01-12T00:00:00",
          "2022-01-13T00:00:00",
          "2022-01-14T00:00:00",
          "2022-01-15T00:00:00",
          "2022-01-16T00:00:00",
          "2022-01-17T00:00:00",
          "2022-01-18T00:00:00",
          "2022-01-19T00:00:00",
          "2022-01-20T00:00:00",
          "2022-01-21T00:00:00",
          "2022-01-22T00:00:00",
          "2022-01-23T00:00:00",
          "2022-01-24T00:00:00",
          "2022-01-25T00:00:00",
          "2022-01-26T00:00:00",
          "2022-01-27T00:00:00",
          "2022-01-28T00:00:00",
          "2022-01-29T00:00:00",
          "2022-01-30T00:00:00",
          "2022-01-31T00:00:00",
          "2022-02-01T00:00:00",
          "2022-02-02T00:00:00",
          "2022-02-03T00:00:00",
          "2022-02-04T00:00:00",
          "2022-02-05T00:00:00",
          "2022-02-06T00:00:00",
          "2022-02-07T00:00:00",
          "2022-02-08T00:00:00",
          "2022-02-09T00:00:00",
          "2022-02-10T00:00:00",
          "2022-02-11T00:00:00",
          "2022-02-12T00:00:00",
          "2022-02-13T00:00:00",
          "2022-02-14T00:00:00",
          "2022-02-15T00:00:00",
          "2022-02-16T00:00:00",
          "2022-02-17T00:00:00",
          "2022-02-18T00:00:00",
          "2022-02-19T00:00:00",
          "2022-02-20T00:00:00",
          "2022-02-21T00:00:00",
          "2022-02-22T00:00:00",
          "2022-02-23T00:00:00",
          "2022-02-24T00:00:00",
          "2022-02-25T00:00:00",
          "2022-02-26T00:00:00",
          "2022-02-27T00:00:00",
          "2022-02-28T00:00:00",
          "2022-03-01T00:00:00"
         ],
         "xaxis": "x",
         "y": [
          0.03621859083089511,
          0.036614789004054446,
          0.03628834825640231,
          0.035870313569823294,
          0.035437261321208884,
          0.03475411221313774,
          0.03439954960760384,
          0.032875727884862656,
          0.034625734049814026,
          0.03390191577035534,
          0.03299226417900665,
          0.03307605030172567,
          0.034629577183242034,
          0.03462001101589471,
          0.03409544093496891,
          0.034345240773653134,
          0.03426450372116118,
          0.03321158505773657,
          0.03378227441680727,
          0.03314781476010079,
          0.03232638271647992,
          0.03161044569809448,
          0.028170940724239087,
          0.028569278991737477,
          0.02655346515960297,
          0.02747401153002744,
          0.02665334518655669,
          0.025888804240588523,
          0.025685276321917208,
          0.02663978636845574,
          0.026033590100654203,
          0.027253210006573266,
          0.029532103987726217,
          0.028466191400507622,
          0.028345615656392712,
          0.02826712407292351,
          0.028617319905877785,
          0.028397928896763357,
          0.027951771072688016,
          0.02702174414855767,
          0.02677865458943524,
          0.02571125801053405,
          0.02419971277425048,
          0.024100143286322023,
          0.023585016354667986,
          0.024215127483686476,
          0.024884648111440477,
          0.024609124778353187,
          0.024461001271007,
          0.024012522086991138,
          0.024318268565561334,
          0.025448077042168657,
          0.024134074740867036,
          0.024277590351934976,
          0.024453268245268327,
          0.02509041696128029,
          0.02529739445506642,
          0.024495199818238552,
          0.02423630482357,
          0.02495863060658566
         ],
         "yaxis": "y"
        }
       ],
       "layout": {
        "legend": {
         "title": {
          "text": "ID"
         },
         "tracegroupgap": 0
        },
        "template": {
         "data": {
          "bar": [
           {
            "error_x": {
             "color": "#2a3f5f"
            },
            "error_y": {
             "color": "#2a3f5f"
            },
            "marker": {
             "line": {
              "color": "#E5ECF6",
              "width": 0.5
             },
             "pattern": {
              "fillmode": "overlay",
              "size": 10,
              "solidity": 0.2
             }
            },
            "type": "bar"
           }
          ],
          "barpolar": [
           {
            "marker": {
             "line": {
              "color": "#E5ECF6",
              "width": 0.5
             },
             "pattern": {
              "fillmode": "overlay",
              "size": 10,
              "solidity": 0.2
             }
            },
            "type": "barpolar"
           }
          ],
          "carpet": [
           {
            "aaxis": {
             "endlinecolor": "#2a3f5f",
             "gridcolor": "white",
             "linecolor": "white",
             "minorgridcolor": "white",
             "startlinecolor": "#2a3f5f"
            },
            "baxis": {
             "endlinecolor": "#2a3f5f",
             "gridcolor": "white",
             "linecolor": "white",
             "minorgridcolor": "white",
             "startlinecolor": "#2a3f5f"
            },
            "type": "carpet"
           }
          ],
          "choropleth": [
           {
            "colorbar": {
             "outlinewidth": 0,
             "ticks": ""
            },
            "type": "choropleth"
           }
          ],
          "contour": [
           {
            "colorbar": {
             "outlinewidth": 0,
             "ticks": ""
            },
            "colorscale": [
             [
              0,
              "#0d0887"
             ],
             [
              0.1111111111111111,
              "#46039f"
             ],
             [
              0.2222222222222222,
              "#7201a8"
             ],
             [
              0.3333333333333333,
              "#9c179e"
             ],
             [
              0.4444444444444444,
              "#bd3786"
             ],
             [
              0.5555555555555556,
              "#d8576b"
             ],
             [
              0.6666666666666666,
              "#ed7953"
             ],
             [
              0.7777777777777778,
              "#fb9f3a"
             ],
             [
              0.8888888888888888,
              "#fdca26"
             ],
             [
              1,
              "#f0f921"
             ]
            ],
            "type": "contour"
           }
          ],
          "contourcarpet": [
           {
            "colorbar": {
             "outlinewidth": 0,
             "ticks": ""
            },
            "type": "contourcarpet"
           }
          ],
          "heatmap": [
           {
            "colorbar": {
             "outlinewidth": 0,
             "ticks": ""
            },
            "colorscale": [
             [
              0,
              "#0d0887"
             ],
             [
              0.1111111111111111,
              "#46039f"
             ],
             [
              0.2222222222222222,
              "#7201a8"
             ],
             [
              0.3333333333333333,
              "#9c179e"
             ],
             [
              0.4444444444444444,
              "#bd3786"
             ],
             [
              0.5555555555555556,
              "#d8576b"
             ],
             [
              0.6666666666666666,
              "#ed7953"
             ],
             [
              0.7777777777777778,
              "#fb9f3a"
             ],
             [
              0.8888888888888888,
              "#fdca26"
             ],
             [
              1,
              "#f0f921"
             ]
            ],
            "type": "heatmap"
           }
          ],
          "heatmapgl": [
           {
            "colorbar": {
             "outlinewidth": 0,
             "ticks": ""
            },
            "colorscale": [
             [
              0,
              "#0d0887"
             ],
             [
              0.1111111111111111,
              "#46039f"
             ],
             [
              0.2222222222222222,
              "#7201a8"
             ],
             [
              0.3333333333333333,
              "#9c179e"
             ],
             [
              0.4444444444444444,
              "#bd3786"
             ],
             [
              0.5555555555555556,
              "#d8576b"
             ],
             [
              0.6666666666666666,
              "#ed7953"
             ],
             [
              0.7777777777777778,
              "#fb9f3a"
             ],
             [
              0.8888888888888888,
              "#fdca26"
             ],
             [
              1,
              "#f0f921"
             ]
            ],
            "type": "heatmapgl"
           }
          ],
          "histogram": [
           {
            "marker": {
             "pattern": {
              "fillmode": "overlay",
              "size": 10,
              "solidity": 0.2
             }
            },
            "type": "histogram"
           }
          ],
          "histogram2d": [
           {
            "colorbar": {
             "outlinewidth": 0,
             "ticks": ""
            },
            "colorscale": [
             [
              0,
              "#0d0887"
             ],
             [
              0.1111111111111111,
              "#46039f"
             ],
             [
              0.2222222222222222,
              "#7201a8"
             ],
             [
              0.3333333333333333,
              "#9c179e"
             ],
             [
              0.4444444444444444,
              "#bd3786"
             ],
             [
              0.5555555555555556,
              "#d8576b"
             ],
             [
              0.6666666666666666,
              "#ed7953"
             ],
             [
              0.7777777777777778,
              "#fb9f3a"
             ],
             [
              0.8888888888888888,
              "#fdca26"
             ],
             [
              1,
              "#f0f921"
             ]
            ],
            "type": "histogram2d"
           }
          ],
          "histogram2dcontour": [
           {
            "colorbar": {
             "outlinewidth": 0,
             "ticks": ""
            },
            "colorscale": [
             [
              0,
              "#0d0887"
             ],
             [
              0.1111111111111111,
              "#46039f"
             ],
             [
              0.2222222222222222,
              "#7201a8"
             ],
             [
              0.3333333333333333,
              "#9c179e"
             ],
             [
              0.4444444444444444,
              "#bd3786"
             ],
             [
              0.5555555555555556,
              "#d8576b"
             ],
             [
              0.6666666666666666,
              "#ed7953"
             ],
             [
              0.7777777777777778,
              "#fb9f3a"
             ],
             [
              0.8888888888888888,
              "#fdca26"
             ],
             [
              1,
              "#f0f921"
             ]
            ],
            "type": "histogram2dcontour"
           }
          ],
          "mesh3d": [
           {
            "colorbar": {
             "outlinewidth": 0,
             "ticks": ""
            },
            "type": "mesh3d"
           }
          ],
          "parcoords": [
           {
            "line": {
             "colorbar": {
              "outlinewidth": 0,
              "ticks": ""
             }
            },
            "type": "parcoords"
           }
          ],
          "pie": [
           {
            "automargin": true,
            "type": "pie"
           }
          ],
          "scatter": [
           {
            "fillpattern": {
             "fillmode": "overlay",
             "size": 10,
             "solidity": 0.2
            },
            "type": "scatter"
           }
          ],
          "scatter3d": [
           {
            "line": {
             "colorbar": {
              "outlinewidth": 0,
              "ticks": ""
             }
            },
            "marker": {
             "colorbar": {
              "outlinewidth": 0,
              "ticks": ""
             }
            },
            "type": "scatter3d"
           }
          ],
          "scattercarpet": [
           {
            "marker": {
             "colorbar": {
              "outlinewidth": 0,
              "ticks": ""
             }
            },
            "type": "scattercarpet"
           }
          ],
          "scattergeo": [
           {
            "marker": {
             "colorbar": {
              "outlinewidth": 0,
              "ticks": ""
             }
            },
            "type": "scattergeo"
           }
          ],
          "scattergl": [
           {
            "marker": {
             "colorbar": {
              "outlinewidth": 0,
              "ticks": ""
             }
            },
            "type": "scattergl"
           }
          ],
          "scattermapbox": [
           {
            "marker": {
             "colorbar": {
              "outlinewidth": 0,
              "ticks": ""
             }
            },
            "type": "scattermapbox"
           }
          ],
          "scatterpolar": [
           {
            "marker": {
             "colorbar": {
              "outlinewidth": 0,
              "ticks": ""
             }
            },
            "type": "scatterpolar"
           }
          ],
          "scatterpolargl": [
           {
            "marker": {
             "colorbar": {
              "outlinewidth": 0,
              "ticks": ""
             }
            },
            "type": "scatterpolargl"
           }
          ],
          "scatterternary": [
           {
            "marker": {
             "colorbar": {
              "outlinewidth": 0,
              "ticks": ""
             }
            },
            "type": "scatterternary"
           }
          ],
          "surface": [
           {
            "colorbar": {
             "outlinewidth": 0,
             "ticks": ""
            },
            "colorscale": [
             [
              0,
              "#0d0887"
             ],
             [
              0.1111111111111111,
              "#46039f"
             ],
             [
              0.2222222222222222,
              "#7201a8"
             ],
             [
              0.3333333333333333,
              "#9c179e"
             ],
             [
              0.4444444444444444,
              "#bd3786"
             ],
             [
              0.5555555555555556,
              "#d8576b"
             ],
             [
              0.6666666666666666,
              "#ed7953"
             ],
             [
              0.7777777777777778,
              "#fb9f3a"
             ],
             [
              0.8888888888888888,
              "#fdca26"
             ],
             [
              1,
              "#f0f921"
             ]
            ],
            "type": "surface"
           }
          ],
          "table": [
           {
            "cells": {
             "fill": {
              "color": "#EBF0F8"
             },
             "line": {
              "color": "white"
             }
            },
            "header": {
             "fill": {
              "color": "#C8D4E3"
             },
             "line": {
              "color": "white"
             }
            },
            "type": "table"
           }
          ]
         },
         "layout": {
          "annotationdefaults": {
           "arrowcolor": "#2a3f5f",
           "arrowhead": 0,
           "arrowwidth": 1
          },
          "autotypenumbers": "strict",
          "coloraxis": {
           "colorbar": {
            "outlinewidth": 0,
            "ticks": ""
           }
          },
          "colorscale": {
           "diverging": [
            [
             0,
             "#8e0152"
            ],
            [
             0.1,
             "#c51b7d"
            ],
            [
             0.2,
             "#de77ae"
            ],
            [
             0.3,
             "#f1b6da"
            ],
            [
             0.4,
             "#fde0ef"
            ],
            [
             0.5,
             "#f7f7f7"
            ],
            [
             0.6,
             "#e6f5d0"
            ],
            [
             0.7,
             "#b8e186"
            ],
            [
             0.8,
             "#7fbc41"
            ],
            [
             0.9,
             "#4d9221"
            ],
            [
             1,
             "#276419"
            ]
           ],
           "sequential": [
            [
             0,
             "#0d0887"
            ],
            [
             0.1111111111111111,
             "#46039f"
            ],
            [
             0.2222222222222222,
             "#7201a8"
            ],
            [
             0.3333333333333333,
             "#9c179e"
            ],
            [
             0.4444444444444444,
             "#bd3786"
            ],
            [
             0.5555555555555556,
             "#d8576b"
            ],
            [
             0.6666666666666666,
             "#ed7953"
            ],
            [
             0.7777777777777778,
             "#fb9f3a"
            ],
            [
             0.8888888888888888,
             "#fdca26"
            ],
            [
             1,
             "#f0f921"
            ]
           ],
           "sequentialminus": [
            [
             0,
             "#0d0887"
            ],
            [
             0.1111111111111111,
             "#46039f"
            ],
            [
             0.2222222222222222,
             "#7201a8"
            ],
            [
             0.3333333333333333,
             "#9c179e"
            ],
            [
             0.4444444444444444,
             "#bd3786"
            ],
            [
             0.5555555555555556,
             "#d8576b"
            ],
            [
             0.6666666666666666,
             "#ed7953"
            ],
            [
             0.7777777777777778,
             "#fb9f3a"
            ],
            [
             0.8888888888888888,
             "#fdca26"
            ],
            [
             1,
             "#f0f921"
            ]
           ]
          },
          "colorway": [
           "#636efa",
           "#EF553B",
           "#00cc96",
           "#ab63fa",
           "#FFA15A",
           "#19d3f3",
           "#FF6692",
           "#B6E880",
           "#FF97FF",
           "#FECB52"
          ],
          "font": {
           "color": "#2a3f5f"
          },
          "geo": {
           "bgcolor": "white",
           "lakecolor": "white",
           "landcolor": "#E5ECF6",
           "showlakes": true,
           "showland": true,
           "subunitcolor": "white"
          },
          "hoverlabel": {
           "align": "left"
          },
          "hovermode": "closest",
          "mapbox": {
           "style": "light"
          },
          "paper_bgcolor": "white",
          "plot_bgcolor": "#E5ECF6",
          "polar": {
           "angularaxis": {
            "gridcolor": "white",
            "linecolor": "white",
            "ticks": ""
           },
           "bgcolor": "#E5ECF6",
           "radialaxis": {
            "gridcolor": "white",
            "linecolor": "white",
            "ticks": ""
           }
          },
          "scene": {
           "xaxis": {
            "backgroundcolor": "#E5ECF6",
            "gridcolor": "white",
            "gridwidth": 2,
            "linecolor": "white",
            "showbackground": true,
            "ticks": "",
            "zerolinecolor": "white"
           },
           "yaxis": {
            "backgroundcolor": "#E5ECF6",
            "gridcolor": "white",
            "gridwidth": 2,
            "linecolor": "white",
            "showbackground": true,
            "ticks": "",
            "zerolinecolor": "white"
           },
           "zaxis": {
            "backgroundcolor": "#E5ECF6",
            "gridcolor": "white",
            "gridwidth": 2,
            "linecolor": "white",
            "showbackground": true,
            "ticks": "",
            "zerolinecolor": "white"
           }
          },
          "shapedefaults": {
           "line": {
            "color": "#2a3f5f"
           }
          },
          "ternary": {
           "aaxis": {
            "gridcolor": "white",
            "linecolor": "white",
            "ticks": ""
           },
           "baxis": {
            "gridcolor": "white",
            "linecolor": "white",
            "ticks": ""
           },
           "bgcolor": "#E5ECF6",
           "caxis": {
            "gridcolor": "white",
            "linecolor": "white",
            "ticks": ""
           }
          },
          "title": {
           "x": 0.05
          },
          "xaxis": {
           "automargin": true,
           "gridcolor": "white",
           "linecolor": "white",
           "ticks": "",
           "title": {
            "standoff": 15
           },
           "zerolinecolor": "white",
           "zerolinewidth": 2
          },
          "yaxis": {
           "automargin": true,
           "gridcolor": "white",
           "linecolor": "white",
           "ticks": "",
           "title": {
            "standoff": 15
           },
           "zerolinecolor": "white",
           "zerolinewidth": 2
          }
         }
        },
        "title": {
         "text": "Asset class value index 2022-01-01 to 2022-03-01"
        },
        "xaxis": {
         "anchor": "y",
         "domain": [
          0,
          1
         ],
         "dtick": "M1",
         "tickformat": "%b\n%Y",
         "title": {
          "text": "Date"
         }
        },
        "yaxis": {
         "anchor": "x",
         "domain": [
          0,
          1
         ],
         "title": {
          "text": "value"
         }
        }
       }
      },
      "text/html": [
       "<div>                            <div id=\"60442cb5-f07f-473b-a29c-dfc2fdf36d84\" class=\"plotly-graph-div\" style=\"height:525px; width:100%;\"></div>            <script type=\"text/javascript\">                require([\"plotly\"], function(Plotly) {                    window.PLOTLYENV=window.PLOTLYENV || {};                                    if (document.getElementById(\"60442cb5-f07f-473b-a29c-dfc2fdf36d84\")) {                    Plotly.newPlot(                        \"60442cb5-f07f-473b-a29c-dfc2fdf36d84\",                        [{\"hovertemplate\":\"ID=bitcoin<br>Date=%{x|%B %d, %Y}<br>value=%{y}<extra></extra>\",\"legendgroup\":\"bitcoin\",\"line\":{\"color\":\"#636efa\",\"dash\":\"solid\"},\"marker\":{\"symbol\":\"circle\"},\"mode\":\"lines\",\"name\":\"bitcoin\",\"orientation\":\"v\",\"showlegend\":true,\"x\":[\"2022-01-01T00:00:00\",\"2022-01-02T00:00:00\",\"2022-01-03T00:00:00\",\"2022-01-04T00:00:00\",\"2022-01-05T00:00:00\",\"2022-01-06T00:00:00\",\"2022-01-07T00:00:00\",\"2022-01-08T00:00:00\",\"2022-01-09T00:00:00\",\"2022-01-10T00:00:00\",\"2022-01-11T00:00:00\",\"2022-01-12T00:00:00\",\"2022-01-13T00:00:00\",\"2022-01-14T00:00:00\",\"2022-01-15T00:00:00\",\"2022-01-16T00:00:00\",\"2022-01-17T00:00:00\",\"2022-01-18T00:00:00\",\"2022-01-19T00:00:00\",\"2022-01-20T00:00:00\",\"2022-01-21T00:00:00\",\"2022-01-22T00:00:00\",\"2022-01-23T00:00:00\",\"2022-01-24T00:00:00\",\"2022-01-25T00:00:00\",\"2022-01-26T00:00:00\",\"2022-01-27T00:00:00\",\"2022-01-28T00:00:00\",\"2022-01-29T00:00:00\",\"2022-01-30T00:00:00\",\"2022-01-31T00:00:00\",\"2022-02-01T00:00:00\",\"2022-02-02T00:00:00\",\"2022-02-03T00:00:00\",\"2022-02-04T00:00:00\",\"2022-02-05T00:00:00\",\"2022-02-06T00:00:00\",\"2022-02-07T00:00:00\",\"2022-02-08T00:00:00\",\"2022-02-09T00:00:00\",\"2022-02-10T00:00:00\",\"2022-02-11T00:00:00\",\"2022-02-12T00:00:00\",\"2022-02-13T00:00:00\",\"2022-02-14T00:00:00\",\"2022-02-15T00:00:00\",\"2022-02-16T00:00:00\",\"2022-02-17T00:00:00\",\"2022-02-18T00:00:00\",\"2022-02-19T00:00:00\",\"2022-02-20T00:00:00\",\"2022-02-21T00:00:00\",\"2022-02-22T00:00:00\",\"2022-02-23T00:00:00\",\"2022-02-24T00:00:00\",\"2022-02-25T00:00:00\",\"2022-02-26T00:00:00\",\"2022-02-27T00:00:00\",\"2022-02-28T00:00:00\",\"2022-03-01T00:00:00\"],\"xaxis\":\"x\",\"y\":[0.5998141059237189,0.6012015785513763,0.5964736647515158,0.59708413103845,0.594034198260723,0.5970149752531124,0.6016733195812421,0.6077663355691979,0.614463308728665,0.612126228439286,0.6177454436162786,0.611061586179786,0.6064648887393519,0.6079897579278107,0.6069082548736788,0.6054156133025663,0.6021669592276528,0.6040244045054252,0.6093016037212593,0.6115398620533848,0.6145266267272038,0.6245060985068124,0.6326546282497736,0.6277718625086872,0.6396955842057944,0.6397751700536317,0.638144811685966,0.6452196334837419,0.6397703799066795,0.6372736991089737,0.6365761967595055,0.6326886537868919,0.6249564205978887,0.6237522747901819,0.6259803355053645,0.6255309642200639,0.623538491823597,0.6259007467480491,0.6244397901935689,0.6263802466808648,0.6207613498308373,0.6285445680352019,0.6356645540549601,0.6349496000268957,0.6375075510135702,0.6357895924395716,0.6286558416101398,0.6291945498820424,0.6296246284207542,0.6329399099129793,0.6339496483348497,0.6351970434219102,0.6347810382990973,0.6362432894718806,0.6350396154312842,0.6406621779625878,0.6305444435649893,0.6310208014472436,0.6356881169605093,0.6418874355341777],\"yaxis\":\"y\",\"type\":\"scatter\"},{\"hovertemplate\":\"ID=bitcoin_cash<br>Date=%{x|%B %d, %Y}<br>value=%{y}<extra></extra>\",\"legendgroup\":\"bitcoin_cash\",\"line\":{\"color\":\"#EF553B\",\"dash\":\"solid\"},\"marker\":{\"symbol\":\"circle\"},\"mode\":\"lines\",\"name\":\"bitcoin_cash\",\"orientation\":\"v\",\"showlegend\":true,\"x\":[\"2022-01-01T00:00:00\",\"2022-01-02T00:00:00\",\"2022-01-03T00:00:00\",\"2022-01-04T00:00:00\",\"2022-01-05T00:00:00\",\"2022-01-06T00:00:00\",\"2022-01-07T00:00:00\",\"2022-01-08T00:00:00\",\"2022-01-09T00:00:00\",\"2022-01-10T00:00:00\",\"2022-01-11T00:00:00\",\"2022-01-12T00:00:00\",\"2022-01-13T00:00:00\",\"2022-01-14T00:00:00\",\"2022-01-15T00:00:00\",\"2022-01-16T00:00:00\",\"2022-01-17T00:00:00\",\"2022-01-18T00:00:00\",\"2022-01-19T00:00:00\",\"2022-01-20T00:00:00\",\"2022-01-21T00:00:00\",\"2022-01-22T00:00:00\",\"2022-01-23T00:00:00\",\"2022-01-24T00:00:00\",\"2022-01-25T00:00:00\",\"2022-01-26T00:00:00\",\"2022-01-27T00:00:00\",\"2022-01-28T00:00:00\",\"2022-01-29T00:00:00\",\"2022-01-30T00:00:00\",\"2022-01-31T00:00:00\",\"2022-02-01T00:00:00\",\"2022-02-02T00:00:00\",\"2022-02-03T00:00:00\",\"2022-02-04T00:00:00\",\"2022-02-05T00:00:00\",\"2022-02-06T00:00:00\",\"2022-02-07T00:00:00\",\"2022-02-08T00:00:00\",\"2022-02-09T00:00:00\",\"2022-02-10T00:00:00\",\"2022-02-11T00:00:00\",\"2022-02-12T00:00:00\",\"2022-02-13T00:00:00\",\"2022-02-14T00:00:00\",\"2022-02-15T00:00:00\",\"2022-02-16T00:00:00\",\"2022-02-17T00:00:00\",\"2022-02-18T00:00:00\",\"2022-02-19T00:00:00\",\"2022-02-20T00:00:00\",\"2022-02-21T00:00:00\",\"2022-02-22T00:00:00\",\"2022-02-23T00:00:00\",\"2022-02-24T00:00:00\",\"2022-02-25T00:00:00\",\"2022-02-26T00:00:00\",\"2022-02-27T00:00:00\",\"2022-02-28T00:00:00\",\"2022-03-01T00:00:00\"],\"xaxis\":\"x\",\"y\":[0.0,0.0,0.0,0.0,0.0,0.0,0.0,0.0,0.0,0.0,0.0,0.0,0.0,0.0,0.0,0.0,0.0,0.0,0.0,0.0,0.0,0.0,0.0,0.0,0.0,0.0,0.0,0.0,0.0,0.0,0.0,0.0,0.0,0.0,0.0,0.0,0.0,0.0,0.0,0.0,0.0,0.0,0.0,0.0,0.0,0.0,0.0,0.0,0.0,0.0,0.0,0.0,0.0,0.0,0.0,0.0,0.0,0.0,0.0,null],\"yaxis\":\"y\",\"type\":\"scatter\"},{\"hovertemplate\":\"ID=cardano<br>Date=%{x|%B %d, %Y}<br>value=%{y}<extra></extra>\",\"legendgroup\":\"cardano\",\"line\":{\"color\":\"#00cc96\",\"dash\":\"solid\"},\"marker\":{\"symbol\":\"circle\"},\"mode\":\"lines\",\"name\":\"cardano\",\"orientation\":\"v\",\"showlegend\":true,\"x\":[\"2022-01-01T00:00:00\",\"2022-01-02T00:00:00\",\"2022-01-03T00:00:00\",\"2022-01-04T00:00:00\",\"2022-01-05T00:00:00\",\"2022-01-06T00:00:00\",\"2022-01-07T00:00:00\",\"2022-01-08T00:00:00\",\"2022-01-09T00:00:00\",\"2022-01-10T00:00:00\",\"2022-01-11T00:00:00\",\"2022-01-12T00:00:00\",\"2022-01-13T00:00:00\",\"2022-01-14T00:00:00\",\"2022-01-15T00:00:00\",\"2022-01-16T00:00:00\",\"2022-01-17T00:00:00\",\"2022-01-18T00:00:00\",\"2022-01-19T00:00:00\",\"2022-01-20T00:00:00\",\"2022-01-21T00:00:00\",\"2022-01-22T00:00:00\",\"2022-01-23T00:00:00\",\"2022-01-24T00:00:00\",\"2022-01-25T00:00:00\",\"2022-01-26T00:00:00\",\"2022-01-27T00:00:00\",\"2022-01-28T00:00:00\",\"2022-01-29T00:00:00\",\"2022-01-30T00:00:00\",\"2022-01-31T00:00:00\",\"2022-02-01T00:00:00\",\"2022-02-02T00:00:00\",\"2022-02-03T00:00:00\",\"2022-02-04T00:00:00\",\"2022-02-05T00:00:00\",\"2022-02-06T00:00:00\",\"2022-02-07T00:00:00\",\"2022-02-08T00:00:00\",\"2022-02-09T00:00:00\",\"2022-02-10T00:00:00\",\"2022-02-11T00:00:00\",\"2022-02-12T00:00:00\",\"2022-02-13T00:00:00\",\"2022-02-14T00:00:00\",\"2022-02-15T00:00:00\",\"2022-02-16T00:00:00\",\"2022-02-17T00:00:00\",\"2022-02-18T00:00:00\",\"2022-02-19T00:00:00\",\"2022-02-20T00:00:00\",\"2022-02-21T00:00:00\",\"2022-02-22T00:00:00\",\"2022-02-23T00:00:00\",\"2022-02-24T00:00:00\",\"2022-02-25T00:00:00\",\"2022-02-26T00:00:00\",\"2022-02-27T00:00:00\",\"2022-02-28T00:00:00\",\"2022-03-01T00:00:00\"],\"xaxis\":\"x\",\"y\":[0.028886227409113036,0.02937741519656867,0.029435088089713523,0.02887941762010897,0.028718461751011067,0.028830869079288526,0.030234306586622847,0.03004436783508361,0.029685395998584878,0.029061475464049483,0.028300441304136705,0.028754644106769693,0.030518824913999383,0.030017890747784593,0.03060071520198818,0.030855831543291752,0.033420898521938684,0.03810712414606517,0.035807345438616967,0.03336195015340047,0.0322745740252352,0.032780517299991555,0.03253052866725086,0.032830162621763144,0.031511593827502966,0.030610779839592855,0.031702043174553295,0.03087004656512463,0.03009857791935366,0.02997773973261115,0.029505421042883482,0.02930734937041748,0.02954889390225418,0.029424311542625144,0.030163807707871877,0.029133487721882966,0.02884809115859324,0.02866301831752028,0.028865043523346453,0.028316521618098476,0.028320144994415982,0.028117153843088022,0.027447584122239136,0.026901745458401603,0.026657092450637805,0.026528424268095128,0.02644036018352824,0.02627742192523575,0.026797782870923322,0.026703724159221925,0.026656586722740887,0.026221378988176204,0.025001818500498672,0.025065214601828423,0.025073543424869765,0.024107280705410454,0.024354149129082178,0.02422318148755481,0.02442619185129013,0.024006331219410388],\"yaxis\":\"y\",\"type\":\"scatter\"},{\"hovertemplate\":\"ID=ethereum<br>Date=%{x|%B %d, %Y}<br>value=%{y}<extra></extra>\",\"legendgroup\":\"ethereum\",\"line\":{\"color\":\"#ab63fa\",\"dash\":\"solid\"},\"marker\":{\"symbol\":\"circle\"},\"mode\":\"lines\",\"name\":\"ethereum\",\"orientation\":\"v\",\"showlegend\":true,\"x\":[\"2022-01-01T00:00:00\",\"2022-01-02T00:00:00\",\"2022-01-03T00:00:00\",\"2022-01-04T00:00:00\",\"2022-01-05T00:00:00\",\"2022-01-06T00:00:00\",\"2022-01-07T00:00:00\",\"2022-01-08T00:00:00\",\"2022-01-09T00:00:00\",\"2022-01-10T00:00:00\",\"2022-01-11T00:00:00\",\"2022-01-12T00:00:00\",\"2022-01-13T00:00:00\",\"2022-01-14T00:00:00\",\"2022-01-15T00:00:00\",\"2022-01-16T00:00:00\",\"2022-01-17T00:00:00\",\"2022-01-18T00:00:00\",\"2022-01-19T00:00:00\",\"2022-01-20T00:00:00\",\"2022-01-21T00:00:00\",\"2022-01-22T00:00:00\",\"2022-01-23T00:00:00\",\"2022-01-24T00:00:00\",\"2022-01-25T00:00:00\",\"2022-01-26T00:00:00\",\"2022-01-27T00:00:00\",\"2022-01-28T00:00:00\",\"2022-01-29T00:00:00\",\"2022-01-30T00:00:00\",\"2022-01-31T00:00:00\",\"2022-02-01T00:00:00\",\"2022-02-02T00:00:00\",\"2022-02-03T00:00:00\",\"2022-02-04T00:00:00\",\"2022-02-05T00:00:00\",\"2022-02-06T00:00:00\",\"2022-02-07T00:00:00\",\"2022-02-08T00:00:00\",\"2022-02-09T00:00:00\",\"2022-02-10T00:00:00\",\"2022-02-11T00:00:00\",\"2022-02-12T00:00:00\",\"2022-02-13T00:00:00\",\"2022-02-14T00:00:00\",\"2022-02-15T00:00:00\",\"2022-02-16T00:00:00\",\"2022-02-17T00:00:00\",\"2022-02-18T00:00:00\",\"2022-02-19T00:00:00\",\"2022-02-20T00:00:00\",\"2022-02-21T00:00:00\",\"2022-02-22T00:00:00\",\"2022-02-23T00:00:00\",\"2022-02-24T00:00:00\",\"2022-02-25T00:00:00\",\"2022-02-26T00:00:00\",\"2022-02-27T00:00:00\",\"2022-02-28T00:00:00\",\"2022-03-01T00:00:00\"],\"xaxis\":\"x\",\"y\":[0.3010669835363202,0.2989582719160893,0.3036094352071911,0.30426954273159323,0.3081711199199029,0.3058840933770436,0.29928828254353246,0.29417378272625105,0.2865308235465316,0.2901308608114124,0.28661640445629155,0.2924699433936728,0.29342168077201347,0.29252465711883546,0.2934892864463251,0.2941832762405275,0.2952334171350362,0.28920276305392395,0.2864142763228687,0.2872361116576143,0.2862000341188457,0.2763945590336058,0.27235012972580663,0.27630447107604306,0.2682191916820106,0.2682145577025214,0.2695280377887383,0.26443143946327474,0.2715177169197666,0.27336049888367003,0.2756631859274381,0.2784492301766418,0.283596506114298,0.2860353810274604,0.2827171032113081,0.28530987412926107,0.2867521470573497,0.2846213045367572,0.28199025258003,0.2797848185913604,0.2857751139337913,0.27999757342494996,0.2769262602655618,0.2759764369052682,0.2744201851557568,0.2763850720113332,0.2829296209753537,0.2829544494720275,0.2822756273659311,0.27820165062396696,0.2754226722583584,0.2739624806290401,0.2788657491830067,0.27739456419505376,0.27862249968453495,0.2742879463542895,0.28208080859594753,0.28324217077645325,0.27865172032724,0.27356478337892165],\"yaxis\":\"y\",\"type\":\"scatter\"},{\"hovertemplate\":\"ID=litecoin<br>Date=%{x|%B %d, %Y}<br>value=%{y}<extra></extra>\",\"legendgroup\":\"litecoin\",\"line\":{\"color\":\"#FFA15A\",\"dash\":\"solid\"},\"marker\":{\"symbol\":\"circle\"},\"mode\":\"lines\",\"name\":\"litecoin\",\"orientation\":\"v\",\"showlegend\":true,\"x\":[\"2022-01-01T00:00:00\",\"2022-01-02T00:00:00\",\"2022-01-03T00:00:00\",\"2022-01-04T00:00:00\",\"2022-01-05T00:00:00\",\"2022-01-06T00:00:00\",\"2022-01-07T00:00:00\",\"2022-01-08T00:00:00\",\"2022-01-09T00:00:00\",\"2022-01-10T00:00:00\",\"2022-01-11T00:00:00\",\"2022-01-12T00:00:00\",\"2022-01-13T00:00:00\",\"2022-01-14T00:00:00\",\"2022-01-15T00:00:00\",\"2022-01-16T00:00:00\",\"2022-01-17T00:00:00\",\"2022-01-18T00:00:00\",\"2022-01-19T00:00:00\",\"2022-01-20T00:00:00\",\"2022-01-21T00:00:00\",\"2022-01-22T00:00:00\",\"2022-01-23T00:00:00\",\"2022-01-24T00:00:00\",\"2022-01-25T00:00:00\",\"2022-01-26T00:00:00\",\"2022-01-27T00:00:00\",\"2022-01-28T00:00:00\",\"2022-01-29T00:00:00\",\"2022-01-30T00:00:00\",\"2022-01-31T00:00:00\",\"2022-02-01T00:00:00\",\"2022-02-02T00:00:00\",\"2022-02-03T00:00:00\",\"2022-02-04T00:00:00\",\"2022-02-05T00:00:00\",\"2022-02-06T00:00:00\",\"2022-02-07T00:00:00\",\"2022-02-08T00:00:00\",\"2022-02-09T00:00:00\",\"2022-02-10T00:00:00\",\"2022-02-11T00:00:00\",\"2022-02-12T00:00:00\",\"2022-02-13T00:00:00\",\"2022-02-14T00:00:00\",\"2022-02-15T00:00:00\",\"2022-02-16T00:00:00\",\"2022-02-17T00:00:00\",\"2022-02-18T00:00:00\",\"2022-02-19T00:00:00\",\"2022-02-20T00:00:00\",\"2022-02-21T00:00:00\",\"2022-02-22T00:00:00\",\"2022-02-23T00:00:00\",\"2022-02-24T00:00:00\",\"2022-02-25T00:00:00\",\"2022-02-26T00:00:00\",\"2022-02-27T00:00:00\",\"2022-02-28T00:00:00\",\"2022-03-01T00:00:00\"],\"xaxis\":\"x\",\"y\":[0.006959059639315114,0.006961201206267065,0.0069934068800105165,0.006992106660754527,0.006947315291779847,0.00681701377040364,0.006972820224968624,0.007035367335586702,0.006995230998653195,0.007029147227564469,0.006860176183923136,0.006889935789163624,0.007167070275981579,0.0071524892968769065,0.007470832444246046,0.007599002736602697,0.007508792005940847,0.007948294435483385,0.007465139818323827,0.007358712133789771,0.007261460593891598,0.007194081643931722,0.007165510556458276,0.007092124387157739,0.007019486111662031,0.006875362284982285,0.006809736970715449,0.006828674566599318,0.006795863927074993,0.0067881258001337,0.006698571568526408,0.006614109361103349,0.006823760534974252,0.006712330865154155,0.006826853152099282,0.006721668751858322,0.006752606753779747,0.0069040756397918575,0.007151931194608025,0.006982798706845749,0.0072310060282835655,0.007165590163878523,0.006954013656249317,0.007005130402689015,0.006984987579803898,0.006838254072397627,0.006828814607935615,0.006727959757323774,0.006619927056151392,0.00667852791533917,0.0067157331024380856,0.006716525390775063,0.006541436396155906,0.006560464016995325,0.00661761765953404,0.006398146595899735,0.006455875268780035,0.006414386200777592,0.006364172297480218,0.006192584317033971],\"yaxis\":\"y\",\"type\":\"scatter\"},{\"hovertemplate\":\"ID=ripple<br>Date=%{x|%B %d, %Y}<br>value=%{y}<extra></extra>\",\"legendgroup\":\"ripple\",\"line\":{\"color\":\"#19d3f3\",\"dash\":\"solid\"},\"marker\":{\"symbol\":\"circle\"},\"mode\":\"lines\",\"name\":\"ripple\",\"orientation\":\"v\",\"showlegend\":true,\"x\":[\"2022-01-01T00:00:00\",\"2022-01-02T00:00:00\",\"2022-01-03T00:00:00\",\"2022-01-04T00:00:00\",\"2022-01-05T00:00:00\",\"2022-01-06T00:00:00\",\"2022-01-07T00:00:00\",\"2022-01-08T00:00:00\",\"2022-01-09T00:00:00\",\"2022-01-10T00:00:00\",\"2022-01-11T00:00:00\",\"2022-01-12T00:00:00\",\"2022-01-13T00:00:00\",\"2022-01-14T00:00:00\",\"2022-01-15T00:00:00\",\"2022-01-16T00:00:00\",\"2022-01-17T00:00:00\",\"2022-01-18T00:00:00\",\"2022-01-19T00:00:00\",\"2022-01-20T00:00:00\",\"2022-01-21T00:00:00\",\"2022-01-22T00:00:00\",\"2022-01-23T00:00:00\",\"2022-01-24T00:00:00\",\"2022-01-25T00:00:00\",\"2022-01-26T00:00:00\",\"2022-01-27T00:00:00\",\"2022-01-28T00:00:00\",\"2022-01-29T00:00:00\",\"2022-01-30T00:00:00\",\"2022-01-31T00:00:00\",\"2022-02-01T00:00:00\",\"2022-02-02T00:00:00\",\"2022-02-03T00:00:00\",\"2022-02-04T00:00:00\",\"2022-02-05T00:00:00\",\"2022-02-06T00:00:00\",\"2022-02-07T00:00:00\",\"2022-02-08T00:00:00\",\"2022-02-09T00:00:00\",\"2022-02-10T00:00:00\",\"2022-02-11T00:00:00\",\"2022-02-12T00:00:00\",\"2022-02-13T00:00:00\",\"2022-02-14T00:00:00\",\"2022-02-15T00:00:00\",\"2022-02-16T00:00:00\",\"2022-02-17T00:00:00\",\"2022-02-18T00:00:00\",\"2022-02-19T00:00:00\",\"2022-02-20T00:00:00\",\"2022-02-21T00:00:00\",\"2022-02-22T00:00:00\",\"2022-02-23T00:00:00\",\"2022-02-24T00:00:00\",\"2022-02-25T00:00:00\",\"2022-02-26T00:00:00\",\"2022-02-27T00:00:00\",\"2022-02-28T00:00:00\",\"2022-03-01T00:00:00\"],\"xaxis\":\"x\",\"y\":[0.02705503266063768,0.026886744125644166,0.027200056815166847,0.026904488379269866,0.026691643455374225,0.026698936307014025,0.027431721456029904,0.028104418649018092,0.027699506677751222,0.027750372287332317,0.027485270260363594,0.027747840228882232,0.027797958115411647,0.0276951938927976,0.02743547009879291,0.027601035403358513,0.02740542938827021,0.027505828801365585,0.02722936028212399,0.02735554924170984,0.027410921818343818,0.027514297817564086,0.027128262076471506,0.02743210041461129,0.027000679013427068,0.027050118589244245,0.027162025193470142,0.026761401680670968,0.026132185005207895,0.02596015010615568,0.02552303460099233,0.02568744729837215,0.025542314862858635,0.025609510374070596,0.025966284766963506,0.02503688110401039,0.025491343300802598,0.02551292586111822,0.029601211435758595,0.031513870254272824,0.031133730623236537,0.030463856522347666,0.028807875126739293,0.031066943920423543,0.030845167445563395,0.030243529724915858,0.03026071451160208,0.030236494185017483,0.030221033015233163,0.031463665301501485,0.03293709101605187,0.032454494527929645,0.03067588288037439,0.030458877362306912,0.030193455554508798,0.029454031420532024,0.03126732898613458,0.030604260269732123,0.03063349373991023,0.029390234943870663],\"yaxis\":\"y\",\"type\":\"scatter\"},{\"hovertemplate\":\"ID=solana<br>Date=%{x|%B %d, %Y}<br>value=%{y}<extra></extra>\",\"legendgroup\":\"solana\",\"line\":{\"color\":\"#FF6692\",\"dash\":\"solid\"},\"marker\":{\"symbol\":\"circle\"},\"mode\":\"lines\",\"name\":\"solana\",\"orientation\":\"v\",\"showlegend\":true,\"x\":[\"2022-01-01T00:00:00\",\"2022-01-02T00:00:00\",\"2022-01-03T00:00:00\",\"2022-01-04T00:00:00\",\"2022-01-05T00:00:00\",\"2022-01-06T00:00:00\",\"2022-01-07T00:00:00\",\"2022-01-08T00:00:00\",\"2022-01-09T00:00:00\",\"2022-01-10T00:00:00\",\"2022-01-11T00:00:00\",\"2022-01-12T00:00:00\",\"2022-01-13T00:00:00\",\"2022-01-14T00:00:00\",\"2022-01-15T00:00:00\",\"2022-01-16T00:00:00\",\"2022-01-17T00:00:00\",\"2022-01-18T00:00:00\",\"2022-01-19T00:00:00\",\"2022-01-20T00:00:00\",\"2022-01-21T00:00:00\",\"2022-01-22T00:00:00\",\"2022-01-23T00:00:00\",\"2022-01-24T00:00:00\",\"2022-01-25T00:00:00\",\"2022-01-26T00:00:00\",\"2022-01-27T00:00:00\",\"2022-01-28T00:00:00\",\"2022-01-29T00:00:00\",\"2022-01-30T00:00:00\",\"2022-01-31T00:00:00\",\"2022-02-01T00:00:00\",\"2022-02-02T00:00:00\",\"2022-02-03T00:00:00\",\"2022-02-04T00:00:00\",\"2022-02-05T00:00:00\",\"2022-02-06T00:00:00\",\"2022-02-07T00:00:00\",\"2022-02-08T00:00:00\",\"2022-02-09T00:00:00\",\"2022-02-10T00:00:00\",\"2022-02-11T00:00:00\",\"2022-02-12T00:00:00\",\"2022-02-13T00:00:00\",\"2022-02-14T00:00:00\",\"2022-02-15T00:00:00\",\"2022-02-16T00:00:00\",\"2022-02-17T00:00:00\",\"2022-02-18T00:00:00\",\"2022-02-19T00:00:00\",\"2022-02-20T00:00:00\",\"2022-02-21T00:00:00\",\"2022-02-22T00:00:00\",\"2022-02-23T00:00:00\",\"2022-02-24T00:00:00\",\"2022-02-25T00:00:00\",\"2022-02-26T00:00:00\",\"2022-02-27T00:00:00\",\"2022-02-28T00:00:00\",\"2022-03-01T00:00:00\"],\"xaxis\":\"x\",\"y\":[0.03621859083089511,0.036614789004054446,0.03628834825640231,0.035870313569823294,0.035437261321208884,0.03475411221313774,0.03439954960760384,0.032875727884862656,0.034625734049814026,0.03390191577035534,0.03299226417900665,0.03307605030172567,0.034629577183242034,0.03462001101589471,0.03409544093496891,0.034345240773653134,0.03426450372116118,0.03321158505773657,0.03378227441680727,0.03314781476010079,0.03232638271647992,0.03161044569809448,0.028170940724239087,0.028569278991737477,0.02655346515960297,0.02747401153002744,0.02665334518655669,0.025888804240588523,0.025685276321917208,0.02663978636845574,0.026033590100654203,0.027253210006573266,0.029532103987726217,0.028466191400507622,0.028345615656392712,0.02826712407292351,0.028617319905877785,0.028397928896763357,0.027951771072688016,0.02702174414855767,0.02677865458943524,0.02571125801053405,0.02419971277425048,0.024100143286322023,0.023585016354667986,0.024215127483686476,0.024884648111440477,0.024609124778353187,0.024461001271007,0.024012522086991138,0.024318268565561334,0.025448077042168657,0.024134074740867036,0.024277590351934976,0.024453268245268327,0.02509041696128029,0.02529739445506642,0.024495199818238552,0.02423630482357,0.02495863060658566],\"yaxis\":\"y\",\"type\":\"scatter\"}],                        {\"template\":{\"data\":{\"histogram2dcontour\":[{\"type\":\"histogram2dcontour\",\"colorbar\":{\"outlinewidth\":0,\"ticks\":\"\"},\"colorscale\":[[0.0,\"#0d0887\"],[0.1111111111111111,\"#46039f\"],[0.2222222222222222,\"#7201a8\"],[0.3333333333333333,\"#9c179e\"],[0.4444444444444444,\"#bd3786\"],[0.5555555555555556,\"#d8576b\"],[0.6666666666666666,\"#ed7953\"],[0.7777777777777778,\"#fb9f3a\"],[0.8888888888888888,\"#fdca26\"],[1.0,\"#f0f921\"]]}],\"choropleth\":[{\"type\":\"choropleth\",\"colorbar\":{\"outlinewidth\":0,\"ticks\":\"\"}}],\"histogram2d\":[{\"type\":\"histogram2d\",\"colorbar\":{\"outlinewidth\":0,\"ticks\":\"\"},\"colorscale\":[[0.0,\"#0d0887\"],[0.1111111111111111,\"#46039f\"],[0.2222222222222222,\"#7201a8\"],[0.3333333333333333,\"#9c179e\"],[0.4444444444444444,\"#bd3786\"],[0.5555555555555556,\"#d8576b\"],[0.6666666666666666,\"#ed7953\"],[0.7777777777777778,\"#fb9f3a\"],[0.8888888888888888,\"#fdca26\"],[1.0,\"#f0f921\"]]}],\"heatmap\":[{\"type\":\"heatmap\",\"colorbar\":{\"outlinewidth\":0,\"ticks\":\"\"},\"colorscale\":[[0.0,\"#0d0887\"],[0.1111111111111111,\"#46039f\"],[0.2222222222222222,\"#7201a8\"],[0.3333333333333333,\"#9c179e\"],[0.4444444444444444,\"#bd3786\"],[0.5555555555555556,\"#d8576b\"],[0.6666666666666666,\"#ed7953\"],[0.7777777777777778,\"#fb9f3a\"],[0.8888888888888888,\"#fdca26\"],[1.0,\"#f0f921\"]]}],\"heatmapgl\":[{\"type\":\"heatmapgl\",\"colorbar\":{\"outlinewidth\":0,\"ticks\":\"\"},\"colorscale\":[[0.0,\"#0d0887\"],[0.1111111111111111,\"#46039f\"],[0.2222222222222222,\"#7201a8\"],[0.3333333333333333,\"#9c179e\"],[0.4444444444444444,\"#bd3786\"],[0.5555555555555556,\"#d8576b\"],[0.6666666666666666,\"#ed7953\"],[0.7777777777777778,\"#fb9f3a\"],[0.8888888888888888,\"#fdca26\"],[1.0,\"#f0f921\"]]}],\"contourcarpet\":[{\"type\":\"contourcarpet\",\"colorbar\":{\"outlinewidth\":0,\"ticks\":\"\"}}],\"contour\":[{\"type\":\"contour\",\"colorbar\":{\"outlinewidth\":0,\"ticks\":\"\"},\"colorscale\":[[0.0,\"#0d0887\"],[0.1111111111111111,\"#46039f\"],[0.2222222222222222,\"#7201a8\"],[0.3333333333333333,\"#9c179e\"],[0.4444444444444444,\"#bd3786\"],[0.5555555555555556,\"#d8576b\"],[0.6666666666666666,\"#ed7953\"],[0.7777777777777778,\"#fb9f3a\"],[0.8888888888888888,\"#fdca26\"],[1.0,\"#f0f921\"]]}],\"surface\":[{\"type\":\"surface\",\"colorbar\":{\"outlinewidth\":0,\"ticks\":\"\"},\"colorscale\":[[0.0,\"#0d0887\"],[0.1111111111111111,\"#46039f\"],[0.2222222222222222,\"#7201a8\"],[0.3333333333333333,\"#9c179e\"],[0.4444444444444444,\"#bd3786\"],[0.5555555555555556,\"#d8576b\"],[0.6666666666666666,\"#ed7953\"],[0.7777777777777778,\"#fb9f3a\"],[0.8888888888888888,\"#fdca26\"],[1.0,\"#f0f921\"]]}],\"mesh3d\":[{\"type\":\"mesh3d\",\"colorbar\":{\"outlinewidth\":0,\"ticks\":\"\"}}],\"scatter\":[{\"fillpattern\":{\"fillmode\":\"overlay\",\"size\":10,\"solidity\":0.2},\"type\":\"scatter\"}],\"parcoords\":[{\"type\":\"parcoords\",\"line\":{\"colorbar\":{\"outlinewidth\":0,\"ticks\":\"\"}}}],\"scatterpolargl\":[{\"type\":\"scatterpolargl\",\"marker\":{\"colorbar\":{\"outlinewidth\":0,\"ticks\":\"\"}}}],\"bar\":[{\"error_x\":{\"color\":\"#2a3f5f\"},\"error_y\":{\"color\":\"#2a3f5f\"},\"marker\":{\"line\":{\"color\":\"#E5ECF6\",\"width\":0.5},\"pattern\":{\"fillmode\":\"overlay\",\"size\":10,\"solidity\":0.2}},\"type\":\"bar\"}],\"scattergeo\":[{\"type\":\"scattergeo\",\"marker\":{\"colorbar\":{\"outlinewidth\":0,\"ticks\":\"\"}}}],\"scatterpolar\":[{\"type\":\"scatterpolar\",\"marker\":{\"colorbar\":{\"outlinewidth\":0,\"ticks\":\"\"}}}],\"histogram\":[{\"marker\":{\"pattern\":{\"fillmode\":\"overlay\",\"size\":10,\"solidity\":0.2}},\"type\":\"histogram\"}],\"scattergl\":[{\"type\":\"scattergl\",\"marker\":{\"colorbar\":{\"outlinewidth\":0,\"ticks\":\"\"}}}],\"scatter3d\":[{\"type\":\"scatter3d\",\"line\":{\"colorbar\":{\"outlinewidth\":0,\"ticks\":\"\"}},\"marker\":{\"colorbar\":{\"outlinewidth\":0,\"ticks\":\"\"}}}],\"scattermapbox\":[{\"type\":\"scattermapbox\",\"marker\":{\"colorbar\":{\"outlinewidth\":0,\"ticks\":\"\"}}}],\"scatterternary\":[{\"type\":\"scatterternary\",\"marker\":{\"colorbar\":{\"outlinewidth\":0,\"ticks\":\"\"}}}],\"scattercarpet\":[{\"type\":\"scattercarpet\",\"marker\":{\"colorbar\":{\"outlinewidth\":0,\"ticks\":\"\"}}}],\"carpet\":[{\"aaxis\":{\"endlinecolor\":\"#2a3f5f\",\"gridcolor\":\"white\",\"linecolor\":\"white\",\"minorgridcolor\":\"white\",\"startlinecolor\":\"#2a3f5f\"},\"baxis\":{\"endlinecolor\":\"#2a3f5f\",\"gridcolor\":\"white\",\"linecolor\":\"white\",\"minorgridcolor\":\"white\",\"startlinecolor\":\"#2a3f5f\"},\"type\":\"carpet\"}],\"table\":[{\"cells\":{\"fill\":{\"color\":\"#EBF0F8\"},\"line\":{\"color\":\"white\"}},\"header\":{\"fill\":{\"color\":\"#C8D4E3\"},\"line\":{\"color\":\"white\"}},\"type\":\"table\"}],\"barpolar\":[{\"marker\":{\"line\":{\"color\":\"#E5ECF6\",\"width\":0.5},\"pattern\":{\"fillmode\":\"overlay\",\"size\":10,\"solidity\":0.2}},\"type\":\"barpolar\"}],\"pie\":[{\"automargin\":true,\"type\":\"pie\"}]},\"layout\":{\"autotypenumbers\":\"strict\",\"colorway\":[\"#636efa\",\"#EF553B\",\"#00cc96\",\"#ab63fa\",\"#FFA15A\",\"#19d3f3\",\"#FF6692\",\"#B6E880\",\"#FF97FF\",\"#FECB52\"],\"font\":{\"color\":\"#2a3f5f\"},\"hovermode\":\"closest\",\"hoverlabel\":{\"align\":\"left\"},\"paper_bgcolor\":\"white\",\"plot_bgcolor\":\"#E5ECF6\",\"polar\":{\"bgcolor\":\"#E5ECF6\",\"angularaxis\":{\"gridcolor\":\"white\",\"linecolor\":\"white\",\"ticks\":\"\"},\"radialaxis\":{\"gridcolor\":\"white\",\"linecolor\":\"white\",\"ticks\":\"\"}},\"ternary\":{\"bgcolor\":\"#E5ECF6\",\"aaxis\":{\"gridcolor\":\"white\",\"linecolor\":\"white\",\"ticks\":\"\"},\"baxis\":{\"gridcolor\":\"white\",\"linecolor\":\"white\",\"ticks\":\"\"},\"caxis\":{\"gridcolor\":\"white\",\"linecolor\":\"white\",\"ticks\":\"\"}},\"coloraxis\":{\"colorbar\":{\"outlinewidth\":0,\"ticks\":\"\"}},\"colorscale\":{\"sequential\":[[0.0,\"#0d0887\"],[0.1111111111111111,\"#46039f\"],[0.2222222222222222,\"#7201a8\"],[0.3333333333333333,\"#9c179e\"],[0.4444444444444444,\"#bd3786\"],[0.5555555555555556,\"#d8576b\"],[0.6666666666666666,\"#ed7953\"],[0.7777777777777778,\"#fb9f3a\"],[0.8888888888888888,\"#fdca26\"],[1.0,\"#f0f921\"]],\"sequentialminus\":[[0.0,\"#0d0887\"],[0.1111111111111111,\"#46039f\"],[0.2222222222222222,\"#7201a8\"],[0.3333333333333333,\"#9c179e\"],[0.4444444444444444,\"#bd3786\"],[0.5555555555555556,\"#d8576b\"],[0.6666666666666666,\"#ed7953\"],[0.7777777777777778,\"#fb9f3a\"],[0.8888888888888888,\"#fdca26\"],[1.0,\"#f0f921\"]],\"diverging\":[[0,\"#8e0152\"],[0.1,\"#c51b7d\"],[0.2,\"#de77ae\"],[0.3,\"#f1b6da\"],[0.4,\"#fde0ef\"],[0.5,\"#f7f7f7\"],[0.6,\"#e6f5d0\"],[0.7,\"#b8e186\"],[0.8,\"#7fbc41\"],[0.9,\"#4d9221\"],[1,\"#276419\"]]},\"xaxis\":{\"gridcolor\":\"white\",\"linecolor\":\"white\",\"ticks\":\"\",\"title\":{\"standoff\":15},\"zerolinecolor\":\"white\",\"automargin\":true,\"zerolinewidth\":2},\"yaxis\":{\"gridcolor\":\"white\",\"linecolor\":\"white\",\"ticks\":\"\",\"title\":{\"standoff\":15},\"zerolinecolor\":\"white\",\"automargin\":true,\"zerolinewidth\":2},\"scene\":{\"xaxis\":{\"backgroundcolor\":\"#E5ECF6\",\"gridcolor\":\"white\",\"linecolor\":\"white\",\"showbackground\":true,\"ticks\":\"\",\"zerolinecolor\":\"white\",\"gridwidth\":2},\"yaxis\":{\"backgroundcolor\":\"#E5ECF6\",\"gridcolor\":\"white\",\"linecolor\":\"white\",\"showbackground\":true,\"ticks\":\"\",\"zerolinecolor\":\"white\",\"gridwidth\":2},\"zaxis\":{\"backgroundcolor\":\"#E5ECF6\",\"gridcolor\":\"white\",\"linecolor\":\"white\",\"showbackground\":true,\"ticks\":\"\",\"zerolinecolor\":\"white\",\"gridwidth\":2}},\"shapedefaults\":{\"line\":{\"color\":\"#2a3f5f\"}},\"annotationdefaults\":{\"arrowcolor\":\"#2a3f5f\",\"arrowhead\":0,\"arrowwidth\":1},\"geo\":{\"bgcolor\":\"white\",\"landcolor\":\"#E5ECF6\",\"subunitcolor\":\"white\",\"showland\":true,\"showlakes\":true,\"lakecolor\":\"white\"},\"title\":{\"x\":0.05},\"mapbox\":{\"style\":\"light\"}}},\"xaxis\":{\"anchor\":\"y\",\"domain\":[0.0,1.0],\"title\":{\"text\":\"Date\"},\"dtick\":\"M1\",\"tickformat\":\"%b\\n%Y\"},\"yaxis\":{\"anchor\":\"x\",\"domain\":[0.0,1.0],\"title\":{\"text\":\"value\"}},\"legend\":{\"title\":{\"text\":\"ID\"},\"tracegroupgap\":0},\"title\":{\"text\":\"Asset class value index 2022-01-01 to 2022-03-01\"}},                        {\"responsive\": true}                    ).then(function(){\n",
       "                            \n",
       "var gd = document.getElementById('60442cb5-f07f-473b-a29c-dfc2fdf36d84');\n",
       "var x = new MutationObserver(function (mutations, observer) {{\n",
       "        var display = window.getComputedStyle(gd).display;\n",
       "        if (!display || display === 'none') {{\n",
       "            console.log([gd, 'removed!']);\n",
       "            Plotly.purge(gd);\n",
       "            observer.disconnect();\n",
       "        }}\n",
       "}});\n",
       "\n",
       "// Listen for the removal of the full notebook cells\n",
       "var notebookContainer = gd.closest('#notebook-container');\n",
       "if (notebookContainer) {{\n",
       "    x.observe(notebookContainer, {childList: true});\n",
       "}}\n",
       "\n",
       "// Listen for the clearing of the current output cell\n",
       "var outputEl = gd.closest('.output');\n",
       "if (outputEl) {{\n",
       "    x.observe(outputEl, {childList: true});\n",
       "}}\n",
       "\n",
       "                        })                };                });            </script>        </div>"
      ]
     },
     "metadata": {},
     "output_type": "display_data"
    }
   ],
   "source": [
    "import plotly.express as px\n",
    "\n",
    "index_df = clsPerfIndex.get_value_index(piv_marketcap_df)\n",
    "\n",
    "_min_date = (index_df[\"Date\"].min()).date()\n",
    "_max_date = (index_df[\"Date\"].max()).date()\n",
    "_title = \"Asset class value index \"+str(_min_date)+\" to \"+str(_max_date)\n",
    "fig = px.line(index_df, x=\"Date\", y=index_df.columns,\n",
    "              hover_data={\"Date\": \"|%B %d, %Y\"},\n",
    "              title=_title)\n",
    "fig.update_xaxes(\n",
    "    dtick=\"M1\",\n",
    "    tickformat=\"%b\\n%Y\")\n",
    "fig.show()"
   ]
  },
  {
   "cell_type": "code",
   "execution_count": null,
   "id": "13883175",
   "metadata": {},
   "outputs": [],
   "source": []
  }
 ],
 "metadata": {
  "kernelspec": {
   "display_name": "Python 3 (ipykernel)",
   "language": "python",
   "name": "python3"
  },
  "language_info": {
   "codemirror_mode": {
    "name": "ipython",
    "version": 3
   },
   "file_extension": ".py",
   "mimetype": "text/x-python",
   "name": "python",
   "nbconvert_exporter": "python",
   "pygments_lexer": "ipython3",
   "version": "3.8.10"
  },
  "vscode": {
   "interpreter": {
    "hash": "e7370f93d1d0cde622a1f8e1c04877d8463912d04d973331ad4851f04de6915a"
   }
  }
 },
 "nbformat": 4,
 "nbformat_minor": 5
}
