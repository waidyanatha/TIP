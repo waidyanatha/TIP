{
 "cells": [
  {
   "cell_type": "markdown",
   "id": "0094bf7c",
   "metadata": {},
   "source": [
    "# Index Performance Analysis\n",
    "\n",
    "Refer to the [Introduction](/home/gnewy/workspace/starxetp/notebooks/introduction.ipynb) on how to use the notebook.\n",
    "\n",
    "* Follow a similar procedure to that of [Portfolio Allocation and Pair Trading Strategy](https://blog.quantinsti.com/portfolio-allocation-pair-trading-strategy-python-project-ravindra-rawat/)\n",
    "* [A strategy combining momentum and mean reversion](https://www.quantconnect.com/tutorials/strategy-library/combining-mean-reversion-and-momentum-in-forex-market)\n",
    "* Using these factors we use regression to predict the returns of the coming month.\n",
    "\n",
    "### ETP market quality\n",
    "* Exchange Traded Product (ETP) investors would look at [five key metrics](https://www.ishares.com/us/insights/etf-trends/etp-market-quality-metrics) when assessing market quality. _We are only interested in the first three_.\n",
    "   1. ___Usage___: liquidity of an ETP is a key component of market quality - ETP trading volumes are important because increased liquidity can create a network effect; i.e. the most heavily traded ETPs are typically the cheapest to trade, which spurs even more ___usage___.\n",
    "   1. ___Tracking___: difference and volatility reflect an ETP's ability to deliver returns that are consistent its benchmark, as well as closely replicate benchmark performance consistently over time. An index ETP with high market quality should deliver this consistency in all market conditions.\n",
    "   1. ___Trading costs___: When the cost of rebalancing an ETP higher than a tolerance band to that of the ETP’s underlying holdings, or exhibits less sensitivity to stressed market conditions, it is a potential signal of high market quality.\n",
    "   1. ___Premium/discounts behavior___: ETP premiums and discounts in illiquid or volatile markets can indicate an ETP is providing price discovery—both signals of market quality.\n",
    "   1. ___Primary market efficiency___ - A diverse set of authorized participants and a stable platform are crucial for insight into the ETP’s market qualityfor because the ETP’s primary market operations must be efficient.\n",
    "* Preperations for the [Backtesting](https://teddykoker.com/2019/05/momentum-strategy-from-stocks-on-the-move-in-python/)\n"
   ]
  },
  {
   "cell_type": "code",
   "execution_count": 1,
   "id": "fe6edec7",
   "metadata": {},
   "outputs": [],
   "source": [
    "'''\n",
    "    WARNING CONTROL to display or ignore all warnings\n",
    "'''\n",
    "import warnings; warnings.simplefilter('default')     #switch betweeb 'default' and 'ignore'\n",
    "\n",
    "''' Set debug flag to view extended error messages; else set it to False to turn off debugging mode '''\n",
    "debug = True"
   ]
  },
  {
   "cell_type": "markdown",
   "id": "22b11f8e",
   "metadata": {},
   "source": [
    "# PREP THE DATA\n",
    "* load the market cap data from the data files\n",
    "* filter the data by the date range\n",
    "* calculate the moving average"
   ]
  },
  {
   "cell_type": "code",
   "execution_count": 3,
   "id": "49f89ca6",
   "metadata": {},
   "outputs": [
    {
     "name": "stdout",
     "output_type": "stream",
     "text": [
      "All packages in ExtractLoadTransform loaded successfully!\n",
      "Loading and filtering data ... this may take a while.\n",
      "Loaded 419 rows Index(['Date', 'ID', 'Symbol', 'market_cap'], dtype='object')\n",
      "Data from 2022-01-01 to 2022-03-01 loaded and transformed into a pivot table with 60 rows complete!\n"
     ]
    }
   ],
   "source": [
    "import sys\n",
    "sys.path.insert(1, '../lib')\n",
    "import clsDataETL as etl\n",
    "import datetime\n",
    "\n",
    "'''\n",
    "    To filter data by a date range change the two date parameters below\n",
    "'''\n",
    "start_dt = datetime.date(2022,1,1)\n",
    "end_dt = datetime.date(2022,3,1)\n",
    "\n",
    "if debug:\n",
    "    import importlib\n",
    "    etl = importlib.reload(etl)\n",
    "\n",
    "''' Set the data source and temporal range '''\n",
    "_path = \"../data/market_cap_2021-01-01_2022-06-01/\"\n",
    "# start_dt = datetime.date(2022,1,1)\n",
    "# end_dt = datetime.date(2022,3,1)\n",
    "''' Initialize the dataETL class '''\n",
    "print(\"Loading and filtering data ... this may take a while.\")\n",
    "# clsETL = etl.ExtractLoadTransform(dataPath=_path, start_date=_start_dt, end_date=_end_dt)\n",
    "clsETL = etl.ExtractLoadTransform()\n",
    "''' Load data into dataframe '''\n",
    "rec_marketcap_df=clsETL.load_data(dataPath=_path, start_date=start_dt, end_date=end_dt)\n",
    "rec_marketcap_df.dropna(axis=0,how='any',subset=['market_cap'],inplace=True)\n",
    "print(\"Loaded %d rows %s\" % (rec_marketcap_df.shape[0],str(rec_marketcap_df.columns)))\n",
    "''' Transform data with coin ids in columns '''\n",
    "piv_marketcap_df = rec_marketcap_df.pivot_table(values=['market_cap'], index=rec_marketcap_df.Date, columns='ID', aggfunc='first')\n",
    "piv_marketcap_df.columns = piv_marketcap_df.columns.droplevel(0)\n",
    "piv_marketcap_df.dropna(axis=1,how='all', inplace=True)\n",
    "piv_marketcap_df.reset_index(inplace=True)\n",
    "# print(piv_marketcap_df.info())\n",
    "print(\"Data from %s to %s loaded and transformed into a pivot table with %d rows complete!\" % (str(rec_marketcap_df.Date.min()),\n",
    "                                                                    str(rec_marketcap_df.Date.max()),\n",
    "                                                                    piv_marketcap_df.shape[0]))"
   ]
  },
  {
   "cell_type": "code",
   "execution_count": 4,
   "id": "522ebd38",
   "metadata": {},
   "outputs": [
    {
     "name": "stdout",
     "output_type": "stream",
     "text": [
      "          Date        ID Symbol    market_cap  simp_move_avg_market_cap  \\\n",
      "0   2022-03-01   bitcoin    btc  8.190194e+11                       NaN   \n",
      "0   2022-01-01    solana    sol  5.290718e+10                       NaN   \n",
      "1   2022-01-02    solana    sol  5.508964e+10                       NaN   \n",
      "2   2022-01-03    solana    sol  5.460443e+10                       NaN   \n",
      "3   2022-01-04    solana    sol  5.288655e+10                       NaN   \n",
      "..         ...       ...    ...           ...                       ...   \n",
      "54  2022-02-24  litecoin    ltc  7.386565e+09                       NaN   \n",
      "55  2022-02-25  litecoin    ltc  7.266951e+09                       NaN   \n",
      "56  2022-02-26  litecoin    ltc  7.635551e+09                       NaN   \n",
      "57  2022-02-27  litecoin    ltc  7.533185e+09                       NaN   \n",
      "58  2022-02-28  litecoin    ltc  7.184429e+09                       NaN   \n",
      "\n",
      "    simp_move_std_market_cap  simp_move_sum_market_cap  momentum_market_cap  \n",
      "0                        NaN                       NaN                  NaN  \n",
      "0                        NaN                       NaN                  NaN  \n",
      "1                        NaN                       NaN                  NaN  \n",
      "2                        NaN                       NaN                  NaN  \n",
      "3                        NaN                       NaN                  NaN  \n",
      "..                       ...                       ...                  ...  \n",
      "54                       NaN                       NaN                  NaN  \n",
      "55                       NaN                       NaN                  NaN  \n",
      "56                       NaN                       NaN                  NaN  \n",
      "57                       NaN                       NaN                  NaN  \n",
      "58                       NaN                       NaN                  NaN  \n",
      "\n",
      "[419 rows x 8 columns]\n"
     ]
    }
   ],
   "source": [
    "from datetime import date\n",
    "\n",
    "start_dt = date(2022,1,20)\n",
    "end_dt = date(2022,2,10)\n",
    "\n",
    "_cal_ops_dict = {\n",
    "    \"simp_move_avg\" : \"market_cap\",\n",
    "    \"simp_move_std\" : \"market_cap\",\n",
    "    \"simp_move_sum\" : \"market_cap\",\n",
    "    \"momentum\" : \"market_cap\",\n",
    "}\n",
    "_results_df = clsETL.get_rolling_measures(ticker_data=rec_marketcap_df,\n",
    "                                                rolling_window_length=7,\n",
    "                                                window_start_date = start_dt,\n",
    "                                                window_end_date = end_dt,\n",
    "                                                rolling_measure_dict = _cal_ops_dict,)\n",
    "print(_results_df)\n"
   ]
  },
  {
   "cell_type": "markdown",
   "id": "4d983893",
   "metadata": {},
   "source": [
    "# COMPUTE RATE OF RETURNS\n",
    "\n",
    "## Instantiate ETPreturns class"
   ]
  },
  {
   "cell_type": "code",
   "execution_count": 5,
   "id": "ecb42fdb",
   "metadata": {},
   "outputs": [
    {
     "name": "stdout",
     "output_type": "stream",
     "text": [
      "All packages in clsETPReturns loaded successfully!\n",
      "All packages in clsETPReturns loaded successfully!\n",
      "['__class__', '__delattr__', '__dict__', '__dir__', '__doc__', '__eq__', '__format__', '__ge__', '__getattribute__', '__gt__', '__hash__', '__init__', '__init_subclass__', '__le__', '__lt__', '__module__', '__ne__', '__new__', '__reduce__', '__reduce_ex__', '__repr__', '__setattr__', '__sizeof__', '__str__', '__subclasshook__', '__weakref__', 'days_offset', 'get_coin_cov_cor_coef_matrix', 'get_holding_period_returns', 'get_logarithmic_returns', 'get_simple_returns', 'maximize_weights', 'name', 'p_val', 'sum_weighted_returns', 'window_length']\n"
     ]
    }
   ],
   "source": [
    "import sys\n",
    "sys.path.insert(1, '../lib')\n",
    "import clsETPreturns as returns\n",
    "\n",
    "if debug:\n",
    "    import importlib\n",
    "    returns = importlib.reload(returns)\n",
    "\n",
    "data_name = \"coindesk\"\n",
    "clsROR = returns.RateOfReturns(name=data_name)\n",
    "print(dir(clsROR))"
   ]
  },
  {
   "cell_type": "markdown",
   "id": "e1f82735",
   "metadata": {},
   "source": [
    "## Top-N Assets\n",
    "${R(t,x_{i}) = log \\left({R(t,x_{i}) \\over R(t+1,x_{i})}\\right) \\le 0}$ implies that the ratio ${{R(t,x_{i}) \\over R(t+1,x_{i})} \\le 1.0}$. Thus there is an increase in the market cap value from ${t}$ to ${t+1}$. Therefore, the _top-N_ assets are the ones with the largest negative log ROR.  "
   ]
  },
  {
   "cell_type": "code",
   "execution_count": 9,
   "id": "04cca3ca",
   "metadata": {},
   "outputs": [
    {
     "name": "stdout",
     "output_type": "stream",
     "text": [
      "Completed getting 141 list with top assets\n"
     ]
    }
   ],
   "source": [
    "import numpy as np\n",
    "\n",
    "_kwargs = {'greater than': 0,\n",
    "            'max num coins': 5}\n",
    "#topN = 5\n",
    "''' get the log rate of returns '''\n",
    "actual_log_ror = clsROR.get_logarithmic_returns(rec_marketcap_df, value_col_name='market_cap')\n",
    "\n",
    "_neg_log_df = actual_log_ror.copy()\n",
    "_neg_log_df.dropna(axis=0, how='any', inplace=True)\n",
    "_neg_log_df = _neg_log_df.sort_values(by=['Date','market_cap_ror'])\n",
    "_neg_log_df['ror'] = _neg_log_df['market_cap_ror']*(-1)\n",
    "#_topNassets_df = clsETL.get_fixed_topN_assets(_neg_log_df, N=topN, val_col_name='ror')\n",
    "_topNassets_df = clsETL.get_significant_topN_assets(_neg_log_df,\n",
    "                                                    val_col_name='market_cap_ror',\n",
    "                                                    **_kwargs)\n",
    "_topNassets_df['ror'] = _topNassets_df['market_cap_ror']*(-1)\n",
    "_topNassets_df=_topNassets_df.reindex()\n",
    "print(\"Completed getting %d list with top assets\" % (_topNassets_df.shape[0]))"
   ]
  },
  {
   "cell_type": "markdown",
   "id": "262731cc",
   "metadata": {},
   "source": [
    "## Risk measure\n",
    "* expected return on an investment is the expected value of the probability distribution of possible returns it can provide. The purpose of calculating the expected return on an investment is to provide an investor with an idea of probable profit vs risk. This gives the investor a basis for comparison with the risk-free rate of return. The interest rate on 3-month U.S. Treasury bills is often used to represent the risk-free rate of return.\n",
    "* Risk of a single asset is the standard devsion ${\\sigma}$ for a given time. We calculated the T-day (e.g. 7-day) [moving standard deviation](https://www.danielstrading.com/education/technical-analysis-learning-center/moving-standard-deviation) ${\\sigma}^{(T)}$\n",
    "* MPT uses variance as its measure of risk"
   ]
  },
  {
   "cell_type": "markdown",
   "id": "2cb20ad9",
   "metadata": {},
   "source": [
    "## Actual weighted returns SUM\n",
    "Sum of the weighted actual portfolio allocation at time ${t}$: ${F_{t}({Y})}$  = $\\sum_{k_i = 1}^{N<n} {w(t,x_{k_{i}})} \\times {R(t,x_{k_i})}$"
   ]
  },
  {
   "cell_type": "code",
   "execution_count": 10,
   "id": "b41c841b",
   "metadata": {},
   "outputs": [
    {
     "name": "stdout",
     "output_type": "stream",
     "text": [
      "         Date        ID  market_cap_ror       ror Symbol    market_cap\n",
      "0  2022-01-01  litecoin        0.251964 -0.251964    ltc  1.016561e+10\n",
      "1  2022-01-01   cardano        0.320319 -0.320319    ada  4.219625e+10\n",
      "2  2022-01-02    ripple        0.023303 -0.023303    xrp  4.045308e+10\n",
      "3  2022-01-02  litecoin        0.029851 -0.029851    ltc  1.047364e+10\n",
      "4  2022-01-02   bitcoin        0.031853 -0.031853    btc  9.045519e+11\n",
      "5  2022-01-02    solana        0.040423 -0.040423    sol  5.508964e+10\n",
      "6  2022-01-02   cardano        0.046404 -0.046404    ada  4.420048e+10\n",
      "7  2022-01-03  litecoin        0.004725 -0.004725    ltc  1.052324e+10\n",
      "8  2022-01-03    ripple        0.011694 -0.011694    xrp  4.092894e+10\n",
      "9  2022-01-03  ethereum        0.015547 -0.015547    eth  4.568524e+11\n"
     ]
    }
   ],
   "source": [
    "import pandas as pd\n",
    "\n",
    "_size=100\n",
    "_merged_actual_ror = pd.merge(_topNassets_df,\n",
    "                              rec_marketcap_df,how='outer',\n",
    "                              on=['Date','ID'])\n",
    "_merged_actual_ror.dropna(axis=0, how='any', inplace=True)\n",
    "_merged_actual_ror = _merged_actual_ror.sort_values(by=['Date','market_cap_ror'], ascending=True)\n",
    "print(_merged_actual_ror.head(10))"
   ]
  },
  {
   "cell_type": "markdown",
   "id": "7599de53",
   "metadata": {},
   "source": [
    "### get weighted sum of returns metrics"
   ]
  },
  {
   "cell_type": "code",
   "execution_count": 11,
   "id": "b41301a8",
   "metadata": {},
   "outputs": [
    {
     "name": "stdout",
     "output_type": "stream",
     "text": [
      "[{'date': datetime.date(2022, 1, 1), 'coins': ['litecoin', 'cardano'], 'max_sum_row': 74, 'market_cap_ror': [0.25196352700550023, 0.3203189942840743], 'best_weights': [0.0018973266581045322, 0.9981026733418955], 'weighted_market_cap_ror_sum': 0.3201893016337795, 'weighted_market_cap_returns': 2647603459989.262}, {'date': datetime.date(2022, 1, 2), 'coins': ['ripple', 'litecoin', 'bitcoin', 'solana', 'cardano'], 'max_sum_row': 72, 'market_cap_ror': [0.023303258463006904, 0.0298506056720772, 0.031853414826817125, 0.040422599105871045, 0.04640418228727608], 'best_weights': [0.00787712348045398, 0.06197525247707811, 0.020671025224073557, 0.1045983808871201, 0.8048782179312741], 'weighted_market_cap_ror_sum': 0.04426985817055276, 'weighted_market_cap_returns': 20856864950301.37}, {'date': datetime.date(2022, 1, 3), 'coins': ['litecoin', 'ripple', 'ethereum'], 'max_sum_row': 45, 'market_cap_ror': [0.004724573752143545, 0.01169446976140426, 0.015546907339301062], 'best_weights': [0.022933807984811604, 0.00692753564456701, 0.9701386563706212], 'weighted_market_cap_ror_sum': 0.015272022120226263, 'weighted_market_cap_returns': 17210079942090.873}, {'date': datetime.date(2022, 1, 7), 'coins': ['litecoin', 'ripple', 'cardano'], 'max_sum_row': 79, 'market_cap_ror': [0.004869325944231813, 0.009347407221666154, 0.02980167519074838], 'best_weights': [0.026369479656226675, 0.08356101234132181, 0.8900695080024515], 'weighted_market_cap_ror_sum': 0.02743504277631324, 'weighted_market_cap_returns': 2971417814383.674}, {'date': datetime.date(2022, 1, 9), 'coins': ['bitcoin', 'solana'], 'max_sum_row': 1, 'market_cap_ror': [0.006525325892427014, 0.0474291324566233], 'best_weights': [0.015124776473213834, 0.9848752235267864], 'weighted_market_cap_ror_sum': 0.04681047152543626, 'weighted_market_cap_returns': 43914520727150.11}]\n"
     ]
    }
   ],
   "source": [
    "\n",
    "_l_actual_weighted_sum = clsROR.sum_weighted_returns(\n",
    "    _merged_actual_ror,\n",
    "    size=_size,\n",
    "    value_col_name='market_cap_ror'\n",
    ")\n",
    "print(_l_actual_weighted_sum[:5])"
   ]
  },
  {
   "cell_type": "markdown",
   "id": "5831749a",
   "metadata": {},
   "source": [
    "## Indicator based Trading strategies\n",
    "\n",
    "### Momentum trading \n",
    "It assumes big moves will continue in the same direction. If the ETP weighted sum of returns is above a moving average, an uptrend is indicated. Directional Movement Index (DMI) is a technical indicator used by traders to help identify the strength of an uptrend or a downtrend in the market. The Average Direction Index (ADX) provides an indicator of the relative strength of the directional trend indicated by the Positive Direction Indicator (DI+) and the Negative Direction Indicator (DI-). Momentum trade can potentially reap big gains because getting in relatively early to a strong price trend is highly profitable.\n",
    "\n",
    "### Mean reversion strategy\n",
    "It allows traders to determine whether big moves will partly reverse or not. It assumes that the price of a stock always tends to move closer to the average price over time because most extreme events are often trailed by a period of normalization. Example - If the index droped 20% this month, the mean reversion theory would predict it will fall less than that percentage the following month. Use the [Relative Strength Index](https://phemex.com/academy/rsi-indicator-crypto-trading) (RSI) to complement their mean reversion strategy.\n",
    "      * RSI is useful because it helps them determine which asset exhibits overbought or oversold price levels.\n",
    "      * RSI Value >70% = Overbought, RSI Value <30% = Oversold\n",
    "      * core of this indicator is based on the average upward market cap change vs. the average downward market cap change for a given period of time.\n",
    "      * RSI = 100 – (100/1 + RS)\n",
    "  We look at correlated assets to confirm the prediction. The quintessential mean reversion trading strategy has low-profit expectations and high frequency.\n"
   ]
  },
  {
   "cell_type": "markdown",
   "id": "0bf15e8c",
   "metadata": {},
   "source": [
    "## Instantiate ETP Index class"
   ]
  },
  {
   "cell_type": "code",
   "execution_count": 14,
   "id": "679fc01a",
   "metadata": {},
   "outputs": [
    {
     "name": "stdout",
     "output_type": "stream",
     "text": [
      "All packages loaded successfully!\n",
      "['__class__', '__delattr__', '__dict__', '__dir__', '__doc__', '__eq__', '__format__', '__ge__', '__getattribute__', '__gt__', '__hash__', '__init__', '__init_subclass__', '__le__', '__lt__', '__module__', '__ne__', '__new__', '__reduce__', '__reduce_ex__', '__repr__', '__setattr__', '__sizeof__', '__str__', '__subclasshook__', '__weakref__', 'get_adx', 'get_value_index', 'name', 'p_val', 'rebalance_etp', 'sharp_ratio', 'sortino_ratio']\n"
     ]
    }
   ],
   "source": [
    "import sys\n",
    "sys.path.insert(1, '../lib')\n",
    "import clsIndex as perform\n",
    "\n",
    "if debug:\n",
    "    import importlib\n",
    "    perform = importlib.reload(perform)\n",
    "\n",
    "data_name = \"coindesk\"\n",
    "clsPerfIndex = perform.PortfolioPerformance(name=data_name)\n",
    "print(dir(clsPerfIndex))"
   ]
  },
  {
   "cell_type": "markdown",
   "id": "f6001eff",
   "metadata": {},
   "source": [
    "## Indicator based portfolio selection\n",
    "___Intent is to use the indicators to make decisions on portfolio asset selection and rebalancing using indicators___\n",
    "\n",
    "## ADX Indicator\n",
    "Average Directional Index (ADX) indicator determines the intensity or strength of a trend. It will ensure that we don't rebalance with a weaker trend because there is a high probability of reversal compared to a stronger trend. Hence, combining the rebalancing during a directional trades with a stronger trend will achieve higher [hit ratio](https://www.investopedia.com/terms/w/win-loss-ratio.asp) and higher ROR on the weighted ETP.\n",
    "\n",
    "* ADX consists of three indicators that measure a trend’s strength and direction - Direction Movement Index (DMI): ADX line, DI+ line, and DI- line. \n",
    "* The [calculated ADX](https://www.investopedia.com/terms/w/wilders-dmi-adx.asp#:~:text=The%20DMI%20is%20a%20collection,25%20indicates%20a%20strong%20trend.) value above 25 indicates that the trend is relatively strong and a value below 20 indicates that the trend is weak or that the markets are trading sideways\n",
    "   * When the DI+ line is on top of DI-, the markets are in a bullish trend. Conversely, when the DI- line is above the DI+ line, the markets are in a bearish trend.\n",
    "   * The ADX indicator helps traders calculate the expansion or contraction of an asset’s price range for a specific time.\n",
    "* The DMI and ADX values are determined based on the range of price movements during the last 14 trading periods.\n",
    "* Follow a similar process discussed in [Mathematical Intuition of the ADX Indicator: A Python Approach](https://blog.quantinsti.com/adx-indicator-python/)."
   ]
  },
  {
   "cell_type": "code",
   "execution_count": 18,
   "id": "b332ca08",
   "metadata": {},
   "outputs": [
    {
     "name": "stdout",
     "output_type": "stream",
     "text": [
      "All packages in ExtractLoadTransform loaded successfully!\n",
      "Index(['Date', 'ID', 'Symbol', 'market_cap', 'market_cap_ror'], dtype='object')\n",
      "All packages in ExtractLoadTransform loaded successfully!\n",
      "         Date       ID Symbol    market_cap  market_cap_ror       +DM  \\\n",
      "0  2022-03-01  bitcoin    btc  8.190194e+11             NaN  0.000000   \n",
      "0  2022-01-01  bitcoin    btc  8.761929e+11        0.067478  0.000000   \n",
      "1  2022-01-02  bitcoin    btc  9.045519e+11        0.031853  0.000000   \n",
      "2  2022-01-03  bitcoin    btc  8.975361e+11       -0.007786  0.007786   \n",
      "3  2022-01-04  bitcoin    btc  8.803302e+11       -0.019356  0.019356   \n",
      "\n",
      "        -DM  simp_move_sum_+DM  simp_move_avg_+DM  simp_move_sum_-DM  \\\n",
      "0  0.000000           0.063910           0.009130           0.084487   \n",
      "0  0.067478           0.000000           0.000000           0.067478   \n",
      "1  0.031853           0.000000           0.000000           0.099332   \n",
      "2  0.000000           0.007786           0.002595           0.099332   \n",
      "3  0.000000           0.027143           0.006786           0.099332   \n",
      "\n",
      "   simp_move_avg_-DM  shift_+DM  shift_-DM  smooth+DM  smooth-DM       +DI  \\\n",
      "0           0.012070   0.000000   0.000000   0.054780   0.072417  0.166667   \n",
      "0           0.067478   0.000000   0.000000   0.000000   0.000000       NaN   \n",
      "1           0.049666   0.000000   0.067478   0.000000   0.117144       NaN   \n",
      "2           0.033111   0.000000   0.031853   0.005191   0.098075  0.500000   \n",
      "3           0.024833   0.007786   0.000000   0.028143   0.074499  0.241110   \n",
      "\n",
      "        -DI  \n",
      "0  0.166667  \n",
      "0       inf  \n",
      "1  0.423972  \n",
      "2  0.337606  \n",
      "3  0.333333  \n"
     ]
    }
   ],
   "source": [
    "''' Create ADX relevant columns '''\n",
    "\n",
    "_value_col_name = 'market_cap_ror'\n",
    "\n",
    "if debug:\n",
    "    import importlib\n",
    "    etl = importlib.reload(etl)\n",
    "\n",
    "''' ADX function is defined in clsIndex.get_adx() It will return \n",
    "    a time series dataframe with daily ADX, +DI, and -DI values '''\n",
    "''' Set the data source and temporal range '''\n",
    "_start_dt = rec_marketcap_df.Date.min()\n",
    "_end_dt = rec_marketcap_df.Date.max()\n",
    "adx_df = clsPerfIndex.get_adx(ticker_data=actual_log_ror,\n",
    "                            rolling_window_length=7,\n",
    "                            value_col_name=_value_col_name,\n",
    "                            window_start_date = _start_dt,\n",
    "                            window_end_date = _end_dt,\n",
    "                            )\n",
    "print(adx_df.head(5))\n",
    "# print(adx_df.info())\n",
    "adx_df.to_csv(\"../data/adx.csv\")"
   ]
  },
  {
   "cell_type": "markdown",
   "id": "1e6bc942",
   "metadata": {},
   "source": [
    "## Index based optimization\n",
    "___The objective is to optimize the performance ratios for an ETP portfolio asset picks and rebalancing___\n",
    "\n",
    "### Performance Ratios\n",
    "The calculation is adjusted for an ETP for a given time period ${\\left[{T_{min},T_{max}}\\right]}$.\n",
    "* For an ETP portfolio consisting top ${N < n}$ set of assets ${Y}$\n",
    "    * the weighted ROR at time ${t}$ is ${F({t,Y})}$  = $\\sum_{k_i = 1}^{N<n} {w(t,x_{k_{i}})} \\times {log \\left({R(t,x_{k_i}) \\over R(t+1,x_{k_i})}\\right)}$\n",
    "* Let ${z}$ be the asset (e.g. Bitcoin) that sets the benchmark to offer a risk free ROR.\n",
    "    * Similarly to the Y set of assets, the weighted ROR for ${z}$ at time ${t}$ is ${F({t,z})}$  = ${w(t,z)} \\times {log \\left({R(t,z)} \\over R(t+1,z)\\right)}$\n",
    "\n",
    "### Sharpe Ratio\n",
    "It measures the performance of an investment (e.g., security or portfolio) compared to a risk-free asset, after adjusting for its risk. It is poor at estimating tail risks and as a results gave rise to the [PMPT](https://www.investopedia.com/terms/p/pmpt.asp).\n",
    "* ${\\forall_{t \\in {\\left[{T_{min},T_{max}}\\right]}}}$\n",
    "    * ___Sharpe ration___ = ${{\\mu \\left({F(t,x_{k_i})}\\right) - \\mu \\left({F(t,z)}\\right)} \\over {\\sigma(F(t,x_{k_i}))} }$; where ${\\mu}$ is the expected vallue and ${\\sigma}$ is the standard deviation"
   ]
  },
  {
   "cell_type": "code",
   "execution_count": 31,
   "id": "4ec96ead",
   "metadata": {},
   "outputs": [
    {
     "name": "stdout",
     "output_type": "stream",
     "text": [
      "-0.0004980844352952042\n",
      "\n",
      " Sharp Ratio\n",
      "ID\n",
      "ripple          0.016981\n",
      "bitcoin         0.000000\n",
      "ethereum       -0.051617\n",
      "litecoin       -0.060197\n",
      "cardano        -0.075909\n",
      "solana         -0.104899\n",
      "bitcoin_cash         NaN\n",
      "dtype: float64\n"
     ]
    }
   ],
   "source": [
    "sharp = clsPerfIndex.sharp_ratio(piv_marketcap_df, investment=100, risk_free_rate=0.01/365)\n",
    "print(\"\\n Sharp Ratio\")\n",
    "print(sharp.sort_values(ascending=False))"
   ]
  },
  {
   "cell_type": "markdown",
   "id": "b700cbbc",
   "metadata": {},
   "source": [
    "### Sortino Ratio\n",
    "It is a portfolio optimization methodology that uses the downside risk of returns instead of the mean variance of investment returns used by the [MPT](https://blog.quantinsti.com/modern-portfolio-capital-asset-pricing-fama-french-three-factor-model/)\n",
    "* ${\\forall_{t \\in {\\left[{T_{min},T_{max}}\\right]}}}$\n",
    "    * ___Sortino ratio___ is almost the same as the Sharpe ratio except that the ${\\sigma^-(F(t,x_{k_i}))}$ is the downside standard deviation of returns "
   ]
  },
  {
   "cell_type": "code",
   "execution_count": 32,
   "id": "ea5cd383",
   "metadata": {},
   "outputs": [
    {
     "name": "stdout",
     "output_type": "stream",
     "text": [
      "\n",
      " Sortino Ratio\n",
      "ID\n",
      "ripple          0.030394\n",
      "bitcoin         0.000000\n",
      "ethereum       -0.080442\n",
      "litecoin       -0.094637\n",
      "cardano        -0.149946\n",
      "solana         -0.169963\n",
      "bitcoin_cash         NaN\n",
      "dtype: float64\n"
     ]
    }
   ],
   "source": [
    "sortino = clsPerfIndex.sortino_ratio(piv_marketcap_df, investment=100, risk_free_rate=0.01/365)\n",
    "print(\"\\n Sortino Ratio\")\n",
    "print(sortino.sort_values(ascending=False))"
   ]
  },
  {
   "cell_type": "markdown",
   "id": "9d183a46",
   "metadata": {},
   "source": [
    "### Calmar ratio\n",
    "The Calmar ratio is the average annual rate of return for the last 36 months divided by the maximum drawdown for the last 36 months. It is calculated on a monthly basis. The Calmar ratio changes gradually and serves to smooth out the overachievement and underachievement periods of a performance more readily than the Sharpe ratio."
   ]
  },
  {
   "cell_type": "code",
   "execution_count": null,
   "id": "532ad4b2",
   "metadata": {},
   "outputs": [],
   "source": []
  },
  {
   "cell_type": "markdown",
   "id": "0ba02446",
   "metadata": {},
   "source": [
    "## Value Index"
   ]
  },
  {
   "cell_type": "code",
   "execution_count": 33,
   "id": "4ef2b9e0",
   "metadata": {},
   "outputs": [
    {
     "ename": "KeyboardInterrupt",
     "evalue": "",
     "output_type": "error",
     "traceback": [
      "\u001b[0;31m---------------------------------------------------------------------------\u001b[0m",
      "\u001b[0;31mKeyboardInterrupt\u001b[0m                         Traceback (most recent call last)",
      "\u001b[1;32m/home/gnewy/workspace/starx/notebooks/etpPerformIndex.ipynb Cell 27\u001b[0m in \u001b[0;36m<module>\u001b[0;34m\u001b[0m\n\u001b[1;32m      <a href='vscode-notebook-cell:/home/gnewy/workspace/starx/notebooks/etpPerformIndex.ipynb#ch0000026?line=5'>6</a>\u001b[0m _max_date \u001b[39m=\u001b[39m (index_df[\u001b[39m\"\u001b[39m\u001b[39mDate\u001b[39m\u001b[39m\"\u001b[39m]\u001b[39m.\u001b[39mmax())\u001b[39m.\u001b[39mdate()\n\u001b[1;32m      <a href='vscode-notebook-cell:/home/gnewy/workspace/starx/notebooks/etpPerformIndex.ipynb#ch0000026?line=6'>7</a>\u001b[0m _title \u001b[39m=\u001b[39m \u001b[39m\"\u001b[39m\u001b[39mAsset class value index \u001b[39m\u001b[39m\"\u001b[39m\u001b[39m+\u001b[39m\u001b[39mstr\u001b[39m(_min_date)\u001b[39m+\u001b[39m\u001b[39m\"\u001b[39m\u001b[39m to \u001b[39m\u001b[39m\"\u001b[39m\u001b[39m+\u001b[39m\u001b[39mstr\u001b[39m(_max_date)\n\u001b[0;32m----> <a href='vscode-notebook-cell:/home/gnewy/workspace/starx/notebooks/etpPerformIndex.ipynb#ch0000026?line=7'>8</a>\u001b[0m fig \u001b[39m=\u001b[39m px\u001b[39m.\u001b[39;49mline(index_df, x\u001b[39m=\u001b[39;49m\u001b[39m\"\u001b[39;49m\u001b[39mDate\u001b[39;49m\u001b[39m\"\u001b[39;49m, y\u001b[39m=\u001b[39;49mindex_df\u001b[39m.\u001b[39;49mcolumns,\n\u001b[1;32m      <a href='vscode-notebook-cell:/home/gnewy/workspace/starx/notebooks/etpPerformIndex.ipynb#ch0000026?line=8'>9</a>\u001b[0m               hover_data\u001b[39m=\u001b[39;49m{\u001b[39m\"\u001b[39;49m\u001b[39mDate\u001b[39;49m\u001b[39m\"\u001b[39;49m: \u001b[39m\"\u001b[39;49m\u001b[39m|\u001b[39;49m\u001b[39m%\u001b[39;49m\u001b[39mB \u001b[39;49m\u001b[39m%d\u001b[39;49;00m\u001b[39m, \u001b[39;49m\u001b[39m%\u001b[39;49m\u001b[39mY\u001b[39;49m\u001b[39m\"\u001b[39;49m},\n\u001b[1;32m     <a href='vscode-notebook-cell:/home/gnewy/workspace/starx/notebooks/etpPerformIndex.ipynb#ch0000026?line=9'>10</a>\u001b[0m               title\u001b[39m=\u001b[39;49m_title)\n\u001b[1;32m     <a href='vscode-notebook-cell:/home/gnewy/workspace/starx/notebooks/etpPerformIndex.ipynb#ch0000026?line=10'>11</a>\u001b[0m fig\u001b[39m.\u001b[39mupdate_xaxes(\n\u001b[1;32m     <a href='vscode-notebook-cell:/home/gnewy/workspace/starx/notebooks/etpPerformIndex.ipynb#ch0000026?line=11'>12</a>\u001b[0m     dtick\u001b[39m=\u001b[39m\u001b[39m\"\u001b[39m\u001b[39mM1\u001b[39m\u001b[39m\"\u001b[39m,\n\u001b[1;32m     <a href='vscode-notebook-cell:/home/gnewy/workspace/starx/notebooks/etpPerformIndex.ipynb#ch0000026?line=12'>13</a>\u001b[0m     tickformat\u001b[39m=\u001b[39m\u001b[39m\"\u001b[39m\u001b[39m%\u001b[39m\u001b[39mb\u001b[39m\u001b[39m\\n\u001b[39;00m\u001b[39m%\u001b[39m\u001b[39mY\u001b[39m\u001b[39m\"\u001b[39m)\n\u001b[1;32m     <a href='vscode-notebook-cell:/home/gnewy/workspace/starx/notebooks/etpPerformIndex.ipynb#ch0000026?line=13'>14</a>\u001b[0m fig\u001b[39m.\u001b[39mshow()\n",
      "File \u001b[0;32m~/.local/lib/python3.8/site-packages/plotly/express/_chart_types.py:260\u001b[0m, in \u001b[0;36mline\u001b[0;34m(data_frame, x, y, line_group, color, line_dash, symbol, hover_name, hover_data, custom_data, text, facet_row, facet_col, facet_col_wrap, facet_row_spacing, facet_col_spacing, error_x, error_x_minus, error_y, error_y_minus, animation_frame, animation_group, category_orders, labels, orientation, color_discrete_sequence, color_discrete_map, line_dash_sequence, line_dash_map, symbol_sequence, symbol_map, markers, log_x, log_y, range_x, range_y, line_shape, render_mode, title, template, width, height)\u001b[0m\n\u001b[1;32m    212\u001b[0m \u001b[39mdef\u001b[39;00m \u001b[39mline\u001b[39m(\n\u001b[1;32m    213\u001b[0m     data_frame\u001b[39m=\u001b[39m\u001b[39mNone\u001b[39;00m,\n\u001b[1;32m    214\u001b[0m     x\u001b[39m=\u001b[39m\u001b[39mNone\u001b[39;00m,\n\u001b[0;32m   (...)\u001b[0m\n\u001b[1;32m    254\u001b[0m     height\u001b[39m=\u001b[39m\u001b[39mNone\u001b[39;00m,\n\u001b[1;32m    255\u001b[0m ):\n\u001b[1;32m    256\u001b[0m     \u001b[39m\"\"\"\u001b[39;00m\n\u001b[1;32m    257\u001b[0m \u001b[39m    In a 2D line plot, each row of `data_frame` is represented as vertex of\u001b[39;00m\n\u001b[1;32m    258\u001b[0m \u001b[39m    a polyline mark in 2D space.\u001b[39;00m\n\u001b[1;32m    259\u001b[0m \u001b[39m    \"\"\"\u001b[39;00m\n\u001b[0;32m--> 260\u001b[0m     \u001b[39mreturn\u001b[39;00m make_figure(args\u001b[39m=\u001b[39;49m\u001b[39mlocals\u001b[39;49m(), constructor\u001b[39m=\u001b[39;49mgo\u001b[39m.\u001b[39;49mScatter)\n",
      "File \u001b[0;32m~/.local/lib/python3.8/site-packages/plotly/express/_core.py:2193\u001b[0m, in \u001b[0;36mmake_figure\u001b[0;34m(args, constructor, trace_patch, layout_patch)\u001b[0m\n\u001b[1;32m   2191\u001b[0m fig\u001b[39m.\u001b[39mupdate_layout(layout_patch)\n\u001b[1;32m   2192\u001b[0m \u001b[39mif\u001b[39;00m \u001b[39m\"\u001b[39m\u001b[39mtemplate\u001b[39m\u001b[39m\"\u001b[39m \u001b[39min\u001b[39;00m args \u001b[39mand\u001b[39;00m args[\u001b[39m\"\u001b[39m\u001b[39mtemplate\u001b[39m\u001b[39m\"\u001b[39m] \u001b[39mis\u001b[39;00m \u001b[39mnot\u001b[39;00m \u001b[39mNone\u001b[39;00m:\n\u001b[0;32m-> 2193\u001b[0m     fig\u001b[39m.\u001b[39;49mupdate_layout(template\u001b[39m=\u001b[39;49margs[\u001b[39m\"\u001b[39;49m\u001b[39mtemplate\u001b[39;49m\u001b[39m\"\u001b[39;49m], overwrite\u001b[39m=\u001b[39;49m\u001b[39mTrue\u001b[39;49;00m)\n\u001b[1;32m   2194\u001b[0m fig\u001b[39m.\u001b[39mframes \u001b[39m=\u001b[39m frame_list \u001b[39mif\u001b[39;00m \u001b[39mlen\u001b[39m(frames) \u001b[39m>\u001b[39m \u001b[39m1\u001b[39m \u001b[39melse\u001b[39;00m []\n\u001b[1;32m   2196\u001b[0m \u001b[39mif\u001b[39;00m args\u001b[39m.\u001b[39mget(\u001b[39m\"\u001b[39m\u001b[39mtrendline\u001b[39m\u001b[39m\"\u001b[39m) \u001b[39mand\u001b[39;00m args\u001b[39m.\u001b[39mget(\u001b[39m\"\u001b[39m\u001b[39mtrendline_scope\u001b[39m\u001b[39m\"\u001b[39m, \u001b[39m\"\u001b[39m\u001b[39mtrace\u001b[39m\u001b[39m\"\u001b[39m) \u001b[39m==\u001b[39m \u001b[39m\"\u001b[39m\u001b[39moverall\u001b[39m\u001b[39m\"\u001b[39m:\n",
      "File \u001b[0;32m~/.local/lib/python3.8/site-packages/plotly/basedatatypes.py:1403\u001b[0m, in \u001b[0;36mBaseFigure.update_layout\u001b[0;34m(self, dict1, overwrite, **kwargs)\u001b[0m\n\u001b[1;32m   1379\u001b[0m \u001b[39mdef\u001b[39;00m \u001b[39mupdate_layout\u001b[39m(\u001b[39mself\u001b[39m, dict1\u001b[39m=\u001b[39m\u001b[39mNone\u001b[39;00m, overwrite\u001b[39m=\u001b[39m\u001b[39mFalse\u001b[39;00m, \u001b[39m*\u001b[39m\u001b[39m*\u001b[39mkwargs):\n\u001b[1;32m   1380\u001b[0m     \u001b[39m\"\"\"\u001b[39;00m\n\u001b[1;32m   1381\u001b[0m \u001b[39m    Update the properties of the figure's layout with a dict and/or with\u001b[39;00m\n\u001b[1;32m   1382\u001b[0m \u001b[39m    keyword arguments.\u001b[39;00m\n\u001b[0;32m   (...)\u001b[0m\n\u001b[1;32m   1401\u001b[0m \u001b[39m        The Figure object that the update_layout method was called on\u001b[39;00m\n\u001b[1;32m   1402\u001b[0m \u001b[39m    \"\"\"\u001b[39;00m\n\u001b[0;32m-> 1403\u001b[0m     \u001b[39mself\u001b[39;49m\u001b[39m.\u001b[39;49mlayout\u001b[39m.\u001b[39;49mupdate(dict1, overwrite\u001b[39m=\u001b[39;49moverwrite, \u001b[39m*\u001b[39;49m\u001b[39m*\u001b[39;49mkwargs)\n\u001b[1;32m   1404\u001b[0m     \u001b[39mreturn\u001b[39;00m \u001b[39mself\u001b[39m\n",
      "File \u001b[0;32m~/.local/lib/python3.8/site-packages/plotly/basedatatypes.py:5082\u001b[0m, in \u001b[0;36mBasePlotlyType.update\u001b[0;34m(self, dict1, overwrite, **kwargs)\u001b[0m\n\u001b[1;32m   5080\u001b[0m     \u001b[39mwith\u001b[39;00m \u001b[39mself\u001b[39m\u001b[39m.\u001b[39mfigure\u001b[39m.\u001b[39mbatch_update():\n\u001b[1;32m   5081\u001b[0m         BaseFigure\u001b[39m.\u001b[39m_perform_update(\u001b[39mself\u001b[39m, dict1, overwrite\u001b[39m=\u001b[39moverwrite)\n\u001b[0;32m-> 5082\u001b[0m         BaseFigure\u001b[39m.\u001b[39;49m_perform_update(\u001b[39mself\u001b[39;49m, kwargs, overwrite\u001b[39m=\u001b[39;49moverwrite)\n\u001b[1;32m   5083\u001b[0m \u001b[39melse\u001b[39;00m:\n\u001b[1;32m   5084\u001b[0m     BaseFigure\u001b[39m.\u001b[39m_perform_update(\u001b[39mself\u001b[39m, dict1, overwrite\u001b[39m=\u001b[39moverwrite)\n",
      "File \u001b[0;32m~/.local/lib/python3.8/site-packages/plotly/basedatatypes.py:3891\u001b[0m, in \u001b[0;36mBaseFigure._perform_update\u001b[0;34m(plotly_obj, update_obj, overwrite)\u001b[0m\n\u001b[1;32m   3887\u001b[0m val \u001b[39m=\u001b[39m update_obj[key]\n\u001b[1;32m   3889\u001b[0m \u001b[39mif\u001b[39;00m overwrite:\n\u001b[1;32m   3890\u001b[0m     \u001b[39m# Don't recurse and assign property as-is\u001b[39;00m\n\u001b[0;32m-> 3891\u001b[0m     plotly_obj[key] \u001b[39m=\u001b[39m val\n\u001b[1;32m   3892\u001b[0m     \u001b[39mcontinue\u001b[39;00m\n\u001b[1;32m   3894\u001b[0m validator \u001b[39m=\u001b[39m plotly_obj\u001b[39m.\u001b[39m_get_prop_validator(key)\n",
      "File \u001b[0;32m~/.local/lib/python3.8/site-packages/plotly/basedatatypes.py:5821\u001b[0m, in \u001b[0;36mBaseLayoutType.__setitem__\u001b[0;34m(self, prop, value)\u001b[0m\n\u001b[1;32m   5818\u001b[0m match \u001b[39m=\u001b[39m \u001b[39mself\u001b[39m\u001b[39m.\u001b[39m_subplot_re_match(prop)\n\u001b[1;32m   5819\u001b[0m \u001b[39mif\u001b[39;00m match \u001b[39mis\u001b[39;00m \u001b[39mNone\u001b[39;00m:\n\u001b[1;32m   5820\u001b[0m     \u001b[39m# Set as ordinary property\u001b[39;00m\n\u001b[0;32m-> 5821\u001b[0m     \u001b[39msuper\u001b[39;49m(BaseLayoutHierarchyType, \u001b[39mself\u001b[39;49m)\u001b[39m.\u001b[39;49m\u001b[39m__setitem__\u001b[39;49m(prop, value)\n\u001b[1;32m   5822\u001b[0m \u001b[39melse\u001b[39;00m:\n\u001b[1;32m   5823\u001b[0m     \u001b[39m# Set as subplotid property\u001b[39;00m\n\u001b[1;32m   5824\u001b[0m     \u001b[39mself\u001b[39m\u001b[39m.\u001b[39m_set_subplotid_prop(prop, value)\n",
      "File \u001b[0;32m~/.local/lib/python3.8/site-packages/plotly/basedatatypes.py:4811\u001b[0m, in \u001b[0;36mBasePlotlyType.__setitem__\u001b[0;34m(self, prop, value)\u001b[0m\n\u001b[1;32m   4809\u001b[0m \u001b[39m# ### Handle compound property ###\u001b[39;00m\n\u001b[1;32m   4810\u001b[0m \u001b[39mif\u001b[39;00m \u001b[39misinstance\u001b[39m(validator, CompoundValidator):\n\u001b[0;32m-> 4811\u001b[0m     \u001b[39mself\u001b[39;49m\u001b[39m.\u001b[39;49m_set_compound_prop(prop, value)\n\u001b[1;32m   4813\u001b[0m \u001b[39m# ### Handle compound array property ###\u001b[39;00m\n\u001b[1;32m   4814\u001b[0m \u001b[39melif\u001b[39;00m \u001b[39misinstance\u001b[39m(validator, (CompoundArrayValidator, BaseDataValidator)):\n",
      "File \u001b[0;32m~/.local/lib/python3.8/site-packages/plotly/basedatatypes.py:5222\u001b[0m, in \u001b[0;36mBasePlotlyType._set_compound_prop\u001b[0;34m(self, prop, val)\u001b[0m\n\u001b[1;32m   5219\u001b[0m \u001b[39m# Import value\u001b[39;00m\n\u001b[1;32m   5220\u001b[0m \u001b[39m# ------------\u001b[39;00m\n\u001b[1;32m   5221\u001b[0m validator \u001b[39m=\u001b[39m \u001b[39mself\u001b[39m\u001b[39m.\u001b[39m_get_validator(prop)\n\u001b[0;32m-> 5222\u001b[0m val \u001b[39m=\u001b[39m validator\u001b[39m.\u001b[39;49mvalidate_coerce(val, skip_invalid\u001b[39m=\u001b[39;49m\u001b[39mself\u001b[39;49m\u001b[39m.\u001b[39;49m_skip_invalid)\n\u001b[1;32m   5224\u001b[0m \u001b[39m# Save deep copies of current and new states\u001b[39;00m\n\u001b[1;32m   5225\u001b[0m \u001b[39m# ------------------------------------------\u001b[39;00m\n\u001b[1;32m   5226\u001b[0m curr_val \u001b[39m=\u001b[39m \u001b[39mself\u001b[39m\u001b[39m.\u001b[39m_compound_props\u001b[39m.\u001b[39mget(prop, \u001b[39mNone\u001b[39;00m)\n",
      "File \u001b[0;32m~/.local/lib/python3.8/site-packages/_plotly_utils/basevalidators.py:2760\u001b[0m, in \u001b[0;36mBaseTemplateValidator.validate_coerce\u001b[0;34m(self, v, skip_invalid)\u001b[0m\n\u001b[1;32m   2754\u001b[0m \u001b[39mif\u001b[39;00m v \u001b[39m==\u001b[39m {} \u001b[39mor\u001b[39;00m \u001b[39misinstance\u001b[39m(v, \u001b[39mself\u001b[39m\u001b[39m.\u001b[39mdata_class) \u001b[39mand\u001b[39;00m v\u001b[39m.\u001b[39mto_plotly_json() \u001b[39m==\u001b[39m {}:\n\u001b[1;32m   2755\u001b[0m     \u001b[39m# Replace empty template with {'data': {'scatter': [{}]}} so that we can\u001b[39;00m\n\u001b[1;32m   2756\u001b[0m     \u001b[39m# tell the difference between an un-initialized template and a template\u001b[39;00m\n\u001b[1;32m   2757\u001b[0m     \u001b[39m# explicitly set to empty.\u001b[39;00m\n\u001b[1;32m   2758\u001b[0m     \u001b[39mreturn\u001b[39;00m \u001b[39mself\u001b[39m\u001b[39m.\u001b[39mdata_class(data_scatter\u001b[39m=\u001b[39m[{}])\n\u001b[0;32m-> 2760\u001b[0m \u001b[39mreturn\u001b[39;00m \u001b[39msuper\u001b[39;49m(BaseTemplateValidator, \u001b[39mself\u001b[39;49m)\u001b[39m.\u001b[39;49mvalidate_coerce(\n\u001b[1;32m   2761\u001b[0m     v, skip_invalid\u001b[39m=\u001b[39;49mskip_invalid\n\u001b[1;32m   2762\u001b[0m )\n",
      "File \u001b[0;32m~/.local/lib/python3.8/site-packages/_plotly_utils/basevalidators.py:2471\u001b[0m, in \u001b[0;36mCompoundValidator.validate_coerce\u001b[0;34m(self, v, skip_invalid, _validate)\u001b[0m\n\u001b[1;32m   2467\u001b[0m     v \u001b[39m=\u001b[39m \u001b[39mself\u001b[39m\u001b[39m.\u001b[39mdata_class(v, skip_invalid\u001b[39m=\u001b[39mskip_invalid, _validate\u001b[39m=\u001b[39m_validate)\n\u001b[1;32m   2469\u001b[0m \u001b[39melif\u001b[39;00m \u001b[39misinstance\u001b[39m(v, \u001b[39mself\u001b[39m\u001b[39m.\u001b[39mdata_class):\n\u001b[1;32m   2470\u001b[0m     \u001b[39m# Copy object\u001b[39;00m\n\u001b[0;32m-> 2471\u001b[0m     v \u001b[39m=\u001b[39m \u001b[39mself\u001b[39;49m\u001b[39m.\u001b[39;49mdata_class(v)\n\u001b[1;32m   2472\u001b[0m \u001b[39melse\u001b[39;00m:\n\u001b[1;32m   2473\u001b[0m     \u001b[39mif\u001b[39;00m skip_invalid:\n",
      "File \u001b[0;32m~/.local/lib/python3.8/site-packages/plotly/graph_objs/layout/_template.py:319\u001b[0m, in \u001b[0;36mTemplate.__init__\u001b[0;34m(self, arg, data, layout, **kwargs)\u001b[0m\n\u001b[1;32m    317\u001b[0m _v \u001b[39m=\u001b[39m data \u001b[39mif\u001b[39;00m data \u001b[39mis\u001b[39;00m \u001b[39mnot\u001b[39;00m \u001b[39mNone\u001b[39;00m \u001b[39melse\u001b[39;00m _v\n\u001b[1;32m    318\u001b[0m \u001b[39mif\u001b[39;00m _v \u001b[39mis\u001b[39;00m \u001b[39mnot\u001b[39;00m \u001b[39mNone\u001b[39;00m:\n\u001b[0;32m--> 319\u001b[0m     \u001b[39mself\u001b[39m[\u001b[39m\"\u001b[39m\u001b[39mdata\u001b[39m\u001b[39m\"\u001b[39m] \u001b[39m=\u001b[39m _v\n\u001b[1;32m    320\u001b[0m _v \u001b[39m=\u001b[39m arg\u001b[39m.\u001b[39mpop(\u001b[39m\"\u001b[39m\u001b[39mlayout\u001b[39m\u001b[39m\"\u001b[39m, \u001b[39mNone\u001b[39;00m)\n\u001b[1;32m    321\u001b[0m _v \u001b[39m=\u001b[39m layout \u001b[39mif\u001b[39;00m layout \u001b[39mis\u001b[39;00m \u001b[39mnot\u001b[39;00m \u001b[39mNone\u001b[39;00m \u001b[39melse\u001b[39;00m _v\n",
      "File \u001b[0;32m~/.local/lib/python3.8/site-packages/plotly/basedatatypes.py:4811\u001b[0m, in \u001b[0;36mBasePlotlyType.__setitem__\u001b[0;34m(self, prop, value)\u001b[0m\n\u001b[1;32m   4809\u001b[0m \u001b[39m# ### Handle compound property ###\u001b[39;00m\n\u001b[1;32m   4810\u001b[0m \u001b[39mif\u001b[39;00m \u001b[39misinstance\u001b[39m(validator, CompoundValidator):\n\u001b[0;32m-> 4811\u001b[0m     \u001b[39mself\u001b[39;49m\u001b[39m.\u001b[39;49m_set_compound_prop(prop, value)\n\u001b[1;32m   4813\u001b[0m \u001b[39m# ### Handle compound array property ###\u001b[39;00m\n\u001b[1;32m   4814\u001b[0m \u001b[39melif\u001b[39;00m \u001b[39misinstance\u001b[39m(validator, (CompoundArrayValidator, BaseDataValidator)):\n",
      "File \u001b[0;32m~/.local/lib/python3.8/site-packages/plotly/basedatatypes.py:5222\u001b[0m, in \u001b[0;36mBasePlotlyType._set_compound_prop\u001b[0;34m(self, prop, val)\u001b[0m\n\u001b[1;32m   5219\u001b[0m \u001b[39m# Import value\u001b[39;00m\n\u001b[1;32m   5220\u001b[0m \u001b[39m# ------------\u001b[39;00m\n\u001b[1;32m   5221\u001b[0m validator \u001b[39m=\u001b[39m \u001b[39mself\u001b[39m\u001b[39m.\u001b[39m_get_validator(prop)\n\u001b[0;32m-> 5222\u001b[0m val \u001b[39m=\u001b[39m validator\u001b[39m.\u001b[39;49mvalidate_coerce(val, skip_invalid\u001b[39m=\u001b[39;49m\u001b[39mself\u001b[39;49m\u001b[39m.\u001b[39;49m_skip_invalid)\n\u001b[1;32m   5224\u001b[0m \u001b[39m# Save deep copies of current and new states\u001b[39;00m\n\u001b[1;32m   5225\u001b[0m \u001b[39m# ------------------------------------------\u001b[39;00m\n\u001b[1;32m   5226\u001b[0m curr_val \u001b[39m=\u001b[39m \u001b[39mself\u001b[39m\u001b[39m.\u001b[39m_compound_props\u001b[39m.\u001b[39mget(prop, \u001b[39mNone\u001b[39;00m)\n",
      "File \u001b[0;32m~/.local/lib/python3.8/site-packages/_plotly_utils/basevalidators.py:2467\u001b[0m, in \u001b[0;36mCompoundValidator.validate_coerce\u001b[0;34m(self, v, skip_invalid, _validate)\u001b[0m\n\u001b[1;32m   2464\u001b[0m     v \u001b[39m=\u001b[39m \u001b[39mself\u001b[39m\u001b[39m.\u001b[39mdata_class()\n\u001b[1;32m   2466\u001b[0m \u001b[39melif\u001b[39;00m \u001b[39misinstance\u001b[39m(v, \u001b[39mdict\u001b[39m):\n\u001b[0;32m-> 2467\u001b[0m     v \u001b[39m=\u001b[39m \u001b[39mself\u001b[39;49m\u001b[39m.\u001b[39;49mdata_class(v, skip_invalid\u001b[39m=\u001b[39;49mskip_invalid, _validate\u001b[39m=\u001b[39;49m_validate)\n\u001b[1;32m   2469\u001b[0m \u001b[39melif\u001b[39;00m \u001b[39misinstance\u001b[39m(v, \u001b[39mself\u001b[39m\u001b[39m.\u001b[39mdata_class):\n\u001b[1;32m   2470\u001b[0m     \u001b[39m# Copy object\u001b[39;00m\n\u001b[1;32m   2471\u001b[0m     v \u001b[39m=\u001b[39m \u001b[39mself\u001b[39m\u001b[39m.\u001b[39mdata_class(v)\n",
      "File \u001b[0;32m~/.local/lib/python3.8/site-packages/plotly/graph_objs/layout/template/_data.py:1653\u001b[0m, in \u001b[0;36mData.__init__\u001b[0;34m(self, arg, barpolar, bar, box, candlestick, carpet, choroplethmapbox, choropleth, cone, contourcarpet, contour, densitymapbox, funnelarea, funnel, heatmapgl, heatmap, histogram2dcontour, histogram2d, histogram, icicle, image, indicator, isosurface, mesh3d, ohlc, parcats, parcoords, pie, pointcloud, sankey, scatter3d, scattercarpet, scattergeo, scattergl, scattermapbox, scatterpolargl, scatterpolar, scatter, scatterternary, splom, streamtube, sunburst, surface, table, treemap, violin, volume, waterfall, **kwargs)\u001b[0m\n\u001b[1;32m   1651\u001b[0m _v \u001b[39m=\u001b[39m scattercarpet \u001b[39mif\u001b[39;00m scattercarpet \u001b[39mis\u001b[39;00m \u001b[39mnot\u001b[39;00m \u001b[39mNone\u001b[39;00m \u001b[39melse\u001b[39;00m _v\n\u001b[1;32m   1652\u001b[0m \u001b[39mif\u001b[39;00m _v \u001b[39mis\u001b[39;00m \u001b[39mnot\u001b[39;00m \u001b[39mNone\u001b[39;00m:\n\u001b[0;32m-> 1653\u001b[0m     \u001b[39mself\u001b[39m[\u001b[39m\"\u001b[39m\u001b[39mscattercarpet\u001b[39m\u001b[39m\"\u001b[39m] \u001b[39m=\u001b[39m _v\n\u001b[1;32m   1654\u001b[0m _v \u001b[39m=\u001b[39m arg\u001b[39m.\u001b[39mpop(\u001b[39m\"\u001b[39m\u001b[39mscattergeo\u001b[39m\u001b[39m\"\u001b[39m, \u001b[39mNone\u001b[39;00m)\n\u001b[1;32m   1655\u001b[0m _v \u001b[39m=\u001b[39m scattergeo \u001b[39mif\u001b[39;00m scattergeo \u001b[39mis\u001b[39;00m \u001b[39mnot\u001b[39;00m \u001b[39mNone\u001b[39;00m \u001b[39melse\u001b[39;00m _v\n",
      "File \u001b[0;32m~/.local/lib/python3.8/site-packages/plotly/basedatatypes.py:4815\u001b[0m, in \u001b[0;36mBasePlotlyType.__setitem__\u001b[0;34m(self, prop, value)\u001b[0m\n\u001b[1;32m   4813\u001b[0m \u001b[39m# ### Handle compound array property ###\u001b[39;00m\n\u001b[1;32m   4814\u001b[0m \u001b[39melif\u001b[39;00m \u001b[39misinstance\u001b[39m(validator, (CompoundArrayValidator, BaseDataValidator)):\n\u001b[0;32m-> 4815\u001b[0m     \u001b[39mself\u001b[39;49m\u001b[39m.\u001b[39;49m_set_array_prop(prop, value)\n\u001b[1;32m   4817\u001b[0m \u001b[39m# ### Handle simple property ###\u001b[39;00m\n\u001b[1;32m   4818\u001b[0m \u001b[39melse\u001b[39;00m:\n\u001b[1;32m   4819\u001b[0m     \u001b[39mself\u001b[39m\u001b[39m.\u001b[39m_set_prop(prop, value)\n",
      "File \u001b[0;32m~/.local/lib/python3.8/site-packages/plotly/basedatatypes.py:5296\u001b[0m, in \u001b[0;36mBasePlotlyType._set_array_prop\u001b[0;34m(self, prop, val)\u001b[0m\n\u001b[1;32m   5293\u001b[0m \u001b[39m# Import value\u001b[39;00m\n\u001b[1;32m   5294\u001b[0m \u001b[39m# ------------\u001b[39;00m\n\u001b[1;32m   5295\u001b[0m validator \u001b[39m=\u001b[39m \u001b[39mself\u001b[39m\u001b[39m.\u001b[39m_get_validator(prop)\n\u001b[0;32m-> 5296\u001b[0m val \u001b[39m=\u001b[39m validator\u001b[39m.\u001b[39;49mvalidate_coerce(val, skip_invalid\u001b[39m=\u001b[39;49m\u001b[39mself\u001b[39;49m\u001b[39m.\u001b[39;49m_skip_invalid)\n\u001b[1;32m   5298\u001b[0m \u001b[39m# Save deep copies of current and new states\u001b[39;00m\n\u001b[1;32m   5299\u001b[0m \u001b[39m# ------------------------------------------\u001b[39;00m\n\u001b[1;32m   5300\u001b[0m curr_val \u001b[39m=\u001b[39m \u001b[39mself\u001b[39m\u001b[39m.\u001b[39m_compound_array_props\u001b[39m.\u001b[39mget(prop, \u001b[39mNone\u001b[39;00m)\n",
      "File \u001b[0;32m~/.local/lib/python3.8/site-packages/_plotly_utils/basevalidators.py:2559\u001b[0m, in \u001b[0;36mCompoundArrayValidator.validate_coerce\u001b[0;34m(self, v, skip_invalid)\u001b[0m\n\u001b[1;32m   2557\u001b[0m     res\u001b[39m.\u001b[39mappend(\u001b[39mself\u001b[39m\u001b[39m.\u001b[39mdata_class(v_el))\n\u001b[1;32m   2558\u001b[0m \u001b[39melif\u001b[39;00m \u001b[39misinstance\u001b[39m(v_el, \u001b[39mdict\u001b[39m):\n\u001b[0;32m-> 2559\u001b[0m     res\u001b[39m.\u001b[39mappend(\u001b[39mself\u001b[39;49m\u001b[39m.\u001b[39;49mdata_class(v_el, skip_invalid\u001b[39m=\u001b[39;49mskip_invalid))\n\u001b[1;32m   2560\u001b[0m \u001b[39melse\u001b[39;00m:\n\u001b[1;32m   2561\u001b[0m     \u001b[39mif\u001b[39;00m skip_invalid:\n",
      "File \u001b[0;32m~/.local/lib/python3.8/site-packages/plotly/graph_objs/_scattercarpet.py:2174\u001b[0m, in \u001b[0;36mScattercarpet.__init__\u001b[0;34m(self, arg, a, asrc, b, bsrc, carpet, connectgaps, customdata, customdatasrc, fill, fillcolor, hoverinfo, hoverinfosrc, hoverlabel, hoveron, hovertemplate, hovertemplatesrc, hovertext, hovertextsrc, ids, idssrc, legendgroup, legendgrouptitle, legendrank, line, marker, meta, metasrc, mode, name, opacity, selected, selectedpoints, showlegend, stream, text, textfont, textposition, textpositionsrc, textsrc, texttemplate, texttemplatesrc, uid, uirevision, unselected, visible, xaxis, yaxis, **kwargs)\u001b[0m\n\u001b[1;32m   2172\u001b[0m _v \u001b[39m=\u001b[39m marker \u001b[39mif\u001b[39;00m marker \u001b[39mis\u001b[39;00m \u001b[39mnot\u001b[39;00m \u001b[39mNone\u001b[39;00m \u001b[39melse\u001b[39;00m _v\n\u001b[1;32m   2173\u001b[0m \u001b[39mif\u001b[39;00m _v \u001b[39mis\u001b[39;00m \u001b[39mnot\u001b[39;00m \u001b[39mNone\u001b[39;00m:\n\u001b[0;32m-> 2174\u001b[0m     \u001b[39mself\u001b[39m[\u001b[39m\"\u001b[39m\u001b[39mmarker\u001b[39m\u001b[39m\"\u001b[39m] \u001b[39m=\u001b[39m _v\n\u001b[1;32m   2175\u001b[0m _v \u001b[39m=\u001b[39m arg\u001b[39m.\u001b[39mpop(\u001b[39m\"\u001b[39m\u001b[39mmeta\u001b[39m\u001b[39m\"\u001b[39m, \u001b[39mNone\u001b[39;00m)\n\u001b[1;32m   2176\u001b[0m _v \u001b[39m=\u001b[39m meta \u001b[39mif\u001b[39;00m meta \u001b[39mis\u001b[39;00m \u001b[39mnot\u001b[39;00m \u001b[39mNone\u001b[39;00m \u001b[39melse\u001b[39;00m _v\n",
      "File \u001b[0;32m~/.local/lib/python3.8/site-packages/plotly/basedatatypes.py:4811\u001b[0m, in \u001b[0;36mBasePlotlyType.__setitem__\u001b[0;34m(self, prop, value)\u001b[0m\n\u001b[1;32m   4809\u001b[0m \u001b[39m# ### Handle compound property ###\u001b[39;00m\n\u001b[1;32m   4810\u001b[0m \u001b[39mif\u001b[39;00m \u001b[39misinstance\u001b[39m(validator, CompoundValidator):\n\u001b[0;32m-> 4811\u001b[0m     \u001b[39mself\u001b[39;49m\u001b[39m.\u001b[39;49m_set_compound_prop(prop, value)\n\u001b[1;32m   4813\u001b[0m \u001b[39m# ### Handle compound array property ###\u001b[39;00m\n\u001b[1;32m   4814\u001b[0m \u001b[39melif\u001b[39;00m \u001b[39misinstance\u001b[39m(validator, (CompoundArrayValidator, BaseDataValidator)):\n",
      "File \u001b[0;32m~/.local/lib/python3.8/site-packages/plotly/basedatatypes.py:5222\u001b[0m, in \u001b[0;36mBasePlotlyType._set_compound_prop\u001b[0;34m(self, prop, val)\u001b[0m\n\u001b[1;32m   5219\u001b[0m \u001b[39m# Import value\u001b[39;00m\n\u001b[1;32m   5220\u001b[0m \u001b[39m# ------------\u001b[39;00m\n\u001b[1;32m   5221\u001b[0m validator \u001b[39m=\u001b[39m \u001b[39mself\u001b[39m\u001b[39m.\u001b[39m_get_validator(prop)\n\u001b[0;32m-> 5222\u001b[0m val \u001b[39m=\u001b[39m validator\u001b[39m.\u001b[39;49mvalidate_coerce(val, skip_invalid\u001b[39m=\u001b[39;49m\u001b[39mself\u001b[39;49m\u001b[39m.\u001b[39;49m_skip_invalid)\n\u001b[1;32m   5224\u001b[0m \u001b[39m# Save deep copies of current and new states\u001b[39;00m\n\u001b[1;32m   5225\u001b[0m \u001b[39m# ------------------------------------------\u001b[39;00m\n\u001b[1;32m   5226\u001b[0m curr_val \u001b[39m=\u001b[39m \u001b[39mself\u001b[39m\u001b[39m.\u001b[39m_compound_props\u001b[39m.\u001b[39mget(prop, \u001b[39mNone\u001b[39;00m)\n",
      "File \u001b[0;32m~/.local/lib/python3.8/site-packages/_plotly_utils/basevalidators.py:2467\u001b[0m, in \u001b[0;36mCompoundValidator.validate_coerce\u001b[0;34m(self, v, skip_invalid, _validate)\u001b[0m\n\u001b[1;32m   2464\u001b[0m     v \u001b[39m=\u001b[39m \u001b[39mself\u001b[39m\u001b[39m.\u001b[39mdata_class()\n\u001b[1;32m   2466\u001b[0m \u001b[39melif\u001b[39;00m \u001b[39misinstance\u001b[39m(v, \u001b[39mdict\u001b[39m):\n\u001b[0;32m-> 2467\u001b[0m     v \u001b[39m=\u001b[39m \u001b[39mself\u001b[39;49m\u001b[39m.\u001b[39;49mdata_class(v, skip_invalid\u001b[39m=\u001b[39mskip_invalid, _validate\u001b[39m=\u001b[39m_validate)\n\u001b[1;32m   2469\u001b[0m \u001b[39melif\u001b[39;00m \u001b[39misinstance\u001b[39m(v, \u001b[39mself\u001b[39m\u001b[39m.\u001b[39mdata_class):\n\u001b[1;32m   2470\u001b[0m     \u001b[39m# Copy object\u001b[39;00m\n\u001b[1;32m   2471\u001b[0m     v \u001b[39m=\u001b[39m \u001b[39mself\u001b[39m\u001b[39m.\u001b[39mdata_class(v)\n",
      "File \u001b[0;32m~/.local/lib/python3.8/site-packages/_plotly_utils/basevalidators.py:2437\u001b[0m, in \u001b[0;36mCompoundValidator.data_class\u001b[0;34m(self)\u001b[0m\n\u001b[1;32m   2435\u001b[0m \u001b[39mif\u001b[39;00m \u001b[39mself\u001b[39m\u001b[39m.\u001b[39m_data_class \u001b[39mis\u001b[39;00m \u001b[39mNone\u001b[39;00m:\n\u001b[1;32m   2436\u001b[0m     module \u001b[39m=\u001b[39m import_module(\u001b[39mself\u001b[39m\u001b[39m.\u001b[39mmodule_str)\n\u001b[0;32m-> 2437\u001b[0m     \u001b[39mself\u001b[39m\u001b[39m.\u001b[39m_data_class \u001b[39m=\u001b[39m \u001b[39mgetattr\u001b[39;49m(module, \u001b[39mself\u001b[39;49m\u001b[39m.\u001b[39;49mdata_class_str)\n\u001b[1;32m   2439\u001b[0m \u001b[39mreturn\u001b[39;00m \u001b[39mself\u001b[39m\u001b[39m.\u001b[39m_data_class\n",
      "File \u001b[0;32m~/.local/lib/python3.8/site-packages/_plotly_utils/importers.py:36\u001b[0m, in \u001b[0;36mrelative_import.<locals>.__getattr__\u001b[0;34m(import_name)\u001b[0m\n\u001b[1;32m     34\u001b[0m     rel_module \u001b[39m=\u001b[39m \u001b[39m\"\u001b[39m\u001b[39m.\u001b[39m\u001b[39m\"\u001b[39m\u001b[39m.\u001b[39mjoin(rel_path_parts[:\u001b[39m-\u001b[39m\u001b[39m1\u001b[39m])\n\u001b[1;32m     35\u001b[0m     class_name \u001b[39m=\u001b[39m import_name\n\u001b[0;32m---> 36\u001b[0m     class_module \u001b[39m=\u001b[39m importlib\u001b[39m.\u001b[39;49mimport_module(rel_module, parent_name)\n\u001b[1;32m     37\u001b[0m     \u001b[39mreturn\u001b[39;00m \u001b[39mgetattr\u001b[39m(class_module, class_name)\n\u001b[1;32m     39\u001b[0m \u001b[39mraise\u001b[39;00m \u001b[39mAttributeError\u001b[39;00m(\n\u001b[1;32m     40\u001b[0m     \u001b[39m\"\u001b[39m\u001b[39mmodule \u001b[39m\u001b[39m{__name__!r}\u001b[39;00m\u001b[39m has no attribute \u001b[39m\u001b[39m{name!r}\u001b[39;00m\u001b[39m\"\u001b[39m\u001b[39m.\u001b[39mformat(\n\u001b[1;32m     41\u001b[0m         name\u001b[39m=\u001b[39mimport_name, \u001b[39m__name__\u001b[39m\u001b[39m=\u001b[39mparent_name\n\u001b[1;32m     42\u001b[0m     )\n\u001b[1;32m     43\u001b[0m )\n",
      "File \u001b[0;32m/usr/lib/python3.8/importlib/__init__.py:127\u001b[0m, in \u001b[0;36mimport_module\u001b[0;34m(name, package)\u001b[0m\n\u001b[1;32m    125\u001b[0m             \u001b[39mbreak\u001b[39;00m\n\u001b[1;32m    126\u001b[0m         level \u001b[39m+\u001b[39m\u001b[39m=\u001b[39m \u001b[39m1\u001b[39m\n\u001b[0;32m--> 127\u001b[0m \u001b[39mreturn\u001b[39;00m _bootstrap\u001b[39m.\u001b[39;49m_gcd_import(name[level:], package, level)\n",
      "File \u001b[0;32m<frozen importlib._bootstrap>:1014\u001b[0m, in \u001b[0;36m_gcd_import\u001b[0;34m(name, package, level)\u001b[0m\n",
      "File \u001b[0;32m<frozen importlib._bootstrap>:991\u001b[0m, in \u001b[0;36m_find_and_load\u001b[0;34m(name, import_)\u001b[0m\n",
      "File \u001b[0;32m<frozen importlib._bootstrap>:975\u001b[0m, in \u001b[0;36m_find_and_load_unlocked\u001b[0;34m(name, import_)\u001b[0m\n",
      "File \u001b[0;32m<frozen importlib._bootstrap>:671\u001b[0m, in \u001b[0;36m_load_unlocked\u001b[0;34m(spec)\u001b[0m\n",
      "File \u001b[0;32m<frozen importlib._bootstrap_external>:844\u001b[0m, in \u001b[0;36mexec_module\u001b[0;34m(self, module)\u001b[0m\n",
      "File \u001b[0;32m<frozen importlib._bootstrap_external>:939\u001b[0m, in \u001b[0;36mget_code\u001b[0;34m(self, fullname)\u001b[0m\n",
      "File \u001b[0;32m<frozen importlib._bootstrap_external>:1038\u001b[0m, in \u001b[0;36mget_data\u001b[0;34m(self, path)\u001b[0m\n",
      "\u001b[0;31mKeyboardInterrupt\u001b[0m: "
     ]
    }
   ],
   "source": [
    "import plotly.express as px\n",
    "\n",
    "index_df = clsPerfIndex.get_value_index(piv_marketcap_df)\n",
    "\n",
    "_min_date = (index_df[\"Date\"].min()).date()\n",
    "_max_date = (index_df[\"Date\"].max()).date()\n",
    "_title = \"Asset class value index \"+str(_min_date)+\" to \"+str(_max_date)\n",
    "fig = px.line(index_df, x=\"Date\", y=index_df.columns,\n",
    "              hover_data={\"Date\": \"|%B %d, %Y\"},\n",
    "              title=_title)\n",
    "fig.update_xaxes(\n",
    "    dtick=\"M1\",\n",
    "    tickformat=\"%b\\n%Y\")\n",
    "fig.show()"
   ]
  },
  {
   "cell_type": "code",
   "execution_count": null,
   "id": "13883175",
   "metadata": {},
   "outputs": [],
   "source": []
  }
 ],
 "metadata": {
  "kernelspec": {
   "display_name": "Python 3 (ipykernel)",
   "language": "python",
   "name": "python3"
  },
  "language_info": {
   "codemirror_mode": {
    "name": "ipython",
    "version": 3
   },
   "file_extension": ".py",
   "mimetype": "text/x-python",
   "name": "python",
   "nbconvert_exporter": "python",
   "pygments_lexer": "ipython3",
   "version": "3.8.10"
  },
  "vscode": {
   "interpreter": {
    "hash": "e7370f93d1d0cde622a1f8e1c04877d8463912d04d973331ad4851f04de6915a"
   }
  }
 },
 "nbformat": 4,
 "nbformat_minor": 5
}
