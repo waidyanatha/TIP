{
 "cells": [
  {
   "cell_type": "markdown",
   "id": "e123d130",
   "metadata": {},
   "source": [
    "# Market Capitalization Data Discovery\n",
    "[Portfolio Analysis](https://tradewithpython.com/portfolio-analysis-using-python)\n",
    "\n",
    "After unzip files into folder, read all the files into a list"
   ]
  },
  {
   "cell_type": "code",
   "execution_count": 1,
   "id": "b4991053",
   "metadata": {},
   "outputs": [],
   "source": [
    "'''\n",
    "    WARNING CONTROL to display or ignore all warnings\n",
    "'''\n",
    "import warnings; warnings.simplefilter('default')     #switch betweeb 'default' and 'ignore'\n",
    "\n",
    "''' Set debug flag to view extended error messages; else set it to False to turn off debugging mode '''\n",
    "debug = True"
   ]
  },
  {
   "cell_type": "code",
   "execution_count": 2,
   "id": "8a4649dc",
   "metadata": {},
   "outputs": [
    {
     "name": "stdout",
     "output_type": "stream",
     "text": [
      "Retrieved 63 files in dir: ../data/market_cap_2021-01-01_2022-06-01/ \n",
      "Loaded 3637 rows Index(['Date', 'ID', 'Symbol', 'market_cap'], dtype='object')\n",
      "<class 'pandas.core.frame.DataFrame'>\n",
      "RangeIndex: 524 entries, 0 to 523\n",
      "Data columns (total 8 columns):\n",
      " #   Column        Non-Null Count  Dtype         \n",
      "---  ------        --------------  -----         \n",
      " 0   Date          524 non-null    datetime64[ns]\n",
      " 1   bitcoin       524 non-null    float64       \n",
      " 2   bitcoin_cash  493 non-null    float64       \n",
      " 3   cardano       524 non-null    float64       \n",
      " 4   ethereum      524 non-null    float64       \n",
      " 5   litecoin      524 non-null    float64       \n",
      " 6   ripple        524 non-null    float64       \n",
      " 7   solana        524 non-null    float64       \n",
      "dtypes: datetime64[ns](1), float64(7)\n",
      "memory usage: 32.9 KB\n",
      "None\n",
      "Market cap data load & transform complete! \n"
     ]
    }
   ],
   "source": [
    "import sys\n",
    "sys.path.insert(1, '../lib')\n",
    "import clsDataETL as etl\n",
    "import pandas as pd\n",
    "\n",
    "if debug:\n",
    "    import importlib\n",
    "    etl = importlib.reload(etl)\n",
    "\n",
    "''' Initialize the dataETL class '''\n",
    "path = \"../data/market_cap_2021-01-01_2022-06-01/\"\n",
    "clsETL = etl.ExtractLoadTransform(dataPath=path)\n",
    "''' Get list of data file names '''\n",
    "_l_fnames = clsETL.get_file_list()\n",
    "print(\"Retrieved %d files in dir: %s \" % (len(_l_fnames),path))\n",
    "''' Load data into dataframe '''\n",
    "data_df = clsETL.load_data(_l_fnames)\n",
    "print(\"Loaded %d rows %s\" % (data_df.shape[0],str(data_df.columns)))\n",
    "''' Transform data with coin ids in columns '''\n",
    "market_df = clsETL.transfrom_data(data_df, value_col_name='market_cap')\n",
    "print(market_df.info())\n",
    "print(\"Market cap data load & transform complete! \")"
   ]
  },
  {
   "cell_type": "markdown",
   "id": "cf4d28a6",
   "metadata": {},
   "source": [
    "## Probability distribution of the data"
   ]
  },
  {
   "cell_type": "code",
   "execution_count": 10,
   "id": "c1bdabef",
   "metadata": {
    "scrolled": true
   },
   "outputs": [
    {
     "name": "stdout",
     "output_type": "stream",
     "text": [
      "bitcoin\n",
      "[distfit] >fit..\n",
      "[distfit] >transform..\n",
      "[distfit] >[norm      ] [0.00 sec] [RSS: 0.0000000] [loc=778418899104.554 scale=58437211508.392]\n",
      "[distfit] >[expon     ] [0.00 sec] [RSS: 0.0000000] [loc=666220701468.485 scale=112198197636.069]\n",
      "[distfit] >[pareto    ] [0.09 sec] [RSS: 0.0000000] [loc=-1481894985.333 scale=667702596427.561]\n",
      "[distfit] >[dweibull  ] [0.06 sec] [RSS: 0.0000000] [loc=766565978992.041 scale=58247443081.662]\n",
      "[distfit] >[t         ] [0.09 sec] [RSS: 0.0000000] [loc=2501440958.431 scale=787375509743.781]\n",
      "[distfit] >[genextreme] [0.24 sec] [RSS: 0.0000000] [loc=666220701468.617 scale=2.409]\n",
      "[distfit] >[gamma     ] [0.08 sec] [RSS: 0.0000000] [loc=-812940731558.978 scale=2146939942.213]\n",
      "[distfit] >[lognorm   ] [0.15 sec] [RSS: 0.0000000] [loc=666220701468.484 scale=3.970]\n",
      "[distfit] >[beta      ] [0.14 sec] [RSS: 0.0000000] [loc=662083273843.240 scale=253539355746.330]\n",
      "[distfit] >[uniform   ] [0.00 sec] [RSS: 0.0000000] [loc=666220701468.485 scale=238331245448.836]\n",
      "[distfit] >[loggamma  ] [0.07 sec] [RSS: 0.0000000] [loc=-9126792577342.852 scale=1520525026768.918]\n",
      "[distfit] >Compute confidence interval [parametric]\n",
      "[distfit] >plot..\n",
      "cardano\n",
      "[distfit] >Cleaning previous fitted model results..\n",
      "[distfit] >fit..\n",
      "[distfit] >transform..\n",
      "[distfit] >[norm      ] [0.00 sec] [RSS: 0.0000000] [loc=36308521829.500 scale=5095571869.167]\n",
      "[distfit] >[expon     ] [0.00 sec] [RSS: 0.0000000] [loc=27380809087.285 scale=8927712742.214]\n",
      "[distfit] >[pareto    ] [0.08 sec] [RSS: 0.0000000] [loc=-62461851.092 scale=27443270938.377]\n",
      "[distfit] >[dweibull  ] [0.04 sec] [RSS: 0.0000000] [loc=35512346977.065 scale=4392162617.807]\n",
      "[distfit] >[t         ] [0.09 sec] [RSS: 0.0000000] [loc=36330430368.660 scale=5137485334.230]\n",
      "[distfit] >[genextreme] [0.24 sec] [RSS: 0.0000000] [loc=27380809088.040 scale=10.843]\n",
      "[distfit] >[gamma     ] [0.06 sec] [RSS: 0.0000000] [loc=15370246111.981 scale=1254361359.542]\n",
      "[distfit] >[lognorm   ] [0.13 sec] [RSS: 0.0000000] [loc=27380809087.285 scale=1.394]\n",
      "[distfit] >[beta      ] [0.07 sec] [RSS: 0.0000000] [loc=26540774147.766 scale=27322065854.631]\n",
      "[distfit] >[uniform   ] [0.00 sec] [RSS: 0.0000000] [loc=27380809087.285 scale=23142063713.111]\n",
      "[distfit] >[loggamma  ] [0.08 sec] [RSS: 0.0000000] [loc=-1588171278316.186 scale=217098723909.123]\n",
      "[distfit] >Compute confidence interval [parametric]\n",
      "[distfit] >plot..\n",
      "ethereum\n",
      "[distfit] >Cleaning previous fitted model results..\n",
      "[distfit] >fit..\n",
      "[distfit] >transform..\n",
      "[distfit] >[norm      ] [0.00 sec] [RSS: 0.0000000] [loc=356114512152.417 scale=44356922775.925]\n",
      "[distfit] >[expon     ] [0.00 sec] [RSS: 0.0000000] [loc=286799916366.572 scale=69314595785.845]\n",
      "[distfit] >[pareto    ] [0.08 sec] [RSS: 0.0000000] [loc=-808931593.368 scale=287608847959.940]\n",
      "[distfit] >[dweibull  ] [0.04 sec] [RSS: 0.0000000] [loc=356943350576.670 scale=40742383312.365]\n",
      "[distfit] >[t         ] [0.08 sec] [RSS: 0.0000000] [loc=-1004694861.564 scale=359372059533.939]\n",
      "[distfit] >[genextreme] [0.25 sec] [RSS: 0.0000000] [loc=286799916366.941 scale=4.545]\n",
      "[distfit] >[gamma     ] [0.05 sec] [RSS: 0.0000000] [loc=272846993038.408 scale=27213390092.714]\n",
      "[distfit] >[lognorm   ] [0.10 sec] [RSS: 0.0000000] [loc=286799916366.572 scale=1.548]\n",
      "[distfit] >[beta      ] [0.12 sec] [RSS: 0.0000000] [loc=286799916366.572 scale=170052484295.204]\n",
      "[distfit] >[uniform   ] [0.00 sec] [RSS: 0.0000000] [loc=286799916366.572 scale=170052483938.361]\n",
      "[distfit] >[loggamma  ] [0.07 sec] [RSS: 0.0000000] [loc=-15553785783753.971 scale=2076590087113.798]\n",
      "[distfit] >Compute confidence interval [parametric]\n",
      "[distfit] >plot..\n",
      "litecoin\n",
      "[distfit] >Cleaning previous fitted model results..\n",
      "[distfit] >fit..\n",
      "[distfit] >transform..\n",
      "[distfit] >[norm      ] [0.00 sec] [RSS: 0.0000000] [loc=8674306119.643 scale=1028337595.723]\n",
      "[distfit] >[expon     ] [0.00 sec] [RSS: 0.0000000] [loc=7184428503.067 scale=1489877616.576]\n",
      "[distfit] >[pareto    ] [0.08 sec] [RSS: 0.0000000] [loc=-15279477.865 scale=7199707980.932]\n",
      "[distfit] >[dweibull  ] [0.04 sec] [RSS: 0.0000000] [loc=8581079016.975 scale=1032205574.615]\n",
      "[distfit] >[t         ] [0.08 sec] [RSS: 0.0000000] [loc=8665838462.474 scale=1046059840.690]\n",
      "[distfit] >[genextreme] [0.23 sec] [RSS: 0.0000000] [loc=7184428505.249 scale=30.500]\n",
      "[distfit] >[gamma     ] [0.08 sec] [RSS: 0.0000000] [loc=7149635205.791 scale=991771435.401]\n",
      "[distfit] >[lognorm   ] [0.14 sec] [RSS: 0.0000000] [loc=7184428503.067 scale=0.518]\n",
      "[distfit] >[beta      ] [0.15 sec] [RSS: 0.0000000] [loc=7184428503.067 scale=3353513620.426]\n",
      "[distfit] >[uniform   ] [0.00 sec] [RSS: 0.0000000] [loc=7184428503.067 scale=3353513620.426]\n",
      "[distfit] >[loggamma  ] [0.09 sec] [RSS: 0.0000000] [loc=-321556318728.874 scale=44049910512.594]\n",
      "[distfit] >Compute confidence interval [parametric]\n",
      "[distfit] >plot..\n",
      "ripple\n",
      "[distfit] >Cleaning previous fitted model results..\n",
      "[distfit] >fit..\n",
      "[distfit] >transform..\n",
      "[distfit] >[norm      ] [0.00 sec] [RSS: 0.0000000] [loc=35357880146.514 scale=3952703304.044]\n",
      "[distfit] >[expon     ] [0.00 sec] [RSS: 0.0000000] [loc=28567576973.565 scale=6790303172.948]\n",
      "[distfit] >[pareto    ] [0.08 sec] [RSS: 0.0000000] [loc=-64257740.476 scale=28631834714.040]\n",
      "[distfit] >[dweibull  ] [0.04 sec] [RSS: 0.0000000] [loc=36103884496.927 scale=3466380688.831]\n",
      "[distfit] >[t         ] [0.08 sec] [RSS: 0.0000000] [loc=-79134451.934 scale=35617107133.641]\n",
      "[distfit] >[genextreme] [0.10 sec] [RSS: 0.0000000] [loc=34379159062.726 scale=4260893955.256]\n",
      "[distfit] >[gamma     ] [0.07 sec] [RSS: 0.0000000] [loc=-30588665061.478 scale=243391167.391]\n",
      "[distfit] >[lognorm   ] [0.10 sec] [RSS: 0.0000000] [loc=28567576973.565 scale=0.667]\n",
      "[distfit] >[beta      ] [0.11 sec] [RSS: 0.0000000] [loc=28567576973.565 scale=13968610228.540]\n",
      "[distfit] >[uniform   ] [0.00 sec] [RSS: 0.0000000] [loc=28567576973.565 scale=13629077343.962]\n",
      "[distfit] >[loggamma  ] [0.04 sec] [RSS: 0.0000000] [loc=33800039507.850 scale=4824944106.654]\n",
      "[distfit] >Compute confidence interval [parametric]\n",
      "[distfit] >plot..\n",
      "solana\n",
      "[distfit] >Cleaning previous fitted model results..\n",
      "[distfit] >fit..\n",
      "[distfit] >transform..\n",
      "[distfit] >[norm      ] [0.00 sec] [RSS: 0.0000000] [loc=36658904132.225 scale=8226692653.643]\n",
      "[distfit] >[expon     ] [0.00 sec] [RSS: 0.0000000] [loc=26727888651.409 scale=9931015480.816]\n",
      "[distfit] >[pareto    ] [0.09 sec] [RSS: 0.0000000] [loc=-60972391.118 scale=26788861042.526]\n",
      "[distfit] >[dweibull  ] [0.04 sec] [RSS: 0.0000000] [loc=34497211005.040 scale=7541594205.600]\n",
      "[distfit] >[t         ] [0.08 sec] [RSS: 0.0000000] [loc=37286739655.554 scale=8593673916.458]\n",
      "[distfit] >[genextreme] [0.26 sec] [RSS: 0.0000000] [loc=26727888652.194 scale=10.239]\n",
      "[distfit] >[gamma     ] [0.05 sec] [RSS: 0.0000000] [loc=26690025046.938 scale=8512856481.005]\n",
      "[distfit] >[lognorm   ] [0.14 sec] [RSS: 0.0000000] [loc=26727888651.409 scale=0.218]\n",
      "[distfit] >[beta      ] [0.13 sec] [RSS: 0.0000000] [loc=26727888651.409 scale=28362801690.988]\n",
      "[distfit] >[uniform   ] [0.00 sec] [RSS: 0.0000000] [loc=26727888651.409 scale=28361751597.688]\n",
      "[distfit] >[loggamma  ] [0.08 sec] [RSS: 0.0000000] [loc=-1758221168885.366 scale=260666731362.817]\n",
      "[distfit] >Compute confidence interval [parametric]\n",
      "[distfit] >plot..\n"
     ]
    },
    {
     "data": {
      "image/png": "[encoded data removed]",
      "text/plain": [
       "<Figure size 720x576 with 1 Axes>"
      ]
     },
     "metadata": {
      "needs_background": "light"
     },
     "output_type": "display_data"
    },
    {
     "data": {
      "image/png": "[encoded data removed]",
      "text/plain": [
       "<Figure size 720x576 with 1 Axes>"
      ]
     },
     "metadata": {
      "needs_background": "light"
     },
     "output_type": "display_data"
    },
    {
     "data": {
      "image/png": "[encoded data removed]",
      "text/plain": [
       "<Figure size 720x576 with 1 Axes>"
      ]
     },
     "metadata": {
      "needs_background": "light"
     },
     "output_type": "display_data"
    },
    {
     "data": {
      "image/png": "[encoded data removed]",
      "text/plain": [
       "<Figure size 720x576 with 1 Axes>"
      ]
     },
     "metadata": {
      "needs_background": "light"
     },
     "output_type": "display_data"
    },
    {
     "data": {
      "image/png": "[encoded data removed]",
      "text/plain": [
       "<Figure size 720x576 with 1 Axes>"
      ]
     },
     "metadata": {
      "needs_background": "light"
     },
     "output_type": "display_data"
    },
    {
     "data": {
      "image/png": "[encoded data removed]",
      "text/plain": [
       "<Figure size 720x576 with 1 Axes>"
      ]
     },
     "metadata": {
      "needs_background": "light"
     },
     "output_type": "display_data"
    }
   ],
   "source": [
    "#%%capture\n",
    "from distfit import distfit\n",
    "import numpy as np\n",
    "\n",
    "_l_dist = []\n",
    "dist = distfit(distr='popular')\n",
    "market_df.replace(\"\", np.nan, inplace=True)\n",
    "market_df.dropna(how='all', axis=1, inplace=True)\n",
    "\n",
    "''' list of all the numerical data columns '''\n",
    "_l_num_cols=market_df.select_dtypes(include=np.number).columns.tolist()\n",
    "_l_num_cols = [col for col in _l_num_cols if col !='bitcoin_cash']\n",
    "for col in _l_num_cols:\n",
    "    print(col)\n",
    "    _col_vals = market_df[col].values\n",
    "    ''' initialize distfit'''\n",
    "    dist.fit_transform(_col_vals)\n",
    "    ''' print the summary results '''\n",
    "    dist.plot(title=col)\n"
   ]
  },
  {
   "cell_type": "markdown",
   "id": "bd308a5b",
   "metadata": {},
   "source": [
    "## Filter by date range"
   ]
  },
  {
   "cell_type": "code",
   "execution_count": 3,
   "id": "1b123580",
   "metadata": {},
   "outputs": [
    {
     "name": "stdout",
     "output_type": "stream",
     "text": [
      "<class 'pandas.core.frame.DataFrame'>\n",
      "Int64Index: 60 entries, 365 to 424\n",
      "Data columns (total 8 columns):\n",
      " #   Column        Non-Null Count  Dtype         \n",
      "---  ------        --------------  -----         \n",
      " 0   Date          60 non-null     datetime64[ns]\n",
      " 1   bitcoin       60 non-null     float64       \n",
      " 2   bitcoin_cash  59 non-null     float64       \n",
      " 3   cardano       60 non-null     float64       \n",
      " 4   ethereum      60 non-null     float64       \n",
      " 5   litecoin      60 non-null     float64       \n",
      " 6   ripple        60 non-null     float64       \n",
      " 7   solana        60 non-null     float64       \n",
      "dtypes: datetime64[ns](1), float64(7)\n",
      "memory usage: 4.2 KB\n"
     ]
    }
   ],
   "source": [
    "import datetime\n",
    "\n",
    "start_dt = datetime.datetime(2022,1,1)\n",
    "end_dt = datetime.datetime(2022,3,1)\n",
    "market_df=clsETL.fillter_by_date(market_df,start_dt,end_dt)\n",
    "market_df.info()"
   ]
  },
  {
   "cell_type": "markdown",
   "id": "6d34b620",
   "metadata": {},
   "source": [
    "## Market capital\n",
    "Plot the market capital time series to see the behaviour"
   ]
  },
  {
   "cell_type": "code",
   "execution_count": 4,
   "id": "7a72a9d0",
   "metadata": {},
   "outputs": [
    {
     "name": "stderr",
     "output_type": "stream",
     "text": [
      "/home/gnewy/.local/lib/python3.8/site-packages/plotly/io/_renderers.py:396: DeprecationWarning:\n",
      "\n",
      "distutils Version classes are deprecated. Use packaging.version instead.\n",
      "\n"
     ]
    },
    {
     "data": {
      "application/vnd.plotly.v1+json": {
       "config": {
        "plotlyServerURL": "https://plot.ly"
       },
       "data": [
        {
         "hovertemplate": "variable=bitcoin<br>Date=%{x|%B %d, %Y}<br>value=%{y}<extra></extra>",
         "legendgroup": "bitcoin",
         "marker": {
          "color": "#636efa",
          "symbol": "circle"
         },
         "mode": "markers",
         "name": "bitcoin",
         "orientation": "v",
         "showlegend": true,
         "type": "scatter",
         "x": [
          "2022-01-01T00:00:00",
          "2022-01-02T00:00:00",
          "2022-01-03T00:00:00",
          "2022-01-04T00:00:00",
          "2022-01-05T00:00:00",
          "2022-01-06T00:00:00",
          "2022-01-07T00:00:00",
          "2022-01-08T00:00:00",
          "2022-01-09T00:00:00",
          "2022-01-10T00:00:00",
          "2022-01-11T00:00:00",
          "2022-01-12T00:00:00",
          "2022-01-13T00:00:00",
          "2022-01-14T00:00:00",
          "2022-01-15T00:00:00",
          "2022-01-16T00:00:00",
          "2022-01-17T00:00:00",
          "2022-01-18T00:00:00",
          "2022-01-19T00:00:00",
          "2022-01-20T00:00:00",
          "2022-01-21T00:00:00",
          "2022-01-22T00:00:00",
          "2022-01-23T00:00:00",
          "2022-01-24T00:00:00",
          "2022-01-25T00:00:00",
          "2022-01-26T00:00:00",
          "2022-01-27T00:00:00",
          "2022-01-28T00:00:00",
          "2022-01-29T00:00:00",
          "2022-01-30T00:00:00",
          "2022-01-31T00:00:00",
          "2022-02-01T00:00:00",
          "2022-02-02T00:00:00",
          "2022-02-03T00:00:00",
          "2022-02-04T00:00:00",
          "2022-02-05T00:00:00",
          "2022-02-06T00:00:00",
          "2022-02-07T00:00:00",
          "2022-02-08T00:00:00",
          "2022-02-09T00:00:00",
          "2022-02-10T00:00:00",
          "2022-02-11T00:00:00",
          "2022-02-12T00:00:00",
          "2022-02-13T00:00:00",
          "2022-02-14T00:00:00",
          "2022-02-15T00:00:00",
          "2022-02-16T00:00:00",
          "2022-02-17T00:00:00",
          "2022-02-18T00:00:00",
          "2022-02-19T00:00:00",
          "2022-02-20T00:00:00",
          "2022-02-21T00:00:00",
          "2022-02-22T00:00:00",
          "2022-02-23T00:00:00",
          "2022-02-24T00:00:00",
          "2022-02-25T00:00:00",
          "2022-02-26T00:00:00",
          "2022-02-27T00:00:00",
          "2022-02-28T00:00:00",
          "2022-03-01T00:00:00"
         ],
         "xaxis": "x",
         "y": [
          876192941903.0961,
          904551946917.3206,
          897536090320.9355,
          880330191985.1965,
          876242689666.1957,
          827723202715.1049,
          819522879407.0583,
          787735561341.1113,
          792892599975.9554,
          791648558214.5575,
          792407724467.5966,
          809621515508.4065,
          832460077955.3481,
          806510860231.8285,
          816129314317.4397,
          816800318526.6782,
          816325578941.135,
          800822650383.9624,
          803962100417.9756,
          790507925308.7825,
          774235809673.4731,
          692855029162.9379,
          666220701468.4846,
          687575973800.0704,
          696465421899.37,
          700571452648.8236,
          700165819656.2855,
          702311456032.8538,
          717026944842.8334,
          722829009646.1814,
          719570142321.8397,
          727905398095.9747,
          736102274236.6057,
          700645616423.8325,
          703003347951.7092,
          777355085535.6107,
          786295053042.2418,
          804942041477.0581,
          833392518214.8341,
          837406846076.2306,
          841339973338.8694,
          826942197610.3904,
          803706779791.898,
          799547462142.6093,
          802059713029.3901,
          808280617642.0496,
          848321283143.9929,
          836256083783.791,
          770096677778.6456,
          759881874201.3011,
          761447243939.9269,
          730381814665.4404,
          703004241590.1829,
          727094284067.6588,
          708829287814.1068,
          727657714638.0917,
          745763194704.1796,
          741083625917.93,
          717619764688.0872,
          819019441071.749
         ],
         "yaxis": "y"
        },
        {
         "hovertemplate": "variable=bitcoin_cash<br>Date=%{x|%B %d, %Y}<br>value=%{y}<extra></extra>",
         "legendgroup": "bitcoin_cash",
         "marker": {
          "color": "#EF553B",
          "symbol": "circle"
         },
         "mode": "markers",
         "name": "bitcoin_cash",
         "orientation": "v",
         "showlegend": true,
         "type": "scatter",
         "x": [
          "2022-01-01T00:00:00",
          "2022-01-02T00:00:00",
          "2022-01-03T00:00:00",
          "2022-01-04T00:00:00",
          "2022-01-05T00:00:00",
          "2022-01-06T00:00:00",
          "2022-01-07T00:00:00",
          "2022-01-08T00:00:00",
          "2022-01-09T00:00:00",
          "2022-01-10T00:00:00",
          "2022-01-11T00:00:00",
          "2022-01-12T00:00:00",
          "2022-01-13T00:00:00",
          "2022-01-14T00:00:00",
          "2022-01-15T00:00:00",
          "2022-01-16T00:00:00",
          "2022-01-17T00:00:00",
          "2022-01-18T00:00:00",
          "2022-01-19T00:00:00",
          "2022-01-20T00:00:00",
          "2022-01-21T00:00:00",
          "2022-01-22T00:00:00",
          "2022-01-23T00:00:00",
          "2022-01-24T00:00:00",
          "2022-01-25T00:00:00",
          "2022-01-26T00:00:00",
          "2022-01-27T00:00:00",
          "2022-01-28T00:00:00",
          "2022-01-29T00:00:00",
          "2022-01-30T00:00:00",
          "2022-01-31T00:00:00",
          "2022-02-01T00:00:00",
          "2022-02-02T00:00:00",
          "2022-02-03T00:00:00",
          "2022-02-04T00:00:00",
          "2022-02-05T00:00:00",
          "2022-02-06T00:00:00",
          "2022-02-07T00:00:00",
          "2022-02-08T00:00:00",
          "2022-02-09T00:00:00",
          "2022-02-10T00:00:00",
          "2022-02-11T00:00:00",
          "2022-02-12T00:00:00",
          "2022-02-13T00:00:00",
          "2022-02-14T00:00:00",
          "2022-02-15T00:00:00",
          "2022-02-16T00:00:00",
          "2022-02-17T00:00:00",
          "2022-02-18T00:00:00",
          "2022-02-19T00:00:00",
          "2022-02-20T00:00:00",
          "2022-02-21T00:00:00",
          "2022-02-22T00:00:00",
          "2022-02-23T00:00:00",
          "2022-02-24T00:00:00",
          "2022-02-25T00:00:00",
          "2022-02-26T00:00:00",
          "2022-02-27T00:00:00",
          "2022-02-28T00:00:00",
          "2022-03-01T00:00:00"
         ],
         "xaxis": "x",
         "y": [
          0,
          0,
          0,
          0,
          0,
          0,
          0,
          0,
          0,
          0,
          0,
          0,
          0,
          0,
          0,
          0,
          0,
          0,
          0,
          0,
          0,
          0,
          0,
          0,
          0,
          0,
          0,
          0,
          0,
          0,
          0,
          0,
          0,
          0,
          0,
          0,
          0,
          0,
          0,
          0,
          0,
          0,
          0,
          0,
          0,
          0,
          0,
          0,
          0,
          0,
          0,
          0,
          0,
          0,
          0,
          0,
          0,
          0,
          0,
          null
         ],
         "yaxis": "y"
        },
        {
         "hovertemplate": "variable=cardano<br>Date=%{x|%B %d, %Y}<br>value=%{y}<extra></extra>",
         "legendgroup": "cardano",
         "marker": {
          "color": "#00cc96",
          "symbol": "circle"
         },
         "mode": "markers",
         "name": "cardano",
         "orientation": "v",
         "showlegend": true,
         "type": "scatter",
         "x": [
          "2022-01-01T00:00:00",
          "2022-01-02T00:00:00",
          "2022-01-03T00:00:00",
          "2022-01-04T00:00:00",
          "2022-01-05T00:00:00",
          "2022-01-06T00:00:00",
          "2022-01-07T00:00:00",
          "2022-01-08T00:00:00",
          "2022-01-09T00:00:00",
          "2022-01-10T00:00:00",
          "2022-01-11T00:00:00",
          "2022-01-12T00:00:00",
          "2022-01-13T00:00:00",
          "2022-01-14T00:00:00",
          "2022-01-15T00:00:00",
          "2022-01-16T00:00:00",
          "2022-01-17T00:00:00",
          "2022-01-18T00:00:00",
          "2022-01-19T00:00:00",
          "2022-01-20T00:00:00",
          "2022-01-21T00:00:00",
          "2022-01-22T00:00:00",
          "2022-01-23T00:00:00",
          "2022-01-24T00:00:00",
          "2022-01-25T00:00:00",
          "2022-01-26T00:00:00",
          "2022-01-27T00:00:00",
          "2022-01-28T00:00:00",
          "2022-01-29T00:00:00",
          "2022-01-30T00:00:00",
          "2022-01-31T00:00:00",
          "2022-02-01T00:00:00",
          "2022-02-02T00:00:00",
          "2022-02-03T00:00:00",
          "2022-02-04T00:00:00",
          "2022-02-05T00:00:00",
          "2022-02-06T00:00:00",
          "2022-02-07T00:00:00",
          "2022-02-08T00:00:00",
          "2022-02-09T00:00:00",
          "2022-02-10T00:00:00",
          "2022-02-11T00:00:00",
          "2022-02-12T00:00:00",
          "2022-02-13T00:00:00",
          "2022-02-14T00:00:00",
          "2022-02-15T00:00:00",
          "2022-02-16T00:00:00",
          "2022-02-17T00:00:00",
          "2022-02-18T00:00:00",
          "2022-02-19T00:00:00",
          "2022-02-20T00:00:00",
          "2022-02-21T00:00:00",
          "2022-02-22T00:00:00",
          "2022-02-23T00:00:00",
          "2022-02-24T00:00:00",
          "2022-02-25T00:00:00",
          "2022-02-26T00:00:00",
          "2022-02-27T00:00:00",
          "2022-02-28T00:00:00",
          "2022-03-01T00:00:00"
         ],
         "xaxis": "x",
         "y": [
          42196254346.32806,
          44200479605.33392,
          44292070955.55458,
          42579298186.5298,
          42361773516.50891,
          39972161973.40968,
          41181327448.57284,
          38940980400.86951,
          38305510646.897575,
          37584527637.96972,
          36302150872.95676,
          38098252395.75478,
          41891466165.21188,
          39819346582.17602,
          41149779253.900505,
          41629341033.15005,
          45306926785.96513,
          50522872800.3961,
          47247124368.95572,
          43125375198.71007,
          40662405607.01851,
          36368173704.2542,
          34256465787.333424,
          35957697983.57456,
          34308092836.127853,
          33519647999.373238,
          34783150528.86953,
          33601561740.91527,
          33733183103.563057,
          34002313217.462536,
          33352205324.627453,
          33717971205.78224,
          34804039586.978775,
          33051606754.56344,
          33875277868.73072,
          36204546433.97586,
          36378045084.87456,
          36862183979.28601,
          38523988522.32886,
          37856316807.10156,
          38383301474.95149,
          36992223259.8953,
          34703538693.84502,
          33875479735.022057,
          33537767336.502293,
          33725640380.821823,
          35679172598.208206,
          34925054508.5803,
          32776487178.54903,
          32059403498.594284,
          32017660308.182068,
          30150673034.05805,
          27688893323.616894,
          28644348109.42572,
          27987012931.084877,
          27380809087.285168,
          28804358271.907227,
          28448195569.61312,
          27574399427.75873,
          30630996790.18079
         ],
         "yaxis": "y"
        },
        {
         "hovertemplate": "variable=ethereum<br>Date=%{x|%B %d, %Y}<br>value=%{y}<extra></extra>",
         "legendgroup": "ethereum",
         "marker": {
          "color": "#ab63fa",
          "symbol": "circle"
         },
         "mode": "markers",
         "name": "ethereum",
         "orientation": "v",
         "showlegend": true,
         "type": "scatter",
         "x": [
          "2022-01-01T00:00:00",
          "2022-01-02T00:00:00",
          "2022-01-03T00:00:00",
          "2022-01-04T00:00:00",
          "2022-01-05T00:00:00",
          "2022-01-06T00:00:00",
          "2022-01-07T00:00:00",
          "2022-01-08T00:00:00",
          "2022-01-09T00:00:00",
          "2022-01-10T00:00:00",
          "2022-01-11T00:00:00",
          "2022-01-12T00:00:00",
          "2022-01-13T00:00:00",
          "2022-01-14T00:00:00",
          "2022-01-15T00:00:00",
          "2022-01-16T00:00:00",
          "2022-01-17T00:00:00",
          "2022-01-18T00:00:00",
          "2022-01-19T00:00:00",
          "2022-01-20T00:00:00",
          "2022-01-21T00:00:00",
          "2022-01-22T00:00:00",
          "2022-01-23T00:00:00",
          "2022-01-24T00:00:00",
          "2022-01-25T00:00:00",
          "2022-01-26T00:00:00",
          "2022-01-27T00:00:00",
          "2022-01-28T00:00:00",
          "2022-01-29T00:00:00",
          "2022-01-30T00:00:00",
          "2022-01-31T00:00:00",
          "2022-02-01T00:00:00",
          "2022-02-02T00:00:00",
          "2022-02-03T00:00:00",
          "2022-02-04T00:00:00",
          "2022-02-05T00:00:00",
          "2022-02-06T00:00:00",
          "2022-02-07T00:00:00",
          "2022-02-08T00:00:00",
          "2022-02-09T00:00:00",
          "2022-02-10T00:00:00",
          "2022-02-11T00:00:00",
          "2022-02-12T00:00:00",
          "2022-02-13T00:00:00",
          "2022-02-14T00:00:00",
          "2022-02-15T00:00:00",
          "2022-02-16T00:00:00",
          "2022-02-17T00:00:00",
          "2022-02-18T00:00:00",
          "2022-02-19T00:00:00",
          "2022-02-20T00:00:00",
          "2022-02-21T00:00:00",
          "2022-02-22T00:00:00",
          "2022-02-23T00:00:00",
          "2022-02-24T00:00:00",
          "2022-02-25T00:00:00",
          "2022-02-26T00:00:00",
          "2022-02-27T00:00:00",
          "2022-02-28T00:00:00",
          "2022-03-01T00:00:00"
         ],
         "xaxis": "x",
         "y": [
          439790867552.76666,
          449804685410.7303,
          456852400304.9327,
          448609586227.4765,
          454574318762.6068,
          424088794962.4891,
          407652437129.1328,
          381283293110.7904,
          369734313550.987,
          375219467789.3698,
          367654760059.0176,
          387505881839.83,
          402763358249.81146,
          388039946028.0792,
          394664610644.9952,
          396899234936.6389,
          400232172277.67896,
          383428420242.12994,
          377918294939.4783,
          371296193085.122,
          360580494818.73,
          306644499897.7337,
          286799916366.57184,
          302626363351.5348,
          292022326101.0083,
          293702336549.67474,
          295723346868.75024,
          287829476402.6202,
          304305302571.33734,
          310059710546.2545,
          311602914058.7504,
          320354563857.1168,
          334032944115.64844,
          321296521004.9529,
          317503695895.34064,
          354558118293.0548,
          361600442694.43896,
          366038313761.4381,
          376351043607.997,
          374043919421.316,
          387321193246.79065,
          368377710139.7799,
          350133590835.08734,
          347517755313.83966,
          345252969326.4971,
          351368910987.00305,
          381791121976.2447,
          376071884044.5087,
          345252572787.0988,
          333997569707.84204,
          330814655802.00714,
          315015971538.73315,
          308836894427.69006,
          317004525462.3889,
          310997586955.65283,
          311533514951.14,
          333625150661.6757,
          332645349329.944,
          314566178973.5596,
          349056335389.1799
         ],
         "yaxis": "y"
        },
        {
         "hovertemplate": "variable=litecoin<br>Date=%{x|%B %d, %Y}<br>value=%{y}<extra></extra>",
         "legendgroup": "litecoin",
         "marker": {
          "color": "#FFA15A",
          "symbol": "circle"
         },
         "mode": "markers",
         "name": "litecoin",
         "orientation": "v",
         "showlegend": true,
         "type": "scatter",
         "x": [
          "2022-01-01T00:00:00",
          "2022-01-02T00:00:00",
          "2022-01-03T00:00:00",
          "2022-01-04T00:00:00",
          "2022-01-05T00:00:00",
          "2022-01-06T00:00:00",
          "2022-01-07T00:00:00",
          "2022-01-08T00:00:00",
          "2022-01-09T00:00:00",
          "2022-01-10T00:00:00",
          "2022-01-11T00:00:00",
          "2022-01-12T00:00:00",
          "2022-01-13T00:00:00",
          "2022-01-14T00:00:00",
          "2022-01-15T00:00:00",
          "2022-01-16T00:00:00",
          "2022-01-17T00:00:00",
          "2022-01-18T00:00:00",
          "2022-01-19T00:00:00",
          "2022-01-20T00:00:00",
          "2022-01-21T00:00:00",
          "2022-01-22T00:00:00",
          "2022-01-23T00:00:00",
          "2022-01-24T00:00:00",
          "2022-01-25T00:00:00",
          "2022-01-26T00:00:00",
          "2022-01-27T00:00:00",
          "2022-01-28T00:00:00",
          "2022-01-29T00:00:00",
          "2022-01-30T00:00:00",
          "2022-01-31T00:00:00",
          "2022-02-01T00:00:00",
          "2022-02-02T00:00:00",
          "2022-02-03T00:00:00",
          "2022-02-04T00:00:00",
          "2022-02-05T00:00:00",
          "2022-02-06T00:00:00",
          "2022-02-07T00:00:00",
          "2022-02-08T00:00:00",
          "2022-02-09T00:00:00",
          "2022-02-10T00:00:00",
          "2022-02-11T00:00:00",
          "2022-02-12T00:00:00",
          "2022-02-13T00:00:00",
          "2022-02-14T00:00:00",
          "2022-02-15T00:00:00",
          "2022-02-16T00:00:00",
          "2022-02-17T00:00:00",
          "2022-02-18T00:00:00",
          "2022-02-19T00:00:00",
          "2022-02-20T00:00:00",
          "2022-02-21T00:00:00",
          "2022-02-22T00:00:00",
          "2022-02-23T00:00:00",
          "2022-02-24T00:00:00",
          "2022-02-25T00:00:00",
          "2022-02-26T00:00:00",
          "2022-02-27T00:00:00",
          "2022-02-28T00:00:00",
          "2022-03-01T00:00:00"
         ],
         "xaxis": "x",
         "y": [
          10165614442.928844,
          10473638674.044128,
          10523239230.89384,
          10309037335.052908,
          10247784142.818712,
          9451354999.259806,
          9497488956.849884,
          9118650890.96946,
          9026522520.00248,
          9090631980.216145,
          8799832771.775192,
          9128769311.538816,
          9837832315.498312,
          9487923473.059666,
          10046271921.893805,
          10252242788.856188,
          10179268203.722364,
          10537942123.49368,
          9850112738.2542,
          9512250341.775602,
          9148639908.843843,
          7981436304.824966,
          7545683309.881283,
          7767749118.80306,
          7642430989.02289,
          7528711286.299523,
          7471572251.990698,
          7432905213.60697,
          7616510082.740902,
          7699445711.198726,
          7571901245.2150755,
          7609502523.441636,
          8037337457.602423,
          7539796465.25319,
          7666855250.374468,
          8353101103.568475,
          8515178060.793639,
          8879012796.96533,
          9545141168.095592,
          9335293494.43885,
          9800440089.749737,
          9427380616.486755,
          8792354216.764763,
          8821069003.28906,
          8787938472.04504,
          8693486478.793137,
          9214944628.079865,
          8942062959.015314,
          8096862166.69461,
          8017968577.635381,
          8066376368.090658,
          7723001947.133409,
          7244478418.750748,
          7497251391.913771,
          7386564709.743127,
          7266951117.198242,
          7635550854.808023,
          7533185233.843067,
          7184428503.067197,
          7901458519.601742
         ],
         "yaxis": "y"
        },
        {
         "hovertemplate": "variable=ripple<br>Date=%{x|%B %d, %Y}<br>value=%{y}<extra></extra>",
         "legendgroup": "ripple",
         "marker": {
          "color": "#19d3f3",
          "symbol": "circle"
         },
         "mode": "markers",
         "name": "ripple",
         "orientation": "v",
         "showlegend": true,
         "type": "scatter",
         "x": [
          "2022-01-01T00:00:00",
          "2022-01-02T00:00:00",
          "2022-01-03T00:00:00",
          "2022-01-04T00:00:00",
          "2022-01-05T00:00:00",
          "2022-01-06T00:00:00",
          "2022-01-07T00:00:00",
          "2022-01-08T00:00:00",
          "2022-01-09T00:00:00",
          "2022-01-10T00:00:00",
          "2022-01-11T00:00:00",
          "2022-01-12T00:00:00",
          "2022-01-13T00:00:00",
          "2022-01-14T00:00:00",
          "2022-01-15T00:00:00",
          "2022-01-16T00:00:00",
          "2022-01-17T00:00:00",
          "2022-01-18T00:00:00",
          "2022-01-19T00:00:00",
          "2022-01-20T00:00:00",
          "2022-01-21T00:00:00",
          "2022-01-22T00:00:00",
          "2022-01-23T00:00:00",
          "2022-01-24T00:00:00",
          "2022-01-25T00:00:00",
          "2022-01-26T00:00:00",
          "2022-01-27T00:00:00",
          "2022-01-28T00:00:00",
          "2022-01-29T00:00:00",
          "2022-01-30T00:00:00",
          "2022-01-31T00:00:00",
          "2022-02-01T00:00:00",
          "2022-02-02T00:00:00",
          "2022-02-03T00:00:00",
          "2022-02-04T00:00:00",
          "2022-02-05T00:00:00",
          "2022-02-06T00:00:00",
          "2022-02-07T00:00:00",
          "2022-02-08T00:00:00",
          "2022-02-09T00:00:00",
          "2022-02-10T00:00:00",
          "2022-02-11T00:00:00",
          "2022-02-12T00:00:00",
          "2022-02-13T00:00:00",
          "2022-02-14T00:00:00",
          "2022-02-15T00:00:00",
          "2022-02-16T00:00:00",
          "2022-02-17T00:00:00",
          "2022-02-18T00:00:00",
          "2022-02-19T00:00:00",
          "2022-02-20T00:00:00",
          "2022-02-21T00:00:00",
          "2022-02-22T00:00:00",
          "2022-02-23T00:00:00",
          "2022-02-24T00:00:00",
          "2022-02-25T00:00:00",
          "2022-02-26T00:00:00",
          "2022-02-27T00:00:00",
          "2022-02-28T00:00:00",
          "2022-03-01T00:00:00"
         ],
         "xaxis": "x",
         "y": [
          39521292390.58477,
          40453081982.45346,
          40928936335.45811,
          39667497742.72751,
          39372072384.767006,
          37016373098.11021,
          37364002396.49064,
          36426581574.17674,
          35742954145.162506,
          35888908513.520424,
          35256497135.60703,
          36764295066.6237,
          38156686082.61434,
          36738241655.41219,
          36893370983.00779,
          37238112155.95848,
          37152076627.061,
          36467550909.227,
          35928632965.60265,
          35361191998.402435,
          34534739952.51737,
          30525594005.19316,
          28567576973.56528,
          30045394326.185917,
          29396856512.62248,
          29620625747.012318,
          29801890236.89736,
          29129366194.81477,
          29287821638.57769,
          29445353884.42251,
          28850613224.01237,
          29553290453.17287,
          30084907427.35353,
          28766534259.757156,
          29161275665.801453,
          31113642593.887524,
          32145115972.23587,
          32810995566.6311,
          39506496107.51002,
          42130847575.61262,
          42196654317.52713,
          40079653442.91532,
          36423431829.04126,
          39120421789.46051,
          38806859793.89356,
          38448661595.62696,
          40834438279.59535,
          40187017225.8397,
          36963479625.06525,
          37773994946.58903,
          39561276267.6763,
          37317825787.82265,
          33972778766.692947,
          34808187364.35561,
          33701843282.350643,
          33453595245.003597,
          36980776521.84238,
          35942263895.59888,
          34581739036.304855,
          37500615316.86525
         ],
         "yaxis": "y"
        },
        {
         "hovertemplate": "variable=solana<br>Date=%{x|%B %d, %Y}<br>value=%{y}<extra></extra>",
         "legendgroup": "solana",
         "marker": {
          "color": "#FF6692",
          "symbol": "circle"
         },
         "mode": "markers",
         "name": "solana",
         "orientation": "v",
         "showlegend": true,
         "type": "scatter",
         "x": [
          "2022-01-01T00:00:00",
          "2022-01-02T00:00:00",
          "2022-01-03T00:00:00",
          "2022-01-04T00:00:00",
          "2022-01-05T00:00:00",
          "2022-01-06T00:00:00",
          "2022-01-07T00:00:00",
          "2022-01-08T00:00:00",
          "2022-01-09T00:00:00",
          "2022-01-10T00:00:00",
          "2022-01-11T00:00:00",
          "2022-01-12T00:00:00",
          "2022-01-13T00:00:00",
          "2022-01-14T00:00:00",
          "2022-01-15T00:00:00",
          "2022-01-16T00:00:00",
          "2022-01-17T00:00:00",
          "2022-01-18T00:00:00",
          "2022-01-19T00:00:00",
          "2022-01-20T00:00:00",
          "2022-01-21T00:00:00",
          "2022-01-22T00:00:00",
          "2022-01-23T00:00:00",
          "2022-01-24T00:00:00",
          "2022-01-25T00:00:00",
          "2022-01-26T00:00:00",
          "2022-01-27T00:00:00",
          "2022-01-28T00:00:00",
          "2022-01-29T00:00:00",
          "2022-01-30T00:00:00",
          "2022-01-31T00:00:00",
          "2022-02-01T00:00:00",
          "2022-02-02T00:00:00",
          "2022-02-03T00:00:00",
          "2022-02-04T00:00:00",
          "2022-02-05T00:00:00",
          "2022-02-06T00:00:00",
          "2022-02-07T00:00:00",
          "2022-02-08T00:00:00",
          "2022-02-09T00:00:00",
          "2022-02-10T00:00:00",
          "2022-02-11T00:00:00",
          "2022-02-12T00:00:00",
          "2022-02-13T00:00:00",
          "2022-02-14T00:00:00",
          "2022-02-15T00:00:00",
          "2022-02-16T00:00:00",
          "2022-02-17T00:00:00",
          "2022-02-18T00:00:00",
          "2022-02-19T00:00:00",
          "2022-02-20T00:00:00",
          "2022-02-21T00:00:00",
          "2022-02-22T00:00:00",
          "2022-02-23T00:00:00",
          "2022-02-24T00:00:00",
          "2022-02-25T00:00:00",
          "2022-02-26T00:00:00",
          "2022-02-27T00:00:00",
          "2022-02-28T00:00:00",
          "2022-03-01T00:00:00"
         ],
         "xaxis": "x",
         "y": [
          52907181305.50652,
          55089640249.09666,
          54604426218.58956,
          52886550470.82176,
          52272480718.14088,
          48184360964.1156,
          46854691785.8186,
          42610750948.59599,
          44680435604.26222,
          43844556062.79441,
          42320546842.20343,
          43823867475.83328,
          47534063482.95965,
          45924153329.20764,
          45849250868.07178,
          46337099650.87288,
          46450557289.26664,
          44032309573.9257,
          44575080930.62185,
          42848572759.496826,
          40727678847.05303,
          35070043876.86985,
          29665575896.047955,
          31290905178.53205,
          28909954628.237045,
          30084800205.77909,
          29243771848.310368,
          28179557560.867977,
          28786945733.92828,
          30216232718.87756,
          29427732656.729218,
          31354693276.844906,
          34784263657.23243,
          31975373921.89307,
          31833368519.650078,
          35127905584.898895,
          36087037718.41055,
          36521264719.12104,
          37305112916.66873,
          36125330680.249535,
          36294064610.28194,
          33826915836.727123,
          30597070580.09104,
          30347618773.26294,
          29672733160.79642,
          30784741416.87896,
          33579862333.60316,
          32707737720.154152,
          29918359231.26159,
          28828455911.8284,
          29209068299.47004,
          29261491189.686405,
          26727888651.40893,
          27744256745.68661,
          27294663661.65063,
          28497445445.30952,
          29919961866.348053,
          28767659413.52589,
          27360038516.30834,
          31846087892.82589
         ],
         "yaxis": "y"
        }
       ],
       "layout": {
        "legend": {
         "title": {
          "text": "variable"
         },
         "tracegroupgap": 0
        },
        "template": {
         "data": {
          "bar": [
           {
            "error_x": {
             "color": "#2a3f5f"
            },
            "error_y": {
             "color": "#2a3f5f"
            },
            "marker": {
             "line": {
              "color": "#E5ECF6",
              "width": 0.5
             },
             "pattern": {
              "fillmode": "overlay",
              "size": 10,
              "solidity": 0.2
             }
            },
            "type": "bar"
           }
          ],
          "barpolar": [
           {
            "marker": {
             "line": {
              "color": "#E5ECF6",
              "width": 0.5
             },
             "pattern": {
              "fillmode": "overlay",
              "size": 10,
              "solidity": 0.2
             }
            },
            "type": "barpolar"
           }
          ],
          "carpet": [
           {
            "aaxis": {
             "endlinecolor": "#2a3f5f",
             "gridcolor": "white",
             "linecolor": "white",
             "minorgridcolor": "white",
             "startlinecolor": "#2a3f5f"
            },
            "baxis": {
             "endlinecolor": "#2a3f5f",
             "gridcolor": "white",
             "linecolor": "white",
             "minorgridcolor": "white",
             "startlinecolor": "#2a3f5f"
            },
            "type": "carpet"
           }
          ],
          "choropleth": [
           {
            "colorbar": {
             "outlinewidth": 0,
             "ticks": ""
            },
            "type": "choropleth"
           }
          ],
          "contour": [
           {
            "colorbar": {
             "outlinewidth": 0,
             "ticks": ""
            },
            "colorscale": [
             [
              0,
              "#0d0887"
             ],
             [
              0.1111111111111111,
              "#46039f"
             ],
             [
              0.2222222222222222,
              "#7201a8"
             ],
             [
              0.3333333333333333,
              "#9c179e"
             ],
             [
              0.4444444444444444,
              "#bd3786"
             ],
             [
              0.5555555555555556,
              "#d8576b"
             ],
             [
              0.6666666666666666,
              "#ed7953"
             ],
             [
              0.7777777777777778,
              "#fb9f3a"
             ],
             [
              0.8888888888888888,
              "#fdca26"
             ],
             [
              1,
              "#f0f921"
             ]
            ],
            "type": "contour"
           }
          ],
          "contourcarpet": [
           {
            "colorbar": {
             "outlinewidth": 0,
             "ticks": ""
            },
            "type": "contourcarpet"
           }
          ],
          "heatmap": [
           {
            "colorbar": {
             "outlinewidth": 0,
             "ticks": ""
            },
            "colorscale": [
             [
              0,
              "#0d0887"
             ],
             [
              0.1111111111111111,
              "#46039f"
             ],
             [
              0.2222222222222222,
              "#7201a8"
             ],
             [
              0.3333333333333333,
              "#9c179e"
             ],
             [
              0.4444444444444444,
              "#bd3786"
             ],
             [
              0.5555555555555556,
              "#d8576b"
             ],
             [
              0.6666666666666666,
              "#ed7953"
             ],
             [
              0.7777777777777778,
              "#fb9f3a"
             ],
             [
              0.8888888888888888,
              "#fdca26"
             ],
             [
              1,
              "#f0f921"
             ]
            ],
            "type": "heatmap"
           }
          ],
          "heatmapgl": [
           {
            "colorbar": {
             "outlinewidth": 0,
             "ticks": ""
            },
            "colorscale": [
             [
              0,
              "#0d0887"
             ],
             [
              0.1111111111111111,
              "#46039f"
             ],
             [
              0.2222222222222222,
              "#7201a8"
             ],
             [
              0.3333333333333333,
              "#9c179e"
             ],
             [
              0.4444444444444444,
              "#bd3786"
             ],
             [
              0.5555555555555556,
              "#d8576b"
             ],
             [
              0.6666666666666666,
              "#ed7953"
             ],
             [
              0.7777777777777778,
              "#fb9f3a"
             ],
             [
              0.8888888888888888,
              "#fdca26"
             ],
             [
              1,
              "#f0f921"
             ]
            ],
            "type": "heatmapgl"
           }
          ],
          "histogram": [
           {
            "marker": {
             "pattern": {
              "fillmode": "overlay",
              "size": 10,
              "solidity": 0.2
             }
            },
            "type": "histogram"
           }
          ],
          "histogram2d": [
           {
            "colorbar": {
             "outlinewidth": 0,
             "ticks": ""
            },
            "colorscale": [
             [
              0,
              "#0d0887"
             ],
             [
              0.1111111111111111,
              "#46039f"
             ],
             [
              0.2222222222222222,
              "#7201a8"
             ],
             [
              0.3333333333333333,
              "#9c179e"
             ],
             [
              0.4444444444444444,
              "#bd3786"
             ],
             [
              0.5555555555555556,
              "#d8576b"
             ],
             [
              0.6666666666666666,
              "#ed7953"
             ],
             [
              0.7777777777777778,
              "#fb9f3a"
             ],
             [
              0.8888888888888888,
              "#fdca26"
             ],
             [
              1,
              "#f0f921"
             ]
            ],
            "type": "histogram2d"
           }
          ],
          "histogram2dcontour": [
           {
            "colorbar": {
             "outlinewidth": 0,
             "ticks": ""
            },
            "colorscale": [
             [
              0,
              "#0d0887"
             ],
             [
              0.1111111111111111,
              "#46039f"
             ],
             [
              0.2222222222222222,
              "#7201a8"
             ],
             [
              0.3333333333333333,
              "#9c179e"
             ],
             [
              0.4444444444444444,
              "#bd3786"
             ],
             [
              0.5555555555555556,
              "#d8576b"
             ],
             [
              0.6666666666666666,
              "#ed7953"
             ],
             [
              0.7777777777777778,
              "#fb9f3a"
             ],
             [
              0.8888888888888888,
              "#fdca26"
             ],
             [
              1,
              "#f0f921"
             ]
            ],
            "type": "histogram2dcontour"
           }
          ],
          "mesh3d": [
           {
            "colorbar": {
             "outlinewidth": 0,
             "ticks": ""
            },
            "type": "mesh3d"
           }
          ],
          "parcoords": [
           {
            "line": {
             "colorbar": {
              "outlinewidth": 0,
              "ticks": ""
             }
            },
            "type": "parcoords"
           }
          ],
          "pie": [
           {
            "automargin": true,
            "type": "pie"
           }
          ],
          "scatter": [
           {
            "marker": {
             "colorbar": {
              "outlinewidth": 0,
              "ticks": ""
             }
            },
            "type": "scatter"
           }
          ],
          "scatter3d": [
           {
            "line": {
             "colorbar": {
              "outlinewidth": 0,
              "ticks": ""
             }
            },
            "marker": {
             "colorbar": {
              "outlinewidth": 0,
              "ticks": ""
             }
            },
            "type": "scatter3d"
           }
          ],
          "scattercarpet": [
           {
            "marker": {
             "colorbar": {
              "outlinewidth": 0,
              "ticks": ""
             }
            },
            "type": "scattercarpet"
           }
          ],
          "scattergeo": [
           {
            "marker": {
             "colorbar": {
              "outlinewidth": 0,
              "ticks": ""
             }
            },
            "type": "scattergeo"
           }
          ],
          "scattergl": [
           {
            "marker": {
             "colorbar": {
              "outlinewidth": 0,
              "ticks": ""
             }
            },
            "type": "scattergl"
           }
          ],
          "scattermapbox": [
           {
            "marker": {
             "colorbar": {
              "outlinewidth": 0,
              "ticks": ""
             }
            },
            "type": "scattermapbox"
           }
          ],
          "scatterpolar": [
           {
            "marker": {
             "colorbar": {
              "outlinewidth": 0,
              "ticks": ""
             }
            },
            "type": "scatterpolar"
           }
          ],
          "scatterpolargl": [
           {
            "marker": {
             "colorbar": {
              "outlinewidth": 0,
              "ticks": ""
             }
            },
            "type": "scatterpolargl"
           }
          ],
          "scatterternary": [
           {
            "marker": {
             "colorbar": {
              "outlinewidth": 0,
              "ticks": ""
             }
            },
            "type": "scatterternary"
           }
          ],
          "surface": [
           {
            "colorbar": {
             "outlinewidth": 0,
             "ticks": ""
            },
            "colorscale": [
             [
              0,
              "#0d0887"
             ],
             [
              0.1111111111111111,
              "#46039f"
             ],
             [
              0.2222222222222222,
              "#7201a8"
             ],
             [
              0.3333333333333333,
              "#9c179e"
             ],
             [
              0.4444444444444444,
              "#bd3786"
             ],
             [
              0.5555555555555556,
              "#d8576b"
             ],
             [
              0.6666666666666666,
              "#ed7953"
             ],
             [
              0.7777777777777778,
              "#fb9f3a"
             ],
             [
              0.8888888888888888,
              "#fdca26"
             ],
             [
              1,
              "#f0f921"
             ]
            ],
            "type": "surface"
           }
          ],
          "table": [
           {
            "cells": {
             "fill": {
              "color": "#EBF0F8"
             },
             "line": {
              "color": "white"
             }
            },
            "header": {
             "fill": {
              "color": "#C8D4E3"
             },
             "line": {
              "color": "white"
             }
            },
            "type": "table"
           }
          ]
         },
         "layout": {
          "annotationdefaults": {
           "arrowcolor": "#2a3f5f",
           "arrowhead": 0,
           "arrowwidth": 1
          },
          "autotypenumbers": "strict",
          "coloraxis": {
           "colorbar": {
            "outlinewidth": 0,
            "ticks": ""
           }
          },
          "colorscale": {
           "diverging": [
            [
             0,
             "#8e0152"
            ],
            [
             0.1,
             "#c51b7d"
            ],
            [
             0.2,
             "#de77ae"
            ],
            [
             0.3,
             "#f1b6da"
            ],
            [
             0.4,
             "#fde0ef"
            ],
            [
             0.5,
             "#f7f7f7"
            ],
            [
             0.6,
             "#e6f5d0"
            ],
            [
             0.7,
             "#b8e186"
            ],
            [
             0.8,
             "#7fbc41"
            ],
            [
             0.9,
             "#4d9221"
            ],
            [
             1,
             "#276419"
            ]
           ],
           "sequential": [
            [
             0,
             "#0d0887"
            ],
            [
             0.1111111111111111,
             "#46039f"
            ],
            [
             0.2222222222222222,
             "#7201a8"
            ],
            [
             0.3333333333333333,
             "#9c179e"
            ],
            [
             0.4444444444444444,
             "#bd3786"
            ],
            [
             0.5555555555555556,
             "#d8576b"
            ],
            [
             0.6666666666666666,
             "#ed7953"
            ],
            [
             0.7777777777777778,
             "#fb9f3a"
            ],
            [
             0.8888888888888888,
             "#fdca26"
            ],
            [
             1,
             "#f0f921"
            ]
           ],
           "sequentialminus": [
            [
             0,
             "#0d0887"
            ],
            [
             0.1111111111111111,
             "#46039f"
            ],
            [
             0.2222222222222222,
             "#7201a8"
            ],
            [
             0.3333333333333333,
             "#9c179e"
            ],
            [
             0.4444444444444444,
             "#bd3786"
            ],
            [
             0.5555555555555556,
             "#d8576b"
            ],
            [
             0.6666666666666666,
             "#ed7953"
            ],
            [
             0.7777777777777778,
             "#fb9f3a"
            ],
            [
             0.8888888888888888,
             "#fdca26"
            ],
            [
             1,
             "#f0f921"
            ]
           ]
          },
          "colorway": [
           "#636efa",
           "#EF553B",
           "#00cc96",
           "#ab63fa",
           "#FFA15A",
           "#19d3f3",
           "#FF6692",
           "#B6E880",
           "#FF97FF",
           "#FECB52"
          ],
          "font": {
           "color": "#2a3f5f"
          },
          "geo": {
           "bgcolor": "white",
           "lakecolor": "white",
           "landcolor": "#E5ECF6",
           "showlakes": true,
           "showland": true,
           "subunitcolor": "white"
          },
          "hoverlabel": {
           "align": "left"
          },
          "hovermode": "closest",
          "mapbox": {
           "style": "light"
          },
          "paper_bgcolor": "white",
          "plot_bgcolor": "#E5ECF6",
          "polar": {
           "angularaxis": {
            "gridcolor": "white",
            "linecolor": "white",
            "ticks": ""
           },
           "bgcolor": "#E5ECF6",
           "radialaxis": {
            "gridcolor": "white",
            "linecolor": "white",
            "ticks": ""
           }
          },
          "scene": {
           "xaxis": {
            "backgroundcolor": "#E5ECF6",
            "gridcolor": "white",
            "gridwidth": 2,
            "linecolor": "white",
            "showbackground": true,
            "ticks": "",
            "zerolinecolor": "white"
           },
           "yaxis": {
            "backgroundcolor": "#E5ECF6",
            "gridcolor": "white",
            "gridwidth": 2,
            "linecolor": "white",
            "showbackground": true,
            "ticks": "",
            "zerolinecolor": "white"
           },
           "zaxis": {
            "backgroundcolor": "#E5ECF6",
            "gridcolor": "white",
            "gridwidth": 2,
            "linecolor": "white",
            "showbackground": true,
            "ticks": "",
            "zerolinecolor": "white"
           }
          },
          "shapedefaults": {
           "line": {
            "color": "#2a3f5f"
           }
          },
          "ternary": {
           "aaxis": {
            "gridcolor": "white",
            "linecolor": "white",
            "ticks": ""
           },
           "baxis": {
            "gridcolor": "white",
            "linecolor": "white",
            "ticks": ""
           },
           "bgcolor": "#E5ECF6",
           "caxis": {
            "gridcolor": "white",
            "linecolor": "white",
            "ticks": ""
           }
          },
          "title": {
           "x": 0.05
          },
          "xaxis": {
           "automargin": true,
           "gridcolor": "white",
           "linecolor": "white",
           "ticks": "",
           "title": {
            "standoff": 15
           },
           "zerolinecolor": "white",
           "zerolinewidth": 2
          },
          "yaxis": {
           "automargin": true,
           "gridcolor": "white",
           "linecolor": "white",
           "ticks": "",
           "title": {
            "standoff": 15
           },
           "zerolinecolor": "white",
           "zerolinewidth": 2
          }
         }
        },
        "title": {
         "text": "Market Capitalization from 2022-01-01 to 2022-03-01"
        },
        "xaxis": {
         "anchor": "y",
         "domain": [
          0,
          1
         ],
         "dtick": "M1",
         "tickformat": "%b\n%Y",
         "title": {
          "text": "Date"
         }
        },
        "yaxis": {
         "anchor": "x",
         "domain": [
          0,
          1
         ],
         "title": {
          "text": "value"
         }
        }
       }
      }
     },
     "metadata": {},
     "output_type": "display_data"
    }
   ],
   "source": [
    "import plotly.express as px\n",
    "\n",
    "market_cap_df = market_df.copy()\n",
    "_min_date = (market_cap_df[\"Date\"].min()).date()\n",
    "_max_date = (market_cap_df[\"Date\"].max()).date()\n",
    "_title = \"Market Capitalization from \"+str(_min_date)+\" to \"+str(_max_date)\n",
    "fig = px.scatter(market_cap_df, x=\"Date\", y=market_cap_df.columns,\n",
    "              hover_data={\"Date\": \"|%B %d, %Y\"},\n",
    "              title=_title)\n",
    "fig.update_xaxes(\n",
    "    dtick=\"M1\",\n",
    "    tickformat=\"%b\\n%Y\")\n",
    "fig.show()"
   ]
  },
  {
   "cell_type": "markdown",
   "id": "9cac69a4",
   "metadata": {},
   "source": [
    "# Index by Market Caps\n",
    "\n",
    "Apply the [custom market cap index based method](https://medium.com/python-financial-analysis/python-financial-analysis-4-3-market-cap-based-index-329b908f75dc). \n",
    "1. sort the table by the market cap in descending order\n",
    "1. take just the first N rows\n",
    "1. get tickers that belong to the Ns, and transform it to a list “tickers_topN”\n",
    "1. iterate over the N tickers\n",
    "   1. market_cap” selects a column\n",
    "      1. multiply the weight “w” to created column “marketcap_weighted_ave_topN”"
   ]
  },
  {
   "cell_type": "code",
   "execution_count": 5,
   "id": "caee00e3",
   "metadata": {},
   "outputs": [
    {
     "name": "stderr",
     "output_type": "stream",
     "text": [
      "/home/gnewy/.local/lib/python3.8/site-packages/plotly/io/_renderers.py:396: DeprecationWarning:\n",
      "\n",
      "distutils Version classes are deprecated. Use packaging.version instead.\n",
      "\n"
     ]
    },
    {
     "data": {
      "application/vnd.plotly.v1+json": {
       "config": {
        "plotlyServerURL": "https://plot.ly"
       },
       "data": [
        {
         "hovertemplate": "variable=weighted_bitcoin<br>Date=%{x|%Y-%m-%d, }<br>value=%{y}<extra></extra>",
         "legendgroup": "weighted_bitcoin",
         "line": {
          "color": "#636efa",
          "dash": "solid"
         },
         "marker": {
          "symbol": "circle"
         },
         "mode": "lines",
         "name": "weighted_bitcoin",
         "orientation": "v",
         "showlegend": true,
         "type": "scatter",
         "x": [
          "2022-01-01T00:00:00",
          "2022-01-02T00:00:00",
          "2022-01-03T00:00:00",
          "2022-01-04T00:00:00",
          "2022-01-05T00:00:00",
          "2022-01-06T00:00:00",
          "2022-01-07T00:00:00",
          "2022-01-08T00:00:00",
          "2022-01-09T00:00:00",
          "2022-01-10T00:00:00",
          "2022-01-11T00:00:00",
          "2022-01-12T00:00:00",
          "2022-01-13T00:00:00",
          "2022-01-14T00:00:00",
          "2022-01-15T00:00:00",
          "2022-01-16T00:00:00",
          "2022-01-17T00:00:00",
          "2022-01-18T00:00:00",
          "2022-01-19T00:00:00",
          "2022-01-20T00:00:00",
          "2022-01-21T00:00:00",
          "2022-01-22T00:00:00",
          "2022-01-23T00:00:00",
          "2022-01-24T00:00:00",
          "2022-01-25T00:00:00",
          "2022-01-26T00:00:00",
          "2022-01-27T00:00:00",
          "2022-01-28T00:00:00",
          "2022-01-29T00:00:00",
          "2022-01-30T00:00:00",
          "2022-01-31T00:00:00",
          "2022-02-01T00:00:00",
          "2022-02-02T00:00:00",
          "2022-02-03T00:00:00",
          "2022-02-04T00:00:00",
          "2022-02-05T00:00:00",
          "2022-02-06T00:00:00",
          "2022-02-07T00:00:00",
          "2022-02-08T00:00:00",
          "2022-02-09T00:00:00",
          "2022-02-10T00:00:00",
          "2022-02-11T00:00:00",
          "2022-02-12T00:00:00",
          "2022-02-13T00:00:00",
          "2022-02-14T00:00:00",
          "2022-02-15T00:00:00",
          "2022-02-16T00:00:00",
          "2022-02-17T00:00:00",
          "2022-02-18T00:00:00",
          "2022-02-19T00:00:00",
          "2022-02-20T00:00:00",
          "2022-02-21T00:00:00",
          "2022-02-22T00:00:00",
          "2022-02-23T00:00:00",
          "2022-02-24T00:00:00",
          "2022-02-25T00:00:00",
          "2022-02-26T00:00:00",
          "2022-02-27T00:00:00",
          "2022-02-28T00:00:00",
          "2022-03-01T00:00:00"
         ],
         "xaxis": "x",
         "y": [
          0.018760099112680326,
          0.019367291569227972,
          0.01921707560786373,
          0.018848681453261122,
          0.01876116425817711,
          0.01772231728673057,
          0.017546740800482193,
          0.016866144999118832,
          0.016976561953297283,
          0.016949925871644483,
          0.01696618032139967,
          0.017334743466098316,
          0.017823738155059356,
          0.017268141467265463,
          0.01747408144158768,
          0.017488448260661798,
          0.017478283648221345,
          0.01714635164744802,
          0.017213570168598705,
          0.016925503868977985,
          0.01657710286334062,
          0.014834665284547873,
          0.014264399760310393,
          0.01472163583967057,
          0.01491196712336896,
          0.014999881029240143,
          0.014991196052701918,
          0.015037136106723312,
          0.015352208296151297,
          0.015476435855588817,
          0.015406660500098123,
          0.015585126014911193,
          0.015760628694125433,
          0.015001468944073965,
          0.015051950150927775,
          0.01664388943686219,
          0.01683530238767216,
          0.01723455161060056,
          0.017843702561125694,
          0.01792965302357409,
          0.018013864906301226,
          0.017705595247016204,
          0.017208103518479016,
          0.017119048690928937,
          0.017172838299790154,
          0.01730603360589538,
          0.018163341188997567,
          0.017905014141395455,
          0.0164884802314135,
          0.016269771864382693,
          0.01630328787443046,
          0.015638148377984048,
          0.015051969284551815,
          0.015567759315369148,
          0.015176688897402615,
          0.015579822883607299,
          0.01596747791285773,
          0.015867284028570135,
          0.015364901115872909,
          0.017535961721336667
         ],
         "yaxis": "y"
        },
        {
         "hovertemplate": "variable=weighted_bitcoin_cash<br>Date=%{x|%Y-%m-%d, }<br>value=%{y}<extra></extra>",
         "legendgroup": "weighted_bitcoin_cash",
         "line": {
          "color": "#EF553B",
          "dash": "solid"
         },
         "marker": {
          "symbol": "circle"
         },
         "mode": "lines",
         "name": "weighted_bitcoin_cash",
         "orientation": "v",
         "showlegend": true,
         "type": "scatter",
         "x": [
          "2022-01-01T00:00:00",
          "2022-01-02T00:00:00",
          "2022-01-03T00:00:00",
          "2022-01-04T00:00:00",
          "2022-01-05T00:00:00",
          "2022-01-06T00:00:00",
          "2022-01-07T00:00:00",
          "2022-01-08T00:00:00",
          "2022-01-09T00:00:00",
          "2022-01-10T00:00:00",
          "2022-01-11T00:00:00",
          "2022-01-12T00:00:00",
          "2022-01-13T00:00:00",
          "2022-01-14T00:00:00",
          "2022-01-15T00:00:00",
          "2022-01-16T00:00:00",
          "2022-01-17T00:00:00",
          "2022-01-18T00:00:00",
          "2022-01-19T00:00:00",
          "2022-01-20T00:00:00",
          "2022-01-21T00:00:00",
          "2022-01-22T00:00:00",
          "2022-01-23T00:00:00",
          "2022-01-24T00:00:00",
          "2022-01-25T00:00:00",
          "2022-01-26T00:00:00",
          "2022-01-27T00:00:00",
          "2022-01-28T00:00:00",
          "2022-01-29T00:00:00",
          "2022-01-30T00:00:00",
          "2022-01-31T00:00:00",
          "2022-02-01T00:00:00",
          "2022-02-02T00:00:00",
          "2022-02-03T00:00:00",
          "2022-02-04T00:00:00",
          "2022-02-05T00:00:00",
          "2022-02-06T00:00:00",
          "2022-02-07T00:00:00",
          "2022-02-08T00:00:00",
          "2022-02-09T00:00:00",
          "2022-02-10T00:00:00",
          "2022-02-11T00:00:00",
          "2022-02-12T00:00:00",
          "2022-02-13T00:00:00",
          "2022-02-14T00:00:00",
          "2022-02-15T00:00:00",
          "2022-02-16T00:00:00",
          "2022-02-17T00:00:00",
          "2022-02-18T00:00:00",
          "2022-02-19T00:00:00",
          "2022-02-20T00:00:00",
          "2022-02-21T00:00:00",
          "2022-02-22T00:00:00",
          "2022-02-23T00:00:00",
          "2022-02-24T00:00:00",
          "2022-02-25T00:00:00",
          "2022-02-26T00:00:00",
          "2022-02-27T00:00:00",
          "2022-02-28T00:00:00",
          "2022-03-01T00:00:00"
         ],
         "xaxis": "x",
         "y": [
          null,
          null,
          null,
          null,
          null,
          null,
          null,
          null,
          null,
          null,
          null,
          null,
          null,
          null,
          null,
          null,
          null,
          null,
          null,
          null,
          null,
          null,
          null,
          null,
          null,
          null,
          null,
          null,
          null,
          null,
          null,
          null,
          null,
          null,
          null,
          null,
          null,
          null,
          null,
          null,
          null,
          null,
          null,
          null,
          null,
          null,
          null,
          null,
          null,
          null,
          null,
          null,
          null,
          null,
          null,
          null,
          null,
          null,
          null,
          null
         ],
         "yaxis": "y"
        },
        {
         "hovertemplate": "variable=weighted_cardano<br>Date=%{x|%Y-%m-%d, }<br>value=%{y}<extra></extra>",
         "legendgroup": "weighted_cardano",
         "line": {
          "color": "#00cc96",
          "dash": "solid"
         },
         "marker": {
          "symbol": "circle"
         },
         "mode": "lines",
         "name": "weighted_cardano",
         "orientation": "v",
         "showlegend": true,
         "type": "scatter",
         "x": [
          "2022-01-01T00:00:00",
          "2022-01-02T00:00:00",
          "2022-01-03T00:00:00",
          "2022-01-04T00:00:00",
          "2022-01-05T00:00:00",
          "2022-01-06T00:00:00",
          "2022-01-07T00:00:00",
          "2022-01-08T00:00:00",
          "2022-01-09T00:00:00",
          "2022-01-10T00:00:00",
          "2022-01-11T00:00:00",
          "2022-01-12T00:00:00",
          "2022-01-13T00:00:00",
          "2022-01-14T00:00:00",
          "2022-01-15T00:00:00",
          "2022-01-16T00:00:00",
          "2022-01-17T00:00:00",
          "2022-01-18T00:00:00",
          "2022-01-19T00:00:00",
          "2022-01-20T00:00:00",
          "2022-01-21T00:00:00",
          "2022-01-22T00:00:00",
          "2022-01-23T00:00:00",
          "2022-01-24T00:00:00",
          "2022-01-25T00:00:00",
          "2022-01-26T00:00:00",
          "2022-01-27T00:00:00",
          "2022-01-28T00:00:00",
          "2022-01-29T00:00:00",
          "2022-01-30T00:00:00",
          "2022-01-31T00:00:00",
          "2022-02-01T00:00:00",
          "2022-02-02T00:00:00",
          "2022-02-03T00:00:00",
          "2022-02-04T00:00:00",
          "2022-02-05T00:00:00",
          "2022-02-06T00:00:00",
          "2022-02-07T00:00:00",
          "2022-02-08T00:00:00",
          "2022-02-09T00:00:00",
          "2022-02-10T00:00:00",
          "2022-02-11T00:00:00",
          "2022-02-12T00:00:00",
          "2022-02-13T00:00:00",
          "2022-02-14T00:00:00",
          "2022-02-15T00:00:00",
          "2022-02-16T00:00:00",
          "2022-02-17T00:00:00",
          "2022-02-18T00:00:00",
          "2022-02-19T00:00:00",
          "2022-02-20T00:00:00",
          "2022-02-21T00:00:00",
          "2022-02-22T00:00:00",
          "2022-02-23T00:00:00",
          "2022-02-24T00:00:00",
          "2022-02-25T00:00:00",
          "2022-02-26T00:00:00",
          "2022-02-27T00:00:00",
          "2022-02-28T00:00:00",
          "2022-03-01T00:00:00"
         ],
         "xaxis": "x",
         "y": [
          0.019369306992848924,
          0.020289304630693405,
          0.02033134772214301,
          0.01954513524698004,
          0.019445285102046038,
          0.0183483839602514,
          0.018903426052408738,
          0.017875041651714538,
          0.017583342567517896,
          0.01725239041423117,
          0.016663742212469773,
          0.017488205007197093,
          0.019229400360393407,
          0.018278237254770305,
          0.018888944514245106,
          0.019109077307267044,
          0.020797196040606737,
          0.02319146683967902,
          0.02168780311447841,
          0.019795800464888835,
          0.01866522584696242,
          0.016694048610697478,
          0.01572471330936101,
          0.01650562832624048,
          0.015748411625069954,
          0.015386492532330487,
          0.015966476911493385,
          0.015424093320159623,
          0.015484511350608904,
          0.015608049893967623,
          0.015309631478639897,
          0.015477528647460844,
          0.0159760655962138,
          0.015171647999409876,
          0.015549736977178026,
          0.016618938938535336,
          0.016698579861270327,
          0.01692081368316523,
          0.017683630261435972,
          0.017377149541215248,
          0.017619050818241704,
          0.01698050549198261,
          0.015929932765650544,
          0.015549829639672101,
          0.015394809834631281,
          0.015481049021674733,
          0.01637777708024637,
          0.016031614961993457,
          0.015045360118883125,
          0.014716197870911843,
          0.014697036533431055,
          0.01384003511886362,
          0.01271000669100979,
          0.013148588203772151,
          0.01284685225436813,
          0.01256858707342504,
          0.013222037518340274,
          0.013058548487690388,
          0.012657450665551172,
          0.014060517681413852
         ],
         "yaxis": "y"
        },
        {
         "hovertemplate": "variable=weighted_ethereum<br>Date=%{x|%Y-%m-%d, }<br>value=%{y}<extra></extra>",
         "legendgroup": "weighted_ethereum",
         "line": {
          "color": "#ab63fa",
          "dash": "solid"
         },
         "marker": {
          "symbol": "circle"
         },
         "mode": "lines",
         "name": "weighted_ethereum",
         "orientation": "v",
         "showlegend": true,
         "type": "scatter",
         "x": [
          "2022-01-01T00:00:00",
          "2022-01-02T00:00:00",
          "2022-01-03T00:00:00",
          "2022-01-04T00:00:00",
          "2022-01-05T00:00:00",
          "2022-01-06T00:00:00",
          "2022-01-07T00:00:00",
          "2022-01-08T00:00:00",
          "2022-01-09T00:00:00",
          "2022-01-10T00:00:00",
          "2022-01-11T00:00:00",
          "2022-01-12T00:00:00",
          "2022-01-13T00:00:00",
          "2022-01-14T00:00:00",
          "2022-01-15T00:00:00",
          "2022-01-16T00:00:00",
          "2022-01-17T00:00:00",
          "2022-01-18T00:00:00",
          "2022-01-19T00:00:00",
          "2022-01-20T00:00:00",
          "2022-01-21T00:00:00",
          "2022-01-22T00:00:00",
          "2022-01-23T00:00:00",
          "2022-01-24T00:00:00",
          "2022-01-25T00:00:00",
          "2022-01-26T00:00:00",
          "2022-01-27T00:00:00",
          "2022-01-28T00:00:00",
          "2022-01-29T00:00:00",
          "2022-01-30T00:00:00",
          "2022-01-31T00:00:00",
          "2022-02-01T00:00:00",
          "2022-02-02T00:00:00",
          "2022-02-03T00:00:00",
          "2022-02-04T00:00:00",
          "2022-02-05T00:00:00",
          "2022-02-06T00:00:00",
          "2022-02-07T00:00:00",
          "2022-02-08T00:00:00",
          "2022-02-09T00:00:00",
          "2022-02-10T00:00:00",
          "2022-02-11T00:00:00",
          "2022-02-12T00:00:00",
          "2022-02-13T00:00:00",
          "2022-02-14T00:00:00",
          "2022-02-15T00:00:00",
          "2022-02-16T00:00:00",
          "2022-02-17T00:00:00",
          "2022-02-18T00:00:00",
          "2022-02-19T00:00:00",
          "2022-02-20T00:00:00",
          "2022-02-21T00:00:00",
          "2022-02-22T00:00:00",
          "2022-02-23T00:00:00",
          "2022-02-24T00:00:00",
          "2022-02-25T00:00:00",
          "2022-02-26T00:00:00",
          "2022-02-27T00:00:00",
          "2022-02-28T00:00:00",
          "2022-03-01T00:00:00"
         ],
         "xaxis": "x",
         "y": [
          0.020582839346375597,
          0.021051500292796007,
          0.0213813433935262,
          0.020995567947886762,
          0.02127472593085683,
          0.019847959972164774,
          0.019078715002149742,
          0.017844601483487686,
          0.01730409278166593,
          0.01756080581690234,
          0.01720676671467509,
          0.01813582750380295,
          0.018849899143182965,
          0.0181608224689066,
          0.018470866213771857,
          0.01857544981517848,
          0.01873143603250013,
          0.017944996490249884,
          0.017687114773619488,
          0.01737719096969421,
          0.016875681019911274,
          0.01435139959355219,
          0.013422644803825622,
          0.014163345076953368,
          0.013667061021840782,
          0.013745687905017215,
          0.013840274068086886,
          0.01347082968073621,
          0.014241921825092365,
          0.014511236318911434,
          0.014583460442511853,
          0.014993050125030449,
          0.01563321781415649,
          0.01503713506193004,
          0.014859625441654258,
          0.016593825216035394,
          0.016923416034019714,
          0.017131114724354645,
          0.017613765177820068,
          0.017505788478006275,
          0.01812718381444944,
          0.017240601808729186,
          0.01638675102561909,
          0.0162643261954038,
          0.01615833098365511,
          0.016444565769180523,
          0.01786836859809664,
          0.017600700112419196,
          0.016158312425046166,
          0.015631562241459167,
          0.015482597334703153,
          0.014743196396515038,
          0.014454006781930312,
          0.014836263554025534,
          0.014555130271436689,
          0.014580212465375183,
          0.015614132499365099,
          0.015568276400727535,
          0.014722145463466613,
          0.01633633393555648
         ],
         "yaxis": "y"
        },
        {
         "hovertemplate": "variable=weighted_litecoin<br>Date=%{x|%Y-%m-%d, }<br>value=%{y}<extra></extra>",
         "legendgroup": "weighted_litecoin",
         "line": {
          "color": "#FFA15A",
          "dash": "solid"
         },
         "marker": {
          "symbol": "circle"
         },
         "mode": "lines",
         "name": "weighted_litecoin",
         "orientation": "v",
         "showlegend": true,
         "type": "scatter",
         "x": [
          "2022-01-01T00:00:00",
          "2022-01-02T00:00:00",
          "2022-01-03T00:00:00",
          "2022-01-04T00:00:00",
          "2022-01-05T00:00:00",
          "2022-01-06T00:00:00",
          "2022-01-07T00:00:00",
          "2022-01-08T00:00:00",
          "2022-01-09T00:00:00",
          "2022-01-10T00:00:00",
          "2022-01-11T00:00:00",
          "2022-01-12T00:00:00",
          "2022-01-13T00:00:00",
          "2022-01-14T00:00:00",
          "2022-01-15T00:00:00",
          "2022-01-16T00:00:00",
          "2022-01-17T00:00:00",
          "2022-01-18T00:00:00",
          "2022-01-19T00:00:00",
          "2022-01-20T00:00:00",
          "2022-01-21T00:00:00",
          "2022-01-22T00:00:00",
          "2022-01-23T00:00:00",
          "2022-01-24T00:00:00",
          "2022-01-25T00:00:00",
          "2022-01-26T00:00:00",
          "2022-01-27T00:00:00",
          "2022-01-28T00:00:00",
          "2022-01-29T00:00:00",
          "2022-01-30T00:00:00",
          "2022-01-31T00:00:00",
          "2022-02-01T00:00:00",
          "2022-02-02T00:00:00",
          "2022-02-03T00:00:00",
          "2022-02-04T00:00:00",
          "2022-02-05T00:00:00",
          "2022-02-06T00:00:00",
          "2022-02-07T00:00:00",
          "2022-02-08T00:00:00",
          "2022-02-09T00:00:00",
          "2022-02-10T00:00:00",
          "2022-02-11T00:00:00",
          "2022-02-12T00:00:00",
          "2022-02-13T00:00:00",
          "2022-02-14T00:00:00",
          "2022-02-15T00:00:00",
          "2022-02-16T00:00:00",
          "2022-02-17T00:00:00",
          "2022-02-18T00:00:00",
          "2022-02-19T00:00:00",
          "2022-02-20T00:00:00",
          "2022-02-21T00:00:00",
          "2022-02-22T00:00:00",
          "2022-02-23T00:00:00",
          "2022-02-24T00:00:00",
          "2022-02-25T00:00:00",
          "2022-02-26T00:00:00",
          "2022-02-27T00:00:00",
          "2022-02-28T00:00:00",
          "2022-03-01T00:00:00"
         ],
         "xaxis": "x",
         "y": [
          0.019532041531077973,
          0.020123874135835773,
          0.020219175816003968,
          0.019807611876697676,
          0.019689921017837526,
          0.018159675384788358,
          0.01824831639913149,
          0.017520423276893637,
          0.01734340936612415,
          0.017466588210497822,
          0.01690785147615077,
          0.017539864640905532,
          0.018902246434867962,
          0.018229937438597004,
          0.01930273880763056,
          0.01969848778574568,
          0.01955827563865422,
          0.02024742570788205,
          0.01892584183371314,
          0.018276678677186006,
          0.017578043674154144,
          0.015335398195426717,
          0.014498149680610974,
          0.01492482321095617,
          0.014684039052831235,
          0.014465539918424296,
          0.014355753933776612,
          0.014281459733083203,
          0.01463423505712932,
          0.0147935861862262,
          0.014548524382964058,
          0.014620770849920481,
          0.015442805735208426,
          0.014486838795823001,
          0.014730967420001089,
          0.01604950872218858,
          0.016360920676431516,
          0.017059986651956238,
          0.01833987456064983,
          0.017936676751006887,
          0.018830401637845523,
          0.018113611406793313,
          0.016893482305661744,
          0.016948654416122685,
          0.016884997967627827,
          0.01670351948787174,
          0.017705440452489098,
          0.017181130178559108,
          0.015557175515475143,
          0.015405590693259842,
          0.01549860061203144,
          0.014838846743881142,
          0.013919419641619801,
          0.014405093403640995,
          0.014192421864184953,
          0.013962598308473252,
          0.014670819678047882,
          0.014474136086390232,
          0.013804040738194568,
          0.015181730216839325
         ],
         "yaxis": "y"
        },
        {
         "hovertemplate": "variable=weighted_ripple<br>Date=%{x|%Y-%m-%d, }<br>value=%{y}<extra></extra>",
         "legendgroup": "weighted_ripple",
         "line": {
          "color": "#19d3f3",
          "dash": "solid"
         },
         "marker": {
          "symbol": "circle"
         },
         "mode": "lines",
         "name": "weighted_ripple",
         "orientation": "v",
         "showlegend": true,
         "type": "scatter",
         "x": [
          "2022-01-01T00:00:00",
          "2022-01-02T00:00:00",
          "2022-01-03T00:00:00",
          "2022-01-04T00:00:00",
          "2022-01-05T00:00:00",
          "2022-01-06T00:00:00",
          "2022-01-07T00:00:00",
          "2022-01-08T00:00:00",
          "2022-01-09T00:00:00",
          "2022-01-10T00:00:00",
          "2022-01-11T00:00:00",
          "2022-01-12T00:00:00",
          "2022-01-13T00:00:00",
          "2022-01-14T00:00:00",
          "2022-01-15T00:00:00",
          "2022-01-16T00:00:00",
          "2022-01-17T00:00:00",
          "2022-01-18T00:00:00",
          "2022-01-19T00:00:00",
          "2022-01-20T00:00:00",
          "2022-01-21T00:00:00",
          "2022-01-22T00:00:00",
          "2022-01-23T00:00:00",
          "2022-01-24T00:00:00",
          "2022-01-25T00:00:00",
          "2022-01-26T00:00:00",
          "2022-01-27T00:00:00",
          "2022-01-28T00:00:00",
          "2022-01-29T00:00:00",
          "2022-01-30T00:00:00",
          "2022-01-31T00:00:00",
          "2022-02-01T00:00:00",
          "2022-02-02T00:00:00",
          "2022-02-03T00:00:00",
          "2022-02-04T00:00:00",
          "2022-02-05T00:00:00",
          "2022-02-06T00:00:00",
          "2022-02-07T00:00:00",
          "2022-02-08T00:00:00",
          "2022-02-09T00:00:00",
          "2022-02-10T00:00:00",
          "2022-02-11T00:00:00",
          "2022-02-12T00:00:00",
          "2022-02-13T00:00:00",
          "2022-02-14T00:00:00",
          "2022-02-15T00:00:00",
          "2022-02-16T00:00:00",
          "2022-02-17T00:00:00",
          "2022-02-18T00:00:00",
          "2022-02-19T00:00:00",
          "2022-02-20T00:00:00",
          "2022-02-21T00:00:00",
          "2022-02-22T00:00:00",
          "2022-02-23T00:00:00",
          "2022-02-24T00:00:00",
          "2022-02-25T00:00:00",
          "2022-02-26T00:00:00",
          "2022-02-27T00:00:00",
          "2022-02-28T00:00:00",
          "2022-03-01T00:00:00"
         ],
         "xaxis": "x",
         "y": [
          0.018629176969329544,
          0.01906839522751678,
          0.019292698999421296,
          0.018698093880042187,
          0.018558839039378505,
          0.017448431554118543,
          0.017612293799696213,
          0.01717042114479841,
          0.016848179244651745,
          0.01691697784897659,
          0.01661887769172129,
          0.017329609370566643,
          0.01798594161777761,
          0.017317328557395928,
          0.017390451968147546,
          0.01755295283618704,
          0.01751239821369036,
          0.017189732886565962,
          0.016935702789460213,
          0.016668227776417906,
          0.016278662544914366,
          0.014388868845597846,
          0.013465917100228129,
          0.01416251681458551,
          0.01385681512900365,
          0.013962293376692048,
          0.014047736135672475,
          0.013730728046152859,
          0.013805419290417844,
          0.013879675366287422,
          0.013599332079328622,
          0.013930553496001412,
          0.014181142130452809,
          0.013559699723963606,
          0.013745769233979757,
          0.014666057686415246,
          0.01515226395503872,
          0.015466140046985788,
          0.018622202435876443,
          0.019859244672396272,
          0.019890264038584626,
          0.01889237197706985,
          0.017168936447411562,
          0.018440218336693216,
          0.01829241441751611,
          0.01812357030281319,
          0.019248155390155515,
          0.01894298011236128,
          0.01742349912376837,
          0.017805552251277345,
          0.018648024195146367,
          0.017590527502020066,
          0.016013770539937536,
          0.01640755762700316,
          0.01588605950672532,
          0.015769042669970035,
          0.01743165237310791,
          0.016942128009684455,
          0.01630081653321567,
          0.017676689119687363
         ],
         "yaxis": "y"
        },
        {
         "hovertemplate": "variable=weighted_solana<br>Date=%{x|%Y-%m-%d, }<br>value=%{y}<extra></extra>",
         "legendgroup": "weighted_solana",
         "line": {
          "color": "#FF6692",
          "dash": "solid"
         },
         "marker": {
          "symbol": "circle"
         },
         "mode": "lines",
         "name": "weighted_solana",
         "orientation": "v",
         "showlegend": true,
         "type": "scatter",
         "x": [
          "2022-01-01T00:00:00",
          "2022-01-02T00:00:00",
          "2022-01-03T00:00:00",
          "2022-01-04T00:00:00",
          "2022-01-05T00:00:00",
          "2022-01-06T00:00:00",
          "2022-01-07T00:00:00",
          "2022-01-08T00:00:00",
          "2022-01-09T00:00:00",
          "2022-01-10T00:00:00",
          "2022-01-11T00:00:00",
          "2022-01-12T00:00:00",
          "2022-01-13T00:00:00",
          "2022-01-14T00:00:00",
          "2022-01-15T00:00:00",
          "2022-01-16T00:00:00",
          "2022-01-17T00:00:00",
          "2022-01-18T00:00:00",
          "2022-01-19T00:00:00",
          "2022-01-20T00:00:00",
          "2022-01-21T00:00:00",
          "2022-01-22T00:00:00",
          "2022-01-23T00:00:00",
          "2022-01-24T00:00:00",
          "2022-01-25T00:00:00",
          "2022-01-26T00:00:00",
          "2022-01-27T00:00:00",
          "2022-01-28T00:00:00",
          "2022-01-29T00:00:00",
          "2022-01-30T00:00:00",
          "2022-01-31T00:00:00",
          "2022-02-01T00:00:00",
          "2022-02-02T00:00:00",
          "2022-02-03T00:00:00",
          "2022-02-04T00:00:00",
          "2022-02-05T00:00:00",
          "2022-02-06T00:00:00",
          "2022-02-07T00:00:00",
          "2022-02-08T00:00:00",
          "2022-02-09T00:00:00",
          "2022-02-10T00:00:00",
          "2022-02-11T00:00:00",
          "2022-02-12T00:00:00",
          "2022-02-13T00:00:00",
          "2022-02-14T00:00:00",
          "2022-02-15T00:00:00",
          "2022-02-16T00:00:00",
          "2022-02-17T00:00:00",
          "2022-02-18T00:00:00",
          "2022-02-19T00:00:00",
          "2022-02-20T00:00:00",
          "2022-02-21T00:00:00",
          "2022-02-22T00:00:00",
          "2022-02-23T00:00:00",
          "2022-02-24T00:00:00",
          "2022-02-25T00:00:00",
          "2022-02-26T00:00:00",
          "2022-02-27T00:00:00",
          "2022-02-28T00:00:00",
          "2022-03-01T00:00:00"
         ],
         "xaxis": "x",
         "y": [
          0.024053811098969476,
          0.025046047953494736,
          0.024825449419526486,
          0.02404443146111926,
          0.02376524974196312,
          0.02190662000802462,
          0.021302096946132658,
          0.019372624449303003,
          0.020313589409321573,
          0.019933563709674872,
          0.019240685559665245,
          0.01992415781523128,
          0.021610967652637605,
          0.020879035355941364,
          0.020844981573325233,
          0.021066777975567864,
          0.021118360549697072,
          0.020018924286036747,
          0.02026569078090087,
          0.01948074816282293,
          0.018516501339007205,
          0.015944304531661013,
          0.013487207995928749,
          0.014226150471596548,
          0.013143671054632733,
          0.013677804850751539,
          0.013295438284621059,
          0.012811602086824988,
          0.013087746081232417,
          0.013737559552558046,
          0.013379074540156377,
          0.014255151201352305,
          0.015814376925438963,
          0.014537338507883815,
          0.014472776929733163,
          0.015970610877235496,
          0.016406672345436215,
          0.016604090049260764,
          0.016960460130010416,
          0.01642408192288424,
          0.016500795404472867,
          0.015379126680345145,
          0.013910704326989853,
          0.013797293132296039,
          0.013490461986974895,
          0.013996027316147325,
          0.015266805854535739,
          0.01487030163357697,
          0.013602133842366979,
          0.013106618339274827,
          0.01327966060401757,
          0.013303494236190209,
          0.012151612859186043,
          0.01261369618215888,
          0.012409292416016853,
          0.012956127176507135,
          0.013602862467114682,
          0.013078977715647517,
          0.01243901455138216,
          0.014478559687236377
         ],
         "yaxis": "y"
        }
       ],
       "layout": {
        "legend": {
         "title": {
          "text": "variable"
         },
         "tracegroupgap": 0
        },
        "template": {
         "data": {
          "bar": [
           {
            "error_x": {
             "color": "#2a3f5f"
            },
            "error_y": {
             "color": "#2a3f5f"
            },
            "marker": {
             "line": {
              "color": "#E5ECF6",
              "width": 0.5
             },
             "pattern": {
              "fillmode": "overlay",
              "size": 10,
              "solidity": 0.2
             }
            },
            "type": "bar"
           }
          ],
          "barpolar": [
           {
            "marker": {
             "line": {
              "color": "#E5ECF6",
              "width": 0.5
             },
             "pattern": {
              "fillmode": "overlay",
              "size": 10,
              "solidity": 0.2
             }
            },
            "type": "barpolar"
           }
          ],
          "carpet": [
           {
            "aaxis": {
             "endlinecolor": "#2a3f5f",
             "gridcolor": "white",
             "linecolor": "white",
             "minorgridcolor": "white",
             "startlinecolor": "#2a3f5f"
            },
            "baxis": {
             "endlinecolor": "#2a3f5f",
             "gridcolor": "white",
             "linecolor": "white",
             "minorgridcolor": "white",
             "startlinecolor": "#2a3f5f"
            },
            "type": "carpet"
           }
          ],
          "choropleth": [
           {
            "colorbar": {
             "outlinewidth": 0,
             "ticks": ""
            },
            "type": "choropleth"
           }
          ],
          "contour": [
           {
            "colorbar": {
             "outlinewidth": 0,
             "ticks": ""
            },
            "colorscale": [
             [
              0,
              "#0d0887"
             ],
             [
              0.1111111111111111,
              "#46039f"
             ],
             [
              0.2222222222222222,
              "#7201a8"
             ],
             [
              0.3333333333333333,
              "#9c179e"
             ],
             [
              0.4444444444444444,
              "#bd3786"
             ],
             [
              0.5555555555555556,
              "#d8576b"
             ],
             [
              0.6666666666666666,
              "#ed7953"
             ],
             [
              0.7777777777777778,
              "#fb9f3a"
             ],
             [
              0.8888888888888888,
              "#fdca26"
             ],
             [
              1,
              "#f0f921"
             ]
            ],
            "type": "contour"
           }
          ],
          "contourcarpet": [
           {
            "colorbar": {
             "outlinewidth": 0,
             "ticks": ""
            },
            "type": "contourcarpet"
           }
          ],
          "heatmap": [
           {
            "colorbar": {
             "outlinewidth": 0,
             "ticks": ""
            },
            "colorscale": [
             [
              0,
              "#0d0887"
             ],
             [
              0.1111111111111111,
              "#46039f"
             ],
             [
              0.2222222222222222,
              "#7201a8"
             ],
             [
              0.3333333333333333,
              "#9c179e"
             ],
             [
              0.4444444444444444,
              "#bd3786"
             ],
             [
              0.5555555555555556,
              "#d8576b"
             ],
             [
              0.6666666666666666,
              "#ed7953"
             ],
             [
              0.7777777777777778,
              "#fb9f3a"
             ],
             [
              0.8888888888888888,
              "#fdca26"
             ],
             [
              1,
              "#f0f921"
             ]
            ],
            "type": "heatmap"
           }
          ],
          "heatmapgl": [
           {
            "colorbar": {
             "outlinewidth": 0,
             "ticks": ""
            },
            "colorscale": [
             [
              0,
              "#0d0887"
             ],
             [
              0.1111111111111111,
              "#46039f"
             ],
             [
              0.2222222222222222,
              "#7201a8"
             ],
             [
              0.3333333333333333,
              "#9c179e"
             ],
             [
              0.4444444444444444,
              "#bd3786"
             ],
             [
              0.5555555555555556,
              "#d8576b"
             ],
             [
              0.6666666666666666,
              "#ed7953"
             ],
             [
              0.7777777777777778,
              "#fb9f3a"
             ],
             [
              0.8888888888888888,
              "#fdca26"
             ],
             [
              1,
              "#f0f921"
             ]
            ],
            "type": "heatmapgl"
           }
          ],
          "histogram": [
           {
            "marker": {
             "pattern": {
              "fillmode": "overlay",
              "size": 10,
              "solidity": 0.2
             }
            },
            "type": "histogram"
           }
          ],
          "histogram2d": [
           {
            "colorbar": {
             "outlinewidth": 0,
             "ticks": ""
            },
            "colorscale": [
             [
              0,
              "#0d0887"
             ],
             [
              0.1111111111111111,
              "#46039f"
             ],
             [
              0.2222222222222222,
              "#7201a8"
             ],
             [
              0.3333333333333333,
              "#9c179e"
             ],
             [
              0.4444444444444444,
              "#bd3786"
             ],
             [
              0.5555555555555556,
              "#d8576b"
             ],
             [
              0.6666666666666666,
              "#ed7953"
             ],
             [
              0.7777777777777778,
              "#fb9f3a"
             ],
             [
              0.8888888888888888,
              "#fdca26"
             ],
             [
              1,
              "#f0f921"
             ]
            ],
            "type": "histogram2d"
           }
          ],
          "histogram2dcontour": [
           {
            "colorbar": {
             "outlinewidth": 0,
             "ticks": ""
            },
            "colorscale": [
             [
              0,
              "#0d0887"
             ],
             [
              0.1111111111111111,
              "#46039f"
             ],
             [
              0.2222222222222222,
              "#7201a8"
             ],
             [
              0.3333333333333333,
              "#9c179e"
             ],
             [
              0.4444444444444444,
              "#bd3786"
             ],
             [
              0.5555555555555556,
              "#d8576b"
             ],
             [
              0.6666666666666666,
              "#ed7953"
             ],
             [
              0.7777777777777778,
              "#fb9f3a"
             ],
             [
              0.8888888888888888,
              "#fdca26"
             ],
             [
              1,
              "#f0f921"
             ]
            ],
            "type": "histogram2dcontour"
           }
          ],
          "mesh3d": [
           {
            "colorbar": {
             "outlinewidth": 0,
             "ticks": ""
            },
            "type": "mesh3d"
           }
          ],
          "parcoords": [
           {
            "line": {
             "colorbar": {
              "outlinewidth": 0,
              "ticks": ""
             }
            },
            "type": "parcoords"
           }
          ],
          "pie": [
           {
            "automargin": true,
            "type": "pie"
           }
          ],
          "scatter": [
           {
            "marker": {
             "colorbar": {
              "outlinewidth": 0,
              "ticks": ""
             }
            },
            "type": "scatter"
           }
          ],
          "scatter3d": [
           {
            "line": {
             "colorbar": {
              "outlinewidth": 0,
              "ticks": ""
             }
            },
            "marker": {
             "colorbar": {
              "outlinewidth": 0,
              "ticks": ""
             }
            },
            "type": "scatter3d"
           }
          ],
          "scattercarpet": [
           {
            "marker": {
             "colorbar": {
              "outlinewidth": 0,
              "ticks": ""
             }
            },
            "type": "scattercarpet"
           }
          ],
          "scattergeo": [
           {
            "marker": {
             "colorbar": {
              "outlinewidth": 0,
              "ticks": ""
             }
            },
            "type": "scattergeo"
           }
          ],
          "scattergl": [
           {
            "marker": {
             "colorbar": {
              "outlinewidth": 0,
              "ticks": ""
             }
            },
            "type": "scattergl"
           }
          ],
          "scattermapbox": [
           {
            "marker": {
             "colorbar": {
              "outlinewidth": 0,
              "ticks": ""
             }
            },
            "type": "scattermapbox"
           }
          ],
          "scatterpolar": [
           {
            "marker": {
             "colorbar": {
              "outlinewidth": 0,
              "ticks": ""
             }
            },
            "type": "scatterpolar"
           }
          ],
          "scatterpolargl": [
           {
            "marker": {
             "colorbar": {
              "outlinewidth": 0,
              "ticks": ""
             }
            },
            "type": "scatterpolargl"
           }
          ],
          "scatterternary": [
           {
            "marker": {
             "colorbar": {
              "outlinewidth": 0,
              "ticks": ""
             }
            },
            "type": "scatterternary"
           }
          ],
          "surface": [
           {
            "colorbar": {
             "outlinewidth": 0,
             "ticks": ""
            },
            "colorscale": [
             [
              0,
              "#0d0887"
             ],
             [
              0.1111111111111111,
              "#46039f"
             ],
             [
              0.2222222222222222,
              "#7201a8"
             ],
             [
              0.3333333333333333,
              "#9c179e"
             ],
             [
              0.4444444444444444,
              "#bd3786"
             ],
             [
              0.5555555555555556,
              "#d8576b"
             ],
             [
              0.6666666666666666,
              "#ed7953"
             ],
             [
              0.7777777777777778,
              "#fb9f3a"
             ],
             [
              0.8888888888888888,
              "#fdca26"
             ],
             [
              1,
              "#f0f921"
             ]
            ],
            "type": "surface"
           }
          ],
          "table": [
           {
            "cells": {
             "fill": {
              "color": "#EBF0F8"
             },
             "line": {
              "color": "white"
             }
            },
            "header": {
             "fill": {
              "color": "#C8D4E3"
             },
             "line": {
              "color": "white"
             }
            },
            "type": "table"
           }
          ]
         },
         "layout": {
          "annotationdefaults": {
           "arrowcolor": "#2a3f5f",
           "arrowhead": 0,
           "arrowwidth": 1
          },
          "autotypenumbers": "strict",
          "coloraxis": {
           "colorbar": {
            "outlinewidth": 0,
            "ticks": ""
           }
          },
          "colorscale": {
           "diverging": [
            [
             0,
             "#8e0152"
            ],
            [
             0.1,
             "#c51b7d"
            ],
            [
             0.2,
             "#de77ae"
            ],
            [
             0.3,
             "#f1b6da"
            ],
            [
             0.4,
             "#fde0ef"
            ],
            [
             0.5,
             "#f7f7f7"
            ],
            [
             0.6,
             "#e6f5d0"
            ],
            [
             0.7,
             "#b8e186"
            ],
            [
             0.8,
             "#7fbc41"
            ],
            [
             0.9,
             "#4d9221"
            ],
            [
             1,
             "#276419"
            ]
           ],
           "sequential": [
            [
             0,
             "#0d0887"
            ],
            [
             0.1111111111111111,
             "#46039f"
            ],
            [
             0.2222222222222222,
             "#7201a8"
            ],
            [
             0.3333333333333333,
             "#9c179e"
            ],
            [
             0.4444444444444444,
             "#bd3786"
            ],
            [
             0.5555555555555556,
             "#d8576b"
            ],
            [
             0.6666666666666666,
             "#ed7953"
            ],
            [
             0.7777777777777778,
             "#fb9f3a"
            ],
            [
             0.8888888888888888,
             "#fdca26"
            ],
            [
             1,
             "#f0f921"
            ]
           ],
           "sequentialminus": [
            [
             0,
             "#0d0887"
            ],
            [
             0.1111111111111111,
             "#46039f"
            ],
            [
             0.2222222222222222,
             "#7201a8"
            ],
            [
             0.3333333333333333,
             "#9c179e"
            ],
            [
             0.4444444444444444,
             "#bd3786"
            ],
            [
             0.5555555555555556,
             "#d8576b"
            ],
            [
             0.6666666666666666,
             "#ed7953"
            ],
            [
             0.7777777777777778,
             "#fb9f3a"
            ],
            [
             0.8888888888888888,
             "#fdca26"
            ],
            [
             1,
             "#f0f921"
            ]
           ]
          },
          "colorway": [
           "#636efa",
           "#EF553B",
           "#00cc96",
           "#ab63fa",
           "#FFA15A",
           "#19d3f3",
           "#FF6692",
           "#B6E880",
           "#FF97FF",
           "#FECB52"
          ],
          "font": {
           "color": "#2a3f5f"
          },
          "geo": {
           "bgcolor": "white",
           "lakecolor": "white",
           "landcolor": "#E5ECF6",
           "showlakes": true,
           "showland": true,
           "subunitcolor": "white"
          },
          "hoverlabel": {
           "align": "left"
          },
          "hovermode": "closest",
          "mapbox": {
           "style": "light"
          },
          "paper_bgcolor": "white",
          "plot_bgcolor": "#E5ECF6",
          "polar": {
           "angularaxis": {
            "gridcolor": "white",
            "linecolor": "white",
            "ticks": ""
           },
           "bgcolor": "#E5ECF6",
           "radialaxis": {
            "gridcolor": "white",
            "linecolor": "white",
            "ticks": ""
           }
          },
          "scene": {
           "xaxis": {
            "backgroundcolor": "#E5ECF6",
            "gridcolor": "white",
            "gridwidth": 2,
            "linecolor": "white",
            "showbackground": true,
            "ticks": "",
            "zerolinecolor": "white"
           },
           "yaxis": {
            "backgroundcolor": "#E5ECF6",
            "gridcolor": "white",
            "gridwidth": 2,
            "linecolor": "white",
            "showbackground": true,
            "ticks": "",
            "zerolinecolor": "white"
           },
           "zaxis": {
            "backgroundcolor": "#E5ECF6",
            "gridcolor": "white",
            "gridwidth": 2,
            "linecolor": "white",
            "showbackground": true,
            "ticks": "",
            "zerolinecolor": "white"
           }
          },
          "shapedefaults": {
           "line": {
            "color": "#2a3f5f"
           }
          },
          "ternary": {
           "aaxis": {
            "gridcolor": "white",
            "linecolor": "white",
            "ticks": ""
           },
           "baxis": {
            "gridcolor": "white",
            "linecolor": "white",
            "ticks": ""
           },
           "bgcolor": "#E5ECF6",
           "caxis": {
            "gridcolor": "white",
            "linecolor": "white",
            "ticks": ""
           }
          },
          "title": {
           "x": 0.05
          },
          "xaxis": {
           "automargin": true,
           "gridcolor": "white",
           "linecolor": "white",
           "ticks": "",
           "title": {
            "standoff": 15
           },
           "zerolinecolor": "white",
           "zerolinewidth": 2
          },
          "yaxis": {
           "automargin": true,
           "gridcolor": "white",
           "linecolor": "white",
           "ticks": "",
           "title": {
            "standoff": 15
           },
           "zerolinecolor": "white",
           "zerolinewidth": 2
          }
         }
        },
        "title": {
         "text": "Weighted Market Capitalization Index from 2022-01-01 to 2022-03-01"
        },
        "xaxis": {
         "anchor": "y",
         "domain": [
          0,
          1
         ],
         "dtick": "M1",
         "tickformat": "%b\n%Y",
         "title": {
          "text": "Date"
         }
        },
        "yaxis": {
         "anchor": "x",
         "domain": [
          0,
          1
         ],
         "title": {
          "text": "value"
         }
        }
       }
      }
     },
     "metadata": {},
     "output_type": "display_data"
    }
   ],
   "source": [
    "import plotly.express as px\n",
    "\n",
    "_weighted_market_df = market_df.copy()\n",
    "_min_date = (_weighted_market_df[\"Date\"].min()).date()\n",
    "_max_date = (_weighted_market_df[\"Date\"].max()).date()\n",
    "_l_coin_ids = list(_weighted_market_df.columns)\n",
    "_l_coin_ids.remove('Date')\n",
    "\n",
    "for coin in _l_coin_ids:\n",
    "    weighted_col_name = \"weighted_\"+coin\n",
    "    _weighted_market_df[weighted_col_name]=_weighted_market_df[coin]/_weighted_market_df[coin].sum()\n",
    "\n",
    "_l_weighted_cols = [x for x in _weighted_market_df.columns if x not in _l_coin_ids]\n",
    "plot_weighted_market_df = _weighted_market_df[_l_weighted_cols]\n",
    "\n",
    "_title = \"Weighted Market Capitalization Index from \"+str(_min_date)+\" to \"+str(_max_date)\n",
    "fig = px.line(plot_weighted_market_df, x=\"Date\", y=plot_weighted_market_df.columns,\n",
    "              hover_data={\"Date\": \"|%Y-%m-%d, \"},\n",
    "              title=_title)\n",
    "fig.update_xaxes(\n",
    "    dtick=\"M1\",\n",
    "    tickformat=\"%b\\n%Y\")\n",
    "fig.show()"
   ]
  },
  {
   "cell_type": "markdown",
   "id": "e72f840e",
   "metadata": {},
   "source": [
    "## Simple Returns\n",
    "1. Compute the ___percentage change___ between the current and a prior value, for each coin.\n",
    "1. Plot the returns to examine coins with high and low ___volatility___."
   ]
  },
  {
   "cell_type": "code",
   "execution_count": 6,
   "id": "1958170a",
   "metadata": {},
   "outputs": [
    {
     "name": "stderr",
     "output_type": "stream",
     "text": [
      "/home/gnewy/.local/lib/python3.8/site-packages/plotly/io/_renderers.py:396: DeprecationWarning:\n",
      "\n",
      "distutils Version classes are deprecated. Use packaging.version instead.\n",
      "\n"
     ]
    },
    {
     "data": {
      "application/vnd.plotly.v1+json": {
       "config": {
        "plotlyServerURL": "https://plot.ly"
       },
       "data": [
        {
         "hovertemplate": "variable=bitcoin<br>Date=%{x|%B %d, %Y}<br>value=%{y}<extra></extra>",
         "legendgroup": "bitcoin",
         "line": {
          "color": "#636efa",
          "dash": "solid"
         },
         "marker": {
          "symbol": "circle"
         },
         "mode": "lines",
         "name": "bitcoin",
         "orientation": "v",
         "showlegend": true,
         "type": "scatter",
         "x": [
          "2022-01-01T00:00:00",
          "2022-01-02T00:00:00",
          "2022-01-03T00:00:00",
          "2022-01-04T00:00:00",
          "2022-01-05T00:00:00",
          "2022-01-06T00:00:00",
          "2022-01-07T00:00:00",
          "2022-01-08T00:00:00",
          "2022-01-09T00:00:00",
          "2022-01-10T00:00:00",
          "2022-01-11T00:00:00",
          "2022-01-12T00:00:00",
          "2022-01-13T00:00:00",
          "2022-01-14T00:00:00",
          "2022-01-15T00:00:00",
          "2022-01-16T00:00:00",
          "2022-01-17T00:00:00",
          "2022-01-18T00:00:00",
          "2022-01-19T00:00:00",
          "2022-01-20T00:00:00",
          "2022-01-21T00:00:00",
          "2022-01-22T00:00:00",
          "2022-01-23T00:00:00",
          "2022-01-24T00:00:00",
          "2022-01-25T00:00:00",
          "2022-01-26T00:00:00",
          "2022-01-27T00:00:00",
          "2022-01-28T00:00:00",
          "2022-01-29T00:00:00",
          "2022-01-30T00:00:00",
          "2022-01-31T00:00:00",
          "2022-02-01T00:00:00",
          "2022-02-02T00:00:00",
          "2022-02-03T00:00:00",
          "2022-02-04T00:00:00",
          "2022-02-05T00:00:00",
          "2022-02-06T00:00:00",
          "2022-02-07T00:00:00",
          "2022-02-08T00:00:00",
          "2022-02-09T00:00:00",
          "2022-02-10T00:00:00",
          "2022-02-11T00:00:00",
          "2022-02-12T00:00:00",
          "2022-02-13T00:00:00",
          "2022-02-14T00:00:00",
          "2022-02-15T00:00:00",
          "2022-02-16T00:00:00",
          "2022-02-17T00:00:00",
          "2022-02-18T00:00:00",
          "2022-02-19T00:00:00",
          "2022-02-20T00:00:00",
          "2022-02-21T00:00:00",
          "2022-02-22T00:00:00",
          "2022-02-23T00:00:00",
          "2022-02-24T00:00:00",
          "2022-02-25T00:00:00",
          "2022-02-26T00:00:00",
          "2022-02-27T00:00:00",
          "2022-02-28T00:00:00",
          "2022-03-01T00:00:00"
         ],
         "xaxis": "x",
         "y": [
          null,
          0.032366164640208694,
          -0.007756167703021122,
          -0.019170146494707163,
          -0.004643146805840326,
          -0.05537220170084878,
          -0.00990708401208007,
          -0.038787590761280244,
          0.006546662215000554,
          -0.001568991514658724,
          0.000958968781237024,
          0.021723401361812167,
          0.0282089371508365,
          -0.03117172632140508,
          0.011926006901936015,
          0.0008221787864581831,
          -0.0005812186586796608,
          -0.018991109622317204,
          0.003920281266405201,
          -0.01673483750315885,
          -0.020584380136294267,
          -0.10511110374093502,
          -0.0384414149762774,
          0.03205435118499689,
          0.012928677612409345,
          0.0058955270719052155,
          -0.0005790030281770386,
          0.0030644688962702116,
          0.020952938590953707,
          0.008091836499421579,
          -0.004508489948316874,
          0.011583659860093132,
          0.011260908576955275,
          -0.048168113390961165,
          0.0033650842488828214,
          0.10576299216857898,
          0.011500494012297136,
          0.02371500159217521,
          0.03534475188495523,
          0.0048168513319455375,
          0.004696793776009844,
          -0.017112910576851825,
          -0.02809799510248201,
          -0.005175168051171131,
          0.003142091002388492,
          0.007756161432373787,
          0.049538074559738465,
          -0.014222440954783866,
          -0.07911381129306139,
          -0.013264313263640082,
          0.0020600172102684944,
          -0.04079787473357421,
          -0.037483919404261434,
          0.03426727898964699,
          -0.025120533407813728,
          0.026562710017313362,
          0.024881863686545103,
          -0.0062748722643865,
          -0.031661556684348224,
          0.1413000050628972
         ],
         "yaxis": "y"
        },
        {
         "hovertemplate": "variable=bitcoin_cash<br>Date=%{x|%B %d, %Y}<br>value=%{y}<extra></extra>",
         "legendgroup": "bitcoin_cash",
         "line": {
          "color": "#EF553B",
          "dash": "solid"
         },
         "marker": {
          "symbol": "circle"
         },
         "mode": "lines",
         "name": "bitcoin_cash",
         "orientation": "v",
         "showlegend": true,
         "type": "scatter",
         "x": [
          "2022-01-01T00:00:00",
          "2022-01-02T00:00:00",
          "2022-01-03T00:00:00",
          "2022-01-04T00:00:00",
          "2022-01-05T00:00:00",
          "2022-01-06T00:00:00",
          "2022-01-07T00:00:00",
          "2022-01-08T00:00:00",
          "2022-01-09T00:00:00",
          "2022-01-10T00:00:00",
          "2022-01-11T00:00:00",
          "2022-01-12T00:00:00",
          "2022-01-13T00:00:00",
          "2022-01-14T00:00:00",
          "2022-01-15T00:00:00",
          "2022-01-16T00:00:00",
          "2022-01-17T00:00:00",
          "2022-01-18T00:00:00",
          "2022-01-19T00:00:00",
          "2022-01-20T00:00:00",
          "2022-01-21T00:00:00",
          "2022-01-22T00:00:00",
          "2022-01-23T00:00:00",
          "2022-01-24T00:00:00",
          "2022-01-25T00:00:00",
          "2022-01-26T00:00:00",
          "2022-01-27T00:00:00",
          "2022-01-28T00:00:00",
          "2022-01-29T00:00:00",
          "2022-01-30T00:00:00",
          "2022-01-31T00:00:00",
          "2022-02-01T00:00:00",
          "2022-02-02T00:00:00",
          "2022-02-03T00:00:00",
          "2022-02-04T00:00:00",
          "2022-02-05T00:00:00",
          "2022-02-06T00:00:00",
          "2022-02-07T00:00:00",
          "2022-02-08T00:00:00",
          "2022-02-09T00:00:00",
          "2022-02-10T00:00:00",
          "2022-02-11T00:00:00",
          "2022-02-12T00:00:00",
          "2022-02-13T00:00:00",
          "2022-02-14T00:00:00",
          "2022-02-15T00:00:00",
          "2022-02-16T00:00:00",
          "2022-02-17T00:00:00",
          "2022-02-18T00:00:00",
          "2022-02-19T00:00:00",
          "2022-02-20T00:00:00",
          "2022-02-21T00:00:00",
          "2022-02-22T00:00:00",
          "2022-02-23T00:00:00",
          "2022-02-24T00:00:00",
          "2022-02-25T00:00:00",
          "2022-02-26T00:00:00",
          "2022-02-27T00:00:00",
          "2022-02-28T00:00:00",
          "2022-03-01T00:00:00"
         ],
         "xaxis": "x",
         "y": [
          null,
          null,
          null,
          null,
          null,
          null,
          null,
          null,
          null,
          null,
          null,
          null,
          null,
          null,
          null,
          null,
          null,
          null,
          null,
          null,
          null,
          null,
          null,
          null,
          null,
          null,
          null,
          null,
          null,
          null,
          null,
          null,
          null,
          null,
          null,
          null,
          null,
          null,
          null,
          null,
          null,
          null,
          null,
          null,
          null,
          null,
          null,
          null,
          null,
          null,
          null,
          null,
          null,
          null,
          null,
          null,
          null,
          null,
          null,
          null
         ],
         "yaxis": "y"
        },
        {
         "hovertemplate": "variable=cardano<br>Date=%{x|%B %d, %Y}<br>value=%{y}<extra></extra>",
         "legendgroup": "cardano",
         "line": {
          "color": "#00cc96",
          "dash": "solid"
         },
         "marker": {
          "symbol": "circle"
         },
         "mode": "lines",
         "name": "cardano",
         "orientation": "v",
         "showlegend": true,
         "type": "scatter",
         "x": [
          "2022-01-01T00:00:00",
          "2022-01-02T00:00:00",
          "2022-01-03T00:00:00",
          "2022-01-04T00:00:00",
          "2022-01-05T00:00:00",
          "2022-01-06T00:00:00",
          "2022-01-07T00:00:00",
          "2022-01-08T00:00:00",
          "2022-01-09T00:00:00",
          "2022-01-10T00:00:00",
          "2022-01-11T00:00:00",
          "2022-01-12T00:00:00",
          "2022-01-13T00:00:00",
          "2022-01-14T00:00:00",
          "2022-01-15T00:00:00",
          "2022-01-16T00:00:00",
          "2022-01-17T00:00:00",
          "2022-01-18T00:00:00",
          "2022-01-19T00:00:00",
          "2022-01-20T00:00:00",
          "2022-01-21T00:00:00",
          "2022-01-22T00:00:00",
          "2022-01-23T00:00:00",
          "2022-01-24T00:00:00",
          "2022-01-25T00:00:00",
          "2022-01-26T00:00:00",
          "2022-01-27T00:00:00",
          "2022-01-28T00:00:00",
          "2022-01-29T00:00:00",
          "2022-01-30T00:00:00",
          "2022-01-31T00:00:00",
          "2022-02-01T00:00:00",
          "2022-02-02T00:00:00",
          "2022-02-03T00:00:00",
          "2022-02-04T00:00:00",
          "2022-02-05T00:00:00",
          "2022-02-06T00:00:00",
          "2022-02-07T00:00:00",
          "2022-02-08T00:00:00",
          "2022-02-09T00:00:00",
          "2022-02-10T00:00:00",
          "2022-02-11T00:00:00",
          "2022-02-12T00:00:00",
          "2022-02-13T00:00:00",
          "2022-02-14T00:00:00",
          "2022-02-15T00:00:00",
          "2022-02-16T00:00:00",
          "2022-02-17T00:00:00",
          "2022-02-18T00:00:00",
          "2022-02-19T00:00:00",
          "2022-02-20T00:00:00",
          "2022-02-21T00:00:00",
          "2022-02-22T00:00:00",
          "2022-02-23T00:00:00",
          "2022-02-24T00:00:00",
          "2022-02-25T00:00:00",
          "2022-02-26T00:00:00",
          "2022-02-27T00:00:00",
          "2022-02-28T00:00:00",
          "2022-03-01T00:00:00"
         ],
         "xaxis": "x",
         "y": [
          null,
          0.04749770542560672,
          0.002072180008870328,
          -0.038669963541408614,
          -0.005108695523067697,
          -0.05640961991754112,
          0.03025018951858338,
          -0.05440201145776746,
          -0.016318791859635362,
          -0.018821913525025713,
          -0.034119805292363026,
          0.04947644918020622,
          0.09956398340937467,
          -0.04946400240239446,
          0.03341171530725262,
          0.011654054722640694,
          0.08834119545362418,
          0.11512469250169333,
          -0.0648369391895447,
          -0.08723809597508325,
          -0.05711184147019843,
          -0.10560693197214832,
          -0.05806472258115514,
          0.04966163780007271,
          -0.04587627239653236,
          -0.02298130766174067,
          0.03769438538017811,
          -0.033970148476733186,
          0.003917120390494189,
          0.007978200962335258,
          -0.019119519565545584,
          0.010966767492424312,
          0.03221037157212714,
          -0.05035142050208952,
          0.024920758627068995,
          0.06876013162965733,
          0.004792178551804138,
          0.013308546220169193,
          0.04508155414710813,
          -0.017331323698227874,
          0.013920653468090904,
          -0.036241755180022595,
          -0.06186934345553474,
          -0.02386093724124516,
          -0.009969228514589035,
          0.005601835161968216,
          0.057924243849117873,
          -0.02113608681793755,
          -0.0615193694115328,
          -0.021877990647638734,
          -0.0013020576135811535,
          -0.05831117127715024,
          -0.08164924569545562,
          0.03450678850331235,
          -0.022948163310602232,
          -0.02166018378926049,
          0.05199076404513958,
          -0.012364889331399231,
          -0.030715345010765227,
          0.11084910010206883
         ],
         "yaxis": "y"
        },
        {
         "hovertemplate": "variable=ethereum<br>Date=%{x|%B %d, %Y}<br>value=%{y}<extra></extra>",
         "legendgroup": "ethereum",
         "line": {
          "color": "#ab63fa",
          "dash": "solid"
         },
         "marker": {
          "symbol": "circle"
         },
         "mode": "lines",
         "name": "ethereum",
         "orientation": "v",
         "showlegend": true,
         "type": "scatter",
         "x": [
          "2022-01-01T00:00:00",
          "2022-01-02T00:00:00",
          "2022-01-03T00:00:00",
          "2022-01-04T00:00:00",
          "2022-01-05T00:00:00",
          "2022-01-06T00:00:00",
          "2022-01-07T00:00:00",
          "2022-01-08T00:00:00",
          "2022-01-09T00:00:00",
          "2022-01-10T00:00:00",
          "2022-01-11T00:00:00",
          "2022-01-12T00:00:00",
          "2022-01-13T00:00:00",
          "2022-01-14T00:00:00",
          "2022-01-15T00:00:00",
          "2022-01-16T00:00:00",
          "2022-01-17T00:00:00",
          "2022-01-18T00:00:00",
          "2022-01-19T00:00:00",
          "2022-01-20T00:00:00",
          "2022-01-21T00:00:00",
          "2022-01-22T00:00:00",
          "2022-01-23T00:00:00",
          "2022-01-24T00:00:00",
          "2022-01-25T00:00:00",
          "2022-01-26T00:00:00",
          "2022-01-27T00:00:00",
          "2022-01-28T00:00:00",
          "2022-01-29T00:00:00",
          "2022-01-30T00:00:00",
          "2022-01-31T00:00:00",
          "2022-02-01T00:00:00",
          "2022-02-02T00:00:00",
          "2022-02-03T00:00:00",
          "2022-02-04T00:00:00",
          "2022-02-05T00:00:00",
          "2022-02-06T00:00:00",
          "2022-02-07T00:00:00",
          "2022-02-08T00:00:00",
          "2022-02-09T00:00:00",
          "2022-02-10T00:00:00",
          "2022-02-11T00:00:00",
          "2022-02-12T00:00:00",
          "2022-02-13T00:00:00",
          "2022-02-14T00:00:00",
          "2022-02-15T00:00:00",
          "2022-02-16T00:00:00",
          "2022-02-17T00:00:00",
          "2022-02-18T00:00:00",
          "2022-02-19T00:00:00",
          "2022-02-20T00:00:00",
          "2022-02-21T00:00:00",
          "2022-02-22T00:00:00",
          "2022-02-23T00:00:00",
          "2022-02-24T00:00:00",
          "2022-02-25T00:00:00",
          "2022-02-26T00:00:00",
          "2022-02-27T00:00:00",
          "2022-02-28T00:00:00",
          "2022-03-01T00:00:00"
         ],
         "xaxis": "x",
         "y": [
          null,
          0.022769499316086073,
          0.01566838924269298,
          -0.018042619611836064,
          0.013296043415589764,
          -0.06706389371731813,
          -0.0387568783438621,
          -0.06468535844908829,
          -0.030289760313331082,
          0.014835394058242857,
          -0.020160754917435963,
          0.053993920213696756,
          0.039373535022335204,
          -0.036555987331399975,
          0.01707212024103466,
          0.0056620842897256995,
          0.008397439570706489,
          -0.041985010699966074,
          -0.014370675233651431,
          -0.01752257549589331,
          -0.0288602427548601,
          -0.1495810108866561,
          -0.06471527628175311,
          0.05518288563492635,
          -0.03504003132142419,
          0.0057530205690004,
          0.006881151654487105,
          -0.026693430024087972,
          0.05724162227801344,
          0.018909982594102814,
          0.004977117181000912,
          0.028085904860043476,
          0.04269762882052275,
          -0.0381292424446793,
          -0.011804750010205645,
          0.11670548367389233,
          0.01986225681501219,
          0.012272858500754769,
          0.028173908191698516,
          -0.00613024522149086,
          0.035496563735125,
          -0.048908976418805095,
          -0.04952557878100139,
          -0.0074709641968619955,
          -0.006517036763480699,
          0.017714378162877686,
          0.08658196567187737,
          -0.014980018136963924,
          -0.08195058595170701,
          -0.03259933152242489,
          -0.009529751694358435,
          -0.04775690552455303,
          -0.01961512326140369,
          0.02644642263300301,
          -0.01894906231377691,
          0.0017232545137515487,
          0.07091254921320589,
          -0.0029368329389691805,
          -0.05434968621326508,
          0.10964356221690097
         ],
         "yaxis": "y"
        },
        {
         "hovertemplate": "variable=litecoin<br>Date=%{x|%B %d, %Y}<br>value=%{y}<extra></extra>",
         "legendgroup": "litecoin",
         "line": {
          "color": "#FFA15A",
          "dash": "solid"
         },
         "marker": {
          "symbol": "circle"
         },
         "mode": "lines",
         "name": "litecoin",
         "orientation": "v",
         "showlegend": true,
         "type": "scatter",
         "x": [
          "2022-01-01T00:00:00",
          "2022-01-02T00:00:00",
          "2022-01-03T00:00:00",
          "2022-01-04T00:00:00",
          "2022-01-05T00:00:00",
          "2022-01-06T00:00:00",
          "2022-01-07T00:00:00",
          "2022-01-08T00:00:00",
          "2022-01-09T00:00:00",
          "2022-01-10T00:00:00",
          "2022-01-11T00:00:00",
          "2022-01-12T00:00:00",
          "2022-01-13T00:00:00",
          "2022-01-14T00:00:00",
          "2022-01-15T00:00:00",
          "2022-01-16T00:00:00",
          "2022-01-17T00:00:00",
          "2022-01-18T00:00:00",
          "2022-01-19T00:00:00",
          "2022-01-20T00:00:00",
          "2022-01-21T00:00:00",
          "2022-01-22T00:00:00",
          "2022-01-23T00:00:00",
          "2022-01-24T00:00:00",
          "2022-01-25T00:00:00",
          "2022-01-26T00:00:00",
          "2022-01-27T00:00:00",
          "2022-01-28T00:00:00",
          "2022-01-29T00:00:00",
          "2022-01-30T00:00:00",
          "2022-01-31T00:00:00",
          "2022-02-01T00:00:00",
          "2022-02-02T00:00:00",
          "2022-02-03T00:00:00",
          "2022-02-04T00:00:00",
          "2022-02-05T00:00:00",
          "2022-02-06T00:00:00",
          "2022-02-07T00:00:00",
          "2022-02-08T00:00:00",
          "2022-02-09T00:00:00",
          "2022-02-10T00:00:00",
          "2022-02-11T00:00:00",
          "2022-02-12T00:00:00",
          "2022-02-13T00:00:00",
          "2022-02-14T00:00:00",
          "2022-02-15T00:00:00",
          "2022-02-16T00:00:00",
          "2022-02-17T00:00:00",
          "2022-02-18T00:00:00",
          "2022-02-19T00:00:00",
          "2022-02-20T00:00:00",
          "2022-02-21T00:00:00",
          "2022-02-22T00:00:00",
          "2022-02-23T00:00:00",
          "2022-02-24T00:00:00",
          "2022-02-25T00:00:00",
          "2022-02-26T00:00:00",
          "2022-02-27T00:00:00",
          "2022-02-28T00:00:00",
          "2022-03-01T00:00:00"
         ],
         "xaxis": "x",
         "y": [
          null,
          0.030300601389574133,
          0.004735752148165462,
          -0.020355129360937196,
          -0.005941698554715824,
          -0.07771720524744041,
          0.004881200377479411,
          -0.039888234416655455,
          -0.010103289627878875,
          0.007102343130657607,
          -0.031988888019426565,
          0.037379862583146295,
          0.07767344970183832,
          -0.03556767702651398,
          0.05884832971298004,
          0.020502218988668997,
          -0.007117914259028635,
          0.0352357274209707,
          -0.06527169889327888,
          -0.03430035832650569,
          -0.03822549027487909,
          -0.1275821997202623,
          -0.05459581186913198,
          0.029429516162038594,
          -0.01613313301749375,
          -0.014880043128515874,
          -0.007589484061210405,
          -0.005175221102014516,
          0.024701629289960225,
          0.010888927810357218,
          -0.016565408831721307,
          0.004965896544189885,
          0.05622377190135741,
          -0.06190370815880253,
          0.016851752657624397,
          0.08950812696776667,
          0.01940320788837635,
          0.04272778955109491,
          0.07502279660616451,
          -0.021984763762127768,
          0.0498266707509496,
          -0.038065583774463674,
          -0.0673597922429745,
          0.003265881448400565,
          -0.003755840843288616,
          -0.010747912442987784,
          0.05998262613725469,
          -0.029612947237145915,
          -0.09451966466737749,
          -0.00974372385684763,
          0.006037413340618691,
          -0.042568608912867734,
          -0.061960819336615236,
          0.0348918111908203,
          -0.014763634882248411,
          -0.01619339940082165,
          0.050722749013329516,
          -0.013406448717514285,
          -0.046296051397896054,
          0.0998033477858995
         ],
         "yaxis": "y"
        },
        {
         "hovertemplate": "variable=ripple<br>Date=%{x|%B %d, %Y}<br>value=%{y}<extra></extra>",
         "legendgroup": "ripple",
         "line": {
          "color": "#19d3f3",
          "dash": "solid"
         },
         "marker": {
          "symbol": "circle"
         },
         "mode": "lines",
         "name": "ripple",
         "orientation": "v",
         "showlegend": true,
         "type": "scatter",
         "x": [
          "2022-01-01T00:00:00",
          "2022-01-02T00:00:00",
          "2022-01-03T00:00:00",
          "2022-01-04T00:00:00",
          "2022-01-05T00:00:00",
          "2022-01-06T00:00:00",
          "2022-01-07T00:00:00",
          "2022-01-08T00:00:00",
          "2022-01-09T00:00:00",
          "2022-01-10T00:00:00",
          "2022-01-11T00:00:00",
          "2022-01-12T00:00:00",
          "2022-01-13T00:00:00",
          "2022-01-14T00:00:00",
          "2022-01-15T00:00:00",
          "2022-01-16T00:00:00",
          "2022-01-17T00:00:00",
          "2022-01-18T00:00:00",
          "2022-01-19T00:00:00",
          "2022-01-20T00:00:00",
          "2022-01-21T00:00:00",
          "2022-01-22T00:00:00",
          "2022-01-23T00:00:00",
          "2022-01-24T00:00:00",
          "2022-01-25T00:00:00",
          "2022-01-26T00:00:00",
          "2022-01-27T00:00:00",
          "2022-01-28T00:00:00",
          "2022-01-29T00:00:00",
          "2022-01-30T00:00:00",
          "2022-01-31T00:00:00",
          "2022-02-01T00:00:00",
          "2022-02-02T00:00:00",
          "2022-02-03T00:00:00",
          "2022-02-04T00:00:00",
          "2022-02-05T00:00:00",
          "2022-02-06T00:00:00",
          "2022-02-07T00:00:00",
          "2022-02-08T00:00:00",
          "2022-02-09T00:00:00",
          "2022-02-10T00:00:00",
          "2022-02-11T00:00:00",
          "2022-02-12T00:00:00",
          "2022-02-13T00:00:00",
          "2022-02-14T00:00:00",
          "2022-02-15T00:00:00",
          "2022-02-16T00:00:00",
          "2022-02-17T00:00:00",
          "2022-02-18T00:00:00",
          "2022-02-19T00:00:00",
          "2022-02-20T00:00:00",
          "2022-02-21T00:00:00",
          "2022-02-22T00:00:00",
          "2022-02-23T00:00:00",
          "2022-02-24T00:00:00",
          "2022-02-25T00:00:00",
          "2022-02-26T00:00:00",
          "2022-02-27T00:00:00",
          "2022-02-28T00:00:00",
          "2022-03-01T00:00:00"
         ],
         "xaxis": "x",
         "y": [
          null,
          0.023576900842713133,
          0.011763117411203616,
          -0.030820214392861534,
          -0.00744754206268694,
          -0.059831732087544776,
          0.00939123067133174,
          -0.025088875981924885,
          -0.018767268282425587,
          0.004083444467548825,
          -0.01762136002757353,
          0.04276652683949944,
          0.037873458840088414,
          -0.03717420386380055,
          0.004222557221182255,
          0.009344257891464425,
          -0.002310415966769619,
          -0.018424965169656304,
          -0.014778013060591566,
          -0.015793558517616657,
          -0.0233717247405687,
          -0.11609023125225437,
          -0.06414345389297826,
          0.05173058093054661,
          -0.02158526549935169,
          0.007612012335188156,
          0.006119536144618021,
          -0.02256648946548856,
          0.005439714777973004,
          0.0053787628110011365,
          -0.020198115558216267,
          0.024355712085026404,
          0.017988419090693375,
          -0.04382174586309995,
          0.013722244135488948,
          0.06695066945839012,
          0.03315180391481998,
          0.020714798321784134,
          0.20406270596946663,
          0.06642835297164518,
          0.0015619610262149752,
          -0.050169875049370316,
          -0.0912238829380485,
          0.07404546537728707,
          -0.008015302014239167,
          -0.009230280423848325,
          0.06205096835515711,
          -0.01585478045082267,
          -0.08021340779434016,
          0.021927462721181845,
          0.04731512575290009,
          -0.05670824330019586,
          -0.08963670713692107,
          0.024590528887843188,
          -0.03178401881213422,
          -0.007366007706677946,
          0.10543504370776335,
          -0.028082499177109255,
          -0.037853065217202886,
          0.08440513293724416
         ],
         "yaxis": "y"
        },
        {
         "hovertemplate": "variable=solana<br>Date=%{x|%B %d, %Y}<br>value=%{y}<extra></extra>",
         "legendgroup": "solana",
         "line": {
          "color": "#FF6692",
          "dash": "solid"
         },
         "marker": {
          "symbol": "circle"
         },
         "mode": "lines",
         "name": "solana",
         "orientation": "v",
         "showlegend": true,
         "type": "scatter",
         "x": [
          "2022-01-01T00:00:00",
          "2022-01-02T00:00:00",
          "2022-01-03T00:00:00",
          "2022-01-04T00:00:00",
          "2022-01-05T00:00:00",
          "2022-01-06T00:00:00",
          "2022-01-07T00:00:00",
          "2022-01-08T00:00:00",
          "2022-01-09T00:00:00",
          "2022-01-10T00:00:00",
          "2022-01-11T00:00:00",
          "2022-01-12T00:00:00",
          "2022-01-13T00:00:00",
          "2022-01-14T00:00:00",
          "2022-01-15T00:00:00",
          "2022-01-16T00:00:00",
          "2022-01-17T00:00:00",
          "2022-01-18T00:00:00",
          "2022-01-19T00:00:00",
          "2022-01-20T00:00:00",
          "2022-01-21T00:00:00",
          "2022-01-22T00:00:00",
          "2022-01-23T00:00:00",
          "2022-01-24T00:00:00",
          "2022-01-25T00:00:00",
          "2022-01-26T00:00:00",
          "2022-01-27T00:00:00",
          "2022-01-28T00:00:00",
          "2022-01-29T00:00:00",
          "2022-01-30T00:00:00",
          "2022-01-31T00:00:00",
          "2022-02-01T00:00:00",
          "2022-02-02T00:00:00",
          "2022-02-03T00:00:00",
          "2022-02-04T00:00:00",
          "2022-02-05T00:00:00",
          "2022-02-06T00:00:00",
          "2022-02-07T00:00:00",
          "2022-02-08T00:00:00",
          "2022-02-09T00:00:00",
          "2022-02-10T00:00:00",
          "2022-02-11T00:00:00",
          "2022-02-12T00:00:00",
          "2022-02-13T00:00:00",
          "2022-02-14T00:00:00",
          "2022-02-15T00:00:00",
          "2022-02-16T00:00:00",
          "2022-02-17T00:00:00",
          "2022-02-18T00:00:00",
          "2022-02-19T00:00:00",
          "2022-02-20T00:00:00",
          "2022-02-21T00:00:00",
          "2022-02-22T00:00:00",
          "2022-02-23T00:00:00",
          "2022-02-24T00:00:00",
          "2022-02-25T00:00:00",
          "2022-02-26T00:00:00",
          "2022-02-27T00:00:00",
          "2022-02-28T00:00:00",
          "2022-03-01T00:00:00"
         ],
         "xaxis": "x",
         "y": [
          null,
          0.04125071284723658,
          -0.008807718262691888,
          -0.031460375407863284,
          -0.011611075920326397,
          -0.07820787722069056,
          -0.027595451131690707,
          -0.09057664612590866,
          0.04857188877433827,
          -0.018707954167485163,
          -0.03475937168592347,
          0.03552224027811213,
          0.08466153766945284,
          -0.03386855732056526,
          -0.0016310036376484538,
          0.0106402781629924,
          0.0024485269740361915,
          -0.05206068250767204,
          0.012326661080198198,
          -0.038732586348238285,
          -0.04949742257106393,
          -0.1389137591520897,
          -0.15410496775529747,
          0.054788394743437996,
          -0.07609081733846801,
          0.04063809828309273,
          -0.027955258194041988,
          -0.03639114314536951,
          0.021554212543910323,
          0.04965052555974081,
          -0.026095247196574856,
          0.06548111071258678,
          0.10937980959042659,
          -0.0807517377115824,
          -0.004441086524582083,
          0.10349319655615985,
          0.02730399429005459,
          0.012032769331159487,
          0.021462788969005775,
          -0.03162521553156983,
          0.004670792678021174,
          -0.06797664576967444,
          -0.09548151750593004,
          -0.00815280032038157,
          -0.022238503043972235,
          0.037475760997700114,
          0.09079566006007322,
          -0.025971655416117678,
          -0.0852819144129855,
          -0.036429247707352674,
          0.013202662980138058,
          0.0017947470860382175,
          -0.0865848743611014,
          0.03802650136467478,
          -0.01620490641205874,
          0.044066554494636145,
          0.04991733114354169,
          -0.03851283159950125,
          -0.04893067166095966,
          0.1639635621800597
         ],
         "yaxis": "y"
        }
       ],
       "layout": {
        "legend": {
         "title": {
          "text": "variable"
         },
         "tracegroupgap": 0
        },
        "template": {
         "data": {
          "bar": [
           {
            "error_x": {
             "color": "#2a3f5f"
            },
            "error_y": {
             "color": "#2a3f5f"
            },
            "marker": {
             "line": {
              "color": "#E5ECF6",
              "width": 0.5
             },
             "pattern": {
              "fillmode": "overlay",
              "size": 10,
              "solidity": 0.2
             }
            },
            "type": "bar"
           }
          ],
          "barpolar": [
           {
            "marker": {
             "line": {
              "color": "#E5ECF6",
              "width": 0.5
             },
             "pattern": {
              "fillmode": "overlay",
              "size": 10,
              "solidity": 0.2
             }
            },
            "type": "barpolar"
           }
          ],
          "carpet": [
           {
            "aaxis": {
             "endlinecolor": "#2a3f5f",
             "gridcolor": "white",
             "linecolor": "white",
             "minorgridcolor": "white",
             "startlinecolor": "#2a3f5f"
            },
            "baxis": {
             "endlinecolor": "#2a3f5f",
             "gridcolor": "white",
             "linecolor": "white",
             "minorgridcolor": "white",
             "startlinecolor": "#2a3f5f"
            },
            "type": "carpet"
           }
          ],
          "choropleth": [
           {
            "colorbar": {
             "outlinewidth": 0,
             "ticks": ""
            },
            "type": "choropleth"
           }
          ],
          "contour": [
           {
            "colorbar": {
             "outlinewidth": 0,
             "ticks": ""
            },
            "colorscale": [
             [
              0,
              "#0d0887"
             ],
             [
              0.1111111111111111,
              "#46039f"
             ],
             [
              0.2222222222222222,
              "#7201a8"
             ],
             [
              0.3333333333333333,
              "#9c179e"
             ],
             [
              0.4444444444444444,
              "#bd3786"
             ],
             [
              0.5555555555555556,
              "#d8576b"
             ],
             [
              0.6666666666666666,
              "#ed7953"
             ],
             [
              0.7777777777777778,
              "#fb9f3a"
             ],
             [
              0.8888888888888888,
              "#fdca26"
             ],
             [
              1,
              "#f0f921"
             ]
            ],
            "type": "contour"
           }
          ],
          "contourcarpet": [
           {
            "colorbar": {
             "outlinewidth": 0,
             "ticks": ""
            },
            "type": "contourcarpet"
           }
          ],
          "heatmap": [
           {
            "colorbar": {
             "outlinewidth": 0,
             "ticks": ""
            },
            "colorscale": [
             [
              0,
              "#0d0887"
             ],
             [
              0.1111111111111111,
              "#46039f"
             ],
             [
              0.2222222222222222,
              "#7201a8"
             ],
             [
              0.3333333333333333,
              "#9c179e"
             ],
             [
              0.4444444444444444,
              "#bd3786"
             ],
             [
              0.5555555555555556,
              "#d8576b"
             ],
             [
              0.6666666666666666,
              "#ed7953"
             ],
             [
              0.7777777777777778,
              "#fb9f3a"
             ],
             [
              0.8888888888888888,
              "#fdca26"
             ],
             [
              1,
              "#f0f921"
             ]
            ],
            "type": "heatmap"
           }
          ],
          "heatmapgl": [
           {
            "colorbar": {
             "outlinewidth": 0,
             "ticks": ""
            },
            "colorscale": [
             [
              0,
              "#0d0887"
             ],
             [
              0.1111111111111111,
              "#46039f"
             ],
             [
              0.2222222222222222,
              "#7201a8"
             ],
             [
              0.3333333333333333,
              "#9c179e"
             ],
             [
              0.4444444444444444,
              "#bd3786"
             ],
             [
              0.5555555555555556,
              "#d8576b"
             ],
             [
              0.6666666666666666,
              "#ed7953"
             ],
             [
              0.7777777777777778,
              "#fb9f3a"
             ],
             [
              0.8888888888888888,
              "#fdca26"
             ],
             [
              1,
              "#f0f921"
             ]
            ],
            "type": "heatmapgl"
           }
          ],
          "histogram": [
           {
            "marker": {
             "pattern": {
              "fillmode": "overlay",
              "size": 10,
              "solidity": 0.2
             }
            },
            "type": "histogram"
           }
          ],
          "histogram2d": [
           {
            "colorbar": {
             "outlinewidth": 0,
             "ticks": ""
            },
            "colorscale": [
             [
              0,
              "#0d0887"
             ],
             [
              0.1111111111111111,
              "#46039f"
             ],
             [
              0.2222222222222222,
              "#7201a8"
             ],
             [
              0.3333333333333333,
              "#9c179e"
             ],
             [
              0.4444444444444444,
              "#bd3786"
             ],
             [
              0.5555555555555556,
              "#d8576b"
             ],
             [
              0.6666666666666666,
              "#ed7953"
             ],
             [
              0.7777777777777778,
              "#fb9f3a"
             ],
             [
              0.8888888888888888,
              "#fdca26"
             ],
             [
              1,
              "#f0f921"
             ]
            ],
            "type": "histogram2d"
           }
          ],
          "histogram2dcontour": [
           {
            "colorbar": {
             "outlinewidth": 0,
             "ticks": ""
            },
            "colorscale": [
             [
              0,
              "#0d0887"
             ],
             [
              0.1111111111111111,
              "#46039f"
             ],
             [
              0.2222222222222222,
              "#7201a8"
             ],
             [
              0.3333333333333333,
              "#9c179e"
             ],
             [
              0.4444444444444444,
              "#bd3786"
             ],
             [
              0.5555555555555556,
              "#d8576b"
             ],
             [
              0.6666666666666666,
              "#ed7953"
             ],
             [
              0.7777777777777778,
              "#fb9f3a"
             ],
             [
              0.8888888888888888,
              "#fdca26"
             ],
             [
              1,
              "#f0f921"
             ]
            ],
            "type": "histogram2dcontour"
           }
          ],
          "mesh3d": [
           {
            "colorbar": {
             "outlinewidth": 0,
             "ticks": ""
            },
            "type": "mesh3d"
           }
          ],
          "parcoords": [
           {
            "line": {
             "colorbar": {
              "outlinewidth": 0,
              "ticks": ""
             }
            },
            "type": "parcoords"
           }
          ],
          "pie": [
           {
            "automargin": true,
            "type": "pie"
           }
          ],
          "scatter": [
           {
            "marker": {
             "colorbar": {
              "outlinewidth": 0,
              "ticks": ""
             }
            },
            "type": "scatter"
           }
          ],
          "scatter3d": [
           {
            "line": {
             "colorbar": {
              "outlinewidth": 0,
              "ticks": ""
             }
            },
            "marker": {
             "colorbar": {
              "outlinewidth": 0,
              "ticks": ""
             }
            },
            "type": "scatter3d"
           }
          ],
          "scattercarpet": [
           {
            "marker": {
             "colorbar": {
              "outlinewidth": 0,
              "ticks": ""
             }
            },
            "type": "scattercarpet"
           }
          ],
          "scattergeo": [
           {
            "marker": {
             "colorbar": {
              "outlinewidth": 0,
              "ticks": ""
             }
            },
            "type": "scattergeo"
           }
          ],
          "scattergl": [
           {
            "marker": {
             "colorbar": {
              "outlinewidth": 0,
              "ticks": ""
             }
            },
            "type": "scattergl"
           }
          ],
          "scattermapbox": [
           {
            "marker": {
             "colorbar": {
              "outlinewidth": 0,
              "ticks": ""
             }
            },
            "type": "scattermapbox"
           }
          ],
          "scatterpolar": [
           {
            "marker": {
             "colorbar": {
              "outlinewidth": 0,
              "ticks": ""
             }
            },
            "type": "scatterpolar"
           }
          ],
          "scatterpolargl": [
           {
            "marker": {
             "colorbar": {
              "outlinewidth": 0,
              "ticks": ""
             }
            },
            "type": "scatterpolargl"
           }
          ],
          "scatterternary": [
           {
            "marker": {
             "colorbar": {
              "outlinewidth": 0,
              "ticks": ""
             }
            },
            "type": "scatterternary"
           }
          ],
          "surface": [
           {
            "colorbar": {
             "outlinewidth": 0,
             "ticks": ""
            },
            "colorscale": [
             [
              0,
              "#0d0887"
             ],
             [
              0.1111111111111111,
              "#46039f"
             ],
             [
              0.2222222222222222,
              "#7201a8"
             ],
             [
              0.3333333333333333,
              "#9c179e"
             ],
             [
              0.4444444444444444,
              "#bd3786"
             ],
             [
              0.5555555555555556,
              "#d8576b"
             ],
             [
              0.6666666666666666,
              "#ed7953"
             ],
             [
              0.7777777777777778,
              "#fb9f3a"
             ],
             [
              0.8888888888888888,
              "#fdca26"
             ],
             [
              1,
              "#f0f921"
             ]
            ],
            "type": "surface"
           }
          ],
          "table": [
           {
            "cells": {
             "fill": {
              "color": "#EBF0F8"
             },
             "line": {
              "color": "white"
             }
            },
            "header": {
             "fill": {
              "color": "#C8D4E3"
             },
             "line": {
              "color": "white"
             }
            },
            "type": "table"
           }
          ]
         },
         "layout": {
          "annotationdefaults": {
           "arrowcolor": "#2a3f5f",
           "arrowhead": 0,
           "arrowwidth": 1
          },
          "autotypenumbers": "strict",
          "coloraxis": {
           "colorbar": {
            "outlinewidth": 0,
            "ticks": ""
           }
          },
          "colorscale": {
           "diverging": [
            [
             0,
             "#8e0152"
            ],
            [
             0.1,
             "#c51b7d"
            ],
            [
             0.2,
             "#de77ae"
            ],
            [
             0.3,
             "#f1b6da"
            ],
            [
             0.4,
             "#fde0ef"
            ],
            [
             0.5,
             "#f7f7f7"
            ],
            [
             0.6,
             "#e6f5d0"
            ],
            [
             0.7,
             "#b8e186"
            ],
            [
             0.8,
             "#7fbc41"
            ],
            [
             0.9,
             "#4d9221"
            ],
            [
             1,
             "#276419"
            ]
           ],
           "sequential": [
            [
             0,
             "#0d0887"
            ],
            [
             0.1111111111111111,
             "#46039f"
            ],
            [
             0.2222222222222222,
             "#7201a8"
            ],
            [
             0.3333333333333333,
             "#9c179e"
            ],
            [
             0.4444444444444444,
             "#bd3786"
            ],
            [
             0.5555555555555556,
             "#d8576b"
            ],
            [
             0.6666666666666666,
             "#ed7953"
            ],
            [
             0.7777777777777778,
             "#fb9f3a"
            ],
            [
             0.8888888888888888,
             "#fdca26"
            ],
            [
             1,
             "#f0f921"
            ]
           ],
           "sequentialminus": [
            [
             0,
             "#0d0887"
            ],
            [
             0.1111111111111111,
             "#46039f"
            ],
            [
             0.2222222222222222,
             "#7201a8"
            ],
            [
             0.3333333333333333,
             "#9c179e"
            ],
            [
             0.4444444444444444,
             "#bd3786"
            ],
            [
             0.5555555555555556,
             "#d8576b"
            ],
            [
             0.6666666666666666,
             "#ed7953"
            ],
            [
             0.7777777777777778,
             "#fb9f3a"
            ],
            [
             0.8888888888888888,
             "#fdca26"
            ],
            [
             1,
             "#f0f921"
            ]
           ]
          },
          "colorway": [
           "#636efa",
           "#EF553B",
           "#00cc96",
           "#ab63fa",
           "#FFA15A",
           "#19d3f3",
           "#FF6692",
           "#B6E880",
           "#FF97FF",
           "#FECB52"
          ],
          "font": {
           "color": "#2a3f5f"
          },
          "geo": {
           "bgcolor": "white",
           "lakecolor": "white",
           "landcolor": "#E5ECF6",
           "showlakes": true,
           "showland": true,
           "subunitcolor": "white"
          },
          "hoverlabel": {
           "align": "left"
          },
          "hovermode": "closest",
          "mapbox": {
           "style": "light"
          },
          "paper_bgcolor": "white",
          "plot_bgcolor": "#E5ECF6",
          "polar": {
           "angularaxis": {
            "gridcolor": "white",
            "linecolor": "white",
            "ticks": ""
           },
           "bgcolor": "#E5ECF6",
           "radialaxis": {
            "gridcolor": "white",
            "linecolor": "white",
            "ticks": ""
           }
          },
          "scene": {
           "xaxis": {
            "backgroundcolor": "#E5ECF6",
            "gridcolor": "white",
            "gridwidth": 2,
            "linecolor": "white",
            "showbackground": true,
            "ticks": "",
            "zerolinecolor": "white"
           },
           "yaxis": {
            "backgroundcolor": "#E5ECF6",
            "gridcolor": "white",
            "gridwidth": 2,
            "linecolor": "white",
            "showbackground": true,
            "ticks": "",
            "zerolinecolor": "white"
           },
           "zaxis": {
            "backgroundcolor": "#E5ECF6",
            "gridcolor": "white",
            "gridwidth": 2,
            "linecolor": "white",
            "showbackground": true,
            "ticks": "",
            "zerolinecolor": "white"
           }
          },
          "shapedefaults": {
           "line": {
            "color": "#2a3f5f"
           }
          },
          "ternary": {
           "aaxis": {
            "gridcolor": "white",
            "linecolor": "white",
            "ticks": ""
           },
           "baxis": {
            "gridcolor": "white",
            "linecolor": "white",
            "ticks": ""
           },
           "bgcolor": "#E5ECF6",
           "caxis": {
            "gridcolor": "white",
            "linecolor": "white",
            "ticks": ""
           }
          },
          "title": {
           "x": 0.05
          },
          "xaxis": {
           "automargin": true,
           "gridcolor": "white",
           "linecolor": "white",
           "ticks": "",
           "title": {
            "standoff": 15
           },
           "zerolinecolor": "white",
           "zerolinewidth": 2
          },
          "yaxis": {
           "automargin": true,
           "gridcolor": "white",
           "linecolor": "white",
           "ticks": "",
           "title": {
            "standoff": 15
           },
           "zerolinecolor": "white",
           "zerolinewidth": 2
          }
         }
        },
        "title": {
         "text": "Expected Returns from 2022-01-01 to 2022-03-01"
        },
        "xaxis": {
         "anchor": "y",
         "domain": [
          0,
          1
         ],
         "dtick": "M1",
         "tickformat": "%b\n%Y",
         "title": {
          "text": "Date"
         }
        },
        "yaxis": {
         "anchor": "x",
         "domain": [
          0,
          1
         ],
         "title": {
          "text": "value"
         }
        }
       }
      }
     },
     "metadata": {},
     "output_type": "display_data"
    }
   ],
   "source": [
    "''' Daily simple returns '''\n",
    "import datetime\n",
    "import plotly.express as px\n",
    "\n",
    "simple_returns_df = market_df.copy()\n",
    "_min_date = (simple_returns_df[\"Date\"].min()).date()\n",
    "_max_date = (simple_returns_df[\"Date\"].max()).date()\n",
    "\n",
    "simple_returns_df = market_df[_l_coin_ids].pct_change(periods=1)\n",
    "simple_returns_df[\"Date\"] = market_df[\"Date\"]   #.astype('datetime[ns]')\n",
    "\n",
    "_title = \"Expected Returns from \"+str(_min_date)+\" to \"+str(_max_date)\n",
    "fig = px.line(simple_returns_df, x=\"Date\", y=simple_returns_df.columns,\n",
    "              hover_data={\"Date\": \"|%B %d, %Y\"},\n",
    "              title=_title)\n",
    "fig.update_xaxes(\n",
    "    dtick=\"M1\",\n",
    "    tickformat=\"%b\\n%Y\")\n",
    "fig.show()"
   ]
  },
  {
   "cell_type": "markdown",
   "id": "cba84322",
   "metadata": {},
   "source": [
    "## Average Daily Returns\n",
    "Calculate the average daily returns for each coin"
   ]
  },
  {
   "cell_type": "code",
   "execution_count": 7,
   "id": "582f42a4",
   "metadata": {},
   "outputs": [
    {
     "name": "stdout",
     "output_type": "stream",
     "text": [
      "Average Daily returns(%) of coins:\n",
      "\n",
      "bitcoin        -0.049808\n",
      "bitcoin_cash         NaN\n",
      "cardano        -0.423308\n",
      "ethereum       -0.286689\n",
      "litecoin       -0.323675\n",
      "ripple          0.037348\n",
      "solana         -0.678866\n",
      "dtype: float64\n"
     ]
    },
    {
     "name": "stderr",
     "output_type": "stream",
     "text": [
      "/tmp/ipykernel_11043/3504244102.py:2: FutureWarning:\n",
      "\n",
      "DataFrame.mean and DataFrame.median with numeric_only=None will include datetime64 and datetime64tz columns in a future version.\n",
      "\n"
     ]
    }
   ],
   "source": [
    "print('Average Daily returns(%) of coins:\\n')\n",
    "Avg_daily = simple_returns_df.mean()\n",
    "print(Avg_daily*100)\n",
    "#print(Avg_daily)"
   ]
  },
  {
   "cell_type": "markdown",
   "id": "35f71993",
   "metadata": {},
   "source": [
    "## Risk of Daily Returns\n",
    "The box plot will reveal the:\n",
    "1. largest spread in the box plot shows the coin with the highest _average daily returns_\n",
    "1. coin with the positive outliers translates into a higher average daily return"
   ]
  },
  {
   "cell_type": "code",
   "execution_count": 8,
   "id": "ae8267b1",
   "metadata": {},
   "outputs": [
    {
     "name": "stderr",
     "output_type": "stream",
     "text": [
      "/home/gnewy/.local/lib/python3.8/site-packages/plotly/io/_renderers.py:396: DeprecationWarning:\n",
      "\n",
      "distutils Version classes are deprecated. Use packaging.version instead.\n",
      "\n"
     ]
    },
    {
     "data": {
      "application/vnd.plotly.v1+json": {
       "config": {
        "plotlyServerURL": "https://plot.ly"
       },
       "data": [
        {
         "alignmentgroup": "True",
         "boxpoints": "all",
         "hovertemplate": "quartilemethod=bitcoin<br>variable=%{x}<br>_value=%{y}<extra></extra>",
         "jitter": 0,
         "legendgroup": "bitcoin",
         "marker": {
          "color": "#636efa"
         },
         "name": "bitcoin",
         "notched": false,
         "offsetgroup": "bitcoin",
         "orientation": "v",
         "quartilemethod": "linear",
         "showlegend": true,
         "type": "box",
         "x": [
          "value",
          "value",
          "value",
          "value",
          "value",
          "value",
          "value",
          "value",
          "value",
          "value",
          "value",
          "value",
          "value",
          "value",
          "value",
          "value",
          "value",
          "value",
          "value",
          "value",
          "value",
          "value",
          "value",
          "value",
          "value",
          "value",
          "value",
          "value",
          "value",
          "value",
          "value",
          "value",
          "value",
          "value",
          "value",
          "value",
          "value",
          "value",
          "value",
          "value",
          "value",
          "value",
          "value",
          "value",
          "value",
          "value",
          "value",
          "value",
          "value",
          "value",
          "value",
          "value",
          "value",
          "value",
          "value",
          "value",
          "value",
          "value",
          "value",
          "value"
         ],
         "x0": " ",
         "xaxis": "x",
         "y": [
          null,
          0.032366164640208694,
          -0.007756167703021122,
          -0.019170146494707163,
          -0.004643146805840326,
          -0.05537220170084878,
          -0.00990708401208007,
          -0.038787590761280244,
          0.006546662215000554,
          -0.001568991514658724,
          0.000958968781237024,
          0.021723401361812167,
          0.0282089371508365,
          -0.03117172632140508,
          0.011926006901936015,
          0.0008221787864581831,
          -0.0005812186586796608,
          -0.018991109622317204,
          0.003920281266405201,
          -0.01673483750315885,
          -0.020584380136294267,
          -0.10511110374093502,
          -0.0384414149762774,
          0.03205435118499689,
          0.012928677612409345,
          0.0058955270719052155,
          -0.0005790030281770386,
          0.0030644688962702116,
          0.020952938590953707,
          0.008091836499421579,
          -0.004508489948316874,
          0.011583659860093132,
          0.011260908576955275,
          -0.048168113390961165,
          0.0033650842488828214,
          0.10576299216857898,
          0.011500494012297136,
          0.02371500159217521,
          0.03534475188495523,
          0.0048168513319455375,
          0.004696793776009844,
          -0.017112910576851825,
          -0.02809799510248201,
          -0.005175168051171131,
          0.003142091002388492,
          0.007756161432373787,
          0.049538074559738465,
          -0.014222440954783866,
          -0.07911381129306139,
          -0.013264313263640082,
          0.0020600172102684944,
          -0.04079787473357421,
          -0.037483919404261434,
          0.03426727898964699,
          -0.025120533407813728,
          0.026562710017313362,
          0.024881863686545103,
          -0.0062748722643865,
          -0.031661556684348224,
          0.1413000050628972
         ],
         "y0": " ",
         "yaxis": "y"
        },
        {
         "alignmentgroup": "True",
         "boxpoints": "all",
         "hovertemplate": "quartilemethod=bitcoin_cash<br>variable=%{x}<br>_value=%{y}<extra></extra>",
         "jitter": 0,
         "legendgroup": "bitcoin_cash",
         "marker": {
          "color": "#EF553B"
         },
         "name": "bitcoin_cash",
         "notched": false,
         "offsetgroup": "bitcoin_cash",
         "orientation": "v",
         "quartilemethod": "linear",
         "showlegend": true,
         "type": "box",
         "x": [
          "value",
          "value",
          "value",
          "value",
          "value",
          "value",
          "value",
          "value",
          "value",
          "value",
          "value",
          "value",
          "value",
          "value",
          "value",
          "value",
          "value",
          "value",
          "value",
          "value",
          "value",
          "value",
          "value",
          "value",
          "value",
          "value",
          "value",
          "value",
          "value",
          "value",
          "value",
          "value",
          "value",
          "value",
          "value",
          "value",
          "value",
          "value",
          "value",
          "value",
          "value",
          "value",
          "value",
          "value",
          "value",
          "value",
          "value",
          "value",
          "value",
          "value",
          "value",
          "value",
          "value",
          "value",
          "value",
          "value",
          "value",
          "value",
          "value",
          "value"
         ],
         "x0": " ",
         "xaxis": "x2",
         "y": [
          null,
          null,
          null,
          null,
          null,
          null,
          null,
          null,
          null,
          null,
          null,
          null,
          null,
          null,
          null,
          null,
          null,
          null,
          null,
          null,
          null,
          null,
          null,
          null,
          null,
          null,
          null,
          null,
          null,
          null,
          null,
          null,
          null,
          null,
          null,
          null,
          null,
          null,
          null,
          null,
          null,
          null,
          null,
          null,
          null,
          null,
          null,
          null,
          null,
          null,
          null,
          null,
          null,
          null,
          null,
          null,
          null,
          null,
          null,
          null
         ],
         "y0": " ",
         "yaxis": "y2"
        },
        {
         "alignmentgroup": "True",
         "boxpoints": "all",
         "hovertemplate": "quartilemethod=cardano<br>variable=%{x}<br>_value=%{y}<extra></extra>",
         "jitter": 0,
         "legendgroup": "cardano",
         "marker": {
          "color": "#00cc96"
         },
         "name": "cardano",
         "notched": false,
         "offsetgroup": "cardano",
         "orientation": "v",
         "quartilemethod": "linear",
         "showlegend": true,
         "type": "box",
         "x": [
          "value",
          "value",
          "value",
          "value",
          "value",
          "value",
          "value",
          "value",
          "value",
          "value",
          "value",
          "value",
          "value",
          "value",
          "value",
          "value",
          "value",
          "value",
          "value",
          "value",
          "value",
          "value",
          "value",
          "value",
          "value",
          "value",
          "value",
          "value",
          "value",
          "value",
          "value",
          "value",
          "value",
          "value",
          "value",
          "value",
          "value",
          "value",
          "value",
          "value",
          "value",
          "value",
          "value",
          "value",
          "value",
          "value",
          "value",
          "value",
          "value",
          "value",
          "value",
          "value",
          "value",
          "value",
          "value",
          "value",
          "value",
          "value",
          "value",
          "value"
         ],
         "x0": " ",
         "xaxis": "x3",
         "y": [
          null,
          0.04749770542560672,
          0.002072180008870328,
          -0.038669963541408614,
          -0.005108695523067697,
          -0.05640961991754112,
          0.03025018951858338,
          -0.05440201145776746,
          -0.016318791859635362,
          -0.018821913525025713,
          -0.034119805292363026,
          0.04947644918020622,
          0.09956398340937467,
          -0.04946400240239446,
          0.03341171530725262,
          0.011654054722640694,
          0.08834119545362418,
          0.11512469250169333,
          -0.0648369391895447,
          -0.08723809597508325,
          -0.05711184147019843,
          -0.10560693197214832,
          -0.05806472258115514,
          0.04966163780007271,
          -0.04587627239653236,
          -0.02298130766174067,
          0.03769438538017811,
          -0.033970148476733186,
          0.003917120390494189,
          0.007978200962335258,
          -0.019119519565545584,
          0.010966767492424312,
          0.03221037157212714,
          -0.05035142050208952,
          0.024920758627068995,
          0.06876013162965733,
          0.004792178551804138,
          0.013308546220169193,
          0.04508155414710813,
          -0.017331323698227874,
          0.013920653468090904,
          -0.036241755180022595,
          -0.06186934345553474,
          -0.02386093724124516,
          -0.009969228514589035,
          0.005601835161968216,
          0.057924243849117873,
          -0.02113608681793755,
          -0.0615193694115328,
          -0.021877990647638734,
          -0.0013020576135811535,
          -0.05831117127715024,
          -0.08164924569545562,
          0.03450678850331235,
          -0.022948163310602232,
          -0.02166018378926049,
          0.05199076404513958,
          -0.012364889331399231,
          -0.030715345010765227,
          0.11084910010206883
         ],
         "y0": " ",
         "yaxis": "y3"
        },
        {
         "alignmentgroup": "True",
         "boxpoints": "all",
         "hovertemplate": "quartilemethod=ethereum<br>variable=%{x}<br>_value=%{y}<extra></extra>",
         "jitter": 0,
         "legendgroup": "ethereum",
         "marker": {
          "color": "#ab63fa"
         },
         "name": "ethereum",
         "notched": false,
         "offsetgroup": "ethereum",
         "orientation": "v",
         "quartilemethod": "linear",
         "showlegend": true,
         "type": "box",
         "x": [
          "value",
          "value",
          "value",
          "value",
          "value",
          "value",
          "value",
          "value",
          "value",
          "value",
          "value",
          "value",
          "value",
          "value",
          "value",
          "value",
          "value",
          "value",
          "value",
          "value",
          "value",
          "value",
          "value",
          "value",
          "value",
          "value",
          "value",
          "value",
          "value",
          "value",
          "value",
          "value",
          "value",
          "value",
          "value",
          "value",
          "value",
          "value",
          "value",
          "value",
          "value",
          "value",
          "value",
          "value",
          "value",
          "value",
          "value",
          "value",
          "value",
          "value",
          "value",
          "value",
          "value",
          "value",
          "value",
          "value",
          "value",
          "value",
          "value",
          "value"
         ],
         "x0": " ",
         "xaxis": "x4",
         "y": [
          null,
          0.022769499316086073,
          0.01566838924269298,
          -0.018042619611836064,
          0.013296043415589764,
          -0.06706389371731813,
          -0.0387568783438621,
          -0.06468535844908829,
          -0.030289760313331082,
          0.014835394058242857,
          -0.020160754917435963,
          0.053993920213696756,
          0.039373535022335204,
          -0.036555987331399975,
          0.01707212024103466,
          0.0056620842897256995,
          0.008397439570706489,
          -0.041985010699966074,
          -0.014370675233651431,
          -0.01752257549589331,
          -0.0288602427548601,
          -0.1495810108866561,
          -0.06471527628175311,
          0.05518288563492635,
          -0.03504003132142419,
          0.0057530205690004,
          0.006881151654487105,
          -0.026693430024087972,
          0.05724162227801344,
          0.018909982594102814,
          0.004977117181000912,
          0.028085904860043476,
          0.04269762882052275,
          -0.0381292424446793,
          -0.011804750010205645,
          0.11670548367389233,
          0.01986225681501219,
          0.012272858500754769,
          0.028173908191698516,
          -0.00613024522149086,
          0.035496563735125,
          -0.048908976418805095,
          -0.04952557878100139,
          -0.0074709641968619955,
          -0.006517036763480699,
          0.017714378162877686,
          0.08658196567187737,
          -0.014980018136963924,
          -0.08195058595170701,
          -0.03259933152242489,
          -0.009529751694358435,
          -0.04775690552455303,
          -0.01961512326140369,
          0.02644642263300301,
          -0.01894906231377691,
          0.0017232545137515487,
          0.07091254921320589,
          -0.0029368329389691805,
          -0.05434968621326508,
          0.10964356221690097
         ],
         "y0": " ",
         "yaxis": "y4"
        },
        {
         "alignmentgroup": "True",
         "boxpoints": "all",
         "hovertemplate": "quartilemethod=litecoin<br>variable=%{x}<br>_value=%{y}<extra></extra>",
         "jitter": 0,
         "legendgroup": "litecoin",
         "marker": {
          "color": "#FFA15A"
         },
         "name": "litecoin",
         "notched": false,
         "offsetgroup": "litecoin",
         "orientation": "v",
         "quartilemethod": "linear",
         "showlegend": true,
         "type": "box",
         "x": [
          "value",
          "value",
          "value",
          "value",
          "value",
          "value",
          "value",
          "value",
          "value",
          "value",
          "value",
          "value",
          "value",
          "value",
          "value",
          "value",
          "value",
          "value",
          "value",
          "value",
          "value",
          "value",
          "value",
          "value",
          "value",
          "value",
          "value",
          "value",
          "value",
          "value",
          "value",
          "value",
          "value",
          "value",
          "value",
          "value",
          "value",
          "value",
          "value",
          "value",
          "value",
          "value",
          "value",
          "value",
          "value",
          "value",
          "value",
          "value",
          "value",
          "value",
          "value",
          "value",
          "value",
          "value",
          "value",
          "value",
          "value",
          "value",
          "value",
          "value"
         ],
         "x0": " ",
         "xaxis": "x5",
         "y": [
          null,
          0.030300601389574133,
          0.004735752148165462,
          -0.020355129360937196,
          -0.005941698554715824,
          -0.07771720524744041,
          0.004881200377479411,
          -0.039888234416655455,
          -0.010103289627878875,
          0.007102343130657607,
          -0.031988888019426565,
          0.037379862583146295,
          0.07767344970183832,
          -0.03556767702651398,
          0.05884832971298004,
          0.020502218988668997,
          -0.007117914259028635,
          0.0352357274209707,
          -0.06527169889327888,
          -0.03430035832650569,
          -0.03822549027487909,
          -0.1275821997202623,
          -0.05459581186913198,
          0.029429516162038594,
          -0.01613313301749375,
          -0.014880043128515874,
          -0.007589484061210405,
          -0.005175221102014516,
          0.024701629289960225,
          0.010888927810357218,
          -0.016565408831721307,
          0.004965896544189885,
          0.05622377190135741,
          -0.06190370815880253,
          0.016851752657624397,
          0.08950812696776667,
          0.01940320788837635,
          0.04272778955109491,
          0.07502279660616451,
          -0.021984763762127768,
          0.0498266707509496,
          -0.038065583774463674,
          -0.0673597922429745,
          0.003265881448400565,
          -0.003755840843288616,
          -0.010747912442987784,
          0.05998262613725469,
          -0.029612947237145915,
          -0.09451966466737749,
          -0.00974372385684763,
          0.006037413340618691,
          -0.042568608912867734,
          -0.061960819336615236,
          0.0348918111908203,
          -0.014763634882248411,
          -0.01619339940082165,
          0.050722749013329516,
          -0.013406448717514285,
          -0.046296051397896054,
          0.0998033477858995
         ],
         "y0": " ",
         "yaxis": "y5"
        },
        {
         "alignmentgroup": "True",
         "boxpoints": "all",
         "hovertemplate": "quartilemethod=ripple<br>variable=%{x}<br>_value=%{y}<extra></extra>",
         "jitter": 0,
         "legendgroup": "ripple",
         "marker": {
          "color": "#19d3f3"
         },
         "name": "ripple",
         "notched": false,
         "offsetgroup": "ripple",
         "orientation": "v",
         "quartilemethod": "linear",
         "showlegend": true,
         "type": "box",
         "x": [
          "value",
          "value",
          "value",
          "value",
          "value",
          "value",
          "value",
          "value",
          "value",
          "value",
          "value",
          "value",
          "value",
          "value",
          "value",
          "value",
          "value",
          "value",
          "value",
          "value",
          "value",
          "value",
          "value",
          "value",
          "value",
          "value",
          "value",
          "value",
          "value",
          "value",
          "value",
          "value",
          "value",
          "value",
          "value",
          "value",
          "value",
          "value",
          "value",
          "value",
          "value",
          "value",
          "value",
          "value",
          "value",
          "value",
          "value",
          "value",
          "value",
          "value",
          "value",
          "value",
          "value",
          "value",
          "value",
          "value",
          "value",
          "value",
          "value",
          "value"
         ],
         "x0": " ",
         "xaxis": "x6",
         "y": [
          null,
          0.023576900842713133,
          0.011763117411203616,
          -0.030820214392861534,
          -0.00744754206268694,
          -0.059831732087544776,
          0.00939123067133174,
          -0.025088875981924885,
          -0.018767268282425587,
          0.004083444467548825,
          -0.01762136002757353,
          0.04276652683949944,
          0.037873458840088414,
          -0.03717420386380055,
          0.004222557221182255,
          0.009344257891464425,
          -0.002310415966769619,
          -0.018424965169656304,
          -0.014778013060591566,
          -0.015793558517616657,
          -0.0233717247405687,
          -0.11609023125225437,
          -0.06414345389297826,
          0.05173058093054661,
          -0.02158526549935169,
          0.007612012335188156,
          0.006119536144618021,
          -0.02256648946548856,
          0.005439714777973004,
          0.0053787628110011365,
          -0.020198115558216267,
          0.024355712085026404,
          0.017988419090693375,
          -0.04382174586309995,
          0.013722244135488948,
          0.06695066945839012,
          0.03315180391481998,
          0.020714798321784134,
          0.20406270596946663,
          0.06642835297164518,
          0.0015619610262149752,
          -0.050169875049370316,
          -0.0912238829380485,
          0.07404546537728707,
          -0.008015302014239167,
          -0.009230280423848325,
          0.06205096835515711,
          -0.01585478045082267,
          -0.08021340779434016,
          0.021927462721181845,
          0.04731512575290009,
          -0.05670824330019586,
          -0.08963670713692107,
          0.024590528887843188,
          -0.03178401881213422,
          -0.007366007706677946,
          0.10543504370776335,
          -0.028082499177109255,
          -0.037853065217202886,
          0.08440513293724416
         ],
         "y0": " ",
         "yaxis": "y6"
        },
        {
         "alignmentgroup": "True",
         "boxpoints": "all",
         "hovertemplate": "quartilemethod=solana<br>variable=%{x}<br>_value=%{y}<extra></extra>",
         "jitter": 0,
         "legendgroup": "solana",
         "marker": {
          "color": "#FF6692"
         },
         "name": "solana",
         "notched": false,
         "offsetgroup": "solana",
         "orientation": "v",
         "quartilemethod": "linear",
         "showlegend": true,
         "type": "box",
         "x": [
          "value",
          "value",
          "value",
          "value",
          "value",
          "value",
          "value",
          "value",
          "value",
          "value",
          "value",
          "value",
          "value",
          "value",
          "value",
          "value",
          "value",
          "value",
          "value",
          "value",
          "value",
          "value",
          "value",
          "value",
          "value",
          "value",
          "value",
          "value",
          "value",
          "value",
          "value",
          "value",
          "value",
          "value",
          "value",
          "value",
          "value",
          "value",
          "value",
          "value",
          "value",
          "value",
          "value",
          "value",
          "value",
          "value",
          "value",
          "value",
          "value",
          "value",
          "value",
          "value",
          "value",
          "value",
          "value",
          "value",
          "value",
          "value",
          "value",
          "value"
         ],
         "x0": " ",
         "xaxis": "x7",
         "y": [
          null,
          0.04125071284723658,
          -0.008807718262691888,
          -0.031460375407863284,
          -0.011611075920326397,
          -0.07820787722069056,
          -0.027595451131690707,
          -0.09057664612590866,
          0.04857188877433827,
          -0.018707954167485163,
          -0.03475937168592347,
          0.03552224027811213,
          0.08466153766945284,
          -0.03386855732056526,
          -0.0016310036376484538,
          0.0106402781629924,
          0.0024485269740361915,
          -0.05206068250767204,
          0.012326661080198198,
          -0.038732586348238285,
          -0.04949742257106393,
          -0.1389137591520897,
          -0.15410496775529747,
          0.054788394743437996,
          -0.07609081733846801,
          0.04063809828309273,
          -0.027955258194041988,
          -0.03639114314536951,
          0.021554212543910323,
          0.04965052555974081,
          -0.026095247196574856,
          0.06548111071258678,
          0.10937980959042659,
          -0.0807517377115824,
          -0.004441086524582083,
          0.10349319655615985,
          0.02730399429005459,
          0.012032769331159487,
          0.021462788969005775,
          -0.03162521553156983,
          0.004670792678021174,
          -0.06797664576967444,
          -0.09548151750593004,
          -0.00815280032038157,
          -0.022238503043972235,
          0.037475760997700114,
          0.09079566006007322,
          -0.025971655416117678,
          -0.0852819144129855,
          -0.036429247707352674,
          0.013202662980138058,
          0.0017947470860382175,
          -0.0865848743611014,
          0.03802650136467478,
          -0.01620490641205874,
          0.044066554494636145,
          0.04991733114354169,
          -0.03851283159950125,
          -0.04893067166095966,
          0.1639635621800597
         ],
         "y0": " ",
         "yaxis": "y7"
        }
       ],
       "layout": {
        "annotations": [
         {
          "font": {},
          "showarrow": false,
          "text": "quartilemethod=bitcoin",
          "x": 0.06285714285714285,
          "xanchor": "center",
          "xref": "paper",
          "y": 1,
          "yanchor": "bottom",
          "yref": "paper"
         },
         {
          "font": {},
          "showarrow": false,
          "text": "quartilemethod=bitcoin_cash",
          "x": 0.20857142857142852,
          "xanchor": "center",
          "xref": "paper",
          "y": 1,
          "yanchor": "bottom",
          "yref": "paper"
         },
         {
          "font": {},
          "showarrow": false,
          "text": "quartilemethod=cardano",
          "x": 0.3542857142857142,
          "xanchor": "center",
          "xref": "paper",
          "y": 1,
          "yanchor": "bottom",
          "yref": "paper"
         },
         {
          "font": {},
          "showarrow": false,
          "text": "quartilemethod=ethereum",
          "x": 0.5,
          "xanchor": "center",
          "xref": "paper",
          "y": 1,
          "yanchor": "bottom",
          "yref": "paper"
         },
         {
          "font": {},
          "showarrow": false,
          "text": "quartilemethod=litecoin",
          "x": 0.6457142857142856,
          "xanchor": "center",
          "xref": "paper",
          "y": 1,
          "yanchor": "bottom",
          "yref": "paper"
         },
         {
          "font": {},
          "showarrow": false,
          "text": "quartilemethod=ripple",
          "x": 0.7914285714285713,
          "xanchor": "center",
          "xref": "paper",
          "y": 1,
          "yanchor": "bottom",
          "yref": "paper"
         },
         {
          "font": {},
          "showarrow": false,
          "text": "quartilemethod=solana",
          "x": 0.9371428571428569,
          "xanchor": "center",
          "xref": "paper",
          "y": 1,
          "yanchor": "bottom",
          "yref": "paper"
         }
        ],
        "boxmode": "overlay",
        "legend": {
         "title": {
          "text": "quartilemethod"
         },
         "tracegroupgap": 0
        },
        "template": {
         "data": {
          "bar": [
           {
            "error_x": {
             "color": "#2a3f5f"
            },
            "error_y": {
             "color": "#2a3f5f"
            },
            "marker": {
             "line": {
              "color": "#E5ECF6",
              "width": 0.5
             },
             "pattern": {
              "fillmode": "overlay",
              "size": 10,
              "solidity": 0.2
             }
            },
            "type": "bar"
           }
          ],
          "barpolar": [
           {
            "marker": {
             "line": {
              "color": "#E5ECF6",
              "width": 0.5
             },
             "pattern": {
              "fillmode": "overlay",
              "size": 10,
              "solidity": 0.2
             }
            },
            "type": "barpolar"
           }
          ],
          "carpet": [
           {
            "aaxis": {
             "endlinecolor": "#2a3f5f",
             "gridcolor": "white",
             "linecolor": "white",
             "minorgridcolor": "white",
             "startlinecolor": "#2a3f5f"
            },
            "baxis": {
             "endlinecolor": "#2a3f5f",
             "gridcolor": "white",
             "linecolor": "white",
             "minorgridcolor": "white",
             "startlinecolor": "#2a3f5f"
            },
            "type": "carpet"
           }
          ],
          "choropleth": [
           {
            "colorbar": {
             "outlinewidth": 0,
             "ticks": ""
            },
            "type": "choropleth"
           }
          ],
          "contour": [
           {
            "colorbar": {
             "outlinewidth": 0,
             "ticks": ""
            },
            "colorscale": [
             [
              0,
              "#0d0887"
             ],
             [
              0.1111111111111111,
              "#46039f"
             ],
             [
              0.2222222222222222,
              "#7201a8"
             ],
             [
              0.3333333333333333,
              "#9c179e"
             ],
             [
              0.4444444444444444,
              "#bd3786"
             ],
             [
              0.5555555555555556,
              "#d8576b"
             ],
             [
              0.6666666666666666,
              "#ed7953"
             ],
             [
              0.7777777777777778,
              "#fb9f3a"
             ],
             [
              0.8888888888888888,
              "#fdca26"
             ],
             [
              1,
              "#f0f921"
             ]
            ],
            "type": "contour"
           }
          ],
          "contourcarpet": [
           {
            "colorbar": {
             "outlinewidth": 0,
             "ticks": ""
            },
            "type": "contourcarpet"
           }
          ],
          "heatmap": [
           {
            "colorbar": {
             "outlinewidth": 0,
             "ticks": ""
            },
            "colorscale": [
             [
              0,
              "#0d0887"
             ],
             [
              0.1111111111111111,
              "#46039f"
             ],
             [
              0.2222222222222222,
              "#7201a8"
             ],
             [
              0.3333333333333333,
              "#9c179e"
             ],
             [
              0.4444444444444444,
              "#bd3786"
             ],
             [
              0.5555555555555556,
              "#d8576b"
             ],
             [
              0.6666666666666666,
              "#ed7953"
             ],
             [
              0.7777777777777778,
              "#fb9f3a"
             ],
             [
              0.8888888888888888,
              "#fdca26"
             ],
             [
              1,
              "#f0f921"
             ]
            ],
            "type": "heatmap"
           }
          ],
          "heatmapgl": [
           {
            "colorbar": {
             "outlinewidth": 0,
             "ticks": ""
            },
            "colorscale": [
             [
              0,
              "#0d0887"
             ],
             [
              0.1111111111111111,
              "#46039f"
             ],
             [
              0.2222222222222222,
              "#7201a8"
             ],
             [
              0.3333333333333333,
              "#9c179e"
             ],
             [
              0.4444444444444444,
              "#bd3786"
             ],
             [
              0.5555555555555556,
              "#d8576b"
             ],
             [
              0.6666666666666666,
              "#ed7953"
             ],
             [
              0.7777777777777778,
              "#fb9f3a"
             ],
             [
              0.8888888888888888,
              "#fdca26"
             ],
             [
              1,
              "#f0f921"
             ]
            ],
            "type": "heatmapgl"
           }
          ],
          "histogram": [
           {
            "marker": {
             "pattern": {
              "fillmode": "overlay",
              "size": 10,
              "solidity": 0.2
             }
            },
            "type": "histogram"
           }
          ],
          "histogram2d": [
           {
            "colorbar": {
             "outlinewidth": 0,
             "ticks": ""
            },
            "colorscale": [
             [
              0,
              "#0d0887"
             ],
             [
              0.1111111111111111,
              "#46039f"
             ],
             [
              0.2222222222222222,
              "#7201a8"
             ],
             [
              0.3333333333333333,
              "#9c179e"
             ],
             [
              0.4444444444444444,
              "#bd3786"
             ],
             [
              0.5555555555555556,
              "#d8576b"
             ],
             [
              0.6666666666666666,
              "#ed7953"
             ],
             [
              0.7777777777777778,
              "#fb9f3a"
             ],
             [
              0.8888888888888888,
              "#fdca26"
             ],
             [
              1,
              "#f0f921"
             ]
            ],
            "type": "histogram2d"
           }
          ],
          "histogram2dcontour": [
           {
            "colorbar": {
             "outlinewidth": 0,
             "ticks": ""
            },
            "colorscale": [
             [
              0,
              "#0d0887"
             ],
             [
              0.1111111111111111,
              "#46039f"
             ],
             [
              0.2222222222222222,
              "#7201a8"
             ],
             [
              0.3333333333333333,
              "#9c179e"
             ],
             [
              0.4444444444444444,
              "#bd3786"
             ],
             [
              0.5555555555555556,
              "#d8576b"
             ],
             [
              0.6666666666666666,
              "#ed7953"
             ],
             [
              0.7777777777777778,
              "#fb9f3a"
             ],
             [
              0.8888888888888888,
              "#fdca26"
             ],
             [
              1,
              "#f0f921"
             ]
            ],
            "type": "histogram2dcontour"
           }
          ],
          "mesh3d": [
           {
            "colorbar": {
             "outlinewidth": 0,
             "ticks": ""
            },
            "type": "mesh3d"
           }
          ],
          "parcoords": [
           {
            "line": {
             "colorbar": {
              "outlinewidth": 0,
              "ticks": ""
             }
            },
            "type": "parcoords"
           }
          ],
          "pie": [
           {
            "automargin": true,
            "type": "pie"
           }
          ],
          "scatter": [
           {
            "marker": {
             "colorbar": {
              "outlinewidth": 0,
              "ticks": ""
             }
            },
            "type": "scatter"
           }
          ],
          "scatter3d": [
           {
            "line": {
             "colorbar": {
              "outlinewidth": 0,
              "ticks": ""
             }
            },
            "marker": {
             "colorbar": {
              "outlinewidth": 0,
              "ticks": ""
             }
            },
            "type": "scatter3d"
           }
          ],
          "scattercarpet": [
           {
            "marker": {
             "colorbar": {
              "outlinewidth": 0,
              "ticks": ""
             }
            },
            "type": "scattercarpet"
           }
          ],
          "scattergeo": [
           {
            "marker": {
             "colorbar": {
              "outlinewidth": 0,
              "ticks": ""
             }
            },
            "type": "scattergeo"
           }
          ],
          "scattergl": [
           {
            "marker": {
             "colorbar": {
              "outlinewidth": 0,
              "ticks": ""
             }
            },
            "type": "scattergl"
           }
          ],
          "scattermapbox": [
           {
            "marker": {
             "colorbar": {
              "outlinewidth": 0,
              "ticks": ""
             }
            },
            "type": "scattermapbox"
           }
          ],
          "scatterpolar": [
           {
            "marker": {
             "colorbar": {
              "outlinewidth": 0,
              "ticks": ""
             }
            },
            "type": "scatterpolar"
           }
          ],
          "scatterpolargl": [
           {
            "marker": {
             "colorbar": {
              "outlinewidth": 0,
              "ticks": ""
             }
            },
            "type": "scatterpolargl"
           }
          ],
          "scatterternary": [
           {
            "marker": {
             "colorbar": {
              "outlinewidth": 0,
              "ticks": ""
             }
            },
            "type": "scatterternary"
           }
          ],
          "surface": [
           {
            "colorbar": {
             "outlinewidth": 0,
             "ticks": ""
            },
            "colorscale": [
             [
              0,
              "#0d0887"
             ],
             [
              0.1111111111111111,
              "#46039f"
             ],
             [
              0.2222222222222222,
              "#7201a8"
             ],
             [
              0.3333333333333333,
              "#9c179e"
             ],
             [
              0.4444444444444444,
              "#bd3786"
             ],
             [
              0.5555555555555556,
              "#d8576b"
             ],
             [
              0.6666666666666666,
              "#ed7953"
             ],
             [
              0.7777777777777778,
              "#fb9f3a"
             ],
             [
              0.8888888888888888,
              "#fdca26"
             ],
             [
              1,
              "#f0f921"
             ]
            ],
            "type": "surface"
           }
          ],
          "table": [
           {
            "cells": {
             "fill": {
              "color": "#EBF0F8"
             },
             "line": {
              "color": "white"
             }
            },
            "header": {
             "fill": {
              "color": "#C8D4E3"
             },
             "line": {
              "color": "white"
             }
            },
            "type": "table"
           }
          ]
         },
         "layout": {
          "annotationdefaults": {
           "arrowcolor": "#2a3f5f",
           "arrowhead": 0,
           "arrowwidth": 1
          },
          "autotypenumbers": "strict",
          "coloraxis": {
           "colorbar": {
            "outlinewidth": 0,
            "ticks": ""
           }
          },
          "colorscale": {
           "diverging": [
            [
             0,
             "#8e0152"
            ],
            [
             0.1,
             "#c51b7d"
            ],
            [
             0.2,
             "#de77ae"
            ],
            [
             0.3,
             "#f1b6da"
            ],
            [
             0.4,
             "#fde0ef"
            ],
            [
             0.5,
             "#f7f7f7"
            ],
            [
             0.6,
             "#e6f5d0"
            ],
            [
             0.7,
             "#b8e186"
            ],
            [
             0.8,
             "#7fbc41"
            ],
            [
             0.9,
             "#4d9221"
            ],
            [
             1,
             "#276419"
            ]
           ],
           "sequential": [
            [
             0,
             "#0d0887"
            ],
            [
             0.1111111111111111,
             "#46039f"
            ],
            [
             0.2222222222222222,
             "#7201a8"
            ],
            [
             0.3333333333333333,
             "#9c179e"
            ],
            [
             0.4444444444444444,
             "#bd3786"
            ],
            [
             0.5555555555555556,
             "#d8576b"
            ],
            [
             0.6666666666666666,
             "#ed7953"
            ],
            [
             0.7777777777777778,
             "#fb9f3a"
            ],
            [
             0.8888888888888888,
             "#fdca26"
            ],
            [
             1,
             "#f0f921"
            ]
           ],
           "sequentialminus": [
            [
             0,
             "#0d0887"
            ],
            [
             0.1111111111111111,
             "#46039f"
            ],
            [
             0.2222222222222222,
             "#7201a8"
            ],
            [
             0.3333333333333333,
             "#9c179e"
            ],
            [
             0.4444444444444444,
             "#bd3786"
            ],
            [
             0.5555555555555556,
             "#d8576b"
            ],
            [
             0.6666666666666666,
             "#ed7953"
            ],
            [
             0.7777777777777778,
             "#fb9f3a"
            ],
            [
             0.8888888888888888,
             "#fdca26"
            ],
            [
             1,
             "#f0f921"
            ]
           ]
          },
          "colorway": [
           "#636efa",
           "#EF553B",
           "#00cc96",
           "#ab63fa",
           "#FFA15A",
           "#19d3f3",
           "#FF6692",
           "#B6E880",
           "#FF97FF",
           "#FECB52"
          ],
          "font": {
           "color": "#2a3f5f"
          },
          "geo": {
           "bgcolor": "white",
           "lakecolor": "white",
           "landcolor": "#E5ECF6",
           "showlakes": true,
           "showland": true,
           "subunitcolor": "white"
          },
          "hoverlabel": {
           "align": "left"
          },
          "hovermode": "closest",
          "mapbox": {
           "style": "light"
          },
          "paper_bgcolor": "white",
          "plot_bgcolor": "#E5ECF6",
          "polar": {
           "angularaxis": {
            "gridcolor": "white",
            "linecolor": "white",
            "ticks": ""
           },
           "bgcolor": "#E5ECF6",
           "radialaxis": {
            "gridcolor": "white",
            "linecolor": "white",
            "ticks": ""
           }
          },
          "scene": {
           "xaxis": {
            "backgroundcolor": "#E5ECF6",
            "gridcolor": "white",
            "gridwidth": 2,
            "linecolor": "white",
            "showbackground": true,
            "ticks": "",
            "zerolinecolor": "white"
           },
           "yaxis": {
            "backgroundcolor": "#E5ECF6",
            "gridcolor": "white",
            "gridwidth": 2,
            "linecolor": "white",
            "showbackground": true,
            "ticks": "",
            "zerolinecolor": "white"
           },
           "zaxis": {
            "backgroundcolor": "#E5ECF6",
            "gridcolor": "white",
            "gridwidth": 2,
            "linecolor": "white",
            "showbackground": true,
            "ticks": "",
            "zerolinecolor": "white"
           }
          },
          "shapedefaults": {
           "line": {
            "color": "#2a3f5f"
           }
          },
          "ternary": {
           "aaxis": {
            "gridcolor": "white",
            "linecolor": "white",
            "ticks": ""
           },
           "baxis": {
            "gridcolor": "white",
            "linecolor": "white",
            "ticks": ""
           },
           "bgcolor": "#E5ECF6",
           "caxis": {
            "gridcolor": "white",
            "linecolor": "white",
            "ticks": ""
           }
          },
          "title": {
           "x": 0.05
          },
          "xaxis": {
           "automargin": true,
           "gridcolor": "white",
           "linecolor": "white",
           "ticks": "",
           "title": {
            "standoff": 15
           },
           "zerolinecolor": "white",
           "zerolinewidth": 2
          },
          "yaxis": {
           "automargin": true,
           "gridcolor": "white",
           "linecolor": "white",
           "ticks": "",
           "title": {
            "standoff": 15
           },
           "zerolinecolor": "white",
           "zerolinewidth": 2
          }
         }
        },
        "title": {
         "text": "Risk Box Plot from 2022-01-01 to 2022-03-01"
        },
        "xaxis": {
         "anchor": "y",
         "domain": [
          0,
          0.1257142857142857
         ],
         "title": {
          "text": "variable"
         }
        },
        "xaxis2": {
         "anchor": "y2",
         "domain": [
          0.14571428571428569,
          0.27142857142857135
         ],
         "matches": "x",
         "title": {
          "text": "variable"
         }
        },
        "xaxis3": {
         "anchor": "y3",
         "domain": [
          0.29142857142857137,
          0.41714285714285704
         ],
         "matches": "x",
         "title": {
          "text": "variable"
         }
        },
        "xaxis4": {
         "anchor": "y4",
         "domain": [
          0.4371428571428571,
          0.5628571428571428
         ],
         "matches": "x",
         "title": {
          "text": "variable"
         }
        },
        "xaxis5": {
         "anchor": "y5",
         "domain": [
          0.5828571428571427,
          0.7085714285714284
         ],
         "matches": "x",
         "title": {
          "text": "variable"
         }
        },
        "xaxis6": {
         "anchor": "y6",
         "domain": [
          0.7285714285714284,
          0.8542857142857141
         ],
         "matches": "x",
         "title": {
          "text": "variable"
         }
        },
        "xaxis7": {
         "anchor": "y7",
         "domain": [
          0.8742857142857141,
          0.9999999999999998
         ],
         "matches": "x",
         "title": {
          "text": "variable"
         }
        },
        "yaxis": {
         "anchor": "x",
         "domain": [
          0,
          1
         ],
         "title": {
          "text": "_value"
         }
        },
        "yaxis2": {
         "anchor": "x2",
         "domain": [
          0,
          1
         ],
         "matches": "y",
         "showticklabels": false
        },
        "yaxis3": {
         "anchor": "x3",
         "domain": [
          0,
          1
         ],
         "matches": "y",
         "showticklabels": false
        },
        "yaxis4": {
         "anchor": "x4",
         "domain": [
          0,
          1
         ],
         "matches": "y",
         "showticklabels": false
        },
        "yaxis5": {
         "anchor": "x5",
         "domain": [
          0,
          1
         ],
         "matches": "y",
         "showticklabels": false
        },
        "yaxis6": {
         "anchor": "x6",
         "domain": [
          0,
          1
         ],
         "matches": "y",
         "showticklabels": false
        },
        "yaxis7": {
         "anchor": "x7",
         "domain": [
          0,
          1
         ],
         "matches": "y",
         "showticklabels": false
        }
       }
      }
     },
     "metadata": {},
     "output_type": "display_data"
    }
   ],
   "source": [
    "import plotly.express as px\n",
    "\n",
    "_title = \"Risk Box Plot from \"+str(_min_date)+\" to \"+str(_max_date)\n",
    "\n",
    "df = simple_returns_df[_l_coin_ids].melt(var_name=\"quartilemethod\")\n",
    "\n",
    "fig = px.box(df, facet_col=\"quartilemethod\", color=\"quartilemethod\",\n",
    "             boxmode=\"overlay\", points='all', title=_title)\n",
    "\n",
    "for col_idx, col_name in enumerate(_l_coin_ids):\n",
    "    # use: quartilemethod = {linear, inclusive, exclusive}\n",
    "    fig.update_traces(quartilemethod=\"linear\", jitter=0, col=col_idx)\n",
    "fig.show()"
   ]
  },
  {
   "cell_type": "markdown",
   "id": "6e482b4c",
   "metadata": {},
   "source": [
    "## Returns Per Unit Risk\n",
    "1. Calculate each coins' ___standard deviation___\n",
    "1. Calculate ___periodic standard deviation___ (annualized standard deviation)\n",
    "1. Coin with higher ratio is better beacuse it has the best ___Return to Risk ratio___\n",
    "1. Also known as the ___Sharpe Ratio___\n",
    "   1. it is a measure of risk-adjusted return\n",
    "   1. it describes how much excess return is  receive for the volatility of holding a riskier asset"
   ]
  },
  {
   "cell_type": "code",
   "execution_count": 13,
   "id": "76923688",
   "metadata": {},
   "outputs": [
    {
     "name": "stdout",
     "output_type": "stream",
     "text": [
      "Annualized Standard Deviation Volatality for 31 trading days\n",
      "of individual coins on the basis of daily simple returns.\n",
      "bitcoin         15.461410\n",
      "bitcoin_cash          NaN\n",
      "cardano         29.902032\n",
      "ethereum        23.998057\n",
      "litecoin        22.840896\n",
      "ripple          18.407503\n",
      "solana          31.297766\n",
      "dtype: float64\n"
     ]
    }
   ],
   "source": [
    "from datetime import datetime\n",
    "import numpy as np\n",
    "\n",
    "#max_date = simple_returns_df['Date'].max()\n",
    "#min_date = simple_returns_df['Date'].min()\n",
    "Ndays = (_max_date - _min_date).days\n",
    "\n",
    "print(\"Annualized Standard Deviation Volatality for %s trading days\" % (str(Ndays)))\n",
    "print(\"of individual coins on the basis of daily simple returns.\")\n",
    "print(simple_returns_df[_l_coin_ids].std().astype('float64')  * np.sqrt(Ndays).astype('float64') * 100.0)\n",
    "#print(simple_returns_df.std() * np.sqrt(Ndays) * 100)"
   ]
  },
  {
   "cell_type": "markdown",
   "id": "695a6147",
   "metadata": {},
   "source": [
    "## Cummilative Product\n",
    "\n",
    "Doesn't apply to ETP. Mainly meant for products with cummalative returns"
   ]
  },
  {
   "cell_type": "code",
   "execution_count": 17,
   "id": "8cdb3c5b",
   "metadata": {},
   "outputs": [
    {
     "data": {
      "application/vnd.plotly.v1+json": {
       "config": {
        "plotlyServerURL": "https://plot.ly"
       },
       "data": [
        {
         "hovertemplate": "variable=bitcoin<br>Date=%{x|%Y-%m-%d, }<br>value=%{y}<extra></extra>",
         "legendgroup": "bitcoin",
         "line": {
          "color": "#636efa",
          "dash": "solid"
         },
         "marker": {
          "symbol": "circle"
         },
         "mode": "lines",
         "name": "bitcoin",
         "orientation": "v",
         "showlegend": true,
         "type": "scatter",
         "x": [
          "2022-01-01T00:00:00",
          "2022-01-02T00:00:00",
          "2022-01-03T00:00:00",
          "2022-01-04T00:00:00",
          "2022-01-05T00:00:00",
          "2022-01-06T00:00:00",
          "2022-01-07T00:00:00",
          "2022-01-08T00:00:00",
          "2022-01-09T00:00:00",
          "2022-01-10T00:00:00",
          "2022-01-11T00:00:00",
          "2022-01-12T00:00:00",
          "2022-01-13T00:00:00",
          "2022-01-14T00:00:00",
          "2022-01-15T00:00:00",
          "2022-01-16T00:00:00",
          "2022-01-17T00:00:00",
          "2022-01-18T00:00:00",
          "2022-01-19T00:00:00",
          "2022-01-20T00:00:00",
          "2022-01-21T00:00:00",
          "2022-01-22T00:00:00",
          "2022-01-23T00:00:00",
          "2022-01-24T00:00:00",
          "2022-01-25T00:00:00",
          "2022-01-26T00:00:00",
          "2022-01-27T00:00:00",
          "2022-01-28T00:00:00",
          "2022-01-29T00:00:00",
          "2022-01-30T00:00:00",
          "2022-01-31T00:00:00",
          "2022-02-01T00:00:00",
          "2022-02-02T00:00:00",
          "2022-02-03T00:00:00",
          "2022-02-04T00:00:00",
          "2022-02-05T00:00:00",
          "2022-02-06T00:00:00",
          "2022-02-07T00:00:00",
          "2022-02-08T00:00:00",
          "2022-02-09T00:00:00",
          "2022-02-10T00:00:00",
          "2022-02-11T00:00:00",
          "2022-02-12T00:00:00",
          "2022-02-13T00:00:00",
          "2022-02-14T00:00:00",
          "2022-02-15T00:00:00",
          "2022-02-16T00:00:00",
          "2022-02-17T00:00:00",
          "2022-02-18T00:00:00",
          "2022-02-19T00:00:00",
          "2022-02-20T00:00:00",
          "2022-02-21T00:00:00",
          "2022-02-22T00:00:00",
          "2022-02-23T00:00:00",
          "2022-02-24T00:00:00",
          "2022-02-25T00:00:00",
          "2022-02-26T00:00:00",
          "2022-02-27T00:00:00",
          "2022-02-28T00:00:00",
          "2022-03-01T00:00:00"
         ],
         "xaxis": "x",
         "y": [
          null,
          1.0323661646402087,
          1.0243589595363345,
          1.0047218482188571,
          1.0000567771785418,
          0.9446814316003108,
          0.9353223932927944,
          0.8990434910718923,
          0.9049292251245349,
          0.9035093988489478,
          0.9043758361559981,
          0.9240219554267394,
          0.9500876326933653,
          0.9204717610256961,
          0.9314493136007257,
          0.9322151314670293,
          0.9316733106387172,
          0.91397980066419,
          0.9175628585546066,
          0.9022075932177613,
          0.8836362091571158,
          0.7907562319071557,
          0.7603584434513353,
          0.784731240024202,
          0.7948767772388612,
          0.7995629947979017,
          0.7991000454026954,
          0.8015488626368401,
          0.8183436667333186,
          0.8249655698848618,
          0.8212462209053284,
          0.8307592577896826,
          0.8401143618411114,
          0.7996476379985737,
          0.8023385196698591,
          0.8871962422422517,
          0.8973994373138913,
          0.9186812663986074,
          0.9511518278208226,
          0.9557333847695438,
          0.9602222673826543,
          0.943790069587033,
          0.9172714608340055,
          0.9125244268756463,
          0.915391661666792,
          0.9224915871685285,
          0.9681900441944146,
          0.95442001845785,
          0.8789122132232554,
          0.8672540462958229,
          0.8690406045568673,
          0.8335855948337666,
          0.8023395395804643,
          0.829833532427693,
          0.808987671453419,
          0.8304765763778177,
          0.8511403813461192,
          0.8457995841741112,
          0.8190202526961844,
          0.9347478185487705
         ],
         "yaxis": "y"
        },
        {
         "hovertemplate": "variable=bitcoin_cash<br>Date=%{x|%Y-%m-%d, }<br>value=%{y}<extra></extra>",
         "legendgroup": "bitcoin_cash",
         "line": {
          "color": "#EF553B",
          "dash": "solid"
         },
         "marker": {
          "symbol": "circle"
         },
         "mode": "lines",
         "name": "bitcoin_cash",
         "orientation": "v",
         "showlegend": true,
         "type": "scatter",
         "x": [
          "2022-01-01T00:00:00",
          "2022-01-02T00:00:00",
          "2022-01-03T00:00:00",
          "2022-01-04T00:00:00",
          "2022-01-05T00:00:00",
          "2022-01-06T00:00:00",
          "2022-01-07T00:00:00",
          "2022-01-08T00:00:00",
          "2022-01-09T00:00:00",
          "2022-01-10T00:00:00",
          "2022-01-11T00:00:00",
          "2022-01-12T00:00:00",
          "2022-01-13T00:00:00",
          "2022-01-14T00:00:00",
          "2022-01-15T00:00:00",
          "2022-01-16T00:00:00",
          "2022-01-17T00:00:00",
          "2022-01-18T00:00:00",
          "2022-01-19T00:00:00",
          "2022-01-20T00:00:00",
          "2022-01-21T00:00:00",
          "2022-01-22T00:00:00",
          "2022-01-23T00:00:00",
          "2022-01-24T00:00:00",
          "2022-01-25T00:00:00",
          "2022-01-26T00:00:00",
          "2022-01-27T00:00:00",
          "2022-01-28T00:00:00",
          "2022-01-29T00:00:00",
          "2022-01-30T00:00:00",
          "2022-01-31T00:00:00",
          "2022-02-01T00:00:00",
          "2022-02-02T00:00:00",
          "2022-02-03T00:00:00",
          "2022-02-04T00:00:00",
          "2022-02-05T00:00:00",
          "2022-02-06T00:00:00",
          "2022-02-07T00:00:00",
          "2022-02-08T00:00:00",
          "2022-02-09T00:00:00",
          "2022-02-10T00:00:00",
          "2022-02-11T00:00:00",
          "2022-02-12T00:00:00",
          "2022-02-13T00:00:00",
          "2022-02-14T00:00:00",
          "2022-02-15T00:00:00",
          "2022-02-16T00:00:00",
          "2022-02-17T00:00:00",
          "2022-02-18T00:00:00",
          "2022-02-19T00:00:00",
          "2022-02-20T00:00:00",
          "2022-02-21T00:00:00",
          "2022-02-22T00:00:00",
          "2022-02-23T00:00:00",
          "2022-02-24T00:00:00",
          "2022-02-25T00:00:00",
          "2022-02-26T00:00:00",
          "2022-02-27T00:00:00",
          "2022-02-28T00:00:00",
          "2022-03-01T00:00:00"
         ],
         "xaxis": "x",
         "y": [
          null,
          null,
          null,
          null,
          null,
          null,
          null,
          null,
          null,
          null,
          null,
          null,
          null,
          null,
          null,
          null,
          null,
          null,
          null,
          null,
          null,
          null,
          null,
          null,
          null,
          null,
          null,
          null,
          null,
          null,
          null,
          null,
          null,
          null,
          null,
          null,
          null,
          null,
          null,
          null,
          null,
          null,
          null,
          null,
          null,
          null,
          null,
          null,
          null,
          null,
          null,
          null,
          null,
          null,
          null,
          null,
          null,
          null,
          null,
          null
         ],
         "yaxis": "y"
        },
        {
         "hovertemplate": "variable=cardano<br>Date=%{x|%Y-%m-%d, }<br>value=%{y}<extra></extra>",
         "legendgroup": "cardano",
         "line": {
          "color": "#00cc96",
          "dash": "solid"
         },
         "marker": {
          "symbol": "circle"
         },
         "mode": "lines",
         "name": "cardano",
         "orientation": "v",
         "showlegend": true,
         "type": "scatter",
         "x": [
          "2022-01-01T00:00:00",
          "2022-01-02T00:00:00",
          "2022-01-03T00:00:00",
          "2022-01-04T00:00:00",
          "2022-01-05T00:00:00",
          "2022-01-06T00:00:00",
          "2022-01-07T00:00:00",
          "2022-01-08T00:00:00",
          "2022-01-09T00:00:00",
          "2022-01-10T00:00:00",
          "2022-01-11T00:00:00",
          "2022-01-12T00:00:00",
          "2022-01-13T00:00:00",
          "2022-01-14T00:00:00",
          "2022-01-15T00:00:00",
          "2022-01-16T00:00:00",
          "2022-01-17T00:00:00",
          "2022-01-18T00:00:00",
          "2022-01-19T00:00:00",
          "2022-01-20T00:00:00",
          "2022-01-21T00:00:00",
          "2022-01-22T00:00:00",
          "2022-01-23T00:00:00",
          "2022-01-24T00:00:00",
          "2022-01-25T00:00:00",
          "2022-01-26T00:00:00",
          "2022-01-27T00:00:00",
          "2022-01-28T00:00:00",
          "2022-01-29T00:00:00",
          "2022-01-30T00:00:00",
          "2022-01-31T00:00:00",
          "2022-02-01T00:00:00",
          "2022-02-02T00:00:00",
          "2022-02-03T00:00:00",
          "2022-02-04T00:00:00",
          "2022-02-05T00:00:00",
          "2022-02-06T00:00:00",
          "2022-02-07T00:00:00",
          "2022-02-08T00:00:00",
          "2022-02-09T00:00:00",
          "2022-02-10T00:00:00",
          "2022-02-11T00:00:00",
          "2022-02-12T00:00:00",
          "2022-02-13T00:00:00",
          "2022-02-14T00:00:00",
          "2022-02-15T00:00:00",
          "2022-02-16T00:00:00",
          "2022-02-17T00:00:00",
          "2022-02-18T00:00:00",
          "2022-02-19T00:00:00",
          "2022-02-20T00:00:00",
          "2022-02-21T00:00:00",
          "2022-02-22T00:00:00",
          "2022-02-23T00:00:00",
          "2022-02-24T00:00:00",
          "2022-02-25T00:00:00",
          "2022-02-26T00:00:00",
          "2022-02-27T00:00:00",
          "2022-02-28T00:00:00",
          "2022-03-01T00:00:00"
         ],
         "xaxis": "x",
         "y": [
          null,
          1.0474977054256067,
          1.049668309230127,
          1.009077673981626,
          1.0039226033861286,
          0.9472917109024886,
          0.975947464686672,
          0.9228539595306086,
          0.9077940978481882,
          0.8907076758399609,
          0.8603169033678882,
          0.902882328916242,
          0.9927768901330762,
          0.9436701716544921,
          0.9751998107737582,
          0.9865648427340244,
          1.0737191603336649,
          1.1973307485002544,
          1.1196994875699715,
          1.0220190362100907,
          0.963649647034535,
          0.8618815643151742,
          0.8118366503854015,
          0.8521537880696656,
          0.8130601487644447,
          0.7943749633381884,
          0.8243184393426228,
          0.7963162195660449,
          0.7994354860669883,
          0.805813543031253,
          0.7904067752290853,
          0.7990749825574596,
          0.8248134846596263,
          0.7832829540577357,
          0.8028029594925061,
          0.8580037966598894,
          0.8621155040516094,
          0.8735890080844048,
          0.9129717582546804,
          0.8971487491850283,
          0.9096376460317642,
          0.876670781161749,
          0.8224317355046208,
          0.8028077434785367,
          0.7948043696305176,
          0.7992567326951998,
          0.8455530745778858,
          0.8276813913844335,
          0.776762954112803,
          0.7597689414672909,
          0.758779678532491,
          0.7145343467359618,
          0.6561931563014755,
          0.6788362747632914,
          0.6632582290688626,
          0.6488919339274916,
          0.6826283213551101,
          0.6741876977070753,
          0.653479789969989,
          0.7259174366230512
         ],
         "yaxis": "y"
        },
        {
         "hovertemplate": "variable=ethereum<br>Date=%{x|%Y-%m-%d, }<br>value=%{y}<extra></extra>",
         "legendgroup": "ethereum",
         "line": {
          "color": "#ab63fa",
          "dash": "solid"
         },
         "marker": {
          "symbol": "circle"
         },
         "mode": "lines",
         "name": "ethereum",
         "orientation": "v",
         "showlegend": true,
         "type": "scatter",
         "x": [
          "2022-01-01T00:00:00",
          "2022-01-02T00:00:00",
          "2022-01-03T00:00:00",
          "2022-01-04T00:00:00",
          "2022-01-05T00:00:00",
          "2022-01-06T00:00:00",
          "2022-01-07T00:00:00",
          "2022-01-08T00:00:00",
          "2022-01-09T00:00:00",
          "2022-01-10T00:00:00",
          "2022-01-11T00:00:00",
          "2022-01-12T00:00:00",
          "2022-01-13T00:00:00",
          "2022-01-14T00:00:00",
          "2022-01-15T00:00:00",
          "2022-01-16T00:00:00",
          "2022-01-17T00:00:00",
          "2022-01-18T00:00:00",
          "2022-01-19T00:00:00",
          "2022-01-20T00:00:00",
          "2022-01-21T00:00:00",
          "2022-01-22T00:00:00",
          "2022-01-23T00:00:00",
          "2022-01-24T00:00:00",
          "2022-01-25T00:00:00",
          "2022-01-26T00:00:00",
          "2022-01-27T00:00:00",
          "2022-01-28T00:00:00",
          "2022-01-29T00:00:00",
          "2022-01-30T00:00:00",
          "2022-01-31T00:00:00",
          "2022-02-01T00:00:00",
          "2022-02-02T00:00:00",
          "2022-02-03T00:00:00",
          "2022-02-04T00:00:00",
          "2022-02-05T00:00:00",
          "2022-02-06T00:00:00",
          "2022-02-07T00:00:00",
          "2022-02-08T00:00:00",
          "2022-02-09T00:00:00",
          "2022-02-10T00:00:00",
          "2022-02-11T00:00:00",
          "2022-02-12T00:00:00",
          "2022-02-13T00:00:00",
          "2022-02-14T00:00:00",
          "2022-02-15T00:00:00",
          "2022-02-16T00:00:00",
          "2022-02-17T00:00:00",
          "2022-02-18T00:00:00",
          "2022-02-19T00:00:00",
          "2022-02-20T00:00:00",
          "2022-02-21T00:00:00",
          "2022-02-22T00:00:00",
          "2022-02-23T00:00:00",
          "2022-02-24T00:00:00",
          "2022-02-25T00:00:00",
          "2022-02-26T00:00:00",
          "2022-02-27T00:00:00",
          "2022-02-28T00:00:00",
          "2022-03-01T00:00:00"
         ],
         "xaxis": "x",
         "y": [
          null,
          1.022769499316086,
          1.0387946499369247,
          1.0200520732133025,
          1.033614729864909,
          0.9642965014765942,
          0.926923379281454,
          0.8669650082377929,
          0.840704845938225,
          0.8531770336143929,
          0.8359763405385081,
          0.8811139803700825,
          0.9158065525348531,
          0.8823283398023759,
          0.8973915553115546,
          0.9024726619386166,
          0.9100511215814608,
          0.871842615504347,
          0.8593136484220768,
          0.8442562601429494,
          0.8198908195279135,
          0.6972507219262393,
          0.6521279488191308,
          0.688114250838156,
          0.6640027059360687,
          0.6678227271611908,
          0.6724181166251002,
          0.654468970682039,
          0.6919318362945005,
          0.7050162552751351,
          0.7085252037921499,
          0.7284247752567992,
          0.7595267859343867,
          0.7305666049702665,
          0.7219424488327878,
          0.8061970915085326,
          0.8222099851835909,
          0.8323008519896568,
          0.8557500197814858,
          0.8505040623119297,
          0.8806940339667678,
          0.8376201902273048,
          0.7961365655076451,
          0.7901886577309248,
          0.7850389691984069,
          0.7989454463713831,
          0.8681197135828129,
          0.8551152645282865,
          0.7850380675439445,
          0.7594463513223556,
          0.7522090161690671,
          0.716285841249164,
          0.7022358061826633,
          0.7208074311009977,
          0.7071488061728314,
          0.7083674035449627,
          0.7585995419098758,
          0.7563716617877079,
          0.71526309930894,
          0.7936870934394732
         ],
         "yaxis": "y"
        },
        {
         "hovertemplate": "variable=litecoin<br>Date=%{x|%Y-%m-%d, }<br>value=%{y}<extra></extra>",
         "legendgroup": "litecoin",
         "line": {
          "color": "#FFA15A",
          "dash": "solid"
         },
         "marker": {
          "symbol": "circle"
         },
         "mode": "lines",
         "name": "litecoin",
         "orientation": "v",
         "showlegend": true,
         "type": "scatter",
         "x": [
          "2022-01-01T00:00:00",
          "2022-01-02T00:00:00",
          "2022-01-03T00:00:00",
          "2022-01-04T00:00:00",
          "2022-01-05T00:00:00",
          "2022-01-06T00:00:00",
          "2022-01-07T00:00:00",
          "2022-01-08T00:00:00",
          "2022-01-09T00:00:00",
          "2022-01-10T00:00:00",
          "2022-01-11T00:00:00",
          "2022-01-12T00:00:00",
          "2022-01-13T00:00:00",
          "2022-01-14T00:00:00",
          "2022-01-15T00:00:00",
          "2022-01-16T00:00:00",
          "2022-01-17T00:00:00",
          "2022-01-18T00:00:00",
          "2022-01-19T00:00:00",
          "2022-01-20T00:00:00",
          "2022-01-21T00:00:00",
          "2022-01-22T00:00:00",
          "2022-01-23T00:00:00",
          "2022-01-24T00:00:00",
          "2022-01-25T00:00:00",
          "2022-01-26T00:00:00",
          "2022-01-27T00:00:00",
          "2022-01-28T00:00:00",
          "2022-01-29T00:00:00",
          "2022-01-30T00:00:00",
          "2022-01-31T00:00:00",
          "2022-02-01T00:00:00",
          "2022-02-02T00:00:00",
          "2022-02-03T00:00:00",
          "2022-02-04T00:00:00",
          "2022-02-05T00:00:00",
          "2022-02-06T00:00:00",
          "2022-02-07T00:00:00",
          "2022-02-08T00:00:00",
          "2022-02-09T00:00:00",
          "2022-02-10T00:00:00",
          "2022-02-11T00:00:00",
          "2022-02-12T00:00:00",
          "2022-02-13T00:00:00",
          "2022-02-14T00:00:00",
          "2022-02-15T00:00:00",
          "2022-02-16T00:00:00",
          "2022-02-17T00:00:00",
          "2022-02-18T00:00:00",
          "2022-02-19T00:00:00",
          "2022-02-20T00:00:00",
          "2022-02-21T00:00:00",
          "2022-02-22T00:00:00",
          "2022-02-23T00:00:00",
          "2022-02-24T00:00:00",
          "2022-02-25T00:00:00",
          "2022-02-26T00:00:00",
          "2022-02-27T00:00:00",
          "2022-02-28T00:00:00",
          "2022-03-01T00:00:00"
         ],
         "xaxis": "x",
         "y": [
          null,
          1.0303006013895741,
          1.035179849675861,
          1.0141086299238733,
          1.0080831021431298,
          0.9297377007873957,
          0.934275936803436,
          0.8970093192263802,
          0.8879465742753296,
          0.894253075527525,
          0.8656469140334472,
          0.8980046767255421,
          0.967755797815199,
          0.9333349721579717,
          0.988260176332179,
          1.0085217028851219,
          1.001343131875616,
          1.0366261855252463,
          0.9689638332787542,
          0.9357280265918685,
          0.8999593640114493,
          0.7851405686920203,
          0.7422751819128874,
          0.7641199813756729,
          0.7517923320748143,
          0.7406056297498536,
          0.7349848151272244,
          0.7311811062023177,
          0.7492424708315504,
          0.7574009180088888,
          0.7448542621525505,
          0.7485531313588989,
          0.7906396118724685,
          0.7416960880803263,
          0.7541949671037835,
          0.8217015459777596,
          0.8376451918965663,
          0.8734359193744092,
          0.9389635247021538,
          0.9183206334303221,
          0.9640774932760583,
          0.9273793206906835,
          0.8649112423185282,
          0.8677359398993294,
          0.8644768618150661,
          0.8551855401952889,
          0.9064818147308091,
          0.8796382165797534,
          0.7964951073200252,
          0.7887342789409686,
          0.7934961937988501,
          0.7597181646511777,
          0.7126454047044811,
          0.7375108936114356,
          0.7266225520564756,
          0.7148560628573808,
          0.7511155275143526,
          0.7410457357138027,
          0.7067382442450049,
          0.7772730870289851
         ],
         "yaxis": "y"
        },
        {
         "hovertemplate": "variable=ripple<br>Date=%{x|%Y-%m-%d, }<br>value=%{y}<extra></extra>",
         "legendgroup": "ripple",
         "line": {
          "color": "#19d3f3",
          "dash": "solid"
         },
         "marker": {
          "symbol": "circle"
         },
         "mode": "lines",
         "name": "ripple",
         "orientation": "v",
         "showlegend": true,
         "type": "scatter",
         "x": [
          "2022-01-01T00:00:00",
          "2022-01-02T00:00:00",
          "2022-01-03T00:00:00",
          "2022-01-04T00:00:00",
          "2022-01-05T00:00:00",
          "2022-01-06T00:00:00",
          "2022-01-07T00:00:00",
          "2022-01-08T00:00:00",
          "2022-01-09T00:00:00",
          "2022-01-10T00:00:00",
          "2022-01-11T00:00:00",
          "2022-01-12T00:00:00",
          "2022-01-13T00:00:00",
          "2022-01-14T00:00:00",
          "2022-01-15T00:00:00",
          "2022-01-16T00:00:00",
          "2022-01-17T00:00:00",
          "2022-01-18T00:00:00",
          "2022-01-19T00:00:00",
          "2022-01-20T00:00:00",
          "2022-01-21T00:00:00",
          "2022-01-22T00:00:00",
          "2022-01-23T00:00:00",
          "2022-01-24T00:00:00",
          "2022-01-25T00:00:00",
          "2022-01-26T00:00:00",
          "2022-01-27T00:00:00",
          "2022-01-28T00:00:00",
          "2022-01-29T00:00:00",
          "2022-01-30T00:00:00",
          "2022-01-31T00:00:00",
          "2022-02-01T00:00:00",
          "2022-02-02T00:00:00",
          "2022-02-03T00:00:00",
          "2022-02-04T00:00:00",
          "2022-02-05T00:00:00",
          "2022-02-06T00:00:00",
          "2022-02-07T00:00:00",
          "2022-02-08T00:00:00",
          "2022-02-09T00:00:00",
          "2022-02-10T00:00:00",
          "2022-02-11T00:00:00",
          "2022-02-12T00:00:00",
          "2022-02-13T00:00:00",
          "2022-02-14T00:00:00",
          "2022-02-15T00:00:00",
          "2022-02-16T00:00:00",
          "2022-02-17T00:00:00",
          "2022-02-18T00:00:00",
          "2022-02-19T00:00:00",
          "2022-02-20T00:00:00",
          "2022-02-21T00:00:00",
          "2022-02-22T00:00:00",
          "2022-02-23T00:00:00",
          "2022-02-24T00:00:00",
          "2022-02-25T00:00:00",
          "2022-02-26T00:00:00",
          "2022-02-27T00:00:00",
          "2022-02-28T00:00:00",
          "2022-03-01T00:00:00"
         ],
         "xaxis": "x",
         "y": [
          null,
          1.0235769008427131,
          1.035617356106722,
          1.0036994071625442,
          0.9962243136094072,
          0.936618487378431,
          0.9454144876444357,
          0.9216951008124094,
          0.9043974015808656,
          0.9080904581468164,
          0.8920886692462072,
          0.9302402032627385,
          0.9654716173124053,
          0.9295809785857206,
          0.9335061874595214,
          0.9422291100184209,
          0.9400521688382792,
          0.9227317403697741,
          0.9090955986591672,
          0.8947377441236359,
          0.8738261798529809,
          0.7723834965595744,
          0.722840151360308,
          0.7602330923101009,
          0.7438232591711943,
          0.7494852509952052,
          0.7540717530785285,
          0.7370550008064594,
          0.7410643697865251,
          0.7450503792592909,
          0.7300017656023189,
          0.7477814784268899,
          0.7612328850490911,
          0.7278743310178355,
          0.737862400288018,
          0.7872627819554754,
          0.8133619633322989,
          0.8302105923653379,
          0.9996256123679226,
          1.0660290953857958,
          1.0676941912855997,
          1.0141281071178627,
          0.9216154033899581,
          0.9898568448328436,
          0.9819228432706465,
          0.972859420072676,
          1.0332262891616222,
          1.0168447131909464,
          0.9352801335482421,
          0.9557884538104832,
          1.0010117046956961,
          0.9442460893994687,
          0.8596069792187856,
          0.8807451694734567,
          0.852751548438216,
          0.8464701739605386,
          0.935717793749386,
          0.9094404995764124,
          0.8750153890347808,
          0.9488711792683959
         ],
         "yaxis": "y"
        },
        {
         "hovertemplate": "variable=solana<br>Date=%{x|%Y-%m-%d, }<br>value=%{y}<extra></extra>",
         "legendgroup": "solana",
         "line": {
          "color": "#FF6692",
          "dash": "solid"
         },
         "marker": {
          "symbol": "circle"
         },
         "mode": "lines",
         "name": "solana",
         "orientation": "v",
         "showlegend": true,
         "type": "scatter",
         "x": [
          "2022-01-01T00:00:00",
          "2022-01-02T00:00:00",
          "2022-01-03T00:00:00",
          "2022-01-04T00:00:00",
          "2022-01-05T00:00:00",
          "2022-01-06T00:00:00",
          "2022-01-07T00:00:00",
          "2022-01-08T00:00:00",
          "2022-01-09T00:00:00",
          "2022-01-10T00:00:00",
          "2022-01-11T00:00:00",
          "2022-01-12T00:00:00",
          "2022-01-13T00:00:00",
          "2022-01-14T00:00:00",
          "2022-01-15T00:00:00",
          "2022-01-16T00:00:00",
          "2022-01-17T00:00:00",
          "2022-01-18T00:00:00",
          "2022-01-19T00:00:00",
          "2022-01-20T00:00:00",
          "2022-01-21T00:00:00",
          "2022-01-22T00:00:00",
          "2022-01-23T00:00:00",
          "2022-01-24T00:00:00",
          "2022-01-25T00:00:00",
          "2022-01-26T00:00:00",
          "2022-01-27T00:00:00",
          "2022-01-28T00:00:00",
          "2022-01-29T00:00:00",
          "2022-01-30T00:00:00",
          "2022-01-31T00:00:00",
          "2022-02-01T00:00:00",
          "2022-02-02T00:00:00",
          "2022-02-03T00:00:00",
          "2022-02-04T00:00:00",
          "2022-02-05T00:00:00",
          "2022-02-06T00:00:00",
          "2022-02-07T00:00:00",
          "2022-02-08T00:00:00",
          "2022-02-09T00:00:00",
          "2022-02-10T00:00:00",
          "2022-02-11T00:00:00",
          "2022-02-12T00:00:00",
          "2022-02-13T00:00:00",
          "2022-02-14T00:00:00",
          "2022-02-15T00:00:00",
          "2022-02-16T00:00:00",
          "2022-02-17T00:00:00",
          "2022-02-18T00:00:00",
          "2022-02-19T00:00:00",
          "2022-02-20T00:00:00",
          "2022-02-21T00:00:00",
          "2022-02-22T00:00:00",
          "2022-02-23T00:00:00",
          "2022-02-24T00:00:00",
          "2022-02-25T00:00:00",
          "2022-02-26T00:00:00",
          "2022-02-27T00:00:00",
          "2022-02-28T00:00:00",
          "2022-03-01T00:00:00"
         ],
         "xaxis": "x",
         "y": [
          null,
          1.0412507128472366,
          1.032079669927651,
          0.9996100560609036,
          0.9880035078092587,
          0.9107338507769006,
          0.8856017393038101,
          0.8053869039543997,
          0.8445060670735814,
          0.8287070862766057,
          0.7999017486459585,
          0.8283160507602423,
          0.898442561293893,
          0.8680136079074753,
          0.8665978745554498,
          0.8758187169961777,
          0.8779631827491087,
          0.8322558202385821,
          0.8425147556666855,
          0.8098819801431608,
          0.7697949095393248,
          0.6628598048790744,
          0.5607098160219018,
          0.5914302067586303,
          0.546427798927707,
          0.5686335855251452,
          0.5527372868239859,
          0.532622545097391,
          0.5441028046400986,
          0.5711177948490085,
          0.5562143348140609,
          0.5926358672519483,
          0.6574582655684237,
          0.6043673681509305,
          0.6016833203763383,
          0.6639534505166096,
          0.6820820317383771,
          0.6902893674912136,
          0.705104902513226,
          0.6828058079988787,
          0.6859950523673902,
          0.6393634096928629,
          0.5783160210976227,
          0.5736011260555363,
          0.5608450956677243,
          0.5818631924297002,
          0.6346938450510162,
          0.6182097952126204,
          0.5654876803680284,
          0.5448873895844453,
          0.5520813541512559,
          0.5530722005528749,
          0.5051845135553863,
          0.5243949131495128,
          0.5158971426589652,
          0.5386309522095736,
          0.56551797181518,
          0.5437382734001706,
          0.5171327944749297,
          0.6019237295771678
         ],
         "yaxis": "y"
        }
       ],
       "layout": {
        "legend": {
         "title": {
          "text": "variable"
         },
         "tracegroupgap": 0
        },
        "template": {
         "data": {
          "bar": [
           {
            "error_x": {
             "color": "#2a3f5f"
            },
            "error_y": {
             "color": "#2a3f5f"
            },
            "marker": {
             "line": {
              "color": "#E5ECF6",
              "width": 0.5
             },
             "pattern": {
              "fillmode": "overlay",
              "size": 10,
              "solidity": 0.2
             }
            },
            "type": "bar"
           }
          ],
          "barpolar": [
           {
            "marker": {
             "line": {
              "color": "#E5ECF6",
              "width": 0.5
             },
             "pattern": {
              "fillmode": "overlay",
              "size": 10,
              "solidity": 0.2
             }
            },
            "type": "barpolar"
           }
          ],
          "carpet": [
           {
            "aaxis": {
             "endlinecolor": "#2a3f5f",
             "gridcolor": "white",
             "linecolor": "white",
             "minorgridcolor": "white",
             "startlinecolor": "#2a3f5f"
            },
            "baxis": {
             "endlinecolor": "#2a3f5f",
             "gridcolor": "white",
             "linecolor": "white",
             "minorgridcolor": "white",
             "startlinecolor": "#2a3f5f"
            },
            "type": "carpet"
           }
          ],
          "choropleth": [
           {
            "colorbar": {
             "outlinewidth": 0,
             "ticks": ""
            },
            "type": "choropleth"
           }
          ],
          "contour": [
           {
            "colorbar": {
             "outlinewidth": 0,
             "ticks": ""
            },
            "colorscale": [
             [
              0,
              "#0d0887"
             ],
             [
              0.1111111111111111,
              "#46039f"
             ],
             [
              0.2222222222222222,
              "#7201a8"
             ],
             [
              0.3333333333333333,
              "#9c179e"
             ],
             [
              0.4444444444444444,
              "#bd3786"
             ],
             [
              0.5555555555555556,
              "#d8576b"
             ],
             [
              0.6666666666666666,
              "#ed7953"
             ],
             [
              0.7777777777777778,
              "#fb9f3a"
             ],
             [
              0.8888888888888888,
              "#fdca26"
             ],
             [
              1,
              "#f0f921"
             ]
            ],
            "type": "contour"
           }
          ],
          "contourcarpet": [
           {
            "colorbar": {
             "outlinewidth": 0,
             "ticks": ""
            },
            "type": "contourcarpet"
           }
          ],
          "heatmap": [
           {
            "colorbar": {
             "outlinewidth": 0,
             "ticks": ""
            },
            "colorscale": [
             [
              0,
              "#0d0887"
             ],
             [
              0.1111111111111111,
              "#46039f"
             ],
             [
              0.2222222222222222,
              "#7201a8"
             ],
             [
              0.3333333333333333,
              "#9c179e"
             ],
             [
              0.4444444444444444,
              "#bd3786"
             ],
             [
              0.5555555555555556,
              "#d8576b"
             ],
             [
              0.6666666666666666,
              "#ed7953"
             ],
             [
              0.7777777777777778,
              "#fb9f3a"
             ],
             [
              0.8888888888888888,
              "#fdca26"
             ],
             [
              1,
              "#f0f921"
             ]
            ],
            "type": "heatmap"
           }
          ],
          "heatmapgl": [
           {
            "colorbar": {
             "outlinewidth": 0,
             "ticks": ""
            },
            "colorscale": [
             [
              0,
              "#0d0887"
             ],
             [
              0.1111111111111111,
              "#46039f"
             ],
             [
              0.2222222222222222,
              "#7201a8"
             ],
             [
              0.3333333333333333,
              "#9c179e"
             ],
             [
              0.4444444444444444,
              "#bd3786"
             ],
             [
              0.5555555555555556,
              "#d8576b"
             ],
             [
              0.6666666666666666,
              "#ed7953"
             ],
             [
              0.7777777777777778,
              "#fb9f3a"
             ],
             [
              0.8888888888888888,
              "#fdca26"
             ],
             [
              1,
              "#f0f921"
             ]
            ],
            "type": "heatmapgl"
           }
          ],
          "histogram": [
           {
            "marker": {
             "pattern": {
              "fillmode": "overlay",
              "size": 10,
              "solidity": 0.2
             }
            },
            "type": "histogram"
           }
          ],
          "histogram2d": [
           {
            "colorbar": {
             "outlinewidth": 0,
             "ticks": ""
            },
            "colorscale": [
             [
              0,
              "#0d0887"
             ],
             [
              0.1111111111111111,
              "#46039f"
             ],
             [
              0.2222222222222222,
              "#7201a8"
             ],
             [
              0.3333333333333333,
              "#9c179e"
             ],
             [
              0.4444444444444444,
              "#bd3786"
             ],
             [
              0.5555555555555556,
              "#d8576b"
             ],
             [
              0.6666666666666666,
              "#ed7953"
             ],
             [
              0.7777777777777778,
              "#fb9f3a"
             ],
             [
              0.8888888888888888,
              "#fdca26"
             ],
             [
              1,
              "#f0f921"
             ]
            ],
            "type": "histogram2d"
           }
          ],
          "histogram2dcontour": [
           {
            "colorbar": {
             "outlinewidth": 0,
             "ticks": ""
            },
            "colorscale": [
             [
              0,
              "#0d0887"
             ],
             [
              0.1111111111111111,
              "#46039f"
             ],
             [
              0.2222222222222222,
              "#7201a8"
             ],
             [
              0.3333333333333333,
              "#9c179e"
             ],
             [
              0.4444444444444444,
              "#bd3786"
             ],
             [
              0.5555555555555556,
              "#d8576b"
             ],
             [
              0.6666666666666666,
              "#ed7953"
             ],
             [
              0.7777777777777778,
              "#fb9f3a"
             ],
             [
              0.8888888888888888,
              "#fdca26"
             ],
             [
              1,
              "#f0f921"
             ]
            ],
            "type": "histogram2dcontour"
           }
          ],
          "mesh3d": [
           {
            "colorbar": {
             "outlinewidth": 0,
             "ticks": ""
            },
            "type": "mesh3d"
           }
          ],
          "parcoords": [
           {
            "line": {
             "colorbar": {
              "outlinewidth": 0,
              "ticks": ""
             }
            },
            "type": "parcoords"
           }
          ],
          "pie": [
           {
            "automargin": true,
            "type": "pie"
           }
          ],
          "scatter": [
           {
            "marker": {
             "colorbar": {
              "outlinewidth": 0,
              "ticks": ""
             }
            },
            "type": "scatter"
           }
          ],
          "scatter3d": [
           {
            "line": {
             "colorbar": {
              "outlinewidth": 0,
              "ticks": ""
             }
            },
            "marker": {
             "colorbar": {
              "outlinewidth": 0,
              "ticks": ""
             }
            },
            "type": "scatter3d"
           }
          ],
          "scattercarpet": [
           {
            "marker": {
             "colorbar": {
              "outlinewidth": 0,
              "ticks": ""
             }
            },
            "type": "scattercarpet"
           }
          ],
          "scattergeo": [
           {
            "marker": {
             "colorbar": {
              "outlinewidth": 0,
              "ticks": ""
             }
            },
            "type": "scattergeo"
           }
          ],
          "scattergl": [
           {
            "marker": {
             "colorbar": {
              "outlinewidth": 0,
              "ticks": ""
             }
            },
            "type": "scattergl"
           }
          ],
          "scattermapbox": [
           {
            "marker": {
             "colorbar": {
              "outlinewidth": 0,
              "ticks": ""
             }
            },
            "type": "scattermapbox"
           }
          ],
          "scatterpolar": [
           {
            "marker": {
             "colorbar": {
              "outlinewidth": 0,
              "ticks": ""
             }
            },
            "type": "scatterpolar"
           }
          ],
          "scatterpolargl": [
           {
            "marker": {
             "colorbar": {
              "outlinewidth": 0,
              "ticks": ""
             }
            },
            "type": "scatterpolargl"
           }
          ],
          "scatterternary": [
           {
            "marker": {
             "colorbar": {
              "outlinewidth": 0,
              "ticks": ""
             }
            },
            "type": "scatterternary"
           }
          ],
          "surface": [
           {
            "colorbar": {
             "outlinewidth": 0,
             "ticks": ""
            },
            "colorscale": [
             [
              0,
              "#0d0887"
             ],
             [
              0.1111111111111111,
              "#46039f"
             ],
             [
              0.2222222222222222,
              "#7201a8"
             ],
             [
              0.3333333333333333,
              "#9c179e"
             ],
             [
              0.4444444444444444,
              "#bd3786"
             ],
             [
              0.5555555555555556,
              "#d8576b"
             ],
             [
              0.6666666666666666,
              "#ed7953"
             ],
             [
              0.7777777777777778,
              "#fb9f3a"
             ],
             [
              0.8888888888888888,
              "#fdca26"
             ],
             [
              1,
              "#f0f921"
             ]
            ],
            "type": "surface"
           }
          ],
          "table": [
           {
            "cells": {
             "fill": {
              "color": "#EBF0F8"
             },
             "line": {
              "color": "white"
             }
            },
            "header": {
             "fill": {
              "color": "#C8D4E3"
             },
             "line": {
              "color": "white"
             }
            },
            "type": "table"
           }
          ]
         },
         "layout": {
          "annotationdefaults": {
           "arrowcolor": "#2a3f5f",
           "arrowhead": 0,
           "arrowwidth": 1
          },
          "autotypenumbers": "strict",
          "coloraxis": {
           "colorbar": {
            "outlinewidth": 0,
            "ticks": ""
           }
          },
          "colorscale": {
           "diverging": [
            [
             0,
             "#8e0152"
            ],
            [
             0.1,
             "#c51b7d"
            ],
            [
             0.2,
             "#de77ae"
            ],
            [
             0.3,
             "#f1b6da"
            ],
            [
             0.4,
             "#fde0ef"
            ],
            [
             0.5,
             "#f7f7f7"
            ],
            [
             0.6,
             "#e6f5d0"
            ],
            [
             0.7,
             "#b8e186"
            ],
            [
             0.8,
             "#7fbc41"
            ],
            [
             0.9,
             "#4d9221"
            ],
            [
             1,
             "#276419"
            ]
           ],
           "sequential": [
            [
             0,
             "#0d0887"
            ],
            [
             0.1111111111111111,
             "#46039f"
            ],
            [
             0.2222222222222222,
             "#7201a8"
            ],
            [
             0.3333333333333333,
             "#9c179e"
            ],
            [
             0.4444444444444444,
             "#bd3786"
            ],
            [
             0.5555555555555556,
             "#d8576b"
            ],
            [
             0.6666666666666666,
             "#ed7953"
            ],
            [
             0.7777777777777778,
             "#fb9f3a"
            ],
            [
             0.8888888888888888,
             "#fdca26"
            ],
            [
             1,
             "#f0f921"
            ]
           ],
           "sequentialminus": [
            [
             0,
             "#0d0887"
            ],
            [
             0.1111111111111111,
             "#46039f"
            ],
            [
             0.2222222222222222,
             "#7201a8"
            ],
            [
             0.3333333333333333,
             "#9c179e"
            ],
            [
             0.4444444444444444,
             "#bd3786"
            ],
            [
             0.5555555555555556,
             "#d8576b"
            ],
            [
             0.6666666666666666,
             "#ed7953"
            ],
            [
             0.7777777777777778,
             "#fb9f3a"
            ],
            [
             0.8888888888888888,
             "#fdca26"
            ],
            [
             1,
             "#f0f921"
            ]
           ]
          },
          "colorway": [
           "#636efa",
           "#EF553B",
           "#00cc96",
           "#ab63fa",
           "#FFA15A",
           "#19d3f3",
           "#FF6692",
           "#B6E880",
           "#FF97FF",
           "#FECB52"
          ],
          "font": {
           "color": "#2a3f5f"
          },
          "geo": {
           "bgcolor": "white",
           "lakecolor": "white",
           "landcolor": "#E5ECF6",
           "showlakes": true,
           "showland": true,
           "subunitcolor": "white"
          },
          "hoverlabel": {
           "align": "left"
          },
          "hovermode": "closest",
          "mapbox": {
           "style": "light"
          },
          "paper_bgcolor": "white",
          "plot_bgcolor": "#E5ECF6",
          "polar": {
           "angularaxis": {
            "gridcolor": "white",
            "linecolor": "white",
            "ticks": ""
           },
           "bgcolor": "#E5ECF6",
           "radialaxis": {
            "gridcolor": "white",
            "linecolor": "white",
            "ticks": ""
           }
          },
          "scene": {
           "xaxis": {
            "backgroundcolor": "#E5ECF6",
            "gridcolor": "white",
            "gridwidth": 2,
            "linecolor": "white",
            "showbackground": true,
            "ticks": "",
            "zerolinecolor": "white"
           },
           "yaxis": {
            "backgroundcolor": "#E5ECF6",
            "gridcolor": "white",
            "gridwidth": 2,
            "linecolor": "white",
            "showbackground": true,
            "ticks": "",
            "zerolinecolor": "white"
           },
           "zaxis": {
            "backgroundcolor": "#E5ECF6",
            "gridcolor": "white",
            "gridwidth": 2,
            "linecolor": "white",
            "showbackground": true,
            "ticks": "",
            "zerolinecolor": "white"
           }
          },
          "shapedefaults": {
           "line": {
            "color": "#2a3f5f"
           }
          },
          "ternary": {
           "aaxis": {
            "gridcolor": "white",
            "linecolor": "white",
            "ticks": ""
           },
           "baxis": {
            "gridcolor": "white",
            "linecolor": "white",
            "ticks": ""
           },
           "bgcolor": "#E5ECF6",
           "caxis": {
            "gridcolor": "white",
            "linecolor": "white",
            "ticks": ""
           }
          },
          "title": {
           "x": 0.05
          },
          "xaxis": {
           "automargin": true,
           "gridcolor": "white",
           "linecolor": "white",
           "ticks": "",
           "title": {
            "standoff": 15
           },
           "zerolinecolor": "white",
           "zerolinewidth": 2
          },
          "yaxis": {
           "automargin": true,
           "gridcolor": "white",
           "linecolor": "white",
           "ticks": "",
           "title": {
            "standoff": 15
           },
           "zerolinecolor": "white",
           "zerolinewidth": 2
          }
         }
        },
        "title": {
         "text": "Daily Cummulative Simple returns/growth of investment from 2022-01-01 to 2022-03-01"
        },
        "xaxis": {
         "anchor": "y",
         "domain": [
          0,
          1
         ],
         "dtick": "M1",
         "tickformat": "%b\n%Y",
         "title": {
          "text": "Date"
         }
        },
        "yaxis": {
         "anchor": "x",
         "domain": [
          0,
          1
         ],
         "title": {
          "text": "value"
         }
        }
       }
      },
      "text/html": [
       "<div>                            <div id=\"b3214ef4-8d0e-4513-9207-7320389d08cd\" class=\"plotly-graph-div\" style=\"height:525px; width:100%;\"></div>            <script type=\"text/javascript\">                require([\"plotly\"], function(Plotly) {                    window.PLOTLYENV=window.PLOTLYENV || {};                                    if (document.getElementById(\"b3214ef4-8d0e-4513-9207-7320389d08cd\")) {                    Plotly.newPlot(                        \"b3214ef4-8d0e-4513-9207-7320389d08cd\",                        [{\"hovertemplate\":\"variable=bitcoin<br>Date=%{x|%Y-%m-%d, }<br>value=%{y}<extra></extra>\",\"legendgroup\":\"bitcoin\",\"line\":{\"color\":\"#636efa\",\"dash\":\"solid\"},\"marker\":{\"symbol\":\"circle\"},\"mode\":\"lines\",\"name\":\"bitcoin\",\"orientation\":\"v\",\"showlegend\":true,\"type\":\"scatter\",\"x\":[\"2022-01-01T00:00:00\",\"2022-01-02T00:00:00\",\"2022-01-03T00:00:00\",\"2022-01-04T00:00:00\",\"2022-01-05T00:00:00\",\"2022-01-06T00:00:00\",\"2022-01-07T00:00:00\",\"2022-01-08T00:00:00\",\"2022-01-09T00:00:00\",\"2022-01-10T00:00:00\",\"2022-01-11T00:00:00\",\"2022-01-12T00:00:00\",\"2022-01-13T00:00:00\",\"2022-01-14T00:00:00\",\"2022-01-15T00:00:00\",\"2022-01-16T00:00:00\",\"2022-01-17T00:00:00\",\"2022-01-18T00:00:00\",\"2022-01-19T00:00:00\",\"2022-01-20T00:00:00\",\"2022-01-21T00:00:00\",\"2022-01-22T00:00:00\",\"2022-01-23T00:00:00\",\"2022-01-24T00:00:00\",\"2022-01-25T00:00:00\",\"2022-01-26T00:00:00\",\"2022-01-27T00:00:00\",\"2022-01-28T00:00:00\",\"2022-01-29T00:00:00\",\"2022-01-30T00:00:00\",\"2022-01-31T00:00:00\",\"2022-02-01T00:00:00\",\"2022-02-02T00:00:00\",\"2022-02-03T00:00:00\",\"2022-02-04T00:00:00\",\"2022-02-05T00:00:00\",\"2022-02-06T00:00:00\",\"2022-02-07T00:00:00\",\"2022-02-08T00:00:00\",\"2022-02-09T00:00:00\",\"2022-02-10T00:00:00\",\"2022-02-11T00:00:00\",\"2022-02-12T00:00:00\",\"2022-02-13T00:00:00\",\"2022-02-14T00:00:00\",\"2022-02-15T00:00:00\",\"2022-02-16T00:00:00\",\"2022-02-17T00:00:00\",\"2022-02-18T00:00:00\",\"2022-02-19T00:00:00\",\"2022-02-20T00:00:00\",\"2022-02-21T00:00:00\",\"2022-02-22T00:00:00\",\"2022-02-23T00:00:00\",\"2022-02-24T00:00:00\",\"2022-02-25T00:00:00\",\"2022-02-26T00:00:00\",\"2022-02-27T00:00:00\",\"2022-02-28T00:00:00\",\"2022-03-01T00:00:00\"],\"xaxis\":\"x\",\"y\":[null,1.0323661646402087,1.0243589595363345,1.0047218482188571,1.0000567771785418,0.9446814316003108,0.9353223932927944,0.8990434910718923,0.9049292251245349,0.9035093988489478,0.9043758361559981,0.9240219554267394,0.9500876326933653,0.9204717610256961,0.9314493136007257,0.9322151314670293,0.9316733106387172,0.91397980066419,0.9175628585546066,0.9022075932177613,0.8836362091571158,0.7907562319071557,0.7603584434513353,0.784731240024202,0.7948767772388612,0.7995629947979017,0.7991000454026954,0.8015488626368401,0.8183436667333186,0.8249655698848618,0.8212462209053284,0.8307592577896826,0.8401143618411114,0.7996476379985737,0.8023385196698591,0.8871962422422517,0.8973994373138913,0.9186812663986074,0.9511518278208226,0.9557333847695438,0.9602222673826543,0.943790069587033,0.9172714608340055,0.9125244268756463,0.915391661666792,0.9224915871685285,0.9681900441944146,0.95442001845785,0.8789122132232554,0.8672540462958229,0.8690406045568673,0.8335855948337666,0.8023395395804643,0.829833532427693,0.808987671453419,0.8304765763778177,0.8511403813461192,0.8457995841741112,0.8190202526961844,0.9347478185487705],\"yaxis\":\"y\"},{\"hovertemplate\":\"variable=bitcoin_cash<br>Date=%{x|%Y-%m-%d, }<br>value=%{y}<extra></extra>\",\"legendgroup\":\"bitcoin_cash\",\"line\":{\"color\":\"#EF553B\",\"dash\":\"solid\"},\"marker\":{\"symbol\":\"circle\"},\"mode\":\"lines\",\"name\":\"bitcoin_cash\",\"orientation\":\"v\",\"showlegend\":true,\"type\":\"scatter\",\"x\":[\"2022-01-01T00:00:00\",\"2022-01-02T00:00:00\",\"2022-01-03T00:00:00\",\"2022-01-04T00:00:00\",\"2022-01-05T00:00:00\",\"2022-01-06T00:00:00\",\"2022-01-07T00:00:00\",\"2022-01-08T00:00:00\",\"2022-01-09T00:00:00\",\"2022-01-10T00:00:00\",\"2022-01-11T00:00:00\",\"2022-01-12T00:00:00\",\"2022-01-13T00:00:00\",\"2022-01-14T00:00:00\",\"2022-01-15T00:00:00\",\"2022-01-16T00:00:00\",\"2022-01-17T00:00:00\",\"2022-01-18T00:00:00\",\"2022-01-19T00:00:00\",\"2022-01-20T00:00:00\",\"2022-01-21T00:00:00\",\"2022-01-22T00:00:00\",\"2022-01-23T00:00:00\",\"2022-01-24T00:00:00\",\"2022-01-25T00:00:00\",\"2022-01-26T00:00:00\",\"2022-01-27T00:00:00\",\"2022-01-28T00:00:00\",\"2022-01-29T00:00:00\",\"2022-01-30T00:00:00\",\"2022-01-31T00:00:00\",\"2022-02-01T00:00:00\",\"2022-02-02T00:00:00\",\"2022-02-03T00:00:00\",\"2022-02-04T00:00:00\",\"2022-02-05T00:00:00\",\"2022-02-06T00:00:00\",\"2022-02-07T00:00:00\",\"2022-02-08T00:00:00\",\"2022-02-09T00:00:00\",\"2022-02-10T00:00:00\",\"2022-02-11T00:00:00\",\"2022-02-12T00:00:00\",\"2022-02-13T00:00:00\",\"2022-02-14T00:00:00\",\"2022-02-15T00:00:00\",\"2022-02-16T00:00:00\",\"2022-02-17T00:00:00\",\"2022-02-18T00:00:00\",\"2022-02-19T00:00:00\",\"2022-02-20T00:00:00\",\"2022-02-21T00:00:00\",\"2022-02-22T00:00:00\",\"2022-02-23T00:00:00\",\"2022-02-24T00:00:00\",\"2022-02-25T00:00:00\",\"2022-02-26T00:00:00\",\"2022-02-27T00:00:00\",\"2022-02-28T00:00:00\",\"2022-03-01T00:00:00\"],\"xaxis\":\"x\",\"y\":[null,null,null,null,null,null,null,null,null,null,null,null,null,null,null,null,null,null,null,null,null,null,null,null,null,null,null,null,null,null,null,null,null,null,null,null,null,null,null,null,null,null,null,null,null,null,null,null,null,null,null,null,null,null,null,null,null,null,null,null],\"yaxis\":\"y\"},{\"hovertemplate\":\"variable=cardano<br>Date=%{x|%Y-%m-%d, }<br>value=%{y}<extra></extra>\",\"legendgroup\":\"cardano\",\"line\":{\"color\":\"#00cc96\",\"dash\":\"solid\"},\"marker\":{\"symbol\":\"circle\"},\"mode\":\"lines\",\"name\":\"cardano\",\"orientation\":\"v\",\"showlegend\":true,\"type\":\"scatter\",\"x\":[\"2022-01-01T00:00:00\",\"2022-01-02T00:00:00\",\"2022-01-03T00:00:00\",\"2022-01-04T00:00:00\",\"2022-01-05T00:00:00\",\"2022-01-06T00:00:00\",\"2022-01-07T00:00:00\",\"2022-01-08T00:00:00\",\"2022-01-09T00:00:00\",\"2022-01-10T00:00:00\",\"2022-01-11T00:00:00\",\"2022-01-12T00:00:00\",\"2022-01-13T00:00:00\",\"2022-01-14T00:00:00\",\"2022-01-15T00:00:00\",\"2022-01-16T00:00:00\",\"2022-01-17T00:00:00\",\"2022-01-18T00:00:00\",\"2022-01-19T00:00:00\",\"2022-01-20T00:00:00\",\"2022-01-21T00:00:00\",\"2022-01-22T00:00:00\",\"2022-01-23T00:00:00\",\"2022-01-24T00:00:00\",\"2022-01-25T00:00:00\",\"2022-01-26T00:00:00\",\"2022-01-27T00:00:00\",\"2022-01-28T00:00:00\",\"2022-01-29T00:00:00\",\"2022-01-30T00:00:00\",\"2022-01-31T00:00:00\",\"2022-02-01T00:00:00\",\"2022-02-02T00:00:00\",\"2022-02-03T00:00:00\",\"2022-02-04T00:00:00\",\"2022-02-05T00:00:00\",\"2022-02-06T00:00:00\",\"2022-02-07T00:00:00\",\"2022-02-08T00:00:00\",\"2022-02-09T00:00:00\",\"2022-02-10T00:00:00\",\"2022-02-11T00:00:00\",\"2022-02-12T00:00:00\",\"2022-02-13T00:00:00\",\"2022-02-14T00:00:00\",\"2022-02-15T00:00:00\",\"2022-02-16T00:00:00\",\"2022-02-17T00:00:00\",\"2022-02-18T00:00:00\",\"2022-02-19T00:00:00\",\"2022-02-20T00:00:00\",\"2022-02-21T00:00:00\",\"2022-02-22T00:00:00\",\"2022-02-23T00:00:00\",\"2022-02-24T00:00:00\",\"2022-02-25T00:00:00\",\"2022-02-26T00:00:00\",\"2022-02-27T00:00:00\",\"2022-02-28T00:00:00\",\"2022-03-01T00:00:00\"],\"xaxis\":\"x\",\"y\":[null,1.0474977054256067,1.049668309230127,1.009077673981626,1.0039226033861286,0.9472917109024886,0.975947464686672,0.9228539595306086,0.9077940978481882,0.8907076758399609,0.8603169033678882,0.902882328916242,0.9927768901330762,0.9436701716544921,0.9751998107737582,0.9865648427340244,1.0737191603336649,1.1973307485002544,1.1196994875699715,1.0220190362100907,0.963649647034535,0.8618815643151742,0.8118366503854015,0.8521537880696656,0.8130601487644447,0.7943749633381884,0.8243184393426228,0.7963162195660449,0.7994354860669883,0.805813543031253,0.7904067752290853,0.7990749825574596,0.8248134846596263,0.7832829540577357,0.8028029594925061,0.8580037966598894,0.8621155040516094,0.8735890080844048,0.9129717582546804,0.8971487491850283,0.9096376460317642,0.876670781161749,0.8224317355046208,0.8028077434785367,0.7948043696305176,0.7992567326951998,0.8455530745778858,0.8276813913844335,0.776762954112803,0.7597689414672909,0.758779678532491,0.7145343467359618,0.6561931563014755,0.6788362747632914,0.6632582290688626,0.6488919339274916,0.6826283213551101,0.6741876977070753,0.653479789969989,0.7259174366230512],\"yaxis\":\"y\"},{\"hovertemplate\":\"variable=ethereum<br>Date=%{x|%Y-%m-%d, }<br>value=%{y}<extra></extra>\",\"legendgroup\":\"ethereum\",\"line\":{\"color\":\"#ab63fa\",\"dash\":\"solid\"},\"marker\":{\"symbol\":\"circle\"},\"mode\":\"lines\",\"name\":\"ethereum\",\"orientation\":\"v\",\"showlegend\":true,\"type\":\"scatter\",\"x\":[\"2022-01-01T00:00:00\",\"2022-01-02T00:00:00\",\"2022-01-03T00:00:00\",\"2022-01-04T00:00:00\",\"2022-01-05T00:00:00\",\"2022-01-06T00:00:00\",\"2022-01-07T00:00:00\",\"2022-01-08T00:00:00\",\"2022-01-09T00:00:00\",\"2022-01-10T00:00:00\",\"2022-01-11T00:00:00\",\"2022-01-12T00:00:00\",\"2022-01-13T00:00:00\",\"2022-01-14T00:00:00\",\"2022-01-15T00:00:00\",\"2022-01-16T00:00:00\",\"2022-01-17T00:00:00\",\"2022-01-18T00:00:00\",\"2022-01-19T00:00:00\",\"2022-01-20T00:00:00\",\"2022-01-21T00:00:00\",\"2022-01-22T00:00:00\",\"2022-01-23T00:00:00\",\"2022-01-24T00:00:00\",\"2022-01-25T00:00:00\",\"2022-01-26T00:00:00\",\"2022-01-27T00:00:00\",\"2022-01-28T00:00:00\",\"2022-01-29T00:00:00\",\"2022-01-30T00:00:00\",\"2022-01-31T00:00:00\",\"2022-02-01T00:00:00\",\"2022-02-02T00:00:00\",\"2022-02-03T00:00:00\",\"2022-02-04T00:00:00\",\"2022-02-05T00:00:00\",\"2022-02-06T00:00:00\",\"2022-02-07T00:00:00\",\"2022-02-08T00:00:00\",\"2022-02-09T00:00:00\",\"2022-02-10T00:00:00\",\"2022-02-11T00:00:00\",\"2022-02-12T00:00:00\",\"2022-02-13T00:00:00\",\"2022-02-14T00:00:00\",\"2022-02-15T00:00:00\",\"2022-02-16T00:00:00\",\"2022-02-17T00:00:00\",\"2022-02-18T00:00:00\",\"2022-02-19T00:00:00\",\"2022-02-20T00:00:00\",\"2022-02-21T00:00:00\",\"2022-02-22T00:00:00\",\"2022-02-23T00:00:00\",\"2022-02-24T00:00:00\",\"2022-02-25T00:00:00\",\"2022-02-26T00:00:00\",\"2022-02-27T00:00:00\",\"2022-02-28T00:00:00\",\"2022-03-01T00:00:00\"],\"xaxis\":\"x\",\"y\":[null,1.022769499316086,1.0387946499369247,1.0200520732133025,1.033614729864909,0.9642965014765942,0.926923379281454,0.8669650082377929,0.840704845938225,0.8531770336143929,0.8359763405385081,0.8811139803700825,0.9158065525348531,0.8823283398023759,0.8973915553115546,0.9024726619386166,0.9100511215814608,0.871842615504347,0.8593136484220768,0.8442562601429494,0.8198908195279135,0.6972507219262393,0.6521279488191308,0.688114250838156,0.6640027059360687,0.6678227271611908,0.6724181166251002,0.654468970682039,0.6919318362945005,0.7050162552751351,0.7085252037921499,0.7284247752567992,0.7595267859343867,0.7305666049702665,0.7219424488327878,0.8061970915085326,0.8222099851835909,0.8323008519896568,0.8557500197814858,0.8505040623119297,0.8806940339667678,0.8376201902273048,0.7961365655076451,0.7901886577309248,0.7850389691984069,0.7989454463713831,0.8681197135828129,0.8551152645282865,0.7850380675439445,0.7594463513223556,0.7522090161690671,0.716285841249164,0.7022358061826633,0.7208074311009977,0.7071488061728314,0.7083674035449627,0.7585995419098758,0.7563716617877079,0.71526309930894,0.7936870934394732],\"yaxis\":\"y\"},{\"hovertemplate\":\"variable=litecoin<br>Date=%{x|%Y-%m-%d, }<br>value=%{y}<extra></extra>\",\"legendgroup\":\"litecoin\",\"line\":{\"color\":\"#FFA15A\",\"dash\":\"solid\"},\"marker\":{\"symbol\":\"circle\"},\"mode\":\"lines\",\"name\":\"litecoin\",\"orientation\":\"v\",\"showlegend\":true,\"type\":\"scatter\",\"x\":[\"2022-01-01T00:00:00\",\"2022-01-02T00:00:00\",\"2022-01-03T00:00:00\",\"2022-01-04T00:00:00\",\"2022-01-05T00:00:00\",\"2022-01-06T00:00:00\",\"2022-01-07T00:00:00\",\"2022-01-08T00:00:00\",\"2022-01-09T00:00:00\",\"2022-01-10T00:00:00\",\"2022-01-11T00:00:00\",\"2022-01-12T00:00:00\",\"2022-01-13T00:00:00\",\"2022-01-14T00:00:00\",\"2022-01-15T00:00:00\",\"2022-01-16T00:00:00\",\"2022-01-17T00:00:00\",\"2022-01-18T00:00:00\",\"2022-01-19T00:00:00\",\"2022-01-20T00:00:00\",\"2022-01-21T00:00:00\",\"2022-01-22T00:00:00\",\"2022-01-23T00:00:00\",\"2022-01-24T00:00:00\",\"2022-01-25T00:00:00\",\"2022-01-26T00:00:00\",\"2022-01-27T00:00:00\",\"2022-01-28T00:00:00\",\"2022-01-29T00:00:00\",\"2022-01-30T00:00:00\",\"2022-01-31T00:00:00\",\"2022-02-01T00:00:00\",\"2022-02-02T00:00:00\",\"2022-02-03T00:00:00\",\"2022-02-04T00:00:00\",\"2022-02-05T00:00:00\",\"2022-02-06T00:00:00\",\"2022-02-07T00:00:00\",\"2022-02-08T00:00:00\",\"2022-02-09T00:00:00\",\"2022-02-10T00:00:00\",\"2022-02-11T00:00:00\",\"2022-02-12T00:00:00\",\"2022-02-13T00:00:00\",\"2022-02-14T00:00:00\",\"2022-02-15T00:00:00\",\"2022-02-16T00:00:00\",\"2022-02-17T00:00:00\",\"2022-02-18T00:00:00\",\"2022-02-19T00:00:00\",\"2022-02-20T00:00:00\",\"2022-02-21T00:00:00\",\"2022-02-22T00:00:00\",\"2022-02-23T00:00:00\",\"2022-02-24T00:00:00\",\"2022-02-25T00:00:00\",\"2022-02-26T00:00:00\",\"2022-02-27T00:00:00\",\"2022-02-28T00:00:00\",\"2022-03-01T00:00:00\"],\"xaxis\":\"x\",\"y\":[null,1.0303006013895741,1.035179849675861,1.0141086299238733,1.0080831021431298,0.9297377007873957,0.934275936803436,0.8970093192263802,0.8879465742753296,0.894253075527525,0.8656469140334472,0.8980046767255421,0.967755797815199,0.9333349721579717,0.988260176332179,1.0085217028851219,1.001343131875616,1.0366261855252463,0.9689638332787542,0.9357280265918685,0.8999593640114493,0.7851405686920203,0.7422751819128874,0.7641199813756729,0.7517923320748143,0.7406056297498536,0.7349848151272244,0.7311811062023177,0.7492424708315504,0.7574009180088888,0.7448542621525505,0.7485531313588989,0.7906396118724685,0.7416960880803263,0.7541949671037835,0.8217015459777596,0.8376451918965663,0.8734359193744092,0.9389635247021538,0.9183206334303221,0.9640774932760583,0.9273793206906835,0.8649112423185282,0.8677359398993294,0.8644768618150661,0.8551855401952889,0.9064818147308091,0.8796382165797534,0.7964951073200252,0.7887342789409686,0.7934961937988501,0.7597181646511777,0.7126454047044811,0.7375108936114356,0.7266225520564756,0.7148560628573808,0.7511155275143526,0.7410457357138027,0.7067382442450049,0.7772730870289851],\"yaxis\":\"y\"},{\"hovertemplate\":\"variable=ripple<br>Date=%{x|%Y-%m-%d, }<br>value=%{y}<extra></extra>\",\"legendgroup\":\"ripple\",\"line\":{\"color\":\"#19d3f3\",\"dash\":\"solid\"},\"marker\":{\"symbol\":\"circle\"},\"mode\":\"lines\",\"name\":\"ripple\",\"orientation\":\"v\",\"showlegend\":true,\"type\":\"scatter\",\"x\":[\"2022-01-01T00:00:00\",\"2022-01-02T00:00:00\",\"2022-01-03T00:00:00\",\"2022-01-04T00:00:00\",\"2022-01-05T00:00:00\",\"2022-01-06T00:00:00\",\"2022-01-07T00:00:00\",\"2022-01-08T00:00:00\",\"2022-01-09T00:00:00\",\"2022-01-10T00:00:00\",\"2022-01-11T00:00:00\",\"2022-01-12T00:00:00\",\"2022-01-13T00:00:00\",\"2022-01-14T00:00:00\",\"2022-01-15T00:00:00\",\"2022-01-16T00:00:00\",\"2022-01-17T00:00:00\",\"2022-01-18T00:00:00\",\"2022-01-19T00:00:00\",\"2022-01-20T00:00:00\",\"2022-01-21T00:00:00\",\"2022-01-22T00:00:00\",\"2022-01-23T00:00:00\",\"2022-01-24T00:00:00\",\"2022-01-25T00:00:00\",\"2022-01-26T00:00:00\",\"2022-01-27T00:00:00\",\"2022-01-28T00:00:00\",\"2022-01-29T00:00:00\",\"2022-01-30T00:00:00\",\"2022-01-31T00:00:00\",\"2022-02-01T00:00:00\",\"2022-02-02T00:00:00\",\"2022-02-03T00:00:00\",\"2022-02-04T00:00:00\",\"2022-02-05T00:00:00\",\"2022-02-06T00:00:00\",\"2022-02-07T00:00:00\",\"2022-02-08T00:00:00\",\"2022-02-09T00:00:00\",\"2022-02-10T00:00:00\",\"2022-02-11T00:00:00\",\"2022-02-12T00:00:00\",\"2022-02-13T00:00:00\",\"2022-02-14T00:00:00\",\"2022-02-15T00:00:00\",\"2022-02-16T00:00:00\",\"2022-02-17T00:00:00\",\"2022-02-18T00:00:00\",\"2022-02-19T00:00:00\",\"2022-02-20T00:00:00\",\"2022-02-21T00:00:00\",\"2022-02-22T00:00:00\",\"2022-02-23T00:00:00\",\"2022-02-24T00:00:00\",\"2022-02-25T00:00:00\",\"2022-02-26T00:00:00\",\"2022-02-27T00:00:00\",\"2022-02-28T00:00:00\",\"2022-03-01T00:00:00\"],\"xaxis\":\"x\",\"y\":[null,1.0235769008427131,1.035617356106722,1.0036994071625442,0.9962243136094072,0.936618487378431,0.9454144876444357,0.9216951008124094,0.9043974015808656,0.9080904581468164,0.8920886692462072,0.9302402032627385,0.9654716173124053,0.9295809785857206,0.9335061874595214,0.9422291100184209,0.9400521688382792,0.9227317403697741,0.9090955986591672,0.8947377441236359,0.8738261798529809,0.7723834965595744,0.722840151360308,0.7602330923101009,0.7438232591711943,0.7494852509952052,0.7540717530785285,0.7370550008064594,0.7410643697865251,0.7450503792592909,0.7300017656023189,0.7477814784268899,0.7612328850490911,0.7278743310178355,0.737862400288018,0.7872627819554754,0.8133619633322989,0.8302105923653379,0.9996256123679226,1.0660290953857958,1.0676941912855997,1.0141281071178627,0.9216154033899581,0.9898568448328436,0.9819228432706465,0.972859420072676,1.0332262891616222,1.0168447131909464,0.9352801335482421,0.9557884538104832,1.0010117046956961,0.9442460893994687,0.8596069792187856,0.8807451694734567,0.852751548438216,0.8464701739605386,0.935717793749386,0.9094404995764124,0.8750153890347808,0.9488711792683959],\"yaxis\":\"y\"},{\"hovertemplate\":\"variable=solana<br>Date=%{x|%Y-%m-%d, }<br>value=%{y}<extra></extra>\",\"legendgroup\":\"solana\",\"line\":{\"color\":\"#FF6692\",\"dash\":\"solid\"},\"marker\":{\"symbol\":\"circle\"},\"mode\":\"lines\",\"name\":\"solana\",\"orientation\":\"v\",\"showlegend\":true,\"type\":\"scatter\",\"x\":[\"2022-01-01T00:00:00\",\"2022-01-02T00:00:00\",\"2022-01-03T00:00:00\",\"2022-01-04T00:00:00\",\"2022-01-05T00:00:00\",\"2022-01-06T00:00:00\",\"2022-01-07T00:00:00\",\"2022-01-08T00:00:00\",\"2022-01-09T00:00:00\",\"2022-01-10T00:00:00\",\"2022-01-11T00:00:00\",\"2022-01-12T00:00:00\",\"2022-01-13T00:00:00\",\"2022-01-14T00:00:00\",\"2022-01-15T00:00:00\",\"2022-01-16T00:00:00\",\"2022-01-17T00:00:00\",\"2022-01-18T00:00:00\",\"2022-01-19T00:00:00\",\"2022-01-20T00:00:00\",\"2022-01-21T00:00:00\",\"2022-01-22T00:00:00\",\"2022-01-23T00:00:00\",\"2022-01-24T00:00:00\",\"2022-01-25T00:00:00\",\"2022-01-26T00:00:00\",\"2022-01-27T00:00:00\",\"2022-01-28T00:00:00\",\"2022-01-29T00:00:00\",\"2022-01-30T00:00:00\",\"2022-01-31T00:00:00\",\"2022-02-01T00:00:00\",\"2022-02-02T00:00:00\",\"2022-02-03T00:00:00\",\"2022-02-04T00:00:00\",\"2022-02-05T00:00:00\",\"2022-02-06T00:00:00\",\"2022-02-07T00:00:00\",\"2022-02-08T00:00:00\",\"2022-02-09T00:00:00\",\"2022-02-10T00:00:00\",\"2022-02-11T00:00:00\",\"2022-02-12T00:00:00\",\"2022-02-13T00:00:00\",\"2022-02-14T00:00:00\",\"2022-02-15T00:00:00\",\"2022-02-16T00:00:00\",\"2022-02-17T00:00:00\",\"2022-02-18T00:00:00\",\"2022-02-19T00:00:00\",\"2022-02-20T00:00:00\",\"2022-02-21T00:00:00\",\"2022-02-22T00:00:00\",\"2022-02-23T00:00:00\",\"2022-02-24T00:00:00\",\"2022-02-25T00:00:00\",\"2022-02-26T00:00:00\",\"2022-02-27T00:00:00\",\"2022-02-28T00:00:00\",\"2022-03-01T00:00:00\"],\"xaxis\":\"x\",\"y\":[null,1.0412507128472366,1.032079669927651,0.9996100560609036,0.9880035078092587,0.9107338507769006,0.8856017393038101,0.8053869039543997,0.8445060670735814,0.8287070862766057,0.7999017486459585,0.8283160507602423,0.898442561293893,0.8680136079074753,0.8665978745554498,0.8758187169961777,0.8779631827491087,0.8322558202385821,0.8425147556666855,0.8098819801431608,0.7697949095393248,0.6628598048790744,0.5607098160219018,0.5914302067586303,0.546427798927707,0.5686335855251452,0.5527372868239859,0.532622545097391,0.5441028046400986,0.5711177948490085,0.5562143348140609,0.5926358672519483,0.6574582655684237,0.6043673681509305,0.6016833203763383,0.6639534505166096,0.6820820317383771,0.6902893674912136,0.705104902513226,0.6828058079988787,0.6859950523673902,0.6393634096928629,0.5783160210976227,0.5736011260555363,0.5608450956677243,0.5818631924297002,0.6346938450510162,0.6182097952126204,0.5654876803680284,0.5448873895844453,0.5520813541512559,0.5530722005528749,0.5051845135553863,0.5243949131495128,0.5158971426589652,0.5386309522095736,0.56551797181518,0.5437382734001706,0.5171327944749297,0.6019237295771678],\"yaxis\":\"y\"}],                        {\"legend\":{\"title\":{\"text\":\"variable\"},\"tracegroupgap\":0},\"template\":{\"data\":{\"bar\":[{\"error_x\":{\"color\":\"#2a3f5f\"},\"error_y\":{\"color\":\"#2a3f5f\"},\"marker\":{\"line\":{\"color\":\"#E5ECF6\",\"width\":0.5},\"pattern\":{\"fillmode\":\"overlay\",\"size\":10,\"solidity\":0.2}},\"type\":\"bar\"}],\"barpolar\":[{\"marker\":{\"line\":{\"color\":\"#E5ECF6\",\"width\":0.5},\"pattern\":{\"fillmode\":\"overlay\",\"size\":10,\"solidity\":0.2}},\"type\":\"barpolar\"}],\"carpet\":[{\"aaxis\":{\"endlinecolor\":\"#2a3f5f\",\"gridcolor\":\"white\",\"linecolor\":\"white\",\"minorgridcolor\":\"white\",\"startlinecolor\":\"#2a3f5f\"},\"baxis\":{\"endlinecolor\":\"#2a3f5f\",\"gridcolor\":\"white\",\"linecolor\":\"white\",\"minorgridcolor\":\"white\",\"startlinecolor\":\"#2a3f5f\"},\"type\":\"carpet\"}],\"choropleth\":[{\"colorbar\":{\"outlinewidth\":0,\"ticks\":\"\"},\"type\":\"choropleth\"}],\"contour\":[{\"colorbar\":{\"outlinewidth\":0,\"ticks\":\"\"},\"colorscale\":[[0.0,\"#0d0887\"],[0.1111111111111111,\"#46039f\"],[0.2222222222222222,\"#7201a8\"],[0.3333333333333333,\"#9c179e\"],[0.4444444444444444,\"#bd3786\"],[0.5555555555555556,\"#d8576b\"],[0.6666666666666666,\"#ed7953\"],[0.7777777777777778,\"#fb9f3a\"],[0.8888888888888888,\"#fdca26\"],[1.0,\"#f0f921\"]],\"type\":\"contour\"}],\"contourcarpet\":[{\"colorbar\":{\"outlinewidth\":0,\"ticks\":\"\"},\"type\":\"contourcarpet\"}],\"heatmap\":[{\"colorbar\":{\"outlinewidth\":0,\"ticks\":\"\"},\"colorscale\":[[0.0,\"#0d0887\"],[0.1111111111111111,\"#46039f\"],[0.2222222222222222,\"#7201a8\"],[0.3333333333333333,\"#9c179e\"],[0.4444444444444444,\"#bd3786\"],[0.5555555555555556,\"#d8576b\"],[0.6666666666666666,\"#ed7953\"],[0.7777777777777778,\"#fb9f3a\"],[0.8888888888888888,\"#fdca26\"],[1.0,\"#f0f921\"]],\"type\":\"heatmap\"}],\"heatmapgl\":[{\"colorbar\":{\"outlinewidth\":0,\"ticks\":\"\"},\"colorscale\":[[0.0,\"#0d0887\"],[0.1111111111111111,\"#46039f\"],[0.2222222222222222,\"#7201a8\"],[0.3333333333333333,\"#9c179e\"],[0.4444444444444444,\"#bd3786\"],[0.5555555555555556,\"#d8576b\"],[0.6666666666666666,\"#ed7953\"],[0.7777777777777778,\"#fb9f3a\"],[0.8888888888888888,\"#fdca26\"],[1.0,\"#f0f921\"]],\"type\":\"heatmapgl\"}],\"histogram\":[{\"marker\":{\"pattern\":{\"fillmode\":\"overlay\",\"size\":10,\"solidity\":0.2}},\"type\":\"histogram\"}],\"histogram2d\":[{\"colorbar\":{\"outlinewidth\":0,\"ticks\":\"\"},\"colorscale\":[[0.0,\"#0d0887\"],[0.1111111111111111,\"#46039f\"],[0.2222222222222222,\"#7201a8\"],[0.3333333333333333,\"#9c179e\"],[0.4444444444444444,\"#bd3786\"],[0.5555555555555556,\"#d8576b\"],[0.6666666666666666,\"#ed7953\"],[0.7777777777777778,\"#fb9f3a\"],[0.8888888888888888,\"#fdca26\"],[1.0,\"#f0f921\"]],\"type\":\"histogram2d\"}],\"histogram2dcontour\":[{\"colorbar\":{\"outlinewidth\":0,\"ticks\":\"\"},\"colorscale\":[[0.0,\"#0d0887\"],[0.1111111111111111,\"#46039f\"],[0.2222222222222222,\"#7201a8\"],[0.3333333333333333,\"#9c179e\"],[0.4444444444444444,\"#bd3786\"],[0.5555555555555556,\"#d8576b\"],[0.6666666666666666,\"#ed7953\"],[0.7777777777777778,\"#fb9f3a\"],[0.8888888888888888,\"#fdca26\"],[1.0,\"#f0f921\"]],\"type\":\"histogram2dcontour\"}],\"mesh3d\":[{\"colorbar\":{\"outlinewidth\":0,\"ticks\":\"\"},\"type\":\"mesh3d\"}],\"parcoords\":[{\"line\":{\"colorbar\":{\"outlinewidth\":0,\"ticks\":\"\"}},\"type\":\"parcoords\"}],\"pie\":[{\"automargin\":true,\"type\":\"pie\"}],\"scatter\":[{\"marker\":{\"colorbar\":{\"outlinewidth\":0,\"ticks\":\"\"}},\"type\":\"scatter\"}],\"scatter3d\":[{\"line\":{\"colorbar\":{\"outlinewidth\":0,\"ticks\":\"\"}},\"marker\":{\"colorbar\":{\"outlinewidth\":0,\"ticks\":\"\"}},\"type\":\"scatter3d\"}],\"scattercarpet\":[{\"marker\":{\"colorbar\":{\"outlinewidth\":0,\"ticks\":\"\"}},\"type\":\"scattercarpet\"}],\"scattergeo\":[{\"marker\":{\"colorbar\":{\"outlinewidth\":0,\"ticks\":\"\"}},\"type\":\"scattergeo\"}],\"scattergl\":[{\"marker\":{\"colorbar\":{\"outlinewidth\":0,\"ticks\":\"\"}},\"type\":\"scattergl\"}],\"scattermapbox\":[{\"marker\":{\"colorbar\":{\"outlinewidth\":0,\"ticks\":\"\"}},\"type\":\"scattermapbox\"}],\"scatterpolar\":[{\"marker\":{\"colorbar\":{\"outlinewidth\":0,\"ticks\":\"\"}},\"type\":\"scatterpolar\"}],\"scatterpolargl\":[{\"marker\":{\"colorbar\":{\"outlinewidth\":0,\"ticks\":\"\"}},\"type\":\"scatterpolargl\"}],\"scatterternary\":[{\"marker\":{\"colorbar\":{\"outlinewidth\":0,\"ticks\":\"\"}},\"type\":\"scatterternary\"}],\"surface\":[{\"colorbar\":{\"outlinewidth\":0,\"ticks\":\"\"},\"colorscale\":[[0.0,\"#0d0887\"],[0.1111111111111111,\"#46039f\"],[0.2222222222222222,\"#7201a8\"],[0.3333333333333333,\"#9c179e\"],[0.4444444444444444,\"#bd3786\"],[0.5555555555555556,\"#d8576b\"],[0.6666666666666666,\"#ed7953\"],[0.7777777777777778,\"#fb9f3a\"],[0.8888888888888888,\"#fdca26\"],[1.0,\"#f0f921\"]],\"type\":\"surface\"}],\"table\":[{\"cells\":{\"fill\":{\"color\":\"#EBF0F8\"},\"line\":{\"color\":\"white\"}},\"header\":{\"fill\":{\"color\":\"#C8D4E3\"},\"line\":{\"color\":\"white\"}},\"type\":\"table\"}]},\"layout\":{\"annotationdefaults\":{\"arrowcolor\":\"#2a3f5f\",\"arrowhead\":0,\"arrowwidth\":1},\"autotypenumbers\":\"strict\",\"coloraxis\":{\"colorbar\":{\"outlinewidth\":0,\"ticks\":\"\"}},\"colorscale\":{\"diverging\":[[0,\"#8e0152\"],[0.1,\"#c51b7d\"],[0.2,\"#de77ae\"],[0.3,\"#f1b6da\"],[0.4,\"#fde0ef\"],[0.5,\"#f7f7f7\"],[0.6,\"#e6f5d0\"],[0.7,\"#b8e186\"],[0.8,\"#7fbc41\"],[0.9,\"#4d9221\"],[1,\"#276419\"]],\"sequential\":[[0.0,\"#0d0887\"],[0.1111111111111111,\"#46039f\"],[0.2222222222222222,\"#7201a8\"],[0.3333333333333333,\"#9c179e\"],[0.4444444444444444,\"#bd3786\"],[0.5555555555555556,\"#d8576b\"],[0.6666666666666666,\"#ed7953\"],[0.7777777777777778,\"#fb9f3a\"],[0.8888888888888888,\"#fdca26\"],[1.0,\"#f0f921\"]],\"sequentialminus\":[[0.0,\"#0d0887\"],[0.1111111111111111,\"#46039f\"],[0.2222222222222222,\"#7201a8\"],[0.3333333333333333,\"#9c179e\"],[0.4444444444444444,\"#bd3786\"],[0.5555555555555556,\"#d8576b\"],[0.6666666666666666,\"#ed7953\"],[0.7777777777777778,\"#fb9f3a\"],[0.8888888888888888,\"#fdca26\"],[1.0,\"#f0f921\"]]},\"colorway\":[\"#636efa\",\"#EF553B\",\"#00cc96\",\"#ab63fa\",\"#FFA15A\",\"#19d3f3\",\"#FF6692\",\"#B6E880\",\"#FF97FF\",\"#FECB52\"],\"font\":{\"color\":\"#2a3f5f\"},\"geo\":{\"bgcolor\":\"white\",\"lakecolor\":\"white\",\"landcolor\":\"#E5ECF6\",\"showlakes\":true,\"showland\":true,\"subunitcolor\":\"white\"},\"hoverlabel\":{\"align\":\"left\"},\"hovermode\":\"closest\",\"mapbox\":{\"style\":\"light\"},\"paper_bgcolor\":\"white\",\"plot_bgcolor\":\"#E5ECF6\",\"polar\":{\"angularaxis\":{\"gridcolor\":\"white\",\"linecolor\":\"white\",\"ticks\":\"\"},\"bgcolor\":\"#E5ECF6\",\"radialaxis\":{\"gridcolor\":\"white\",\"linecolor\":\"white\",\"ticks\":\"\"}},\"scene\":{\"xaxis\":{\"backgroundcolor\":\"#E5ECF6\",\"gridcolor\":\"white\",\"gridwidth\":2,\"linecolor\":\"white\",\"showbackground\":true,\"ticks\":\"\",\"zerolinecolor\":\"white\"},\"yaxis\":{\"backgroundcolor\":\"#E5ECF6\",\"gridcolor\":\"white\",\"gridwidth\":2,\"linecolor\":\"white\",\"showbackground\":true,\"ticks\":\"\",\"zerolinecolor\":\"white\"},\"zaxis\":{\"backgroundcolor\":\"#E5ECF6\",\"gridcolor\":\"white\",\"gridwidth\":2,\"linecolor\":\"white\",\"showbackground\":true,\"ticks\":\"\",\"zerolinecolor\":\"white\"}},\"shapedefaults\":{\"line\":{\"color\":\"#2a3f5f\"}},\"ternary\":{\"aaxis\":{\"gridcolor\":\"white\",\"linecolor\":\"white\",\"ticks\":\"\"},\"baxis\":{\"gridcolor\":\"white\",\"linecolor\":\"white\",\"ticks\":\"\"},\"bgcolor\":\"#E5ECF6\",\"caxis\":{\"gridcolor\":\"white\",\"linecolor\":\"white\",\"ticks\":\"\"}},\"title\":{\"x\":0.05},\"xaxis\":{\"automargin\":true,\"gridcolor\":\"white\",\"linecolor\":\"white\",\"ticks\":\"\",\"title\":{\"standoff\":15},\"zerolinecolor\":\"white\",\"zerolinewidth\":2},\"yaxis\":{\"automargin\":true,\"gridcolor\":\"white\",\"linecolor\":\"white\",\"ticks\":\"\",\"title\":{\"standoff\":15},\"zerolinecolor\":\"white\",\"zerolinewidth\":2}}},\"title\":{\"text\":\"Daily Cummulative Simple returns/growth of investment from 2022-01-01 to 2022-03-01\"},\"xaxis\":{\"anchor\":\"y\",\"domain\":[0.0,1.0],\"dtick\":\"M1\",\"tickformat\":\"%b\\n%Y\",\"title\":{\"text\":\"Date\"}},\"yaxis\":{\"anchor\":\"x\",\"domain\":[0.0,1.0],\"title\":{\"text\":\"value\"}}},                        {\"responsive\": true}                    ).then(function(){\n",
       "                            \n",
       "var gd = document.getElementById('b3214ef4-8d0e-4513-9207-7320389d08cd');\n",
       "var x = new MutationObserver(function (mutations, observer) {{\n",
       "        var display = window.getComputedStyle(gd).display;\n",
       "        if (!display || display === 'none') {{\n",
       "            console.log([gd, 'removed!']);\n",
       "            Plotly.purge(gd);\n",
       "            observer.disconnect();\n",
       "        }}\n",
       "}});\n",
       "\n",
       "// Listen for the removal of the full notebook cells\n",
       "var notebookContainer = gd.closest('#notebook-container');\n",
       "if (notebookContainer) {{\n",
       "    x.observe(notebookContainer, {childList: true});\n",
       "}}\n",
       "\n",
       "// Listen for the clearing of the current output cell\n",
       "var outputEl = gd.closest('.output');\n",
       "if (outputEl) {{\n",
       "    x.observe(outputEl, {childList: true});\n",
       "}}\n",
       "\n",
       "                        })                };                });            </script>        </div>"
      ]
     },
     "metadata": {},
     "output_type": "display_data"
    }
   ],
   "source": [
    "import plotly.express as px\n",
    "\n",
    "_investment = 1.0 # USD\n",
    "\n",
    "_cum_prod_df = market_df.copy()\n",
    "_l_coin_ids = [col for col in _cum_prod_df if col != 'Date']\n",
    "_min_date = (_cum_prod_df[\"Date\"].min()).date()\n",
    "_max_date = (_cum_prod_df[\"Date\"].max()).date()\n",
    "_cum_prod_df = _cum_prod_df[_l_coin_ids].pct_change(periods=1)\n",
    "daily_cummulative_simple_return = (_cum_prod_df[_l_coin_ids]+_investment).cumprod()\n",
    "daily_cummulative_simple_return = pd.concat([daily_cummulative_simple_return,market_df['Date']],axis=1)\n",
    "\n",
    "_title = \"Daily Cummulative Simple returns/growth of investment from \"\\\n",
    "            +str(_min_date)+\" to \"+str(_max_date)\n",
    "fig = px.line(daily_cummulative_simple_return, x=\"Date\", y=daily_cummulative_simple_return.columns,\n",
    "              hover_data={\"Date\": \"|%Y-%m-%d, \"},\n",
    "              title=_title)\n",
    "fig.update_xaxes(\n",
    "    dtick=\"M1\",\n",
    "    tickformat=\"%b\\n%Y\")\n",
    "fig.show()"
   ]
  },
  {
   "cell_type": "markdown",
   "id": "fa7c94bb",
   "metadata": {},
   "source": [
    "## DEPRECATED"
   ]
  }
 ],
 "metadata": {
  "kernelspec": {
   "display_name": "Python 3.8.10 64-bit",
   "language": "python",
   "name": "python3"
  },
  "language_info": {
   "codemirror_mode": {
    "name": "ipython",
    "version": 3
   },
   "file_extension": ".py",
   "mimetype": "text/x-python",
   "name": "python",
   "nbconvert_exporter": "python",
   "pygments_lexer": "ipython3",
   "version": "3.8.10"
  },
  "vscode": {
   "interpreter": {
    "hash": "e7370f93d1d0cde622a1f8e1c04877d8463912d04d973331ad4851f04de6915a"
   }
  }
 },
 "nbformat": 4,
 "nbformat_minor": 5
}
