{
 "cells": [
  {
   "cell_type": "markdown",
   "id": "a438f48a",
   "metadata": {},
   "source": [
    "# Portfolio Selection and Rebalancing\n",
    "\n",
    "* Follow a similar procedure to that of [Portfolio Allocation and Pair Trading Strategy](https://blog.quantinsti.com/portfolio-allocation-pair-trading-strategy-python-project-ravindra-rawat/)\n",
    "* [A strategy combining momentum and mean reversion](https://www.quantconnect.com/tutorials/strategy-library/combining-mean-reversion-and-momentum-in-forex-market)\n",
    "* Using these factors we use regression to predict the returns of the coming month.\n",
    "\n",
    "## Risk measure\n",
    "* expected return on an investment is the expected value of the probability distribution of possible returns it can provide. The purpose of calculating the expected return on an investment is to provide an investor with an idea of probable profit vs risk. This gives the investor a basis for comparison with the risk-free rate of return. The interest rate on 3-month U.S. Treasury bills is often used to represent the risk-free rate of return.\n",
    "* Risk of a single asset is the standard devsion ${\\sigma}$ for a given time. We calculated the T-day (e.g. 7-day) [moving standard deviation](https://www.danielstrading.com/education/technical-analysis-learning-center/moving-standard-deviation) ${\\sigma}^{(T)}$\n",
    "* MPT uses variance as its measure of risk"
   ]
  },
  {
   "cell_type": "markdown",
   "id": "8114366d",
   "metadata": {},
   "source": [
    "# Fund allocation and back testing\n",
    "\n",
    "* [Estimate portfolio weights using Monte Carlo simulation](https://medium.com/analytics-vidhya/how-to-estimate-optimal-stock-portfolio-weights-using-monte-carlo-simulations-modern-portfolio-d27d534e8a1a)\n",
    "* [Portfolio selection using Bayes Theorem](https://www.hindawi.com/journals/mpe/2019/4246903/)\n",
    "* Introduction to [Modern Portfolio Theory](https://www.quantconnect.com/tutorials/introduction-to-financial-python/modern-portfolio-theory)\n",
    "* [Practical Portfolio Optimisation](https://pythoninvest.com/long-read/practical-portfolio-optimisation)\n",
    "\n",
    "\n",
    "1. Define the start and end date of the simulation cycle\n",
    "   1. start_date: assumed date fund is allocated\n",
    "   1. end_date: pseudo current date\n",
    "1. Get the market capitalization data for entire time period\n",
    "   1. Compute retrospective mean and standard deviation upto start_date\n",
    "      1. compute for entire retrospective period\n",
    "      1. compute for past 7, 20, and 100 days\n",
    "   1. Estimate next day return based on simple returns formula\n",
    "      1. estimate based on 7, 30, and 100 day intervals\n",
    "      1. compare with the actual value of the following day\n",
    "      1. estimate ratios based on USD & BTC as risk free returns\n",
    "1. Get top N assets for each day to compute and continue from start-date to end-date\n",
    "   1. fund allocation weights based on market capital expected returns\n",
    "   1. Re-balance the weights after estimating the returns "
   ]
  },
  {
   "cell_type": "code",
   "execution_count": null,
   "id": "0980ec03",
   "metadata": {},
   "outputs": [],
   "source": []
  }
 ],
 "metadata": {
  "kernelspec": {
   "display_name": "Python 3 (ipykernel)",
   "language": "python",
   "name": "python3"
  },
  "language_info": {
   "codemirror_mode": {
    "name": "ipython",
    "version": 3
   },
   "file_extension": ".py",
   "mimetype": "text/x-python",
   "name": "python",
   "nbconvert_exporter": "python",
   "pygments_lexer": "ipython3",
   "version": "3.8.10"
  }
 },
 "nbformat": 4,
 "nbformat_minor": 5
}
