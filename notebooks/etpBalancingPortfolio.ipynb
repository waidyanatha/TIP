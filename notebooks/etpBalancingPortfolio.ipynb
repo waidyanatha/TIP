{
 "cells": [
  {
   "cell_type": "markdown",
   "metadata": {},
   "source": [
    "# Portfolio Selection"
   ]
  },
  {
   "cell_type": "markdown",
   "id": "2a45e77c",
   "metadata": {},
   "source": [
    "# Fund allocation and back testing\n",
    "\n",
    "* [Estimate portfolio weights using Monte Carlo simulation](https://medium.com/analytics-vidhya/how-to-estimate-optimal-stock-portfolio-weights-using-monte-carlo-simulations-modern-portfolio-d27d534e8a1a)\n",
    "* [Portfolio selection using Bayes Theorem](https://www.hindawi.com/journals/mpe/2019/4246903/)\n",
    "* Introduction to [Modern Portfolio Theory](https://www.quantconnect.com/tutorials/introduction-to-financial-python/modern-portfolio-theory)\n",
    "* [Practical Portfolio Optimisation](https://pythoninvest.com/long-read/practical-portfolio-optimisation)\n",
    "\n",
    "\n",
    "1. Define the start and end date of the simulation cycle\n",
    "   1. start_date: assumed date fund is allocated\n",
    "   1. end_date: pseudo current date\n",
    "1. Get the market capitalization data for entire time period\n",
    "   1. Compute retrospective mean and standard deviation upto start_date\n",
    "      1. compute for entire retrospective period\n",
    "      1. compute for past 7, 20, and 100 days\n",
    "   1. Estimate next day return based on simple returns formula\n",
    "      1. estimate based on 7, 30, and 100 day intervals\n",
    "      1. compare with the actual value of the following day\n",
    "      1. estimate ratios based on USD & BTC as risk free returns\n",
    "1. Get top N assets for each day to compute and continue from start-date to end-date\n",
    "   1. fund allocation weights based on market capital expected returns\n",
    "   1. Re-balance the weights after estimating the returns "
   ]
  },
  {
   "cell_type": "code",
   "execution_count": null,
   "metadata": {},
   "outputs": [],
   "source": []
  }
 ],
 "metadata": {
  "kernelspec": {
   "display_name": "Python 3.8.10 64-bit",
   "language": "python",
   "name": "python3"
  },
  "language_info": {
   "name": "python",
   "version": "3.8.10"
  },
  "orig_nbformat": 4,
  "vscode": {
   "interpreter": {
    "hash": "e7370f93d1d0cde622a1f8e1c04877d8463912d04d973331ad4851f04de6915a"
   }
  }
 },
 "nbformat": 4,
 "nbformat_minor": 2
}
