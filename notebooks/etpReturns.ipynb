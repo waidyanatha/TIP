{
 "cells": [
  {
   "cell_type": "markdown",
   "id": "0094bf7c",
   "metadata": {},
   "source": [
    "# Exchange Trade Protocol\n",
    "\n",
    "In investory must consider factors such as downside risk, market conditions, and the length of time it will take for each investment to realize returns. They also need to consider opportunity costs that represent the potential benefits that an individual, investor, or business misses out on when choosing the ETP over another.\n",
    "\n",
    "The _Return On Investment_ (ROI) of a single investment is the net price gain from holding the asset by the asset's original cost. The cost of an asset includes not only the purchase price, but also any commissions, management fees, or other expenses associated with the acquisition. __ETP ROI__ is the differential gain (or loss) of the sum of the weighted original market capital to that of the current sum of the weighted market capital.\n",
    "\n",
    "* Let ${X}$ = {${x_i | i \\in I}$} the set of crypto currency assets; where $I \\subset \\mathbb{N}$ is an index set \n",
    "* respectively the set of asset market capitalization at time ${t}$: ${R}$(${t,X}$) = {${R}$(${t,x_i}$) | ${i \\in I}$}\n",
    "* the top ${N}$ market capitalization assets at time ${t}$: ${R}$(${t,{Y}}$) = {${R}$(${t,{x_{k_i}}}$) | ${k_i \\in I_N}$}; where ${I_N}$ = {${k_i \\in I}$}${_{i=1}^{N<n}}$\n",
    "* The portfolio weight allocation for the top ${N<n}$ assets at time ${t}$: ${W}$(${t,Y}$) = {${w}$(${t,x_{k_i}}$) | ${k_i \\in I_N}$}; such that $\\sum_{k_i=1}^{N<n} {w_{t}(x_{k_{i}}) = 1.0}$\n",
    "* Sum of the weighted portfolio allocation at time ${t}$: ${F_{t}({Y})}$  = $\\sum_{k_i = 1}^{N<n} {w(t,x_{k_{i}})} \\times {R(t,x_{k_i})}$\n",
    "* __Objective__ is ${Max(F(t,Y))}$ > ${R^{'}(t)}$ by finding the optimal set of weights ${W(t,Y)}$; where ${R^{'}(t)}$ is an alternative ROI from a risk free investment\n",
    "\n",
    "## Modern Portfolio Theorem\n",
    "The [post-modern portfolio theory](https://www.investopedia.com/terms/p/pmpt.asp) (PMPT) attempts to improve on modern portfolio theory by minimizing downside risk instead of variance."
   ]
  },
  {
   "cell_type": "code",
   "execution_count": 4,
   "id": "fe6edec7",
   "metadata": {},
   "outputs": [],
   "source": [
    "'''\n",
    "    WARNING CONTROL to display or ignore all warnings\n",
    "'''\n",
    "import warnings; warnings.simplefilter('default')     #switch betweeb 'default' and 'ignore'\n",
    "\n",
    "''' Set debug flag to view extended error messages; else set it to False to turn off debugging mode '''\n",
    "debug = True"
   ]
  },
  {
   "cell_type": "markdown",
   "id": "2a45e77c",
   "metadata": {},
   "source": [
    "# Fund allocation and back testing\n",
    "\n",
    "* [Estimate portfolio weights using Monte Carlo simulation](https://medium.com/analytics-vidhya/how-to-estimate-optimal-stock-portfolio-weights-using-monte-carlo-simulations-modern-portfolio-d27d534e8a1a)\n",
    "* [Portfolio selection using Bayes Theorem](https://www.hindawi.com/journals/mpe/2019/4246903/)\n",
    "* Introduction to [Modern Portfolio Theory](https://www.quantconnect.com/tutorials/introduction-to-financial-python/modern-portfolio-theory)\n",
    "* [Practical Portfolio Optimisation](https://pythoninvest.com/long-read/practical-portfolio-optimisation)\n",
    "\n",
    "\n",
    "1. Define the start and end date of the simulation cycle\n",
    "   1. start_date: assumed date fund is allocated\n",
    "   1. end_date: pseudo current date\n",
    "1. Get the market capitalization data for entire time period\n",
    "   1. Compute retrospective mean and standard deviation upto start_date\n",
    "      1. compute for entire retrospective period\n",
    "      1. compute for past 7, 20, and 100 days\n",
    "   1. Estimate next day return based on simple returns formula\n",
    "      1. estimate based on 7, 30, and 100 day intervals\n",
    "      1. compare with the actual value of the following day\n",
    "      1. estimate ratios based on USD & BTC as risk free returns\n",
    "1. Get top N assets for each day to compute and continue from start-date to end-date\n",
    "   1. fund allocation weights based on market capital expected returns\n",
    "   1. Re-balance the weights after estimating the returns "
   ]
  },
  {
   "cell_type": "markdown",
   "id": "9dd51e8e",
   "metadata": {},
   "source": [
    "## Initiate dataETL class"
   ]
  },
  {
   "cell_type": "code",
   "execution_count": 210,
   "id": "eb9c3419",
   "metadata": {},
   "outputs": [],
   "source": [
    "import sys\n",
    "sys.path.insert(1, '../lib')\n",
    "import dataETL as etl\n",
    "\n",
    "if debug:\n",
    "    import importlib\n",
    "    etl = importlib.reload(etl)\n",
    "\n",
    "''' Initialize the dataETL class '''\n",
    "path = \"../data/market_cap_2021-01-01_2022-06-01/\"\n",
    "clsETL = etl.ExtractLoadTransform(dataPath=path)"
   ]
  },
  {
   "cell_type": "markdown",
   "id": "841c3b07",
   "metadata": {},
   "source": [
    "## Load marketcap data"
   ]
  },
  {
   "cell_type": "code",
   "execution_count": 195,
   "id": "0f227640",
   "metadata": {},
   "outputs": [
    {
     "name": "stdout",
     "output_type": "stream",
     "text": [
      "Retrieved 63 files in dir: ../data/market_cap_2021-01-01_2022-06-01/ \n",
      "Loaded 3637 rows Index(['Date', 'ID', 'Symbol', 'market_cap'], dtype='object')\n",
      "Transformed dataframe 524 rows Index(['Date', 'bitcoin', 'cardano', 'ethereum', 'litecoin', 'ripple',\n",
      "       'solana'],\n",
      "      dtype='object')\n",
      "Data load and transformation to pivot table complete!\n"
     ]
    }
   ],
   "source": [
    "import pandas as pd\n",
    "\n",
    "''' Get list of data file names '''\n",
    "_l_fnames = clsETL.get_file_list()\n",
    "print(\"Retrieved %d files in dir: %s \" % (len(_l_fnames),path))\n",
    "''' Load data into dataframe '''\n",
    "rec_marketcap_df = clsETL.load_data(_l_fnames)\n",
    "print(\"Loaded %d rows %s\" % (rec_marketcap_df.shape[0],str(rec_marketcap_df.columns)))\n",
    "''' Transform data with coin ids in columns '''\n",
    "piv_marketcap_df = clsETL.transfrom_data(rec_marketcap_df, value_col_name='market_cap')\n",
    "print(\"Transformed dataframe %d rows %s\" % (piv_marketcap_df.shape[0],str(piv_marketcap_df.columns)))\n",
    "print(\"Data load and transformation to pivot table complete!\")\n"
   ]
  },
  {
   "cell_type": "markdown",
   "id": "a2683390",
   "metadata": {},
   "source": [
    "## Filtered by date range"
   ]
  },
  {
   "cell_type": "code",
   "execution_count": 196,
   "id": "aece91fd",
   "metadata": {},
   "outputs": [
    {
     "name": "stdout",
     "output_type": "stream",
     "text": [
      "<class 'pandas.core.frame.DataFrame'>\n",
      "Int64Index: 224 entries, 0 to 31\n",
      "Data columns (total 4 columns):\n",
      " #   Column      Non-Null Count  Dtype         \n",
      "---  ------      --------------  -----         \n",
      " 0   Date        224 non-null    datetime64[ns]\n",
      " 1   ID          224 non-null    object        \n",
      " 2   Symbol      224 non-null    object        \n",
      " 3   market_cap  224 non-null    float64       \n",
      "dtypes: datetime64[ns](1), float64(1), object(2)\n",
      "memory usage: 8.8+ KB\n",
      "None\n",
      "<class 'pandas.core.frame.DataFrame'>\n",
      "Int64Index: 32 entries, 365 to 396\n",
      "Data columns (total 7 columns):\n",
      " #   Column    Non-Null Count  Dtype         \n",
      "---  ------    --------------  -----         \n",
      " 0   Date      32 non-null     datetime64[ns]\n",
      " 1   bitcoin   32 non-null     float64       \n",
      " 2   cardano   32 non-null     float64       \n",
      " 3   ethereum  32 non-null     float64       \n",
      " 4   litecoin  32 non-null     float64       \n",
      " 5   ripple    32 non-null     float64       \n",
      " 6   solana    32 non-null     float64       \n",
      "dtypes: datetime64[ns](1), float64(6)\n",
      "memory usage: 2.0 KB\n",
      "None\n"
     ]
    }
   ],
   "source": [
    "import datetime\n",
    "\n",
    "start_dt = datetime.datetime(2022,1,1)\n",
    "end_dt = datetime.datetime(2022,2,1)\n",
    "\n",
    "''' >= start-date '''\n",
    "if isinstance(start_dt, datetime.date):\n",
    "    mask = (rec_marketcap_df[\"Date\"] >= start_dt)\n",
    "    rec_marketcap_df = rec_marketcap_df[mask]\n",
    "    mask = (piv_marketcap_df[\"Date\"] >= start_dt)\n",
    "    piv_marketcap_df = piv_marketcap_df[mask]\n",
    "''' <= end-date '''\n",
    "if isinstance(end_dt, datetime.date):\n",
    "    mask = (rec_marketcap_df[\"Date\"] <= end_dt)\n",
    "    rec_marketcap_df = rec_marketcap_df[mask]\n",
    "    mask = (piv_marketcap_df[\"Date\"] <= end_dt)\n",
    "    piv_marketcap_df = piv_marketcap_df[mask]\n",
    "print(rec_marketcap_df.info())\n",
    "print(piv_marketcap_df.info())"
   ]
  },
  {
   "cell_type": "markdown",
   "id": "ce0e45da",
   "metadata": {},
   "source": [
    "## Top-N Assets"
   ]
  },
  {
   "cell_type": "code",
   "execution_count": 197,
   "id": "8a507d87",
   "metadata": {},
   "outputs": [],
   "source": [
    "import numpy as np\n",
    "topN = 3\n",
    "_weights = np.array(clsETL.weights_matrix(N=topN,S=10)).reshape(-1,topN)\n",
    "_topNassets_df = clsETL.get_topN_assets(rec_marketcap_df, N=topN)\n",
    "_topNassets_df=_topNassets_df.reindex()"
   ]
  },
  {
   "cell_type": "markdown",
   "id": "b44f6b72",
   "metadata": {},
   "source": [
    "## Rolling mean and standard deviation"
   ]
  },
  {
   "cell_type": "code",
   "execution_count": 198,
   "id": "91978f4b",
   "metadata": {},
   "outputs": [],
   "source": [
    "rolling_marketcap_mean = clsETL.rolling_mean(piv_marketcap_df, period=7)\n",
    "transp_rolling_marketcap_mean = clsETL.transpose_pivot(rolling_marketcap_mean)\n",
    "rolling_marketcap_stdv = clsETL.rolling_stdv(piv_marketcap_df, period=7)\n",
    "transp_rolling_marketcap_stdv = clsETL.transpose_pivot(rolling_marketcap_stdv)"
   ]
  },
  {
   "cell_type": "markdown",
   "id": "2a6b2ef6",
   "metadata": {},
   "source": [
    "## Reshape dataframes to match TopN"
   ]
  },
  {
   "cell_type": "code",
   "execution_count": 199,
   "id": "79dd10e7",
   "metadata": {},
   "outputs": [],
   "source": [
    "matching_rolling_market_cap_mean = clsETL.match_dataframes(transp_rolling_marketcap_mean,_topNassets_df)\n",
    "matching_rolling_market_cap_stdv = clsETL.match_dataframes(transp_rolling_marketcap_stdv,_topNassets_df)"
   ]
  },
  {
   "cell_type": "markdown",
   "id": "0bf15e8c",
   "metadata": {},
   "source": [
    "## Instantiate ETP class"
   ]
  },
  {
   "cell_type": "code",
   "execution_count": 200,
   "id": "679fc01a",
   "metadata": {},
   "outputs": [
    {
     "name": "stdout",
     "output_type": "stream",
     "text": [
      "['__class__', '__delattr__', '__dict__', '__dir__', '__doc__', '__eq__', '__format__', '__ge__', '__getattribute__', '__gt__', '__hash__', '__init__', '__init_subclass__', '__le__', '__lt__', '__main__', '__module__', '__ne__', '__new__', '__reduce__', '__reduce_ex__', '__repr__', '__setattr__', '__sizeof__', '__str__', '__subclasshook__', '__weakref__', 'days_offset', 'get_geometric_return', 'get_holding_period_returns', 'get_logarithmic_returns', 'get_simple_returns', 'name', 'p_val', 'pd', 'sum_weighted_returns', 'window_length']\n"
     ]
    }
   ],
   "source": [
    "import sys\n",
    "sys.path.insert(1, '../lib')\n",
    "import assetETPreturns as returns\n",
    "\n",
    "if debug:\n",
    "    import importlib\n",
    "    returns = importlib.reload(returns)\n",
    "\n",
    "data_name = \"coindecks\"\n",
    "clsROR = returns.RateOfReturns(name=data_name)\n",
    "print(dir(clsROR))"
   ]
  },
  {
   "cell_type": "markdown",
   "id": "af263126",
   "metadata": {},
   "source": [
    "## Logarithmic returns\n",
    "* return in period t can be expressed in terms of prices of period t and t + 1 in the following way ${R(t,x_{k_i}) = log \\left({R(t,x_{k_i}) \\over R(t+1,(x_{k_i})}\\right)}$\n",
    "* apply the logarithmic returns to actual market cap, the rolling mean, and rolling standard diviation \n",
    "* need to calculate the mean of daily logarithmic returns"
   ]
  },
  {
   "cell_type": "code",
   "execution_count": 212,
   "id": "6f39a37d",
   "metadata": {
    "scrolled": false
   },
   "outputs": [
    {
     "name": "stderr",
     "output_type": "stream",
     "text": [
      "/home/gnewy/.local/lib/python3.8/site-packages/plotly/io/_renderers.py:396: DeprecationWarning:\n",
      "\n",
      "distutils Version classes are deprecated. Use packaging.version instead.\n",
      "\n"
     ]
    },
    {
     "data": {
      "application/vnd.plotly.v1+json": {
       "config": {
        "plotlyServerURL": "https://plot.ly"
       },
       "data": [
        {
         "hovertemplate": "variable=bitcoin<br>Date=%{x|%B %d, %Y}<br>value=%{y}<extra></extra>",
         "legendgroup": "bitcoin",
         "marker": {
          "color": "#636efa",
          "symbol": "circle"
         },
         "mode": "markers",
         "name": "bitcoin",
         "orientation": "v",
         "showlegend": true,
         "type": "scatter",
         "x": [
          "2022-01-01T00:00:00",
          "2022-01-02T00:00:00",
          "2022-01-03T00:00:00",
          "2022-01-04T00:00:00",
          "2022-01-05T00:00:00",
          "2022-01-06T00:00:00",
          "2022-01-07T00:00:00",
          "2022-01-08T00:00:00",
          "2022-01-09T00:00:00",
          "2022-01-10T00:00:00",
          "2022-01-11T00:00:00",
          "2022-01-12T00:00:00",
          "2022-01-13T00:00:00",
          "2022-01-14T00:00:00",
          "2022-01-15T00:00:00",
          "2022-01-16T00:00:00",
          "2022-01-17T00:00:00",
          "2022-01-18T00:00:00",
          "2022-01-19T00:00:00",
          "2022-01-20T00:00:00",
          "2022-01-21T00:00:00",
          "2022-01-22T00:00:00",
          "2022-01-23T00:00:00",
          "2022-01-24T00:00:00",
          "2022-01-25T00:00:00",
          "2022-01-26T00:00:00",
          "2022-01-27T00:00:00",
          "2022-01-28T00:00:00",
          "2022-01-29T00:00:00",
          "2022-01-30T00:00:00",
          "2022-01-31T00:00:00",
          "2022-02-01T00:00:00"
         ],
         "xaxis": "x",
         "y": [
          null,
          0.031853414826817125,
          -0.0077864032143415245,
          -0.01935627635018719,
          -0.004653959695509597,
          -0.056964293306986616,
          -0.009956485724310134,
          -0.03955986505051623,
          0.006525325892427014,
          -0.001570223670842312,
          0.0009585092644267161,
          0.021490810690625,
          0.02781839263692888,
          -0.03166790294264532,
          0.011855452482640621,
          0.0008218409826238161,
          -0.0005813876317209547,
          -0.01917375689139352,
          0.003912616988022446,
          -0.016876446993957295,
          -0.020799191440333025,
          -0.11105570667110091,
          -0.03919978494760622,
          0.03155133154950735,
          0.012845815692499353,
          0.005878216455660534,
          -0.0005791707151609961,
          0.003059782982246542,
          0.020736444673526644,
          0.008059273137443118,
          -0.004518683840035345,
          0.011517082915415288
         ],
         "yaxis": "y"
        },
        {
         "hovertemplate": "variable=cardano<br>Date=%{x|%B %d, %Y}<br>value=%{y}<extra></extra>",
         "legendgroup": "cardano",
         "marker": {
          "color": "#EF553B",
          "symbol": "circle"
         },
         "mode": "markers",
         "name": "cardano",
         "orientation": "v",
         "showlegend": true,
         "type": "scatter",
         "x": [
          "2022-01-01T00:00:00",
          "2022-01-02T00:00:00",
          "2022-01-03T00:00:00",
          "2022-01-04T00:00:00",
          "2022-01-05T00:00:00",
          "2022-01-06T00:00:00",
          "2022-01-07T00:00:00",
          "2022-01-08T00:00:00",
          "2022-01-09T00:00:00",
          "2022-01-10T00:00:00",
          "2022-01-11T00:00:00",
          "2022-01-12T00:00:00",
          "2022-01-13T00:00:00",
          "2022-01-14T00:00:00",
          "2022-01-15T00:00:00",
          "2022-01-16T00:00:00",
          "2022-01-17T00:00:00",
          "2022-01-18T00:00:00",
          "2022-01-19T00:00:00",
          "2022-01-20T00:00:00",
          "2022-01-21T00:00:00",
          "2022-01-22T00:00:00",
          "2022-01-23T00:00:00",
          "2022-01-24T00:00:00",
          "2022-01-25T00:00:00",
          "2022-01-26T00:00:00",
          "2022-01-27T00:00:00",
          "2022-01-28T00:00:00",
          "2022-01-29T00:00:00",
          "2022-01-30T00:00:00",
          "2022-01-31T00:00:00",
          "2022-02-01T00:00:00"
         ],
         "xaxis": "x",
         "y": [
          null,
          null,
          null,
          null,
          null,
          null,
          null,
          null,
          null,
          null,
          null,
          null,
          null,
          null,
          null,
          null,
          null,
          null,
          -0.06703436831004507,
          -0.0912802165978105,
          null,
          -0.17041753218100414,
          -0.059818714389557805,
          0.048467862521619026,
          -0.046961922438642945,
          -0.023249494739306077,
          0.03700131497571677,
          -0.03456054304908337,
          0.003909468450288856,
          0.00794654338590162,
          -0.01930466125870613,
          0.010907068570699023
         ],
         "yaxis": "y"
        },
        {
         "hovertemplate": "variable=ethereum<br>Date=%{x|%B %d, %Y}<br>value=%{y}<extra></extra>",
         "legendgroup": "ethereum",
         "marker": {
          "color": "#00cc96",
          "symbol": "circle"
         },
         "mode": "markers",
         "name": "ethereum",
         "orientation": "v",
         "showlegend": true,
         "type": "scatter",
         "x": [
          "2022-01-01T00:00:00",
          "2022-01-02T00:00:00",
          "2022-01-03T00:00:00",
          "2022-01-04T00:00:00",
          "2022-01-05T00:00:00",
          "2022-01-06T00:00:00",
          "2022-01-07T00:00:00",
          "2022-01-08T00:00:00",
          "2022-01-09T00:00:00",
          "2022-01-10T00:00:00",
          "2022-01-11T00:00:00",
          "2022-01-12T00:00:00",
          "2022-01-13T00:00:00",
          "2022-01-14T00:00:00",
          "2022-01-15T00:00:00",
          "2022-01-16T00:00:00",
          "2022-01-17T00:00:00",
          "2022-01-18T00:00:00",
          "2022-01-19T00:00:00",
          "2022-01-20T00:00:00",
          "2022-01-21T00:00:00",
          "2022-01-22T00:00:00",
          "2022-01-23T00:00:00",
          "2022-01-24T00:00:00",
          "2022-01-25T00:00:00",
          "2022-01-26T00:00:00",
          "2022-01-27T00:00:00",
          "2022-01-28T00:00:00",
          "2022-01-29T00:00:00",
          "2022-01-30T00:00:00",
          "2022-01-31T00:00:00",
          "2022-02-01T00:00:00"
         ],
         "xaxis": "x",
         "y": [
          null,
          0.022514143219896542,
          0.015546907339301062,
          -0.018207372396231266,
          0.01320842681198007,
          -0.06941856249192419,
          -0.0395279138121888,
          -0.06687229127421955,
          -0.030757974083510702,
          0.01472642600059973,
          -0.020366756402871562,
          0.052586681804333464,
          0.03861816148464884,
          -0.03724090109982481,
          0.0169280292433779,
          0.005646114941978822,
          0.008362377227557784,
          -0.04289185468270607,
          -0.014474933432889617,
          -0.017677913106672594,
          -0.029284889796489504,
          -0.16202612257841445,
          -0.06690427870372781,
          0.05371410321715362,
          -0.03566866173824077,
          0.0057365351432759025,
          0.006857584581076897,
          -0.02705616936604813,
          0.05566327327003096,
          0.018733411372919832,
          0.004964772277693602,
          0.027698728580562798
         ],
         "yaxis": "y"
        },
        {
         "hovertemplate": "variable=solana<br>Date=%{x|%B %d, %Y}<br>value=%{y}<extra></extra>",
         "legendgroup": "solana",
         "marker": {
          "color": "#ab63fa",
          "symbol": "circle"
         },
         "mode": "markers",
         "name": "solana",
         "orientation": "v",
         "showlegend": true,
         "type": "scatter",
         "x": [
          "2022-01-01T00:00:00",
          "2022-01-02T00:00:00",
          "2022-01-03T00:00:00",
          "2022-01-04T00:00:00",
          "2022-01-05T00:00:00",
          "2022-01-06T00:00:00",
          "2022-01-07T00:00:00",
          "2022-01-08T00:00:00",
          "2022-01-09T00:00:00",
          "2022-01-10T00:00:00",
          "2022-01-11T00:00:00",
          "2022-01-12T00:00:00",
          "2022-01-13T00:00:00",
          "2022-01-14T00:00:00",
          "2022-01-15T00:00:00",
          "2022-01-16T00:00:00",
          "2022-01-17T00:00:00",
          "2022-01-18T00:00:00",
          "2022-01-19T00:00:00",
          "2022-01-20T00:00:00",
          "2022-01-21T00:00:00",
          "2022-01-22T00:00:00",
          "2022-01-23T00:00:00",
          "2022-01-24T00:00:00",
          "2022-01-25T00:00:00",
          "2022-01-26T00:00:00",
          "2022-01-27T00:00:00",
          "2022-01-28T00:00:00",
          "2022-01-29T00:00:00",
          "2022-01-30T00:00:00",
          "2022-01-31T00:00:00",
          "2022-02-01T00:00:00"
         ],
         "xaxis": "x",
         "y": [
          null,
          0.040422599105871045,
          -0.008846735483933856,
          -0.031965883608941766,
          -0.011679010839337992,
          -0.08143554420923323,
          -0.027983358570537364,
          -0.0949445573908458,
          0.0474291324566233,
          -0.01888516154745594,
          -0.03537785296125049,
          0.03490587943851314,
          0.08126799147845322,
          -0.034455384999839384,
          -0.001632335172103447,
          0.010584068774104444,
          0.0024455342161017507,
          null,
          null,
          null,
          -0.1314805315460188,
          null,
          null,
          null,
          null,
          null,
          null,
          null,
          null,
          null,
          null,
          null
         ],
         "yaxis": "y"
        }
       ],
       "layout": {
        "legend": {
         "title": {
          "text": "variable"
         },
         "tracegroupgap": 0
        },
        "template": {
         "data": {
          "bar": [
           {
            "error_x": {
             "color": "#2a3f5f"
            },
            "error_y": {
             "color": "#2a3f5f"
            },
            "marker": {
             "line": {
              "color": "#E5ECF6",
              "width": 0.5
             },
             "pattern": {
              "fillmode": "overlay",
              "size": 10,
              "solidity": 0.2
             }
            },
            "type": "bar"
           }
          ],
          "barpolar": [
           {
            "marker": {
             "line": {
              "color": "#E5ECF6",
              "width": 0.5
             },
             "pattern": {
              "fillmode": "overlay",
              "size": 10,
              "solidity": 0.2
             }
            },
            "type": "barpolar"
           }
          ],
          "carpet": [
           {
            "aaxis": {
             "endlinecolor": "#2a3f5f",
             "gridcolor": "white",
             "linecolor": "white",
             "minorgridcolor": "white",
             "startlinecolor": "#2a3f5f"
            },
            "baxis": {
             "endlinecolor": "#2a3f5f",
             "gridcolor": "white",
             "linecolor": "white",
             "minorgridcolor": "white",
             "startlinecolor": "#2a3f5f"
            },
            "type": "carpet"
           }
          ],
          "choropleth": [
           {
            "colorbar": {
             "outlinewidth": 0,
             "ticks": ""
            },
            "type": "choropleth"
           }
          ],
          "contour": [
           {
            "colorbar": {
             "outlinewidth": 0,
             "ticks": ""
            },
            "colorscale": [
             [
              0,
              "#0d0887"
             ],
             [
              0.1111111111111111,
              "#46039f"
             ],
             [
              0.2222222222222222,
              "#7201a8"
             ],
             [
              0.3333333333333333,
              "#9c179e"
             ],
             [
              0.4444444444444444,
              "#bd3786"
             ],
             [
              0.5555555555555556,
              "#d8576b"
             ],
             [
              0.6666666666666666,
              "#ed7953"
             ],
             [
              0.7777777777777778,
              "#fb9f3a"
             ],
             [
              0.8888888888888888,
              "#fdca26"
             ],
             [
              1,
              "#f0f921"
             ]
            ],
            "type": "contour"
           }
          ],
          "contourcarpet": [
           {
            "colorbar": {
             "outlinewidth": 0,
             "ticks": ""
            },
            "type": "contourcarpet"
           }
          ],
          "heatmap": [
           {
            "colorbar": {
             "outlinewidth": 0,
             "ticks": ""
            },
            "colorscale": [
             [
              0,
              "#0d0887"
             ],
             [
              0.1111111111111111,
              "#46039f"
             ],
             [
              0.2222222222222222,
              "#7201a8"
             ],
             [
              0.3333333333333333,
              "#9c179e"
             ],
             [
              0.4444444444444444,
              "#bd3786"
             ],
             [
              0.5555555555555556,
              "#d8576b"
             ],
             [
              0.6666666666666666,
              "#ed7953"
             ],
             [
              0.7777777777777778,
              "#fb9f3a"
             ],
             [
              0.8888888888888888,
              "#fdca26"
             ],
             [
              1,
              "#f0f921"
             ]
            ],
            "type": "heatmap"
           }
          ],
          "heatmapgl": [
           {
            "colorbar": {
             "outlinewidth": 0,
             "ticks": ""
            },
            "colorscale": [
             [
              0,
              "#0d0887"
             ],
             [
              0.1111111111111111,
              "#46039f"
             ],
             [
              0.2222222222222222,
              "#7201a8"
             ],
             [
              0.3333333333333333,
              "#9c179e"
             ],
             [
              0.4444444444444444,
              "#bd3786"
             ],
             [
              0.5555555555555556,
              "#d8576b"
             ],
             [
              0.6666666666666666,
              "#ed7953"
             ],
             [
              0.7777777777777778,
              "#fb9f3a"
             ],
             [
              0.8888888888888888,
              "#fdca26"
             ],
             [
              1,
              "#f0f921"
             ]
            ],
            "type": "heatmapgl"
           }
          ],
          "histogram": [
           {
            "marker": {
             "pattern": {
              "fillmode": "overlay",
              "size": 10,
              "solidity": 0.2
             }
            },
            "type": "histogram"
           }
          ],
          "histogram2d": [
           {
            "colorbar": {
             "outlinewidth": 0,
             "ticks": ""
            },
            "colorscale": [
             [
              0,
              "#0d0887"
             ],
             [
              0.1111111111111111,
              "#46039f"
             ],
             [
              0.2222222222222222,
              "#7201a8"
             ],
             [
              0.3333333333333333,
              "#9c179e"
             ],
             [
              0.4444444444444444,
              "#bd3786"
             ],
             [
              0.5555555555555556,
              "#d8576b"
             ],
             [
              0.6666666666666666,
              "#ed7953"
             ],
             [
              0.7777777777777778,
              "#fb9f3a"
             ],
             [
              0.8888888888888888,
              "#fdca26"
             ],
             [
              1,
              "#f0f921"
             ]
            ],
            "type": "histogram2d"
           }
          ],
          "histogram2dcontour": [
           {
            "colorbar": {
             "outlinewidth": 0,
             "ticks": ""
            },
            "colorscale": [
             [
              0,
              "#0d0887"
             ],
             [
              0.1111111111111111,
              "#46039f"
             ],
             [
              0.2222222222222222,
              "#7201a8"
             ],
             [
              0.3333333333333333,
              "#9c179e"
             ],
             [
              0.4444444444444444,
              "#bd3786"
             ],
             [
              0.5555555555555556,
              "#d8576b"
             ],
             [
              0.6666666666666666,
              "#ed7953"
             ],
             [
              0.7777777777777778,
              "#fb9f3a"
             ],
             [
              0.8888888888888888,
              "#fdca26"
             ],
             [
              1,
              "#f0f921"
             ]
            ],
            "type": "histogram2dcontour"
           }
          ],
          "mesh3d": [
           {
            "colorbar": {
             "outlinewidth": 0,
             "ticks": ""
            },
            "type": "mesh3d"
           }
          ],
          "parcoords": [
           {
            "line": {
             "colorbar": {
              "outlinewidth": 0,
              "ticks": ""
             }
            },
            "type": "parcoords"
           }
          ],
          "pie": [
           {
            "automargin": true,
            "type": "pie"
           }
          ],
          "scatter": [
           {
            "marker": {
             "colorbar": {
              "outlinewidth": 0,
              "ticks": ""
             }
            },
            "type": "scatter"
           }
          ],
          "scatter3d": [
           {
            "line": {
             "colorbar": {
              "outlinewidth": 0,
              "ticks": ""
             }
            },
            "marker": {
             "colorbar": {
              "outlinewidth": 0,
              "ticks": ""
             }
            },
            "type": "scatter3d"
           }
          ],
          "scattercarpet": [
           {
            "marker": {
             "colorbar": {
              "outlinewidth": 0,
              "ticks": ""
             }
            },
            "type": "scattercarpet"
           }
          ],
          "scattergeo": [
           {
            "marker": {
             "colorbar": {
              "outlinewidth": 0,
              "ticks": ""
             }
            },
            "type": "scattergeo"
           }
          ],
          "scattergl": [
           {
            "marker": {
             "colorbar": {
              "outlinewidth": 0,
              "ticks": ""
             }
            },
            "type": "scattergl"
           }
          ],
          "scattermapbox": [
           {
            "marker": {
             "colorbar": {
              "outlinewidth": 0,
              "ticks": ""
             }
            },
            "type": "scattermapbox"
           }
          ],
          "scatterpolar": [
           {
            "marker": {
             "colorbar": {
              "outlinewidth": 0,
              "ticks": ""
             }
            },
            "type": "scatterpolar"
           }
          ],
          "scatterpolargl": [
           {
            "marker": {
             "colorbar": {
              "outlinewidth": 0,
              "ticks": ""
             }
            },
            "type": "scatterpolargl"
           }
          ],
          "scatterternary": [
           {
            "marker": {
             "colorbar": {
              "outlinewidth": 0,
              "ticks": ""
             }
            },
            "type": "scatterternary"
           }
          ],
          "surface": [
           {
            "colorbar": {
             "outlinewidth": 0,
             "ticks": ""
            },
            "colorscale": [
             [
              0,
              "#0d0887"
             ],
             [
              0.1111111111111111,
              "#46039f"
             ],
             [
              0.2222222222222222,
              "#7201a8"
             ],
             [
              0.3333333333333333,
              "#9c179e"
             ],
             [
              0.4444444444444444,
              "#bd3786"
             ],
             [
              0.5555555555555556,
              "#d8576b"
             ],
             [
              0.6666666666666666,
              "#ed7953"
             ],
             [
              0.7777777777777778,
              "#fb9f3a"
             ],
             [
              0.8888888888888888,
              "#fdca26"
             ],
             [
              1,
              "#f0f921"
             ]
            ],
            "type": "surface"
           }
          ],
          "table": [
           {
            "cells": {
             "fill": {
              "color": "#EBF0F8"
             },
             "line": {
              "color": "white"
             }
            },
            "header": {
             "fill": {
              "color": "#C8D4E3"
             },
             "line": {
              "color": "white"
             }
            },
            "type": "table"
           }
          ]
         },
         "layout": {
          "annotationdefaults": {
           "arrowcolor": "#2a3f5f",
           "arrowhead": 0,
           "arrowwidth": 1
          },
          "autotypenumbers": "strict",
          "coloraxis": {
           "colorbar": {
            "outlinewidth": 0,
            "ticks": ""
           }
          },
          "colorscale": {
           "diverging": [
            [
             0,
             "#8e0152"
            ],
            [
             0.1,
             "#c51b7d"
            ],
            [
             0.2,
             "#de77ae"
            ],
            [
             0.3,
             "#f1b6da"
            ],
            [
             0.4,
             "#fde0ef"
            ],
            [
             0.5,
             "#f7f7f7"
            ],
            [
             0.6,
             "#e6f5d0"
            ],
            [
             0.7,
             "#b8e186"
            ],
            [
             0.8,
             "#7fbc41"
            ],
            [
             0.9,
             "#4d9221"
            ],
            [
             1,
             "#276419"
            ]
           ],
           "sequential": [
            [
             0,
             "#0d0887"
            ],
            [
             0.1111111111111111,
             "#46039f"
            ],
            [
             0.2222222222222222,
             "#7201a8"
            ],
            [
             0.3333333333333333,
             "#9c179e"
            ],
            [
             0.4444444444444444,
             "#bd3786"
            ],
            [
             0.5555555555555556,
             "#d8576b"
            ],
            [
             0.6666666666666666,
             "#ed7953"
            ],
            [
             0.7777777777777778,
             "#fb9f3a"
            ],
            [
             0.8888888888888888,
             "#fdca26"
            ],
            [
             1,
             "#f0f921"
            ]
           ],
           "sequentialminus": [
            [
             0,
             "#0d0887"
            ],
            [
             0.1111111111111111,
             "#46039f"
            ],
            [
             0.2222222222222222,
             "#7201a8"
            ],
            [
             0.3333333333333333,
             "#9c179e"
            ],
            [
             0.4444444444444444,
             "#bd3786"
            ],
            [
             0.5555555555555556,
             "#d8576b"
            ],
            [
             0.6666666666666666,
             "#ed7953"
            ],
            [
             0.7777777777777778,
             "#fb9f3a"
            ],
            [
             0.8888888888888888,
             "#fdca26"
            ],
            [
             1,
             "#f0f921"
            ]
           ]
          },
          "colorway": [
           "#636efa",
           "#EF553B",
           "#00cc96",
           "#ab63fa",
           "#FFA15A",
           "#19d3f3",
           "#FF6692",
           "#B6E880",
           "#FF97FF",
           "#FECB52"
          ],
          "font": {
           "color": "#2a3f5f"
          },
          "geo": {
           "bgcolor": "white",
           "lakecolor": "white",
           "landcolor": "#E5ECF6",
           "showlakes": true,
           "showland": true,
           "subunitcolor": "white"
          },
          "hoverlabel": {
           "align": "left"
          },
          "hovermode": "closest",
          "mapbox": {
           "style": "light"
          },
          "paper_bgcolor": "white",
          "plot_bgcolor": "#E5ECF6",
          "polar": {
           "angularaxis": {
            "gridcolor": "white",
            "linecolor": "white",
            "ticks": ""
           },
           "bgcolor": "#E5ECF6",
           "radialaxis": {
            "gridcolor": "white",
            "linecolor": "white",
            "ticks": ""
           }
          },
          "scene": {
           "xaxis": {
            "backgroundcolor": "#E5ECF6",
            "gridcolor": "white",
            "gridwidth": 2,
            "linecolor": "white",
            "showbackground": true,
            "ticks": "",
            "zerolinecolor": "white"
           },
           "yaxis": {
            "backgroundcolor": "#E5ECF6",
            "gridcolor": "white",
            "gridwidth": 2,
            "linecolor": "white",
            "showbackground": true,
            "ticks": "",
            "zerolinecolor": "white"
           },
           "zaxis": {
            "backgroundcolor": "#E5ECF6",
            "gridcolor": "white",
            "gridwidth": 2,
            "linecolor": "white",
            "showbackground": true,
            "ticks": "",
            "zerolinecolor": "white"
           }
          },
          "shapedefaults": {
           "line": {
            "color": "#2a3f5f"
           }
          },
          "ternary": {
           "aaxis": {
            "gridcolor": "white",
            "linecolor": "white",
            "ticks": ""
           },
           "baxis": {
            "gridcolor": "white",
            "linecolor": "white",
            "ticks": ""
           },
           "bgcolor": "#E5ECF6",
           "caxis": {
            "gridcolor": "white",
            "linecolor": "white",
            "ticks": ""
           }
          },
          "title": {
           "x": 0.05
          },
          "xaxis": {
           "automargin": true,
           "gridcolor": "white",
           "linecolor": "white",
           "ticks": "",
           "title": {
            "standoff": 15
           },
           "zerolinecolor": "white",
           "zerolinewidth": 2
          },
          "yaxis": {
           "automargin": true,
           "gridcolor": "white",
           "linecolor": "white",
           "ticks": "",
           "title": {
            "standoff": 15
           },
           "zerolinecolor": "white",
           "zerolinewidth": 2
          }
         }
        },
        "title": {
         "text": "Logarithmic Returns from 2022-01-01 to 2022-02-01"
        },
        "xaxis": {
         "anchor": "y",
         "domain": [
          0,
          1
         ],
         "dtick": "M1",
         "tickformat": "%b\n%Y",
         "title": {
          "text": "Date"
         }
        },
        "yaxis": {
         "anchor": "x",
         "domain": [
          0,
          1
         ],
         "title": {
          "text": "value"
         }
        }
       }
      },
      "text/html": [
       "<div>                            <div id=\"c5a3032a-6a54-4fed-9923-e5af904fc206\" class=\"plotly-graph-div\" style=\"height:525px; width:100%;\"></div>            <script type=\"text/javascript\">                require([\"plotly\"], function(Plotly) {                    window.PLOTLYENV=window.PLOTLYENV || {};                                    if (document.getElementById(\"c5a3032a-6a54-4fed-9923-e5af904fc206\")) {                    Plotly.newPlot(                        \"c5a3032a-6a54-4fed-9923-e5af904fc206\",                        [{\"hovertemplate\":\"variable=bitcoin<br>Date=%{x|%B %d, %Y}<br>value=%{y}<extra></extra>\",\"legendgroup\":\"bitcoin\",\"marker\":{\"color\":\"#636efa\",\"symbol\":\"circle\"},\"mode\":\"markers\",\"name\":\"bitcoin\",\"orientation\":\"v\",\"showlegend\":true,\"type\":\"scatter\",\"x\":[\"2022-01-01T00:00:00\",\"2022-01-02T00:00:00\",\"2022-01-03T00:00:00\",\"2022-01-04T00:00:00\",\"2022-01-05T00:00:00\",\"2022-01-06T00:00:00\",\"2022-01-07T00:00:00\",\"2022-01-08T00:00:00\",\"2022-01-09T00:00:00\",\"2022-01-10T00:00:00\",\"2022-01-11T00:00:00\",\"2022-01-12T00:00:00\",\"2022-01-13T00:00:00\",\"2022-01-14T00:00:00\",\"2022-01-15T00:00:00\",\"2022-01-16T00:00:00\",\"2022-01-17T00:00:00\",\"2022-01-18T00:00:00\",\"2022-01-19T00:00:00\",\"2022-01-20T00:00:00\",\"2022-01-21T00:00:00\",\"2022-01-22T00:00:00\",\"2022-01-23T00:00:00\",\"2022-01-24T00:00:00\",\"2022-01-25T00:00:00\",\"2022-01-26T00:00:00\",\"2022-01-27T00:00:00\",\"2022-01-28T00:00:00\",\"2022-01-29T00:00:00\",\"2022-01-30T00:00:00\",\"2022-01-31T00:00:00\",\"2022-02-01T00:00:00\"],\"xaxis\":\"x\",\"y\":[null,0.031853414826817125,-0.0077864032143415245,-0.01935627635018719,-0.004653959695509597,-0.056964293306986616,-0.009956485724310134,-0.03955986505051623,0.006525325892427014,-0.001570223670842312,0.0009585092644267161,0.021490810690625,0.02781839263692888,-0.03166790294264532,0.011855452482640621,0.0008218409826238161,-0.0005813876317209547,-0.01917375689139352,0.003912616988022446,-0.016876446993957295,-0.020799191440333025,-0.11105570667110091,-0.03919978494760622,0.03155133154950735,0.012845815692499353,0.005878216455660534,-0.0005791707151609961,0.003059782982246542,0.020736444673526644,0.008059273137443118,-0.004518683840035345,0.011517082915415288],\"yaxis\":\"y\"},{\"hovertemplate\":\"variable=cardano<br>Date=%{x|%B %d, %Y}<br>value=%{y}<extra></extra>\",\"legendgroup\":\"cardano\",\"marker\":{\"color\":\"#EF553B\",\"symbol\":\"circle\"},\"mode\":\"markers\",\"name\":\"cardano\",\"orientation\":\"v\",\"showlegend\":true,\"type\":\"scatter\",\"x\":[\"2022-01-01T00:00:00\",\"2022-01-02T00:00:00\",\"2022-01-03T00:00:00\",\"2022-01-04T00:00:00\",\"2022-01-05T00:00:00\",\"2022-01-06T00:00:00\",\"2022-01-07T00:00:00\",\"2022-01-08T00:00:00\",\"2022-01-09T00:00:00\",\"2022-01-10T00:00:00\",\"2022-01-11T00:00:00\",\"2022-01-12T00:00:00\",\"2022-01-13T00:00:00\",\"2022-01-14T00:00:00\",\"2022-01-15T00:00:00\",\"2022-01-16T00:00:00\",\"2022-01-17T00:00:00\",\"2022-01-18T00:00:00\",\"2022-01-19T00:00:00\",\"2022-01-20T00:00:00\",\"2022-01-21T00:00:00\",\"2022-01-22T00:00:00\",\"2022-01-23T00:00:00\",\"2022-01-24T00:00:00\",\"2022-01-25T00:00:00\",\"2022-01-26T00:00:00\",\"2022-01-27T00:00:00\",\"2022-01-28T00:00:00\",\"2022-01-29T00:00:00\",\"2022-01-30T00:00:00\",\"2022-01-31T00:00:00\",\"2022-02-01T00:00:00\"],\"xaxis\":\"x\",\"y\":[null,null,null,null,null,null,null,null,null,null,null,null,null,null,null,null,null,null,-0.06703436831004507,-0.0912802165978105,null,-0.17041753218100414,-0.059818714389557805,0.048467862521619026,-0.046961922438642945,-0.023249494739306077,0.03700131497571677,-0.03456054304908337,0.003909468450288856,0.00794654338590162,-0.01930466125870613,0.010907068570699023],\"yaxis\":\"y\"},{\"hovertemplate\":\"variable=ethereum<br>Date=%{x|%B %d, %Y}<br>value=%{y}<extra></extra>\",\"legendgroup\":\"ethereum\",\"marker\":{\"color\":\"#00cc96\",\"symbol\":\"circle\"},\"mode\":\"markers\",\"name\":\"ethereum\",\"orientation\":\"v\",\"showlegend\":true,\"type\":\"scatter\",\"x\":[\"2022-01-01T00:00:00\",\"2022-01-02T00:00:00\",\"2022-01-03T00:00:00\",\"2022-01-04T00:00:00\",\"2022-01-05T00:00:00\",\"2022-01-06T00:00:00\",\"2022-01-07T00:00:00\",\"2022-01-08T00:00:00\",\"2022-01-09T00:00:00\",\"2022-01-10T00:00:00\",\"2022-01-11T00:00:00\",\"2022-01-12T00:00:00\",\"2022-01-13T00:00:00\",\"2022-01-14T00:00:00\",\"2022-01-15T00:00:00\",\"2022-01-16T00:00:00\",\"2022-01-17T00:00:00\",\"2022-01-18T00:00:00\",\"2022-01-19T00:00:00\",\"2022-01-20T00:00:00\",\"2022-01-21T00:00:00\",\"2022-01-22T00:00:00\",\"2022-01-23T00:00:00\",\"2022-01-24T00:00:00\",\"2022-01-25T00:00:00\",\"2022-01-26T00:00:00\",\"2022-01-27T00:00:00\",\"2022-01-28T00:00:00\",\"2022-01-29T00:00:00\",\"2022-01-30T00:00:00\",\"2022-01-31T00:00:00\",\"2022-02-01T00:00:00\"],\"xaxis\":\"x\",\"y\":[null,0.022514143219896542,0.015546907339301062,-0.018207372396231266,0.01320842681198007,-0.06941856249192419,-0.0395279138121888,-0.06687229127421955,-0.030757974083510702,0.01472642600059973,-0.020366756402871562,0.052586681804333464,0.03861816148464884,-0.03724090109982481,0.0169280292433779,0.005646114941978822,0.008362377227557784,-0.04289185468270607,-0.014474933432889617,-0.017677913106672594,-0.029284889796489504,-0.16202612257841445,-0.06690427870372781,0.05371410321715362,-0.03566866173824077,0.0057365351432759025,0.006857584581076897,-0.02705616936604813,0.05566327327003096,0.018733411372919832,0.004964772277693602,0.027698728580562798],\"yaxis\":\"y\"},{\"hovertemplate\":\"variable=solana<br>Date=%{x|%B %d, %Y}<br>value=%{y}<extra></extra>\",\"legendgroup\":\"solana\",\"marker\":{\"color\":\"#ab63fa\",\"symbol\":\"circle\"},\"mode\":\"markers\",\"name\":\"solana\",\"orientation\":\"v\",\"showlegend\":true,\"type\":\"scatter\",\"x\":[\"2022-01-01T00:00:00\",\"2022-01-02T00:00:00\",\"2022-01-03T00:00:00\",\"2022-01-04T00:00:00\",\"2022-01-05T00:00:00\",\"2022-01-06T00:00:00\",\"2022-01-07T00:00:00\",\"2022-01-08T00:00:00\",\"2022-01-09T00:00:00\",\"2022-01-10T00:00:00\",\"2022-01-11T00:00:00\",\"2022-01-12T00:00:00\",\"2022-01-13T00:00:00\",\"2022-01-14T00:00:00\",\"2022-01-15T00:00:00\",\"2022-01-16T00:00:00\",\"2022-01-17T00:00:00\",\"2022-01-18T00:00:00\",\"2022-01-19T00:00:00\",\"2022-01-20T00:00:00\",\"2022-01-21T00:00:00\",\"2022-01-22T00:00:00\",\"2022-01-23T00:00:00\",\"2022-01-24T00:00:00\",\"2022-01-25T00:00:00\",\"2022-01-26T00:00:00\",\"2022-01-27T00:00:00\",\"2022-01-28T00:00:00\",\"2022-01-29T00:00:00\",\"2022-01-30T00:00:00\",\"2022-01-31T00:00:00\",\"2022-02-01T00:00:00\"],\"xaxis\":\"x\",\"y\":[null,0.040422599105871045,-0.008846735483933856,-0.031965883608941766,-0.011679010839337992,-0.08143554420923323,-0.027983358570537364,-0.0949445573908458,0.0474291324566233,-0.01888516154745594,-0.03537785296125049,0.03490587943851314,0.08126799147845322,-0.034455384999839384,-0.001632335172103447,0.010584068774104444,0.0024455342161017507,null,null,null,-0.1314805315460188,null,null,null,null,null,null,null,null,null,null,null],\"yaxis\":\"y\"}],                        {\"legend\":{\"title\":{\"text\":\"variable\"},\"tracegroupgap\":0},\"template\":{\"data\":{\"bar\":[{\"error_x\":{\"color\":\"#2a3f5f\"},\"error_y\":{\"color\":\"#2a3f5f\"},\"marker\":{\"line\":{\"color\":\"#E5ECF6\",\"width\":0.5},\"pattern\":{\"fillmode\":\"overlay\",\"size\":10,\"solidity\":0.2}},\"type\":\"bar\"}],\"barpolar\":[{\"marker\":{\"line\":{\"color\":\"#E5ECF6\",\"width\":0.5},\"pattern\":{\"fillmode\":\"overlay\",\"size\":10,\"solidity\":0.2}},\"type\":\"barpolar\"}],\"carpet\":[{\"aaxis\":{\"endlinecolor\":\"#2a3f5f\",\"gridcolor\":\"white\",\"linecolor\":\"white\",\"minorgridcolor\":\"white\",\"startlinecolor\":\"#2a3f5f\"},\"baxis\":{\"endlinecolor\":\"#2a3f5f\",\"gridcolor\":\"white\",\"linecolor\":\"white\",\"minorgridcolor\":\"white\",\"startlinecolor\":\"#2a3f5f\"},\"type\":\"carpet\"}],\"choropleth\":[{\"colorbar\":{\"outlinewidth\":0,\"ticks\":\"\"},\"type\":\"choropleth\"}],\"contour\":[{\"colorbar\":{\"outlinewidth\":0,\"ticks\":\"\"},\"colorscale\":[[0.0,\"#0d0887\"],[0.1111111111111111,\"#46039f\"],[0.2222222222222222,\"#7201a8\"],[0.3333333333333333,\"#9c179e\"],[0.4444444444444444,\"#bd3786\"],[0.5555555555555556,\"#d8576b\"],[0.6666666666666666,\"#ed7953\"],[0.7777777777777778,\"#fb9f3a\"],[0.8888888888888888,\"#fdca26\"],[1.0,\"#f0f921\"]],\"type\":\"contour\"}],\"contourcarpet\":[{\"colorbar\":{\"outlinewidth\":0,\"ticks\":\"\"},\"type\":\"contourcarpet\"}],\"heatmap\":[{\"colorbar\":{\"outlinewidth\":0,\"ticks\":\"\"},\"colorscale\":[[0.0,\"#0d0887\"],[0.1111111111111111,\"#46039f\"],[0.2222222222222222,\"#7201a8\"],[0.3333333333333333,\"#9c179e\"],[0.4444444444444444,\"#bd3786\"],[0.5555555555555556,\"#d8576b\"],[0.6666666666666666,\"#ed7953\"],[0.7777777777777778,\"#fb9f3a\"],[0.8888888888888888,\"#fdca26\"],[1.0,\"#f0f921\"]],\"type\":\"heatmap\"}],\"heatmapgl\":[{\"colorbar\":{\"outlinewidth\":0,\"ticks\":\"\"},\"colorscale\":[[0.0,\"#0d0887\"],[0.1111111111111111,\"#46039f\"],[0.2222222222222222,\"#7201a8\"],[0.3333333333333333,\"#9c179e\"],[0.4444444444444444,\"#bd3786\"],[0.5555555555555556,\"#d8576b\"],[0.6666666666666666,\"#ed7953\"],[0.7777777777777778,\"#fb9f3a\"],[0.8888888888888888,\"#fdca26\"],[1.0,\"#f0f921\"]],\"type\":\"heatmapgl\"}],\"histogram\":[{\"marker\":{\"pattern\":{\"fillmode\":\"overlay\",\"size\":10,\"solidity\":0.2}},\"type\":\"histogram\"}],\"histogram2d\":[{\"colorbar\":{\"outlinewidth\":0,\"ticks\":\"\"},\"colorscale\":[[0.0,\"#0d0887\"],[0.1111111111111111,\"#46039f\"],[0.2222222222222222,\"#7201a8\"],[0.3333333333333333,\"#9c179e\"],[0.4444444444444444,\"#bd3786\"],[0.5555555555555556,\"#d8576b\"],[0.6666666666666666,\"#ed7953\"],[0.7777777777777778,\"#fb9f3a\"],[0.8888888888888888,\"#fdca26\"],[1.0,\"#f0f921\"]],\"type\":\"histogram2d\"}],\"histogram2dcontour\":[{\"colorbar\":{\"outlinewidth\":0,\"ticks\":\"\"},\"colorscale\":[[0.0,\"#0d0887\"],[0.1111111111111111,\"#46039f\"],[0.2222222222222222,\"#7201a8\"],[0.3333333333333333,\"#9c179e\"],[0.4444444444444444,\"#bd3786\"],[0.5555555555555556,\"#d8576b\"],[0.6666666666666666,\"#ed7953\"],[0.7777777777777778,\"#fb9f3a\"],[0.8888888888888888,\"#fdca26\"],[1.0,\"#f0f921\"]],\"type\":\"histogram2dcontour\"}],\"mesh3d\":[{\"colorbar\":{\"outlinewidth\":0,\"ticks\":\"\"},\"type\":\"mesh3d\"}],\"parcoords\":[{\"line\":{\"colorbar\":{\"outlinewidth\":0,\"ticks\":\"\"}},\"type\":\"parcoords\"}],\"pie\":[{\"automargin\":true,\"type\":\"pie\"}],\"scatter\":[{\"marker\":{\"colorbar\":{\"outlinewidth\":0,\"ticks\":\"\"}},\"type\":\"scatter\"}],\"scatter3d\":[{\"line\":{\"colorbar\":{\"outlinewidth\":0,\"ticks\":\"\"}},\"marker\":{\"colorbar\":{\"outlinewidth\":0,\"ticks\":\"\"}},\"type\":\"scatter3d\"}],\"scattercarpet\":[{\"marker\":{\"colorbar\":{\"outlinewidth\":0,\"ticks\":\"\"}},\"type\":\"scattercarpet\"}],\"scattergeo\":[{\"marker\":{\"colorbar\":{\"outlinewidth\":0,\"ticks\":\"\"}},\"type\":\"scattergeo\"}],\"scattergl\":[{\"marker\":{\"colorbar\":{\"outlinewidth\":0,\"ticks\":\"\"}},\"type\":\"scattergl\"}],\"scattermapbox\":[{\"marker\":{\"colorbar\":{\"outlinewidth\":0,\"ticks\":\"\"}},\"type\":\"scattermapbox\"}],\"scatterpolar\":[{\"marker\":{\"colorbar\":{\"outlinewidth\":0,\"ticks\":\"\"}},\"type\":\"scatterpolar\"}],\"scatterpolargl\":[{\"marker\":{\"colorbar\":{\"outlinewidth\":0,\"ticks\":\"\"}},\"type\":\"scatterpolargl\"}],\"scatterternary\":[{\"marker\":{\"colorbar\":{\"outlinewidth\":0,\"ticks\":\"\"}},\"type\":\"scatterternary\"}],\"surface\":[{\"colorbar\":{\"outlinewidth\":0,\"ticks\":\"\"},\"colorscale\":[[0.0,\"#0d0887\"],[0.1111111111111111,\"#46039f\"],[0.2222222222222222,\"#7201a8\"],[0.3333333333333333,\"#9c179e\"],[0.4444444444444444,\"#bd3786\"],[0.5555555555555556,\"#d8576b\"],[0.6666666666666666,\"#ed7953\"],[0.7777777777777778,\"#fb9f3a\"],[0.8888888888888888,\"#fdca26\"],[1.0,\"#f0f921\"]],\"type\":\"surface\"}],\"table\":[{\"cells\":{\"fill\":{\"color\":\"#EBF0F8\"},\"line\":{\"color\":\"white\"}},\"header\":{\"fill\":{\"color\":\"#C8D4E3\"},\"line\":{\"color\":\"white\"}},\"type\":\"table\"}]},\"layout\":{\"annotationdefaults\":{\"arrowcolor\":\"#2a3f5f\",\"arrowhead\":0,\"arrowwidth\":1},\"autotypenumbers\":\"strict\",\"coloraxis\":{\"colorbar\":{\"outlinewidth\":0,\"ticks\":\"\"}},\"colorscale\":{\"diverging\":[[0,\"#8e0152\"],[0.1,\"#c51b7d\"],[0.2,\"#de77ae\"],[0.3,\"#f1b6da\"],[0.4,\"#fde0ef\"],[0.5,\"#f7f7f7\"],[0.6,\"#e6f5d0\"],[0.7,\"#b8e186\"],[0.8,\"#7fbc41\"],[0.9,\"#4d9221\"],[1,\"#276419\"]],\"sequential\":[[0.0,\"#0d0887\"],[0.1111111111111111,\"#46039f\"],[0.2222222222222222,\"#7201a8\"],[0.3333333333333333,\"#9c179e\"],[0.4444444444444444,\"#bd3786\"],[0.5555555555555556,\"#d8576b\"],[0.6666666666666666,\"#ed7953\"],[0.7777777777777778,\"#fb9f3a\"],[0.8888888888888888,\"#fdca26\"],[1.0,\"#f0f921\"]],\"sequentialminus\":[[0.0,\"#0d0887\"],[0.1111111111111111,\"#46039f\"],[0.2222222222222222,\"#7201a8\"],[0.3333333333333333,\"#9c179e\"],[0.4444444444444444,\"#bd3786\"],[0.5555555555555556,\"#d8576b\"],[0.6666666666666666,\"#ed7953\"],[0.7777777777777778,\"#fb9f3a\"],[0.8888888888888888,\"#fdca26\"],[1.0,\"#f0f921\"]]},\"colorway\":[\"#636efa\",\"#EF553B\",\"#00cc96\",\"#ab63fa\",\"#FFA15A\",\"#19d3f3\",\"#FF6692\",\"#B6E880\",\"#FF97FF\",\"#FECB52\"],\"font\":{\"color\":\"#2a3f5f\"},\"geo\":{\"bgcolor\":\"white\",\"lakecolor\":\"white\",\"landcolor\":\"#E5ECF6\",\"showlakes\":true,\"showland\":true,\"subunitcolor\":\"white\"},\"hoverlabel\":{\"align\":\"left\"},\"hovermode\":\"closest\",\"mapbox\":{\"style\":\"light\"},\"paper_bgcolor\":\"white\",\"plot_bgcolor\":\"#E5ECF6\",\"polar\":{\"angularaxis\":{\"gridcolor\":\"white\",\"linecolor\":\"white\",\"ticks\":\"\"},\"bgcolor\":\"#E5ECF6\",\"radialaxis\":{\"gridcolor\":\"white\",\"linecolor\":\"white\",\"ticks\":\"\"}},\"scene\":{\"xaxis\":{\"backgroundcolor\":\"#E5ECF6\",\"gridcolor\":\"white\",\"gridwidth\":2,\"linecolor\":\"white\",\"showbackground\":true,\"ticks\":\"\",\"zerolinecolor\":\"white\"},\"yaxis\":{\"backgroundcolor\":\"#E5ECF6\",\"gridcolor\":\"white\",\"gridwidth\":2,\"linecolor\":\"white\",\"showbackground\":true,\"ticks\":\"\",\"zerolinecolor\":\"white\"},\"zaxis\":{\"backgroundcolor\":\"#E5ECF6\",\"gridcolor\":\"white\",\"gridwidth\":2,\"linecolor\":\"white\",\"showbackground\":true,\"ticks\":\"\",\"zerolinecolor\":\"white\"}},\"shapedefaults\":{\"line\":{\"color\":\"#2a3f5f\"}},\"ternary\":{\"aaxis\":{\"gridcolor\":\"white\",\"linecolor\":\"white\",\"ticks\":\"\"},\"baxis\":{\"gridcolor\":\"white\",\"linecolor\":\"white\",\"ticks\":\"\"},\"bgcolor\":\"#E5ECF6\",\"caxis\":{\"gridcolor\":\"white\",\"linecolor\":\"white\",\"ticks\":\"\"}},\"title\":{\"x\":0.05},\"xaxis\":{\"automargin\":true,\"gridcolor\":\"white\",\"linecolor\":\"white\",\"ticks\":\"\",\"title\":{\"standoff\":15},\"zerolinecolor\":\"white\",\"zerolinewidth\":2},\"yaxis\":{\"automargin\":true,\"gridcolor\":\"white\",\"linecolor\":\"white\",\"ticks\":\"\",\"title\":{\"standoff\":15},\"zerolinecolor\":\"white\",\"zerolinewidth\":2}}},\"title\":{\"text\":\"Logarithmic Returns from 2022-01-01 to 2022-02-01\"},\"xaxis\":{\"anchor\":\"y\",\"domain\":[0.0,1.0],\"dtick\":\"M1\",\"tickformat\":\"%b\\n%Y\",\"title\":{\"text\":\"Date\"}},\"yaxis\":{\"anchor\":\"x\",\"domain\":[0.0,1.0],\"title\":{\"text\":\"value\"}}},                        {\"responsive\": true}                    ).then(function(){\n",
       "                            \n",
       "var gd = document.getElementById('c5a3032a-6a54-4fed-9923-e5af904fc206');\n",
       "var x = new MutationObserver(function (mutations, observer) {{\n",
       "        var display = window.getComputedStyle(gd).display;\n",
       "        if (!display || display === 'none') {{\n",
       "            console.log([gd, 'removed!']);\n",
       "            Plotly.purge(gd);\n",
       "            observer.disconnect();\n",
       "        }}\n",
       "}});\n",
       "\n",
       "// Listen for the removal of the full notebook cells\n",
       "var notebookContainer = gd.closest('#notebook-container');\n",
       "if (notebookContainer) {{\n",
       "    x.observe(notebookContainer, {childList: true});\n",
       "}}\n",
       "\n",
       "// Listen for the clearing of the current output cell\n",
       "var outputEl = gd.closest('.output');\n",
       "if (outputEl) {{\n",
       "    x.observe(outputEl, {childList: true});\n",
       "}}\n",
       "\n",
       "                        })                };                });            </script>        </div>"
      ]
     },
     "metadata": {},
     "output_type": "display_data"
    }
   ],
   "source": [
    "import plotly.express as px\n",
    "\n",
    "log_returns = clsROR.get_logarithmic_returns(_topNassets_df, value_col_name='market_cap')\n",
    "trans_log_returns = clsETL.transfrom_data(log_returns,value_col_name=\"log\")\n",
    "_min_date = (trans_log_returns[\"Date\"].min()).date()\n",
    "_max_date = (trans_log_returns[\"Date\"].max()).date()\n",
    "_title = \"Actuals logarithmic Returns from \"+str(_min_date)+\" to \"+str(_max_date)\n",
    "fig = px.scatter(trans_log_returns, x=\"Date\", y=trans_log_returns.columns,\n",
    "              hover_data={\"Date\": \"|%B %d, %Y\"},\n",
    "              title=_title)\n",
    "fig.update_xaxes(\n",
    "    dtick=\"M1\",\n",
    "    tickformat=\"%b\\n%Y\")\n",
    "fig.show()"
   ]
  },
  {
   "cell_type": "code",
   "execution_count": 214,
   "id": "b35b64a7",
   "metadata": {},
   "outputs": [
    {
     "name": "stderr",
     "output_type": "stream",
     "text": [
      "/home/gnewy/.local/lib/python3.8/site-packages/plotly/io/_renderers.py:396: DeprecationWarning:\n",
      "\n",
      "distutils Version classes are deprecated. Use packaging.version instead.\n",
      "\n"
     ]
    },
    {
     "data": {
      "application/vnd.plotly.v1+json": {
       "config": {
        "plotlyServerURL": "https://plot.ly"
       },
       "data": [
        {
         "hovertemplate": "variable=bitcoin<br>Date=%{x|%B %d, %Y}<br>value=%{y}<extra></extra>",
         "legendgroup": "bitcoin",
         "marker": {
          "color": "#636efa",
          "symbol": "circle"
         },
         "mode": "markers",
         "name": "bitcoin",
         "orientation": "v",
         "showlegend": true,
         "type": "scatter",
         "x": [
          "2022-01-07T00:00:00",
          "2022-01-08T00:00:00",
          "2022-01-09T00:00:00",
          "2022-01-10T00:00:00",
          "2022-01-11T00:00:00",
          "2022-01-12T00:00:00",
          "2022-01-13T00:00:00",
          "2022-01-14T00:00:00",
          "2022-01-15T00:00:00",
          "2022-01-16T00:00:00",
          "2022-01-17T00:00:00",
          "2022-01-18T00:00:00",
          "2022-01-19T00:00:00",
          "2022-01-20T00:00:00",
          "2022-01-21T00:00:00",
          "2022-01-22T00:00:00",
          "2022-01-23T00:00:00",
          "2022-01-24T00:00:00",
          "2022-01-25T00:00:00",
          "2022-01-26T00:00:00",
          "2022-01-27T00:00:00",
          "2022-01-28T00:00:00",
          "2022-01-29T00:00:00",
          "2022-01-30T00:00:00",
          "2022-01-31T00:00:00",
          "2022-02-01T00:00:00"
         ],
         "xaxis": "x",
         "y": [
          null,
          -0.014650687151507661,
          -0.018805347966141913,
          -0.01816601945398836,
          -0.015338822239316202,
          -0.011781355112769105,
          0.0008422728482307411,
          -0.0023153963779546554,
          0.005045570064383688,
          0.00422874814833464,
          0.004346146675545808,
          0.001477738579571919,
          -0.0009936049733851827,
          -0.00739634808275354,
          -0.005727700089847123,
          -0.02218392828767265,
          -0.02778287852270212,
          -0.024383040054312004,
          -0.02020928512155187,
          -0.020433129831348235,
          -0.018202668640632337,
          -0.014732439229855374,
          0.004975445176060426,
          0.011556047373158533,
          0.006472718615317372,
          0.006320045864627133
         ],
         "yaxis": "y"
        },
        {
         "hovertemplate": "variable=cardano<br>Date=%{x|%B %d, %Y}<br>value=%{y}<extra></extra>",
         "legendgroup": "cardano",
         "marker": {
          "color": "#EF553B",
          "symbol": "circle"
         },
         "mode": "markers",
         "name": "cardano",
         "orientation": "v",
         "showlegend": true,
         "type": "scatter",
         "x": [
          "2022-01-07T00:00:00",
          "2022-01-08T00:00:00",
          "2022-01-09T00:00:00",
          "2022-01-10T00:00:00",
          "2022-01-11T00:00:00",
          "2022-01-12T00:00:00",
          "2022-01-13T00:00:00",
          "2022-01-14T00:00:00",
          "2022-01-15T00:00:00",
          "2022-01-16T00:00:00",
          "2022-01-17T00:00:00",
          "2022-01-18T00:00:00",
          "2022-01-19T00:00:00",
          "2022-01-20T00:00:00",
          "2022-01-21T00:00:00",
          "2022-01-22T00:00:00",
          "2022-01-23T00:00:00",
          "2022-01-24T00:00:00",
          "2022-01-25T00:00:00",
          "2022-01-26T00:00:00",
          "2022-01-27T00:00:00",
          "2022-01-28T00:00:00",
          "2022-01-29T00:00:00",
          "2022-01-30T00:00:00",
          "2022-01-31T00:00:00",
          "2022-02-01T00:00:00"
         ],
         "xaxis": "x",
         "y": [
          null,
          null,
          null,
          null,
          null,
          null,
          null,
          null,
          null,
          null,
          null,
          null,
          0.03019734670237482,
          0.0040038140738702915,
          null,
          -0.012836363599687897,
          -0.024481528487097986,
          -0.031931532898637344,
          -0.057919347083715246,
          -0.051801339916397134,
          -0.03284289795432774,
          -0.02866668549723616,
          -0.010912068333329077,
          -0.001058824770652558,
          -0.010919894678144757,
          -0.0024899124547302985
         ],
         "yaxis": "y"
        },
        {
         "hovertemplate": "variable=ethereum<br>Date=%{x|%B %d, %Y}<br>value=%{y}<extra></extra>",
         "legendgroup": "ethereum",
         "marker": {
          "color": "#00cc96",
          "symbol": "circle"
         },
         "mode": "markers",
         "name": "ethereum",
         "orientation": "v",
         "showlegend": true,
         "type": "scatter",
         "x": [
          "2022-01-07T00:00:00",
          "2022-01-08T00:00:00",
          "2022-01-09T00:00:00",
          "2022-01-10T00:00:00",
          "2022-01-11T00:00:00",
          "2022-01-12T00:00:00",
          "2022-01-13T00:00:00",
          "2022-01-14T00:00:00",
          "2022-01-15T00:00:00",
          "2022-01-16T00:00:00",
          "2022-01-17T00:00:00",
          "2022-01-18T00:00:00",
          "2022-01-19T00:00:00",
          "2022-01-20T00:00:00",
          "2022-01-21T00:00:00",
          "2022-01-22T00:00:00",
          "2022-01-23T00:00:00",
          "2022-01-24T00:00:00",
          "2022-01-25T00:00:00",
          "2022-01-26T00:00:00",
          "2022-01-27T00:00:00",
          "2022-01-28T00:00:00",
          "2022-01-29T00:00:00",
          "2022-01-30T00:00:00",
          "2022-01-31T00:00:00",
          "2022-02-01T00:00:00"
         ],
         "xaxis": "x",
         "y": [
          null,
          -0.019170078353755986,
          -0.02684536888192175,
          -0.028131949006322925,
          -0.02870238598349645,
          -0.024419275815570456,
          -0.00789111376293595,
          -0.007312649278099321,
          0.00499510505045974,
          0.01006428013982804,
          0.009178184359458249,
          0.005744986427529926,
          -0.00348799712266027,
          -0.011534114201486584,
          -0.01017496870742454,
          -0.0333312939957661,
          -0.043319715506504416,
          -0.040038950276852545,
          -0.039007522536521316,
          -0.03733774477937619,
          -0.03473548467072445,
          -0.03461838551035356,
          -0.0011332340626671639,
          0.011211607520547829,
          0.004293451560886509,
          0.013431548689601714
         ],
         "yaxis": "y"
        },
        {
         "hovertemplate": "variable=solana<br>Date=%{x|%B %d, %Y}<br>value=%{y}<extra></extra>",
         "legendgroup": "solana",
         "marker": {
          "color": "#ab63fa",
          "symbol": "circle"
         },
         "mode": "markers",
         "name": "solana",
         "orientation": "v",
         "showlegend": true,
         "type": "scatter",
         "x": [
          "2022-01-07T00:00:00",
          "2022-01-08T00:00:00",
          "2022-01-09T00:00:00",
          "2022-01-10T00:00:00",
          "2022-01-11T00:00:00",
          "2022-01-12T00:00:00",
          "2022-01-13T00:00:00",
          "2022-01-14T00:00:00",
          "2022-01-15T00:00:00",
          "2022-01-16T00:00:00",
          "2022-01-17T00:00:00",
          "2022-01-18T00:00:00",
          "2022-01-19T00:00:00",
          "2022-01-20T00:00:00",
          "2022-01-21T00:00:00",
          "2022-01-22T00:00:00",
          "2022-01-23T00:00:00",
          "2022-01-24T00:00:00",
          "2022-01-25T00:00:00",
          "2022-01-26T00:00:00",
          "2022-01-27T00:00:00",
          "2022-01-28T00:00:00",
          "2022-01-29T00:00:00",
          "2022-01-30T00:00:00",
          "2022-01-31T00:00:00",
          "2022-02-01T00:00:00"
         ],
         "xaxis": "x",
         "y": [
          null,
          -0.02879102319758124,
          -0.02997418648347058,
          -0.031958259947238145,
          -0.032408838220824125,
          -0.026691795610181295,
          -0.0020843272292450877,
          -0.002990129360429877,
          0.010368016286659303,
          0.005262517391673593,
          0.00822251647861023,
          null,
          null,
          null,
          -0.023588630579644294,
          null,
          null,
          null,
          null,
          null,
          null,
          null,
          null,
          null,
          null,
          null
         ],
         "yaxis": "y"
        }
       ],
       "layout": {
        "legend": {
         "title": {
          "text": "variable"
         },
         "tracegroupgap": 0
        },
        "template": {
         "data": {
          "bar": [
           {
            "error_x": {
             "color": "#2a3f5f"
            },
            "error_y": {
             "color": "#2a3f5f"
            },
            "marker": {
             "line": {
              "color": "#E5ECF6",
              "width": 0.5
             },
             "pattern": {
              "fillmode": "overlay",
              "size": 10,
              "solidity": 0.2
             }
            },
            "type": "bar"
           }
          ],
          "barpolar": [
           {
            "marker": {
             "line": {
              "color": "#E5ECF6",
              "width": 0.5
             },
             "pattern": {
              "fillmode": "overlay",
              "size": 10,
              "solidity": 0.2
             }
            },
            "type": "barpolar"
           }
          ],
          "carpet": [
           {
            "aaxis": {
             "endlinecolor": "#2a3f5f",
             "gridcolor": "white",
             "linecolor": "white",
             "minorgridcolor": "white",
             "startlinecolor": "#2a3f5f"
            },
            "baxis": {
             "endlinecolor": "#2a3f5f",
             "gridcolor": "white",
             "linecolor": "white",
             "minorgridcolor": "white",
             "startlinecolor": "#2a3f5f"
            },
            "type": "carpet"
           }
          ],
          "choropleth": [
           {
            "colorbar": {
             "outlinewidth": 0,
             "ticks": ""
            },
            "type": "choropleth"
           }
          ],
          "contour": [
           {
            "colorbar": {
             "outlinewidth": 0,
             "ticks": ""
            },
            "colorscale": [
             [
              0,
              "#0d0887"
             ],
             [
              0.1111111111111111,
              "#46039f"
             ],
             [
              0.2222222222222222,
              "#7201a8"
             ],
             [
              0.3333333333333333,
              "#9c179e"
             ],
             [
              0.4444444444444444,
              "#bd3786"
             ],
             [
              0.5555555555555556,
              "#d8576b"
             ],
             [
              0.6666666666666666,
              "#ed7953"
             ],
             [
              0.7777777777777778,
              "#fb9f3a"
             ],
             [
              0.8888888888888888,
              "#fdca26"
             ],
             [
              1,
              "#f0f921"
             ]
            ],
            "type": "contour"
           }
          ],
          "contourcarpet": [
           {
            "colorbar": {
             "outlinewidth": 0,
             "ticks": ""
            },
            "type": "contourcarpet"
           }
          ],
          "heatmap": [
           {
            "colorbar": {
             "outlinewidth": 0,
             "ticks": ""
            },
            "colorscale": [
             [
              0,
              "#0d0887"
             ],
             [
              0.1111111111111111,
              "#46039f"
             ],
             [
              0.2222222222222222,
              "#7201a8"
             ],
             [
              0.3333333333333333,
              "#9c179e"
             ],
             [
              0.4444444444444444,
              "#bd3786"
             ],
             [
              0.5555555555555556,
              "#d8576b"
             ],
             [
              0.6666666666666666,
              "#ed7953"
             ],
             [
              0.7777777777777778,
              "#fb9f3a"
             ],
             [
              0.8888888888888888,
              "#fdca26"
             ],
             [
              1,
              "#f0f921"
             ]
            ],
            "type": "heatmap"
           }
          ],
          "heatmapgl": [
           {
            "colorbar": {
             "outlinewidth": 0,
             "ticks": ""
            },
            "colorscale": [
             [
              0,
              "#0d0887"
             ],
             [
              0.1111111111111111,
              "#46039f"
             ],
             [
              0.2222222222222222,
              "#7201a8"
             ],
             [
              0.3333333333333333,
              "#9c179e"
             ],
             [
              0.4444444444444444,
              "#bd3786"
             ],
             [
              0.5555555555555556,
              "#d8576b"
             ],
             [
              0.6666666666666666,
              "#ed7953"
             ],
             [
              0.7777777777777778,
              "#fb9f3a"
             ],
             [
              0.8888888888888888,
              "#fdca26"
             ],
             [
              1,
              "#f0f921"
             ]
            ],
            "type": "heatmapgl"
           }
          ],
          "histogram": [
           {
            "marker": {
             "pattern": {
              "fillmode": "overlay",
              "size": 10,
              "solidity": 0.2
             }
            },
            "type": "histogram"
           }
          ],
          "histogram2d": [
           {
            "colorbar": {
             "outlinewidth": 0,
             "ticks": ""
            },
            "colorscale": [
             [
              0,
              "#0d0887"
             ],
             [
              0.1111111111111111,
              "#46039f"
             ],
             [
              0.2222222222222222,
              "#7201a8"
             ],
             [
              0.3333333333333333,
              "#9c179e"
             ],
             [
              0.4444444444444444,
              "#bd3786"
             ],
             [
              0.5555555555555556,
              "#d8576b"
             ],
             [
              0.6666666666666666,
              "#ed7953"
             ],
             [
              0.7777777777777778,
              "#fb9f3a"
             ],
             [
              0.8888888888888888,
              "#fdca26"
             ],
             [
              1,
              "#f0f921"
             ]
            ],
            "type": "histogram2d"
           }
          ],
          "histogram2dcontour": [
           {
            "colorbar": {
             "outlinewidth": 0,
             "ticks": ""
            },
            "colorscale": [
             [
              0,
              "#0d0887"
             ],
             [
              0.1111111111111111,
              "#46039f"
             ],
             [
              0.2222222222222222,
              "#7201a8"
             ],
             [
              0.3333333333333333,
              "#9c179e"
             ],
             [
              0.4444444444444444,
              "#bd3786"
             ],
             [
              0.5555555555555556,
              "#d8576b"
             ],
             [
              0.6666666666666666,
              "#ed7953"
             ],
             [
              0.7777777777777778,
              "#fb9f3a"
             ],
             [
              0.8888888888888888,
              "#fdca26"
             ],
             [
              1,
              "#f0f921"
             ]
            ],
            "type": "histogram2dcontour"
           }
          ],
          "mesh3d": [
           {
            "colorbar": {
             "outlinewidth": 0,
             "ticks": ""
            },
            "type": "mesh3d"
           }
          ],
          "parcoords": [
           {
            "line": {
             "colorbar": {
              "outlinewidth": 0,
              "ticks": ""
             }
            },
            "type": "parcoords"
           }
          ],
          "pie": [
           {
            "automargin": true,
            "type": "pie"
           }
          ],
          "scatter": [
           {
            "marker": {
             "colorbar": {
              "outlinewidth": 0,
              "ticks": ""
             }
            },
            "type": "scatter"
           }
          ],
          "scatter3d": [
           {
            "line": {
             "colorbar": {
              "outlinewidth": 0,
              "ticks": ""
             }
            },
            "marker": {
             "colorbar": {
              "outlinewidth": 0,
              "ticks": ""
             }
            },
            "type": "scatter3d"
           }
          ],
          "scattercarpet": [
           {
            "marker": {
             "colorbar": {
              "outlinewidth": 0,
              "ticks": ""
             }
            },
            "type": "scattercarpet"
           }
          ],
          "scattergeo": [
           {
            "marker": {
             "colorbar": {
              "outlinewidth": 0,
              "ticks": ""
             }
            },
            "type": "scattergeo"
           }
          ],
          "scattergl": [
           {
            "marker": {
             "colorbar": {
              "outlinewidth": 0,
              "ticks": ""
             }
            },
            "type": "scattergl"
           }
          ],
          "scattermapbox": [
           {
            "marker": {
             "colorbar": {
              "outlinewidth": 0,
              "ticks": ""
             }
            },
            "type": "scattermapbox"
           }
          ],
          "scatterpolar": [
           {
            "marker": {
             "colorbar": {
              "outlinewidth": 0,
              "ticks": ""
             }
            },
            "type": "scatterpolar"
           }
          ],
          "scatterpolargl": [
           {
            "marker": {
             "colorbar": {
              "outlinewidth": 0,
              "ticks": ""
             }
            },
            "type": "scatterpolargl"
           }
          ],
          "scatterternary": [
           {
            "marker": {
             "colorbar": {
              "outlinewidth": 0,
              "ticks": ""
             }
            },
            "type": "scatterternary"
           }
          ],
          "surface": [
           {
            "colorbar": {
             "outlinewidth": 0,
             "ticks": ""
            },
            "colorscale": [
             [
              0,
              "#0d0887"
             ],
             [
              0.1111111111111111,
              "#46039f"
             ],
             [
              0.2222222222222222,
              "#7201a8"
             ],
             [
              0.3333333333333333,
              "#9c179e"
             ],
             [
              0.4444444444444444,
              "#bd3786"
             ],
             [
              0.5555555555555556,
              "#d8576b"
             ],
             [
              0.6666666666666666,
              "#ed7953"
             ],
             [
              0.7777777777777778,
              "#fb9f3a"
             ],
             [
              0.8888888888888888,
              "#fdca26"
             ],
             [
              1,
              "#f0f921"
             ]
            ],
            "type": "surface"
           }
          ],
          "table": [
           {
            "cells": {
             "fill": {
              "color": "#EBF0F8"
             },
             "line": {
              "color": "white"
             }
            },
            "header": {
             "fill": {
              "color": "#C8D4E3"
             },
             "line": {
              "color": "white"
             }
            },
            "type": "table"
           }
          ]
         },
         "layout": {
          "annotationdefaults": {
           "arrowcolor": "#2a3f5f",
           "arrowhead": 0,
           "arrowwidth": 1
          },
          "autotypenumbers": "strict",
          "coloraxis": {
           "colorbar": {
            "outlinewidth": 0,
            "ticks": ""
           }
          },
          "colorscale": {
           "diverging": [
            [
             0,
             "#8e0152"
            ],
            [
             0.1,
             "#c51b7d"
            ],
            [
             0.2,
             "#de77ae"
            ],
            [
             0.3,
             "#f1b6da"
            ],
            [
             0.4,
             "#fde0ef"
            ],
            [
             0.5,
             "#f7f7f7"
            ],
            [
             0.6,
             "#e6f5d0"
            ],
            [
             0.7,
             "#b8e186"
            ],
            [
             0.8,
             "#7fbc41"
            ],
            [
             0.9,
             "#4d9221"
            ],
            [
             1,
             "#276419"
            ]
           ],
           "sequential": [
            [
             0,
             "#0d0887"
            ],
            [
             0.1111111111111111,
             "#46039f"
            ],
            [
             0.2222222222222222,
             "#7201a8"
            ],
            [
             0.3333333333333333,
             "#9c179e"
            ],
            [
             0.4444444444444444,
             "#bd3786"
            ],
            [
             0.5555555555555556,
             "#d8576b"
            ],
            [
             0.6666666666666666,
             "#ed7953"
            ],
            [
             0.7777777777777778,
             "#fb9f3a"
            ],
            [
             0.8888888888888888,
             "#fdca26"
            ],
            [
             1,
             "#f0f921"
            ]
           ],
           "sequentialminus": [
            [
             0,
             "#0d0887"
            ],
            [
             0.1111111111111111,
             "#46039f"
            ],
            [
             0.2222222222222222,
             "#7201a8"
            ],
            [
             0.3333333333333333,
             "#9c179e"
            ],
            [
             0.4444444444444444,
             "#bd3786"
            ],
            [
             0.5555555555555556,
             "#d8576b"
            ],
            [
             0.6666666666666666,
             "#ed7953"
            ],
            [
             0.7777777777777778,
             "#fb9f3a"
            ],
            [
             0.8888888888888888,
             "#fdca26"
            ],
            [
             1,
             "#f0f921"
            ]
           ]
          },
          "colorway": [
           "#636efa",
           "#EF553B",
           "#00cc96",
           "#ab63fa",
           "#FFA15A",
           "#19d3f3",
           "#FF6692",
           "#B6E880",
           "#FF97FF",
           "#FECB52"
          ],
          "font": {
           "color": "#2a3f5f"
          },
          "geo": {
           "bgcolor": "white",
           "lakecolor": "white",
           "landcolor": "#E5ECF6",
           "showlakes": true,
           "showland": true,
           "subunitcolor": "white"
          },
          "hoverlabel": {
           "align": "left"
          },
          "hovermode": "closest",
          "mapbox": {
           "style": "light"
          },
          "paper_bgcolor": "white",
          "plot_bgcolor": "#E5ECF6",
          "polar": {
           "angularaxis": {
            "gridcolor": "white",
            "linecolor": "white",
            "ticks": ""
           },
           "bgcolor": "#E5ECF6",
           "radialaxis": {
            "gridcolor": "white",
            "linecolor": "white",
            "ticks": ""
           }
          },
          "scene": {
           "xaxis": {
            "backgroundcolor": "#E5ECF6",
            "gridcolor": "white",
            "gridwidth": 2,
            "linecolor": "white",
            "showbackground": true,
            "ticks": "",
            "zerolinecolor": "white"
           },
           "yaxis": {
            "backgroundcolor": "#E5ECF6",
            "gridcolor": "white",
            "gridwidth": 2,
            "linecolor": "white",
            "showbackground": true,
            "ticks": "",
            "zerolinecolor": "white"
           },
           "zaxis": {
            "backgroundcolor": "#E5ECF6",
            "gridcolor": "white",
            "gridwidth": 2,
            "linecolor": "white",
            "showbackground": true,
            "ticks": "",
            "zerolinecolor": "white"
           }
          },
          "shapedefaults": {
           "line": {
            "color": "#2a3f5f"
           }
          },
          "ternary": {
           "aaxis": {
            "gridcolor": "white",
            "linecolor": "white",
            "ticks": ""
           },
           "baxis": {
            "gridcolor": "white",
            "linecolor": "white",
            "ticks": ""
           },
           "bgcolor": "#E5ECF6",
           "caxis": {
            "gridcolor": "white",
            "linecolor": "white",
            "ticks": ""
           }
          },
          "title": {
           "x": 0.05
          },
          "xaxis": {
           "automargin": true,
           "gridcolor": "white",
           "linecolor": "white",
           "ticks": "",
           "title": {
            "standoff": 15
           },
           "zerolinecolor": "white",
           "zerolinewidth": 2
          },
          "yaxis": {
           "automargin": true,
           "gridcolor": "white",
           "linecolor": "white",
           "ticks": "",
           "title": {
            "standoff": 15
           },
           "zerolinecolor": "white",
           "zerolinewidth": 2
          }
         }
        },
        "title": {
         "text": "Mean logarithmic Returns from 2022-01-07 to 2022-02-01"
        },
        "xaxis": {
         "anchor": "y",
         "domain": [
          0,
          1
         ],
         "dtick": "M1",
         "tickformat": "%b\n%Y",
         "title": {
          "text": "Date"
         }
        },
        "yaxis": {
         "anchor": "x",
         "domain": [
          0,
          1
         ],
         "title": {
          "text": "value"
         }
        }
       }
      },
      "text/html": [
       "<div>                            <div id=\"12043942-b4a2-4711-a849-3598fcbf7119\" class=\"plotly-graph-div\" style=\"height:525px; width:100%;\"></div>            <script type=\"text/javascript\">                require([\"plotly\"], function(Plotly) {                    window.PLOTLYENV=window.PLOTLYENV || {};                                    if (document.getElementById(\"12043942-b4a2-4711-a849-3598fcbf7119\")) {                    Plotly.newPlot(                        \"12043942-b4a2-4711-a849-3598fcbf7119\",                        [{\"hovertemplate\":\"variable=bitcoin<br>Date=%{x|%B %d, %Y}<br>value=%{y}<extra></extra>\",\"legendgroup\":\"bitcoin\",\"marker\":{\"color\":\"#636efa\",\"symbol\":\"circle\"},\"mode\":\"markers\",\"name\":\"bitcoin\",\"orientation\":\"v\",\"showlegend\":true,\"type\":\"scatter\",\"x\":[\"2022-01-07T00:00:00\",\"2022-01-08T00:00:00\",\"2022-01-09T00:00:00\",\"2022-01-10T00:00:00\",\"2022-01-11T00:00:00\",\"2022-01-12T00:00:00\",\"2022-01-13T00:00:00\",\"2022-01-14T00:00:00\",\"2022-01-15T00:00:00\",\"2022-01-16T00:00:00\",\"2022-01-17T00:00:00\",\"2022-01-18T00:00:00\",\"2022-01-19T00:00:00\",\"2022-01-20T00:00:00\",\"2022-01-21T00:00:00\",\"2022-01-22T00:00:00\",\"2022-01-23T00:00:00\",\"2022-01-24T00:00:00\",\"2022-01-25T00:00:00\",\"2022-01-26T00:00:00\",\"2022-01-27T00:00:00\",\"2022-01-28T00:00:00\",\"2022-01-29T00:00:00\",\"2022-01-30T00:00:00\",\"2022-01-31T00:00:00\",\"2022-02-01T00:00:00\"],\"xaxis\":\"x\",\"y\":[null,-0.014650687151507661,-0.018805347966141913,-0.01816601945398836,-0.015338822239316202,-0.011781355112769105,0.0008422728482307411,-0.0023153963779546554,0.005045570064383688,0.00422874814833464,0.004346146675545808,0.001477738579571919,-0.0009936049733851827,-0.00739634808275354,-0.005727700089847123,-0.02218392828767265,-0.02778287852270212,-0.024383040054312004,-0.02020928512155187,-0.020433129831348235,-0.018202668640632337,-0.014732439229855374,0.004975445176060426,0.011556047373158533,0.006472718615317372,0.006320045864627133],\"yaxis\":\"y\"},{\"hovertemplate\":\"variable=cardano<br>Date=%{x|%B %d, %Y}<br>value=%{y}<extra></extra>\",\"legendgroup\":\"cardano\",\"marker\":{\"color\":\"#EF553B\",\"symbol\":\"circle\"},\"mode\":\"markers\",\"name\":\"cardano\",\"orientation\":\"v\",\"showlegend\":true,\"type\":\"scatter\",\"x\":[\"2022-01-07T00:00:00\",\"2022-01-08T00:00:00\",\"2022-01-09T00:00:00\",\"2022-01-10T00:00:00\",\"2022-01-11T00:00:00\",\"2022-01-12T00:00:00\",\"2022-01-13T00:00:00\",\"2022-01-14T00:00:00\",\"2022-01-15T00:00:00\",\"2022-01-16T00:00:00\",\"2022-01-17T00:00:00\",\"2022-01-18T00:00:00\",\"2022-01-19T00:00:00\",\"2022-01-20T00:00:00\",\"2022-01-21T00:00:00\",\"2022-01-22T00:00:00\",\"2022-01-23T00:00:00\",\"2022-01-24T00:00:00\",\"2022-01-25T00:00:00\",\"2022-01-26T00:00:00\",\"2022-01-27T00:00:00\",\"2022-01-28T00:00:00\",\"2022-01-29T00:00:00\",\"2022-01-30T00:00:00\",\"2022-01-31T00:00:00\",\"2022-02-01T00:00:00\"],\"xaxis\":\"x\",\"y\":[null,null,null,null,null,null,null,null,null,null,null,null,0.03019734670237482,0.0040038140738702915,null,-0.012836363599687897,-0.024481528487097986,-0.031931532898637344,-0.057919347083715246,-0.051801339916397134,-0.03284289795432774,-0.02866668549723616,-0.010912068333329077,-0.001058824770652558,-0.010919894678144757,-0.0024899124547302985],\"yaxis\":\"y\"},{\"hovertemplate\":\"variable=ethereum<br>Date=%{x|%B %d, %Y}<br>value=%{y}<extra></extra>\",\"legendgroup\":\"ethereum\",\"marker\":{\"color\":\"#00cc96\",\"symbol\":\"circle\"},\"mode\":\"markers\",\"name\":\"ethereum\",\"orientation\":\"v\",\"showlegend\":true,\"type\":\"scatter\",\"x\":[\"2022-01-07T00:00:00\",\"2022-01-08T00:00:00\",\"2022-01-09T00:00:00\",\"2022-01-10T00:00:00\",\"2022-01-11T00:00:00\",\"2022-01-12T00:00:00\",\"2022-01-13T00:00:00\",\"2022-01-14T00:00:00\",\"2022-01-15T00:00:00\",\"2022-01-16T00:00:00\",\"2022-01-17T00:00:00\",\"2022-01-18T00:00:00\",\"2022-01-19T00:00:00\",\"2022-01-20T00:00:00\",\"2022-01-21T00:00:00\",\"2022-01-22T00:00:00\",\"2022-01-23T00:00:00\",\"2022-01-24T00:00:00\",\"2022-01-25T00:00:00\",\"2022-01-26T00:00:00\",\"2022-01-27T00:00:00\",\"2022-01-28T00:00:00\",\"2022-01-29T00:00:00\",\"2022-01-30T00:00:00\",\"2022-01-31T00:00:00\",\"2022-02-01T00:00:00\"],\"xaxis\":\"x\",\"y\":[null,-0.019170078353755986,-0.02684536888192175,-0.028131949006322925,-0.02870238598349645,-0.024419275815570456,-0.00789111376293595,-0.007312649278099321,0.00499510505045974,0.01006428013982804,0.009178184359458249,0.005744986427529926,-0.00348799712266027,-0.011534114201486584,-0.01017496870742454,-0.0333312939957661,-0.043319715506504416,-0.040038950276852545,-0.039007522536521316,-0.03733774477937619,-0.03473548467072445,-0.03461838551035356,-0.0011332340626671639,0.011211607520547829,0.004293451560886509,0.013431548689601714],\"yaxis\":\"y\"},{\"hovertemplate\":\"variable=solana<br>Date=%{x|%B %d, %Y}<br>value=%{y}<extra></extra>\",\"legendgroup\":\"solana\",\"marker\":{\"color\":\"#ab63fa\",\"symbol\":\"circle\"},\"mode\":\"markers\",\"name\":\"solana\",\"orientation\":\"v\",\"showlegend\":true,\"type\":\"scatter\",\"x\":[\"2022-01-07T00:00:00\",\"2022-01-08T00:00:00\",\"2022-01-09T00:00:00\",\"2022-01-10T00:00:00\",\"2022-01-11T00:00:00\",\"2022-01-12T00:00:00\",\"2022-01-13T00:00:00\",\"2022-01-14T00:00:00\",\"2022-01-15T00:00:00\",\"2022-01-16T00:00:00\",\"2022-01-17T00:00:00\",\"2022-01-18T00:00:00\",\"2022-01-19T00:00:00\",\"2022-01-20T00:00:00\",\"2022-01-21T00:00:00\",\"2022-01-22T00:00:00\",\"2022-01-23T00:00:00\",\"2022-01-24T00:00:00\",\"2022-01-25T00:00:00\",\"2022-01-26T00:00:00\",\"2022-01-27T00:00:00\",\"2022-01-28T00:00:00\",\"2022-01-29T00:00:00\",\"2022-01-30T00:00:00\",\"2022-01-31T00:00:00\",\"2022-02-01T00:00:00\"],\"xaxis\":\"x\",\"y\":[null,-0.02879102319758124,-0.02997418648347058,-0.031958259947238145,-0.032408838220824125,-0.026691795610181295,-0.0020843272292450877,-0.002990129360429877,0.010368016286659303,0.005262517391673593,0.00822251647861023,null,null,null,-0.023588630579644294,null,null,null,null,null,null,null,null,null,null,null],\"yaxis\":\"y\"}],                        {\"legend\":{\"title\":{\"text\":\"variable\"},\"tracegroupgap\":0},\"template\":{\"data\":{\"bar\":[{\"error_x\":{\"color\":\"#2a3f5f\"},\"error_y\":{\"color\":\"#2a3f5f\"},\"marker\":{\"line\":{\"color\":\"#E5ECF6\",\"width\":0.5},\"pattern\":{\"fillmode\":\"overlay\",\"size\":10,\"solidity\":0.2}},\"type\":\"bar\"}],\"barpolar\":[{\"marker\":{\"line\":{\"color\":\"#E5ECF6\",\"width\":0.5},\"pattern\":{\"fillmode\":\"overlay\",\"size\":10,\"solidity\":0.2}},\"type\":\"barpolar\"}],\"carpet\":[{\"aaxis\":{\"endlinecolor\":\"#2a3f5f\",\"gridcolor\":\"white\",\"linecolor\":\"white\",\"minorgridcolor\":\"white\",\"startlinecolor\":\"#2a3f5f\"},\"baxis\":{\"endlinecolor\":\"#2a3f5f\",\"gridcolor\":\"white\",\"linecolor\":\"white\",\"minorgridcolor\":\"white\",\"startlinecolor\":\"#2a3f5f\"},\"type\":\"carpet\"}],\"choropleth\":[{\"colorbar\":{\"outlinewidth\":0,\"ticks\":\"\"},\"type\":\"choropleth\"}],\"contour\":[{\"colorbar\":{\"outlinewidth\":0,\"ticks\":\"\"},\"colorscale\":[[0.0,\"#0d0887\"],[0.1111111111111111,\"#46039f\"],[0.2222222222222222,\"#7201a8\"],[0.3333333333333333,\"#9c179e\"],[0.4444444444444444,\"#bd3786\"],[0.5555555555555556,\"#d8576b\"],[0.6666666666666666,\"#ed7953\"],[0.7777777777777778,\"#fb9f3a\"],[0.8888888888888888,\"#fdca26\"],[1.0,\"#f0f921\"]],\"type\":\"contour\"}],\"contourcarpet\":[{\"colorbar\":{\"outlinewidth\":0,\"ticks\":\"\"},\"type\":\"contourcarpet\"}],\"heatmap\":[{\"colorbar\":{\"outlinewidth\":0,\"ticks\":\"\"},\"colorscale\":[[0.0,\"#0d0887\"],[0.1111111111111111,\"#46039f\"],[0.2222222222222222,\"#7201a8\"],[0.3333333333333333,\"#9c179e\"],[0.4444444444444444,\"#bd3786\"],[0.5555555555555556,\"#d8576b\"],[0.6666666666666666,\"#ed7953\"],[0.7777777777777778,\"#fb9f3a\"],[0.8888888888888888,\"#fdca26\"],[1.0,\"#f0f921\"]],\"type\":\"heatmap\"}],\"heatmapgl\":[{\"colorbar\":{\"outlinewidth\":0,\"ticks\":\"\"},\"colorscale\":[[0.0,\"#0d0887\"],[0.1111111111111111,\"#46039f\"],[0.2222222222222222,\"#7201a8\"],[0.3333333333333333,\"#9c179e\"],[0.4444444444444444,\"#bd3786\"],[0.5555555555555556,\"#d8576b\"],[0.6666666666666666,\"#ed7953\"],[0.7777777777777778,\"#fb9f3a\"],[0.8888888888888888,\"#fdca26\"],[1.0,\"#f0f921\"]],\"type\":\"heatmapgl\"}],\"histogram\":[{\"marker\":{\"pattern\":{\"fillmode\":\"overlay\",\"size\":10,\"solidity\":0.2}},\"type\":\"histogram\"}],\"histogram2d\":[{\"colorbar\":{\"outlinewidth\":0,\"ticks\":\"\"},\"colorscale\":[[0.0,\"#0d0887\"],[0.1111111111111111,\"#46039f\"],[0.2222222222222222,\"#7201a8\"],[0.3333333333333333,\"#9c179e\"],[0.4444444444444444,\"#bd3786\"],[0.5555555555555556,\"#d8576b\"],[0.6666666666666666,\"#ed7953\"],[0.7777777777777778,\"#fb9f3a\"],[0.8888888888888888,\"#fdca26\"],[1.0,\"#f0f921\"]],\"type\":\"histogram2d\"}],\"histogram2dcontour\":[{\"colorbar\":{\"outlinewidth\":0,\"ticks\":\"\"},\"colorscale\":[[0.0,\"#0d0887\"],[0.1111111111111111,\"#46039f\"],[0.2222222222222222,\"#7201a8\"],[0.3333333333333333,\"#9c179e\"],[0.4444444444444444,\"#bd3786\"],[0.5555555555555556,\"#d8576b\"],[0.6666666666666666,\"#ed7953\"],[0.7777777777777778,\"#fb9f3a\"],[0.8888888888888888,\"#fdca26\"],[1.0,\"#f0f921\"]],\"type\":\"histogram2dcontour\"}],\"mesh3d\":[{\"colorbar\":{\"outlinewidth\":0,\"ticks\":\"\"},\"type\":\"mesh3d\"}],\"parcoords\":[{\"line\":{\"colorbar\":{\"outlinewidth\":0,\"ticks\":\"\"}},\"type\":\"parcoords\"}],\"pie\":[{\"automargin\":true,\"type\":\"pie\"}],\"scatter\":[{\"marker\":{\"colorbar\":{\"outlinewidth\":0,\"ticks\":\"\"}},\"type\":\"scatter\"}],\"scatter3d\":[{\"line\":{\"colorbar\":{\"outlinewidth\":0,\"ticks\":\"\"}},\"marker\":{\"colorbar\":{\"outlinewidth\":0,\"ticks\":\"\"}},\"type\":\"scatter3d\"}],\"scattercarpet\":[{\"marker\":{\"colorbar\":{\"outlinewidth\":0,\"ticks\":\"\"}},\"type\":\"scattercarpet\"}],\"scattergeo\":[{\"marker\":{\"colorbar\":{\"outlinewidth\":0,\"ticks\":\"\"}},\"type\":\"scattergeo\"}],\"scattergl\":[{\"marker\":{\"colorbar\":{\"outlinewidth\":0,\"ticks\":\"\"}},\"type\":\"scattergl\"}],\"scattermapbox\":[{\"marker\":{\"colorbar\":{\"outlinewidth\":0,\"ticks\":\"\"}},\"type\":\"scattermapbox\"}],\"scatterpolar\":[{\"marker\":{\"colorbar\":{\"outlinewidth\":0,\"ticks\":\"\"}},\"type\":\"scatterpolar\"}],\"scatterpolargl\":[{\"marker\":{\"colorbar\":{\"outlinewidth\":0,\"ticks\":\"\"}},\"type\":\"scatterpolargl\"}],\"scatterternary\":[{\"marker\":{\"colorbar\":{\"outlinewidth\":0,\"ticks\":\"\"}},\"type\":\"scatterternary\"}],\"surface\":[{\"colorbar\":{\"outlinewidth\":0,\"ticks\":\"\"},\"colorscale\":[[0.0,\"#0d0887\"],[0.1111111111111111,\"#46039f\"],[0.2222222222222222,\"#7201a8\"],[0.3333333333333333,\"#9c179e\"],[0.4444444444444444,\"#bd3786\"],[0.5555555555555556,\"#d8576b\"],[0.6666666666666666,\"#ed7953\"],[0.7777777777777778,\"#fb9f3a\"],[0.8888888888888888,\"#fdca26\"],[1.0,\"#f0f921\"]],\"type\":\"surface\"}],\"table\":[{\"cells\":{\"fill\":{\"color\":\"#EBF0F8\"},\"line\":{\"color\":\"white\"}},\"header\":{\"fill\":{\"color\":\"#C8D4E3\"},\"line\":{\"color\":\"white\"}},\"type\":\"table\"}]},\"layout\":{\"annotationdefaults\":{\"arrowcolor\":\"#2a3f5f\",\"arrowhead\":0,\"arrowwidth\":1},\"autotypenumbers\":\"strict\",\"coloraxis\":{\"colorbar\":{\"outlinewidth\":0,\"ticks\":\"\"}},\"colorscale\":{\"diverging\":[[0,\"#8e0152\"],[0.1,\"#c51b7d\"],[0.2,\"#de77ae\"],[0.3,\"#f1b6da\"],[0.4,\"#fde0ef\"],[0.5,\"#f7f7f7\"],[0.6,\"#e6f5d0\"],[0.7,\"#b8e186\"],[0.8,\"#7fbc41\"],[0.9,\"#4d9221\"],[1,\"#276419\"]],\"sequential\":[[0.0,\"#0d0887\"],[0.1111111111111111,\"#46039f\"],[0.2222222222222222,\"#7201a8\"],[0.3333333333333333,\"#9c179e\"],[0.4444444444444444,\"#bd3786\"],[0.5555555555555556,\"#d8576b\"],[0.6666666666666666,\"#ed7953\"],[0.7777777777777778,\"#fb9f3a\"],[0.8888888888888888,\"#fdca26\"],[1.0,\"#f0f921\"]],\"sequentialminus\":[[0.0,\"#0d0887\"],[0.1111111111111111,\"#46039f\"],[0.2222222222222222,\"#7201a8\"],[0.3333333333333333,\"#9c179e\"],[0.4444444444444444,\"#bd3786\"],[0.5555555555555556,\"#d8576b\"],[0.6666666666666666,\"#ed7953\"],[0.7777777777777778,\"#fb9f3a\"],[0.8888888888888888,\"#fdca26\"],[1.0,\"#f0f921\"]]},\"colorway\":[\"#636efa\",\"#EF553B\",\"#00cc96\",\"#ab63fa\",\"#FFA15A\",\"#19d3f3\",\"#FF6692\",\"#B6E880\",\"#FF97FF\",\"#FECB52\"],\"font\":{\"color\":\"#2a3f5f\"},\"geo\":{\"bgcolor\":\"white\",\"lakecolor\":\"white\",\"landcolor\":\"#E5ECF6\",\"showlakes\":true,\"showland\":true,\"subunitcolor\":\"white\"},\"hoverlabel\":{\"align\":\"left\"},\"hovermode\":\"closest\",\"mapbox\":{\"style\":\"light\"},\"paper_bgcolor\":\"white\",\"plot_bgcolor\":\"#E5ECF6\",\"polar\":{\"angularaxis\":{\"gridcolor\":\"white\",\"linecolor\":\"white\",\"ticks\":\"\"},\"bgcolor\":\"#E5ECF6\",\"radialaxis\":{\"gridcolor\":\"white\",\"linecolor\":\"white\",\"ticks\":\"\"}},\"scene\":{\"xaxis\":{\"backgroundcolor\":\"#E5ECF6\",\"gridcolor\":\"white\",\"gridwidth\":2,\"linecolor\":\"white\",\"showbackground\":true,\"ticks\":\"\",\"zerolinecolor\":\"white\"},\"yaxis\":{\"backgroundcolor\":\"#E5ECF6\",\"gridcolor\":\"white\",\"gridwidth\":2,\"linecolor\":\"white\",\"showbackground\":true,\"ticks\":\"\",\"zerolinecolor\":\"white\"},\"zaxis\":{\"backgroundcolor\":\"#E5ECF6\",\"gridcolor\":\"white\",\"gridwidth\":2,\"linecolor\":\"white\",\"showbackground\":true,\"ticks\":\"\",\"zerolinecolor\":\"white\"}},\"shapedefaults\":{\"line\":{\"color\":\"#2a3f5f\"}},\"ternary\":{\"aaxis\":{\"gridcolor\":\"white\",\"linecolor\":\"white\",\"ticks\":\"\"},\"baxis\":{\"gridcolor\":\"white\",\"linecolor\":\"white\",\"ticks\":\"\"},\"bgcolor\":\"#E5ECF6\",\"caxis\":{\"gridcolor\":\"white\",\"linecolor\":\"white\",\"ticks\":\"\"}},\"title\":{\"x\":0.05},\"xaxis\":{\"automargin\":true,\"gridcolor\":\"white\",\"linecolor\":\"white\",\"ticks\":\"\",\"title\":{\"standoff\":15},\"zerolinecolor\":\"white\",\"zerolinewidth\":2},\"yaxis\":{\"automargin\":true,\"gridcolor\":\"white\",\"linecolor\":\"white\",\"ticks\":\"\",\"title\":{\"standoff\":15},\"zerolinecolor\":\"white\",\"zerolinewidth\":2}}},\"title\":{\"text\":\"Mean logarithmic Returns from 2022-01-07 to 2022-02-01\"},\"xaxis\":{\"anchor\":\"y\",\"domain\":[0.0,1.0],\"dtick\":\"M1\",\"tickformat\":\"%b\\n%Y\",\"title\":{\"text\":\"Date\"}},\"yaxis\":{\"anchor\":\"x\",\"domain\":[0.0,1.0],\"title\":{\"text\":\"value\"}}},                        {\"responsive\": true}                    ).then(function(){\n",
       "                            \n",
       "var gd = document.getElementById('12043942-b4a2-4711-a849-3598fcbf7119');\n",
       "var x = new MutationObserver(function (mutations, observer) {{\n",
       "        var display = window.getComputedStyle(gd).display;\n",
       "        if (!display || display === 'none') {{\n",
       "            console.log([gd, 'removed!']);\n",
       "            Plotly.purge(gd);\n",
       "            observer.disconnect();\n",
       "        }}\n",
       "}});\n",
       "\n",
       "// Listen for the removal of the full notebook cells\n",
       "var notebookContainer = gd.closest('#notebook-container');\n",
       "if (notebookContainer) {{\n",
       "    x.observe(notebookContainer, {childList: true});\n",
       "}}\n",
       "\n",
       "// Listen for the clearing of the current output cell\n",
       "var outputEl = gd.closest('.output');\n",
       "if (outputEl) {{\n",
       "    x.observe(outputEl, {childList: true});\n",
       "}}\n",
       "\n",
       "                        })                };                });            </script>        </div>"
      ]
     },
     "metadata": {},
     "output_type": "display_data"
    }
   ],
   "source": [
    "mean_log_returns = clsROR.get_logarithmic_returns(\n",
    "    matching_rolling_market_cap_mean.dropna(), \n",
    "    value_col_name='Value')\n",
    "trans_mean_log_returns = clsETL.transfrom_data(mean_log_returns,value_col_name=\"log\")\n",
    "_min_date = (trans_mean_log_returns[\"Date\"].min()).date()\n",
    "_max_date = (trans_mean_log_returns[\"Date\"].max()).date()\n",
    "_title = \"Mean logarithmic Returns from \"+str(_min_date)+\" to \"+str(_max_date)\n",
    "fig = px.scatter(trans_mean_log_returns, x=\"Date\", y=trans_mean_log_returns.columns,\n",
    "              hover_data={\"Date\": \"|%B %d, %Y\"},\n",
    "              title=_title)\n",
    "fig.update_xaxes(\n",
    "    dtick=\"M1\",\n",
    "    tickformat=\"%b\\n%Y\")\n",
    "fig.show()"
   ]
  },
  {
   "cell_type": "markdown",
   "id": "2cb20ad9",
   "metadata": {},
   "source": [
    "## Sum of actual weighted returns"
   ]
  },
  {
   "cell_type": "code",
   "execution_count": 186,
   "id": "8c08f602",
   "metadata": {},
   "outputs": [
    {
     "data": {
      "text/plain": [
       "[{'Date': Timestamp('2022-01-01 00:00:00'),\n",
       "  'Expected Return': array([427089743511.52167, 403854270554.9484, 311437647878.94214,\n",
       "         370345069009.45276, 253227196630.0674, 144089835729.1814,\n",
       "         483540417373.71893, 579714423178.0613, 238469477584.73532,\n",
       "         189684977303.14963], dtype=object)},\n",
       " {'Date': Timestamp('2022-01-02 00:00:00'),\n",
       "  'Expected Return': array([437432258635.4762, 414412337768.2713, 319093960355.11035,\n",
       "         381732405731.16833, 260547920416.12125, 149023519838.76166,\n",
       "         496169956619.3926, 596511659512.7893, 245904271131.92896,\n",
       "         196184580595.33112], dtype=object)},\n",
       " {'Date': Timestamp('2022-01-03 00:00:00'),\n",
       "  'Expected Return': array([442843087418.2637, 417743978375.2305, 323071752599.0281,\n",
       "         380835730920.25146, 261393434823.22568, 148165928583.39087,\n",
       "         499965725105.4914, 596912096707.7501, 245483308426.9997,\n",
       "         194689661750.46454], dtype=object)},\n",
       " {'Date': Timestamp('2022-01-04 00:00:00'),\n",
       "  'Expected Return': array([434715820329.19916, 409892927403.3869, 316953107770.0241,\n",
       "         373295749726.1694, 256114505286.69174, 144757617626.53552,\n",
       "         490693472821.6179, 585643533336.8469, 240383703162.17218,\n",
       "         190404008863.23422], dtype=object)},\n",
       " {'Date': Timestamp('2022-01-05 00:00:00'),\n",
       "  'Expected Return': array([439388385130.24713, 412910422020.9803, 320293176299.0465,\n",
       "         372973950992.19794, 256916613714.77023, 144030635449.26752,\n",
       "         494223796146.0743, 586729293549.0043, 240176530918.31302,\n",
       "         189271173784.99988], dtype=object)},\n",
       " {'Date': Timestamp('2022-01-06 00:00:00'),\n",
       "  'Expected Return': array([410492832445.92017, 386446804713.6102, 298862377909.0163,\n",
       "         350657821559.23145, 240497916162.70532, 134838895464.15594,\n",
       "         462889095361.4397, 551574343948.4995, 225274373257.9105,\n",
       "         177762205882.5651], dtype=object)},\n",
       " {'Date': Timestamp('2022-01-07 00:00:00'),\n",
       "  'Expected Return': array([396109361555.6534, 374793104721.5258, 288077331671.5682,\n",
       "         344318848208.4614, 234225297423.42654, 132355108618.22432,\n",
       "         449342198233.3682, 540174139874.1828, 220674990998.88583,\n",
       "         175206736722.49396], dtype=object)},\n",
       " {'Date': Timestamp('2022-01-08 00:00:00'),\n",
       "  'Expected Return': array([371670290695.49084, 353091462848.25757, 269542818555.97885,\n",
       "         327630454672.91705, 220750884963.77182, 124756694043.53209,\n",
       "         424025219568.7476, 513919470576.5271, 208892534982.64062,\n",
       "         166321645129.84906], dtype=object)},\n",
       " {'Date': Timestamp('2022-01-09 00:00:00'),\n",
       "  'Expected Return': array([362543384237.2547, 347094946390.3885, 263323305973.3337,\n",
       "         327896235581.6852, 219421639112.72607, 126669517012.48402,\n",
       "         416769343692.79535, 510766006179.414, 209474515974.40997,\n",
       "         168797258497.39563], dtype=object)},\n",
       " {'Date': Timestamp('2022-01-10 00:00:00'),\n",
       "  'Expected Return': array([366967461834.3264, 350139971191.451, 266360743082.04193,\n",
       "         328197080451.6101, 220280082597.37912, 126004006645.7919,\n",
       "         420448289967.6939, 512780133888.4218, 209490350310.44754,\n",
       "         167939809486.3601], dtype=object)},\n",
       " {'Date': Timestamp('2022-01-11 00:00:00'),\n",
       "  'Expected Return': array([360533620599.8218, 345160283639.50696, 261183093036.53644,\n",
       "         326139928310.5243, 217352518693.6463, 124497408609.6174,\n",
       "         414954043247.6695, 509318914081.4638, 207450187377.79413,\n",
       "         166744612273.45682], dtype=object)},\n",
       " {'Date': Timestamp('2022-01-12 00:00:00'),\n",
       "  'Expected Return': array([378345152417.6299, 360187435160.81274, 274356777596.29694,\n",
       "         335879556485.07733, 225698246342.58807, 128103678243.98254,\n",
       "         432635602081.22003, 526113108730.2454, 214083361392.7002,\n",
       "         170935866877.52057], dtype=object)},\n",
       " {'Date': Timestamp('2022-01-13 00:00:00'),\n",
       "  'Expected Return': array([392887965922.6753, 373644430539.75995, 285645570353.8648,\n",
       "         347473505781.965, 234767284310.15567, 134017109717.51382,\n",
       "         448208573516.2215, 543285364004.9149, 222475650371.1832,\n",
       "         177842146631.90915], dtype=object)},\n",
       " {'Date': Timestamp('2022-01-14 00:00:00'),\n",
       "  'Expected Return': array([378814716334.60266, 360615888576.4055, 275362940048.03064,\n",
       "         336145997095.41925, 226773668554.68536, 129656040564.6698,\n",
       "         432650940814.1751, 525300585548.8073, 215137020687.0564,\n",
       "         172176691341.1163], dtype=object)},\n",
       " {'Date': Timestamp('2022-01-15 00:00:00'),\n",
       "  'Expected Return': array([384938440160.95166, 366008138348.36475, 279649493520.2825,\n",
       "         340234697395.6518, 229647900177.5195, 130725701317.06776,\n",
       "         439203145607.55817, 532452686590.3755, 217557650480.33353,\n",
       "         173727434252.04504], dtype=object)},\n",
       " {'Date': Timestamp('2022-01-16 00:00:00'),\n",
       "  'Expected Return': array([386898001536.0864, 367608017443.486, 281215195008.0054,\n",
       "         341123148487.6649, 230637672338.52707, 131288804765.80841,\n",
       "         440992469381.84796, 533851052797.8928, 218327417382.94455,\n",
       "         174257502844.38293], dtype=object)},\n",
       " {'Date': Timestamp('2022-01-17 00:00:00'),\n",
       "  'Expected Return': array([389667021859.1044, 369647281175.907, 283291819585.9394,\n",
       "         341704445514.1401, 231570779023.2232, 131452830806.64096,\n",
       "         443336276209.3288, 535258118763.4173, 218814854206.92648,\n",
       "         174298060280.60852], dtype=object)},\n",
       " {'Date': Timestamp('2022-01-18 00:00:00'),\n",
       "  'Expected Return': array([375078615028.2974, 358104946900.5425, 274042625521.4616,\n",
       "         335908800086.9867, 227664205232.6178, 132970585246.673,\n",
       "         428691829785.5456, 521226380421.5258, 216783041638.5983,\n",
       "         175035305977.837], dtype=object)},\n",
       " {'Date': Timestamp('2022-01-19 00:00:00'),\n",
       "  'Expected Return': array([370330207895.15234, 354295787463.917, 269556380461.52493,\n",
       "         334063601962.84216, 224503800516.06097, 130231605834.70671,\n",
       "         424960848346.47174, 519548143601.2572, 214192642717.13525,\n",
       "         172788087780.78687], dtype=object)},\n",
       " {'Date': Timestamp('2022-01-20 00:00:00'),\n",
       "  'Expected Return': array([363543448582.7997, 347369573364.50684, 263662304225.90637,\n",
       "         326718097854.90326, 218630490902.16516, 125138648041.22922,\n",
       "         417326274849.26733, 510355286218.77313, 208240601842.76553,\n",
       "         167129267163.62338], dtype=object)},\n",
       " {'Date': Timestamp('2022-01-21 00:00:00'),\n",
       "  'Expected Return': array([353336646371.9949, 337938079162.5115, 255803004689.95975,\n",
       "         318613509208.1052, 212361720466.78214, 121144781110.39075,\n",
       "         406365952239.8163, 498220646582.018, 202455180860.3449,\n",
       "         162413757538.99313], dtype=object)},\n",
       " {'Date': Timestamp('2022-01-22 00:00:00'),\n",
       "  'Expected Return': array([302782163513.5069, 292414506967.14056, 219035065960.6327,\n",
       "         281897538883.92596, 185576126774.68256, 107811868740.92508,\n",
       "         352003745528.65485, 438183814484.41656, 178796595733.34033,\n",
       "         145163195688.9016], dtype=object)},\n",
       " {'Date': Timestamp('2022-01-23 00:00:00'),\n",
       "  'Expected Return': array([284333616088.01483, 275983636428.5372, 205407856985.95062,\n",
       "         269096799083.46048, 175787658520.9388, 102778649238.3518,\n",
       "         332557305378.2619, 417414415630.9858, 170257986048.91016,\n",
       "         138933301855.33743], dtype=object)},\n",
       " {'Date': Timestamp('2022-01-24 00:00:00'),\n",
       "  'Expected Return': array([299055459118.2239, 289106972518.3321, 216284868363.80664,\n",
       "         279347621985.7684, 183617570041.40967, 106818490664.98447,\n",
       "         348088513411.7343, 434027551204.0215, 177097542381.3268,\n",
       "         143934500810.6126], dtype=object)},\n",
       " {'Date': Timestamp('2022-01-25 00:00:00'),\n",
       "  'Expected Return': array([290568423929.9065, 283291409362.59796, 209400298179.37042,\n",
       "         278998282538.139, 180702312457.5792, 105875811684.01605,\n",
       "         341855044343.03485, 432478336559.632, 175808233097.85703,\n",
       "         143937077063.80432], dtype=object)},\n",
       " {'Date': Timestamp('2022-01-26 00:00:00'),\n",
       "  'Expected Return': array([292145433097.88654, 284694216172.4225, 210252302502.30954,\n",
       "         280130485532.8875, 181151160975.69864, 105635026793.0159,\n",
       "         343749003152.62714, 434902237971.23395, 176147368441.67047,\n",
       "         143962978885.0109], dtype=object)},\n",
       " {'Date': Timestamp('2022-01-27 00:00:00'),\n",
       "  'Expected Return': array([293939342791.8397, 286206179632.4148, 211938988689.01584,\n",
       "         281056783460.6348, 182433166614.48535, 106764701128.6496,\n",
       "         345258840585.8999, 435834243075.9591, 177258078832.2608,\n",
       "         144960124456.82602], dtype=object)},\n",
       " {'Date': Timestamp('2022-01-28 00:00:00'),\n",
       "  'Expected Return': array([287350690521.77606, 281290374276.12494, 206717552834.6528,\n",
       "         279513679496.3005, 179781986398.6006, 105677687652.81026,\n",
       "         339809357557.01666, 432828326663.6829, 175627252947.51822,\n",
       "         144272550725.74097], dtype=object)},\n",
       " {'Date': Timestamp('2022-01-29 00:00:00'),\n",
       "  'Expected Return': array([302046054595.3978, 293547760628.7398, 217260025476.5671,\n",
       "         287154300422.0246, 186075904267.09097, 107738686375.52492,\n",
       "         354459677097.5404, 446825713199.81165, 180421191936.03076,\n",
       "         146894469562.93747], dtype=object)},\n",
       " {'Date': Timestamp('2022-01-30 00:00:00'),\n",
       "  'Expected Return': array([307242227392.7528, 297971778106.8882, 221039293555.91888,\n",
       "         290130078763.16516, 188485881165.0429, 108716114569.05959,\n",
       "         359717559758.5495, 452013541617.91626, 182355469438.64197,\n",
       "         148103306917.09238], dtype=object)},\n",
       " {'Date': Timestamp('2022-01-31 00:00:00'),\n",
       "  'Expected Return': array([308265312595.72345, 298338434759.0197, 221670754576.9021,\n",
       "         289153502340.6831, 188142673533.98743, 107890251385.86154,\n",
       "         360185262605.3937, 451327499915.56, 181612814509.86334,\n",
       "         147044065499.7859], dtype=object)},\n",
       " {'Date': Timestamp('2022-02-01 00:00:00'),\n",
       "  'Expected Return': array([316133400020.87836, 304990772765.7219, 227390435631.08405,\n",
       "         293514228302.9166, 191725636744.7527, 109292285462.48775,\n",
       "         368088830421.9772, 459009728645.5107, 184447295730.7879,\n",
       "         148766804111.33005], dtype=object)}]"
      ]
     },
     "execution_count": 186,
     "metadata": {},
     "output_type": "execute_result"
    }
   ],
   "source": [
    "actual_returns = clsROR.sum_weighted_returns(_topNassets_df, _weights, value_col_name='market_cap')\n",
    "actual_returns"
   ]
  },
  {
   "cell_type": "code",
   "execution_count": 187,
   "id": "50e33996",
   "metadata": {},
   "outputs": [
    {
     "data": {
      "text/plain": [
       "[{'Date': Timestamp('2022-01-07 00:00:00'),\n",
       "  'Expected Return': array([426867355575.1831, 402864835079.70764, 311112764926.1051,\n",
       "         367737082306.70465, 251846126351.00116, 142465934472.78818,\n",
       "         482403523094.4433, 576751355729.5906, 236623807925.84937,\n",
       "         187600477843.17694], dtype=object)},\n",
       " {'Date': Timestamp('2022-01-08 00:00:00'),\n",
       "  'Expected Return': array([418950290887.1787, 395613005407.32324, 305127789308.53894,\n",
       "         361634994544.3424, 247206653255.8161, 139704057089.124,\n",
       "         473901351979.4474, 567352076786.5143, 232398530411.2644,\n",
       "         184262858961.27686], dtype=object)},\n",
       " {'Date': Timestamp('2022-01-09 00:00:00'),\n",
       "  'Expected Return': array([408251880258.86127, 385996235210.4828, 297160552968.2851,\n",
       "         353944113094.41626, 241331470212.4739, 136510628113.94145,\n",
       "         462558407275.64777, 555102697738.8893, 227194279674.47598,\n",
       "         180350384375.85748], dtype=object)},\n",
       " {'Date': Timestamp('2022-01-10 00:00:00'),\n",
       "  'Expected Return': array([397412505175.4417, 376338519898.51434, 289058980180.1442,\n",
       "         346424305884.6104, 235458134180.2101, 133344639265.71306,\n",
       "         451198773684.53394, 543083845907.55664, 222052428514.9685,\n",
       "         176528976909.55685], dtype=object)},\n",
       " {'Date': Timestamp('2022-01-11 00:00:00'),\n",
       "  'Expected Return': array([386815048071.24493, 367090999360.81726, 281091835218.2174,\n",
       "         339687759968.08966, 229920707524.0608, 130450323691.86761,\n",
       "         440378855173.96985, 532180328871.0734, 217347640545.77167,\n",
       "         173149063111.01724], dtype=object)},\n",
       " {'Date': Timestamp('2022-01-12 00:00:00'),\n",
       "  'Expected Return': array([378094586255.1568, 359559144095.07904, 274529492546.39606,\n",
       "         334388560752.78674, 225460940756.60617, 128175044091.11261,\n",
       "         431580541736.1335, 523520873896.96497, 213620044899.25555,\n",
       "         170529733552.8059], dtype=object)},\n",
       " {'Date': Timestamp('2022-01-13 00:00:00'),\n",
       "  'Expected Return': array([375579605323.2646, 357730233498.81464, 272641377181.37445,\n",
       "         333933658498.8915, 224642279063.3848, 128057646127.30661,\n",
       "         429483324329.67377, 522336733905.0243, 213220227344.0088,\n",
       "         170541153659.85504], dtype=object)},\n",
       " {'Date': Timestamp('2022-01-14 00:00:00'),\n",
       "  'Expected Return': array([373108941720.2574, 355704916906.65466, 270825035520.86908,\n",
       "         332766108339.8855, 223577760653.56467, 127672064976.79883,\n",
       "         427098858984.07477, 520211940429.9707, 212429088728.0332,\n",
       "         170108290033.94397], dtype=object)},\n",
       " {'Date': Timestamp('2022-01-15 00:00:00'),\n",
       "  'Expected Return': array([375004391643.8946, 357550156263.8128, 272268846230.0553,\n",
       "         334566714443.1333, 224848762826.95715, 128524780301.58961,\n",
       "         429267134132.47626, 522859542717.66327, 213666962370.56073,\n",
       "         171166259908.54337], dtype=object)},\n",
       " {'Date': Timestamp('2022-01-16 00:00:00'),\n",
       "  'Expected Return': array([378483622686.5849, 360480594985.68384, 274824830377.86554,\n",
       "         336456273429.7018, 226451053287.78586, 129184678552.06451,\n",
       "         432727580659.4837, 526157406520.30304, 214931662571.7799,\n",
       "         171946294815.25583], dtype=object)},\n",
       " {'Date': Timestamp('2022-01-17 00:00:00'),\n",
       "  'Expected Return': array([381726416975.8388, 363267353554.89185, 277243555592.708,\n",
       "         338385897010.06323, 228064009920.0493, 129963082003.61438,\n",
       "         435997292979.7173, 529368547216.731, 216263734556.9912,\n",
       "         172854616357.29132], dtype=object)},\n",
       " {'Date': Timestamp('2022-01-18 00:00:00'),\n",
       "  'Expected Return': array([383395124676.51514, 364140959802.64417, 277638202530.44257,\n",
       "         337743313371.42426, 227092224648.08115, 127683762081.55911,\n",
       "         437591119722.7063, 530641649156.85724, 214803418968.4916,\n",
       "         170715769359.56958], dtype=object)},\n",
       " {'Date': Timestamp('2022-01-19 00:00:00'),\n",
       "  'Expected Return': array([382333726582.0447, 363498629045.23267, 277247137098.8112,\n",
       "         337900307102.1432, 227421108548.49213, 128700754403.8489,\n",
       "         436570059067.58167, 529791235317.2962, 215389792615.2507,\n",
       "         171659348499.74664], dtype=object)},\n",
       " {'Date': Timestamp('2022-01-20 00:00:00'),\n",
       "  'Expected Return': array([378224034597.18726, 359941521015.38727, 274397103053.90063,\n",
       "         335345626868.9152, 225608128659.0576, 128135067318.93405,\n",
       "         432232542574.15454, 525173109012.59985, 213918700598.09454,\n",
       "         170798068580.48618], dtype=object)},\n",
       " {'Date': Timestamp('2022-01-21 00:00:00'),\n",
       "  'Expected Return': array([374689667689.13654, 356953062837.2266, 271974257701.8432,\n",
       "         333365813905.0627, 224178845931.0103, 127817803458.0778,\n",
       "         428572489548.7651, 521414748877.4343, 212826367065.18073,\n",
       "         170259108905.8617], dtype=object)},\n",
       " {'Date': Timestamp('2022-01-22 00:00:00'),\n",
       "  'Expected Return': array([363004488841.94885, 346562328837.23157, 263496374572.1058,\n",
       "         325288138455.7933, 218190212792.88004, 124983081423.74844,\n",
       "         416161781676.7828, 508001564523.2719, 207640241055.21548,\n",
       "         166596250835.6026], dtype=object)},\n",
       " {'Date': Timestamp('2022-01-23 00:00:00'),\n",
       "  'Expected Return': array([348421167053.7573, 333637028802.9731, 252909069916.09308,\n",
       "         315341048528.376, 210765214845.77362, 121496452517.97879,\n",
       "         400732984614.6551, 491439653413.1759, 201242475716.56018,\n",
       "         162108209326.96353], dtype=object)},\n",
       " {'Date': Timestamp('2022-01-24 00:00:00'),\n",
       "  'Expected Return': array([335493355096.1226, 322171085102.413, 243395512608.69397,\n",
       "         306516105494.21295, 204014530012.42395, 118119675741.98898,\n",
       "         387141208267.76355, 476995608633.3769, 195396863365.07504,\n",
       "         157906176214.2199], dtype=object)},\n",
       " {'Date': Timestamp('2022-01-25 00:00:00'),\n",
       "  'Expected Return': array([323420470653.4953, 311483436882.70667, 234160894416.96674,\n",
       "         298386031558.66327, 197305688187.41846, 114248993804.46657,\n",
       "         374735953204.5477, 464317316653.1064, 189543319287.82626,\n",
       "         153463572083.6438], dtype=object)},\n",
       " {'Date': Timestamp('2022-01-26 00:00:00'),\n",
       "  'Expected Return': array([312251217111.0288, 301540355269.63605, 225688883279.93594,\n",
       "         290681300640.0983, 191112453967.36673, 110735196798.51074,\n",
       "         363134261033.9985, 452225044420.2459, 184108280105.61703,\n",
       "         149345699384.24725], dtype=object)},\n",
       " {'Date': Timestamp('2022-01-27 00:00:00'),\n",
       "  'Expected Return': array([302307773426.60596, 292802727593.62286, 218299838203.23724,\n",
       "         284158255726.6314, 185941407640.5553, 108110347239.5708,\n",
       "         352838913282.08887, 441579181114.12964, 179682205389.8306,\n",
       "         146178678997.56192], dtype=object)},\n",
       " {'Date': Timestamp('2022-01-28 00:00:00'),\n",
       "  'Expected Return': array([292882161294.4506, 284712470765.3672, 211290990502.24835,\n",
       "         278577312997.30237, 181292854540.485, 105908890843.25046,\n",
       "         343331687136.747, 432238417941.4188, 175856151068.98343,\n",
       "         143594818498.0334], dtype=object)},\n",
       " {'Date': Timestamp('2022-01-29 00:00:00'),\n",
       "  'Expected Return': array([292777002877.5779, 284874364145.59564, 211037413290.23898,\n",
       "         279328278931.31647, 181364251325.11475, 105898436219.62186,\n",
       "         343682534503.7308, 433472974900.76105, 176088236240.79633,\n",
       "         143842143337.1814], dtype=object)},\n",
       " {'Date': Timestamp('2022-01-30 00:00:00'),\n",
       "  'Expected Return': array([296049661635.39764, 288015527242.50287, 213270475657.37732,\n",
       "         282333033171.2743, 183178283131.41534, 106746645552.58011,\n",
       "         347562570843.7718, 438415707184.6082, 177816448153.61514,\n",
       "         145152144060.28925], dtype=object)},\n",
       " {'Date': Timestamp('2022-01-31 00:00:00'),\n",
       "  'Expected Return': array([297365354989.3262, 289334307562.60114, 214039887973.53384,\n",
       "         283733873221.9764, 183824726487.49792, 106899754226.99112,\n",
       "         349290677871.4375, 440887128429.1137, 178461487029.1204,\n",
       "         145596367587.314], dtype=object)},\n",
       " {'Date': Timestamp('2022-02-01 00:00:00'),\n",
       "  'Expected Return': array([301017494430.8936, 292434216620.19025, 216609907609.49292,\n",
       "         285807579759.80176, 185399487099.95126, 107387821909.62994,\n",
       "         353038361597.0007, 444677327298.525, 179695638833.8248,\n",
       "         146286328594.1034], dtype=object)}]"
      ]
     },
     "execution_count": 187,
     "metadata": {},
     "output_type": "execute_result"
    }
   ],
   "source": [
    "log_weigthed_return = clsROR.sum_weighted_returns(mean_log_returns, _weights, value_col_name='Value')\n",
    "log_weigthed_return"
   ]
  },
  {
   "cell_type": "code",
   "execution_count": 164,
   "id": "5c770055",
   "metadata": {},
   "outputs": [
    {
     "name": "stdout",
     "output_type": "stream",
     "text": [
      "      bitcoin   cardano  ethereum  litecoin   ripple    solana\n",
      "334 -0.023394 -0.385817  0.184135 -0.077693 -0.19041 -0.145532\n",
      "      bitcoin   cardano  ethereum  litecoin    ripple    solana\n",
      "334 -0.014434 -0.033933  0.042531  0.003433  0.005133  0.019014\n"
     ]
    }
   ],
   "source": [
    "from datetime import date, timedelta\n",
    "\n",
    "pred_marketcap_df = piv_marketcap_df.copy()\n",
    "num_days = (end_dt - start_dt).days + 1\n",
    "sharp = (_07_day_roll_simp_return_mean[_07_day_roll_simp_return_mean['Date'] == end_dt][_l_coin_ids] - 0.02/365)/ \\\n",
    "    _07_day_roll_simp_return_stdv[_07_day_roll_simp_return_stdv['Date'] == end_dt][_l_coin_ids]\n",
    "#for now_date in (start_dt + timedelta(n) for n in range(num_days)):\n",
    "#    print(now_date)\n",
    "print(sharp)\n",
    "print(simple_returns[simple_returns['Date'] == end_dt][_l_coin_ids])"
   ]
  },
  {
   "cell_type": "markdown",
   "id": "672237c5",
   "metadata": {},
   "source": [
    "## Simple returns of Top N assets"
   ]
  },
  {
   "cell_type": "code",
   "execution_count": 116,
   "id": "1f416b60",
   "metadata": {
    "scrolled": false
   },
   "outputs": [
    {
     "name": "stderr",
     "output_type": "stream",
     "text": [
      "/home/gnewy/.local/lib/python3.8/site-packages/plotly/io/_renderers.py:396: DeprecationWarning:\n",
      "\n",
      "distutils Version classes are deprecated. Use packaging.version instead.\n",
      "\n"
     ]
    },
    {
     "data": {
      "application/vnd.plotly.v1+json": {
       "config": {
        "plotlyServerURL": "https://plot.ly"
       },
       "data": [
        {
         "hovertemplate": "variable=bitcoin<br>Date=%{x|%B %d, %Y}<br>value=%{y}<extra></extra>",
         "legendgroup": "bitcoin",
         "marker": {
          "color": "#636efa",
          "symbol": "circle"
         },
         "mode": "markers",
         "name": "bitcoin",
         "orientation": "v",
         "showlegend": true,
         "type": "scatter",
         "x": [
          "2022-01-01T00:00:00",
          "2022-01-02T00:00:00",
          "2022-01-03T00:00:00",
          "2022-01-04T00:00:00",
          "2022-01-05T00:00:00",
          "2022-01-06T00:00:00",
          "2022-01-07T00:00:00",
          "2022-01-08T00:00:00",
          "2022-01-09T00:00:00",
          "2022-01-10T00:00:00",
          "2022-01-11T00:00:00",
          "2022-01-12T00:00:00",
          "2022-01-13T00:00:00",
          "2022-01-14T00:00:00",
          "2022-01-15T00:00:00",
          "2022-01-16T00:00:00",
          "2022-01-17T00:00:00",
          "2022-01-18T00:00:00",
          "2022-01-19T00:00:00",
          "2022-01-20T00:00:00",
          "2022-01-21T00:00:00",
          "2022-01-22T00:00:00",
          "2022-01-23T00:00:00",
          "2022-01-24T00:00:00",
          "2022-01-25T00:00:00",
          "2022-01-26T00:00:00",
          "2022-01-27T00:00:00",
          "2022-01-28T00:00:00",
          "2022-01-29T00:00:00",
          "2022-01-30T00:00:00",
          "2022-01-31T00:00:00",
          "2022-02-01T00:00:00"
         ],
         "xaxis": "x",
         "y": [
          null,
          0.032366164640208694,
          -0.007756167703021122,
          -0.019170146494707163,
          -0.004643146805840326,
          -0.05537220170084878,
          -0.00990708401208007,
          -0.038787590761280244,
          0.006546662215000554,
          -0.001568991514658724,
          0.000958968781237024,
          0.021723401361812167,
          0.0282089371508365,
          -0.03117172632140508,
          0.011926006901936015,
          0.0008221787864581831,
          -0.0005812186586796608,
          -0.018991109622317204,
          0.003920281266405201,
          -0.01673483750315885,
          -0.020584380136294267,
          -0.10511110374093502,
          -0.0384414149762774,
          0.03205435118499689,
          0.012928677612409345,
          0.0058955270719052155,
          -0.0005790030281770386,
          0.0030644688962702116,
          0.020952938590953707,
          0.008091836499421579,
          -0.004508489948316874,
          0.011583659860093132
         ],
         "yaxis": "y"
        },
        {
         "hovertemplate": "variable=cardano<br>Date=%{x|%B %d, %Y}<br>value=%{y}<extra></extra>",
         "legendgroup": "cardano",
         "marker": {
          "color": "#EF553B",
          "symbol": "circle"
         },
         "mode": "markers",
         "name": "cardano",
         "orientation": "v",
         "showlegend": true,
         "type": "scatter",
         "x": [
          "2022-01-01T00:00:00",
          "2022-01-02T00:00:00",
          "2022-01-03T00:00:00",
          "2022-01-04T00:00:00",
          "2022-01-05T00:00:00",
          "2022-01-06T00:00:00",
          "2022-01-07T00:00:00",
          "2022-01-08T00:00:00",
          "2022-01-09T00:00:00",
          "2022-01-10T00:00:00",
          "2022-01-11T00:00:00",
          "2022-01-12T00:00:00",
          "2022-01-13T00:00:00",
          "2022-01-14T00:00:00",
          "2022-01-15T00:00:00",
          "2022-01-16T00:00:00",
          "2022-01-17T00:00:00",
          "2022-01-18T00:00:00",
          "2022-01-19T00:00:00",
          "2022-01-20T00:00:00",
          "2022-01-21T00:00:00",
          "2022-01-22T00:00:00",
          "2022-01-23T00:00:00",
          "2022-01-24T00:00:00",
          "2022-01-25T00:00:00",
          "2022-01-26T00:00:00",
          "2022-01-27T00:00:00",
          "2022-01-28T00:00:00",
          "2022-01-29T00:00:00",
          "2022-01-30T00:00:00",
          "2022-01-31T00:00:00",
          "2022-02-01T00:00:00"
         ],
         "xaxis": "x",
         "y": [
          null,
          0.04749770542560672,
          0.002072180008870328,
          -0.038669963541408614,
          -0.005108695523067697,
          -0.05640961991754112,
          0.03025018951858338,
          -0.05440201145776746,
          -0.016318791859635362,
          -0.018821913525025713,
          -0.034119805292363026,
          0.04947644918020622,
          0.09956398340937467,
          -0.04946400240239446,
          0.03341171530725262,
          0.011654054722640694,
          0.08834119545362418,
          0.11512469250169333,
          -0.0648369391895447,
          -0.08723809597508325,
          -0.05711184147019843,
          -0.10560693197214832,
          -0.05806472258115514,
          0.04966163780007271,
          -0.04587627239653236,
          -0.02298130766174067,
          0.03769438538017811,
          -0.033970148476733186,
          0.003917120390494189,
          0.007978200962335258,
          -0.019119519565545584,
          0.010966767492424312
         ],
         "yaxis": "y"
        },
        {
         "hovertemplate": "variable=ethereum<br>Date=%{x|%B %d, %Y}<br>value=%{y}<extra></extra>",
         "legendgroup": "ethereum",
         "marker": {
          "color": "#00cc96",
          "symbol": "circle"
         },
         "mode": "markers",
         "name": "ethereum",
         "orientation": "v",
         "showlegend": true,
         "type": "scatter",
         "x": [
          "2022-01-01T00:00:00",
          "2022-01-02T00:00:00",
          "2022-01-03T00:00:00",
          "2022-01-04T00:00:00",
          "2022-01-05T00:00:00",
          "2022-01-06T00:00:00",
          "2022-01-07T00:00:00",
          "2022-01-08T00:00:00",
          "2022-01-09T00:00:00",
          "2022-01-10T00:00:00",
          "2022-01-11T00:00:00",
          "2022-01-12T00:00:00",
          "2022-01-13T00:00:00",
          "2022-01-14T00:00:00",
          "2022-01-15T00:00:00",
          "2022-01-16T00:00:00",
          "2022-01-17T00:00:00",
          "2022-01-18T00:00:00",
          "2022-01-19T00:00:00",
          "2022-01-20T00:00:00",
          "2022-01-21T00:00:00",
          "2022-01-22T00:00:00",
          "2022-01-23T00:00:00",
          "2022-01-24T00:00:00",
          "2022-01-25T00:00:00",
          "2022-01-26T00:00:00",
          "2022-01-27T00:00:00",
          "2022-01-28T00:00:00",
          "2022-01-29T00:00:00",
          "2022-01-30T00:00:00",
          "2022-01-31T00:00:00",
          "2022-02-01T00:00:00"
         ],
         "xaxis": "x",
         "y": [
          null,
          0.022769499316086073,
          0.01566838924269298,
          -0.018042619611836064,
          0.013296043415589764,
          -0.06706389371731813,
          -0.0387568783438621,
          -0.06468535844908829,
          -0.030289760313331082,
          0.014835394058242857,
          -0.020160754917435963,
          0.053993920213696756,
          0.039373535022335204,
          -0.036555987331399975,
          0.01707212024103466,
          0.0056620842897256995,
          0.008397439570706489,
          -0.041985010699966074,
          -0.014370675233651431,
          -0.01752257549589331,
          -0.0288602427548601,
          -0.1495810108866561,
          -0.06471527628175311,
          0.05518288563492635,
          -0.03504003132142419,
          0.0057530205690004,
          0.006881151654487105,
          -0.026693430024087972,
          0.05724162227801344,
          0.018909982594102814,
          0.004977117181000912,
          0.028085904860043476
         ],
         "yaxis": "y"
        },
        {
         "hovertemplate": "variable=litecoin<br>Date=%{x|%B %d, %Y}<br>value=%{y}<extra></extra>",
         "legendgroup": "litecoin",
         "marker": {
          "color": "#ab63fa",
          "symbol": "circle"
         },
         "mode": "markers",
         "name": "litecoin",
         "orientation": "v",
         "showlegend": true,
         "type": "scatter",
         "x": [
          "2022-01-01T00:00:00",
          "2022-01-02T00:00:00",
          "2022-01-03T00:00:00",
          "2022-01-04T00:00:00",
          "2022-01-05T00:00:00",
          "2022-01-06T00:00:00",
          "2022-01-07T00:00:00",
          "2022-01-08T00:00:00",
          "2022-01-09T00:00:00",
          "2022-01-10T00:00:00",
          "2022-01-11T00:00:00",
          "2022-01-12T00:00:00",
          "2022-01-13T00:00:00",
          "2022-01-14T00:00:00",
          "2022-01-15T00:00:00",
          "2022-01-16T00:00:00",
          "2022-01-17T00:00:00",
          "2022-01-18T00:00:00",
          "2022-01-19T00:00:00",
          "2022-01-20T00:00:00",
          "2022-01-21T00:00:00",
          "2022-01-22T00:00:00",
          "2022-01-23T00:00:00",
          "2022-01-24T00:00:00",
          "2022-01-25T00:00:00",
          "2022-01-26T00:00:00",
          "2022-01-27T00:00:00",
          "2022-01-28T00:00:00",
          "2022-01-29T00:00:00",
          "2022-01-30T00:00:00",
          "2022-01-31T00:00:00",
          "2022-02-01T00:00:00"
         ],
         "xaxis": "x",
         "y": [
          null,
          0.030300601389574133,
          0.004735752148165462,
          -0.020355129360937196,
          -0.005941698554715824,
          -0.07771720524744041,
          0.004881200377479411,
          -0.039888234416655455,
          -0.010103289627878875,
          0.007102343130657607,
          -0.031988888019426565,
          0.037379862583146295,
          0.07767344970183832,
          -0.03556767702651398,
          0.05884832971298004,
          0.020502218988668997,
          -0.007117914259028635,
          0.0352357274209707,
          -0.06527169889327888,
          -0.03430035832650569,
          -0.03822549027487909,
          -0.1275821997202623,
          -0.05459581186913198,
          0.029429516162038594,
          -0.01613313301749375,
          -0.014880043128515874,
          -0.007589484061210405,
          -0.005175221102014516,
          0.024701629289960225,
          0.010888927810357218,
          -0.016565408831721307,
          0.004965896544189885
         ],
         "yaxis": "y"
        },
        {
         "hovertemplate": "variable=ripple<br>Date=%{x|%B %d, %Y}<br>value=%{y}<extra></extra>",
         "legendgroup": "ripple",
         "marker": {
          "color": "#FFA15A",
          "symbol": "circle"
         },
         "mode": "markers",
         "name": "ripple",
         "orientation": "v",
         "showlegend": true,
         "type": "scatter",
         "x": [
          "2022-01-01T00:00:00",
          "2022-01-02T00:00:00",
          "2022-01-03T00:00:00",
          "2022-01-04T00:00:00",
          "2022-01-05T00:00:00",
          "2022-01-06T00:00:00",
          "2022-01-07T00:00:00",
          "2022-01-08T00:00:00",
          "2022-01-09T00:00:00",
          "2022-01-10T00:00:00",
          "2022-01-11T00:00:00",
          "2022-01-12T00:00:00",
          "2022-01-13T00:00:00",
          "2022-01-14T00:00:00",
          "2022-01-15T00:00:00",
          "2022-01-16T00:00:00",
          "2022-01-17T00:00:00",
          "2022-01-18T00:00:00",
          "2022-01-19T00:00:00",
          "2022-01-20T00:00:00",
          "2022-01-21T00:00:00",
          "2022-01-22T00:00:00",
          "2022-01-23T00:00:00",
          "2022-01-24T00:00:00",
          "2022-01-25T00:00:00",
          "2022-01-26T00:00:00",
          "2022-01-27T00:00:00",
          "2022-01-28T00:00:00",
          "2022-01-29T00:00:00",
          "2022-01-30T00:00:00",
          "2022-01-31T00:00:00",
          "2022-02-01T00:00:00"
         ],
         "xaxis": "x",
         "y": [
          null,
          0.023576900842713133,
          0.011763117411203616,
          -0.030820214392861534,
          -0.00744754206268694,
          -0.059831732087544776,
          0.00939123067133174,
          -0.025088875981924885,
          -0.018767268282425587,
          0.004083444467548825,
          -0.01762136002757353,
          0.04276652683949944,
          0.037873458840088414,
          -0.03717420386380055,
          0.004222557221182255,
          0.009344257891464425,
          -0.002310415966769619,
          -0.018424965169656304,
          -0.014778013060591566,
          -0.015793558517616657,
          -0.0233717247405687,
          -0.11609023125225437,
          -0.06414345389297826,
          0.05173058093054661,
          -0.02158526549935169,
          0.007612012335188156,
          0.006119536144618021,
          -0.02256648946548856,
          0.005439714777973004,
          0.0053787628110011365,
          -0.020198115558216267,
          0.024355712085026404
         ],
         "yaxis": "y"
        },
        {
         "hovertemplate": "variable=solana<br>Date=%{x|%B %d, %Y}<br>value=%{y}<extra></extra>",
         "legendgroup": "solana",
         "marker": {
          "color": "#19d3f3",
          "symbol": "circle"
         },
         "mode": "markers",
         "name": "solana",
         "orientation": "v",
         "showlegend": true,
         "type": "scatter",
         "x": [
          "2022-01-01T00:00:00",
          "2022-01-02T00:00:00",
          "2022-01-03T00:00:00",
          "2022-01-04T00:00:00",
          "2022-01-05T00:00:00",
          "2022-01-06T00:00:00",
          "2022-01-07T00:00:00",
          "2022-01-08T00:00:00",
          "2022-01-09T00:00:00",
          "2022-01-10T00:00:00",
          "2022-01-11T00:00:00",
          "2022-01-12T00:00:00",
          "2022-01-13T00:00:00",
          "2022-01-14T00:00:00",
          "2022-01-15T00:00:00",
          "2022-01-16T00:00:00",
          "2022-01-17T00:00:00",
          "2022-01-18T00:00:00",
          "2022-01-19T00:00:00",
          "2022-01-20T00:00:00",
          "2022-01-21T00:00:00",
          "2022-01-22T00:00:00",
          "2022-01-23T00:00:00",
          "2022-01-24T00:00:00",
          "2022-01-25T00:00:00",
          "2022-01-26T00:00:00",
          "2022-01-27T00:00:00",
          "2022-01-28T00:00:00",
          "2022-01-29T00:00:00",
          "2022-01-30T00:00:00",
          "2022-01-31T00:00:00",
          "2022-02-01T00:00:00"
         ],
         "xaxis": "x",
         "y": [
          null,
          0.04125071284723658,
          -0.008807718262691888,
          -0.031460375407863284,
          -0.011611075920326397,
          -0.07820787722069056,
          -0.027595451131690707,
          -0.09057664612590866,
          0.04857188877433827,
          -0.018707954167485163,
          -0.03475937168592347,
          0.03552224027811213,
          0.08466153766945284,
          -0.03386855732056526,
          -0.0016310036376484538,
          0.0106402781629924,
          0.0024485269740361915,
          -0.05206068250767204,
          0.012326661080198198,
          -0.038732586348238285,
          -0.04949742257106393,
          -0.1389137591520897,
          -0.15410496775529747,
          0.054788394743437996,
          -0.07609081733846801,
          0.04063809828309273,
          -0.027955258194041988,
          -0.03639114314536951,
          0.021554212543910323,
          0.04965052555974081,
          -0.026095247196574856,
          0.06548111071258678
         ],
         "yaxis": "y"
        }
       ],
       "layout": {
        "legend": {
         "title": {
          "text": "variable"
         },
         "tracegroupgap": 0
        },
        "template": {
         "data": {
          "bar": [
           {
            "error_x": {
             "color": "#2a3f5f"
            },
            "error_y": {
             "color": "#2a3f5f"
            },
            "marker": {
             "line": {
              "color": "#E5ECF6",
              "width": 0.5
             },
             "pattern": {
              "fillmode": "overlay",
              "size": 10,
              "solidity": 0.2
             }
            },
            "type": "bar"
           }
          ],
          "barpolar": [
           {
            "marker": {
             "line": {
              "color": "#E5ECF6",
              "width": 0.5
             },
             "pattern": {
              "fillmode": "overlay",
              "size": 10,
              "solidity": 0.2
             }
            },
            "type": "barpolar"
           }
          ],
          "carpet": [
           {
            "aaxis": {
             "endlinecolor": "#2a3f5f",
             "gridcolor": "white",
             "linecolor": "white",
             "minorgridcolor": "white",
             "startlinecolor": "#2a3f5f"
            },
            "baxis": {
             "endlinecolor": "#2a3f5f",
             "gridcolor": "white",
             "linecolor": "white",
             "minorgridcolor": "white",
             "startlinecolor": "#2a3f5f"
            },
            "type": "carpet"
           }
          ],
          "choropleth": [
           {
            "colorbar": {
             "outlinewidth": 0,
             "ticks": ""
            },
            "type": "choropleth"
           }
          ],
          "contour": [
           {
            "colorbar": {
             "outlinewidth": 0,
             "ticks": ""
            },
            "colorscale": [
             [
              0,
              "#0d0887"
             ],
             [
              0.1111111111111111,
              "#46039f"
             ],
             [
              0.2222222222222222,
              "#7201a8"
             ],
             [
              0.3333333333333333,
              "#9c179e"
             ],
             [
              0.4444444444444444,
              "#bd3786"
             ],
             [
              0.5555555555555556,
              "#d8576b"
             ],
             [
              0.6666666666666666,
              "#ed7953"
             ],
             [
              0.7777777777777778,
              "#fb9f3a"
             ],
             [
              0.8888888888888888,
              "#fdca26"
             ],
             [
              1,
              "#f0f921"
             ]
            ],
            "type": "contour"
           }
          ],
          "contourcarpet": [
           {
            "colorbar": {
             "outlinewidth": 0,
             "ticks": ""
            },
            "type": "contourcarpet"
           }
          ],
          "heatmap": [
           {
            "colorbar": {
             "outlinewidth": 0,
             "ticks": ""
            },
            "colorscale": [
             [
              0,
              "#0d0887"
             ],
             [
              0.1111111111111111,
              "#46039f"
             ],
             [
              0.2222222222222222,
              "#7201a8"
             ],
             [
              0.3333333333333333,
              "#9c179e"
             ],
             [
              0.4444444444444444,
              "#bd3786"
             ],
             [
              0.5555555555555556,
              "#d8576b"
             ],
             [
              0.6666666666666666,
              "#ed7953"
             ],
             [
              0.7777777777777778,
              "#fb9f3a"
             ],
             [
              0.8888888888888888,
              "#fdca26"
             ],
             [
              1,
              "#f0f921"
             ]
            ],
            "type": "heatmap"
           }
          ],
          "heatmapgl": [
           {
            "colorbar": {
             "outlinewidth": 0,
             "ticks": ""
            },
            "colorscale": [
             [
              0,
              "#0d0887"
             ],
             [
              0.1111111111111111,
              "#46039f"
             ],
             [
              0.2222222222222222,
              "#7201a8"
             ],
             [
              0.3333333333333333,
              "#9c179e"
             ],
             [
              0.4444444444444444,
              "#bd3786"
             ],
             [
              0.5555555555555556,
              "#d8576b"
             ],
             [
              0.6666666666666666,
              "#ed7953"
             ],
             [
              0.7777777777777778,
              "#fb9f3a"
             ],
             [
              0.8888888888888888,
              "#fdca26"
             ],
             [
              1,
              "#f0f921"
             ]
            ],
            "type": "heatmapgl"
           }
          ],
          "histogram": [
           {
            "marker": {
             "pattern": {
              "fillmode": "overlay",
              "size": 10,
              "solidity": 0.2
             }
            },
            "type": "histogram"
           }
          ],
          "histogram2d": [
           {
            "colorbar": {
             "outlinewidth": 0,
             "ticks": ""
            },
            "colorscale": [
             [
              0,
              "#0d0887"
             ],
             [
              0.1111111111111111,
              "#46039f"
             ],
             [
              0.2222222222222222,
              "#7201a8"
             ],
             [
              0.3333333333333333,
              "#9c179e"
             ],
             [
              0.4444444444444444,
              "#bd3786"
             ],
             [
              0.5555555555555556,
              "#d8576b"
             ],
             [
              0.6666666666666666,
              "#ed7953"
             ],
             [
              0.7777777777777778,
              "#fb9f3a"
             ],
             [
              0.8888888888888888,
              "#fdca26"
             ],
             [
              1,
              "#f0f921"
             ]
            ],
            "type": "histogram2d"
           }
          ],
          "histogram2dcontour": [
           {
            "colorbar": {
             "outlinewidth": 0,
             "ticks": ""
            },
            "colorscale": [
             [
              0,
              "#0d0887"
             ],
             [
              0.1111111111111111,
              "#46039f"
             ],
             [
              0.2222222222222222,
              "#7201a8"
             ],
             [
              0.3333333333333333,
              "#9c179e"
             ],
             [
              0.4444444444444444,
              "#bd3786"
             ],
             [
              0.5555555555555556,
              "#d8576b"
             ],
             [
              0.6666666666666666,
              "#ed7953"
             ],
             [
              0.7777777777777778,
              "#fb9f3a"
             ],
             [
              0.8888888888888888,
              "#fdca26"
             ],
             [
              1,
              "#f0f921"
             ]
            ],
            "type": "histogram2dcontour"
           }
          ],
          "mesh3d": [
           {
            "colorbar": {
             "outlinewidth": 0,
             "ticks": ""
            },
            "type": "mesh3d"
           }
          ],
          "parcoords": [
           {
            "line": {
             "colorbar": {
              "outlinewidth": 0,
              "ticks": ""
             }
            },
            "type": "parcoords"
           }
          ],
          "pie": [
           {
            "automargin": true,
            "type": "pie"
           }
          ],
          "scatter": [
           {
            "marker": {
             "colorbar": {
              "outlinewidth": 0,
              "ticks": ""
             }
            },
            "type": "scatter"
           }
          ],
          "scatter3d": [
           {
            "line": {
             "colorbar": {
              "outlinewidth": 0,
              "ticks": ""
             }
            },
            "marker": {
             "colorbar": {
              "outlinewidth": 0,
              "ticks": ""
             }
            },
            "type": "scatter3d"
           }
          ],
          "scattercarpet": [
           {
            "marker": {
             "colorbar": {
              "outlinewidth": 0,
              "ticks": ""
             }
            },
            "type": "scattercarpet"
           }
          ],
          "scattergeo": [
           {
            "marker": {
             "colorbar": {
              "outlinewidth": 0,
              "ticks": ""
             }
            },
            "type": "scattergeo"
           }
          ],
          "scattergl": [
           {
            "marker": {
             "colorbar": {
              "outlinewidth": 0,
              "ticks": ""
             }
            },
            "type": "scattergl"
           }
          ],
          "scattermapbox": [
           {
            "marker": {
             "colorbar": {
              "outlinewidth": 0,
              "ticks": ""
             }
            },
            "type": "scattermapbox"
           }
          ],
          "scatterpolar": [
           {
            "marker": {
             "colorbar": {
              "outlinewidth": 0,
              "ticks": ""
             }
            },
            "type": "scatterpolar"
           }
          ],
          "scatterpolargl": [
           {
            "marker": {
             "colorbar": {
              "outlinewidth": 0,
              "ticks": ""
             }
            },
            "type": "scatterpolargl"
           }
          ],
          "scatterternary": [
           {
            "marker": {
             "colorbar": {
              "outlinewidth": 0,
              "ticks": ""
             }
            },
            "type": "scatterternary"
           }
          ],
          "surface": [
           {
            "colorbar": {
             "outlinewidth": 0,
             "ticks": ""
            },
            "colorscale": [
             [
              0,
              "#0d0887"
             ],
             [
              0.1111111111111111,
              "#46039f"
             ],
             [
              0.2222222222222222,
              "#7201a8"
             ],
             [
              0.3333333333333333,
              "#9c179e"
             ],
             [
              0.4444444444444444,
              "#bd3786"
             ],
             [
              0.5555555555555556,
              "#d8576b"
             ],
             [
              0.6666666666666666,
              "#ed7953"
             ],
             [
              0.7777777777777778,
              "#fb9f3a"
             ],
             [
              0.8888888888888888,
              "#fdca26"
             ],
             [
              1,
              "#f0f921"
             ]
            ],
            "type": "surface"
           }
          ],
          "table": [
           {
            "cells": {
             "fill": {
              "color": "#EBF0F8"
             },
             "line": {
              "color": "white"
             }
            },
            "header": {
             "fill": {
              "color": "#C8D4E3"
             },
             "line": {
              "color": "white"
             }
            },
            "type": "table"
           }
          ]
         },
         "layout": {
          "annotationdefaults": {
           "arrowcolor": "#2a3f5f",
           "arrowhead": 0,
           "arrowwidth": 1
          },
          "autotypenumbers": "strict",
          "coloraxis": {
           "colorbar": {
            "outlinewidth": 0,
            "ticks": ""
           }
          },
          "colorscale": {
           "diverging": [
            [
             0,
             "#8e0152"
            ],
            [
             0.1,
             "#c51b7d"
            ],
            [
             0.2,
             "#de77ae"
            ],
            [
             0.3,
             "#f1b6da"
            ],
            [
             0.4,
             "#fde0ef"
            ],
            [
             0.5,
             "#f7f7f7"
            ],
            [
             0.6,
             "#e6f5d0"
            ],
            [
             0.7,
             "#b8e186"
            ],
            [
             0.8,
             "#7fbc41"
            ],
            [
             0.9,
             "#4d9221"
            ],
            [
             1,
             "#276419"
            ]
           ],
           "sequential": [
            [
             0,
             "#0d0887"
            ],
            [
             0.1111111111111111,
             "#46039f"
            ],
            [
             0.2222222222222222,
             "#7201a8"
            ],
            [
             0.3333333333333333,
             "#9c179e"
            ],
            [
             0.4444444444444444,
             "#bd3786"
            ],
            [
             0.5555555555555556,
             "#d8576b"
            ],
            [
             0.6666666666666666,
             "#ed7953"
            ],
            [
             0.7777777777777778,
             "#fb9f3a"
            ],
            [
             0.8888888888888888,
             "#fdca26"
            ],
            [
             1,
             "#f0f921"
            ]
           ],
           "sequentialminus": [
            [
             0,
             "#0d0887"
            ],
            [
             0.1111111111111111,
             "#46039f"
            ],
            [
             0.2222222222222222,
             "#7201a8"
            ],
            [
             0.3333333333333333,
             "#9c179e"
            ],
            [
             0.4444444444444444,
             "#bd3786"
            ],
            [
             0.5555555555555556,
             "#d8576b"
            ],
            [
             0.6666666666666666,
             "#ed7953"
            ],
            [
             0.7777777777777778,
             "#fb9f3a"
            ],
            [
             0.8888888888888888,
             "#fdca26"
            ],
            [
             1,
             "#f0f921"
            ]
           ]
          },
          "colorway": [
           "#636efa",
           "#EF553B",
           "#00cc96",
           "#ab63fa",
           "#FFA15A",
           "#19d3f3",
           "#FF6692",
           "#B6E880",
           "#FF97FF",
           "#FECB52"
          ],
          "font": {
           "color": "#2a3f5f"
          },
          "geo": {
           "bgcolor": "white",
           "lakecolor": "white",
           "landcolor": "#E5ECF6",
           "showlakes": true,
           "showland": true,
           "subunitcolor": "white"
          },
          "hoverlabel": {
           "align": "left"
          },
          "hovermode": "closest",
          "mapbox": {
           "style": "light"
          },
          "paper_bgcolor": "white",
          "plot_bgcolor": "#E5ECF6",
          "polar": {
           "angularaxis": {
            "gridcolor": "white",
            "linecolor": "white",
            "ticks": ""
           },
           "bgcolor": "#E5ECF6",
           "radialaxis": {
            "gridcolor": "white",
            "linecolor": "white",
            "ticks": ""
           }
          },
          "scene": {
           "xaxis": {
            "backgroundcolor": "#E5ECF6",
            "gridcolor": "white",
            "gridwidth": 2,
            "linecolor": "white",
            "showbackground": true,
            "ticks": "",
            "zerolinecolor": "white"
           },
           "yaxis": {
            "backgroundcolor": "#E5ECF6",
            "gridcolor": "white",
            "gridwidth": 2,
            "linecolor": "white",
            "showbackground": true,
            "ticks": "",
            "zerolinecolor": "white"
           },
           "zaxis": {
            "backgroundcolor": "#E5ECF6",
            "gridcolor": "white",
            "gridwidth": 2,
            "linecolor": "white",
            "showbackground": true,
            "ticks": "",
            "zerolinecolor": "white"
           }
          },
          "shapedefaults": {
           "line": {
            "color": "#2a3f5f"
           }
          },
          "ternary": {
           "aaxis": {
            "gridcolor": "white",
            "linecolor": "white",
            "ticks": ""
           },
           "baxis": {
            "gridcolor": "white",
            "linecolor": "white",
            "ticks": ""
           },
           "bgcolor": "#E5ECF6",
           "caxis": {
            "gridcolor": "white",
            "linecolor": "white",
            "ticks": ""
           }
          },
          "title": {
           "x": 0.05
          },
          "xaxis": {
           "automargin": true,
           "gridcolor": "white",
           "linecolor": "white",
           "ticks": "",
           "title": {
            "standoff": 15
           },
           "zerolinecolor": "white",
           "zerolinewidth": 2
          },
          "yaxis": {
           "automargin": true,
           "gridcolor": "white",
           "linecolor": "white",
           "ticks": "",
           "title": {
            "standoff": 15
           },
           "zerolinecolor": "white",
           "zerolinewidth": 2
          }
         }
        },
        "title": {
         "text": "Expected Returns from 2022-01-01 to 2022-02-01"
        },
        "xaxis": {
         "anchor": "y",
         "domain": [
          0,
          1
         ],
         "dtick": "M1",
         "tickformat": "%b\n%Y",
         "title": {
          "text": "Date"
         }
        },
        "yaxis": {
         "anchor": "x",
         "domain": [
          0,
          1
         ],
         "title": {
          "text": "value"
         }
        }
       }
      },
      "text/html": [
       "<div>                            <div id=\"c4dfb2d8-696b-4eae-9325-90c5afcaf736\" class=\"plotly-graph-div\" style=\"height:525px; width:100%;\"></div>            <script type=\"text/javascript\">                require([\"plotly\"], function(Plotly) {                    window.PLOTLYENV=window.PLOTLYENV || {};                                    if (document.getElementById(\"c4dfb2d8-696b-4eae-9325-90c5afcaf736\")) {                    Plotly.newPlot(                        \"c4dfb2d8-696b-4eae-9325-90c5afcaf736\",                        [{\"hovertemplate\":\"variable=bitcoin<br>Date=%{x|%B %d, %Y}<br>value=%{y}<extra></extra>\",\"legendgroup\":\"bitcoin\",\"marker\":{\"color\":\"#636efa\",\"symbol\":\"circle\"},\"mode\":\"markers\",\"name\":\"bitcoin\",\"orientation\":\"v\",\"showlegend\":true,\"type\":\"scatter\",\"x\":[\"2022-01-01T00:00:00\",\"2022-01-02T00:00:00\",\"2022-01-03T00:00:00\",\"2022-01-04T00:00:00\",\"2022-01-05T00:00:00\",\"2022-01-06T00:00:00\",\"2022-01-07T00:00:00\",\"2022-01-08T00:00:00\",\"2022-01-09T00:00:00\",\"2022-01-10T00:00:00\",\"2022-01-11T00:00:00\",\"2022-01-12T00:00:00\",\"2022-01-13T00:00:00\",\"2022-01-14T00:00:00\",\"2022-01-15T00:00:00\",\"2022-01-16T00:00:00\",\"2022-01-17T00:00:00\",\"2022-01-18T00:00:00\",\"2022-01-19T00:00:00\",\"2022-01-20T00:00:00\",\"2022-01-21T00:00:00\",\"2022-01-22T00:00:00\",\"2022-01-23T00:00:00\",\"2022-01-24T00:00:00\",\"2022-01-25T00:00:00\",\"2022-01-26T00:00:00\",\"2022-01-27T00:00:00\",\"2022-01-28T00:00:00\",\"2022-01-29T00:00:00\",\"2022-01-30T00:00:00\",\"2022-01-31T00:00:00\",\"2022-02-01T00:00:00\"],\"xaxis\":\"x\",\"y\":[null,0.032366164640208694,-0.007756167703021122,-0.019170146494707163,-0.004643146805840326,-0.05537220170084878,-0.00990708401208007,-0.038787590761280244,0.006546662215000554,-0.001568991514658724,0.000958968781237024,0.021723401361812167,0.0282089371508365,-0.03117172632140508,0.011926006901936015,0.0008221787864581831,-0.0005812186586796608,-0.018991109622317204,0.003920281266405201,-0.01673483750315885,-0.020584380136294267,-0.10511110374093502,-0.0384414149762774,0.03205435118499689,0.012928677612409345,0.0058955270719052155,-0.0005790030281770386,0.0030644688962702116,0.020952938590953707,0.008091836499421579,-0.004508489948316874,0.011583659860093132],\"yaxis\":\"y\"},{\"hovertemplate\":\"variable=cardano<br>Date=%{x|%B %d, %Y}<br>value=%{y}<extra></extra>\",\"legendgroup\":\"cardano\",\"marker\":{\"color\":\"#EF553B\",\"symbol\":\"circle\"},\"mode\":\"markers\",\"name\":\"cardano\",\"orientation\":\"v\",\"showlegend\":true,\"type\":\"scatter\",\"x\":[\"2022-01-01T00:00:00\",\"2022-01-02T00:00:00\",\"2022-01-03T00:00:00\",\"2022-01-04T00:00:00\",\"2022-01-05T00:00:00\",\"2022-01-06T00:00:00\",\"2022-01-07T00:00:00\",\"2022-01-08T00:00:00\",\"2022-01-09T00:00:00\",\"2022-01-10T00:00:00\",\"2022-01-11T00:00:00\",\"2022-01-12T00:00:00\",\"2022-01-13T00:00:00\",\"2022-01-14T00:00:00\",\"2022-01-15T00:00:00\",\"2022-01-16T00:00:00\",\"2022-01-17T00:00:00\",\"2022-01-18T00:00:00\",\"2022-01-19T00:00:00\",\"2022-01-20T00:00:00\",\"2022-01-21T00:00:00\",\"2022-01-22T00:00:00\",\"2022-01-23T00:00:00\",\"2022-01-24T00:00:00\",\"2022-01-25T00:00:00\",\"2022-01-26T00:00:00\",\"2022-01-27T00:00:00\",\"2022-01-28T00:00:00\",\"2022-01-29T00:00:00\",\"2022-01-30T00:00:00\",\"2022-01-31T00:00:00\",\"2022-02-01T00:00:00\"],\"xaxis\":\"x\",\"y\":[null,0.04749770542560672,0.002072180008870328,-0.038669963541408614,-0.005108695523067697,-0.05640961991754112,0.03025018951858338,-0.05440201145776746,-0.016318791859635362,-0.018821913525025713,-0.034119805292363026,0.04947644918020622,0.09956398340937467,-0.04946400240239446,0.03341171530725262,0.011654054722640694,0.08834119545362418,0.11512469250169333,-0.0648369391895447,-0.08723809597508325,-0.05711184147019843,-0.10560693197214832,-0.05806472258115514,0.04966163780007271,-0.04587627239653236,-0.02298130766174067,0.03769438538017811,-0.033970148476733186,0.003917120390494189,0.007978200962335258,-0.019119519565545584,0.010966767492424312],\"yaxis\":\"y\"},{\"hovertemplate\":\"variable=ethereum<br>Date=%{x|%B %d, %Y}<br>value=%{y}<extra></extra>\",\"legendgroup\":\"ethereum\",\"marker\":{\"color\":\"#00cc96\",\"symbol\":\"circle\"},\"mode\":\"markers\",\"name\":\"ethereum\",\"orientation\":\"v\",\"showlegend\":true,\"type\":\"scatter\",\"x\":[\"2022-01-01T00:00:00\",\"2022-01-02T00:00:00\",\"2022-01-03T00:00:00\",\"2022-01-04T00:00:00\",\"2022-01-05T00:00:00\",\"2022-01-06T00:00:00\",\"2022-01-07T00:00:00\",\"2022-01-08T00:00:00\",\"2022-01-09T00:00:00\",\"2022-01-10T00:00:00\",\"2022-01-11T00:00:00\",\"2022-01-12T00:00:00\",\"2022-01-13T00:00:00\",\"2022-01-14T00:00:00\",\"2022-01-15T00:00:00\",\"2022-01-16T00:00:00\",\"2022-01-17T00:00:00\",\"2022-01-18T00:00:00\",\"2022-01-19T00:00:00\",\"2022-01-20T00:00:00\",\"2022-01-21T00:00:00\",\"2022-01-22T00:00:00\",\"2022-01-23T00:00:00\",\"2022-01-24T00:00:00\",\"2022-01-25T00:00:00\",\"2022-01-26T00:00:00\",\"2022-01-27T00:00:00\",\"2022-01-28T00:00:00\",\"2022-01-29T00:00:00\",\"2022-01-30T00:00:00\",\"2022-01-31T00:00:00\",\"2022-02-01T00:00:00\"],\"xaxis\":\"x\",\"y\":[null,0.022769499316086073,0.01566838924269298,-0.018042619611836064,0.013296043415589764,-0.06706389371731813,-0.0387568783438621,-0.06468535844908829,-0.030289760313331082,0.014835394058242857,-0.020160754917435963,0.053993920213696756,0.039373535022335204,-0.036555987331399975,0.01707212024103466,0.0056620842897256995,0.008397439570706489,-0.041985010699966074,-0.014370675233651431,-0.01752257549589331,-0.0288602427548601,-0.1495810108866561,-0.06471527628175311,0.05518288563492635,-0.03504003132142419,0.0057530205690004,0.006881151654487105,-0.026693430024087972,0.05724162227801344,0.018909982594102814,0.004977117181000912,0.028085904860043476],\"yaxis\":\"y\"},{\"hovertemplate\":\"variable=litecoin<br>Date=%{x|%B %d, %Y}<br>value=%{y}<extra></extra>\",\"legendgroup\":\"litecoin\",\"marker\":{\"color\":\"#ab63fa\",\"symbol\":\"circle\"},\"mode\":\"markers\",\"name\":\"litecoin\",\"orientation\":\"v\",\"showlegend\":true,\"type\":\"scatter\",\"x\":[\"2022-01-01T00:00:00\",\"2022-01-02T00:00:00\",\"2022-01-03T00:00:00\",\"2022-01-04T00:00:00\",\"2022-01-05T00:00:00\",\"2022-01-06T00:00:00\",\"2022-01-07T00:00:00\",\"2022-01-08T00:00:00\",\"2022-01-09T00:00:00\",\"2022-01-10T00:00:00\",\"2022-01-11T00:00:00\",\"2022-01-12T00:00:00\",\"2022-01-13T00:00:00\",\"2022-01-14T00:00:00\",\"2022-01-15T00:00:00\",\"2022-01-16T00:00:00\",\"2022-01-17T00:00:00\",\"2022-01-18T00:00:00\",\"2022-01-19T00:00:00\",\"2022-01-20T00:00:00\",\"2022-01-21T00:00:00\",\"2022-01-22T00:00:00\",\"2022-01-23T00:00:00\",\"2022-01-24T00:00:00\",\"2022-01-25T00:00:00\",\"2022-01-26T00:00:00\",\"2022-01-27T00:00:00\",\"2022-01-28T00:00:00\",\"2022-01-29T00:00:00\",\"2022-01-30T00:00:00\",\"2022-01-31T00:00:00\",\"2022-02-01T00:00:00\"],\"xaxis\":\"x\",\"y\":[null,0.030300601389574133,0.004735752148165462,-0.020355129360937196,-0.005941698554715824,-0.07771720524744041,0.004881200377479411,-0.039888234416655455,-0.010103289627878875,0.007102343130657607,-0.031988888019426565,0.037379862583146295,0.07767344970183832,-0.03556767702651398,0.05884832971298004,0.020502218988668997,-0.007117914259028635,0.0352357274209707,-0.06527169889327888,-0.03430035832650569,-0.03822549027487909,-0.1275821997202623,-0.05459581186913198,0.029429516162038594,-0.01613313301749375,-0.014880043128515874,-0.007589484061210405,-0.005175221102014516,0.024701629289960225,0.010888927810357218,-0.016565408831721307,0.004965896544189885],\"yaxis\":\"y\"},{\"hovertemplate\":\"variable=ripple<br>Date=%{x|%B %d, %Y}<br>value=%{y}<extra></extra>\",\"legendgroup\":\"ripple\",\"marker\":{\"color\":\"#FFA15A\",\"symbol\":\"circle\"},\"mode\":\"markers\",\"name\":\"ripple\",\"orientation\":\"v\",\"showlegend\":true,\"type\":\"scatter\",\"x\":[\"2022-01-01T00:00:00\",\"2022-01-02T00:00:00\",\"2022-01-03T00:00:00\",\"2022-01-04T00:00:00\",\"2022-01-05T00:00:00\",\"2022-01-06T00:00:00\",\"2022-01-07T00:00:00\",\"2022-01-08T00:00:00\",\"2022-01-09T00:00:00\",\"2022-01-10T00:00:00\",\"2022-01-11T00:00:00\",\"2022-01-12T00:00:00\",\"2022-01-13T00:00:00\",\"2022-01-14T00:00:00\",\"2022-01-15T00:00:00\",\"2022-01-16T00:00:00\",\"2022-01-17T00:00:00\",\"2022-01-18T00:00:00\",\"2022-01-19T00:00:00\",\"2022-01-20T00:00:00\",\"2022-01-21T00:00:00\",\"2022-01-22T00:00:00\",\"2022-01-23T00:00:00\",\"2022-01-24T00:00:00\",\"2022-01-25T00:00:00\",\"2022-01-26T00:00:00\",\"2022-01-27T00:00:00\",\"2022-01-28T00:00:00\",\"2022-01-29T00:00:00\",\"2022-01-30T00:00:00\",\"2022-01-31T00:00:00\",\"2022-02-01T00:00:00\"],\"xaxis\":\"x\",\"y\":[null,0.023576900842713133,0.011763117411203616,-0.030820214392861534,-0.00744754206268694,-0.059831732087544776,0.00939123067133174,-0.025088875981924885,-0.018767268282425587,0.004083444467548825,-0.01762136002757353,0.04276652683949944,0.037873458840088414,-0.03717420386380055,0.004222557221182255,0.009344257891464425,-0.002310415966769619,-0.018424965169656304,-0.014778013060591566,-0.015793558517616657,-0.0233717247405687,-0.11609023125225437,-0.06414345389297826,0.05173058093054661,-0.02158526549935169,0.007612012335188156,0.006119536144618021,-0.02256648946548856,0.005439714777973004,0.0053787628110011365,-0.020198115558216267,0.024355712085026404],\"yaxis\":\"y\"},{\"hovertemplate\":\"variable=solana<br>Date=%{x|%B %d, %Y}<br>value=%{y}<extra></extra>\",\"legendgroup\":\"solana\",\"marker\":{\"color\":\"#19d3f3\",\"symbol\":\"circle\"},\"mode\":\"markers\",\"name\":\"solana\",\"orientation\":\"v\",\"showlegend\":true,\"type\":\"scatter\",\"x\":[\"2022-01-01T00:00:00\",\"2022-01-02T00:00:00\",\"2022-01-03T00:00:00\",\"2022-01-04T00:00:00\",\"2022-01-05T00:00:00\",\"2022-01-06T00:00:00\",\"2022-01-07T00:00:00\",\"2022-01-08T00:00:00\",\"2022-01-09T00:00:00\",\"2022-01-10T00:00:00\",\"2022-01-11T00:00:00\",\"2022-01-12T00:00:00\",\"2022-01-13T00:00:00\",\"2022-01-14T00:00:00\",\"2022-01-15T00:00:00\",\"2022-01-16T00:00:00\",\"2022-01-17T00:00:00\",\"2022-01-18T00:00:00\",\"2022-01-19T00:00:00\",\"2022-01-20T00:00:00\",\"2022-01-21T00:00:00\",\"2022-01-22T00:00:00\",\"2022-01-23T00:00:00\",\"2022-01-24T00:00:00\",\"2022-01-25T00:00:00\",\"2022-01-26T00:00:00\",\"2022-01-27T00:00:00\",\"2022-01-28T00:00:00\",\"2022-01-29T00:00:00\",\"2022-01-30T00:00:00\",\"2022-01-31T00:00:00\",\"2022-02-01T00:00:00\"],\"xaxis\":\"x\",\"y\":[null,0.04125071284723658,-0.008807718262691888,-0.031460375407863284,-0.011611075920326397,-0.07820787722069056,-0.027595451131690707,-0.09057664612590866,0.04857188877433827,-0.018707954167485163,-0.03475937168592347,0.03552224027811213,0.08466153766945284,-0.03386855732056526,-0.0016310036376484538,0.0106402781629924,0.0024485269740361915,-0.05206068250767204,0.012326661080198198,-0.038732586348238285,-0.04949742257106393,-0.1389137591520897,-0.15410496775529747,0.054788394743437996,-0.07609081733846801,0.04063809828309273,-0.027955258194041988,-0.03639114314536951,0.021554212543910323,0.04965052555974081,-0.026095247196574856,0.06548111071258678],\"yaxis\":\"y\"}],                        {\"legend\":{\"title\":{\"text\":\"variable\"},\"tracegroupgap\":0},\"template\":{\"data\":{\"bar\":[{\"error_x\":{\"color\":\"#2a3f5f\"},\"error_y\":{\"color\":\"#2a3f5f\"},\"marker\":{\"line\":{\"color\":\"#E5ECF6\",\"width\":0.5},\"pattern\":{\"fillmode\":\"overlay\",\"size\":10,\"solidity\":0.2}},\"type\":\"bar\"}],\"barpolar\":[{\"marker\":{\"line\":{\"color\":\"#E5ECF6\",\"width\":0.5},\"pattern\":{\"fillmode\":\"overlay\",\"size\":10,\"solidity\":0.2}},\"type\":\"barpolar\"}],\"carpet\":[{\"aaxis\":{\"endlinecolor\":\"#2a3f5f\",\"gridcolor\":\"white\",\"linecolor\":\"white\",\"minorgridcolor\":\"white\",\"startlinecolor\":\"#2a3f5f\"},\"baxis\":{\"endlinecolor\":\"#2a3f5f\",\"gridcolor\":\"white\",\"linecolor\":\"white\",\"minorgridcolor\":\"white\",\"startlinecolor\":\"#2a3f5f\"},\"type\":\"carpet\"}],\"choropleth\":[{\"colorbar\":{\"outlinewidth\":0,\"ticks\":\"\"},\"type\":\"choropleth\"}],\"contour\":[{\"colorbar\":{\"outlinewidth\":0,\"ticks\":\"\"},\"colorscale\":[[0.0,\"#0d0887\"],[0.1111111111111111,\"#46039f\"],[0.2222222222222222,\"#7201a8\"],[0.3333333333333333,\"#9c179e\"],[0.4444444444444444,\"#bd3786\"],[0.5555555555555556,\"#d8576b\"],[0.6666666666666666,\"#ed7953\"],[0.7777777777777778,\"#fb9f3a\"],[0.8888888888888888,\"#fdca26\"],[1.0,\"#f0f921\"]],\"type\":\"contour\"}],\"contourcarpet\":[{\"colorbar\":{\"outlinewidth\":0,\"ticks\":\"\"},\"type\":\"contourcarpet\"}],\"heatmap\":[{\"colorbar\":{\"outlinewidth\":0,\"ticks\":\"\"},\"colorscale\":[[0.0,\"#0d0887\"],[0.1111111111111111,\"#46039f\"],[0.2222222222222222,\"#7201a8\"],[0.3333333333333333,\"#9c179e\"],[0.4444444444444444,\"#bd3786\"],[0.5555555555555556,\"#d8576b\"],[0.6666666666666666,\"#ed7953\"],[0.7777777777777778,\"#fb9f3a\"],[0.8888888888888888,\"#fdca26\"],[1.0,\"#f0f921\"]],\"type\":\"heatmap\"}],\"heatmapgl\":[{\"colorbar\":{\"outlinewidth\":0,\"ticks\":\"\"},\"colorscale\":[[0.0,\"#0d0887\"],[0.1111111111111111,\"#46039f\"],[0.2222222222222222,\"#7201a8\"],[0.3333333333333333,\"#9c179e\"],[0.4444444444444444,\"#bd3786\"],[0.5555555555555556,\"#d8576b\"],[0.6666666666666666,\"#ed7953\"],[0.7777777777777778,\"#fb9f3a\"],[0.8888888888888888,\"#fdca26\"],[1.0,\"#f0f921\"]],\"type\":\"heatmapgl\"}],\"histogram\":[{\"marker\":{\"pattern\":{\"fillmode\":\"overlay\",\"size\":10,\"solidity\":0.2}},\"type\":\"histogram\"}],\"histogram2d\":[{\"colorbar\":{\"outlinewidth\":0,\"ticks\":\"\"},\"colorscale\":[[0.0,\"#0d0887\"],[0.1111111111111111,\"#46039f\"],[0.2222222222222222,\"#7201a8\"],[0.3333333333333333,\"#9c179e\"],[0.4444444444444444,\"#bd3786\"],[0.5555555555555556,\"#d8576b\"],[0.6666666666666666,\"#ed7953\"],[0.7777777777777778,\"#fb9f3a\"],[0.8888888888888888,\"#fdca26\"],[1.0,\"#f0f921\"]],\"type\":\"histogram2d\"}],\"histogram2dcontour\":[{\"colorbar\":{\"outlinewidth\":0,\"ticks\":\"\"},\"colorscale\":[[0.0,\"#0d0887\"],[0.1111111111111111,\"#46039f\"],[0.2222222222222222,\"#7201a8\"],[0.3333333333333333,\"#9c179e\"],[0.4444444444444444,\"#bd3786\"],[0.5555555555555556,\"#d8576b\"],[0.6666666666666666,\"#ed7953\"],[0.7777777777777778,\"#fb9f3a\"],[0.8888888888888888,\"#fdca26\"],[1.0,\"#f0f921\"]],\"type\":\"histogram2dcontour\"}],\"mesh3d\":[{\"colorbar\":{\"outlinewidth\":0,\"ticks\":\"\"},\"type\":\"mesh3d\"}],\"parcoords\":[{\"line\":{\"colorbar\":{\"outlinewidth\":0,\"ticks\":\"\"}},\"type\":\"parcoords\"}],\"pie\":[{\"automargin\":true,\"type\":\"pie\"}],\"scatter\":[{\"marker\":{\"colorbar\":{\"outlinewidth\":0,\"ticks\":\"\"}},\"type\":\"scatter\"}],\"scatter3d\":[{\"line\":{\"colorbar\":{\"outlinewidth\":0,\"ticks\":\"\"}},\"marker\":{\"colorbar\":{\"outlinewidth\":0,\"ticks\":\"\"}},\"type\":\"scatter3d\"}],\"scattercarpet\":[{\"marker\":{\"colorbar\":{\"outlinewidth\":0,\"ticks\":\"\"}},\"type\":\"scattercarpet\"}],\"scattergeo\":[{\"marker\":{\"colorbar\":{\"outlinewidth\":0,\"ticks\":\"\"}},\"type\":\"scattergeo\"}],\"scattergl\":[{\"marker\":{\"colorbar\":{\"outlinewidth\":0,\"ticks\":\"\"}},\"type\":\"scattergl\"}],\"scattermapbox\":[{\"marker\":{\"colorbar\":{\"outlinewidth\":0,\"ticks\":\"\"}},\"type\":\"scattermapbox\"}],\"scatterpolar\":[{\"marker\":{\"colorbar\":{\"outlinewidth\":0,\"ticks\":\"\"}},\"type\":\"scatterpolar\"}],\"scatterpolargl\":[{\"marker\":{\"colorbar\":{\"outlinewidth\":0,\"ticks\":\"\"}},\"type\":\"scatterpolargl\"}],\"scatterternary\":[{\"marker\":{\"colorbar\":{\"outlinewidth\":0,\"ticks\":\"\"}},\"type\":\"scatterternary\"}],\"surface\":[{\"colorbar\":{\"outlinewidth\":0,\"ticks\":\"\"},\"colorscale\":[[0.0,\"#0d0887\"],[0.1111111111111111,\"#46039f\"],[0.2222222222222222,\"#7201a8\"],[0.3333333333333333,\"#9c179e\"],[0.4444444444444444,\"#bd3786\"],[0.5555555555555556,\"#d8576b\"],[0.6666666666666666,\"#ed7953\"],[0.7777777777777778,\"#fb9f3a\"],[0.8888888888888888,\"#fdca26\"],[1.0,\"#f0f921\"]],\"type\":\"surface\"}],\"table\":[{\"cells\":{\"fill\":{\"color\":\"#EBF0F8\"},\"line\":{\"color\":\"white\"}},\"header\":{\"fill\":{\"color\":\"#C8D4E3\"},\"line\":{\"color\":\"white\"}},\"type\":\"table\"}]},\"layout\":{\"annotationdefaults\":{\"arrowcolor\":\"#2a3f5f\",\"arrowhead\":0,\"arrowwidth\":1},\"autotypenumbers\":\"strict\",\"coloraxis\":{\"colorbar\":{\"outlinewidth\":0,\"ticks\":\"\"}},\"colorscale\":{\"diverging\":[[0,\"#8e0152\"],[0.1,\"#c51b7d\"],[0.2,\"#de77ae\"],[0.3,\"#f1b6da\"],[0.4,\"#fde0ef\"],[0.5,\"#f7f7f7\"],[0.6,\"#e6f5d0\"],[0.7,\"#b8e186\"],[0.8,\"#7fbc41\"],[0.9,\"#4d9221\"],[1,\"#276419\"]],\"sequential\":[[0.0,\"#0d0887\"],[0.1111111111111111,\"#46039f\"],[0.2222222222222222,\"#7201a8\"],[0.3333333333333333,\"#9c179e\"],[0.4444444444444444,\"#bd3786\"],[0.5555555555555556,\"#d8576b\"],[0.6666666666666666,\"#ed7953\"],[0.7777777777777778,\"#fb9f3a\"],[0.8888888888888888,\"#fdca26\"],[1.0,\"#f0f921\"]],\"sequentialminus\":[[0.0,\"#0d0887\"],[0.1111111111111111,\"#46039f\"],[0.2222222222222222,\"#7201a8\"],[0.3333333333333333,\"#9c179e\"],[0.4444444444444444,\"#bd3786\"],[0.5555555555555556,\"#d8576b\"],[0.6666666666666666,\"#ed7953\"],[0.7777777777777778,\"#fb9f3a\"],[0.8888888888888888,\"#fdca26\"],[1.0,\"#f0f921\"]]},\"colorway\":[\"#636efa\",\"#EF553B\",\"#00cc96\",\"#ab63fa\",\"#FFA15A\",\"#19d3f3\",\"#FF6692\",\"#B6E880\",\"#FF97FF\",\"#FECB52\"],\"font\":{\"color\":\"#2a3f5f\"},\"geo\":{\"bgcolor\":\"white\",\"lakecolor\":\"white\",\"landcolor\":\"#E5ECF6\",\"showlakes\":true,\"showland\":true,\"subunitcolor\":\"white\"},\"hoverlabel\":{\"align\":\"left\"},\"hovermode\":\"closest\",\"mapbox\":{\"style\":\"light\"},\"paper_bgcolor\":\"white\",\"plot_bgcolor\":\"#E5ECF6\",\"polar\":{\"angularaxis\":{\"gridcolor\":\"white\",\"linecolor\":\"white\",\"ticks\":\"\"},\"bgcolor\":\"#E5ECF6\",\"radialaxis\":{\"gridcolor\":\"white\",\"linecolor\":\"white\",\"ticks\":\"\"}},\"scene\":{\"xaxis\":{\"backgroundcolor\":\"#E5ECF6\",\"gridcolor\":\"white\",\"gridwidth\":2,\"linecolor\":\"white\",\"showbackground\":true,\"ticks\":\"\",\"zerolinecolor\":\"white\"},\"yaxis\":{\"backgroundcolor\":\"#E5ECF6\",\"gridcolor\":\"white\",\"gridwidth\":2,\"linecolor\":\"white\",\"showbackground\":true,\"ticks\":\"\",\"zerolinecolor\":\"white\"},\"zaxis\":{\"backgroundcolor\":\"#E5ECF6\",\"gridcolor\":\"white\",\"gridwidth\":2,\"linecolor\":\"white\",\"showbackground\":true,\"ticks\":\"\",\"zerolinecolor\":\"white\"}},\"shapedefaults\":{\"line\":{\"color\":\"#2a3f5f\"}},\"ternary\":{\"aaxis\":{\"gridcolor\":\"white\",\"linecolor\":\"white\",\"ticks\":\"\"},\"baxis\":{\"gridcolor\":\"white\",\"linecolor\":\"white\",\"ticks\":\"\"},\"bgcolor\":\"#E5ECF6\",\"caxis\":{\"gridcolor\":\"white\",\"linecolor\":\"white\",\"ticks\":\"\"}},\"title\":{\"x\":0.05},\"xaxis\":{\"automargin\":true,\"gridcolor\":\"white\",\"linecolor\":\"white\",\"ticks\":\"\",\"title\":{\"standoff\":15},\"zerolinecolor\":\"white\",\"zerolinewidth\":2},\"yaxis\":{\"automargin\":true,\"gridcolor\":\"white\",\"linecolor\":\"white\",\"ticks\":\"\",\"title\":{\"standoff\":15},\"zerolinecolor\":\"white\",\"zerolinewidth\":2}}},\"title\":{\"text\":\"Expected Returns from 2022-01-01 to 2022-02-01\"},\"xaxis\":{\"anchor\":\"y\",\"domain\":[0.0,1.0],\"dtick\":\"M1\",\"tickformat\":\"%b\\n%Y\",\"title\":{\"text\":\"Date\"}},\"yaxis\":{\"anchor\":\"x\",\"domain\":[0.0,1.0],\"title\":{\"text\":\"value\"}}},                        {\"responsive\": true}                    ).then(function(){\n",
       "                            \n",
       "var gd = document.getElementById('c4dfb2d8-696b-4eae-9325-90c5afcaf736');\n",
       "var x = new MutationObserver(function (mutations, observer) {{\n",
       "        var display = window.getComputedStyle(gd).display;\n",
       "        if (!display || display === 'none') {{\n",
       "            console.log([gd, 'removed!']);\n",
       "            Plotly.purge(gd);\n",
       "            observer.disconnect();\n",
       "        }}\n",
       "}});\n",
       "\n",
       "// Listen for the removal of the full notebook cells\n",
       "var notebookContainer = gd.closest('#notebook-container');\n",
       "if (notebookContainer) {{\n",
       "    x.observe(notebookContainer, {childList: true});\n",
       "}}\n",
       "\n",
       "// Listen for the clearing of the current output cell\n",
       "var outputEl = gd.closest('.output');\n",
       "if (outputEl) {{\n",
       "    x.observe(outputEl, {childList: true});\n",
       "}}\n",
       "\n",
       "                        })                };                });            </script>        </div>"
      ]
     },
     "metadata": {},
     "output_type": "display_data"
    }
   ],
   "source": [
    "import plotly.express as px\n",
    "\n",
    "#transp_topNassets = clsETL.transpose_pivot(_topNassets_df)\n",
    "#simple_returns_df = cls_etp.get_simple_returns(piv_marketcap_df)\n",
    "simple_returns_df = clsROR.get_simple_returns(piv_marketcap_df)\n",
    "_min_date = (simple_returns_df[\"Date\"].min()).date()\n",
    "_max_date = (simple_returns_df[\"Date\"].max()).date()\n",
    "_title = \"Expected Returns from \"+str(_min_date)+\" to \"+str(_max_date)\n",
    "fig = px.scatter(simple_returns_df, x=\"Date\", y=simple_returns_df.columns,\n",
    "              hover_data={\"Date\": \"|%B %d, %Y\"},\n",
    "              title=_title)\n",
    "fig.update_xaxes(\n",
    "    dtick=\"M1\",\n",
    "    tickformat=\"%b\\n%Y\")\n",
    "fig.show()"
   ]
  },
  {
   "cell_type": "markdown",
   "id": "88533911",
   "metadata": {},
   "source": [
    "## Holding Period Return"
   ]
  },
  {
   "cell_type": "code",
   "execution_count": null,
   "id": "c65c47d4",
   "metadata": {},
   "outputs": [],
   "source": [
    "hpr_df = clsReturns.get_holding_period_returns(piv_marketcap_df)\n",
    "print(\"holding preriod return from \\n%s to %s\" % (str(start_dt.date()), str(end_dt.date())))\n",
    "print(\"\\n\",hpr_df)"
   ]
  }
 ],
 "metadata": {
  "kernelspec": {
   "display_name": "Python 3 (ipykernel)",
   "language": "python",
   "name": "python3"
  },
  "language_info": {
   "codemirror_mode": {
    "name": "ipython",
    "version": 3
   },
   "file_extension": ".py",
   "mimetype": "text/x-python",
   "name": "python",
   "nbconvert_exporter": "python",
   "pygments_lexer": "ipython3",
   "version": "3.8.10"
  }
 },
 "nbformat": 4,
 "nbformat_minor": 5
}
